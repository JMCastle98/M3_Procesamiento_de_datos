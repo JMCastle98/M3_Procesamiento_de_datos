{
  "nbformat": 4,
  "nbformat_minor": 0,
  "metadata": {
    "colab": {
      "name": "Postwork_03_python.ipynb",
      "provenance": [],
      "collapsed_sections": [],
      "authorship_tag": "ABX9TyM1CjXXnTgXxfEmAurdOnTW",
      "include_colab_link": true
    },
    "kernelspec": {
      "name": "python3",
      "display_name": "Python 3"
    }
  },
  "cells": [
    {
      "cell_type": "markdown",
      "metadata": {
        "id": "view-in-github",
        "colab_type": "text"
      },
      "source": [
        "<a href=\"https://colab.research.google.com/github/LKXoro/BEDU-Rstudio-postworks/blob/main/M3_Postwork3/Postwork_03_python.ipynb\" target=\"_parent\"><img src=\"https://colab.research.google.com/assets/colab-badge.svg\" alt=\"Open In Colab\"/></a>"
      ]
    },
    {
      "cell_type": "markdown",
      "metadata": {
        "id": "S9HFUKuoDphe"
      },
      "source": [
        "# Postwork 03: Colección de datos\r\n",
        "## PandaScore: Una API de eSports\r\n",
        "<p align=\"center\">\r\n",
        "<img src=\"https://pandascore.co/assets/logo_for_twitter-0c1b471a256ce7364533695930bbe657ed3c8b2189f7ea07e60a40b614ebcf4e.png\" alt=PandaScore_logo>\r\n",
        "</p>\r\n",
        "\r\n",
        "[PandaScore](https://pandascore.co/) provee estadísticas en tiempo real sobre eSports. Para lograr esto, recolecta información de enfrentamientos en competencias utilizando inteligencia artificial. \r\n",
        "\r\n",
        "Los datos que ofrece están disponibles en dos formas: \r\n",
        "\r\n",
        "*   Una [API REST](https://www.idento.es/blog/desarrollo-web/que-es-una-api-rest/) donde podemos encontrar toda la cobertura del calendario de eSports, así como estadísticas detallas antes y después de los enfrentamientos.\r\n",
        "*   Una LIVE API: que nos brinda entrega un amplio rango de estadísticas en tiempo real mientras los enfrentamientos se llevan a cabo.\r\n",
        "\r\n",
        "PandaScore ofrece distintos planes de pago, cada uno con mayor accesibilidad. El plan gratuito incluye acceso a la API REST donde podemos encontrar datos sobre los personajes de los juegos, calendarización de los enfrentamientos y datos sobre torneos, equipos y jugadores. Finalmente, es importante tener en cuenta que el plan gratuito permite realizar hasta 1000 peticiones por hora y podemos acceder a información sobre los siguientes juegos:\r\n",
        "\r\n",
        "*   League of legends\r\n",
        "*   CS:GO\r\n",
        "*   Dota 2\r\n",
        "*   Overwatch\r\n",
        "\r\n",
        "\r\n",
        "\r\n",
        "\r\n",
        "\r\n",
        "\r\n",
        "\r\n",
        "\r\n"
      ]
    },
    {
      "cell_type": "markdown",
      "metadata": {
        "id": "yihX-V6QveG1"
      },
      "source": [
        "# ¿Por qué seleccionamos PandaScore?\r\n",
        "\r\n",
        "Seleccionamos PandaScore después de observar el contenido y tipo de datos que nos ofrece. La información que recibimos a más alto nivel es información de los distintos torneos que se han llevado a cabo, dentro podemos encontrar información sobre las diferentes ligas y los enfrentamientos que se dieron. También encontramos especialmente atractivos los campos relacionados con las fechas de inicio y fin, tanto de torneos como de enfrentamientos, así como un campo dedicado a especificar si el torneo o enfrentamiento fue transmitido por internet, y de ser así, información con el URL del stream en diferentes idiomas.\r\n",
        "\r\n",
        "\r\n",
        "\r\n"
      ]
    },
    {
      "cell_type": "markdown",
      "metadata": {
        "id": "oefweoblxMp2"
      },
      "source": [
        "# ¿Cómo podemos realizar peticiones de datos a PandaScore?\r\n",
        "\r\n",
        "Para lograr obtener los datos de PandaScore, primeramente debemos crear una cuenta de forma gratuita, que nos dará el acceso al plan básico. Una vez creada la cuenta se nos brindará un token o llave de acceso como la siguiente:\r\n",
        "\r\n",
        "\r\n",
        "\r\n",
        "```py\r\n",
        "token =  'V3U1fnnWozJi3bbhZfrxdiAmN4-XWnX_4g6i_6iauwwh7w-V8Ns'\r\n",
        "```\r\n",
        "\r\n"
      ]
    },
    {
      "cell_type": "markdown",
      "metadata": {
        "id": "nqje4I7tyI58"
      },
      "source": [
        "Para motivos de ejecución de nuestros códigos, y con la finalidad de que sea de utilidad para otros entusiastas del análisis de datos, de buena fé brindamos nuestro token de acceso para que, de ahora en adelante, podamos realizar las peticiones de datos a PandaScore.\r\n",
        "\r\n",
        "Ya que este módulo esta enfocado al lenguaje [python](https://www.python.org/), recurrimos al paquete [request](https://realpython.com/python-requests/), idóneo para hacer peticiones http en python, ofreciendo instrucciones sencillas para enfocarnos en interactuar con los servicios y consumir los datos en nuestras aplicaciones.\r\n",
        "\r\n",
        "<p align=\"center\">\r\n",
        "<img src=\"https://files.realpython.com/media/Python-Requests-Library-Tutorial_Watermarked.3c9dfdc7b014.jpg\" height = '300' alt=requests>\r\n",
        "</p>\r\n",
        "\r\n",
        "\r\n"
      ]
    },
    {
      "cell_type": "markdown",
      "metadata": {
        "id": "Keubjp7v0jKR"
      },
      "source": [
        "## Formato de URL para peticiones a PandaScore\r\n",
        "\r\n",
        "Antes de utilizar propiamente _request_, explicaremos el formato de URL que utilizaremos para ello. Como lo indica la [documentación](https://developers.pandascore.co/docs/tutorials/request_conditions) propia de PandaScore, la URL generalmente tiene el siguiente formato:\r\n",
        "\r\n",
        "```py\r\n",
        "url = \"https://api.pandascore.co/[game]/[information]?page[number]=2&page[size]=50&token=[YOUR_TOKEN]\"\r\n",
        "```\r\n",
        "\r\n",
        "Los parámetros que podemos modificar son los siguientes:\r\n",
        "\r\n",
        "\r\n",
        "*   **[game]**: Dependiendo de la sintáxis de este parámetros se devuelve información de los diferentes juegos:\r\n",
        "  * League of legends: 'lol'\r\n",
        "  * Dota 2: 'dota2'\r\n",
        "  * CS:GO: 'csgo'\r\n",
        "  * Overwatch: 'overwatch'  \r\n",
        "*   **[information]**: Acceso a información de:\r\n",
        "  * Ligas: 'leagues' Son los eventos de mayor nivel, no tienen como tal una fecha y representan una competencia. Una liga se compone de varias _series_. Por ejemplo en deportes sería equivalente a la copa mundial de fútbol.\r\n",
        "  * Series: 'series' Es una instancia de una liga, desde la fase de grupos hasta los _playoff_ finales. Ejemplo: Copa mundial de fútbol 2018\r\n",
        "  * Torneos: 'tournaments' Los torneos son la manera en que los enfrentamientos son divividos en grupos para cada fase de la serie, habrá un torneo por grupo incluyendo la final. Ejemplo: Copa mundial de fútbol 2018 - Grupo C\r\n",
        "  * Enfrentamientos: 'matches' Finalmente tenemos los enfrentamientos, entre dos oponentes y compuestos de varias partidas. Algunos enfrentamientos pueden reflejarse como \"TBD vs TBD\" cuando se conoce la fecha del enfrentamiento pero no al oponente del equipo. Ejemplo: Copa mundial de fútbol 2018 - Grupo C - Dinamarca vs Australia (1 juego)\r\n",
        "  * Equipos: 'teams' Los nombres de los equipos que participan en estos eventos.\r\n",
        "*   **Page[size]**: Este parámetro indica el número de resultados que se nos debe entregar en cada petición, el número de resultados máximos es de 100.\r\n",
        "*   **Page[number]** Indica el número de página de la petición, entre menor sea el número de resultados, mayor será el número de páginas.\r\n",
        "*   **[YOUR_TOKEN]**: Este parámetro debe ser sustituido por nuestra clave de acceso, la cual se nos brinda al crear una cuenta en PandaScore\r\n",
        "\r\n",
        "Ahora bien, ya que conocemos la sintáxis adecuada para la URL, podemos llamar al paquete request y hacer uso de el:\r\n",
        "\r\n",
        "\r\n",
        "\r\n",
        "\r\n",
        "\r\n"
      ]
    },
    {
      "cell_type": "code",
      "metadata": {
        "colab": {
          "base_uri": "https://localhost:8080/"
        },
        "id": "IfpEiKxS071b",
        "outputId": "18603002-f1c3-4b08-9c81-c1c325df2dfd"
      },
      "source": [
        "import requests #impotamos el paquete\r\n",
        "#Parámetros deseados\r\n",
        "juego = 'lol' #Queremos información de League of Legends\r\n",
        "información = 'tournaments' #Los datos deben corresponder a torneos\r\n",
        "registros = 100  #Queremos 100 registros por hoja\r\n",
        "token =  'V3U1fnnWozJi3bbhZfrxdiAmN4-XWnX_4g6i_6iauwwh7w-V8Ns'\r\n",
        "# Aprovecharemos las bondades de los f string para introducir los parámetros\r\n",
        "url = f\"https://api.pandascore.co/{juego}/{información}?page[size]={registros}&token=V3U1fnnWozJi3bbhZfrxdiAmN4-XWnX_4g6i_6iauwwh7w-V8Ns\"\r\n",
        "#Por defecto si page[number] no es indicado, se nos devuelve la primer página\r\n",
        "response = requests.get(url) #Realizamos la petición de información con el método get()\r\n",
        "response.status_code #Verificamos el resultado de nuestra solicitud"
      ],
      "execution_count": 30,
      "outputs": [
        {
          "output_type": "execute_result",
          "data": {
            "text/plain": [
              "200"
            ]
          },
          "metadata": {
            "tags": []
          },
          "execution_count": 30
        }
      ]
    },
    {
      "cell_type": "markdown",
      "metadata": {
        "id": "rE9gpO1C55Ac"
      },
      "source": [
        "Como podemos observar, obtuvimos una código de respuesta 200, ¡lo que indica que todo salió bien! la documentación también señala que dentro de la respuesta que obtuvimos podemos encontrar _headers_ con información útil como el total de registros que es posible obtener o el número de página en el que nos encontramos, a continuación de muestran los header de nuestra petición:"
      ]
    },
    {
      "cell_type": "code",
      "metadata": {
        "colab": {
          "base_uri": "https://localhost:8080/"
        },
        "id": "MLZyOodS7Gj3",
        "outputId": "32de98b1-2851-4fc5-eb7e-21747621dd51"
      },
      "source": [
        "print(response.headers['X-Page']) # Número de página\r\n",
        "print(response.headers['X-Total']) # Total de registros\r\n",
        "print(response.headers['X-Per-Page']) # Registros por página"
      ],
      "execution_count": 31,
      "outputs": [
        {
          "output_type": "stream",
          "text": [
            "1\n",
            "823\n",
            "100\n"
          ],
          "name": "stdout"
        }
      ]
    },
    {
      "cell_type": "markdown",
      "metadata": {
        "id": "QqqG-Rcm6YR8"
      },
      "source": [
        "Ahora para observar los datos que se nos devolvieron nos apoyaremos en el método json() y el paquete pandas, la información en _crudo_ que recibimos luce más o menos así:"
      ]
    },
    {
      "cell_type": "code",
      "metadata": {
        "colab": {
          "base_uri": "https://localhost:8080/"
        },
        "id": "Ka05aHVByIg_",
        "outputId": "2f0d1bb6-2688-486c-a6a4-a77e231c7f9d"
      },
      "source": [
        "data = response.json()\r\n",
        "data[0] # El método json devuelve una lista de diccionarios, entonces llamamos al primer elemento para ver su contenido\r\n",
        "#Ya que la información que solicitamos es sbre torneos, la información devuelta es sobre el torneo más reciente"
      ],
      "execution_count": 32,
      "outputs": [
        {
          "output_type": "execute_result",
          "data": {
            "text/plain": [
              "{'begin_at': '2021-03-09T16:30:00Z',\n",
              " 'end_at': None,\n",
              " 'id': 5617,\n",
              " 'league': {'id': 4300,\n",
              "  'image_url': 'https://cdn.pandascore.co/images/league/image/4300/220px-Ultraliga.PNG',\n",
              "  'modified_at': '2020-01-18T11:05:05Z',\n",
              "  'name': 'Ultraliga',\n",
              "  'slug': 'league-of-legends-ultraliga',\n",
              "  'url': 'https://www.ultraliga.pl/'},\n",
              " 'league_id': 4300,\n",
              " 'live_supported': False,\n",
              " 'matches': [{'begin_at': '2021-03-09T16:30:00Z',\n",
              "   'detailed_stats': True,\n",
              "   'draw': False,\n",
              "   'end_at': None,\n",
              "   'forfeit': False,\n",
              "   'game_advantage': None,\n",
              "   'id': 585713,\n",
              "   'live': {'opens_at': None, 'supported': False, 'url': None},\n",
              "   'live_embed_url': None,\n",
              "   'match_type': 'best_of',\n",
              "   'modified_at': '2021-03-04T07:05:18Z',\n",
              "   'name': 'Winners round 1: IHG vs PT7',\n",
              "   'number_of_games': 5,\n",
              "   'official_stream_url': None,\n",
              "   'original_scheduled_at': '2021-03-09T16:30:00Z',\n",
              "   'rescheduled': False,\n",
              "   'scheduled_at': '2021-03-09T16:30:00Z',\n",
              "   'slug': 'illuminar-gaming-vs-7more7-pompa-team-2021-03-09',\n",
              "   'status': 'not_started',\n",
              "   'streams': {'english': {'embed_url': None, 'raw_url': None},\n",
              "    'official': {'embed_url': None, 'raw_url': None},\n",
              "    'russian': {'embed_url': None, 'raw_url': None}},\n",
              "   'tournament_id': 5617,\n",
              "   'winner_id': None},\n",
              "  {'begin_at': '2021-03-10T16:30:00Z',\n",
              "   'detailed_stats': True,\n",
              "   'draw': False,\n",
              "   'end_at': None,\n",
              "   'forfeit': False,\n",
              "   'game_advantage': None,\n",
              "   'id': 585712,\n",
              "   'live': {'opens_at': None, 'supported': False, 'url': None},\n",
              "   'live_embed_url': None,\n",
              "   'match_type': 'best_of',\n",
              "   'modified_at': '2021-03-04T07:04:49Z',\n",
              "   'name': 'Losers round 1: K1 vs DV1',\n",
              "   'number_of_games': 5,\n",
              "   'official_stream_url': None,\n",
              "   'original_scheduled_at': '2021-03-10T16:30:00Z',\n",
              "   'rescheduled': False,\n",
              "   'scheduled_at': '2021-03-10T16:30:00Z',\n",
              "   'slug': 'k1ck-neosurf-vs-devils-one-2021-03-10',\n",
              "   'status': 'not_started',\n",
              "   'streams': {'english': {'embed_url': None, 'raw_url': None},\n",
              "    'official': {'embed_url': None, 'raw_url': None},\n",
              "    'russian': {'embed_url': None, 'raw_url': None}},\n",
              "   'tournament_id': 5617,\n",
              "   'winner_id': None}],\n",
              " 'modified_at': '2021-03-04T07:03:57Z',\n",
              " 'name': 'Playoffs',\n",
              " 'prizepool': None,\n",
              " 'serie': {'begin_at': '2021-01-19T16:30:00Z',\n",
              "  'description': None,\n",
              "  'end_at': None,\n",
              "  'full_name': 'Spring 2021',\n",
              "  'id': 3267,\n",
              "  'league_id': 4300,\n",
              "  'modified_at': '2021-02-16T20:43:14Z',\n",
              "  'name': '',\n",
              "  'season': 'Spring',\n",
              "  'slug': 'league-of-legends-ultraliga-summer-2021',\n",
              "  'tier': 'c',\n",
              "  'winner_id': None,\n",
              "  'winner_type': None,\n",
              "  'year': 2021},\n",
              " 'serie_id': 3267,\n",
              " 'slug': 'league-of-legends-ultraliga-summer-2021-playoffs',\n",
              " 'teams': [{'acronym': 'IHG',\n",
              "   'id': 2718,\n",
              "   'image_url': 'https://cdn.pandascore.co/images/team/image/2718/300px-Illuminar_Gaminglogo_square.png',\n",
              "   'location': 'PL',\n",
              "   'modified_at': '2021-03-04T07:03:44Z',\n",
              "   'name': 'Illuminar Gaming',\n",
              "   'slug': 'illuminar-gaming'},\n",
              "  {'acronym': 'DV1',\n",
              "   'id': 125875,\n",
              "   'image_url': 'https://cdn.pandascore.co/images/team/image/125875/900px-Devils_one_logo_big.png',\n",
              "   'location': 'PL',\n",
              "   'modified_at': '2021-03-04T07:03:44Z',\n",
              "   'name': 'devils.one',\n",
              "   'slug': 'devils-one-league-of-legends'},\n",
              "  {'acronym': 'RGO',\n",
              "   'id': 126717,\n",
              "   'image_url': 'https://cdn.pandascore.co/images/team/image/126717/220px_ago_rogu_elogo_square.png',\n",
              "   'location': 'PL',\n",
              "   'modified_at': '2021-03-04T07:03:57Z',\n",
              "   'name': 'AGO ROGUE',\n",
              "   'slug': 'ago-rogue'},\n",
              "  {'acronym': 'K1',\n",
              "   'id': 126818,\n",
              "   'image_url': 'https://cdn.pandascore.co/images/team/image/126818/k1ck_neosurflogo_square.png',\n",
              "   'location': 'PT',\n",
              "   'modified_at': '2021-03-04T07:03:43Z',\n",
              "   'name': 'K1ck Neosurf',\n",
              "   'slug': 'k1ck-esports-club'},\n",
              "  {'acronym': 'PT7',\n",
              "   'id': 127502,\n",
              "   'image_url': 'https://cdn.pandascore.co/images/team/image/127502/220px_7more7_pompa_teamlogo_square.png',\n",
              "   'location': 'PL',\n",
              "   'modified_at': '2021-03-04T07:03:46Z',\n",
              "   'name': '7more7 Pompa Team',\n",
              "   'slug': '7more7-pompa-team'}],\n",
              " 'videogame': {'id': 1, 'name': 'LoL', 'slug': 'league-of-legends'},\n",
              " 'winner_id': None,\n",
              " 'winner_type': 'Team'}"
            ]
          },
          "metadata": {
            "tags": []
          },
          "execution_count": 32
        }
      ]
    },
    {
      "cell_type": "markdown",
      "metadata": {
        "id": "4elIKHzj8wqo"
      },
      "source": [
        "¡oh rayos! esos son muchos campos, y más importante, tenemos listas dentro de los diccionarios. Antes de entrar en pánico intentemos ver como luce en un Dataframe de pandas:"
      ]
    },
    {
      "cell_type": "code",
      "metadata": {
        "colab": {
          "base_uri": "https://localhost:8080/",
          "height": 643
        },
        "id": "ZiXHEi0l9IJx",
        "outputId": "1f881921-31e0-4977-9229-99c58e516289"
      },
      "source": [
        "import pandas as pd #importamos el paquete pandas\r\n",
        "df_torneos = pd.DataFrame.from_dict(data) #utilizamos el método Dataframe.from_dict() que es capaz de convertir listas de diccionarios a df\r\n",
        "df_torneos.head() #Observemos las primeras filas del df"
      ],
      "execution_count": 33,
      "outputs": [
        {
          "output_type": "execute_result",
          "data": {
            "text/html": [
              "<div>\n",
              "<style scoped>\n",
              "    .dataframe tbody tr th:only-of-type {\n",
              "        vertical-align: middle;\n",
              "    }\n",
              "\n",
              "    .dataframe tbody tr th {\n",
              "        vertical-align: top;\n",
              "    }\n",
              "\n",
              "    .dataframe thead th {\n",
              "        text-align: right;\n",
              "    }\n",
              "</style>\n",
              "<table border=\"1\" class=\"dataframe\">\n",
              "  <thead>\n",
              "    <tr style=\"text-align: right;\">\n",
              "      <th></th>\n",
              "      <th>begin_at</th>\n",
              "      <th>end_at</th>\n",
              "      <th>id</th>\n",
              "      <th>league</th>\n",
              "      <th>league_id</th>\n",
              "      <th>live_supported</th>\n",
              "      <th>matches</th>\n",
              "      <th>modified_at</th>\n",
              "      <th>name</th>\n",
              "      <th>prizepool</th>\n",
              "      <th>serie</th>\n",
              "      <th>serie_id</th>\n",
              "      <th>slug</th>\n",
              "      <th>teams</th>\n",
              "      <th>videogame</th>\n",
              "      <th>winner_id</th>\n",
              "      <th>winner_type</th>\n",
              "    </tr>\n",
              "  </thead>\n",
              "  <tbody>\n",
              "    <tr>\n",
              "      <th>0</th>\n",
              "      <td>2021-03-09T16:30:00Z</td>\n",
              "      <td>None</td>\n",
              "      <td>5617</td>\n",
              "      <td>{'id': 4300, 'image_url': 'https://cdn.pandasc...</td>\n",
              "      <td>4300</td>\n",
              "      <td>False</td>\n",
              "      <td>[{'begin_at': '2021-03-09T16:30:00Z', 'detaile...</td>\n",
              "      <td>2021-03-04T07:03:57Z</td>\n",
              "      <td>Playoffs</td>\n",
              "      <td>None</td>\n",
              "      <td>{'begin_at': '2021-01-19T16:30:00Z', 'descript...</td>\n",
              "      <td>3267</td>\n",
              "      <td>league-of-legends-ultraliga-summer-2021-playoffs</td>\n",
              "      <td>[{'acronym': 'IHG', 'id': 2718, 'image_url': '...</td>\n",
              "      <td>{'id': 1, 'name': 'LoL', 'slug': 'league-of-le...</td>\n",
              "      <td>NaN</td>\n",
              "      <td>Team</td>\n",
              "    </tr>\n",
              "    <tr>\n",
              "      <th>1</th>\n",
              "      <td>2021-03-09T18:00:00Z</td>\n",
              "      <td>2021-03-23T23:00:00Z</td>\n",
              "      <td>5616</td>\n",
              "      <td>{'id': 4402, 'image_url': 'https://cdn.pandasc...</td>\n",
              "      <td>4402</td>\n",
              "      <td>False</td>\n",
              "      <td>[{'begin_at': '2021-03-09T18:00:00Z', 'detaile...</td>\n",
              "      <td>2021-03-03T11:07:33Z</td>\n",
              "      <td>Playoffs</td>\n",
              "      <td>None</td>\n",
              "      <td>{'begin_at': '2021-01-12T18:00:00Z', 'descript...</td>\n",
              "      <td>3249</td>\n",
              "      <td>league-of-legends-dutch-league-spring-2021-pla...</td>\n",
              "      <td>[{'acronym': 'EZ', 'id': 3343, 'image_url': 'h...</td>\n",
              "      <td>{'id': 1, 'name': 'LoL', 'slug': 'league-of-le...</td>\n",
              "      <td>NaN</td>\n",
              "      <td>Team</td>\n",
              "    </tr>\n",
              "    <tr>\n",
              "      <th>2</th>\n",
              "      <td>2021-03-29T08:00:00Z</td>\n",
              "      <td>2021-04-09T14:00:00Z</td>\n",
              "      <td>5615</td>\n",
              "      <td>{'id': 4142, 'image_url': 'https://cdn.pandasc...</td>\n",
              "      <td>4142</td>\n",
              "      <td>False</td>\n",
              "      <td>[{'begin_at': '2021-03-29T08:00:00Z', 'detaile...</td>\n",
              "      <td>2021-03-03T11:01:03Z</td>\n",
              "      <td>Playoffs</td>\n",
              "      <td>None</td>\n",
              "      <td>{'begin_at': '2021-01-18T08:00:00Z', 'descript...</td>\n",
              "      <td>3259</td>\n",
              "      <td>league-of-legends-challenger-korea-lck-cl-spri...</td>\n",
              "      <td>[]</td>\n",
              "      <td>{'id': 1, 'name': 'LoL', 'slug': 'league-of-le...</td>\n",
              "      <td>NaN</td>\n",
              "      <td>Team</td>\n",
              "    </tr>\n",
              "    <tr>\n",
              "      <th>3</th>\n",
              "      <td>2021-03-27T16:00:00Z</td>\n",
              "      <td>2021-04-18T21:00:00Z</td>\n",
              "      <td>5614</td>\n",
              "      <td>{'id': 302, 'image_url': 'https://cdn.pandasco...</td>\n",
              "      <td>302</td>\n",
              "      <td>True</td>\n",
              "      <td>[{'begin_at': '2021-03-27T16:00:00Z', 'detaile...</td>\n",
              "      <td>2021-03-04T08:53:53Z</td>\n",
              "      <td>Playoffs</td>\n",
              "      <td>None</td>\n",
              "      <td>{'begin_at': '2021-01-16T16:00:00Z', 'descript...</td>\n",
              "      <td>3240</td>\n",
              "      <td>league-of-legends-cblol-brazil-split-1-2021-pl...</td>\n",
              "      <td>[{'acronym': 'RCC', 'id': 161, 'image_url': 'h...</td>\n",
              "      <td>{'id': 1, 'name': 'LoL', 'slug': 'league-of-le...</td>\n",
              "      <td>NaN</td>\n",
              "      <td>Team</td>\n",
              "    </tr>\n",
              "    <tr>\n",
              "      <th>4</th>\n",
              "      <td>2021-03-08T18:00:00Z</td>\n",
              "      <td>None</td>\n",
              "      <td>5609</td>\n",
              "      <td>{'id': 4401, 'image_url': 'https://cdn.pandasc...</td>\n",
              "      <td>4401</td>\n",
              "      <td>False</td>\n",
              "      <td>[{'begin_at': '2021-03-08T18:00:00Z', 'detaile...</td>\n",
              "      <td>2021-03-02T09:58:05Z</td>\n",
              "      <td>Playoffs</td>\n",
              "      <td>None</td>\n",
              "      <td>{'begin_at': '2021-01-11T18:00:00Z', 'descript...</td>\n",
              "      <td>3248</td>\n",
              "      <td>league-of-legends-belgian-league-spring-2021-p...</td>\n",
              "      <td>[{'acronym': 'S1', 'id': 127272, 'image_url': ...</td>\n",
              "      <td>{'id': 1, 'name': 'LoL', 'slug': 'league-of-le...</td>\n",
              "      <td>NaN</td>\n",
              "      <td>Team</td>\n",
              "    </tr>\n",
              "  </tbody>\n",
              "</table>\n",
              "</div>"
            ],
            "text/plain": [
              "               begin_at                end_at  ...  winner_id winner_type\n",
              "0  2021-03-09T16:30:00Z                  None  ...        NaN        Team\n",
              "1  2021-03-09T18:00:00Z  2021-03-23T23:00:00Z  ...        NaN        Team\n",
              "2  2021-03-29T08:00:00Z  2021-04-09T14:00:00Z  ...        NaN        Team\n",
              "3  2021-03-27T16:00:00Z  2021-04-18T21:00:00Z  ...        NaN        Team\n",
              "4  2021-03-08T18:00:00Z                  None  ...        NaN        Team\n",
              "\n",
              "[5 rows x 17 columns]"
            ]
          },
          "metadata": {
            "tags": []
          },
          "execution_count": 33
        }
      ]
    },
    {
      "cell_type": "markdown",
      "metadata": {
        "id": "y0K3pGOm-NAR"
      },
      "source": [
        "Nos encontramos con campos bastante amigables como las fechas de inicio y término de los torneos, el id del torneo, un campo para saber si fue transmitido en vivo, última actualización del registro, nombre del torneo y _slug_ (creemos hace referencia al nombre promocional del torneo, tenemos también el tipo de ganador del torneo y su id.  \r\n",
        "\r\n",
        "Además, nos encontramos con cierta información en forma de listas dentro de campos, la cual es de difícil acceso y ciertamente algo confusa a la vista. Aunque quizás PandaScore ya nos haya brindado una solución a esto (uff).\r\n",
        "\r\n",
        "Intentemos entonces solicitar a PandaScore esa información:"
      ]
    },
    {
      "cell_type": "code",
      "metadata": {
        "colab": {
          "base_uri": "https://localhost:8080/"
        },
        "id": "NyYMBRx5_why",
        "outputId": "3ff4b474-84a0-471e-85a2-05766e69774d"
      },
      "source": [
        "información2 = 'leagues' #Cambiamos el tipo de información requerida\r\n",
        "\r\n",
        "url2 = f\"https://api.pandascore.co/{juego}/{información2}?page[size]={registros}&token=V3U1fnnWozJi3bbhZfrxdiAmN4-XWnX_4g6i_6iauwwh7w-V8Ns\"\r\n",
        "\r\n",
        "response2 = requests.get(url2) \r\n",
        "response.status_code "
      ],
      "execution_count": 40,
      "outputs": [
        {
          "output_type": "execute_result",
          "data": {
            "text/plain": [
              "200"
            ]
          },
          "metadata": {
            "tags": []
          },
          "execution_count": 40
        }
      ]
    },
    {
      "cell_type": "markdown",
      "metadata": {
        "id": "iyf0ccgvAMqK"
      },
      "source": [
        "PandaScore ha respondido con un código 200, veamos que nos devolvió:"
      ]
    },
    {
      "cell_type": "code",
      "metadata": {
        "colab": {
          "base_uri": "https://localhost:8080/"
        },
        "id": "toAFBOeKAaLR",
        "outputId": "fe4f81c8-4177-4ab6-c5ff-4d5853754642"
      },
      "source": [
        "print(response2.headers['X-Page']) # Número de página\r\n",
        "print(response2.headers['X-Total']) # Total de registros\r\n",
        "print(response2.headers['X-Per-Page']) # Registros por página"
      ],
      "execution_count": 41,
      "outputs": [
        {
          "output_type": "stream",
          "text": [
            "1\n",
            "67\n",
            "100\n"
          ],
          "name": "stdout"
        }
      ]
    },
    {
      "cell_type": "markdown",
      "metadata": {
        "id": "VgveOzmoAdrE"
      },
      "source": [
        "Tenemos en nuestras manos la primer página, y aparentemente la única al haber solicitado 100 registros y tener en total 67. Veamos el primer elemento:"
      ]
    },
    {
      "cell_type": "code",
      "metadata": {
        "colab": {
          "base_uri": "https://localhost:8080/"
        },
        "id": "EgN6HLSMAMPP",
        "outputId": "feae707a-1c01-487d-e342-0e09c7a8d53e"
      },
      "source": [
        "data2 = response2.json()\r\n",
        "data2[0] "
      ],
      "execution_count": 20,
      "outputs": [
        {
          "output_type": "execute_result",
          "data": {
            "text/plain": [
              "{'id': 4539,\n",
              " 'image_url': 'https://cdn.pandascore.co/images/league/image/4539/LCO_logo.png',\n",
              " 'modified_at': '2021-02-18T10:32:45Z',\n",
              " 'name': 'LCO',\n",
              " 'series': [{'begin_at': '2021-02-23T07:00:00Z',\n",
              "   'description': None,\n",
              "   'end_at': '2021-04-09T22:00:00Z',\n",
              "   'full_name': 'Split 1 2021',\n",
              "   'id': 3361,\n",
              "   'league_id': 4539,\n",
              "   'modified_at': '2021-02-18T11:40:54Z',\n",
              "   'name': 'Split 1',\n",
              "   'season': None,\n",
              "   'slug': 'league-of-legends-lco-split-1-2021',\n",
              "   'tier': 'c',\n",
              "   'winner_id': None,\n",
              "   'winner_type': None,\n",
              "   'year': 2021}],\n",
              " 'slug': 'league-of-legends-lco',\n",
              " 'url': 'https://lco.gg/',\n",
              " 'videogame': {'current_version': '11.5.1',\n",
              "  'id': 1,\n",
              "  'name': 'LoL',\n",
              "  'slug': 'league-of-legends'}}"
            ]
          },
          "metadata": {
            "tags": []
          },
          "execution_count": 20
        }
      ]
    },
    {
      "cell_type": "markdown",
      "metadata": {
        "id": "axWXN6x1AtV8"
      },
      "source": [
        "Tenemos un diccionario con menos campos, exploremos más a fondo con el dataframe:"
      ]
    },
    {
      "cell_type": "code",
      "metadata": {
        "colab": {
          "base_uri": "https://localhost:8080/",
          "height": 293
        },
        "id": "7cchXKHbAs6w",
        "outputId": "22a6d105-8126-4ff5-8afb-31d4784a27f8"
      },
      "source": [
        "df_ligas = pd.DataFrame.from_dict(data2) #utilizamos el método Dataframe.from_dict() que es capaz de convertir listas de diccionarios a df\r\n",
        "df_ligas.head() #Observemos las primeras filas del df"
      ],
      "execution_count": 21,
      "outputs": [
        {
          "output_type": "execute_result",
          "data": {
            "text/html": [
              "<div>\n",
              "<style scoped>\n",
              "    .dataframe tbody tr th:only-of-type {\n",
              "        vertical-align: middle;\n",
              "    }\n",
              "\n",
              "    .dataframe tbody tr th {\n",
              "        vertical-align: top;\n",
              "    }\n",
              "\n",
              "    .dataframe thead th {\n",
              "        text-align: right;\n",
              "    }\n",
              "</style>\n",
              "<table border=\"1\" class=\"dataframe\">\n",
              "  <thead>\n",
              "    <tr style=\"text-align: right;\">\n",
              "      <th></th>\n",
              "      <th>id</th>\n",
              "      <th>image_url</th>\n",
              "      <th>modified_at</th>\n",
              "      <th>name</th>\n",
              "      <th>series</th>\n",
              "      <th>slug</th>\n",
              "      <th>url</th>\n",
              "      <th>videogame</th>\n",
              "    </tr>\n",
              "  </thead>\n",
              "  <tbody>\n",
              "    <tr>\n",
              "      <th>0</th>\n",
              "      <td>4539</td>\n",
              "      <td>https://cdn.pandascore.co/images/league/image/...</td>\n",
              "      <td>2021-02-18T10:32:45Z</td>\n",
              "      <td>LCO</td>\n",
              "      <td>[{'begin_at': '2021-02-23T07:00:00Z', 'descrip...</td>\n",
              "      <td>league-of-legends-lco</td>\n",
              "      <td>https://lco.gg/</td>\n",
              "      <td>{'current_version': '11.5.1', 'id': 1, 'name':...</td>\n",
              "    </tr>\n",
              "    <tr>\n",
              "      <th>1</th>\n",
              "      <td>4533</td>\n",
              "      <td>https://cdn.pandascore.co/images/league/image/...</td>\n",
              "      <td>2021-02-05T14:07:43Z</td>\n",
              "      <td>CBLOL Academy</td>\n",
              "      <td>[{'begin_at': '2021-01-19T19:00:00Z', 'descrip...</td>\n",
              "      <td>league-of-legends-cblol-academy</td>\n",
              "      <td>None</td>\n",
              "      <td>{'current_version': '11.5.1', 'id': 1, 'name':...</td>\n",
              "    </tr>\n",
              "    <tr>\n",
              "      <th>2</th>\n",
              "      <td>4483</td>\n",
              "      <td>https://cdn.pandascore.co/images/league/image/...</td>\n",
              "      <td>2020-10-23T11:26:58Z</td>\n",
              "      <td>Iberian Cup</td>\n",
              "      <td>[{'begin_at': '2020-10-09T22:00:00Z', 'descrip...</td>\n",
              "      <td>league-of-legends-iberian-cup</td>\n",
              "      <td>https://iberiancup.lvp.global/</td>\n",
              "      <td>{'current_version': '11.5.1', 'id': 1, 'name':...</td>\n",
              "    </tr>\n",
              "    <tr>\n",
              "      <th>3</th>\n",
              "      <td>4450</td>\n",
              "      <td>https://cdn.pandascore.co/images/league/image/...</td>\n",
              "      <td>2020-08-08T09:14:04Z</td>\n",
              "      <td>Baltic Masters</td>\n",
              "      <td>[{'begin_at': '2020-08-11T15:00:00Z', 'descrip...</td>\n",
              "      <td>league-of-legends-baltic-masters</td>\n",
              "      <td>None</td>\n",
              "      <td>{'current_version': '11.5.1', 'id': 1, 'name':...</td>\n",
              "    </tr>\n",
              "    <tr>\n",
              "      <th>4</th>\n",
              "      <td>4433</td>\n",
              "      <td>https://cdn.pandascore.co/images/league/image/...</td>\n",
              "      <td>2020-06-29T21:14:29Z</td>\n",
              "      <td>Hitpoint Masters</td>\n",
              "      <td>[{'begin_at': '2020-06-21T12:30:00Z', 'descrip...</td>\n",
              "      <td>league-of-legends-hitpoint-masters</td>\n",
              "      <td>https://hitpoint.cz/</td>\n",
              "      <td>{'current_version': '11.5.1', 'id': 1, 'name':...</td>\n",
              "    </tr>\n",
              "  </tbody>\n",
              "</table>\n",
              "</div>"
            ],
            "text/plain": [
              "     id  ...                                          videogame\n",
              "0  4539  ...  {'current_version': '11.5.1', 'id': 1, 'name':...\n",
              "1  4533  ...  {'current_version': '11.5.1', 'id': 1, 'name':...\n",
              "2  4483  ...  {'current_version': '11.5.1', 'id': 1, 'name':...\n",
              "3  4450  ...  {'current_version': '11.5.1', 'id': 1, 'name':...\n",
              "4  4433  ...  {'current_version': '11.5.1', 'id': 1, 'name':...\n",
              "\n",
              "[5 rows x 8 columns]"
            ]
          },
          "metadata": {
            "tags": []
          },
          "execution_count": 21
        }
      ]
    },
    {
      "cell_type": "markdown",
      "metadata": {
        "id": "ZHZFDCq6B-41"
      },
      "source": [
        "Inspeccionando un poco nos encontramos que los datos devueltos en una solicitud de _ligas_ es diferentes al campo _liga_ de los torneos, es bueno saber esto para evitar confusiones. Antes de pensar en las posibilidades, veamos las 3 solicitudes restantes que podemos observar:"
      ]
    },
    {
      "cell_type": "code",
      "metadata": {
        "colab": {
          "base_uri": "https://localhost:8080/"
        },
        "id": "41U5dHkVBlpX",
        "outputId": "29ae4531-dee4-40b7-d8ee-b34df385e7a2"
      },
      "source": [
        "información3 = 'series' \r\n",
        "información4 = 'matches'\r\n",
        "información5 = 'teams'\r\n",
        "\r\n",
        "url3 = f\"https://api.pandascore.co/{juego}/{información3}?page[size]={registros}&token=V3U1fnnWozJi3bbhZfrxdiAmN4-XWnX_4g6i_6iauwwh7w-V8Ns\"\r\n",
        "url4 = f\"https://api.pandascore.co/{juego}/{información4}?page[size]={registros}&token=V3U1fnnWozJi3bbhZfrxdiAmN4-XWnX_4g6i_6iauwwh7w-V8Ns\"\r\n",
        "url5 = f\"https://api.pandascore.co/{juego}/{información5}?page[size]={registros}&token=V3U1fnnWozJi3bbhZfrxdiAmN4-XWnX_4g6i_6iauwwh7w-V8Ns\"\r\n",
        " \r\n",
        "response3 = requests.get(url3) \r\n",
        "response4 = requests.get(url4) \r\n",
        "response5 = requests.get(url5) \r\n",
        "\r\n",
        "print(response3.status_code)\r\n",
        "print(response4.status_code)\r\n",
        "print(response5.status_code)\r\n",
        "\r\n"
      ],
      "execution_count": 43,
      "outputs": [
        {
          "output_type": "stream",
          "text": [
            "200\n",
            "200\n",
            "200\n"
          ],
          "name": "stdout"
        }
      ]
    },
    {
      "cell_type": "markdown",
      "metadata": {
        "id": "TPcjJX0hDluA"
      },
      "source": [
        "Parece que todo salió bien con las peticiones, veamos los dataframes:"
      ]
    },
    {
      "cell_type": "code",
      "metadata": {
        "id": "v53cPXJhDp1h"
      },
      "source": [
        "data3 = response3.json()\r\n",
        "data4 = response4.json()\r\n",
        "data5 = response5.json()\r\n",
        "\r\n",
        "df_series = pd.DataFrame.from_dict(data3)\r\n",
        "df_enfrentamientos = pd.DataFrame.from_dict(data4)\r\n",
        "df_equipos = pd.DataFrame.from_dict(data5)"
      ],
      "execution_count": 44,
      "outputs": []
    },
    {
      "cell_type": "code",
      "metadata": {
        "colab": {
          "base_uri": "https://localhost:8080/",
          "height": 573
        },
        "id": "YEK8UVQDD9yo",
        "outputId": "ad05b59a-217b-4a9d-a968-cbfc3d170428"
      },
      "source": [
        "df_series.head()"
      ],
      "execution_count": 46,
      "outputs": [
        {
          "output_type": "execute_result",
          "data": {
            "text/html": [
              "<div>\n",
              "<style scoped>\n",
              "    .dataframe tbody tr th:only-of-type {\n",
              "        vertical-align: middle;\n",
              "    }\n",
              "\n",
              "    .dataframe tbody tr th {\n",
              "        vertical-align: top;\n",
              "    }\n",
              "\n",
              "    .dataframe thead th {\n",
              "        text-align: right;\n",
              "    }\n",
              "</style>\n",
              "<table border=\"1\" class=\"dataframe\">\n",
              "  <thead>\n",
              "    <tr style=\"text-align: right;\">\n",
              "      <th></th>\n",
              "      <th>begin_at</th>\n",
              "      <th>description</th>\n",
              "      <th>end_at</th>\n",
              "      <th>full_name</th>\n",
              "      <th>id</th>\n",
              "      <th>league</th>\n",
              "      <th>league_id</th>\n",
              "      <th>modified_at</th>\n",
              "      <th>name</th>\n",
              "      <th>season</th>\n",
              "      <th>slug</th>\n",
              "      <th>tier</th>\n",
              "      <th>tournaments</th>\n",
              "      <th>videogame</th>\n",
              "      <th>videogame_title</th>\n",
              "      <th>winner_id</th>\n",
              "      <th>winner_type</th>\n",
              "      <th>year</th>\n",
              "    </tr>\n",
              "  </thead>\n",
              "  <tbody>\n",
              "    <tr>\n",
              "      <th>0</th>\n",
              "      <td>2021-02-23T07:00:00Z</td>\n",
              "      <td>None</td>\n",
              "      <td>2021-04-09T22:00:00Z</td>\n",
              "      <td>Split 1 2021</td>\n",
              "      <td>3361</td>\n",
              "      <td>{'id': 4539, 'image_url': 'https://cdn.pandasc...</td>\n",
              "      <td>4539</td>\n",
              "      <td>2021-02-18T11:40:54Z</td>\n",
              "      <td>Split 1</td>\n",
              "      <td>None</td>\n",
              "      <td>league-of-legends-lco-split-1-2021</td>\n",
              "      <td>c</td>\n",
              "      <td>[{'begin_at': '2021-02-23T07:00:00Z', 'end_at'...</td>\n",
              "      <td>{'id': 1, 'name': 'LoL', 'slug': 'league-of-le...</td>\n",
              "      <td>None</td>\n",
              "      <td>NaN</td>\n",
              "      <td>None</td>\n",
              "      <td>2021</td>\n",
              "    </tr>\n",
              "    <tr>\n",
              "      <th>1</th>\n",
              "      <td>2021-01-25T18:00:00Z</td>\n",
              "      <td>None</td>\n",
              "      <td>None</td>\n",
              "      <td>Season 8 2021</td>\n",
              "      <td>3351</td>\n",
              "      <td>{'id': 4426, 'image_url': 'https://cdn.pandasc...</td>\n",
              "      <td>4426</td>\n",
              "      <td>2021-02-12T15:08:41Z</td>\n",
              "      <td>None</td>\n",
              "      <td>8</td>\n",
              "      <td>league-of-legends-ebl-8-2021</td>\n",
              "      <td>c</td>\n",
              "      <td>[{'begin_at': '2021-02-25T18:00:00Z', 'end_at'...</td>\n",
              "      <td>{'id': 1, 'name': 'LoL', 'slug': 'league-of-le...</td>\n",
              "      <td>None</td>\n",
              "      <td>NaN</td>\n",
              "      <td>None</td>\n",
              "      <td>2021</td>\n",
              "    </tr>\n",
              "    <tr>\n",
              "      <th>2</th>\n",
              "      <td>2021-02-13T13:00:00Z</td>\n",
              "      <td>None</td>\n",
              "      <td>None</td>\n",
              "      <td>Spring 2021</td>\n",
              "      <td>3349</td>\n",
              "      <td>{'id': 4004, 'image_url': 'https://cdn.pandasc...</td>\n",
              "      <td>4004</td>\n",
              "      <td>2021-02-11T18:53:16Z</td>\n",
              "      <td>None</td>\n",
              "      <td>Spring</td>\n",
              "      <td>league-of-legends-lcl-spring-2021</td>\n",
              "      <td>b</td>\n",
              "      <td>[{'begin_at': '2021-02-13T13:00:00Z', 'end_at'...</td>\n",
              "      <td>{'id': 1, 'name': 'LoL', 'slug': 'league-of-le...</td>\n",
              "      <td>None</td>\n",
              "      <td>NaN</td>\n",
              "      <td>None</td>\n",
              "      <td>2021</td>\n",
              "    </tr>\n",
              "    <tr>\n",
              "      <th>3</th>\n",
              "      <td>2021-02-19T08:00:00Z</td>\n",
              "      <td>None</td>\n",
              "      <td>None</td>\n",
              "      <td>Spring 2021</td>\n",
              "      <td>3337</td>\n",
              "      <td>{'id': 4288, 'image_url': 'https://cdn.pandasc...</td>\n",
              "      <td>4288</td>\n",
              "      <td>2021-02-08T09:40:12Z</td>\n",
              "      <td>None</td>\n",
              "      <td>Spring</td>\n",
              "      <td>league-of-legends-pcs-spring-2021</td>\n",
              "      <td>b</td>\n",
              "      <td>[{'begin_at': '2021-02-19T08:00:00Z', 'end_at'...</td>\n",
              "      <td>{'id': 1, 'name': 'LoL', 'slug': 'league-of-le...</td>\n",
              "      <td>None</td>\n",
              "      <td>NaN</td>\n",
              "      <td>None</td>\n",
              "      <td>2021</td>\n",
              "    </tr>\n",
              "    <tr>\n",
              "      <th>4</th>\n",
              "      <td>2021-01-19T19:00:00Z</td>\n",
              "      <td>None</td>\n",
              "      <td>2021-04-17T19:00:00Z</td>\n",
              "      <td>Split 1 2021</td>\n",
              "      <td>3334</td>\n",
              "      <td>{'id': 4533, 'image_url': 'https://cdn.pandasc...</td>\n",
              "      <td>4533</td>\n",
              "      <td>2021-02-17T15:14:31Z</td>\n",
              "      <td>None</td>\n",
              "      <td>Split 1</td>\n",
              "      <td>league-of-legends-cblol-academy-split-1-2021</td>\n",
              "      <td>d</td>\n",
              "      <td>[{'begin_at': '2021-01-19T19:00:00Z', 'end_at'...</td>\n",
              "      <td>{'id': 1, 'name': 'LoL', 'slug': 'league-of-le...</td>\n",
              "      <td>None</td>\n",
              "      <td>NaN</td>\n",
              "      <td>None</td>\n",
              "      <td>2021</td>\n",
              "    </tr>\n",
              "  </tbody>\n",
              "</table>\n",
              "</div>"
            ],
            "text/plain": [
              "               begin_at description  ... winner_type  year\n",
              "0  2021-02-23T07:00:00Z        None  ...        None  2021\n",
              "1  2021-01-25T18:00:00Z        None  ...        None  2021\n",
              "2  2021-02-13T13:00:00Z        None  ...        None  2021\n",
              "3  2021-02-19T08:00:00Z        None  ...        None  2021\n",
              "4  2021-01-19T19:00:00Z        None  ...        None  2021\n",
              "\n",
              "[5 rows x 18 columns]"
            ]
          },
          "metadata": {
            "tags": []
          },
          "execution_count": 46
        }
      ]
    },
    {
      "cell_type": "code",
      "metadata": {
        "colab": {
          "base_uri": "https://localhost:8080/",
          "height": 660
        },
        "id": "yMQMjl4fEKFp",
        "outputId": "23a5ffdb-c564-49b9-a5c6-18f96b9224ba"
      },
      "source": [
        "df_enfrentamientos.head()"
      ],
      "execution_count": 48,
      "outputs": [
        {
          "output_type": "execute_result",
          "data": {
            "text/html": [
              "<div>\n",
              "<style scoped>\n",
              "    .dataframe tbody tr th:only-of-type {\n",
              "        vertical-align: middle;\n",
              "    }\n",
              "\n",
              "    .dataframe tbody tr th {\n",
              "        vertical-align: top;\n",
              "    }\n",
              "\n",
              "    .dataframe thead th {\n",
              "        text-align: right;\n",
              "    }\n",
              "</style>\n",
              "<table border=\"1\" class=\"dataframe\">\n",
              "  <thead>\n",
              "    <tr style=\"text-align: right;\">\n",
              "      <th></th>\n",
              "      <th>name</th>\n",
              "      <th>official_stream_url</th>\n",
              "      <th>end_at</th>\n",
              "      <th>draw</th>\n",
              "      <th>league</th>\n",
              "      <th>league_id</th>\n",
              "      <th>detailed_stats</th>\n",
              "      <th>live_embed_url</th>\n",
              "      <th>tournament_id</th>\n",
              "      <th>results</th>\n",
              "      <th>videogame_version</th>\n",
              "      <th>streams</th>\n",
              "      <th>modified_at</th>\n",
              "      <th>games</th>\n",
              "      <th>original_scheduled_at</th>\n",
              "      <th>match_type</th>\n",
              "      <th>scheduled_at</th>\n",
              "      <th>winner</th>\n",
              "      <th>slug</th>\n",
              "      <th>videogame</th>\n",
              "      <th>status</th>\n",
              "      <th>winner_id</th>\n",
              "      <th>forfeit</th>\n",
              "      <th>tournament</th>\n",
              "      <th>rescheduled</th>\n",
              "      <th>id</th>\n",
              "      <th>game_advantage</th>\n",
              "      <th>serie_id</th>\n",
              "      <th>opponents</th>\n",
              "      <th>number_of_games</th>\n",
              "      <th>serie</th>\n",
              "      <th>live</th>\n",
              "      <th>begin_at</th>\n",
              "    </tr>\n",
              "  </thead>\n",
              "  <tbody>\n",
              "    <tr>\n",
              "      <th>0</th>\n",
              "      <td>Tiebreaker: V3 vs SG</td>\n",
              "      <td>https://www.twitch.tv/riotgamesjp</td>\n",
              "      <td>None</td>\n",
              "      <td>False</td>\n",
              "      <td>{'id': 2092, 'image_url': 'https://cdn.pandasc...</td>\n",
              "      <td>2092</td>\n",
              "      <td>True</td>\n",
              "      <td>https://player.twitch.tv/?channel=riotgamesjp</td>\n",
              "      <td>5358</td>\n",
              "      <td>[{'score': 0, 'team_id': 1356}, {'score': 0, '...</td>\n",
              "      <td>None</td>\n",
              "      <td>{'english': {'embed_url': None, 'raw_url': Non...</td>\n",
              "      <td>2021-03-06T17:21:48Z</td>\n",
              "      <td>[{'begin_at': None, 'complete': False, 'detail...</td>\n",
              "      <td>2021-03-11T05:00:00Z</td>\n",
              "      <td>best_of</td>\n",
              "      <td>2021-03-11T05:00:00Z</td>\n",
              "      <td>None</td>\n",
              "      <td>v3-esports-vs-sengoku-gaming-2021-03-11</td>\n",
              "      <td>{'id': 1, 'name': 'LoL', 'slug': 'league-of-le...</td>\n",
              "      <td>not_started</td>\n",
              "      <td>NaN</td>\n",
              "      <td>False</td>\n",
              "      <td>{'begin_at': '2021-01-23T04:00:00Z', 'end_at':...</td>\n",
              "      <td>False</td>\n",
              "      <td>585941</td>\n",
              "      <td>None</td>\n",
              "      <td>3260</td>\n",
              "      <td>[{'opponent': {'acronym': 'V3', 'id': 1356, 'i...</td>\n",
              "      <td>1</td>\n",
              "      <td>{'begin_at': '2021-01-22T23:00:00Z', 'descript...</td>\n",
              "      <td>{'opens_at': None, 'supported': False, 'url': ...</td>\n",
              "      <td>2021-03-11T05:00:00Z</td>\n",
              "    </tr>\n",
              "    <tr>\n",
              "      <th>1</th>\n",
              "      <td>MCES vs MSF.P</td>\n",
              "      <td>https://www.twitch.tv/otplol_/</td>\n",
              "      <td>None</td>\n",
              "      <td>False</td>\n",
              "      <td>{'id': 4292, 'image_url': 'https://cdn.pandasc...</td>\n",
              "      <td>4292</td>\n",
              "      <td>True</td>\n",
              "      <td>https://player.twitch.tv/?channel=otplol_/</td>\n",
              "      <td>5312</td>\n",
              "      <td>[{'score': 0, 'team_id': 126752}, {'score': 0,...</td>\n",
              "      <td>None</td>\n",
              "      <td>{'english': {'embed_url': None, 'raw_url': Non...</td>\n",
              "      <td>2021-03-05T18:40:34Z</td>\n",
              "      <td>[{'begin_at': None, 'complete': False, 'detail...</td>\n",
              "      <td>2021-03-11T21:00:00Z</td>\n",
              "      <td>best_of</td>\n",
              "      <td>2021-03-11T21:00:00Z</td>\n",
              "      <td>None</td>\n",
              "      <td>team-mces-vs-misfits-premier-2021-03-11</td>\n",
              "      <td>{'id': 1, 'name': 'LoL', 'slug': 'league-of-le...</td>\n",
              "      <td>not_started</td>\n",
              "      <td>NaN</td>\n",
              "      <td>False</td>\n",
              "      <td>{'begin_at': '2021-01-19T18:00:00Z', 'end_at':...</td>\n",
              "      <td>False</td>\n",
              "      <td>585851</td>\n",
              "      <td>None</td>\n",
              "      <td>3232</td>\n",
              "      <td>[{'opponent': {'acronym': 'MCES', 'id': 126752...</td>\n",
              "      <td>1</td>\n",
              "      <td>{'begin_at': '2021-01-19T18:00:00Z', 'descript...</td>\n",
              "      <td>{'opens_at': None, 'supported': False, 'url': ...</td>\n",
              "      <td>2021-03-11T21:00:00Z</td>\n",
              "    </tr>\n",
              "    <tr>\n",
              "      <th>2</th>\n",
              "      <td>SLY vs BDS</td>\n",
              "      <td>https://www.twitch.tv/otplol_/</td>\n",
              "      <td>None</td>\n",
              "      <td>False</td>\n",
              "      <td>{'id': 4292, 'image_url': 'https://cdn.pandasc...</td>\n",
              "      <td>4292</td>\n",
              "      <td>True</td>\n",
              "      <td>https://player.twitch.tv/?channel=otplol_/</td>\n",
              "      <td>5312</td>\n",
              "      <td>[{'score': 0, 'team_id': 1449}, {'score': 0, '...</td>\n",
              "      <td>None</td>\n",
              "      <td>{'english': {'embed_url': None, 'raw_url': Non...</td>\n",
              "      <td>2021-03-05T18:40:16Z</td>\n",
              "      <td>[{'begin_at': None, 'complete': False, 'detail...</td>\n",
              "      <td>2021-03-11T20:00:00Z</td>\n",
              "      <td>best_of</td>\n",
              "      <td>2021-03-11T20:00:00Z</td>\n",
              "      <td>None</td>\n",
              "      <td>solary-vs-bds-2021-03-11</td>\n",
              "      <td>{'id': 1, 'name': 'LoL', 'slug': 'league-of-le...</td>\n",
              "      <td>not_started</td>\n",
              "      <td>NaN</td>\n",
              "      <td>False</td>\n",
              "      <td>{'begin_at': '2021-01-19T18:00:00Z', 'end_at':...</td>\n",
              "      <td>False</td>\n",
              "      <td>585850</td>\n",
              "      <td>None</td>\n",
              "      <td>3232</td>\n",
              "      <td>[{'opponent': {'acronym': 'SLY', 'id': 1449, '...</td>\n",
              "      <td>1</td>\n",
              "      <td>{'begin_at': '2021-01-19T18:00:00Z', 'descript...</td>\n",
              "      <td>{'opens_at': None, 'supported': False, 'url': ...</td>\n",
              "      <td>2021-03-11T20:00:00Z</td>\n",
              "    </tr>\n",
              "    <tr>\n",
              "      <th>3</th>\n",
              "      <td>GW vs KAR</td>\n",
              "      <td>https://www.twitch.tv/otplol_/</td>\n",
              "      <td>None</td>\n",
              "      <td>False</td>\n",
              "      <td>{'id': 4292, 'image_url': 'https://cdn.pandasc...</td>\n",
              "      <td>4292</td>\n",
              "      <td>True</td>\n",
              "      <td>https://player.twitch.tv/?channel=otplol_/</td>\n",
              "      <td>5312</td>\n",
              "      <td>[{'score': 0, 'team_id': 126750}, {'score': 0,...</td>\n",
              "      <td>None</td>\n",
              "      <td>{'english': {'embed_url': None, 'raw_url': Non...</td>\n",
              "      <td>2021-03-05T18:39:56Z</td>\n",
              "      <td>[{'begin_at': None, 'complete': False, 'detail...</td>\n",
              "      <td>2021-03-11T19:00:00Z</td>\n",
              "      <td>best_of</td>\n",
              "      <td>2021-03-11T19:00:00Z</td>\n",
              "      <td>None</td>\n",
              "      <td>gameward-vs-karmine-corp-2021-03-11</td>\n",
              "      <td>{'id': 1, 'name': 'LoL', 'slug': 'league-of-le...</td>\n",
              "      <td>not_started</td>\n",
              "      <td>NaN</td>\n",
              "      <td>False</td>\n",
              "      <td>{'begin_at': '2021-01-19T18:00:00Z', 'end_at':...</td>\n",
              "      <td>False</td>\n",
              "      <td>585849</td>\n",
              "      <td>None</td>\n",
              "      <td>3232</td>\n",
              "      <td>[{'opponent': {'acronym': 'GW', 'id': 126750, ...</td>\n",
              "      <td>1</td>\n",
              "      <td>{'begin_at': '2021-01-19T18:00:00Z', 'descript...</td>\n",
              "      <td>{'opens_at': None, 'supported': False, 'url': ...</td>\n",
              "      <td>2021-03-11T19:00:00Z</td>\n",
              "    </tr>\n",
              "    <tr>\n",
              "      <th>4</th>\n",
              "      <td>LDLC vs VIT.B</td>\n",
              "      <td>https://www.twitch.tv/otplol_/</td>\n",
              "      <td>None</td>\n",
              "      <td>False</td>\n",
              "      <td>{'id': 4292, 'image_url': 'https://cdn.pandasc...</td>\n",
              "      <td>4292</td>\n",
              "      <td>True</td>\n",
              "      <td>https://player.twitch.tv/?channel=otplol_/</td>\n",
              "      <td>5312</td>\n",
              "      <td>[{'score': 0, 'team_id': 428}, {'score': 0, 't...</td>\n",
              "      <td>None</td>\n",
              "      <td>{'english': {'embed_url': None, 'raw_url': Non...</td>\n",
              "      <td>2021-03-05T18:39:35Z</td>\n",
              "      <td>[{'begin_at': None, 'complete': False, 'detail...</td>\n",
              "      <td>2021-03-11T18:00:00Z</td>\n",
              "      <td>best_of</td>\n",
              "      <td>2021-03-11T18:00:00Z</td>\n",
              "      <td>None</td>\n",
              "      <td>ldlc-ol-vs-vitality-bee-2021-03-11</td>\n",
              "      <td>{'id': 1, 'name': 'LoL', 'slug': 'league-of-le...</td>\n",
              "      <td>not_started</td>\n",
              "      <td>NaN</td>\n",
              "      <td>False</td>\n",
              "      <td>{'begin_at': '2021-01-19T18:00:00Z', 'end_at':...</td>\n",
              "      <td>False</td>\n",
              "      <td>585848</td>\n",
              "      <td>None</td>\n",
              "      <td>3232</td>\n",
              "      <td>[{'opponent': {'acronym': 'LDLC', 'id': 428, '...</td>\n",
              "      <td>1</td>\n",
              "      <td>{'begin_at': '2021-01-19T18:00:00Z', 'descript...</td>\n",
              "      <td>{'opens_at': None, 'supported': False, 'url': ...</td>\n",
              "      <td>2021-03-11T18:00:00Z</td>\n",
              "    </tr>\n",
              "  </tbody>\n",
              "</table>\n",
              "</div>"
            ],
            "text/plain": [
              "                   name  ...              begin_at\n",
              "0  Tiebreaker: V3 vs SG  ...  2021-03-11T05:00:00Z\n",
              "1         MCES vs MSF.P  ...  2021-03-11T21:00:00Z\n",
              "2            SLY vs BDS  ...  2021-03-11T20:00:00Z\n",
              "3             GW vs KAR  ...  2021-03-11T19:00:00Z\n",
              "4         LDLC vs VIT.B  ...  2021-03-11T18:00:00Z\n",
              "\n",
              "[5 rows x 33 columns]"
            ]
          },
          "metadata": {
            "tags": []
          },
          "execution_count": 48
        }
      ]
    },
    {
      "cell_type": "code",
      "metadata": {
        "colab": {
          "base_uri": "https://localhost:8080/",
          "height": 293
        },
        "id": "uSCA8967ExOL",
        "outputId": "3aefeb66-8bf0-4de4-9d9c-5ca092165c84"
      },
      "source": [
        "df_equipos.head()"
      ],
      "execution_count": 50,
      "outputs": [
        {
          "output_type": "execute_result",
          "data": {
            "text/html": [
              "<div>\n",
              "<style scoped>\n",
              "    .dataframe tbody tr th:only-of-type {\n",
              "        vertical-align: middle;\n",
              "    }\n",
              "\n",
              "    .dataframe tbody tr th {\n",
              "        vertical-align: top;\n",
              "    }\n",
              "\n",
              "    .dataframe thead th {\n",
              "        text-align: right;\n",
              "    }\n",
              "</style>\n",
              "<table border=\"1\" class=\"dataframe\">\n",
              "  <thead>\n",
              "    <tr style=\"text-align: right;\">\n",
              "      <th></th>\n",
              "      <th>acronym</th>\n",
              "      <th>current_videogame</th>\n",
              "      <th>id</th>\n",
              "      <th>image_url</th>\n",
              "      <th>location</th>\n",
              "      <th>modified_at</th>\n",
              "      <th>name</th>\n",
              "      <th>players</th>\n",
              "      <th>slug</th>\n",
              "    </tr>\n",
              "  </thead>\n",
              "  <tbody>\n",
              "    <tr>\n",
              "      <th>0</th>\n",
              "      <td>PCE</td>\n",
              "      <td>{'id': 1, 'name': 'LoL', 'slug': 'league-of-le...</td>\n",
              "      <td>128614</td>\n",
              "      <td>https://cdn.pandascore.co/images/team/image/12...</td>\n",
              "      <td>AU</td>\n",
              "      <td>2021-03-05T13:55:39Z</td>\n",
              "      <td>PEACE</td>\n",
              "      <td>[{'birth_year': None, 'birthday': None, 'first...</td>\n",
              "      <td>peace</td>\n",
              "    </tr>\n",
              "    <tr>\n",
              "      <th>1</th>\n",
              "      <td>Z10</td>\n",
              "      <td>{'id': 1, 'name': 'LoL', 'slug': 'league-of-le...</td>\n",
              "      <td>128573</td>\n",
              "      <td>https://cdn.pandascore.co/images/team/image/12...</td>\n",
              "      <td>RS</td>\n",
              "      <td>2021-03-01T19:43:55Z</td>\n",
              "      <td>Z10 ESHARK</td>\n",
              "      <td>[{'birth_year': None, 'birthday': None, 'first...</td>\n",
              "      <td>z10-eshark</td>\n",
              "    </tr>\n",
              "    <tr>\n",
              "      <th>2</th>\n",
              "      <td>X25</td>\n",
              "      <td>{'id': 1, 'name': 'LoL', 'slug': 'league-of-le...</td>\n",
              "      <td>128572</td>\n",
              "      <td>https://cdn.pandascore.co/images/team/image/12...</td>\n",
              "      <td>RS</td>\n",
              "      <td>2021-02-12T16:11:49Z</td>\n",
              "      <td>x25 Esports</td>\n",
              "      <td>[{'birth_year': 1998, 'birthday': '1998-07-31'...</td>\n",
              "      <td>x25-esports</td>\n",
              "    </tr>\n",
              "    <tr>\n",
              "      <th>3</th>\n",
              "      <td>None</td>\n",
              "      <td>{'id': 1, 'name': 'LoL', 'slug': 'league-of-le...</td>\n",
              "      <td>128566</td>\n",
              "      <td>https://cdn.pandascore.co/images/team/image/12...</td>\n",
              "      <td>RU</td>\n",
              "      <td>2021-02-28T10:02:24Z</td>\n",
              "      <td>CTRL PLAY</td>\n",
              "      <td>[{'birth_year': None, 'birthday': None, 'first...</td>\n",
              "      <td>ctrl-play</td>\n",
              "    </tr>\n",
              "    <tr>\n",
              "      <th>4</th>\n",
              "      <td>IPN</td>\n",
              "      <td>{'id': 1, 'name': 'LoL', 'slug': 'league-of-le...</td>\n",
              "      <td>128547</td>\n",
              "      <td>https://cdn.pandascore.co/images/team/image/12...</td>\n",
              "      <td>SG</td>\n",
              "      <td>2021-02-19T17:37:02Z</td>\n",
              "      <td>Impunity</td>\n",
              "      <td>[{'birth_year': None, 'birthday': None, 'first...</td>\n",
              "      <td>impunity-league-of-legends</td>\n",
              "    </tr>\n",
              "  </tbody>\n",
              "</table>\n",
              "</div>"
            ],
            "text/plain": [
              "  acronym  ...                        slug\n",
              "0     PCE  ...                       peace\n",
              "1     Z10  ...                  z10-eshark\n",
              "2     X25  ...                 x25-esports\n",
              "3    None  ...                   ctrl-play\n",
              "4     IPN  ...  impunity-league-of-legends\n",
              "\n",
              "[5 rows x 9 columns]"
            ]
          },
          "metadata": {
            "tags": []
          },
          "execution_count": 50
        }
      ]
    },
    {
      "cell_type": "markdown",
      "metadata": {
        "id": "XThScPC9Hj9j"
      },
      "source": [
        "¡Increíble! Con tan solo 5 dataframes tenemos muchísima información acerca de la escena competitiva de League of Legends, pero si recordamos bien... ¡tenemos acceso a otros 3 juegos! entonces en total tendremos 20 dataframes con los que podríamos trabajar ( _panic_ ). De momentos nos enfocaremos en trabajar con solo los dataframes obtenidos para LoL, quizás haya una forma de trabajar con todos, una luz al final del túnel."
      ]
    }
  ]
}