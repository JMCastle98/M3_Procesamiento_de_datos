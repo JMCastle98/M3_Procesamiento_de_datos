{
  "nbformat": 4,
  "nbformat_minor": 0,
  "metadata": {
    "colab": {
      "name": "Proyecto_Python.ipynb",
      "provenance": [],
      "collapsed_sections": [],
      "toc_visible": true,
      "authorship_tag": "ABX9TyNz2NxgkuOlxoTNjYhK+/2B",
      "include_colab_link": true
    },
    "kernelspec": {
      "display_name": "Python 3",
      "name": "python3"
    }
  },
  "cells": [
    {
      "cell_type": "markdown",
      "metadata": {
        "id": "view-in-github",
        "colab_type": "text"
      },
      "source": [
        "<a href=\"https://colab.research.google.com/github/LKXoro/BEDU-Rstudio-postworks/blob/main/Proyecto_Python.ipynb\" target=\"_parent\"><img src=\"https://colab.research.google.com/assets/colab-badge.svg\" alt=\"Open In Colab\"/></a>"
      ]
    },
    {
      "cell_type": "markdown",
      "metadata": {
        "id": "W6Usa9EUHMmn"
      },
      "source": [
        "\r\n",
        "# Postwork 01: Identificación del problema\r\n",
        "\r\n",
        "## Estado del arte de los eSports\r\n",
        "\r\n",
        "Los deportes electrónicos o _**eSports**_ como se les conoce hoy en día, se pueden definir como la competencia originada en videojuegos digitales ante una audiencia (Hodge et al., 2017). Con una base de consumidores global cercana a los 450 millones de personas y beneficios de miles de millones de dólares anuales, el crecimiento de los eSports no muestra signos de detenerse y se encuentran un momento muy saludable. De acuerdo con reportes recientes acerca del estado de los eSports, durante Marzo de 2019, los cinco juegos más vistos en Twitch fueron:\r\n",
        "\r\n",
        "*   League of Legends\r\n",
        "*   Fortnite\r\n",
        "*   DOTA 2\r\n",
        "*   Counter Strike: Global Offensive\r\n",
        "*   Overwatch\r\n",
        "\r\n",
        "En promedio, estos juegos juntos logran hasta 400 mil expectadores a cualquier hora. Otros reportes indican que los eSports lograrán audiencias mayores, en países como Estados Unidos, que en cualquier liga deportiva a excepción de la NFL (Iqbal, 2019).\r\n",
        "\r\n",
        "<p align=\"center\">\r\n",
        "<img src=\"https://educowebmedia.blob.core.windows.net/educowebmedia/educospain/media/images/blog/que-son-los-esports-portada.jpg\"  height =\"250\" width = \"400\" alt=eSports>\r\n",
        "</p>\r\n"
      ]
    },
    {
      "cell_type": "markdown",
      "metadata": {
        "id": "VY-SK7mWHaCF"
      },
      "source": [
        "# Oportunidades que ofrecen los eSports\r\n",
        "\r\n",
        "Detrás de este crecimiento, encontramos un ecosistema próspero constituido por desarrolladores, jugadores y entrenadores, creadores de contenido, plataformas de consumos y muchos más. A medida que ese ecosistema florece, también lo hacen las oportunidades laborales en el mercado de los eSports, siendo una parte los que se comprometen al análisis estadístico de eSports.\r\n",
        "\r\n",
        "La demanda de analístas de eSports se espera incremente significativamente en los próximos años, de la misma manera que la demanda de analístas para deportes convencionales aumento en 2004 (Davenport, 2014). Previendo este incremento, algunas universidades han decidido preparar a sus estudiantes mediante carreras enfocadas al analísis de eSports. \r\n",
        "\r\n",
        "<p align=\"center\">\r\n",
        "<img src=\"https://upload.wikimedia.org/wikipedia/commons/thumb/c/cd/National_Association_of_Collegiate_Esports_logo.svg/1200px-National_Association_of_Collegiate_Esports_logo.svg.png\" height =\"250\" width = \"400\" alt=NACE_logo>\r\n",
        "</p>\r\n",
        "\r\n",
        "La Universidad de Akron es por lejos la mayor inversionista en términos de programas e instalaciones enfocadas a eSports, junto a la Asociación Nacional de Esports Universitario ([NACE](https://nacesports.org/)) que, hasta Mayo de 2019, se compone de 144 miembros. A medida que las universidades destinan más recursos a los eSports, la industria global continuara expandiéndose. "
      ]
    },
    {
      "cell_type": "markdown",
      "metadata": {
        "id": "Raur7hVSHkFP"
      },
      "source": [
        "# Información necesaria para el análisis del desempeño en eSports\r\n",
        "\r\n",
        "Muchos grupos de interés se ven en la necesidad de tener información proveniente de análisis de eSports, por ejemplo, los desarrolladores de videojuegos buscan información que les permita encontrar patrones en la jugabilidad con la finaldiad de realizar cambios en su juego como lo son mapas, reglas, personajes u objetos (Bozorgzadeh, 2017). Ellos también buscan detectar trampas y de esta forma crear sistemas \"_anti-cheats_\" que permitan un juego más justo.\r\n",
        "\r\n",
        "Si bien mucha de la información recolectada para su análisis es explotada para fines como el aumento de audiencia, momentos destacados o para pláticas de comentaristas durante y después de las partidas. Un ámbito que puede ser de mayor intéres es el relacionado con el rendimiento de los equipos y jugadores. Por ejemplo, análistas, coaches e incluso los propios jugadores presentan particular interés en el desempeño de sus adversarios, por lo que al igual que en los deportes tradicionales, deben conocer a su enemigo y preparar sus estrategias.\r\n",
        "\r\n",
        "En general nos encontramos con cuatro aspectos de posible análisis en los eSports:\r\n",
        "\r\n",
        "*   **Equipos**: La mayoría de profesionales de eSports participan en juegos que presentan enfrentamientos entre qeuipos, donde el entendimiento de los oponentes y su estrategia juegan un papel crítico.\r\n",
        "*   **Jugadores**: Las debilidades y fortalezas de cada integrante del equipo permiten trazar un plan que permita bloquear su desempeño en el rol que ejecuta.\r\n",
        "*   **Personajes**: Los roles de cada jugador en los distintos juegos vienen dados por el avatar o personaje elegido, entender las habilidades de cada personaje y sus limitaciones tienen un peso en el desempeño como jugador.\r\n",
        "*   **Objetos**: Cada personaje puede equiparse con distintos objetos, entender las diferentes composicions y como adecuarlas a la situación en que encuentras trae un abánico de posibiliades para el desarrollo de una partida.\r\n",
        "\r\n",
        "Está claro que cada uno de estos aspectos brinda un cúmulo de información por partida que solo puede ser explotada por análistas expertos. Hoy en día también se habla de páginas de apuestas, eSports de fantasía, ligas colegiales y más importante aún: Canales de televisión enteramente dedicados a eSports. Detrás de todo esto surge una pregunta importante: ¿Dónde conseguimos la información? Para responder está pregunta podemos empezar por conocer algunas fuentes de esta información que hoy en día es tan preciada.\r\n"
      ]
    },
    {
      "cell_type": "markdown",
      "metadata": {
        "id": "IVszRZfmHlRu"
      },
      "source": [
        "# Fuentes de datos sobre eSports\r\n",
        "\r\n",
        "Antes de que la información se analizada, debe ser recolectada. Algunas de las fuentes más comúnes donde la información sobre eSports puede ser recolectada son:\r\n",
        "\r\n",
        "*   **APIs**: Para los juegos más importantes, los desarrolladores proveen una interfaz de programación de aplicaciones ([API](https://es.wikipedia.org/wiki/Interfaz_de_programaci%C3%B3n_de_aplicaciones)) con la cual se permite la descarga de datos generados a los usuarios registrados.\r\n",
        "*   **Proveedores estadísticos y APIs de terceros**: Ya que no todos los desarrolladores de juegos recolectan los datos, terceros proveen APIs donde guardan sus datos obtenidos mediante la búsqueda en registros de los juegos, analizando repositorios públicos, haciendo _scrapping_ en repeticiones de Twitch o Youtube, o bien pidiendo archivos de repetición a los usuarios.\r\n",
        "*   **Repositorios de archivos**: Como mencionamos anteriormente muchos juegos guarda repeticiones de las partidas, pero no necesariamente en formatos de video, sino en formatos especiales que guardan cada acción de una partida y pueden reproducirse de nuevo con el motor del juego para analizar distintos momentos o ver como evoluciona la partida desde uno o múltiples ángulos. Estos archivos pueden ser tratados o simplemente guardarse en crudo en repositorios.\r\n",
        "\r\n",
        "<p align=\"center\">\r\n",
        "<img src=\"https://blog.ehcgroup.io/wp-content/uploads/2019/08/What-is-an-API.png\" height =\"250\" width = \"400\" alt=API>\r\n",
        "</p>\r\n",
        "\r\n"
      ]
    },
    {
      "cell_type": "markdown",
      "metadata": {
        "id": "CyMfKyZ3HqHl"
      },
      "source": [
        "# Uso de los datos para crear visualizaciones y Dashboards\r\n",
        "\r\n",
        "Otra pregunta que puede surgir es: ¿Qué tipo de trabajo realizan los análistas de eSports? Para responder esta pregunta, se analizaron 22 ofertas para puestos de trabajos como analistas de eSports (Joseph Rubleske et al.). Los análisis revelaron que, mayormente, los trabajos implican dos amplias áreas de trabajo analítico:\r\n",
        "\r\n",
        "*   **Creación de atributos para visualizaciones y dashboards**: Un oferta de **Blizzard** describía sus necesidades como: \"_Contar historias con datos y visualizaciones_\".\r\n",
        "*   **Modelado para Machine Learning**: Construcción de modelos que permitan evaluar las fortalezas y debilidades de los oponentes, predecir el efecto de balanceo de personajes en el ratio de victoria de los equipos, recomendar objetos de acuerdo a la forma de jugar del rival, etc. \r\n",
        "\r\n",
        "<p align=\"center\">\r\n",
        "<img src=\"https://i.pinimg.com/originals/c9/2d/0c/c92d0c88656b0677c6bc69312769f854.png\" height =\"250\" width = \"400\" alt=API>\r\n",
        "\r\n",
        "</p>\r\n"
      ]
    },
    {
      "cell_type": "markdown",
      "metadata": {
        "id": "UIw4N2bcHxzO"
      },
      "source": [
        "# El acceso a la información sobre eSports\r\n",
        "\r\n",
        "Ya hemos hablado de las posibles fuentes de datos y que se puede hacer con ellos, pero para los usuarios más entusiastas el acceso a la información en crudo puede resultar complicado. Si bien no todos los desarrolladores de videojuegos están dispuestos a proporcionar información de sus juegos tan fácilmente, no todos los que la comparten a través de una API brindan una accesibilidad y herramientas fáciles de usar, como por ejemplo, lo hace Riot Games con su [API pública](https://developer.riotgames.com/) que brinda acceso a datos de todos sus juegos.\r\n",
        "\r\n",
        "En este punto intermedio entre los datos en crudo y las visualizaciones atractivas nos encontramos con el problema a tratar: El acceso a la información sobre eSports es como ir a pescar en mar abierto. Podemos encontrar muchas APIs que ofrecen información en crudo o muchas páginas web que nos ofrecen sus propios datos recolectados a cambio de un módico precio, otras tantas son más herméticas y se limitan a la visualización de sus propios datos. \r\n",
        "\r\n",
        "Muchos usuarios han puesto manos a la obra, mediante técnicas como _web scrapping_ o elaboración propia han creado y compartido [Datasets sobre eSports](https://www.kaggle.com/search?q=eSports+in%3Adatasets ) que han sido de mucha utilidad para otros usuarios, sin embargo, la cantidad de DataSets que encontramos es limitada.\r\n",
        "\r\n",
        "Esto es muy interesante ya que hay muchos usuarios interesados [[1]](https://www.reddit.com/r/esports/comments/74opfv/is_there_anywhere_i_can_find_a_dataset_in_regards/) [[2]](https://www.reddit.com/r/datasets/comments/4glujg/requestdatasets_about_the_esports_industry/) en DataSets. Ya sea para fines de análisis o inclusive académicos, se ven limitados por la poca disposición de Datasets listos para ser explotados. \r\n",
        "\r\n",
        "Pareciera que el acceso a esta información, quizás a causa de la _juventud_ de los eSports, se encuentra limitado al ecosistema que busca explotar estos datos\r\n",
        "para aumentar el alcance e ingresos generados. "
      ]
    },
    {
      "cell_type": "markdown",
      "metadata": {
        "id": "cajuJJxuHy6S"
      },
      "source": [
        "# Antecedentes\r\n",
        "\r\n",
        "[Leonardo Mauro](https://github.com/leomaurodesenv/) es un usuario de github y Data Scientist profesional que a través de la página [project-awesome](https://project-awesome.org/) nos comparte una lista de [_Datasets asombrosos_](https://project-awesome.org/leomaurodesenv/game-datasets) para cualquiera interesado en trabajar con **Inteligencia artificial** o **Data Mining** aplicado a videojuegos.\r\n",
        "\r\n",
        "<p align=\"center\">\r\n",
        "<img src=\"https://project-awesome.org/images/logo.png\" height =\"250\" width = \"400\" alt=API>\r\n",
        "</p>\r\n",
        "\r\n",
        "En esta página encontramos una gran colección de APIs, páginas web y DataSets, un trabajo _asombroso_ que debe ser reconocido. Es importante observar que no todos los Datasets están enfocados en videojuegos catalogados como eSports, y aquellos que los son, cuentan con pocos DataSets. \r\n",
        "\r\n"
      ]
    },
    {
      "cell_type": "markdown",
      "metadata": {
        "id": "pAIWu4gOHzi3"
      },
      "source": [
        "# Propuesta: Aportar un Dataset para el análisis de eSports\r\n",
        "\r\n",
        "Después de haber investigado sobre el panorama actual de los eSports, la importancia de estos y de la información que generan, así como las limitaciones con las que nos encontramos hoy en día para acceder a ella. Nos encontramos especialmente motivados para entrar al mar de información y tratar de aportar un granito de arena, un Dataset, que pueda ser de utilidad para todos los entusiastas de los eSports que estén interesados en su análisis."
      ]
    },
    {
      "cell_type": "markdown",
      "metadata": {
        "id": "-ek1ZwFvH9HI"
      },
      "source": [
        "## Referencias\r\n",
        "\r\n",
        "\r\n",
        "1.   Hodge V., Devlin S., Sephton N., Block F., Drachen A., Cowling P. (2017). Win\r\n",
        "prediction in eSports: mixed-rank match prediction in multi-player online battle arena games.\r\n",
        "Recuperado de: https://arxiv.org/abs/1711.06498.\r\n",
        "2.   Davenport, T.H. (2014). What businesses can learn from sports analytics. MIT Sloan, Management Review.\r\n",
        "3.   Iqbal, M. Twitch revenues and usage statistics. BusinessOfApps, Febrero 2019. Recuperado de: www.businessofapps.com/data/twitch-statistics.\r\n",
        "4.   Bozorgzadeh, A. (2017). Machine learning will be a game-changer for eSports. Venture Beat, Marzo 2017. Recuperado de: https://venturebeat.com/2017/03/11/machinelearning-will-be-a-game-changer-for-esports/.\r\n",
        "5.   Lam, S. eSports as a goldmine for data analytics. ComputerWorldHK, Octubre 2017. Recuperado de: https://www.cw.com.hk/data-management/esports-as-a-goldmine-for-data-analytics.\r\n",
        "6.   Joseph R, Travis F., Brett W. Northern Kentuchy University. E-Sports Analytics: A Primer and Resource for Student Research Projects and Lesson Plans. Journal of Instructional Pedagogies Volumen 23. Recuperado de: https://files.eric.ed.gov/fulltext/EJ1242004.pdf\r\n"
      ]
    },
    {
      "cell_type": "markdown",
      "metadata": {
        "id": "D-Ix7MsYICla"
      },
      "source": [
        "# Postwork 02: Planteamiento de preguntas\r\n",
        "\r\n",
        "Durante el módulo pasado nuestro [proyecto](https://github.com/LKXoro/BEDU-Rstudio-postworks/tree/main/Proyecto) estuvo relacionado con los eSports, de manera que pudimos responder algunas de las dudas que nos surgieron al inspeccionar [Datasets](https://github.com/LKXoro/BEDU-Rstudio-postworks/blob/main/Proyecto/Proyecto1/Readme.md) que obtuvimos en kaggle. La mayoría de estos se enfocan sustancialmente en dos aspectos de los eSports: **Gananacias y ganadores de torneos** (este último generalmente asociado a equipos profesionales).\r\n",
        "\r\n",
        "También hicimos uso de un Dataset con información de los _streamers_ de Twitch que nos permitió conocer información como el promedio de visitas o número de seguidores de los canales oficiales de algunos eSports.\r\n",
        "\r\n",
        "Nuestro proyecto anterior estaba enfocado a la evolución de los eSports en el tiempo, la escena actual y una posible predicción. Ahora que tenemos la oportunidad de revisar este tema nuevamente, buscamos concentrarnos otros aspectos como:\r\n",
        "\r\n",
        "* eSports que se transmiten por internet\r\n",
        "* El consumo de contenido relacionado a eSports\r\n",
        "* Duración de las competencias\r\n",
        "* Estado de salud de un videojuego considerado eSport\r\n",
        "\r\n",
        "Es decir, queremos hablar de los juegos que hoy en día son eSports y responder preguntas como:\r\n",
        "\r\n",
        "* Las partidas de eSports, ¿son enfrentamientos cortos o largos?\r\n",
        "* ¿Cuántos torneos se han jugado de un juego en específico?\r\n",
        "* ¿Cuántos torneos se han transmitido para que los fanáticos los vean?\r\n",
        "* ¿Cuánto contenido relacionado a eSports consumen los fánaticos?\r\n",
        "* ¿Los juegos que hoy en día son eSports los seguirán siendo en el futuro?\r\n",
        "\r\n",
        "Estas y muchas otras preguntas pueden surgir si miramos el panorama actual, no desde una perspectiva de producto, sino de consumo. Como se muestra en este [artículo](https://contenidos.news/mediciones/nota/twitch-alcanzo-picos-de-73-millones-de-horas-de-consumo-diario-de-contenido)  latinoamérica es uno de los principales consumidores de contenido online relacionado a eSports a nivel mundial, una prueba más de la estrecha relación entre el creciente alcance de los eSports y el papel de los fanáticos en su popularidad.  \r\n",
        "\r\n",
        "<p align=\"center\">\r\n",
        "<img src=\"https://contenidos.news/online/foto_189.jpg\" height =\"250\" width = \"400\" alt=eSports>\r\n",
        "</p>\r\n",
        "\r\n",
        "Para poder responder a las preguntas realizadas, será necesario un dataset que nos brinde información de las competencias y torneos que contenga datos de tiempo, es posible que debamos buscar nuevas fuentes de información o atacar los Datasets que ya utilizamos desde otro ángulo. Como mencionamos en la identificación del problema, una de las mejores fuentes de datos son las APIs, así que son un buen punto de partida para encontrar la información que necesitamos y de ser necesaria adecuadala a nuestros fines.\r\n",
        "\r\n"
      ]
    },
    {
      "cell_type": "markdown",
      "metadata": {
        "id": "INm8FOnzIh5w"
      },
      "source": [
        "# Postwork 03: Colección de datos\r\n",
        "## PandaScore: Una API de eSports\r\n",
        "<p align=\"center\">\r\n",
        "<img src=\"https://pandascore.co/assets/logo_for_twitter-0c1b471a256ce7364533695930bbe657ed3c8b2189f7ea07e60a40b614ebcf4e.png\" alt=PandaScore_logo>\r\n",
        "</p>\r\n",
        "\r\n",
        "[PandaScore](https://pandascore.co/) provee estadísticas en tiempo real sobre eSports. Para lograr esto, recolecta información de enfrentamientos en competencias utilizando inteligencia artificial. \r\n",
        "\r\n",
        "Los datos que ofrece están disponibles en dos formas: \r\n",
        "\r\n",
        "*   Una [API REST](https://www.idento.es/blog/desarrollo-web/que-es-una-api-rest/) donde podemos encontrar toda la cobertura del calendario de eSports, así como estadísticas detallas antes y después de los enfrentamientos.\r\n",
        "*   Una LIVE API: que nos brinda entrega un amplio rango de estadísticas en tiempo real mientras los enfrentamientos se llevan a cabo.\r\n",
        "\r\n",
        "PandaScore ofrece distintos planes de pago, cada uno con mayor accesibilidad. El plan gratuito incluye acceso a la API REST donde podemos encontrar datos sobre los personajes de los juegos, calendarización de los enfrentamientos y datos sobre torneos, equipos y jugadores. Finalmente, es importante tener en cuenta que el plan gratuito permite realizar hasta 1000 peticiones por hora y podemos acceder a información sobre los siguientes juegos:\r\n",
        "\r\n",
        "*   League of legends\r\n",
        "*   CS:GO\r\n",
        "*   Dota 2\r\n",
        "*   Overwatch\r\n",
        "\r\n",
        "\r\n"
      ]
    },
    {
      "cell_type": "markdown",
      "metadata": {
        "id": "zXFvTxdRI3tt"
      },
      "source": [
        "# ¿Por qué seleccionamos PandaScore?\r\n",
        "\r\n",
        "Seleccionamos PandaScore después de observar el contenido y tipo de datos que nos ofrece. La información que recibimos a más alto nivel es información de los distintos torneos que se han llevado a cabo, dentro podemos encontrar información sobre las diferentes ligas y los enfrentamientos que se dieron. También encontramos especialmente atractivos los campos relacionados con las fechas de inicio y fin, tanto de torneos como de enfrentamientos, así como un campo dedicado a especificar si el torneo o enfrentamiento fue transmitido por internet, y de ser así, información con el URL del stream en diferentes idiomas.\r\n"
      ]
    },
    {
      "cell_type": "markdown",
      "metadata": {
        "id": "RL-xDjFfJFK8"
      },
      "source": [
        "# ¿Cómo podemos realizar peticiones de datos a PandaScore?\r\n",
        "\r\n",
        "Para lograr obtener los datos de PandaScore, primeramente debemos crear una cuenta de forma gratuita, que nos dará el acceso al plan básico. Una vez creada la cuenta se nos brindará un token o llave de acceso como la siguiente:\r\n",
        "\r\n",
        "\r\n",
        "\r\n",
        "```py\r\n",
        "token =  'V3U1fnnWozJi3bbhZfrxdiAmN4-XWnX_4g6i_6iauwwh7w-V8Ns'\r\n",
        "```\r\n"
      ]
    },
    {
      "cell_type": "markdown",
      "metadata": {
        "id": "oi-sVQmcJHU_"
      },
      "source": [
        "Para motivos de ejecución de nuestros códigos, y con la finalidad de que sea de utilidad para otros entusiastas del análisis de datos, de buena fé brindamos nuestro token de acceso para que, de ahora en adelante, podamos realizar las peticiones de datos a PandaScore.\r\n",
        "\r\n",
        "Ya que este módulo esta enfocado al lenguaje [python](https://www.python.org/), recurrimos al paquete [request](https://realpython.com/python-requests/), idóneo para hacer peticiones http en python, ofreciendo instrucciones sencillas para enfocarnos en interactuar con los servicios y consumir los datos en nuestras aplicaciones.\r\n",
        "\r\n",
        "<p align=\"center\">\r\n",
        "<img src=\"https://files.realpython.com/media/Python-Requests-Library-Tutorial_Watermarked.3c9dfdc7b014.jpg\" height = '300' alt=requests>\r\n",
        "</p>\r\n",
        "\r\n"
      ]
    },
    {
      "cell_type": "markdown",
      "metadata": {
        "id": "l-eeu8vGJP7a"
      },
      "source": [
        "## Formato de URL para peticiones a PandaScore\r\n",
        "\r\n",
        "Antes de utilizar propiamente _request_, explicaremos el formato de URL que utilizaremos para ello. Como lo indica la [documentación](https://developers.pandascore.co/docs/tutorials/request_conditions) propia de PandaScore, la URL generalmente tiene el siguiente formato:\r\n",
        "\r\n",
        "```py\r\n",
        "url = \"https://api.pandascore.co/[game]/[information]?page[number]=2&page[size]=50&token=[YOUR_TOKEN]\"\r\n",
        "```\r\n",
        "\r\n",
        "Los parámetros que podemos modificar son los siguientes:\r\n",
        "\r\n",
        "\r\n",
        "*   **[game]**: Dependiendo de la sintáxis de este parámetros se devuelve información de los diferentes juegos:\r\n",
        "  * League of legends: 'lol'\r\n",
        "  * Dota 2: 'dota2'\r\n",
        "  * CS:GO: 'csgo'\r\n",
        "  * Overwatch: 'overwatch'  \r\n",
        "*   **[information]**: Acceso a información de:\r\n",
        "  * Ligas: 'leagues' Son los eventos de mayor nivel, no tienen como tal una fecha y representan una competencia. Una liga se compone de varias _series_. Por ejemplo en deportes sería equivalente a la copa mundial de fútbol.\r\n",
        "  * Series: 'series' Es una instancia de una liga, desde la fase de grupos hasta los _playoff_ finales. Ejemplo: Copa mundial de fútbol 2018\r\n",
        "  * Torneos: 'tournaments' Los torneos son la manera en que los enfrentamientos son divividos en grupos para cada fase de la serie, habrá un torneo por grupo incluyendo la final. Ejemplo: Copa mundial de fútbol 2018 - Grupo C\r\n",
        "  * Enfrentamientos: 'matches' Finalmente tenemos los enfrentamientos, entre dos oponentes y compuestos de varias partidas. Algunos enfrentamientos pueden reflejarse como \"TBD vs TBD\" cuando se conoce la fecha del enfrentamiento pero no al oponente del equipo. Ejemplo: Copa mundial de fútbol 2018 - Grupo C - Dinamarca vs Australia (1 juego)\r\n",
        "  * Equipos: 'teams' Los nombres de los equipos que participan en estos eventos.\r\n",
        "*   **Page[size]**: Este parámetro indica el número de resultados que se nos debe entregar en cada petición, el número de resultados máximos es de 100.\r\n",
        "*   **Page[number]** Indica el número de página de la petición, entre menor sea el número de resultados, mayor será el número de páginas.\r\n",
        "*   **[YOUR_TOKEN]**: Este parámetro debe ser sustituido por nuestra clave de acceso, la cual se nos brinda al crear una cuenta en PandaScore\r\n",
        "\r\n",
        "Ahora bien, ya que conocemos la sintáxis adecuada para la URL, podemos llamar al paquete request y hacer uso de el:\r\n",
        "\r\n"
      ]
    },
    {
      "cell_type": "code",
      "metadata": {
        "colab": {
          "base_uri": "https://localhost:8080/"
        },
        "id": "7X5pziUMJox8",
        "outputId": "c58d46a0-1cea-407b-a859-91565db7393f"
      },
      "source": [
        "import requests #impotamos el paquete\r\n",
        "#Parámetros deseados\r\n",
        "juego = 'lol' #Queremos información de League of Legends\r\n",
        "información = 'tournaments' #Los datos deben corresponder a torneos\r\n",
        "registros = 100  #Queremos 100 registros por hoja\r\n",
        "token =  'V3U1fnnWozJi3bbhZfrxdiAmN4-XWnX_4g6i_6iauwwh7w-V8Ns'\r\n",
        "# Aprovecharemos las bondades de los f string para introducir los parámetros\r\n",
        "url = f\"https://api.pandascore.co/{juego}/{información}?page[size]={registros}&token=V3U1fnnWozJi3bbhZfrxdiAmN4-XWnX_4g6i_6iauwwh7w-V8Ns\"\r\n",
        "#Por defecto si page[number] no es indicado, se nos devuelve la primer página\r\n",
        "response = requests.get(url) #Realizamos la petición de información con el método get()\r\n",
        "response.status_code #Verificamos el resultado de nuestra solicitud"
      ],
      "execution_count": null,
      "outputs": [
        {
          "output_type": "execute_result",
          "data": {
            "text/plain": [
              "200"
            ]
          },
          "metadata": {
            "tags": []
          },
          "execution_count": 15
        }
      ]
    },
    {
      "cell_type": "markdown",
      "metadata": {
        "id": "essSfA3bJSWF"
      },
      "source": [
        "Como podemos observar, obtuvimos una código de respuesta 200, ¡lo que indica que todo salió bien! la documentación también señala que dentro de la respuesta que obtuvimos podemos encontrar _headers_ con información útil como el total de registros que es posible obtener o el número de página en el que nos encontramos, a continuación de muestran los header de nuestra petición:"
      ]
    },
    {
      "cell_type": "code",
      "metadata": {
        "colab": {
          "base_uri": "https://localhost:8080/"
        },
        "id": "9zbxUxSPKBms",
        "outputId": "cf83e3d3-b296-496b-ac69-5942f59d8664"
      },
      "source": [
        "print(response.headers['X-Page']) # Número de página\r\n",
        "print(response.headers['X-Total']) # Total de registros\r\n",
        "print(response.headers['X-Per-Page']) # Registros por página"
      ],
      "execution_count": null,
      "outputs": [
        {
          "output_type": "stream",
          "text": [
            "1\n",
            "824\n",
            "100\n"
          ],
          "name": "stdout"
        }
      ]
    },
    {
      "cell_type": "markdown",
      "metadata": {
        "id": "FGPbB8rCKQ5F"
      },
      "source": [
        "Ahora para observar los datos que se nos devolvieron nos apoyaremos en el método json() y el paquete pandas, la información en _crudo_ que recibimos luce más o menos así:"
      ]
    },
    {
      "cell_type": "code",
      "metadata": {
        "colab": {
          "base_uri": "https://localhost:8080/"
        },
        "id": "Z0Y8wRjrKSJC",
        "outputId": "28f0b90a-fc7c-4080-9852-1fc61bdf4b2d"
      },
      "source": [
        "data = response.json()\r\n",
        "data[0] # El método json devuelve una lista de diccionarios, entonces llamamos al primer elemento para ver su contenido\r\n",
        "#Ya que la información que solicitamos es sbre torneos, la información devuelta es sobre el torneo más reciente"
      ],
      "execution_count": null,
      "outputs": [
        {
          "output_type": "execute_result",
          "data": {
            "text/plain": [
              "{'begin_at': '2021-03-09T17:00:00Z',\n",
              " 'end_at': None,\n",
              " 'id': 5649,\n",
              " 'league': {'id': 4302,\n",
              "  'image_url': 'https://cdn.pandascore.co/images/league/image/4302/220px-Prime_Leaguelogo_square.png',\n",
              "  'modified_at': '2020-01-20T16:20:40Z',\n",
              "  'name': 'Prime League Pro Division',\n",
              "  'slug': 'league-of-legends-prime-league-pro-division',\n",
              "  'url': 'https://www.primeleague.gg/de/start'},\n",
              " 'league_id': 4302,\n",
              " 'live_supported': False,\n",
              " 'matches': [{'begin_at': '2021-03-09T17:00:00Z',\n",
              "   'detailed_stats': True,\n",
              "   'draw': False,\n",
              "   'end_at': None,\n",
              "   'forfeit': False,\n",
              "   'game_advantage': None,\n",
              "   'id': 586003,\n",
              "   'live': {'opens_at': None, 'supported': False, 'url': None},\n",
              "   'live_embed_url': None,\n",
              "   'match_type': 'best_of',\n",
              "   'modified_at': '2021-03-07T20:17:44Z',\n",
              "   'name': 'Round 1 Match 1: GL vs USE',\n",
              "   'number_of_games': 3,\n",
              "   'official_stream_url': None,\n",
              "   'original_scheduled_at': '2021-03-09T17:00:00Z',\n",
              "   'rescheduled': False,\n",
              "   'scheduled_at': '2021-03-09T17:00:00Z',\n",
              "   'slug': 'team-gamerlegion-vs-unicorns-of-love-sexy-edition-2021-03-09',\n",
              "   'status': 'not_started',\n",
              "   'streams': {'english': {'embed_url': None, 'raw_url': None},\n",
              "    'official': {'embed_url': None, 'raw_url': None},\n",
              "    'russian': {'embed_url': None, 'raw_url': None}},\n",
              "   'tournament_id': 5649,\n",
              "   'winner_id': None},\n",
              "  {'begin_at': '2021-03-09T20:00:00Z',\n",
              "   'detailed_stats': True,\n",
              "   'draw': False,\n",
              "   'end_at': None,\n",
              "   'forfeit': False,\n",
              "   'game_advantage': None,\n",
              "   'id': 586004,\n",
              "   'live': {'opens_at': None, 'supported': False, 'url': None},\n",
              "   'live_embed_url': None,\n",
              "   'match_type': 'best_of',\n",
              "   'modified_at': '2021-03-07T20:18:12Z',\n",
              "   'name': 'Round 1 Match 2: SKP vs S04.E',\n",
              "   'number_of_games': 3,\n",
              "   'official_stream_url': None,\n",
              "   'original_scheduled_at': '2021-03-09T20:00:00Z',\n",
              "   'rescheduled': False,\n",
              "   'scheduled_at': '2021-03-09T20:00:00Z',\n",
              "   'slug': 'sk-gaming-prime-vs-fc-schalke-04-evolution-2021-03-09',\n",
              "   'status': 'not_started',\n",
              "   'streams': {'english': {'embed_url': None, 'raw_url': None},\n",
              "    'official': {'embed_url': None, 'raw_url': None},\n",
              "    'russian': {'embed_url': None, 'raw_url': None}},\n",
              "   'tournament_id': 5649,\n",
              "   'winner_id': None},\n",
              "  {'begin_at': '2021-03-10T17:00:00Z',\n",
              "   'detailed_stats': True,\n",
              "   'draw': False,\n",
              "   'end_at': None,\n",
              "   'forfeit': False,\n",
              "   'game_advantage': None,\n",
              "   'id': 586005,\n",
              "   'live': {'opens_at': None, 'supported': False, 'url': None},\n",
              "   'live_embed_url': None,\n",
              "   'match_type': 'best_of',\n",
              "   'modified_at': '2021-03-07T20:19:33Z',\n",
              "   'name': 'Round 2 Match 1: TBD vs TBD',\n",
              "   'number_of_games': 3,\n",
              "   'official_stream_url': None,\n",
              "   'original_scheduled_at': '2021-03-10T17:00:00Z',\n",
              "   'rescheduled': False,\n",
              "   'scheduled_at': '2021-03-10T17:00:00Z',\n",
              "   'slug': '2021-03-10-7412caf0-3f45-40e1-b763-80d005a04162',\n",
              "   'status': 'not_started',\n",
              "   'streams': {'english': {'embed_url': None, 'raw_url': None},\n",
              "    'official': {'embed_url': None, 'raw_url': None},\n",
              "    'russian': {'embed_url': None, 'raw_url': None}},\n",
              "   'tournament_id': 5649,\n",
              "   'winner_id': None},\n",
              "  {'begin_at': '2021-03-10T20:00:00Z',\n",
              "   'detailed_stats': True,\n",
              "   'draw': False,\n",
              "   'end_at': None,\n",
              "   'forfeit': False,\n",
              "   'game_advantage': None,\n",
              "   'id': 586006,\n",
              "   'live': {'opens_at': None, 'supported': False, 'url': None},\n",
              "   'live_embed_url': None,\n",
              "   'match_type': 'best_of',\n",
              "   'modified_at': '2021-03-07T20:19:53Z',\n",
              "   'name': 'Round 2 Match 2: MOUZ vs BIG',\n",
              "   'number_of_games': 3,\n",
              "   'official_stream_url': None,\n",
              "   'original_scheduled_at': '2021-03-10T20:00:00Z',\n",
              "   'rescheduled': False,\n",
              "   'scheduled_at': '2021-03-10T20:00:00Z',\n",
              "   'slug': 'mousesports-vs-berlin-international-gaming-2021-03-10',\n",
              "   'status': 'not_started',\n",
              "   'streams': {'english': {'embed_url': None, 'raw_url': None},\n",
              "    'official': {'embed_url': None, 'raw_url': None},\n",
              "    'russian': {'embed_url': None, 'raw_url': None}},\n",
              "   'tournament_id': 5649,\n",
              "   'winner_id': None},\n",
              "  {'begin_at': '2021-03-11T17:00:00Z',\n",
              "   'detailed_stats': True,\n",
              "   'draw': False,\n",
              "   'end_at': None,\n",
              "   'forfeit': False,\n",
              "   'game_advantage': None,\n",
              "   'id': 586007,\n",
              "   'live': {'opens_at': None, 'supported': False, 'url': None},\n",
              "   'live_embed_url': None,\n",
              "   'match_type': 'best_of',\n",
              "   'modified_at': '2021-03-07T20:20:32Z',\n",
              "   'name': 'Round 3: TBD vs TBD',\n",
              "   'number_of_games': 5,\n",
              "   'official_stream_url': None,\n",
              "   'original_scheduled_at': '2021-03-11T17:00:00Z',\n",
              "   'rescheduled': False,\n",
              "   'scheduled_at': '2021-03-11T17:00:00Z',\n",
              "   'slug': '2021-03-11-c3b8c131-fac1-4b71-b339-f1d0387914a6',\n",
              "   'status': 'not_started',\n",
              "   'streams': {'english': {'embed_url': None, 'raw_url': None},\n",
              "    'official': {'embed_url': None, 'raw_url': None},\n",
              "    'russian': {'embed_url': None, 'raw_url': None}},\n",
              "   'tournament_id': 5649,\n",
              "   'winner_id': None}],\n",
              " 'modified_at': '2021-03-08T14:50:51Z',\n",
              " 'name': 'Playoffs',\n",
              " 'prizepool': None,\n",
              " 'serie': {'begin_at': '2021-01-19T17:00:00Z',\n",
              "  'description': None,\n",
              "  'end_at': None,\n",
              "  'full_name': 'Spring 2021',\n",
              "  'id': 3254,\n",
              "  'league_id': 4302,\n",
              "  'modified_at': '2021-01-12T08:59:18Z',\n",
              "  'name': '',\n",
              "  'season': 'Spring',\n",
              "  'slug': 'league-of-legends-prime-league-pro-division-spring-2021',\n",
              "  'tier': 'c',\n",
              "  'winner_id': None,\n",
              "  'winner_type': None,\n",
              "  'year': 2021},\n",
              " 'serie_id': 3254,\n",
              " 'slug': 'league-of-legends-prime-league-pro-division-spring-2021-playoffs',\n",
              " 'teams': [{'acronym': 'MOUZ',\n",
              "   'id': 16,\n",
              "   'image_url': 'https://cdn.pandascore.co/images/team/image/16/mousesports-29p77f8y.png',\n",
              "   'location': 'DE',\n",
              "   'modified_at': '2021-03-08T14:50:46Z',\n",
              "   'name': 'mousesports',\n",
              "   'slug': 'mousesports'},\n",
              "  {'acronym': 'SKP',\n",
              "   'id': 247,\n",
              "   'image_url': 'https://cdn.pandascore.co/images/team/image/247/SK_Gaming_Primelogo_square.png',\n",
              "   'location': 'DE',\n",
              "   'modified_at': '2021-03-08T14:50:49Z',\n",
              "   'name': 'SK Gaming Prime',\n",
              "   'slug': 'sk-gaming-prime'},\n",
              "  {'acronym': 'BIG',\n",
              "   'id': 125905,\n",
              "   'image_url': 'https://cdn.pandascore.co/images/team/image/125905/big-league-of-legends.png',\n",
              "   'location': 'DE',\n",
              "   'modified_at': '2021-03-08T14:50:47Z',\n",
              "   'name': 'Berlin International Gaming',\n",
              "   'slug': 'big-league-of-legends'},\n",
              "  {'acronym': 'S04.E',\n",
              "   'id': 126567,\n",
              "   'image_url': 'https://cdn.pandascore.co/images/team/image/126567/220px_fc_schalke_04_esportslogo_square.png',\n",
              "   'location': 'DE',\n",
              "   'modified_at': '2021-03-08T14:50:48Z',\n",
              "   'name': 'FC Schalke 04 Evolution',\n",
              "   'slug': 'fc-schalke-04-evolution'},\n",
              "  {'acronym': 'GL',\n",
              "   'id': 126830,\n",
              "   'image_url': 'https://cdn.pandascore.co/images/team/image/126830/220px_team_gamer_legionlogo_square.png',\n",
              "   'location': 'DE',\n",
              "   'modified_at': '2021-03-08T14:50:51Z',\n",
              "   'name': 'Team GamerLegion',\n",
              "   'slug': 'team-gamerlegion-league-of-legends'},\n",
              "  {'acronym': 'USE',\n",
              "   'id': 126832,\n",
              "   'image_url': 'https://cdn.pandascore.co/images/team/image/126832/220px_unicorns_of_lovelogo_square.png',\n",
              "   'location': 'DE',\n",
              "   'modified_at': '2021-03-08T14:51:16Z',\n",
              "   'name': 'Unicorns Of Love Sexy Edition',\n",
              "   'slug': 'unicorns-of-love-sexy-edition'}],\n",
              " 'videogame': {'id': 1, 'name': 'LoL', 'slug': 'league-of-legends'},\n",
              " 'winner_id': None,\n",
              " 'winner_type': 'Team'}"
            ]
          },
          "metadata": {
            "tags": []
          },
          "execution_count": 17
        }
      ]
    },
    {
      "cell_type": "markdown",
      "metadata": {
        "id": "jbhNF-IRKYIl"
      },
      "source": [
        "¡oh rayos! esos son muchos campos, y más importante, tenemos listas dentro de los diccionarios. Antes de entrar en pánico intentemos ver como luce en un Dataframe de pandas:"
      ]
    },
    {
      "cell_type": "code",
      "metadata": {
        "colab": {
          "base_uri": "https://localhost:8080/",
          "height": 636
        },
        "id": "W8mg55d8KbGv",
        "outputId": "32faa96b-4032-44b8-e8b5-b3d5a41cd42b"
      },
      "source": [
        "import pandas as pd #importamos el paquete pandas\r\n",
        "df_torneos = pd.DataFrame.from_dict(data) #utilizamos el método Dataframe.from_dict() que es capaz de convertir listas de diccionarios a df\r\n",
        "df_torneos.head() #Observemos las primeras filas del df"
      ],
      "execution_count": null,
      "outputs": [
        {
          "output_type": "execute_result",
          "data": {
            "text/html": [
              "<div>\n",
              "<style scoped>\n",
              "    .dataframe tbody tr th:only-of-type {\n",
              "        vertical-align: middle;\n",
              "    }\n",
              "\n",
              "    .dataframe tbody tr th {\n",
              "        vertical-align: top;\n",
              "    }\n",
              "\n",
              "    .dataframe thead th {\n",
              "        text-align: right;\n",
              "    }\n",
              "</style>\n",
              "<table border=\"1\" class=\"dataframe\">\n",
              "  <thead>\n",
              "    <tr style=\"text-align: right;\">\n",
              "      <th></th>\n",
              "      <th>begin_at</th>\n",
              "      <th>end_at</th>\n",
              "      <th>id</th>\n",
              "      <th>league</th>\n",
              "      <th>league_id</th>\n",
              "      <th>live_supported</th>\n",
              "      <th>matches</th>\n",
              "      <th>modified_at</th>\n",
              "      <th>name</th>\n",
              "      <th>prizepool</th>\n",
              "      <th>serie</th>\n",
              "      <th>serie_id</th>\n",
              "      <th>slug</th>\n",
              "      <th>teams</th>\n",
              "      <th>videogame</th>\n",
              "      <th>winner_id</th>\n",
              "      <th>winner_type</th>\n",
              "    </tr>\n",
              "  </thead>\n",
              "  <tbody>\n",
              "    <tr>\n",
              "      <th>0</th>\n",
              "      <td>2021-03-09T17:00:00Z</td>\n",
              "      <td>None</td>\n",
              "      <td>5649</td>\n",
              "      <td>{'id': 4302, 'image_url': 'https://cdn.pandasc...</td>\n",
              "      <td>4302</td>\n",
              "      <td>False</td>\n",
              "      <td>[{'begin_at': '2021-03-09T17:00:00Z', 'detaile...</td>\n",
              "      <td>2021-03-08T14:50:51Z</td>\n",
              "      <td>Playoffs</td>\n",
              "      <td>None</td>\n",
              "      <td>{'begin_at': '2021-01-19T17:00:00Z', 'descript...</td>\n",
              "      <td>3254</td>\n",
              "      <td>league-of-legends-prime-league-pro-division-sp...</td>\n",
              "      <td>[{'acronym': 'MOUZ', 'id': 16, 'image_url': 'h...</td>\n",
              "      <td>{'id': 1, 'name': 'LoL', 'slug': 'league-of-le...</td>\n",
              "      <td>NaN</td>\n",
              "      <td>Team</td>\n",
              "    </tr>\n",
              "    <tr>\n",
              "      <th>1</th>\n",
              "      <td>2021-03-09T16:30:00Z</td>\n",
              "      <td>None</td>\n",
              "      <td>5617</td>\n",
              "      <td>{'id': 4300, 'image_url': 'https://cdn.pandasc...</td>\n",
              "      <td>4300</td>\n",
              "      <td>False</td>\n",
              "      <td>[{'begin_at': '2021-03-09T16:30:00Z', 'detaile...</td>\n",
              "      <td>2021-03-04T07:03:57Z</td>\n",
              "      <td>Playoffs</td>\n",
              "      <td>None</td>\n",
              "      <td>{'begin_at': '2021-01-19T16:30:00Z', 'descript...</td>\n",
              "      <td>3267</td>\n",
              "      <td>league-of-legends-ultraliga-summer-2021-playoffs</td>\n",
              "      <td>[{'acronym': 'IHG', 'id': 2718, 'image_url': '...</td>\n",
              "      <td>{'id': 1, 'name': 'LoL', 'slug': 'league-of-le...</td>\n",
              "      <td>NaN</td>\n",
              "      <td>Team</td>\n",
              "    </tr>\n",
              "    <tr>\n",
              "      <th>2</th>\n",
              "      <td>2021-03-09T18:00:00Z</td>\n",
              "      <td>2021-03-23T23:00:00Z</td>\n",
              "      <td>5616</td>\n",
              "      <td>{'id': 4402, 'image_url': 'https://cdn.pandasc...</td>\n",
              "      <td>4402</td>\n",
              "      <td>False</td>\n",
              "      <td>[{'begin_at': '2021-03-09T18:00:00Z', 'detaile...</td>\n",
              "      <td>2021-03-08T15:07:25Z</td>\n",
              "      <td>Playoffs</td>\n",
              "      <td>None</td>\n",
              "      <td>{'begin_at': '2021-01-12T18:00:00Z', 'descript...</td>\n",
              "      <td>3249</td>\n",
              "      <td>league-of-legends-dutch-league-spring-2021-pla...</td>\n",
              "      <td>[{'acronym': 'EZ', 'id': 3343, 'image_url': 'h...</td>\n",
              "      <td>{'id': 1, 'name': 'LoL', 'slug': 'league-of-le...</td>\n",
              "      <td>NaN</td>\n",
              "      <td>Team</td>\n",
              "    </tr>\n",
              "    <tr>\n",
              "      <th>3</th>\n",
              "      <td>2021-03-29T08:00:00Z</td>\n",
              "      <td>2021-04-09T14:00:00Z</td>\n",
              "      <td>5615</td>\n",
              "      <td>{'id': 4142, 'image_url': 'https://cdn.pandasc...</td>\n",
              "      <td>4142</td>\n",
              "      <td>False</td>\n",
              "      <td>[{'begin_at': '2021-03-29T08:00:00Z', 'detaile...</td>\n",
              "      <td>2021-03-03T11:01:03Z</td>\n",
              "      <td>Playoffs</td>\n",
              "      <td>None</td>\n",
              "      <td>{'begin_at': '2021-01-18T08:00:00Z', 'descript...</td>\n",
              "      <td>3259</td>\n",
              "      <td>league-of-legends-challenger-korea-lck-cl-spri...</td>\n",
              "      <td>[]</td>\n",
              "      <td>{'id': 1, 'name': 'LoL', 'slug': 'league-of-le...</td>\n",
              "      <td>NaN</td>\n",
              "      <td>Team</td>\n",
              "    </tr>\n",
              "    <tr>\n",
              "      <th>4</th>\n",
              "      <td>2021-03-27T16:00:00Z</td>\n",
              "      <td>2021-04-18T21:00:00Z</td>\n",
              "      <td>5614</td>\n",
              "      <td>{'id': 302, 'image_url': 'https://cdn.pandasco...</td>\n",
              "      <td>302</td>\n",
              "      <td>True</td>\n",
              "      <td>[{'begin_at': '2021-03-27T16:00:00Z', 'detaile...</td>\n",
              "      <td>2021-03-04T08:53:53Z</td>\n",
              "      <td>Playoffs</td>\n",
              "      <td>None</td>\n",
              "      <td>{'begin_at': '2021-01-16T16:00:00Z', 'descript...</td>\n",
              "      <td>3240</td>\n",
              "      <td>league-of-legends-cblol-brazil-split-1-2021-pl...</td>\n",
              "      <td>[{'acronym': 'RCC', 'id': 161, 'image_url': 'h...</td>\n",
              "      <td>{'id': 1, 'name': 'LoL', 'slug': 'league-of-le...</td>\n",
              "      <td>NaN</td>\n",
              "      <td>Team</td>\n",
              "    </tr>\n",
              "  </tbody>\n",
              "</table>\n",
              "</div>"
            ],
            "text/plain": [
              "               begin_at                end_at  ...  winner_id winner_type\n",
              "0  2021-03-09T17:00:00Z                  None  ...        NaN        Team\n",
              "1  2021-03-09T16:30:00Z                  None  ...        NaN        Team\n",
              "2  2021-03-09T18:00:00Z  2021-03-23T23:00:00Z  ...        NaN        Team\n",
              "3  2021-03-29T08:00:00Z  2021-04-09T14:00:00Z  ...        NaN        Team\n",
              "4  2021-03-27T16:00:00Z  2021-04-18T21:00:00Z  ...        NaN        Team\n",
              "\n",
              "[5 rows x 17 columns]"
            ]
          },
          "metadata": {
            "tags": []
          },
          "execution_count": 18
        }
      ]
    },
    {
      "cell_type": "markdown",
      "metadata": {
        "id": "UE0k0GJVKe8D"
      },
      "source": [
        "Nos encontramos con campos bastante amigables como las fechas de inicio y término de los torneos, el id del torneo, un campo para saber si fue transmitido en vivo, última actualización del registro, nombre del torneo y _slug_ (creemos hace referencia al nombre promocional del torneo, tenemos también el tipo de ganador del torneo y su id.  \r\n",
        "\r\n",
        "Además, nos encontramos con cierta información en forma de listas dentro de campos, la cual es de difícil acceso y ciertamente algo confusa a la vista. Aunque quizás PandaScore ya nos haya brindado una solución a esto (uff).\r\n",
        "\r\n",
        "Intentemos entonces solicitar a PandaScore esa información:"
      ]
    },
    {
      "cell_type": "code",
      "metadata": {
        "colab": {
          "base_uri": "https://localhost:8080/"
        },
        "id": "8Wq2L139KlCz",
        "outputId": "8b512860-7476-4cfe-c88c-3e787a221f15"
      },
      "source": [
        "información2 = 'leagues' #Cambiamos el tipo de información requerida\r\n",
        "\r\n",
        "url2 = f\"https://api.pandascore.co/{juego}/{información2}?page[size]={registros}&token=V3U1fnnWozJi3bbhZfrxdiAmN4-XWnX_4g6i_6iauwwh7w-V8Ns\"\r\n",
        "\r\n",
        "response2 = requests.get(url2) \r\n",
        "response.status_code "
      ],
      "execution_count": null,
      "outputs": [
        {
          "output_type": "execute_result",
          "data": {
            "text/plain": [
              "200"
            ]
          },
          "metadata": {
            "tags": []
          },
          "execution_count": 19
        }
      ]
    },
    {
      "cell_type": "markdown",
      "metadata": {
        "id": "45N6G7FjKiiF"
      },
      "source": [
        "PandaScore ha respondido con un código 200, veamos que nos devolvió:"
      ]
    },
    {
      "cell_type": "code",
      "metadata": {
        "colab": {
          "base_uri": "https://localhost:8080/"
        },
        "id": "nk6OPNivKtgP",
        "outputId": "ea27a551-a62b-40d9-d48c-9db817009ddf"
      },
      "source": [
        "print(response2.headers['X-Page']) # Número de página\r\n",
        "print(response2.headers['X-Total']) # Total de registros\r\n",
        "print(response2.headers['X-Per-Page']) # Registros por página"
      ],
      "execution_count": null,
      "outputs": [
        {
          "output_type": "stream",
          "text": [
            "1\n",
            "67\n",
            "100\n"
          ],
          "name": "stdout"
        }
      ]
    },
    {
      "cell_type": "markdown",
      "metadata": {
        "id": "8oByQWA1KxdS"
      },
      "source": [
        "Tenemos en nuestras manos la primer página, y aparentemente la única al haber solicitado 100 registros y tener en total 67. Veamos el primer elemento:"
      ]
    },
    {
      "cell_type": "code",
      "metadata": {
        "colab": {
          "base_uri": "https://localhost:8080/"
        },
        "id": "qqXgv4UWKzyz",
        "outputId": "8fdd599e-47db-4570-cf3c-7ea5ee89e948"
      },
      "source": [
        "data2 = response2.json()\r\n",
        "data2[0] "
      ],
      "execution_count": null,
      "outputs": [
        {
          "output_type": "execute_result",
          "data": {
            "text/plain": [
              "{'id': 4539,\n",
              " 'image_url': 'https://cdn.pandascore.co/images/league/image/4539/LCO_logo.png',\n",
              " 'modified_at': '2021-02-18T10:32:45Z',\n",
              " 'name': 'LCO',\n",
              " 'series': [{'begin_at': '2021-02-23T07:00:00Z',\n",
              "   'description': None,\n",
              "   'end_at': '2021-04-09T22:00:00Z',\n",
              "   'full_name': 'Split 1 2021',\n",
              "   'id': 3361,\n",
              "   'league_id': 4539,\n",
              "   'modified_at': '2021-02-18T11:40:54Z',\n",
              "   'name': 'Split 1',\n",
              "   'season': None,\n",
              "   'slug': 'league-of-legends-lco-split-1-2021',\n",
              "   'tier': 'c',\n",
              "   'winner_id': None,\n",
              "   'winner_type': None,\n",
              "   'year': 2021}],\n",
              " 'slug': 'league-of-legends-lco',\n",
              " 'url': 'https://lco.gg/',\n",
              " 'videogame': {'current_version': '11.5.1',\n",
              "  'id': 1,\n",
              "  'name': 'LoL',\n",
              "  'slug': 'league-of-legends'}}"
            ]
          },
          "metadata": {
            "tags": []
          },
          "execution_count": 21
        }
      ]
    },
    {
      "cell_type": "markdown",
      "metadata": {
        "id": "_nIa7999K3yK"
      },
      "source": [
        "Tenemos un diccionario con menos campos, exploremos más a fondo con el dataframe:"
      ]
    },
    {
      "cell_type": "code",
      "metadata": {
        "colab": {
          "base_uri": "https://localhost:8080/",
          "height": 278
        },
        "id": "WnLDrY9CK6hx",
        "outputId": "a40409ce-b326-4a6d-d601-f3087f8596df"
      },
      "source": [
        "df_ligas = pd.DataFrame.from_dict(data2) #utilizamos el método Dataframe.from_dict() que es capaz de convertir listas de diccionarios a df\r\n",
        "df_ligas.head() #Observemos las primeras filas del df"
      ],
      "execution_count": null,
      "outputs": [
        {
          "output_type": "execute_result",
          "data": {
            "text/html": [
              "<div>\n",
              "<style scoped>\n",
              "    .dataframe tbody tr th:only-of-type {\n",
              "        vertical-align: middle;\n",
              "    }\n",
              "\n",
              "    .dataframe tbody tr th {\n",
              "        vertical-align: top;\n",
              "    }\n",
              "\n",
              "    .dataframe thead th {\n",
              "        text-align: right;\n",
              "    }\n",
              "</style>\n",
              "<table border=\"1\" class=\"dataframe\">\n",
              "  <thead>\n",
              "    <tr style=\"text-align: right;\">\n",
              "      <th></th>\n",
              "      <th>id</th>\n",
              "      <th>image_url</th>\n",
              "      <th>modified_at</th>\n",
              "      <th>name</th>\n",
              "      <th>series</th>\n",
              "      <th>slug</th>\n",
              "      <th>url</th>\n",
              "      <th>videogame</th>\n",
              "    </tr>\n",
              "  </thead>\n",
              "  <tbody>\n",
              "    <tr>\n",
              "      <th>0</th>\n",
              "      <td>4539</td>\n",
              "      <td>https://cdn.pandascore.co/images/league/image/...</td>\n",
              "      <td>2021-02-18T10:32:45Z</td>\n",
              "      <td>LCO</td>\n",
              "      <td>[{'begin_at': '2021-02-23T07:00:00Z', 'descrip...</td>\n",
              "      <td>league-of-legends-lco</td>\n",
              "      <td>https://lco.gg/</td>\n",
              "      <td>{'current_version': '11.5.1', 'id': 1, 'name':...</td>\n",
              "    </tr>\n",
              "    <tr>\n",
              "      <th>1</th>\n",
              "      <td>4533</td>\n",
              "      <td>https://cdn.pandascore.co/images/league/image/...</td>\n",
              "      <td>2021-02-05T14:07:43Z</td>\n",
              "      <td>CBLOL Academy</td>\n",
              "      <td>[{'begin_at': '2021-01-19T19:00:00Z', 'descrip...</td>\n",
              "      <td>league-of-legends-cblol-academy</td>\n",
              "      <td>None</td>\n",
              "      <td>{'current_version': '11.5.1', 'id': 1, 'name':...</td>\n",
              "    </tr>\n",
              "    <tr>\n",
              "      <th>2</th>\n",
              "      <td>4483</td>\n",
              "      <td>https://cdn.pandascore.co/images/league/image/...</td>\n",
              "      <td>2020-10-23T11:26:58Z</td>\n",
              "      <td>Iberian Cup</td>\n",
              "      <td>[{'begin_at': '2020-10-09T22:00:00Z', 'descrip...</td>\n",
              "      <td>league-of-legends-iberian-cup</td>\n",
              "      <td>https://iberiancup.lvp.global/</td>\n",
              "      <td>{'current_version': '11.5.1', 'id': 1, 'name':...</td>\n",
              "    </tr>\n",
              "    <tr>\n",
              "      <th>3</th>\n",
              "      <td>4450</td>\n",
              "      <td>https://cdn.pandascore.co/images/league/image/...</td>\n",
              "      <td>2020-08-08T09:14:04Z</td>\n",
              "      <td>Baltic Masters</td>\n",
              "      <td>[{'begin_at': '2020-08-11T15:00:00Z', 'descrip...</td>\n",
              "      <td>league-of-legends-baltic-masters</td>\n",
              "      <td>None</td>\n",
              "      <td>{'current_version': '11.5.1', 'id': 1, 'name':...</td>\n",
              "    </tr>\n",
              "    <tr>\n",
              "      <th>4</th>\n",
              "      <td>4433</td>\n",
              "      <td>https://cdn.pandascore.co/images/league/image/...</td>\n",
              "      <td>2020-06-29T21:14:29Z</td>\n",
              "      <td>Hitpoint Masters</td>\n",
              "      <td>[{'begin_at': '2020-06-21T12:30:00Z', 'descrip...</td>\n",
              "      <td>league-of-legends-hitpoint-masters</td>\n",
              "      <td>https://hitpoint.cz/</td>\n",
              "      <td>{'current_version': '11.5.1', 'id': 1, 'name':...</td>\n",
              "    </tr>\n",
              "  </tbody>\n",
              "</table>\n",
              "</div>"
            ],
            "text/plain": [
              "     id  ...                                          videogame\n",
              "0  4539  ...  {'current_version': '11.5.1', 'id': 1, 'name':...\n",
              "1  4533  ...  {'current_version': '11.5.1', 'id': 1, 'name':...\n",
              "2  4483  ...  {'current_version': '11.5.1', 'id': 1, 'name':...\n",
              "3  4450  ...  {'current_version': '11.5.1', 'id': 1, 'name':...\n",
              "4  4433  ...  {'current_version': '11.5.1', 'id': 1, 'name':...\n",
              "\n",
              "[5 rows x 8 columns]"
            ]
          },
          "metadata": {
            "tags": []
          },
          "execution_count": 22
        }
      ]
    },
    {
      "cell_type": "markdown",
      "metadata": {
        "id": "o1FnSFYBK-FE"
      },
      "source": [
        "Inspeccionando un poco nos encontramos que los datos devueltos en una solicitud de _ligas_ es diferentes al campo _liga_ de los torneos, es bueno saber esto para evitar confusiones. Antes de pensar en las posibilidades, veamos las 3 solicitudes restantes que podemos observar:"
      ]
    },
    {
      "cell_type": "code",
      "metadata": {
        "colab": {
          "base_uri": "https://localhost:8080/"
        },
        "id": "P4ragbhnLCtn",
        "outputId": "4f92f022-7fa2-46a9-a696-fdcaa3547cdf"
      },
      "source": [
        "información3 = 'series' \r\n",
        "información4 = 'matches'\r\n",
        "información5 = 'teams'\r\n",
        "\r\n",
        "url3 = f\"https://api.pandascore.co/{juego}/{información3}?page[size]={registros}&token=V3U1fnnWozJi3bbhZfrxdiAmN4-XWnX_4g6i_6iauwwh7w-V8Ns\"\r\n",
        "url4 = f\"https://api.pandascore.co/{juego}/{información4}?page[size]={registros}&token=V3U1fnnWozJi3bbhZfrxdiAmN4-XWnX_4g6i_6iauwwh7w-V8Ns\"\r\n",
        "url5 = f\"https://api.pandascore.co/{juego}/{información5}?page[size]={registros}&token=V3U1fnnWozJi3bbhZfrxdiAmN4-XWnX_4g6i_6iauwwh7w-V8Ns\"\r\n",
        " \r\n",
        "response3 = requests.get(url3) \r\n",
        "response4 = requests.get(url4) \r\n",
        "response5 = requests.get(url5) \r\n",
        "\r\n",
        "print(response3.status_code)\r\n",
        "print(response4.status_code)\r\n",
        "print(response5.status_code)\r\n"
      ],
      "execution_count": null,
      "outputs": [
        {
          "output_type": "stream",
          "text": [
            "200\n",
            "200\n",
            "200\n"
          ],
          "name": "stdout"
        }
      ]
    },
    {
      "cell_type": "markdown",
      "metadata": {
        "id": "OeCRR7m1LB8t"
      },
      "source": [
        "Parece que todo salió bien con las peticiones, veamos los dataframes:"
      ]
    },
    {
      "cell_type": "code",
      "metadata": {
        "id": "PpueotvoLJzV"
      },
      "source": [
        "data3 = response3.json()\r\n",
        "data4 = response4.json()\r\n",
        "data5 = response5.json()\r\n",
        "\r\n",
        "df_series = pd.DataFrame.from_dict(data3)\r\n",
        "df_enfrentamientos = pd.DataFrame.from_dict(data4)\r\n",
        "df_equipos = pd.DataFrame.from_dict(data5)"
      ],
      "execution_count": null,
      "outputs": []
    },
    {
      "cell_type": "code",
      "metadata": {
        "colab": {
          "base_uri": "https://localhost:8080/",
          "height": 548
        },
        "id": "x56X5af8LMWN",
        "outputId": "e0b8645c-e805-4ac9-cc5b-000e3bf17a74"
      },
      "source": [
        "df_series.head()"
      ],
      "execution_count": null,
      "outputs": [
        {
          "output_type": "execute_result",
          "data": {
            "text/html": [
              "<div>\n",
              "<style scoped>\n",
              "    .dataframe tbody tr th:only-of-type {\n",
              "        vertical-align: middle;\n",
              "    }\n",
              "\n",
              "    .dataframe tbody tr th {\n",
              "        vertical-align: top;\n",
              "    }\n",
              "\n",
              "    .dataframe thead th {\n",
              "        text-align: right;\n",
              "    }\n",
              "</style>\n",
              "<table border=\"1\" class=\"dataframe\">\n",
              "  <thead>\n",
              "    <tr style=\"text-align: right;\">\n",
              "      <th></th>\n",
              "      <th>begin_at</th>\n",
              "      <th>description</th>\n",
              "      <th>end_at</th>\n",
              "      <th>full_name</th>\n",
              "      <th>id</th>\n",
              "      <th>league</th>\n",
              "      <th>league_id</th>\n",
              "      <th>modified_at</th>\n",
              "      <th>name</th>\n",
              "      <th>season</th>\n",
              "      <th>slug</th>\n",
              "      <th>tier</th>\n",
              "      <th>tournaments</th>\n",
              "      <th>videogame</th>\n",
              "      <th>videogame_title</th>\n",
              "      <th>winner_id</th>\n",
              "      <th>winner_type</th>\n",
              "      <th>year</th>\n",
              "    </tr>\n",
              "  </thead>\n",
              "  <tbody>\n",
              "    <tr>\n",
              "      <th>0</th>\n",
              "      <td>2021-02-23T07:00:00Z</td>\n",
              "      <td>None</td>\n",
              "      <td>2021-04-09T22:00:00Z</td>\n",
              "      <td>Split 1 2021</td>\n",
              "      <td>3361</td>\n",
              "      <td>{'id': 4539, 'image_url': 'https://cdn.pandasc...</td>\n",
              "      <td>4539</td>\n",
              "      <td>2021-02-18T11:40:54Z</td>\n",
              "      <td>Split 1</td>\n",
              "      <td>None</td>\n",
              "      <td>league-of-legends-lco-split-1-2021</td>\n",
              "      <td>c</td>\n",
              "      <td>[{'begin_at': '2021-02-23T07:00:00Z', 'end_at'...</td>\n",
              "      <td>{'id': 1, 'name': 'LoL', 'slug': 'league-of-le...</td>\n",
              "      <td>None</td>\n",
              "      <td>NaN</td>\n",
              "      <td>None</td>\n",
              "      <td>2021</td>\n",
              "    </tr>\n",
              "    <tr>\n",
              "      <th>1</th>\n",
              "      <td>2021-01-25T18:00:00Z</td>\n",
              "      <td>None</td>\n",
              "      <td>None</td>\n",
              "      <td>Season 8 2021</td>\n",
              "      <td>3351</td>\n",
              "      <td>{'id': 4426, 'image_url': 'https://cdn.pandasc...</td>\n",
              "      <td>4426</td>\n",
              "      <td>2021-02-12T15:08:41Z</td>\n",
              "      <td>None</td>\n",
              "      <td>8</td>\n",
              "      <td>league-of-legends-ebl-8-2021</td>\n",
              "      <td>c</td>\n",
              "      <td>[{'begin_at': '2021-02-25T18:00:00Z', 'end_at'...</td>\n",
              "      <td>{'id': 1, 'name': 'LoL', 'slug': 'league-of-le...</td>\n",
              "      <td>None</td>\n",
              "      <td>NaN</td>\n",
              "      <td>None</td>\n",
              "      <td>2021</td>\n",
              "    </tr>\n",
              "    <tr>\n",
              "      <th>2</th>\n",
              "      <td>2021-02-13T13:00:00Z</td>\n",
              "      <td>None</td>\n",
              "      <td>None</td>\n",
              "      <td>Spring 2021</td>\n",
              "      <td>3349</td>\n",
              "      <td>{'id': 4004, 'image_url': 'https://cdn.pandasc...</td>\n",
              "      <td>4004</td>\n",
              "      <td>2021-02-11T18:53:16Z</td>\n",
              "      <td>None</td>\n",
              "      <td>Spring</td>\n",
              "      <td>league-of-legends-lcl-spring-2021</td>\n",
              "      <td>b</td>\n",
              "      <td>[{'begin_at': '2021-02-13T13:00:00Z', 'end_at'...</td>\n",
              "      <td>{'id': 1, 'name': 'LoL', 'slug': 'league-of-le...</td>\n",
              "      <td>None</td>\n",
              "      <td>NaN</td>\n",
              "      <td>None</td>\n",
              "      <td>2021</td>\n",
              "    </tr>\n",
              "    <tr>\n",
              "      <th>3</th>\n",
              "      <td>2021-02-19T08:00:00Z</td>\n",
              "      <td>None</td>\n",
              "      <td>None</td>\n",
              "      <td>Spring 2021</td>\n",
              "      <td>3337</td>\n",
              "      <td>{'id': 4288, 'image_url': 'https://cdn.pandasc...</td>\n",
              "      <td>4288</td>\n",
              "      <td>2021-02-08T09:40:12Z</td>\n",
              "      <td>None</td>\n",
              "      <td>Spring</td>\n",
              "      <td>league-of-legends-pcs-spring-2021</td>\n",
              "      <td>b</td>\n",
              "      <td>[{'begin_at': '2021-02-19T08:00:00Z', 'end_at'...</td>\n",
              "      <td>{'id': 1, 'name': 'LoL', 'slug': 'league-of-le...</td>\n",
              "      <td>None</td>\n",
              "      <td>NaN</td>\n",
              "      <td>None</td>\n",
              "      <td>2021</td>\n",
              "    </tr>\n",
              "    <tr>\n",
              "      <th>4</th>\n",
              "      <td>2021-01-19T19:00:00Z</td>\n",
              "      <td>None</td>\n",
              "      <td>2021-04-17T19:00:00Z</td>\n",
              "      <td>Split 1 2021</td>\n",
              "      <td>3334</td>\n",
              "      <td>{'id': 4533, 'image_url': 'https://cdn.pandasc...</td>\n",
              "      <td>4533</td>\n",
              "      <td>2021-02-17T15:14:31Z</td>\n",
              "      <td>None</td>\n",
              "      <td>Split 1</td>\n",
              "      <td>league-of-legends-cblol-academy-split-1-2021</td>\n",
              "      <td>d</td>\n",
              "      <td>[{'begin_at': '2021-01-19T19:00:00Z', 'end_at'...</td>\n",
              "      <td>{'id': 1, 'name': 'LoL', 'slug': 'league-of-le...</td>\n",
              "      <td>None</td>\n",
              "      <td>NaN</td>\n",
              "      <td>None</td>\n",
              "      <td>2021</td>\n",
              "    </tr>\n",
              "  </tbody>\n",
              "</table>\n",
              "</div>"
            ],
            "text/plain": [
              "               begin_at description  ... winner_type  year\n",
              "0  2021-02-23T07:00:00Z        None  ...        None  2021\n",
              "1  2021-01-25T18:00:00Z        None  ...        None  2021\n",
              "2  2021-02-13T13:00:00Z        None  ...        None  2021\n",
              "3  2021-02-19T08:00:00Z        None  ...        None  2021\n",
              "4  2021-01-19T19:00:00Z        None  ...        None  2021\n",
              "\n",
              "[5 rows x 18 columns]"
            ]
          },
          "metadata": {
            "tags": []
          },
          "execution_count": 25
        }
      ]
    },
    {
      "cell_type": "code",
      "metadata": {
        "colab": {
          "base_uri": "https://localhost:8080/",
          "height": 653
        },
        "id": "IAbKJymJLRCC",
        "outputId": "aa074d6c-efaf-4451-dce7-52ff38b04df1"
      },
      "source": [
        "df_enfrentamientos.head()"
      ],
      "execution_count": null,
      "outputs": [
        {
          "output_type": "execute_result",
          "data": {
            "text/html": [
              "<div>\n",
              "<style scoped>\n",
              "    .dataframe tbody tr th:only-of-type {\n",
              "        vertical-align: middle;\n",
              "    }\n",
              "\n",
              "    .dataframe tbody tr th {\n",
              "        vertical-align: top;\n",
              "    }\n",
              "\n",
              "    .dataframe thead th {\n",
              "        text-align: right;\n",
              "    }\n",
              "</style>\n",
              "<table border=\"1\" class=\"dataframe\">\n",
              "  <thead>\n",
              "    <tr style=\"text-align: right;\">\n",
              "      <th></th>\n",
              "      <th>forfeit</th>\n",
              "      <th>number_of_games</th>\n",
              "      <th>name</th>\n",
              "      <th>slug</th>\n",
              "      <th>videogame</th>\n",
              "      <th>begin_at</th>\n",
              "      <th>tournament</th>\n",
              "      <th>streams</th>\n",
              "      <th>results</th>\n",
              "      <th>winner_id</th>\n",
              "      <th>modified_at</th>\n",
              "      <th>league</th>\n",
              "      <th>official_stream_url</th>\n",
              "      <th>draw</th>\n",
              "      <th>winner</th>\n",
              "      <th>games</th>\n",
              "      <th>league_id</th>\n",
              "      <th>live_embed_url</th>\n",
              "      <th>videogame_version</th>\n",
              "      <th>status</th>\n",
              "      <th>game_advantage</th>\n",
              "      <th>serie_id</th>\n",
              "      <th>tournament_id</th>\n",
              "      <th>scheduled_at</th>\n",
              "      <th>id</th>\n",
              "      <th>serie</th>\n",
              "      <th>match_type</th>\n",
              "      <th>end_at</th>\n",
              "      <th>original_scheduled_at</th>\n",
              "      <th>detailed_stats</th>\n",
              "      <th>rescheduled</th>\n",
              "      <th>opponents</th>\n",
              "      <th>live</th>\n",
              "    </tr>\n",
              "  </thead>\n",
              "  <tbody>\n",
              "    <tr>\n",
              "      <th>0</th>\n",
              "      <td>False</td>\n",
              "      <td>5</td>\n",
              "      <td>Round 3: TBD vs TBD</td>\n",
              "      <td>2021-03-11-c3b8c131-fac1-4b71-b339-f1d0387914a6</td>\n",
              "      <td>{'id': 1, 'name': 'LoL', 'slug': 'league-of-le...</td>\n",
              "      <td>2021-03-11T17:00:00Z</td>\n",
              "      <td>{'begin_at': '2021-03-09T17:00:00Z', 'end_at':...</td>\n",
              "      <td>{'english': {'embed_url': None, 'raw_url': Non...</td>\n",
              "      <td>[]</td>\n",
              "      <td>NaN</td>\n",
              "      <td>2021-03-07T20:20:32Z</td>\n",
              "      <td>{'id': 4302, 'image_url': 'https://cdn.pandasc...</td>\n",
              "      <td>None</td>\n",
              "      <td>False</td>\n",
              "      <td>None</td>\n",
              "      <td>[{'begin_at': None, 'complete': False, 'detail...</td>\n",
              "      <td>4302</td>\n",
              "      <td>None</td>\n",
              "      <td>None</td>\n",
              "      <td>not_started</td>\n",
              "      <td>None</td>\n",
              "      <td>3254</td>\n",
              "      <td>5649</td>\n",
              "      <td>2021-03-11T17:00:00Z</td>\n",
              "      <td>586007</td>\n",
              "      <td>{'begin_at': '2021-01-19T17:00:00Z', 'descript...</td>\n",
              "      <td>best_of</td>\n",
              "      <td>None</td>\n",
              "      <td>2021-03-11T17:00:00Z</td>\n",
              "      <td>True</td>\n",
              "      <td>False</td>\n",
              "      <td>[]</td>\n",
              "      <td>{'opens_at': None, 'supported': False, 'url': ...</td>\n",
              "    </tr>\n",
              "    <tr>\n",
              "      <th>1</th>\n",
              "      <td>False</td>\n",
              "      <td>3</td>\n",
              "      <td>Round 2 Match 2: MOUZ vs BIG</td>\n",
              "      <td>mousesports-vs-berlin-international-gaming-202...</td>\n",
              "      <td>{'id': 1, 'name': 'LoL', 'slug': 'league-of-le...</td>\n",
              "      <td>2021-03-10T20:00:00Z</td>\n",
              "      <td>{'begin_at': '2021-03-09T17:00:00Z', 'end_at':...</td>\n",
              "      <td>{'english': {'embed_url': None, 'raw_url': Non...</td>\n",
              "      <td>[{'score': 0, 'team_id': 16}, {'score': 0, 'te...</td>\n",
              "      <td>NaN</td>\n",
              "      <td>2021-03-07T20:19:53Z</td>\n",
              "      <td>{'id': 4302, 'image_url': 'https://cdn.pandasc...</td>\n",
              "      <td>None</td>\n",
              "      <td>False</td>\n",
              "      <td>None</td>\n",
              "      <td>[{'begin_at': None, 'complete': False, 'detail...</td>\n",
              "      <td>4302</td>\n",
              "      <td>None</td>\n",
              "      <td>None</td>\n",
              "      <td>not_started</td>\n",
              "      <td>None</td>\n",
              "      <td>3254</td>\n",
              "      <td>5649</td>\n",
              "      <td>2021-03-10T20:00:00Z</td>\n",
              "      <td>586006</td>\n",
              "      <td>{'begin_at': '2021-01-19T17:00:00Z', 'descript...</td>\n",
              "      <td>best_of</td>\n",
              "      <td>None</td>\n",
              "      <td>2021-03-10T20:00:00Z</td>\n",
              "      <td>True</td>\n",
              "      <td>False</td>\n",
              "      <td>[{'opponent': {'acronym': 'MOUZ', 'id': 16, 'i...</td>\n",
              "      <td>{'opens_at': None, 'supported': False, 'url': ...</td>\n",
              "    </tr>\n",
              "    <tr>\n",
              "      <th>2</th>\n",
              "      <td>False</td>\n",
              "      <td>3</td>\n",
              "      <td>Round 2 Match 1: TBD vs TBD</td>\n",
              "      <td>2021-03-10-7412caf0-3f45-40e1-b763-80d005a04162</td>\n",
              "      <td>{'id': 1, 'name': 'LoL', 'slug': 'league-of-le...</td>\n",
              "      <td>2021-03-10T17:00:00Z</td>\n",
              "      <td>{'begin_at': '2021-03-09T17:00:00Z', 'end_at':...</td>\n",
              "      <td>{'english': {'embed_url': None, 'raw_url': Non...</td>\n",
              "      <td>[]</td>\n",
              "      <td>NaN</td>\n",
              "      <td>2021-03-07T20:19:33Z</td>\n",
              "      <td>{'id': 4302, 'image_url': 'https://cdn.pandasc...</td>\n",
              "      <td>None</td>\n",
              "      <td>False</td>\n",
              "      <td>None</td>\n",
              "      <td>[{'begin_at': None, 'complete': False, 'detail...</td>\n",
              "      <td>4302</td>\n",
              "      <td>None</td>\n",
              "      <td>None</td>\n",
              "      <td>not_started</td>\n",
              "      <td>None</td>\n",
              "      <td>3254</td>\n",
              "      <td>5649</td>\n",
              "      <td>2021-03-10T17:00:00Z</td>\n",
              "      <td>586005</td>\n",
              "      <td>{'begin_at': '2021-01-19T17:00:00Z', 'descript...</td>\n",
              "      <td>best_of</td>\n",
              "      <td>None</td>\n",
              "      <td>2021-03-10T17:00:00Z</td>\n",
              "      <td>True</td>\n",
              "      <td>False</td>\n",
              "      <td>[]</td>\n",
              "      <td>{'opens_at': None, 'supported': False, 'url': ...</td>\n",
              "    </tr>\n",
              "    <tr>\n",
              "      <th>3</th>\n",
              "      <td>False</td>\n",
              "      <td>3</td>\n",
              "      <td>Round 1 Match 2: SKP vs S04.E</td>\n",
              "      <td>sk-gaming-prime-vs-fc-schalke-04-evolution-202...</td>\n",
              "      <td>{'id': 1, 'name': 'LoL', 'slug': 'league-of-le...</td>\n",
              "      <td>2021-03-09T20:00:00Z</td>\n",
              "      <td>{'begin_at': '2021-03-09T17:00:00Z', 'end_at':...</td>\n",
              "      <td>{'english': {'embed_url': None, 'raw_url': Non...</td>\n",
              "      <td>[{'score': 0, 'team_id': 247}, {'score': 0, 't...</td>\n",
              "      <td>NaN</td>\n",
              "      <td>2021-03-07T20:18:12Z</td>\n",
              "      <td>{'id': 4302, 'image_url': 'https://cdn.pandasc...</td>\n",
              "      <td>None</td>\n",
              "      <td>False</td>\n",
              "      <td>None</td>\n",
              "      <td>[{'begin_at': None, 'complete': False, 'detail...</td>\n",
              "      <td>4302</td>\n",
              "      <td>None</td>\n",
              "      <td>None</td>\n",
              "      <td>not_started</td>\n",
              "      <td>None</td>\n",
              "      <td>3254</td>\n",
              "      <td>5649</td>\n",
              "      <td>2021-03-09T20:00:00Z</td>\n",
              "      <td>586004</td>\n",
              "      <td>{'begin_at': '2021-01-19T17:00:00Z', 'descript...</td>\n",
              "      <td>best_of</td>\n",
              "      <td>None</td>\n",
              "      <td>2021-03-09T20:00:00Z</td>\n",
              "      <td>True</td>\n",
              "      <td>False</td>\n",
              "      <td>[{'opponent': {'acronym': 'SKP', 'id': 247, 'i...</td>\n",
              "      <td>{'opens_at': None, 'supported': False, 'url': ...</td>\n",
              "    </tr>\n",
              "    <tr>\n",
              "      <th>4</th>\n",
              "      <td>False</td>\n",
              "      <td>3</td>\n",
              "      <td>Round 1 Match 1: GL vs USE</td>\n",
              "      <td>team-gamerlegion-vs-unicorns-of-love-sexy-edit...</td>\n",
              "      <td>{'id': 1, 'name': 'LoL', 'slug': 'league-of-le...</td>\n",
              "      <td>2021-03-09T17:00:00Z</td>\n",
              "      <td>{'begin_at': '2021-03-09T17:00:00Z', 'end_at':...</td>\n",
              "      <td>{'english': {'embed_url': None, 'raw_url': Non...</td>\n",
              "      <td>[{'score': 0, 'team_id': 126830}, {'score': 0,...</td>\n",
              "      <td>NaN</td>\n",
              "      <td>2021-03-07T20:17:44Z</td>\n",
              "      <td>{'id': 4302, 'image_url': 'https://cdn.pandasc...</td>\n",
              "      <td>None</td>\n",
              "      <td>False</td>\n",
              "      <td>None</td>\n",
              "      <td>[{'begin_at': None, 'complete': False, 'detail...</td>\n",
              "      <td>4302</td>\n",
              "      <td>None</td>\n",
              "      <td>None</td>\n",
              "      <td>not_started</td>\n",
              "      <td>None</td>\n",
              "      <td>3254</td>\n",
              "      <td>5649</td>\n",
              "      <td>2021-03-09T17:00:00Z</td>\n",
              "      <td>586003</td>\n",
              "      <td>{'begin_at': '2021-01-19T17:00:00Z', 'descript...</td>\n",
              "      <td>best_of</td>\n",
              "      <td>None</td>\n",
              "      <td>2021-03-09T17:00:00Z</td>\n",
              "      <td>True</td>\n",
              "      <td>False</td>\n",
              "      <td>[{'opponent': {'acronym': 'GL', 'id': 126830, ...</td>\n",
              "      <td>{'opens_at': None, 'supported': False, 'url': ...</td>\n",
              "    </tr>\n",
              "  </tbody>\n",
              "</table>\n",
              "</div>"
            ],
            "text/plain": [
              "   forfeit  ...                                               live\n",
              "0    False  ...  {'opens_at': None, 'supported': False, 'url': ...\n",
              "1    False  ...  {'opens_at': None, 'supported': False, 'url': ...\n",
              "2    False  ...  {'opens_at': None, 'supported': False, 'url': ...\n",
              "3    False  ...  {'opens_at': None, 'supported': False, 'url': ...\n",
              "4    False  ...  {'opens_at': None, 'supported': False, 'url': ...\n",
              "\n",
              "[5 rows x 33 columns]"
            ]
          },
          "metadata": {
            "tags": []
          },
          "execution_count": 26
        }
      ]
    },
    {
      "cell_type": "code",
      "metadata": {
        "colab": {
          "base_uri": "https://localhost:8080/",
          "height": 194
        },
        "id": "yOdc2bPkLUEe",
        "outputId": "8da73abe-3dbf-4fd8-fac0-697686731229"
      },
      "source": [
        "df_equipos.head()"
      ],
      "execution_count": null,
      "outputs": [
        {
          "output_type": "execute_result",
          "data": {
            "text/html": [
              "<div>\n",
              "<style scoped>\n",
              "    .dataframe tbody tr th:only-of-type {\n",
              "        vertical-align: middle;\n",
              "    }\n",
              "\n",
              "    .dataframe tbody tr th {\n",
              "        vertical-align: top;\n",
              "    }\n",
              "\n",
              "    .dataframe thead th {\n",
              "        text-align: right;\n",
              "    }\n",
              "</style>\n",
              "<table border=\"1\" class=\"dataframe\">\n",
              "  <thead>\n",
              "    <tr style=\"text-align: right;\">\n",
              "      <th></th>\n",
              "      <th>acronym</th>\n",
              "      <th>current_videogame</th>\n",
              "      <th>id</th>\n",
              "      <th>image_url</th>\n",
              "      <th>location</th>\n",
              "      <th>modified_at</th>\n",
              "      <th>name</th>\n",
              "      <th>players</th>\n",
              "      <th>slug</th>\n",
              "    </tr>\n",
              "  </thead>\n",
              "  <tbody>\n",
              "    <tr>\n",
              "      <th>0</th>\n",
              "      <td>PCE</td>\n",
              "      <td>{'id': 1, 'name': 'LoL', 'slug': 'league-of-le...</td>\n",
              "      <td>128614</td>\n",
              "      <td>https://cdn.pandascore.co/images/team/image/12...</td>\n",
              "      <td>AU</td>\n",
              "      <td>2021-03-05T13:55:39Z</td>\n",
              "      <td>PEACE</td>\n",
              "      <td>[{'birth_year': None, 'birthday': None, 'first...</td>\n",
              "      <td>peace</td>\n",
              "    </tr>\n",
              "    <tr>\n",
              "      <th>1</th>\n",
              "      <td>Z10</td>\n",
              "      <td>{'id': 1, 'name': 'LoL', 'slug': 'league-of-le...</td>\n",
              "      <td>128573</td>\n",
              "      <td>https://cdn.pandascore.co/images/team/image/12...</td>\n",
              "      <td>RS</td>\n",
              "      <td>2021-03-01T19:43:55Z</td>\n",
              "      <td>Z10 ESHARK</td>\n",
              "      <td>[{'birth_year': None, 'birthday': None, 'first...</td>\n",
              "      <td>z10-eshark</td>\n",
              "    </tr>\n",
              "    <tr>\n",
              "      <th>2</th>\n",
              "      <td>X25</td>\n",
              "      <td>{'id': 1, 'name': 'LoL', 'slug': 'league-of-le...</td>\n",
              "      <td>128572</td>\n",
              "      <td>https://cdn.pandascore.co/images/team/image/12...</td>\n",
              "      <td>RS</td>\n",
              "      <td>2021-02-12T16:11:49Z</td>\n",
              "      <td>x25 Esports</td>\n",
              "      <td>[{'birth_year': 1998, 'birthday': '1998-07-31'...</td>\n",
              "      <td>x25-esports</td>\n",
              "    </tr>\n",
              "    <tr>\n",
              "      <th>3</th>\n",
              "      <td>None</td>\n",
              "      <td>{'id': 1, 'name': 'LoL', 'slug': 'league-of-le...</td>\n",
              "      <td>128566</td>\n",
              "      <td>https://cdn.pandascore.co/images/team/image/12...</td>\n",
              "      <td>RU</td>\n",
              "      <td>2021-02-28T10:02:24Z</td>\n",
              "      <td>CTRL PLAY</td>\n",
              "      <td>[{'birth_year': None, 'birthday': None, 'first...</td>\n",
              "      <td>ctrl-play</td>\n",
              "    </tr>\n",
              "    <tr>\n",
              "      <th>4</th>\n",
              "      <td>IPN</td>\n",
              "      <td>{'id': 1, 'name': 'LoL', 'slug': 'league-of-le...</td>\n",
              "      <td>128547</td>\n",
              "      <td>https://cdn.pandascore.co/images/team/image/12...</td>\n",
              "      <td>SG</td>\n",
              "      <td>2021-02-19T17:37:02Z</td>\n",
              "      <td>Impunity</td>\n",
              "      <td>[{'birth_year': None, 'birthday': None, 'first...</td>\n",
              "      <td>impunity-league-of-legends</td>\n",
              "    </tr>\n",
              "  </tbody>\n",
              "</table>\n",
              "</div>"
            ],
            "text/plain": [
              "  acronym  ...                        slug\n",
              "0     PCE  ...                       peace\n",
              "1     Z10  ...                  z10-eshark\n",
              "2     X25  ...                 x25-esports\n",
              "3    None  ...                   ctrl-play\n",
              "4     IPN  ...  impunity-league-of-legends\n",
              "\n",
              "[5 rows x 9 columns]"
            ]
          },
          "metadata": {
            "tags": []
          },
          "execution_count": 27
        }
      ]
    },
    {
      "cell_type": "markdown",
      "metadata": {
        "id": "0PK9zXKZLYDo"
      },
      "source": [
        "¡Increíble! Con tan solo 5 dataframes tenemos muchísima información acerca de la escena competitiva de League of Legends, pero si recordamos bien... ¡tenemos acceso a otros 3 juegos! entonces en total tendremos 20 dataframes con los que podríamos trabajar ( _panic_ ). De momentos nos enfocaremos en trabajar con solo los dataframes obtenidos para LoL, quizás haya una forma de trabajar con todos, una luz al final del túnel."
      ]
    },
    {
      "cell_type": "markdown",
      "metadata": {
        "id": "4XPIiNndL-E2"
      },
      "source": [
        "# Postwork 04: Análisis Exploratorio de nuestro Dataset\r\n",
        "\r\n",
        "En el [postwork anterior](https://github.com/LKXoro/BEDU-Rstudio-postworks/blob/main/M3_Postwork3/Postwork_03_python.ipynb) exploramos las posibles respuestas que nos brinda PandaScore. Con ellas obtuvimos 5 Datasets llenos de información tan sólo para League of Legends. Ahora vamos a inspeccionar un poco los campos que tenemos y el tipo de información dentro de ellos, comencemos realizando las peticiones a la API:"
      ]
    },
    {
      "cell_type": "code",
      "metadata": {
        "colab": {
          "base_uri": "https://localhost:8080/"
        },
        "id": "C5SMnG9lLW4W",
        "outputId": "31175572-c644-4399-914b-917bb8046621"
      },
      "source": [
        "import requests \r\n",
        "\r\n",
        "juego = 'lol' \r\n",
        "información = 'tournaments' \r\n",
        "información2 = 'leagues'\r\n",
        "información3 = 'series' \r\n",
        "información4 = 'matches'\r\n",
        "información5 = 'teams'\r\n",
        "registros = 100  \r\n",
        "token =  'V3U1fnnWozJi3bbhZfrxdiAmN4-XWnX_4g6i_6iauwwh7w-V8Ns'\r\n",
        "\r\n",
        "url = f\"https://api.pandascore.co/{juego}/{información}?page[size]={registros}&token=V3U1fnnWozJi3bbhZfrxdiAmN4-XWnX_4g6i_6iauwwh7w-V8Ns\"\r\n",
        "url2 = f\"https://api.pandascore.co/{juego}/{información2}?page[size]={registros}&token=V3U1fnnWozJi3bbhZfrxdiAmN4-XWnX_4g6i_6iauwwh7w-V8Ns\"\r\n",
        "url3 = f\"https://api.pandascore.co/{juego}/{información3}?page[size]={registros}&token=V3U1fnnWozJi3bbhZfrxdiAmN4-XWnX_4g6i_6iauwwh7w-V8Ns\"\r\n",
        "url4 = f\"https://api.pandascore.co/{juego}/{información4}?page[size]={registros}&token=V3U1fnnWozJi3bbhZfrxdiAmN4-XWnX_4g6i_6iauwwh7w-V8Ns\"\r\n",
        "url5 = f\"https://api.pandascore.co/{juego}/{información5}?page[size]={registros}&token=V3U1fnnWozJi3bbhZfrxdiAmN4-XWnX_4g6i_6iauwwh7w-V8Ns\"\r\n",
        "\r\n",
        "response = requests.get(url) \r\n",
        "response2 = requests.get(url2)\r\n",
        "response3 = requests.get(url3) \r\n",
        "response4 = requests.get(url4) \r\n",
        "response5 = requests.get(url5) \r\n",
        "\r\n",
        "print(response.status_code)\r\n",
        "print(response2.status_code)\r\n",
        "print(response3.status_code)\r\n",
        "print(response4.status_code)\r\n",
        "print(response5.status_code)\r\n"
      ],
      "execution_count": null,
      "outputs": [
        {
          "output_type": "stream",
          "text": [
            "200\n",
            "200\n",
            "200\n",
            "200\n",
            "200\n"
          ],
          "name": "stdout"
        }
      ]
    },
    {
      "cell_type": "markdown",
      "metadata": {
        "id": "be19EfBGL6jW"
      },
      "source": [
        "¡Genial! Todas las peticiones se realizaron correctamente. Vamos a explorar un poco la cantidad de datos que se nos devolvió:"
      ]
    },
    {
      "cell_type": "code",
      "metadata": {
        "colab": {
          "base_uri": "https://localhost:8080/"
        },
        "id": "8Y7-nHktMLNQ",
        "outputId": "e750dd6b-cd7b-4a0f-ff60-3fdd2a252e78"
      },
      "source": [
        "print(f'### La petición de {información} nos devolvió:\\n')\r\n",
        "print(response.headers['X-Total']+' registros totales.\\n') \r\n",
        "print(f'### La petición de {información2} nos devolvió:\\n')\r\n",
        "print(response2.headers['X-Total']+' registros totales.\\n') \r\n",
        "print(f'### La petición de {información3} nos devolvió:\\n')\r\n",
        "print(response3.headers['X-Total']+' registros totales.\\n') \r\n",
        "print(f'### La petición de {información4} nos devolvió:\\n')\r\n",
        "print(response4.headers['X-Total']+' registros totales.\\n') \r\n",
        "print(f'### La petición de {información5} nos devolvió:\\n')\r\n",
        "print(response5.headers['X-Total']+' registros totales.\\n')   "
      ],
      "execution_count": null,
      "outputs": [
        {
          "output_type": "stream",
          "text": [
            "### La petición de tournaments nos devolvió:\n",
            "\n",
            "824 registros totales.\n",
            "\n",
            "### La petición de leagues nos devolvió:\n",
            "\n",
            "67 registros totales.\n",
            "\n",
            "### La petición de series nos devolvió:\n",
            "\n",
            "298 registros totales.\n",
            "\n",
            "### La petición de matches nos devolvió:\n",
            "\n",
            "18694 registros totales.\n",
            "\n",
            "### La petición de teams nos devolvió:\n",
            "\n",
            "973 registros totales.\n",
            "\n"
          ],
          "name": "stdout"
        }
      ]
    },
    {
      "cell_type": "markdown",
      "metadata": {
        "id": "oVwB9S6KMQnV"
      },
      "source": [
        "Observamos que los datos relacions con los enfrentamientos (matches) cuentan con una extensa cantidad de registros, esto es lógico, ya que dentro de cada torneo ha habido diversos enfrentamientos (¡Y han habido muchos torneos!). Exploremos mejor los campos de cada respuesta, primero creamos los df:"
      ]
    },
    {
      "cell_type": "code",
      "metadata": {
        "id": "2aXXiWobMU-Q"
      },
      "source": [
        "import pandas as pd\r\n",
        "\r\n",
        "data1 = response.json()\r\n",
        "data2 = response2.json()\r\n",
        "data3 = response3.json()\r\n",
        "data4 = response4.json()\r\n",
        "data5 = response5.json()\r\n",
        "\r\n",
        "df_torneos = pd.DataFrame.from_dict(data1)\r\n",
        "df_ligas= pd.DataFrame.from_dict(data2)\r\n",
        "df_series = pd.DataFrame.from_dict(data3)\r\n",
        "df_enfrentamientos = pd.DataFrame.from_dict(data4)\r\n",
        "df_equipos = pd.DataFrame.from_dict(data5)"
      ],
      "execution_count": null,
      "outputs": []
    },
    {
      "cell_type": "markdown",
      "metadata": {
        "id": "ijQPPaAUMYhI"
      },
      "source": [
        "Si seguimos la jerarquía de organización de los eventos de eSports, el primer elemento que debemos inspeccionar son las ligas:"
      ]
    },
    {
      "cell_type": "code",
      "metadata": {
        "colab": {
          "base_uri": "https://localhost:8080/",
          "height": 278
        },
        "id": "dkAV_akBMwV3",
        "outputId": "b2db58b3-4e4e-41e9-d572-449374ff35f5"
      },
      "source": [
        "df_ligas.head()"
      ],
      "execution_count": null,
      "outputs": [
        {
          "output_type": "execute_result",
          "data": {
            "text/html": [
              "<div>\n",
              "<style scoped>\n",
              "    .dataframe tbody tr th:only-of-type {\n",
              "        vertical-align: middle;\n",
              "    }\n",
              "\n",
              "    .dataframe tbody tr th {\n",
              "        vertical-align: top;\n",
              "    }\n",
              "\n",
              "    .dataframe thead th {\n",
              "        text-align: right;\n",
              "    }\n",
              "</style>\n",
              "<table border=\"1\" class=\"dataframe\">\n",
              "  <thead>\n",
              "    <tr style=\"text-align: right;\">\n",
              "      <th></th>\n",
              "      <th>id</th>\n",
              "      <th>image_url</th>\n",
              "      <th>modified_at</th>\n",
              "      <th>name</th>\n",
              "      <th>series</th>\n",
              "      <th>slug</th>\n",
              "      <th>url</th>\n",
              "      <th>videogame</th>\n",
              "    </tr>\n",
              "  </thead>\n",
              "  <tbody>\n",
              "    <tr>\n",
              "      <th>0</th>\n",
              "      <td>4539</td>\n",
              "      <td>https://cdn.pandascore.co/images/league/image/...</td>\n",
              "      <td>2021-02-18T10:32:45Z</td>\n",
              "      <td>LCO</td>\n",
              "      <td>[{'begin_at': '2021-02-23T07:00:00Z', 'descrip...</td>\n",
              "      <td>league-of-legends-lco</td>\n",
              "      <td>https://lco.gg/</td>\n",
              "      <td>{'current_version': '11.5.1', 'id': 1, 'name':...</td>\n",
              "    </tr>\n",
              "    <tr>\n",
              "      <th>1</th>\n",
              "      <td>4533</td>\n",
              "      <td>https://cdn.pandascore.co/images/league/image/...</td>\n",
              "      <td>2021-02-05T14:07:43Z</td>\n",
              "      <td>CBLOL Academy</td>\n",
              "      <td>[{'begin_at': '2021-01-19T19:00:00Z', 'descrip...</td>\n",
              "      <td>league-of-legends-cblol-academy</td>\n",
              "      <td>None</td>\n",
              "      <td>{'current_version': '11.5.1', 'id': 1, 'name':...</td>\n",
              "    </tr>\n",
              "    <tr>\n",
              "      <th>2</th>\n",
              "      <td>4483</td>\n",
              "      <td>https://cdn.pandascore.co/images/league/image/...</td>\n",
              "      <td>2020-10-23T11:26:58Z</td>\n",
              "      <td>Iberian Cup</td>\n",
              "      <td>[{'begin_at': '2020-10-09T22:00:00Z', 'descrip...</td>\n",
              "      <td>league-of-legends-iberian-cup</td>\n",
              "      <td>https://iberiancup.lvp.global/</td>\n",
              "      <td>{'current_version': '11.5.1', 'id': 1, 'name':...</td>\n",
              "    </tr>\n",
              "    <tr>\n",
              "      <th>3</th>\n",
              "      <td>4450</td>\n",
              "      <td>https://cdn.pandascore.co/images/league/image/...</td>\n",
              "      <td>2020-08-08T09:14:04Z</td>\n",
              "      <td>Baltic Masters</td>\n",
              "      <td>[{'begin_at': '2020-08-11T15:00:00Z', 'descrip...</td>\n",
              "      <td>league-of-legends-baltic-masters</td>\n",
              "      <td>None</td>\n",
              "      <td>{'current_version': '11.5.1', 'id': 1, 'name':...</td>\n",
              "    </tr>\n",
              "    <tr>\n",
              "      <th>4</th>\n",
              "      <td>4433</td>\n",
              "      <td>https://cdn.pandascore.co/images/league/image/...</td>\n",
              "      <td>2020-06-29T21:14:29Z</td>\n",
              "      <td>Hitpoint Masters</td>\n",
              "      <td>[{'begin_at': '2020-06-21T12:30:00Z', 'descrip...</td>\n",
              "      <td>league-of-legends-hitpoint-masters</td>\n",
              "      <td>https://hitpoint.cz/</td>\n",
              "      <td>{'current_version': '11.5.1', 'id': 1, 'name':...</td>\n",
              "    </tr>\n",
              "  </tbody>\n",
              "</table>\n",
              "</div>"
            ],
            "text/plain": [
              "     id  ...                                          videogame\n",
              "0  4539  ...  {'current_version': '11.5.1', 'id': 1, 'name':...\n",
              "1  4533  ...  {'current_version': '11.5.1', 'id': 1, 'name':...\n",
              "2  4483  ...  {'current_version': '11.5.1', 'id': 1, 'name':...\n",
              "3  4450  ...  {'current_version': '11.5.1', 'id': 1, 'name':...\n",
              "4  4433  ...  {'current_version': '11.5.1', 'id': 1, 'name':...\n",
              "\n",
              "[5 rows x 8 columns]"
            ]
          },
          "metadata": {
            "tags": []
          },
          "execution_count": 31
        }
      ]
    },
    {
      "cell_type": "markdown",
      "metadata": {
        "id": "SPIUGpYPMyuj"
      },
      "source": [
        "Nos encontramos ante un df con 8 campos, dos de ellos son url que nos llevan a la página oficial (en caso de tenerla) y el logo oficial de la serie. También tenemos un campo para la versión del juego con la que se llevo a cabo la liga y las distintas series que se han llevado a cabo, el slug (¿eslogan?) de la liga y el nombre de la liga.\r\n",
        "\r\n",
        "La cantidad de datos sobre ligas, al ser los eventos de mayor nivel, es la de menor cantidad. El número de campos es algo limitado y no todos son de útilidad para análisis, para un dashboard los url e imágenes serían ideales.\r\n",
        "\r\n",
        "Veamos que información tenemos respecto a las series:"
      ]
    },
    {
      "cell_type": "code",
      "metadata": {
        "colab": {
          "base_uri": "https://localhost:8080/",
          "height": 548
        },
        "id": "EqosXBDvM1pe",
        "outputId": "0e92c83d-4eff-4522-9cac-a34d2c4404f9"
      },
      "source": [
        "df_series.head()"
      ],
      "execution_count": null,
      "outputs": [
        {
          "output_type": "execute_result",
          "data": {
            "text/html": [
              "<div>\n",
              "<style scoped>\n",
              "    .dataframe tbody tr th:only-of-type {\n",
              "        vertical-align: middle;\n",
              "    }\n",
              "\n",
              "    .dataframe tbody tr th {\n",
              "        vertical-align: top;\n",
              "    }\n",
              "\n",
              "    .dataframe thead th {\n",
              "        text-align: right;\n",
              "    }\n",
              "</style>\n",
              "<table border=\"1\" class=\"dataframe\">\n",
              "  <thead>\n",
              "    <tr style=\"text-align: right;\">\n",
              "      <th></th>\n",
              "      <th>begin_at</th>\n",
              "      <th>description</th>\n",
              "      <th>end_at</th>\n",
              "      <th>full_name</th>\n",
              "      <th>id</th>\n",
              "      <th>league</th>\n",
              "      <th>league_id</th>\n",
              "      <th>modified_at</th>\n",
              "      <th>name</th>\n",
              "      <th>season</th>\n",
              "      <th>slug</th>\n",
              "      <th>tier</th>\n",
              "      <th>tournaments</th>\n",
              "      <th>videogame</th>\n",
              "      <th>videogame_title</th>\n",
              "      <th>winner_id</th>\n",
              "      <th>winner_type</th>\n",
              "      <th>year</th>\n",
              "    </tr>\n",
              "  </thead>\n",
              "  <tbody>\n",
              "    <tr>\n",
              "      <th>0</th>\n",
              "      <td>2021-02-23T07:00:00Z</td>\n",
              "      <td>None</td>\n",
              "      <td>2021-04-09T22:00:00Z</td>\n",
              "      <td>Split 1 2021</td>\n",
              "      <td>3361</td>\n",
              "      <td>{'id': 4539, 'image_url': 'https://cdn.pandasc...</td>\n",
              "      <td>4539</td>\n",
              "      <td>2021-02-18T11:40:54Z</td>\n",
              "      <td>Split 1</td>\n",
              "      <td>None</td>\n",
              "      <td>league-of-legends-lco-split-1-2021</td>\n",
              "      <td>c</td>\n",
              "      <td>[{'begin_at': '2021-02-23T07:00:00Z', 'end_at'...</td>\n",
              "      <td>{'id': 1, 'name': 'LoL', 'slug': 'league-of-le...</td>\n",
              "      <td>None</td>\n",
              "      <td>NaN</td>\n",
              "      <td>None</td>\n",
              "      <td>2021</td>\n",
              "    </tr>\n",
              "    <tr>\n",
              "      <th>1</th>\n",
              "      <td>2021-01-25T18:00:00Z</td>\n",
              "      <td>None</td>\n",
              "      <td>None</td>\n",
              "      <td>Season 8 2021</td>\n",
              "      <td>3351</td>\n",
              "      <td>{'id': 4426, 'image_url': 'https://cdn.pandasc...</td>\n",
              "      <td>4426</td>\n",
              "      <td>2021-02-12T15:08:41Z</td>\n",
              "      <td>None</td>\n",
              "      <td>8</td>\n",
              "      <td>league-of-legends-ebl-8-2021</td>\n",
              "      <td>c</td>\n",
              "      <td>[{'begin_at': '2021-02-25T18:00:00Z', 'end_at'...</td>\n",
              "      <td>{'id': 1, 'name': 'LoL', 'slug': 'league-of-le...</td>\n",
              "      <td>None</td>\n",
              "      <td>NaN</td>\n",
              "      <td>None</td>\n",
              "      <td>2021</td>\n",
              "    </tr>\n",
              "    <tr>\n",
              "      <th>2</th>\n",
              "      <td>2021-02-13T13:00:00Z</td>\n",
              "      <td>None</td>\n",
              "      <td>None</td>\n",
              "      <td>Spring 2021</td>\n",
              "      <td>3349</td>\n",
              "      <td>{'id': 4004, 'image_url': 'https://cdn.pandasc...</td>\n",
              "      <td>4004</td>\n",
              "      <td>2021-02-11T18:53:16Z</td>\n",
              "      <td>None</td>\n",
              "      <td>Spring</td>\n",
              "      <td>league-of-legends-lcl-spring-2021</td>\n",
              "      <td>b</td>\n",
              "      <td>[{'begin_at': '2021-02-13T13:00:00Z', 'end_at'...</td>\n",
              "      <td>{'id': 1, 'name': 'LoL', 'slug': 'league-of-le...</td>\n",
              "      <td>None</td>\n",
              "      <td>NaN</td>\n",
              "      <td>None</td>\n",
              "      <td>2021</td>\n",
              "    </tr>\n",
              "    <tr>\n",
              "      <th>3</th>\n",
              "      <td>2021-02-19T08:00:00Z</td>\n",
              "      <td>None</td>\n",
              "      <td>None</td>\n",
              "      <td>Spring 2021</td>\n",
              "      <td>3337</td>\n",
              "      <td>{'id': 4288, 'image_url': 'https://cdn.pandasc...</td>\n",
              "      <td>4288</td>\n",
              "      <td>2021-02-08T09:40:12Z</td>\n",
              "      <td>None</td>\n",
              "      <td>Spring</td>\n",
              "      <td>league-of-legends-pcs-spring-2021</td>\n",
              "      <td>b</td>\n",
              "      <td>[{'begin_at': '2021-02-19T08:00:00Z', 'end_at'...</td>\n",
              "      <td>{'id': 1, 'name': 'LoL', 'slug': 'league-of-le...</td>\n",
              "      <td>None</td>\n",
              "      <td>NaN</td>\n",
              "      <td>None</td>\n",
              "      <td>2021</td>\n",
              "    </tr>\n",
              "    <tr>\n",
              "      <th>4</th>\n",
              "      <td>2021-01-19T19:00:00Z</td>\n",
              "      <td>None</td>\n",
              "      <td>2021-04-17T19:00:00Z</td>\n",
              "      <td>Split 1 2021</td>\n",
              "      <td>3334</td>\n",
              "      <td>{'id': 4533, 'image_url': 'https://cdn.pandasc...</td>\n",
              "      <td>4533</td>\n",
              "      <td>2021-02-17T15:14:31Z</td>\n",
              "      <td>None</td>\n",
              "      <td>Split 1</td>\n",
              "      <td>league-of-legends-cblol-academy-split-1-2021</td>\n",
              "      <td>d</td>\n",
              "      <td>[{'begin_at': '2021-01-19T19:00:00Z', 'end_at'...</td>\n",
              "      <td>{'id': 1, 'name': 'LoL', 'slug': 'league-of-le...</td>\n",
              "      <td>None</td>\n",
              "      <td>NaN</td>\n",
              "      <td>None</td>\n",
              "      <td>2021</td>\n",
              "    </tr>\n",
              "  </tbody>\n",
              "</table>\n",
              "</div>"
            ],
            "text/plain": [
              "               begin_at description  ... winner_type  year\n",
              "0  2021-02-23T07:00:00Z        None  ...        None  2021\n",
              "1  2021-01-25T18:00:00Z        None  ...        None  2021\n",
              "2  2021-02-13T13:00:00Z        None  ...        None  2021\n",
              "3  2021-02-19T08:00:00Z        None  ...        None  2021\n",
              "4  2021-01-19T19:00:00Z        None  ...        None  2021\n",
              "\n",
              "[5 rows x 18 columns]"
            ]
          },
          "metadata": {
            "tags": []
          },
          "execution_count": 32
        }
      ]
    },
    {
      "cell_type": "markdown",
      "metadata": {
        "id": "KscDkgZSM4NW"
      },
      "source": [
        "En este Dataframe encontramos más campos como la fecha de inicio y fin de la serie, un campo de descripción que parece estar lleno de valores None al igual que el nombre del juego, el nombre de la serie y slug, la temporada y nivel y se la serie,encontramos también el id de la liga correspondiente y el id del ganador (si no se ha definido un ganador se tiene un valor NaN), el tipo de ganador (LoL es un juego de equipos así que en general el tipo de ganador es Team y también tenemos el año al que corresponde la serie.\r\n",
        "\r\n",
        "Dentro de estos campos también tenemos el que corresponde al de los torneos, veamos que tenemos respecto a ellos:"
      ]
    },
    {
      "cell_type": "code",
      "metadata": {
        "colab": {
          "base_uri": "https://localhost:8080/",
          "height": 636
        },
        "id": "b9sbNv3JM6w1",
        "outputId": "a34de436-7aae-4a37-937d-c8cbaafd20ab"
      },
      "source": [
        "df_torneos.head()"
      ],
      "execution_count": null,
      "outputs": [
        {
          "output_type": "execute_result",
          "data": {
            "text/html": [
              "<div>\n",
              "<style scoped>\n",
              "    .dataframe tbody tr th:only-of-type {\n",
              "        vertical-align: middle;\n",
              "    }\n",
              "\n",
              "    .dataframe tbody tr th {\n",
              "        vertical-align: top;\n",
              "    }\n",
              "\n",
              "    .dataframe thead th {\n",
              "        text-align: right;\n",
              "    }\n",
              "</style>\n",
              "<table border=\"1\" class=\"dataframe\">\n",
              "  <thead>\n",
              "    <tr style=\"text-align: right;\">\n",
              "      <th></th>\n",
              "      <th>begin_at</th>\n",
              "      <th>end_at</th>\n",
              "      <th>id</th>\n",
              "      <th>league</th>\n",
              "      <th>league_id</th>\n",
              "      <th>live_supported</th>\n",
              "      <th>matches</th>\n",
              "      <th>modified_at</th>\n",
              "      <th>name</th>\n",
              "      <th>prizepool</th>\n",
              "      <th>serie</th>\n",
              "      <th>serie_id</th>\n",
              "      <th>slug</th>\n",
              "      <th>teams</th>\n",
              "      <th>videogame</th>\n",
              "      <th>winner_id</th>\n",
              "      <th>winner_type</th>\n",
              "    </tr>\n",
              "  </thead>\n",
              "  <tbody>\n",
              "    <tr>\n",
              "      <th>0</th>\n",
              "      <td>2021-03-09T17:00:00Z</td>\n",
              "      <td>None</td>\n",
              "      <td>5649</td>\n",
              "      <td>{'id': 4302, 'image_url': 'https://cdn.pandasc...</td>\n",
              "      <td>4302</td>\n",
              "      <td>False</td>\n",
              "      <td>[{'begin_at': '2021-03-09T17:00:00Z', 'detaile...</td>\n",
              "      <td>2021-03-08T14:50:51Z</td>\n",
              "      <td>Playoffs</td>\n",
              "      <td>None</td>\n",
              "      <td>{'begin_at': '2021-01-19T17:00:00Z', 'descript...</td>\n",
              "      <td>3254</td>\n",
              "      <td>league-of-legends-prime-league-pro-division-sp...</td>\n",
              "      <td>[{'acronym': 'MOUZ', 'id': 16, 'image_url': 'h...</td>\n",
              "      <td>{'id': 1, 'name': 'LoL', 'slug': 'league-of-le...</td>\n",
              "      <td>NaN</td>\n",
              "      <td>Team</td>\n",
              "    </tr>\n",
              "    <tr>\n",
              "      <th>1</th>\n",
              "      <td>2021-03-09T16:30:00Z</td>\n",
              "      <td>None</td>\n",
              "      <td>5617</td>\n",
              "      <td>{'id': 4300, 'image_url': 'https://cdn.pandasc...</td>\n",
              "      <td>4300</td>\n",
              "      <td>False</td>\n",
              "      <td>[{'begin_at': '2021-03-09T16:30:00Z', 'detaile...</td>\n",
              "      <td>2021-03-04T07:03:57Z</td>\n",
              "      <td>Playoffs</td>\n",
              "      <td>None</td>\n",
              "      <td>{'begin_at': '2021-01-19T16:30:00Z', 'descript...</td>\n",
              "      <td>3267</td>\n",
              "      <td>league-of-legends-ultraliga-summer-2021-playoffs</td>\n",
              "      <td>[{'acronym': 'IHG', 'id': 2718, 'image_url': '...</td>\n",
              "      <td>{'id': 1, 'name': 'LoL', 'slug': 'league-of-le...</td>\n",
              "      <td>NaN</td>\n",
              "      <td>Team</td>\n",
              "    </tr>\n",
              "    <tr>\n",
              "      <th>2</th>\n",
              "      <td>2021-03-09T18:00:00Z</td>\n",
              "      <td>2021-03-23T23:00:00Z</td>\n",
              "      <td>5616</td>\n",
              "      <td>{'id': 4402, 'image_url': 'https://cdn.pandasc...</td>\n",
              "      <td>4402</td>\n",
              "      <td>False</td>\n",
              "      <td>[{'begin_at': '2021-03-09T18:00:00Z', 'detaile...</td>\n",
              "      <td>2021-03-08T15:07:25Z</td>\n",
              "      <td>Playoffs</td>\n",
              "      <td>None</td>\n",
              "      <td>{'begin_at': '2021-01-12T18:00:00Z', 'descript...</td>\n",
              "      <td>3249</td>\n",
              "      <td>league-of-legends-dutch-league-spring-2021-pla...</td>\n",
              "      <td>[{'acronym': 'EZ', 'id': 3343, 'image_url': 'h...</td>\n",
              "      <td>{'id': 1, 'name': 'LoL', 'slug': 'league-of-le...</td>\n",
              "      <td>NaN</td>\n",
              "      <td>Team</td>\n",
              "    </tr>\n",
              "    <tr>\n",
              "      <th>3</th>\n",
              "      <td>2021-03-29T08:00:00Z</td>\n",
              "      <td>2021-04-09T14:00:00Z</td>\n",
              "      <td>5615</td>\n",
              "      <td>{'id': 4142, 'image_url': 'https://cdn.pandasc...</td>\n",
              "      <td>4142</td>\n",
              "      <td>False</td>\n",
              "      <td>[{'begin_at': '2021-03-29T08:00:00Z', 'detaile...</td>\n",
              "      <td>2021-03-03T11:01:03Z</td>\n",
              "      <td>Playoffs</td>\n",
              "      <td>None</td>\n",
              "      <td>{'begin_at': '2021-01-18T08:00:00Z', 'descript...</td>\n",
              "      <td>3259</td>\n",
              "      <td>league-of-legends-challenger-korea-lck-cl-spri...</td>\n",
              "      <td>[]</td>\n",
              "      <td>{'id': 1, 'name': 'LoL', 'slug': 'league-of-le...</td>\n",
              "      <td>NaN</td>\n",
              "      <td>Team</td>\n",
              "    </tr>\n",
              "    <tr>\n",
              "      <th>4</th>\n",
              "      <td>2021-03-27T16:00:00Z</td>\n",
              "      <td>2021-04-18T21:00:00Z</td>\n",
              "      <td>5614</td>\n",
              "      <td>{'id': 302, 'image_url': 'https://cdn.pandasco...</td>\n",
              "      <td>302</td>\n",
              "      <td>True</td>\n",
              "      <td>[{'begin_at': '2021-03-27T16:00:00Z', 'detaile...</td>\n",
              "      <td>2021-03-04T08:53:53Z</td>\n",
              "      <td>Playoffs</td>\n",
              "      <td>None</td>\n",
              "      <td>{'begin_at': '2021-01-16T16:00:00Z', 'descript...</td>\n",
              "      <td>3240</td>\n",
              "      <td>league-of-legends-cblol-brazil-split-1-2021-pl...</td>\n",
              "      <td>[{'acronym': 'RCC', 'id': 161, 'image_url': 'h...</td>\n",
              "      <td>{'id': 1, 'name': 'LoL', 'slug': 'league-of-le...</td>\n",
              "      <td>NaN</td>\n",
              "      <td>Team</td>\n",
              "    </tr>\n",
              "  </tbody>\n",
              "</table>\n",
              "</div>"
            ],
            "text/plain": [
              "               begin_at                end_at  ...  winner_id winner_type\n",
              "0  2021-03-09T17:00:00Z                  None  ...        NaN        Team\n",
              "1  2021-03-09T16:30:00Z                  None  ...        NaN        Team\n",
              "2  2021-03-09T18:00:00Z  2021-03-23T23:00:00Z  ...        NaN        Team\n",
              "3  2021-03-29T08:00:00Z  2021-04-09T14:00:00Z  ...        NaN        Team\n",
              "4  2021-03-27T16:00:00Z  2021-04-18T21:00:00Z  ...        NaN        Team\n",
              "\n",
              "[5 rows x 17 columns]"
            ]
          },
          "metadata": {
            "tags": []
          },
          "execution_count": 33
        }
      ]
    },
    {
      "cell_type": "markdown",
      "metadata": {
        "id": "PUcsMSKPM92p"
      },
      "source": [
        "Encontramos las fechas de inicio y fin de cada torneo, su id de torneo junto a los id de la liga y serie a la que corresponde. Fecha de última actualización, soporte de stream en vivo, nombre del torneo, slug y prizepool que parece no tener un valor diferente a None, tenemos el winner id y winner type (en caso de haber un ganador) y dos campos dedicados a los enfrentamientos y equipos.\r\n",
        "\r\n",
        "En los enfrentamientos encontramos aún más información:"
      ]
    },
    {
      "cell_type": "code",
      "metadata": {
        "colab": {
          "base_uri": "https://localhost:8080/",
          "height": 653
        },
        "id": "Yne2Q11oNAXX",
        "outputId": "bc3c9f32-0697-48b1-f5da-d8c14a99f24c"
      },
      "source": [
        "df_enfrentamientos.head()"
      ],
      "execution_count": null,
      "outputs": [
        {
          "output_type": "execute_result",
          "data": {
            "text/html": [
              "<div>\n",
              "<style scoped>\n",
              "    .dataframe tbody tr th:only-of-type {\n",
              "        vertical-align: middle;\n",
              "    }\n",
              "\n",
              "    .dataframe tbody tr th {\n",
              "        vertical-align: top;\n",
              "    }\n",
              "\n",
              "    .dataframe thead th {\n",
              "        text-align: right;\n",
              "    }\n",
              "</style>\n",
              "<table border=\"1\" class=\"dataframe\">\n",
              "  <thead>\n",
              "    <tr style=\"text-align: right;\">\n",
              "      <th></th>\n",
              "      <th>name</th>\n",
              "      <th>official_stream_url</th>\n",
              "      <th>end_at</th>\n",
              "      <th>draw</th>\n",
              "      <th>league</th>\n",
              "      <th>league_id</th>\n",
              "      <th>detailed_stats</th>\n",
              "      <th>live_embed_url</th>\n",
              "      <th>tournament_id</th>\n",
              "      <th>results</th>\n",
              "      <th>videogame_version</th>\n",
              "      <th>streams</th>\n",
              "      <th>modified_at</th>\n",
              "      <th>games</th>\n",
              "      <th>original_scheduled_at</th>\n",
              "      <th>match_type</th>\n",
              "      <th>scheduled_at</th>\n",
              "      <th>winner</th>\n",
              "      <th>slug</th>\n",
              "      <th>videogame</th>\n",
              "      <th>status</th>\n",
              "      <th>winner_id</th>\n",
              "      <th>forfeit</th>\n",
              "      <th>tournament</th>\n",
              "      <th>rescheduled</th>\n",
              "      <th>id</th>\n",
              "      <th>game_advantage</th>\n",
              "      <th>serie_id</th>\n",
              "      <th>opponents</th>\n",
              "      <th>number_of_games</th>\n",
              "      <th>serie</th>\n",
              "      <th>live</th>\n",
              "      <th>begin_at</th>\n",
              "    </tr>\n",
              "  </thead>\n",
              "  <tbody>\n",
              "    <tr>\n",
              "      <th>0</th>\n",
              "      <td>Round 3: TBD vs TBD</td>\n",
              "      <td>None</td>\n",
              "      <td>None</td>\n",
              "      <td>False</td>\n",
              "      <td>{'id': 4302, 'image_url': 'https://cdn.pandasc...</td>\n",
              "      <td>4302</td>\n",
              "      <td>True</td>\n",
              "      <td>None</td>\n",
              "      <td>5649</td>\n",
              "      <td>[]</td>\n",
              "      <td>None</td>\n",
              "      <td>{'english': {'embed_url': None, 'raw_url': Non...</td>\n",
              "      <td>2021-03-07T20:20:32Z</td>\n",
              "      <td>[{'begin_at': None, 'complete': False, 'detail...</td>\n",
              "      <td>2021-03-11T17:00:00Z</td>\n",
              "      <td>best_of</td>\n",
              "      <td>2021-03-11T17:00:00Z</td>\n",
              "      <td>None</td>\n",
              "      <td>2021-03-11-c3b8c131-fac1-4b71-b339-f1d0387914a6</td>\n",
              "      <td>{'id': 1, 'name': 'LoL', 'slug': 'league-of-le...</td>\n",
              "      <td>not_started</td>\n",
              "      <td>NaN</td>\n",
              "      <td>False</td>\n",
              "      <td>{'begin_at': '2021-03-09T17:00:00Z', 'end_at':...</td>\n",
              "      <td>False</td>\n",
              "      <td>586007</td>\n",
              "      <td>None</td>\n",
              "      <td>3254</td>\n",
              "      <td>[]</td>\n",
              "      <td>5</td>\n",
              "      <td>{'begin_at': '2021-01-19T17:00:00Z', 'descript...</td>\n",
              "      <td>{'opens_at': None, 'supported': False, 'url': ...</td>\n",
              "      <td>2021-03-11T17:00:00Z</td>\n",
              "    </tr>\n",
              "    <tr>\n",
              "      <th>1</th>\n",
              "      <td>Round 2 Match 2: MOUZ vs BIG</td>\n",
              "      <td>None</td>\n",
              "      <td>None</td>\n",
              "      <td>False</td>\n",
              "      <td>{'id': 4302, 'image_url': 'https://cdn.pandasc...</td>\n",
              "      <td>4302</td>\n",
              "      <td>True</td>\n",
              "      <td>None</td>\n",
              "      <td>5649</td>\n",
              "      <td>[{'score': 0, 'team_id': 16}, {'score': 0, 'te...</td>\n",
              "      <td>None</td>\n",
              "      <td>{'english': {'embed_url': None, 'raw_url': Non...</td>\n",
              "      <td>2021-03-07T20:19:53Z</td>\n",
              "      <td>[{'begin_at': None, 'complete': False, 'detail...</td>\n",
              "      <td>2021-03-10T20:00:00Z</td>\n",
              "      <td>best_of</td>\n",
              "      <td>2021-03-10T20:00:00Z</td>\n",
              "      <td>None</td>\n",
              "      <td>mousesports-vs-berlin-international-gaming-202...</td>\n",
              "      <td>{'id': 1, 'name': 'LoL', 'slug': 'league-of-le...</td>\n",
              "      <td>not_started</td>\n",
              "      <td>NaN</td>\n",
              "      <td>False</td>\n",
              "      <td>{'begin_at': '2021-03-09T17:00:00Z', 'end_at':...</td>\n",
              "      <td>False</td>\n",
              "      <td>586006</td>\n",
              "      <td>None</td>\n",
              "      <td>3254</td>\n",
              "      <td>[{'opponent': {'acronym': 'MOUZ', 'id': 16, 'i...</td>\n",
              "      <td>3</td>\n",
              "      <td>{'begin_at': '2021-01-19T17:00:00Z', 'descript...</td>\n",
              "      <td>{'opens_at': None, 'supported': False, 'url': ...</td>\n",
              "      <td>2021-03-10T20:00:00Z</td>\n",
              "    </tr>\n",
              "    <tr>\n",
              "      <th>2</th>\n",
              "      <td>Round 2 Match 1: TBD vs TBD</td>\n",
              "      <td>None</td>\n",
              "      <td>None</td>\n",
              "      <td>False</td>\n",
              "      <td>{'id': 4302, 'image_url': 'https://cdn.pandasc...</td>\n",
              "      <td>4302</td>\n",
              "      <td>True</td>\n",
              "      <td>None</td>\n",
              "      <td>5649</td>\n",
              "      <td>[]</td>\n",
              "      <td>None</td>\n",
              "      <td>{'english': {'embed_url': None, 'raw_url': Non...</td>\n",
              "      <td>2021-03-07T20:19:33Z</td>\n",
              "      <td>[{'begin_at': None, 'complete': False, 'detail...</td>\n",
              "      <td>2021-03-10T17:00:00Z</td>\n",
              "      <td>best_of</td>\n",
              "      <td>2021-03-10T17:00:00Z</td>\n",
              "      <td>None</td>\n",
              "      <td>2021-03-10-7412caf0-3f45-40e1-b763-80d005a04162</td>\n",
              "      <td>{'id': 1, 'name': 'LoL', 'slug': 'league-of-le...</td>\n",
              "      <td>not_started</td>\n",
              "      <td>NaN</td>\n",
              "      <td>False</td>\n",
              "      <td>{'begin_at': '2021-03-09T17:00:00Z', 'end_at':...</td>\n",
              "      <td>False</td>\n",
              "      <td>586005</td>\n",
              "      <td>None</td>\n",
              "      <td>3254</td>\n",
              "      <td>[]</td>\n",
              "      <td>3</td>\n",
              "      <td>{'begin_at': '2021-01-19T17:00:00Z', 'descript...</td>\n",
              "      <td>{'opens_at': None, 'supported': False, 'url': ...</td>\n",
              "      <td>2021-03-10T17:00:00Z</td>\n",
              "    </tr>\n",
              "    <tr>\n",
              "      <th>3</th>\n",
              "      <td>Round 1 Match 2: SKP vs S04.E</td>\n",
              "      <td>None</td>\n",
              "      <td>None</td>\n",
              "      <td>False</td>\n",
              "      <td>{'id': 4302, 'image_url': 'https://cdn.pandasc...</td>\n",
              "      <td>4302</td>\n",
              "      <td>True</td>\n",
              "      <td>None</td>\n",
              "      <td>5649</td>\n",
              "      <td>[{'score': 0, 'team_id': 247}, {'score': 0, 't...</td>\n",
              "      <td>None</td>\n",
              "      <td>{'english': {'embed_url': None, 'raw_url': Non...</td>\n",
              "      <td>2021-03-07T20:18:12Z</td>\n",
              "      <td>[{'begin_at': None, 'complete': False, 'detail...</td>\n",
              "      <td>2021-03-09T20:00:00Z</td>\n",
              "      <td>best_of</td>\n",
              "      <td>2021-03-09T20:00:00Z</td>\n",
              "      <td>None</td>\n",
              "      <td>sk-gaming-prime-vs-fc-schalke-04-evolution-202...</td>\n",
              "      <td>{'id': 1, 'name': 'LoL', 'slug': 'league-of-le...</td>\n",
              "      <td>not_started</td>\n",
              "      <td>NaN</td>\n",
              "      <td>False</td>\n",
              "      <td>{'begin_at': '2021-03-09T17:00:00Z', 'end_at':...</td>\n",
              "      <td>False</td>\n",
              "      <td>586004</td>\n",
              "      <td>None</td>\n",
              "      <td>3254</td>\n",
              "      <td>[{'opponent': {'acronym': 'SKP', 'id': 247, 'i...</td>\n",
              "      <td>3</td>\n",
              "      <td>{'begin_at': '2021-01-19T17:00:00Z', 'descript...</td>\n",
              "      <td>{'opens_at': None, 'supported': False, 'url': ...</td>\n",
              "      <td>2021-03-09T20:00:00Z</td>\n",
              "    </tr>\n",
              "    <tr>\n",
              "      <th>4</th>\n",
              "      <td>Round 1 Match 1: GL vs USE</td>\n",
              "      <td>None</td>\n",
              "      <td>None</td>\n",
              "      <td>False</td>\n",
              "      <td>{'id': 4302, 'image_url': 'https://cdn.pandasc...</td>\n",
              "      <td>4302</td>\n",
              "      <td>True</td>\n",
              "      <td>None</td>\n",
              "      <td>5649</td>\n",
              "      <td>[{'score': 0, 'team_id': 126830}, {'score': 0,...</td>\n",
              "      <td>None</td>\n",
              "      <td>{'english': {'embed_url': None, 'raw_url': Non...</td>\n",
              "      <td>2021-03-07T20:17:44Z</td>\n",
              "      <td>[{'begin_at': None, 'complete': False, 'detail...</td>\n",
              "      <td>2021-03-09T17:00:00Z</td>\n",
              "      <td>best_of</td>\n",
              "      <td>2021-03-09T17:00:00Z</td>\n",
              "      <td>None</td>\n",
              "      <td>team-gamerlegion-vs-unicorns-of-love-sexy-edit...</td>\n",
              "      <td>{'id': 1, 'name': 'LoL', 'slug': 'league-of-le...</td>\n",
              "      <td>not_started</td>\n",
              "      <td>NaN</td>\n",
              "      <td>False</td>\n",
              "      <td>{'begin_at': '2021-03-09T17:00:00Z', 'end_at':...</td>\n",
              "      <td>False</td>\n",
              "      <td>586003</td>\n",
              "      <td>None</td>\n",
              "      <td>3254</td>\n",
              "      <td>[{'opponent': {'acronym': 'GL', 'id': 126830, ...</td>\n",
              "      <td>3</td>\n",
              "      <td>{'begin_at': '2021-01-19T17:00:00Z', 'descript...</td>\n",
              "      <td>{'opens_at': None, 'supported': False, 'url': ...</td>\n",
              "      <td>2021-03-09T17:00:00Z</td>\n",
              "    </tr>\n",
              "  </tbody>\n",
              "</table>\n",
              "</div>"
            ],
            "text/plain": [
              "                            name  ...              begin_at\n",
              "0            Round 3: TBD vs TBD  ...  2021-03-11T17:00:00Z\n",
              "1   Round 2 Match 2: MOUZ vs BIG  ...  2021-03-10T20:00:00Z\n",
              "2    Round 2 Match 1: TBD vs TBD  ...  2021-03-10T17:00:00Z\n",
              "3  Round 1 Match 2: SKP vs S04.E  ...  2021-03-09T20:00:00Z\n",
              "4     Round 1 Match 1: GL vs USE  ...  2021-03-09T17:00:00Z\n",
              "\n",
              "[5 rows x 33 columns]"
            ]
          },
          "metadata": {
            "tags": []
          },
          "execution_count": 34
        }
      ]
    },
    {
      "cell_type": "markdown",
      "metadata": {
        "id": "pQHArhcVNEeh"
      },
      "source": [
        "\r\n",
        "Parece que este Dataframe contiene información que nos puede ayudar a analizar el performance de los equipos y además tenemos datos sobre las partidas y sus streams. Encontramos las fechas de inicio y fin de los enfrentamientos, los id de ligas y torneos, resultados, la versión del juego con la que se jugó, tipos de enfrentamiento, número de partidas por enfrentamiento, si hubo abandonó o cambios de calendarización, etc.\r\n",
        "\r\n",
        "Hasta el momento los datos respecto a los enfrentamientos parecen aportar más detalles. Finalmente, echemos un ojo a los equipos:"
      ]
    },
    {
      "cell_type": "code",
      "metadata": {
        "colab": {
          "base_uri": "https://localhost:8080/",
          "height": 194
        },
        "id": "19a_vha4NH0Z",
        "outputId": "7dba5cd7-49b3-4848-fc81-2975a17a45df"
      },
      "source": [
        "df_equipos.head()"
      ],
      "execution_count": null,
      "outputs": [
        {
          "output_type": "execute_result",
          "data": {
            "text/html": [
              "<div>\n",
              "<style scoped>\n",
              "    .dataframe tbody tr th:only-of-type {\n",
              "        vertical-align: middle;\n",
              "    }\n",
              "\n",
              "    .dataframe tbody tr th {\n",
              "        vertical-align: top;\n",
              "    }\n",
              "\n",
              "    .dataframe thead th {\n",
              "        text-align: right;\n",
              "    }\n",
              "</style>\n",
              "<table border=\"1\" class=\"dataframe\">\n",
              "  <thead>\n",
              "    <tr style=\"text-align: right;\">\n",
              "      <th></th>\n",
              "      <th>acronym</th>\n",
              "      <th>current_videogame</th>\n",
              "      <th>id</th>\n",
              "      <th>image_url</th>\n",
              "      <th>location</th>\n",
              "      <th>modified_at</th>\n",
              "      <th>name</th>\n",
              "      <th>players</th>\n",
              "      <th>slug</th>\n",
              "    </tr>\n",
              "  </thead>\n",
              "  <tbody>\n",
              "    <tr>\n",
              "      <th>0</th>\n",
              "      <td>PCE</td>\n",
              "      <td>{'id': 1, 'name': 'LoL', 'slug': 'league-of-le...</td>\n",
              "      <td>128614</td>\n",
              "      <td>https://cdn.pandascore.co/images/team/image/12...</td>\n",
              "      <td>AU</td>\n",
              "      <td>2021-03-05T13:55:39Z</td>\n",
              "      <td>PEACE</td>\n",
              "      <td>[{'birth_year': None, 'birthday': None, 'first...</td>\n",
              "      <td>peace</td>\n",
              "    </tr>\n",
              "    <tr>\n",
              "      <th>1</th>\n",
              "      <td>Z10</td>\n",
              "      <td>{'id': 1, 'name': 'LoL', 'slug': 'league-of-le...</td>\n",
              "      <td>128573</td>\n",
              "      <td>https://cdn.pandascore.co/images/team/image/12...</td>\n",
              "      <td>RS</td>\n",
              "      <td>2021-03-01T19:43:55Z</td>\n",
              "      <td>Z10 ESHARK</td>\n",
              "      <td>[{'birth_year': None, 'birthday': None, 'first...</td>\n",
              "      <td>z10-eshark</td>\n",
              "    </tr>\n",
              "    <tr>\n",
              "      <th>2</th>\n",
              "      <td>X25</td>\n",
              "      <td>{'id': 1, 'name': 'LoL', 'slug': 'league-of-le...</td>\n",
              "      <td>128572</td>\n",
              "      <td>https://cdn.pandascore.co/images/team/image/12...</td>\n",
              "      <td>RS</td>\n",
              "      <td>2021-02-12T16:11:49Z</td>\n",
              "      <td>x25 Esports</td>\n",
              "      <td>[{'birth_year': 1998, 'birthday': '1998-07-31'...</td>\n",
              "      <td>x25-esports</td>\n",
              "    </tr>\n",
              "    <tr>\n",
              "      <th>3</th>\n",
              "      <td>None</td>\n",
              "      <td>{'id': 1, 'name': 'LoL', 'slug': 'league-of-le...</td>\n",
              "      <td>128566</td>\n",
              "      <td>https://cdn.pandascore.co/images/team/image/12...</td>\n",
              "      <td>RU</td>\n",
              "      <td>2021-02-28T10:02:24Z</td>\n",
              "      <td>CTRL PLAY</td>\n",
              "      <td>[{'birth_year': None, 'birthday': None, 'first...</td>\n",
              "      <td>ctrl-play</td>\n",
              "    </tr>\n",
              "    <tr>\n",
              "      <th>4</th>\n",
              "      <td>IPN</td>\n",
              "      <td>{'id': 1, 'name': 'LoL', 'slug': 'league-of-le...</td>\n",
              "      <td>128547</td>\n",
              "      <td>https://cdn.pandascore.co/images/team/image/12...</td>\n",
              "      <td>SG</td>\n",
              "      <td>2021-02-19T17:37:02Z</td>\n",
              "      <td>Impunity</td>\n",
              "      <td>[{'birth_year': None, 'birthday': None, 'first...</td>\n",
              "      <td>impunity-league-of-legends</td>\n",
              "    </tr>\n",
              "  </tbody>\n",
              "</table>\n",
              "</div>"
            ],
            "text/plain": [
              "  acronym  ...                        slug\n",
              "0     PCE  ...                       peace\n",
              "1     Z10  ...                  z10-eshark\n",
              "2     X25  ...                 x25-esports\n",
              "3    None  ...                   ctrl-play\n",
              "4     IPN  ...  impunity-league-of-legends\n",
              "\n",
              "[5 rows x 9 columns]"
            ]
          },
          "metadata": {
            "tags": []
          },
          "execution_count": 35
        }
      ]
    },
    {
      "cell_type": "markdown",
      "metadata": {
        "id": "oeYyMScfNK-K"
      },
      "source": [
        "Al igual que el Dataframe de las ligas, los datos de los equipos parecen estar más limitados a sus nombres, logotipos promocionales, páginas web y algún que otro dato de sus integrantes. Después de está inspección preliminar parece claro que la información más jugosa la encontramos directamente en el calor de la batalla, es decir, los enfrentamientos.\r\n",
        "\r\n",
        "Inspeccionemos sus tipos de datos:"
      ]
    },
    {
      "cell_type": "code",
      "metadata": {
        "colab": {
          "base_uri": "https://localhost:8080/"
        },
        "id": "gA79ekR7NP6A",
        "outputId": "30544309-fd05-481e-bdb0-8aeb83a7d2e5"
      },
      "source": [
        "df_enfrentamientos.info()"
      ],
      "execution_count": null,
      "outputs": [
        {
          "output_type": "stream",
          "text": [
            "<class 'pandas.core.frame.DataFrame'>\n",
            "RangeIndex: 100 entries, 0 to 99\n",
            "Data columns (total 33 columns):\n",
            " #   Column                 Non-Null Count  Dtype  \n",
            "---  ------                 --------------  -----  \n",
            " 0   name                   100 non-null    object \n",
            " 1   official_stream_url    93 non-null     object \n",
            " 2   end_at                 37 non-null     object \n",
            " 3   draw                   100 non-null    bool   \n",
            " 4   league                 100 non-null    object \n",
            " 5   league_id              100 non-null    int64  \n",
            " 6   detailed_stats         100 non-null    bool   \n",
            " 7   live_embed_url         93 non-null     object \n",
            " 8   tournament_id          100 non-null    int64  \n",
            " 9   results                100 non-null    object \n",
            " 10  videogame_version      37 non-null     object \n",
            " 11  streams                100 non-null    object \n",
            " 12  modified_at            100 non-null    object \n",
            " 13  games                  100 non-null    object \n",
            " 14  original_scheduled_at  100 non-null    object \n",
            " 15  match_type             100 non-null    object \n",
            " 16  scheduled_at           100 non-null    object \n",
            " 17  winner                 37 non-null     object \n",
            " 18  slug                   100 non-null    object \n",
            " 19  videogame              100 non-null    object \n",
            " 20  status                 100 non-null    object \n",
            " 21  winner_id              37 non-null     float64\n",
            " 22  forfeit                100 non-null    bool   \n",
            " 23  tournament             100 non-null    object \n",
            " 24  rescheduled            100 non-null    bool   \n",
            " 25  id                     100 non-null    int64  \n",
            " 26  game_advantage         0 non-null      object \n",
            " 27  serie_id               100 non-null    int64  \n",
            " 28  opponents              100 non-null    object \n",
            " 29  number_of_games        100 non-null    int64  \n",
            " 30  serie                  100 non-null    object \n",
            " 31  live                   100 non-null    object \n",
            " 32  begin_at               100 non-null    object \n",
            "dtypes: bool(4), float64(1), int64(5), object(23)\n",
            "memory usage: 23.2+ KB\n"
          ],
          "name": "stdout"
        }
      ]
    },
    {
      "cell_type": "markdown",
      "metadata": {
        "id": "5M9W2hAgNUah"
      },
      "source": [
        "Recordemos que este Dataframe es solo una pequeña parte de todos los datos que nos puede entregar la API, 100 registros de 18694 en realidad, pero podemos sacar algunas conclusiones preliminares.\r\n",
        "\r\n",
        "Es necesario transformar los campos de fechas al tipo de dato correspondiente para su manejo, tal vez sea necesario eliminar algunas columnas que sea redundantes o que no aporten información útil, como game advantage que parece estar lleno de valores None. Puede que sea conveniente transformar algunos datos a tipo string para obtener más información.\r\n",
        "\r\n",
        "Una de las cosas que pueden resultar problemáticas son los enfrentamientos que estan agendados pero no se han llevado a cabo, si bien es bueno tenerlos en cuenta, muchos de los campos terminan teniendo valores nulos a causa de estos, por lo que resulta conveniente pensar solo en aquellos enfrentamientos que ya se han llevado a cabo.\r\n",
        "\r\n",
        "Hay muchas posibilidades, pero por el momento, parece que el dataframe que mejor podemos explotar para responder a las preguntas que nos hicimos es el correspondiente a los enfrentamientos."
      ]
    },
    {
      "cell_type": "markdown",
      "metadata": {
        "id": "eTnZ2bdTN2_o"
      },
      "source": [
        "# Postworks 05 y 06: Limpieza de datos y agregaciones / Automatización y APIs\r\n",
        "\r\n",
        "En esencia el Postwork 05 busca que limpiemos nuestro Dataset de valores nulos y probemos obtener información mediante agreaciones. Mientras que el Postwork 06 invita a automatizar el proceso de peticiones a una API. En esta entrega cambiaremos un poco el orden, primero realizaremos la automatización de la petición para obtener todos los datos y después los limpiaremos.\r\n",
        "\r\n",
        "<p align=\"center\">\r\n",
        "<img src=\"https://empresas.blogthinkbig.com/wp-content/uploads/2019/03/janitor.png\" height =\"200\" width = \"200\" alt=lego>\r\n",
        "</p>\r\n",
        "\r\n",
        "En postworks anteriores mencionamos que una petición a nuestra API de confianza, PandaScore, puede regresar como máximo 100 registros por petición y que las peticiones responden a parámetros de la URL. Creemos que la mejor forma de automatizar este proceso es con una función que nos devuelva la información que queremos, del juego que queremos de la API:"
      ]
    },
    {
      "cell_type": "code",
      "metadata": {
        "id": "_JMpBnJDN-Ys"
      },
      "source": [
        "import requests #Importamos los paquete necesarios\r\n",
        "import pandas as pd \r\n",
        "import math as mt\r\n",
        " \r\n",
        "def PandaScore_get(juego,informacion): #Definimos nuestra función\r\n",
        "    if isinstance(juego, str) and isinstance(informacion, str): #Nos aseguramos que los argumentos sean de tipo str\r\n",
        "        registros = 100 #Establecemos el número de registros por página\r\n",
        "        token = 'V3U1fnnWozJi3bbhZfrxdiAmN4-XWnX_4g6i_6iauwwh7w-V8Ns' #Token de acceso\r\n",
        "        url = f\"https://api.pandascore.co/{juego}/{informacion}?page[size]={registros}&token={token}\" #URL con los parámetros deseados\r\n",
        "        response = requests.get(url) #Realizamos la petición\r\n",
        "        if response.status_code == 200: #Si todo salió bien continuamos\r\n",
        "            Iteraciones = mt.ceil(float(response.headers['X-Total'])/registros) #Calculamos el número de páginas en base a todos los registros que hay en la API\r\n",
        "            #Al dividir el número total de registros entre los registros solicitados obtenemos un aproximado, para asegurar que tomaremos todos, redondeamos al entero más alto\r\n",
        "            for i in range(1,Iteraciones+1): #Ciclo for para obtener todos los registros de cada página\r\n",
        "                url = f\"https://api.pandascore.co/{juego}/{informacion}?page[size]={registros}&page[number]={i}&token=V3U1fnnWozJi3bbhZfrxdiAmN4-XWnX_4g6i_6iauwwh7w-V8Ns\"\r\n",
        "                #URL el parámetro de página deseada\r\n",
        "                response = requests.get(url) #Realizamos la petición correspondiente\r\n",
        "                data = response.json() #Transformamos la respuesta \r\n",
        "                if i == 1: #En la primer iteración se crea un Dataframe\r\n",
        "                    df = pd.DataFrame.from_dict(data)\r\n",
        "                else: #En el resto de iteraciones se van añadiendo los nuevos registros\r\n",
        "                    df = df.append(pd.DataFrame.from_dict(data),ignore_index=True) \r\n",
        "            return df # Finalmente se devuelve el Dataframe con todos los registros\r\n",
        "        else: #Si la petición no se ejecutó correctamente mandamos un mensaje con el error devuelto\r\n",
        "            return 'Error de petición: '+str(response.status_code)  \r\n",
        "    else: #Si los argumentos no son de tipo str regresamos un mensaje\r\n",
        "        return 'Por favor coloque un argumento válido en formato string.'\r\n",
        "  "
      ],
      "execution_count": null,
      "outputs": []
    },
    {
      "cell_type": "markdown",
      "metadata": {
        "id": "C0XqlyXuOB_o"
      },
      "source": [
        "Veamos a la función en acción:"
      ]
    },
    {
      "cell_type": "code",
      "metadata": {
        "colab": {
          "base_uri": "https://localhost:8080/",
          "height": 36
        },
        "id": "_7vLIN8MODBb",
        "outputId": "c3ca96ca-b4bc-4728-8f97-2e6fb480abc3"
      },
      "source": [
        "PandaScore_get('lol',1)"
      ],
      "execution_count": null,
      "outputs": [
        {
          "output_type": "execute_result",
          "data": {
            "application/vnd.google.colaboratory.intrinsic+json": {
              "type": "string"
            },
            "text/plain": [
              "'Por favor coloque un argumento válido en formato string.'"
            ]
          },
          "metadata": {
            "tags": []
          },
          "execution_count": 38
        }
      ]
    },
    {
      "cell_type": "code",
      "metadata": {
        "colab": {
          "base_uri": "https://localhost:8080/",
          "height": 36
        },
        "id": "_09TQj7AOJ_H",
        "outputId": "0c6c5efb-b6ec-4e7c-f975-9afec960bacb"
      },
      "source": [
        "PandaScore_get('lol','matchs')"
      ],
      "execution_count": null,
      "outputs": [
        {
          "output_type": "execute_result",
          "data": {
            "application/vnd.google.colaboratory.intrinsic+json": {
              "type": "string"
            },
            "text/plain": [
              "'Error de petición: 404'"
            ]
          },
          "metadata": {
            "tags": []
          },
          "execution_count": 39
        }
      ]
    },
    {
      "cell_type": "markdown",
      "metadata": {
        "id": "ICgCyGdFObb2"
      },
      "source": [
        "Si los argumentos son correctos se nos devolverá el Dataframe correspondiente, el tiempo de ejecución varia dependiendo de la información solicitada, en el caso de los enfrentamientos tenemos 18694 registros, por lo que la función tomará un par de minutos al solo poder realizar 100 peticiones, en general consumiriamos 187 de nuestros 1000 intentos por hora:"
      ]
    },
    {
      "cell_type": "code",
      "metadata": {
        "id": "KwTeHB4zOeCi"
      },
      "source": [
        "df_matches = PandaScore_get('lol','matches')"
      ],
      "execution_count": null,
      "outputs": []
    },
    {
      "cell_type": "markdown",
      "metadata": {
        "id": "z0aLhUx2OJFV"
      },
      "source": [
        "Observemos el Dataframe que se nos devuelve:"
      ]
    },
    {
      "cell_type": "code",
      "metadata": {
        "colab": {
          "base_uri": "https://localhost:8080/",
          "height": 1000
        },
        "id": "c_44zFMdOlrd",
        "outputId": "a08c3f0c-59d2-4b46-b6b4-de828cb523cc"
      },
      "source": [
        "df_matches"
      ],
      "execution_count": null,
      "outputs": [
        {
          "output_type": "execute_result",
          "data": {
            "text/html": [
              "<div>\n",
              "<style scoped>\n",
              "    .dataframe tbody tr th:only-of-type {\n",
              "        vertical-align: middle;\n",
              "    }\n",
              "\n",
              "    .dataframe tbody tr th {\n",
              "        vertical-align: top;\n",
              "    }\n",
              "\n",
              "    .dataframe thead th {\n",
              "        text-align: right;\n",
              "    }\n",
              "</style>\n",
              "<table border=\"1\" class=\"dataframe\">\n",
              "  <thead>\n",
              "    <tr style=\"text-align: right;\">\n",
              "      <th></th>\n",
              "      <th>name</th>\n",
              "      <th>official_stream_url</th>\n",
              "      <th>end_at</th>\n",
              "      <th>draw</th>\n",
              "      <th>league</th>\n",
              "      <th>league_id</th>\n",
              "      <th>detailed_stats</th>\n",
              "      <th>live_embed_url</th>\n",
              "      <th>tournament_id</th>\n",
              "      <th>results</th>\n",
              "      <th>videogame_version</th>\n",
              "      <th>streams</th>\n",
              "      <th>modified_at</th>\n",
              "      <th>games</th>\n",
              "      <th>original_scheduled_at</th>\n",
              "      <th>match_type</th>\n",
              "      <th>scheduled_at</th>\n",
              "      <th>winner</th>\n",
              "      <th>slug</th>\n",
              "      <th>videogame</th>\n",
              "      <th>status</th>\n",
              "      <th>winner_id</th>\n",
              "      <th>forfeit</th>\n",
              "      <th>tournament</th>\n",
              "      <th>rescheduled</th>\n",
              "      <th>id</th>\n",
              "      <th>game_advantage</th>\n",
              "      <th>serie_id</th>\n",
              "      <th>opponents</th>\n",
              "      <th>number_of_games</th>\n",
              "      <th>serie</th>\n",
              "      <th>live</th>\n",
              "      <th>begin_at</th>\n",
              "    </tr>\n",
              "  </thead>\n",
              "  <tbody>\n",
              "    <tr>\n",
              "      <th>0</th>\n",
              "      <td>Round 3: TBD vs TBD</td>\n",
              "      <td>None</td>\n",
              "      <td>None</td>\n",
              "      <td>False</td>\n",
              "      <td>{'id': 4302, 'image_url': 'https://cdn.pandasc...</td>\n",
              "      <td>4302</td>\n",
              "      <td>True</td>\n",
              "      <td>None</td>\n",
              "      <td>5649</td>\n",
              "      <td>[]</td>\n",
              "      <td>None</td>\n",
              "      <td>{'english': {'embed_url': None, 'raw_url': Non...</td>\n",
              "      <td>2021-03-07T20:20:32Z</td>\n",
              "      <td>[{'begin_at': None, 'complete': False, 'detail...</td>\n",
              "      <td>2021-03-11T17:00:00Z</td>\n",
              "      <td>best_of</td>\n",
              "      <td>2021-03-11T17:00:00Z</td>\n",
              "      <td>None</td>\n",
              "      <td>2021-03-11-c3b8c131-fac1-4b71-b339-f1d0387914a6</td>\n",
              "      <td>{'id': 1, 'name': 'LoL', 'slug': 'league-of-le...</td>\n",
              "      <td>not_started</td>\n",
              "      <td>NaN</td>\n",
              "      <td>False</td>\n",
              "      <td>{'begin_at': '2021-03-09T17:00:00Z', 'end_at':...</td>\n",
              "      <td>False</td>\n",
              "      <td>586007</td>\n",
              "      <td>None</td>\n",
              "      <td>3254</td>\n",
              "      <td>[]</td>\n",
              "      <td>5</td>\n",
              "      <td>{'begin_at': '2021-01-19T17:00:00Z', 'descript...</td>\n",
              "      <td>{'opens_at': None, 'supported': False, 'url': ...</td>\n",
              "      <td>2021-03-11T17:00:00Z</td>\n",
              "    </tr>\n",
              "    <tr>\n",
              "      <th>1</th>\n",
              "      <td>Round 2 Match 2: MOUZ vs BIG</td>\n",
              "      <td>None</td>\n",
              "      <td>None</td>\n",
              "      <td>False</td>\n",
              "      <td>{'id': 4302, 'image_url': 'https://cdn.pandasc...</td>\n",
              "      <td>4302</td>\n",
              "      <td>True</td>\n",
              "      <td>None</td>\n",
              "      <td>5649</td>\n",
              "      <td>[{'score': 0, 'team_id': 16}, {'score': 0, 'te...</td>\n",
              "      <td>None</td>\n",
              "      <td>{'english': {'embed_url': None, 'raw_url': Non...</td>\n",
              "      <td>2021-03-07T20:19:53Z</td>\n",
              "      <td>[{'begin_at': None, 'complete': False, 'detail...</td>\n",
              "      <td>2021-03-10T20:00:00Z</td>\n",
              "      <td>best_of</td>\n",
              "      <td>2021-03-10T20:00:00Z</td>\n",
              "      <td>None</td>\n",
              "      <td>mousesports-vs-berlin-international-gaming-202...</td>\n",
              "      <td>{'id': 1, 'name': 'LoL', 'slug': 'league-of-le...</td>\n",
              "      <td>not_started</td>\n",
              "      <td>NaN</td>\n",
              "      <td>False</td>\n",
              "      <td>{'begin_at': '2021-03-09T17:00:00Z', 'end_at':...</td>\n",
              "      <td>False</td>\n",
              "      <td>586006</td>\n",
              "      <td>None</td>\n",
              "      <td>3254</td>\n",
              "      <td>[{'opponent': {'acronym': 'MOUZ', 'id': 16, 'i...</td>\n",
              "      <td>3</td>\n",
              "      <td>{'begin_at': '2021-01-19T17:00:00Z', 'descript...</td>\n",
              "      <td>{'opens_at': None, 'supported': False, 'url': ...</td>\n",
              "      <td>2021-03-10T20:00:00Z</td>\n",
              "    </tr>\n",
              "    <tr>\n",
              "      <th>2</th>\n",
              "      <td>Round 2 Match 1: TBD vs TBD</td>\n",
              "      <td>None</td>\n",
              "      <td>None</td>\n",
              "      <td>False</td>\n",
              "      <td>{'id': 4302, 'image_url': 'https://cdn.pandasc...</td>\n",
              "      <td>4302</td>\n",
              "      <td>True</td>\n",
              "      <td>None</td>\n",
              "      <td>5649</td>\n",
              "      <td>[]</td>\n",
              "      <td>None</td>\n",
              "      <td>{'english': {'embed_url': None, 'raw_url': Non...</td>\n",
              "      <td>2021-03-07T20:19:33Z</td>\n",
              "      <td>[{'begin_at': None, 'complete': False, 'detail...</td>\n",
              "      <td>2021-03-10T17:00:00Z</td>\n",
              "      <td>best_of</td>\n",
              "      <td>2021-03-10T17:00:00Z</td>\n",
              "      <td>None</td>\n",
              "      <td>2021-03-10-7412caf0-3f45-40e1-b763-80d005a04162</td>\n",
              "      <td>{'id': 1, 'name': 'LoL', 'slug': 'league-of-le...</td>\n",
              "      <td>not_started</td>\n",
              "      <td>NaN</td>\n",
              "      <td>False</td>\n",
              "      <td>{'begin_at': '2021-03-09T17:00:00Z', 'end_at':...</td>\n",
              "      <td>False</td>\n",
              "      <td>586005</td>\n",
              "      <td>None</td>\n",
              "      <td>3254</td>\n",
              "      <td>[]</td>\n",
              "      <td>3</td>\n",
              "      <td>{'begin_at': '2021-01-19T17:00:00Z', 'descript...</td>\n",
              "      <td>{'opens_at': None, 'supported': False, 'url': ...</td>\n",
              "      <td>2021-03-10T17:00:00Z</td>\n",
              "    </tr>\n",
              "    <tr>\n",
              "      <th>3</th>\n",
              "      <td>Round 1 Match 2: SKP vs S04.E</td>\n",
              "      <td>None</td>\n",
              "      <td>None</td>\n",
              "      <td>False</td>\n",
              "      <td>{'id': 4302, 'image_url': 'https://cdn.pandasc...</td>\n",
              "      <td>4302</td>\n",
              "      <td>True</td>\n",
              "      <td>None</td>\n",
              "      <td>5649</td>\n",
              "      <td>[{'score': 0, 'team_id': 247}, {'score': 0, 't...</td>\n",
              "      <td>None</td>\n",
              "      <td>{'english': {'embed_url': None, 'raw_url': Non...</td>\n",
              "      <td>2021-03-07T20:18:12Z</td>\n",
              "      <td>[{'begin_at': None, 'complete': False, 'detail...</td>\n",
              "      <td>2021-03-09T20:00:00Z</td>\n",
              "      <td>best_of</td>\n",
              "      <td>2021-03-09T20:00:00Z</td>\n",
              "      <td>None</td>\n",
              "      <td>sk-gaming-prime-vs-fc-schalke-04-evolution-202...</td>\n",
              "      <td>{'id': 1, 'name': 'LoL', 'slug': 'league-of-le...</td>\n",
              "      <td>not_started</td>\n",
              "      <td>NaN</td>\n",
              "      <td>False</td>\n",
              "      <td>{'begin_at': '2021-03-09T17:00:00Z', 'end_at':...</td>\n",
              "      <td>False</td>\n",
              "      <td>586004</td>\n",
              "      <td>None</td>\n",
              "      <td>3254</td>\n",
              "      <td>[{'opponent': {'acronym': 'SKP', 'id': 247, 'i...</td>\n",
              "      <td>3</td>\n",
              "      <td>{'begin_at': '2021-01-19T17:00:00Z', 'descript...</td>\n",
              "      <td>{'opens_at': None, 'supported': False, 'url': ...</td>\n",
              "      <td>2021-03-09T20:00:00Z</td>\n",
              "    </tr>\n",
              "    <tr>\n",
              "      <th>4</th>\n",
              "      <td>Round 1 Match 1: GL vs USE</td>\n",
              "      <td>None</td>\n",
              "      <td>None</td>\n",
              "      <td>False</td>\n",
              "      <td>{'id': 4302, 'image_url': 'https://cdn.pandasc...</td>\n",
              "      <td>4302</td>\n",
              "      <td>True</td>\n",
              "      <td>None</td>\n",
              "      <td>5649</td>\n",
              "      <td>[{'score': 0, 'team_id': 126830}, {'score': 0,...</td>\n",
              "      <td>None</td>\n",
              "      <td>{'english': {'embed_url': None, 'raw_url': Non...</td>\n",
              "      <td>2021-03-07T20:17:44Z</td>\n",
              "      <td>[{'begin_at': None, 'complete': False, 'detail...</td>\n",
              "      <td>2021-03-09T17:00:00Z</td>\n",
              "      <td>best_of</td>\n",
              "      <td>2021-03-09T17:00:00Z</td>\n",
              "      <td>None</td>\n",
              "      <td>team-gamerlegion-vs-unicorns-of-love-sexy-edit...</td>\n",
              "      <td>{'id': 1, 'name': 'LoL', 'slug': 'league-of-le...</td>\n",
              "      <td>not_started</td>\n",
              "      <td>NaN</td>\n",
              "      <td>False</td>\n",
              "      <td>{'begin_at': '2021-03-09T17:00:00Z', 'end_at':...</td>\n",
              "      <td>False</td>\n",
              "      <td>586003</td>\n",
              "      <td>None</td>\n",
              "      <td>3254</td>\n",
              "      <td>[{'opponent': {'acronym': 'GL', 'id': 126830, ...</td>\n",
              "      <td>3</td>\n",
              "      <td>{'begin_at': '2021-01-19T17:00:00Z', 'descript...</td>\n",
              "      <td>{'opens_at': None, 'supported': False, 'url': ...</td>\n",
              "      <td>2021-03-09T17:00:00Z</td>\n",
              "    </tr>\n",
              "    <tr>\n",
              "      <th>...</th>\n",
              "      <td>...</td>\n",
              "      <td>...</td>\n",
              "      <td>...</td>\n",
              "      <td>...</td>\n",
              "      <td>...</td>\n",
              "      <td>...</td>\n",
              "      <td>...</td>\n",
              "      <td>...</td>\n",
              "      <td>...</td>\n",
              "      <td>...</td>\n",
              "      <td>...</td>\n",
              "      <td>...</td>\n",
              "      <td>...</td>\n",
              "      <td>...</td>\n",
              "      <td>...</td>\n",
              "      <td>...</td>\n",
              "      <td>...</td>\n",
              "      <td>...</td>\n",
              "      <td>...</td>\n",
              "      <td>...</td>\n",
              "      <td>...</td>\n",
              "      <td>...</td>\n",
              "      <td>...</td>\n",
              "      <td>...</td>\n",
              "      <td>...</td>\n",
              "      <td>...</td>\n",
              "      <td>...</td>\n",
              "      <td>...</td>\n",
              "      <td>...</td>\n",
              "      <td>...</td>\n",
              "      <td>...</td>\n",
              "      <td>...</td>\n",
              "      <td>...</td>\n",
              "    </tr>\n",
              "    <tr>\n",
              "      <th>18689</th>\n",
              "      <td>DIG vs C9</td>\n",
              "      <td>None</td>\n",
              "      <td>2015-05-31T20:43:55Z</td>\n",
              "      <td>False</td>\n",
              "      <td>{'id': 289, 'image_url': 'https://cdn.pandasco...</td>\n",
              "      <td>289</td>\n",
              "      <td>True</td>\n",
              "      <td>None</td>\n",
              "      <td>1</td>\n",
              "      <td>[{'score': 1, 'team_id': 384}, {'score': 0, 't...</td>\n",
              "      <td>{'current': False, 'name': '5.8.1'}</td>\n",
              "      <td>{'english': {'embed_url': None, 'raw_url': Non...</td>\n",
              "      <td>2018-12-09T12:33:21Z</td>\n",
              "      <td>[{'begin_at': '2015-05-31T20:09:51Z', 'complet...</td>\n",
              "      <td>None</td>\n",
              "      <td>best_of</td>\n",
              "      <td>2015-05-31T20:00:00Z</td>\n",
              "      <td>{'acronym': 'DIG', 'id': 384, 'image_url': 'ht...</td>\n",
              "      <td>dignitas-vs-cloud9-2015-05-31</td>\n",
              "      <td>{'id': 1, 'name': 'LoL', 'slug': 'league-of-le...</td>\n",
              "      <td>finished</td>\n",
              "      <td>384.0</td>\n",
              "      <td>False</td>\n",
              "      <td>{'begin_at': '2015-05-30T19:00:00Z', 'end_at':...</td>\n",
              "      <td>False</td>\n",
              "      <td>7</td>\n",
              "      <td>None</td>\n",
              "      <td>31</td>\n",
              "      <td>[{'opponent': {'acronym': 'DIG', 'id': 384, 'i...</td>\n",
              "      <td>1</td>\n",
              "      <td>{'begin_at': '2015-04-26T00:00:00Z', 'descript...</td>\n",
              "      <td>{'opens_at': None, 'supported': False, 'url': ...</td>\n",
              "      <td>2015-05-31T20:09:51Z</td>\n",
              "    </tr>\n",
              "    <tr>\n",
              "      <th>18690</th>\n",
              "      <td>T8 vs TL</td>\n",
              "      <td>None</td>\n",
              "      <td>2015-05-31T19:04:18Z</td>\n",
              "      <td>False</td>\n",
              "      <td>{'id': 289, 'image_url': 'https://cdn.pandasco...</td>\n",
              "      <td>289</td>\n",
              "      <td>True</td>\n",
              "      <td>None</td>\n",
              "      <td>1</td>\n",
              "      <td>[{'score': 0, 'team_id': 6}, {'score': 1, 'tea...</td>\n",
              "      <td>{'current': False, 'name': '5.8.1'}</td>\n",
              "      <td>{'english': {'embed_url': None, 'raw_url': Non...</td>\n",
              "      <td>2018-12-09T12:33:19Z</td>\n",
              "      <td>[{'begin_at': '2015-05-31T18:22:58Z', 'complet...</td>\n",
              "      <td>None</td>\n",
              "      <td>best_of</td>\n",
              "      <td>2015-05-31T18:00:00Z</td>\n",
              "      <td>{'acronym': 'TL', 'id': 390, 'image_url': 'htt...</td>\n",
              "      <td>team-8-vs-team-liquid-2015-05-31</td>\n",
              "      <td>{'id': 1, 'name': 'LoL', 'slug': 'league-of-le...</td>\n",
              "      <td>finished</td>\n",
              "      <td>390.0</td>\n",
              "      <td>False</td>\n",
              "      <td>{'begin_at': '2015-05-30T19:00:00Z', 'end_at':...</td>\n",
              "      <td>False</td>\n",
              "      <td>6</td>\n",
              "      <td>None</td>\n",
              "      <td>31</td>\n",
              "      <td>[{'opponent': {'acronym': 'T8', 'id': 6, 'imag...</td>\n",
              "      <td>1</td>\n",
              "      <td>{'begin_at': '2015-04-26T00:00:00Z', 'descript...</td>\n",
              "      <td>{'opens_at': None, 'supported': False, 'url': ...</td>\n",
              "      <td>2015-05-31T18:22:58Z</td>\n",
              "    </tr>\n",
              "    <tr>\n",
              "      <th>18691</th>\n",
              "      <td>GV vs NME</td>\n",
              "      <td>None</td>\n",
              "      <td>2015-05-31T00:06:10Z</td>\n",
              "      <td>False</td>\n",
              "      <td>{'id': 289, 'image_url': 'https://cdn.pandasco...</td>\n",
              "      <td>289</td>\n",
              "      <td>True</td>\n",
              "      <td>None</td>\n",
              "      <td>1</td>\n",
              "      <td>[{'score': 0, 'team_id': 9}, {'score': 1, 'tea...</td>\n",
              "      <td>{'current': False, 'name': '5.8.1'}</td>\n",
              "      <td>{'english': {'embed_url': None, 'raw_url': Non...</td>\n",
              "      <td>2018-12-09T12:33:16Z</td>\n",
              "      <td>[{'begin_at': '2015-05-30T23:23:25Z', 'complet...</td>\n",
              "      <td>None</td>\n",
              "      <td>best_of</td>\n",
              "      <td>2015-05-30T23:00:00Z</td>\n",
              "      <td>{'acronym': 'NME', 'id': 10, 'image_url': 'htt...</td>\n",
              "      <td>gravity-vs-enemy-2015-05-31</td>\n",
              "      <td>{'id': 1, 'name': 'LoL', 'slug': 'league-of-le...</td>\n",
              "      <td>finished</td>\n",
              "      <td>10.0</td>\n",
              "      <td>False</td>\n",
              "      <td>{'begin_at': '2015-05-30T19:00:00Z', 'end_at':...</td>\n",
              "      <td>False</td>\n",
              "      <td>5</td>\n",
              "      <td>None</td>\n",
              "      <td>31</td>\n",
              "      <td>[{'opponent': {'acronym': 'GV', 'id': 9, 'imag...</td>\n",
              "      <td>1</td>\n",
              "      <td>{'begin_at': '2015-04-26T00:00:00Z', 'descript...</td>\n",
              "      <td>{'opens_at': None, 'supported': False, 'url': ...</td>\n",
              "      <td>2015-05-30T23:23:25Z</td>\n",
              "    </tr>\n",
              "    <tr>\n",
              "      <th>18692</th>\n",
              "      <td>T8 vs TIP</td>\n",
              "      <td>None</td>\n",
              "      <td>2015-05-30T22:56:32Z</td>\n",
              "      <td>False</td>\n",
              "      <td>{'id': 289, 'image_url': 'https://cdn.pandasco...</td>\n",
              "      <td>289</td>\n",
              "      <td>True</td>\n",
              "      <td>None</td>\n",
              "      <td>1</td>\n",
              "      <td>[{'score': 0, 'team_id': 6}, {'score': 1, 'tea...</td>\n",
              "      <td>{'current': False, 'name': '5.8.1'}</td>\n",
              "      <td>{'english': {'embed_url': None, 'raw_url': Non...</td>\n",
              "      <td>2018-12-09T12:33:14Z</td>\n",
              "      <td>[{'begin_at': '2015-05-30T22:23:32Z', 'complet...</td>\n",
              "      <td>None</td>\n",
              "      <td>best_of</td>\n",
              "      <td>2015-05-30T22:00:00Z</td>\n",
              "      <td>{'acronym': 'TIP', 'id': 385, 'image_url': 'ht...</td>\n",
              "      <td>team-8-vs-impulse-2015-05-31</td>\n",
              "      <td>{'id': 1, 'name': 'LoL', 'slug': 'league-of-le...</td>\n",
              "      <td>finished</td>\n",
              "      <td>385.0</td>\n",
              "      <td>False</td>\n",
              "      <td>{'begin_at': '2015-05-30T19:00:00Z', 'end_at':...</td>\n",
              "      <td>False</td>\n",
              "      <td>4</td>\n",
              "      <td>None</td>\n",
              "      <td>31</td>\n",
              "      <td>[{'opponent': {'acronym': 'T8', 'id': 6, 'imag...</td>\n",
              "      <td>1</td>\n",
              "      <td>{'begin_at': '2015-04-26T00:00:00Z', 'descript...</td>\n",
              "      <td>{'opens_at': None, 'supported': False, 'url': ...</td>\n",
              "      <td>2015-05-30T22:23:32Z</td>\n",
              "    </tr>\n",
              "    <tr>\n",
              "      <th>18693</th>\n",
              "      <td>TL vs TDK</td>\n",
              "      <td>None</td>\n",
              "      <td>2015-05-30T20:55:10Z</td>\n",
              "      <td>False</td>\n",
              "      <td>{'id': 289, 'image_url': 'https://cdn.pandasco...</td>\n",
              "      <td>289</td>\n",
              "      <td>True</td>\n",
              "      <td>None</td>\n",
              "      <td>1</td>\n",
              "      <td>[{'score': 1, 'team_id': 390}, {'score': 0, 't...</td>\n",
              "      <td>{'current': False, 'name': '5.9.1'}</td>\n",
              "      <td>{'english': {'embed_url': None, 'raw_url': Non...</td>\n",
              "      <td>2018-12-09T12:33:10Z</td>\n",
              "      <td>[{'begin_at': '2015-05-30T20:11:29Z', 'complet...</td>\n",
              "      <td>None</td>\n",
              "      <td>best_of</td>\n",
              "      <td>2015-05-30T20:00:00Z</td>\n",
              "      <td>{'acronym': 'TL', 'id': 390, 'image_url': 'htt...</td>\n",
              "      <td>team-liquid-vs-dragon-knights-2015-05-30</td>\n",
              "      <td>{'id': 1, 'name': 'LoL', 'slug': 'league-of-le...</td>\n",
              "      <td>finished</td>\n",
              "      <td>390.0</td>\n",
              "      <td>False</td>\n",
              "      <td>{'begin_at': '2015-05-30T19:00:00Z', 'end_at':...</td>\n",
              "      <td>False</td>\n",
              "      <td>2</td>\n",
              "      <td>None</td>\n",
              "      <td>31</td>\n",
              "      <td>[{'opponent': {'acronym': 'TL', 'id': 390, 'im...</td>\n",
              "      <td>1</td>\n",
              "      <td>{'begin_at': '2015-04-26T00:00:00Z', 'descript...</td>\n",
              "      <td>{'opens_at': None, 'supported': False, 'url': ...</td>\n",
              "      <td>2015-05-30T20:11:29Z</td>\n",
              "    </tr>\n",
              "  </tbody>\n",
              "</table>\n",
              "<p>18694 rows × 33 columns</p>\n",
              "</div>"
            ],
            "text/plain": [
              "                                name  ...              begin_at\n",
              "0                Round 3: TBD vs TBD  ...  2021-03-11T17:00:00Z\n",
              "1       Round 2 Match 2: MOUZ vs BIG  ...  2021-03-10T20:00:00Z\n",
              "2        Round 2 Match 1: TBD vs TBD  ...  2021-03-10T17:00:00Z\n",
              "3      Round 1 Match 2: SKP vs S04.E  ...  2021-03-09T20:00:00Z\n",
              "4         Round 1 Match 1: GL vs USE  ...  2021-03-09T17:00:00Z\n",
              "...                              ...  ...                   ...\n",
              "18689                      DIG vs C9  ...  2015-05-31T20:09:51Z\n",
              "18690                       T8 vs TL  ...  2015-05-31T18:22:58Z\n",
              "18691                      GV vs NME  ...  2015-05-30T23:23:25Z\n",
              "18692                      T8 vs TIP  ...  2015-05-30T22:23:32Z\n",
              "18693                      TL vs TDK  ...  2015-05-30T20:11:29Z\n",
              "\n",
              "[18694 rows x 33 columns]"
            ]
          },
          "metadata": {
            "tags": []
          },
          "execution_count": 41
        }
      ]
    },
    {
      "cell_type": "markdown",
      "metadata": {
        "id": "vCR8kV17OrY6"
      },
      "source": [
        "Veamos las columnas y tipos de datos:"
      ]
    },
    {
      "cell_type": "code",
      "metadata": {
        "colab": {
          "base_uri": "https://localhost:8080/"
        },
        "id": "oMJtKE93OqUs",
        "outputId": "f2237f19-e946-462a-95bd-a6af508c4e46"
      },
      "source": [
        "df_matches.info()"
      ],
      "execution_count": null,
      "outputs": [
        {
          "output_type": "stream",
          "text": [
            "<class 'pandas.core.frame.DataFrame'>\n",
            "RangeIndex: 18694 entries, 0 to 18693\n",
            "Data columns (total 33 columns):\n",
            " #   Column                 Non-Null Count  Dtype  \n",
            "---  ------                 --------------  -----  \n",
            " 0   name                   18694 non-null  object \n",
            " 1   official_stream_url    10896 non-null  object \n",
            " 2   end_at                 18135 non-null  object \n",
            " 3   draw                   18694 non-null  bool   \n",
            " 4   league                 18694 non-null  object \n",
            " 5   league_id              18694 non-null  int64  \n",
            " 6   detailed_stats         18694 non-null  bool   \n",
            " 7   live_embed_url         9340 non-null   object \n",
            " 8   tournament_id          18694 non-null  int64  \n",
            " 9   results                18694 non-null  object \n",
            " 10  videogame_version      17824 non-null  object \n",
            " 11  streams                18694 non-null  object \n",
            " 12  modified_at            18694 non-null  object \n",
            " 13  games                  18694 non-null  object \n",
            " 14  original_scheduled_at  15786 non-null  object \n",
            " 15  match_type             18694 non-null  object \n",
            " 16  scheduled_at           18694 non-null  object \n",
            " 17  winner                 17770 non-null  object \n",
            " 18  slug                   18694 non-null  object \n",
            " 19  videogame              18694 non-null  object \n",
            " 20  status                 18694 non-null  object \n",
            " 21  winner_id              17770 non-null  float64\n",
            " 22  forfeit                18694 non-null  bool   \n",
            " 23  tournament             18694 non-null  object \n",
            " 24  rescheduled            18694 non-null  bool   \n",
            " 25  id                     18694 non-null  int64  \n",
            " 26  game_advantage         11 non-null     object \n",
            " 27  serie_id               18694 non-null  int64  \n",
            " 28  opponents              18694 non-null  object \n",
            " 29  number_of_games        18694 non-null  int64  \n",
            " 30  serie                  18694 non-null  object \n",
            " 31  live                   18694 non-null  object \n",
            " 32  begin_at               18662 non-null  object \n",
            "dtypes: bool(4), float64(1), int64(5), object(23)\n",
            "memory usage: 4.2+ MB\n"
          ],
          "name": "stdout"
        }
      ]
    },
    {
      "cell_type": "markdown",
      "metadata": {
        "id": "XbPPlEMTO0xQ"
      },
      "source": [
        "Como podemos ver tenemos 33 columnas, un número considerable, observemos que contienen algunas y si nos son de utilidad. Empecemos por los campos que contienen listas:"
      ]
    },
    {
      "cell_type": "code",
      "metadata": {
        "colab": {
          "base_uri": "https://localhost:8080/"
        },
        "id": "LGwvs6ENO3ef",
        "outputId": "3d5c0fff-3a09-4ffb-b5db-134961c8e1ab"
      },
      "source": [
        "df_matches['videogame'][0] "
      ],
      "execution_count": null,
      "outputs": [
        {
          "output_type": "execute_result",
          "data": {
            "text/plain": [
              "{'id': 1, 'name': 'LoL', 'slug': 'league-of-legends'}"
            ]
          },
          "metadata": {
            "tags": []
          },
          "execution_count": 43
        }
      ]
    },
    {
      "cell_type": "markdown",
      "metadata": {
        "id": "nrWyvkl_O7TF"
      },
      "source": [
        "El campo _videogame_ puede que haya sido de utilidad para la API al momento de regresarnos una respuesta, sin embargo, es  redundante para nosotros."
      ]
    },
    {
      "cell_type": "code",
      "metadata": {
        "colab": {
          "base_uri": "https://localhost:8080/"
        },
        "id": "KQYn7x-wO-IP",
        "outputId": "c19550e0-0d4b-4491-8156-a12af46d5ff5"
      },
      "source": [
        "df_matches['slug']"
      ],
      "execution_count": null,
      "outputs": [
        {
          "output_type": "execute_result",
          "data": {
            "text/plain": [
              "0          2021-03-11-c3b8c131-fac1-4b71-b339-f1d0387914a6\n",
              "1        mousesports-vs-berlin-international-gaming-202...\n",
              "2          2021-03-10-7412caf0-3f45-40e1-b763-80d005a04162\n",
              "3        sk-gaming-prime-vs-fc-schalke-04-evolution-202...\n",
              "4        team-gamerlegion-vs-unicorns-of-love-sexy-edit...\n",
              "                               ...                        \n",
              "18689                        dignitas-vs-cloud9-2015-05-31\n",
              "18690                     team-8-vs-team-liquid-2015-05-31\n",
              "18691                          gravity-vs-enemy-2015-05-31\n",
              "18692                         team-8-vs-impulse-2015-05-31\n",
              "18693             team-liquid-vs-dragon-knights-2015-05-30\n",
              "Name: slug, Length: 18694, dtype: object"
            ]
          },
          "metadata": {
            "tags": []
          },
          "execution_count": 44
        }
      ]
    },
    {
      "cell_type": "markdown",
      "metadata": {
        "id": "YYpp7nF9PAdh"
      },
      "source": [
        "Una combinación del campo nombre y la fecha programada. Además de que en algunos casos tenemos valores raros, consideramos que podemos retirar esta columna."
      ]
    },
    {
      "cell_type": "code",
      "metadata": {
        "colab": {
          "base_uri": "https://localhost:8080/"
        },
        "id": "n3BWiZ_NPC_u",
        "outputId": "d249a120-1034-438e-e9e6-687cf225f2e3"
      },
      "source": [
        "df_matches['streams'][0]"
      ],
      "execution_count": null,
      "outputs": [
        {
          "output_type": "execute_result",
          "data": {
            "text/plain": [
              "{'english': {'embed_url': None, 'raw_url': None},\n",
              " 'official': {'embed_url': None, 'raw_url': None},\n",
              " 'russian': {'embed_url': None, 'raw_url': None}}"
            ]
          },
          "metadata": {
            "tags": []
          },
          "execution_count": 45
        }
      ]
    },
    {
      "cell_type": "code",
      "metadata": {
        "colab": {
          "base_uri": "https://localhost:8080/"
        },
        "id": "GU-WWm6SPDJO",
        "outputId": "7f752535-8855-407a-b80e-eee886158c8d"
      },
      "source": [
        "df_matches['streams'][300]"
      ],
      "execution_count": null,
      "outputs": [
        {
          "output_type": "execute_result",
          "data": {
            "text/plain": [
              "{'english': {'embed_url': None, 'raw_url': None},\n",
              " 'official': {'embed_url': 'https://player.twitch.tv/?channel=riotgamesru',\n",
              "  'raw_url': 'https://www.twitch.tv/riotgamesru'},\n",
              " 'russian': {'embed_url': 'https://player.twitch.tv/?channel=riotgamesru',\n",
              "  'raw_url': 'https://www.twitch.tv/riotgamesru'}}"
            ]
          },
          "metadata": {
            "tags": []
          },
          "execution_count": 46
        }
      ]
    },
    {
      "cell_type": "code",
      "metadata": {
        "colab": {
          "base_uri": "https://localhost:8080/",
          "height": 36
        },
        "id": "UKMKzOQrPINf",
        "outputId": "37d44482-e8ae-4661-a68f-d75d78afe448"
      },
      "source": [
        "df_matches.loc[300,'official_stream_url']"
      ],
      "execution_count": null,
      "outputs": [
        {
          "output_type": "execute_result",
          "data": {
            "application/vnd.google.colaboratory.intrinsic+json": {
              "type": "string"
            },
            "text/plain": [
              "'https://www.twitch.tv/riotgamesru'"
            ]
          },
          "metadata": {
            "tags": []
          },
          "execution_count": 47
        }
      ]
    },
    {
      "cell_type": "code",
      "metadata": {
        "colab": {
          "base_uri": "https://localhost:8080/",
          "height": 36
        },
        "id": "Wz7DPURGPKcp",
        "outputId": "fcedb985-1d8d-4d08-b3b0-7c49c1c733f1"
      },
      "source": [
        "df_matches['live_embed_url'][300]"
      ],
      "execution_count": null,
      "outputs": [
        {
          "output_type": "execute_result",
          "data": {
            "application/vnd.google.colaboratory.intrinsic+json": {
              "type": "string"
            },
            "text/plain": [
              "'https://player.twitch.tv/?channel=riotgamesru'"
            ]
          },
          "metadata": {
            "tags": []
          },
          "execution_count": 48
        }
      ]
    },
    {
      "cell_type": "code",
      "metadata": {
        "colab": {
          "base_uri": "https://localhost:8080/",
          "height": 36
        },
        "id": "Qj_crs8sPMyM",
        "outputId": "476fa522-4a80-49c2-fbd7-0b7400a29b55"
      },
      "source": [
        "df_matches['official_stream_url'][300]"
      ],
      "execution_count": null,
      "outputs": [
        {
          "output_type": "execute_result",
          "data": {
            "application/vnd.google.colaboratory.intrinsic+json": {
              "type": "string"
            },
            "text/plain": [
              "'https://www.twitch.tv/riotgamesru'"
            ]
          },
          "metadata": {
            "tags": []
          },
          "execution_count": 49
        }
      ]
    },
    {
      "cell_type": "markdown",
      "metadata": {
        "id": "NOU3YpvrPPaQ"
      },
      "source": [
        "El campo _streams_ nos regresa las direcciones URL de las transmisiones en vivo en diferentes idiomas, mientras que el campo _live embed url_ nos da el enlace en el que se transmitió en vivo y _official stream url_ nos regresa únicamente la URL del canal oficial que realizo el streaming. Creemos es mejor conservar este último campo con la dirección oficial a un campo con una lista  más difícil de manejar y otro con URLs que ya no son accesibles."
      ]
    },
    {
      "cell_type": "code",
      "metadata": {
        "colab": {
          "base_uri": "https://localhost:8080/"
        },
        "id": "B8zdth4tPTGC",
        "outputId": "8db66a72-b145-49a6-93c6-fe8a057ed7df"
      },
      "source": [
        "df_matches['tournament'][0]"
      ],
      "execution_count": null,
      "outputs": [
        {
          "output_type": "execute_result",
          "data": {
            "text/plain": [
              "{'begin_at': '2021-03-09T17:00:00Z',\n",
              " 'end_at': None,\n",
              " 'id': 5649,\n",
              " 'league_id': 4302,\n",
              " 'live_supported': False,\n",
              " 'modified_at': '2021-03-08T14:50:51Z',\n",
              " 'name': 'Playoffs',\n",
              " 'prizepool': None,\n",
              " 'serie_id': 3254,\n",
              " 'slug': 'league-of-legends-prime-league-pro-division-spring-2021-playoffs',\n",
              " 'winner_id': None,\n",
              " 'winner_type': 'Team'}"
            ]
          },
          "metadata": {
            "tags": []
          },
          "execution_count": 50
        }
      ]
    },
    {
      "cell_type": "markdown",
      "metadata": {
        "id": "ueNxtwxOPXtc"
      },
      "source": [
        "El campo _tournament_ nos devuelve el torneo correspondiente. Sin embargo, contamos con el _tournament id_, y podemos realizar peticiones de torneos si lo deseamos, por lo que de ser necesario podriamos realizar un **join** y observar a que torneo corresponde cada enfrentamiento. "
      ]
    },
    {
      "cell_type": "code",
      "metadata": {
        "colab": {
          "base_uri": "https://localhost:8080/"
        },
        "id": "ka7p2im_PcPx",
        "outputId": "2d7e9927-b3b9-42b7-97a8-6cbb2f86d75a"
      },
      "source": [
        "df_matches['modified_at'].head() "
      ],
      "execution_count": null,
      "outputs": [
        {
          "output_type": "execute_result",
          "data": {
            "text/plain": [
              "0    2021-03-07T20:20:32Z\n",
              "1    2021-03-07T20:19:53Z\n",
              "2    2021-03-07T20:19:33Z\n",
              "3    2021-03-07T20:18:12Z\n",
              "4    2021-03-07T20:17:44Z\n",
              "Name: modified_at, dtype: object"
            ]
          },
          "metadata": {
            "tags": []
          },
          "execution_count": 51
        }
      ]
    },
    {
      "cell_type": "markdown",
      "metadata": {
        "id": "WtYit9nmPats"
      },
      "source": [
        "La última fecha de modificación respecto a la API no nos resulta útil del todo a nosotros."
      ]
    },
    {
      "cell_type": "code",
      "metadata": {
        "colab": {
          "base_uri": "https://localhost:8080/"
        },
        "id": "H9OzICMQPh_T",
        "outputId": "51e34ad6-d08f-48c6-d970-a784b115b61c"
      },
      "source": [
        "df_matches['league'][0]"
      ],
      "execution_count": null,
      "outputs": [
        {
          "output_type": "execute_result",
          "data": {
            "text/plain": [
              "{'id': 4302,\n",
              " 'image_url': 'https://cdn.pandascore.co/images/league/image/4302/220px-Prime_Leaguelogo_square.png',\n",
              " 'modified_at': '2020-01-20T16:20:40Z',\n",
              " 'name': 'Prime League Pro Division',\n",
              " 'slug': 'league-of-legends-prime-league-pro-division',\n",
              " 'url': 'https://www.primeleague.gg/de/start'}"
            ]
          },
          "metadata": {
            "tags": []
          },
          "execution_count": 52
        }
      ]
    },
    {
      "cell_type": "code",
      "metadata": {
        "colab": {
          "base_uri": "https://localhost:8080/"
        },
        "id": "bMXAFEz3Pmc6",
        "outputId": "a680f1a8-03f4-4799-d164-53f4f0ffbb6a"
      },
      "source": [
        "df_matches['serie'][0]"
      ],
      "execution_count": null,
      "outputs": [
        {
          "output_type": "execute_result",
          "data": {
            "text/plain": [
              "{'begin_at': '2021-01-19T17:00:00Z',\n",
              " 'description': None,\n",
              " 'end_at': None,\n",
              " 'full_name': 'Spring 2021',\n",
              " 'id': 3254,\n",
              " 'league_id': 4302,\n",
              " 'modified_at': '2021-01-12T08:59:18Z',\n",
              " 'name': '',\n",
              " 'season': 'Spring',\n",
              " 'slug': 'league-of-legends-prime-league-pro-division-spring-2021',\n",
              " 'tier': 'c',\n",
              " 'winner_id': None,\n",
              " 'winner_type': None,\n",
              " 'year': 2021}"
            ]
          },
          "metadata": {
            "tags": []
          },
          "execution_count": 53
        }
      ]
    },
    {
      "cell_type": "markdown",
      "metadata": {
        "id": "osg4JnCBPqvz"
      },
      "source": [
        "Mismo caso que con los torneos, si conservamos el _league id_ y _serie id_ no deberiamos tener problemas."
      ]
    },
    {
      "cell_type": "code",
      "metadata": {
        "colab": {
          "base_uri": "https://localhost:8080/"
        },
        "id": "fVKztr-ePtw8",
        "outputId": "f20fd16a-77ab-46a7-bbe4-1a53f38fc872"
      },
      "source": [
        "df_matches['id']"
      ],
      "execution_count": null,
      "outputs": [
        {
          "output_type": "execute_result",
          "data": {
            "text/plain": [
              "0        586007\n",
              "1        586006\n",
              "2        586005\n",
              "3        586004\n",
              "4        586003\n",
              "          ...  \n",
              "18689         7\n",
              "18690         6\n",
              "18691         5\n",
              "18692         4\n",
              "18693         2\n",
              "Name: id, Length: 18694, dtype: int64"
            ]
          },
          "metadata": {
            "tags": []
          },
          "execution_count": 54
        }
      ]
    },
    {
      "cell_type": "markdown",
      "metadata": {
        "id": "6e4iSGtmPxZW"
      },
      "source": [
        "Id asignado por la API a cada enfrentamiento, con el observamos que los enfrentamientos en los primeros registros son los más recientes y los últmos son los más antiguos. Para evitar confusiones y por el tratamiento que le daremos a los datos será mejor usar nuestra propia indexación."
      ]
    },
    {
      "cell_type": "code",
      "metadata": {
        "colab": {
          "base_uri": "https://localhost:8080/"
        },
        "id": "CDAUleH-P3I7",
        "outputId": "ddce5c81-1d37-41f3-a78d-0f21d241e6b0"
      },
      "source": [
        "df_matches['games'][300]"
      ],
      "execution_count": null,
      "outputs": [
        {
          "output_type": "execute_result",
          "data": {
            "text/plain": [
              "[{'begin_at': None,\n",
              "  'complete': False,\n",
              "  'detailed_stats': True,\n",
              "  'end_at': None,\n",
              "  'finished': False,\n",
              "  'forfeit': False,\n",
              "  'id': 222685,\n",
              "  'length': None,\n",
              "  'match_id': 583283,\n",
              "  'position': 1,\n",
              "  'status': 'not_started',\n",
              "  'video_url': None,\n",
              "  'winner': {'id': None, 'type': None},\n",
              "  'winner_type': None}]"
            ]
          },
          "metadata": {
            "tags": []
          },
          "execution_count": 55
        }
      ]
    },
    {
      "cell_type": "markdown",
      "metadata": {
        "id": "SlLYgIbjP7JN"
      },
      "source": [
        "El campo _games_ debería entregar información de cada partida en el enfrentamiento, pero en general esos datos podemos encontrarlos en otros campos que ya tenemos."
      ]
    },
    {
      "cell_type": "code",
      "metadata": {
        "colab": {
          "base_uri": "https://localhost:8080/"
        },
        "id": "mOGWQP79P-Op",
        "outputId": "d8b4f3c4-84c7-4218-d4b0-8c424e4b2123"
      },
      "source": [
        "df_matches['game_advantage'].unique()"
      ],
      "execution_count": null,
      "outputs": [
        {
          "output_type": "execute_result",
          "data": {
            "text/plain": [
              "array([None, nan, 2862.0, 318.0, 126059.0, 329.0, 74.0, 1566.0, 249.0,\n",
              "       205.0, 411.0, 65.0, 267.0], dtype=object)"
            ]
          },
          "metadata": {
            "tags": []
          },
          "execution_count": 56
        }
      ]
    },
    {
      "cell_type": "markdown",
      "metadata": {
        "id": "kAXQAnJxQA8O"
      },
      "source": [
        "\r\n",
        "El campo game_advantage es poco claro, en la documentación no se específica el significado de estos valores."
      ]
    },
    {
      "cell_type": "code",
      "metadata": {
        "colab": {
          "base_uri": "https://localhost:8080/"
        },
        "id": "Tmy8bvHUQa-H",
        "outputId": "2a7a0f3b-b708-464d-ea5c-2b3806575728"
      },
      "source": [
        "df_matches['original_scheduled_at']"
      ],
      "execution_count": null,
      "outputs": [
        {
          "output_type": "execute_result",
          "data": {
            "text/plain": [
              "0        2021-03-11T17:00:00Z\n",
              "1        2021-03-10T20:00:00Z\n",
              "2        2021-03-10T17:00:00Z\n",
              "3        2021-03-09T20:00:00Z\n",
              "4        2021-03-09T17:00:00Z\n",
              "                 ...         \n",
              "18689                    None\n",
              "18690                    None\n",
              "18691                    None\n",
              "18692                    None\n",
              "18693                    None\n",
              "Name: original_scheduled_at, Length: 18694, dtype: object"
            ]
          },
          "metadata": {
            "tags": []
          },
          "execution_count": 57
        }
      ]
    },
    {
      "cell_type": "code",
      "metadata": {
        "colab": {
          "base_uri": "https://localhost:8080/"
        },
        "id": "YmpBOTA6Qt1X",
        "outputId": "50110454-f732-4ae8-cb86-e49dced53661"
      },
      "source": [
        "df_matches['scheduled_at']"
      ],
      "execution_count": null,
      "outputs": [
        {
          "output_type": "execute_result",
          "data": {
            "text/plain": [
              "0        2021-03-11T17:00:00Z\n",
              "1        2021-03-10T20:00:00Z\n",
              "2        2021-03-10T17:00:00Z\n",
              "3        2021-03-09T20:00:00Z\n",
              "4        2021-03-09T17:00:00Z\n",
              "                 ...         \n",
              "18689    2015-05-31T20:00:00Z\n",
              "18690    2015-05-31T18:00:00Z\n",
              "18691    2015-05-30T23:00:00Z\n",
              "18692    2015-05-30T22:00:00Z\n",
              "18693    2015-05-30T20:00:00Z\n",
              "Name: scheduled_at, Length: 18694, dtype: object"
            ]
          },
          "metadata": {
            "tags": []
          },
          "execution_count": 58
        }
      ]
    },
    {
      "cell_type": "markdown",
      "metadata": {
        "id": "BrWTO7N-QyaS"
      },
      "source": [
        "Estos campos pueden indicar modificaciones en las fechas de los enfrentamientos, pero el campo _rescheduled_ nos brinda la misma información de forma más concisa."
      ]
    },
    {
      "cell_type": "code",
      "metadata": {
        "colab": {
          "base_uri": "https://localhost:8080/"
        },
        "id": "gh4ZVrJBQ07Y",
        "outputId": "aac90dd9-2637-404c-d05d-3bce011ef70f"
      },
      "source": [
        "df_matches['match_type'].unique()"
      ],
      "execution_count": null,
      "outputs": [
        {
          "output_type": "execute_result",
          "data": {
            "text/plain": [
              "array(['best_of'], dtype=object)"
            ]
          },
          "metadata": {
            "tags": []
          },
          "execution_count": 59
        }
      ]
    },
    {
      "cell_type": "markdown",
      "metadata": {
        "id": "PiKZZAGTQ39e"
      },
      "source": [
        "En general todos los enfrentamientos son del tipo \"_el mejor de_\", así que este campo también es redundante."
      ]
    },
    {
      "cell_type": "code",
      "metadata": {
        "colab": {
          "base_uri": "https://localhost:8080/"
        },
        "id": "uwciLiBqQ6iH",
        "outputId": "f95da194-c3d5-402f-ac4e-129ebd922749"
      },
      "source": [
        "df_matches['detailed_stats']"
      ],
      "execution_count": null,
      "outputs": [
        {
          "output_type": "execute_result",
          "data": {
            "text/plain": [
              "0        True\n",
              "1        True\n",
              "2        True\n",
              "3        True\n",
              "4        True\n",
              "         ... \n",
              "18689    True\n",
              "18690    True\n",
              "18691    True\n",
              "18692    True\n",
              "18693    True\n",
              "Name: detailed_stats, Length: 18694, dtype: bool"
            ]
          },
          "metadata": {
            "tags": []
          },
          "execution_count": 60
        }
      ]
    },
    {
      "cell_type": "markdown",
      "metadata": {
        "id": "0l1en71iQ-LB"
      },
      "source": [
        "Un campo que indica si el campo _games_ contiene detalles, pero ya que no vamos a utilizar _games_ podemos omitirlo."
      ]
    },
    {
      "cell_type": "code",
      "metadata": {
        "colab": {
          "base_uri": "https://localhost:8080/"
        },
        "id": "cnt1_sK8RA2r",
        "outputId": "2f68e3e3-44c3-477d-e047-f4993aea0fda"
      },
      "source": [
        "df_matches['videogame_version']"
      ],
      "execution_count": null,
      "outputs": [
        {
          "output_type": "execute_result",
          "data": {
            "text/plain": [
              "0                                       None\n",
              "1                                       None\n",
              "2                                       None\n",
              "3                                       None\n",
              "4                                       None\n",
              "                        ...                 \n",
              "18689    {'current': False, 'name': '5.8.1'}\n",
              "18690    {'current': False, 'name': '5.8.1'}\n",
              "18691    {'current': False, 'name': '5.8.1'}\n",
              "18692    {'current': False, 'name': '5.8.1'}\n",
              "18693    {'current': False, 'name': '5.9.1'}\n",
              "Name: videogame_version, Length: 18694, dtype: object"
            ]
          },
          "metadata": {
            "tags": []
          },
          "execution_count": 61
        }
      ]
    },
    {
      "cell_type": "markdown",
      "metadata": {
        "id": "snVKBVWtRElD"
      },
      "source": [
        "Un campo que podría ser de interés si analizamos las composiciones de _personajes_ de cada equipo respecto a la versión del juego, lamentablemente no contamos con esa información."
      ]
    },
    {
      "cell_type": "code",
      "metadata": {
        "colab": {
          "base_uri": "https://localhost:8080/"
        },
        "id": "9laSnSEbRHUR",
        "outputId": "63596a6b-c893-40a6-b8d0-47198fcce6f5"
      },
      "source": [
        "df_matches['live'][0]"
      ],
      "execution_count": null,
      "outputs": [
        {
          "output_type": "execute_result",
          "data": {
            "text/plain": [
              "{'opens_at': None, 'supported': False, 'url': None}"
            ]
          },
          "metadata": {
            "tags": []
          },
          "execution_count": 62
        }
      ]
    },
    {
      "cell_type": "markdown",
      "metadata": {
        "id": "mm-edVKlRMD6"
      },
      "source": [
        "Finalmente el campo _live_ nos brinda la url del stream si el enfrentamiento está en vivo en ese momento, en general si buscaramos un soporte en vivo sería un campo genial, pero como deseamos trabajar con resultados de enfrentamientos que ya han terminado podemos trabajar sin este campo.\r\n",
        "\r\n",
        "Ahora eliminamos los campos que deseamos retirar:"
      ]
    },
    {
      "cell_type": "code",
      "metadata": {
        "colab": {
          "base_uri": "https://localhost:8080/"
        },
        "id": "PjLFmKBwRO9o",
        "outputId": "4feee368-bc38-4164-9c8d-8b8753d9f40b"
      },
      "source": [
        "campos_no_deseados = ['videogame', 'slug', 'tournament', 'league', 'serie', 'streams', 'modified_at', 'games',\r\n",
        "                      'game_advantage', 'scheduled_at', 'original_scheduled_at', 'detailed_stats','live',\r\n",
        "                      'match_type', 'videogame_version', 'live_embed_url', 'id']\r\n",
        "\r\n",
        "df_matches_temp = df_matches.drop(columns=campos_no_deseados)\r\n",
        "df_matches_temp.info()"
      ],
      "execution_count": null,
      "outputs": [
        {
          "output_type": "stream",
          "text": [
            "<class 'pandas.core.frame.DataFrame'>\n",
            "RangeIndex: 18694 entries, 0 to 18693\n",
            "Data columns (total 16 columns):\n",
            " #   Column               Non-Null Count  Dtype  \n",
            "---  ------               --------------  -----  \n",
            " 0   name                 18694 non-null  object \n",
            " 1   official_stream_url  10896 non-null  object \n",
            " 2   end_at               18135 non-null  object \n",
            " 3   draw                 18694 non-null  bool   \n",
            " 4   league_id            18694 non-null  int64  \n",
            " 5   tournament_id        18694 non-null  int64  \n",
            " 6   results              18694 non-null  object \n",
            " 7   winner               17770 non-null  object \n",
            " 8   status               18694 non-null  object \n",
            " 9   winner_id            17770 non-null  float64\n",
            " 10  forfeit              18694 non-null  bool   \n",
            " 11  rescheduled          18694 non-null  bool   \n",
            " 12  serie_id             18694 non-null  int64  \n",
            " 13  opponents            18694 non-null  object \n",
            " 14  number_of_games      18694 non-null  int64  \n",
            " 15  begin_at             18662 non-null  object \n",
            "dtypes: bool(3), float64(1), int64(4), object(8)\n",
            "memory usage: 1.9+ MB\n"
          ],
          "name": "stdout"
        }
      ]
    },
    {
      "cell_type": "code",
      "metadata": {
        "colab": {
          "base_uri": "https://localhost:8080/",
          "height": 363
        },
        "id": "yc5zWzSnRRxV",
        "outputId": "7e44f416-c6a7-42c3-a793-a1f7cd203f41"
      },
      "source": [
        "df_matches_temp.head()"
      ],
      "execution_count": null,
      "outputs": [
        {
          "output_type": "execute_result",
          "data": {
            "text/html": [
              "<div>\n",
              "<style scoped>\n",
              "    .dataframe tbody tr th:only-of-type {\n",
              "        vertical-align: middle;\n",
              "    }\n",
              "\n",
              "    .dataframe tbody tr th {\n",
              "        vertical-align: top;\n",
              "    }\n",
              "\n",
              "    .dataframe thead th {\n",
              "        text-align: right;\n",
              "    }\n",
              "</style>\n",
              "<table border=\"1\" class=\"dataframe\">\n",
              "  <thead>\n",
              "    <tr style=\"text-align: right;\">\n",
              "      <th></th>\n",
              "      <th>name</th>\n",
              "      <th>official_stream_url</th>\n",
              "      <th>end_at</th>\n",
              "      <th>draw</th>\n",
              "      <th>league_id</th>\n",
              "      <th>tournament_id</th>\n",
              "      <th>results</th>\n",
              "      <th>winner</th>\n",
              "      <th>status</th>\n",
              "      <th>winner_id</th>\n",
              "      <th>forfeit</th>\n",
              "      <th>rescheduled</th>\n",
              "      <th>serie_id</th>\n",
              "      <th>opponents</th>\n",
              "      <th>number_of_games</th>\n",
              "      <th>begin_at</th>\n",
              "    </tr>\n",
              "  </thead>\n",
              "  <tbody>\n",
              "    <tr>\n",
              "      <th>0</th>\n",
              "      <td>Round 3: TBD vs TBD</td>\n",
              "      <td>None</td>\n",
              "      <td>None</td>\n",
              "      <td>False</td>\n",
              "      <td>4302</td>\n",
              "      <td>5649</td>\n",
              "      <td>[]</td>\n",
              "      <td>None</td>\n",
              "      <td>not_started</td>\n",
              "      <td>NaN</td>\n",
              "      <td>False</td>\n",
              "      <td>False</td>\n",
              "      <td>3254</td>\n",
              "      <td>[]</td>\n",
              "      <td>5</td>\n",
              "      <td>2021-03-11T17:00:00Z</td>\n",
              "    </tr>\n",
              "    <tr>\n",
              "      <th>1</th>\n",
              "      <td>Round 2 Match 2: MOUZ vs BIG</td>\n",
              "      <td>None</td>\n",
              "      <td>None</td>\n",
              "      <td>False</td>\n",
              "      <td>4302</td>\n",
              "      <td>5649</td>\n",
              "      <td>[{'score': 0, 'team_id': 16}, {'score': 0, 'te...</td>\n",
              "      <td>None</td>\n",
              "      <td>not_started</td>\n",
              "      <td>NaN</td>\n",
              "      <td>False</td>\n",
              "      <td>False</td>\n",
              "      <td>3254</td>\n",
              "      <td>[{'opponent': {'acronym': 'MOUZ', 'id': 16, 'i...</td>\n",
              "      <td>3</td>\n",
              "      <td>2021-03-10T20:00:00Z</td>\n",
              "    </tr>\n",
              "    <tr>\n",
              "      <th>2</th>\n",
              "      <td>Round 2 Match 1: TBD vs TBD</td>\n",
              "      <td>None</td>\n",
              "      <td>None</td>\n",
              "      <td>False</td>\n",
              "      <td>4302</td>\n",
              "      <td>5649</td>\n",
              "      <td>[]</td>\n",
              "      <td>None</td>\n",
              "      <td>not_started</td>\n",
              "      <td>NaN</td>\n",
              "      <td>False</td>\n",
              "      <td>False</td>\n",
              "      <td>3254</td>\n",
              "      <td>[]</td>\n",
              "      <td>3</td>\n",
              "      <td>2021-03-10T17:00:00Z</td>\n",
              "    </tr>\n",
              "    <tr>\n",
              "      <th>3</th>\n",
              "      <td>Round 1 Match 2: SKP vs S04.E</td>\n",
              "      <td>None</td>\n",
              "      <td>None</td>\n",
              "      <td>False</td>\n",
              "      <td>4302</td>\n",
              "      <td>5649</td>\n",
              "      <td>[{'score': 0, 'team_id': 247}, {'score': 0, 't...</td>\n",
              "      <td>None</td>\n",
              "      <td>not_started</td>\n",
              "      <td>NaN</td>\n",
              "      <td>False</td>\n",
              "      <td>False</td>\n",
              "      <td>3254</td>\n",
              "      <td>[{'opponent': {'acronym': 'SKP', 'id': 247, 'i...</td>\n",
              "      <td>3</td>\n",
              "      <td>2021-03-09T20:00:00Z</td>\n",
              "    </tr>\n",
              "    <tr>\n",
              "      <th>4</th>\n",
              "      <td>Round 1 Match 1: GL vs USE</td>\n",
              "      <td>None</td>\n",
              "      <td>None</td>\n",
              "      <td>False</td>\n",
              "      <td>4302</td>\n",
              "      <td>5649</td>\n",
              "      <td>[{'score': 0, 'team_id': 126830}, {'score': 0,...</td>\n",
              "      <td>None</td>\n",
              "      <td>not_started</td>\n",
              "      <td>NaN</td>\n",
              "      <td>False</td>\n",
              "      <td>False</td>\n",
              "      <td>3254</td>\n",
              "      <td>[{'opponent': {'acronym': 'GL', 'id': 126830, ...</td>\n",
              "      <td>3</td>\n",
              "      <td>2021-03-09T17:00:00Z</td>\n",
              "    </tr>\n",
              "  </tbody>\n",
              "</table>\n",
              "</div>"
            ],
            "text/plain": [
              "                            name  ...              begin_at\n",
              "0            Round 3: TBD vs TBD  ...  2021-03-11T17:00:00Z\n",
              "1   Round 2 Match 2: MOUZ vs BIG  ...  2021-03-10T20:00:00Z\n",
              "2    Round 2 Match 1: TBD vs TBD  ...  2021-03-10T17:00:00Z\n",
              "3  Round 1 Match 2: SKP vs S04.E  ...  2021-03-09T20:00:00Z\n",
              "4     Round 1 Match 1: GL vs USE  ...  2021-03-09T17:00:00Z\n",
              "\n",
              "[5 rows x 16 columns]"
            ]
          },
          "metadata": {
            "tags": []
          },
          "execution_count": 64
        }
      ]
    },
    {
      "cell_type": "markdown",
      "metadata": {
        "id": "CO_RhfBoRUcM"
      },
      "source": [
        "¡Genial¡, pudimos reducir el número de campos de 33 a 16, ahora veamos de que forma podemos tratar con los valores _None_. Si inspeccionamos por columna:"
      ]
    },
    {
      "cell_type": "code",
      "metadata": {
        "colab": {
          "base_uri": "https://localhost:8080/"
        },
        "id": "X28NLBOnRW8Z",
        "outputId": "891f23e2-e23c-4791-8f5b-00c135808da8"
      },
      "source": [
        "df_matches_temp.isna().sum(axis=0)"
      ],
      "execution_count": null,
      "outputs": [
        {
          "output_type": "execute_result",
          "data": {
            "text/plain": [
              "name                      0\n",
              "official_stream_url    7798\n",
              "end_at                  559\n",
              "draw                      0\n",
              "league_id                 0\n",
              "tournament_id             0\n",
              "results                   0\n",
              "winner                  924\n",
              "status                    0\n",
              "winner_id               924\n",
              "forfeit                   0\n",
              "rescheduled               0\n",
              "serie_id                  0\n",
              "opponents                 0\n",
              "number_of_games           0\n",
              "begin_at                 32\n",
              "dtype: int64"
            ]
          },
          "metadata": {
            "tags": []
          },
          "execution_count": 65
        }
      ]
    },
    {
      "cell_type": "markdown",
      "metadata": {
        "id": "9MEgfXIWRa1M"
      },
      "source": [
        "Observamos que la mayor cantidad de valores nulos se da en _official stream url_ esto no es del todo un problema ya que no necesariamente todos los partidos se transmitieron en directo. Entonces nos encontramos con valores nulos en las fechas de inicio y terminó, seguramente por partidos que todavía no se han llevado a cabo, se están llevando a cabo en estos momentos o se cancelaron, por ende también el valor del campo _winner_ tiene un valor también nulo.\r\n",
        "\r\n",
        "Aprovechemos el campo status para limpiar nuestro dataframe:"
      ]
    },
    {
      "cell_type": "code",
      "metadata": {
        "colab": {
          "base_uri": "https://localhost:8080/"
        },
        "id": "NJcmEf9lRZ9n",
        "outputId": "29590442-d0b6-4998-c44d-abd2c37b22ca"
      },
      "source": [
        "df_matches_temp['status'].unique()"
      ],
      "execution_count": null,
      "outputs": [
        {
          "output_type": "execute_result",
          "data": {
            "text/plain": [
              "array(['not_started', 'finished', 'canceled'], dtype=object)"
            ]
          },
          "metadata": {
            "tags": []
          },
          "execution_count": 66
        }
      ]
    },
    {
      "cell_type": "markdown",
      "metadata": {
        "id": "V31zx1HARjrg"
      },
      "source": [
        "Obtengamos solo aquellos registros donde el estado del enfrentamiento sea \"_finished_\":"
      ]
    },
    {
      "cell_type": "code",
      "metadata": {
        "colab": {
          "base_uri": "https://localhost:8080/"
        },
        "id": "27Hq0I9TRl8R",
        "outputId": "b0df4f35-f48f-4bda-dd4e-22d7574398f9"
      },
      "source": [
        "df_matches_finished = df_matches_temp[ df_matches_temp['status'] == 'finished' ]\r\n",
        "df_matches_finished.isna().sum(axis=0)"
      ],
      "execution_count": null,
      "outputs": [
        {
          "output_type": "execute_result",
          "data": {
            "text/plain": [
              "name                      0\n",
              "official_stream_url    7772\n",
              "end_at                   19\n",
              "draw                      0\n",
              "league_id                 0\n",
              "tournament_id             0\n",
              "results                   0\n",
              "winner                  398\n",
              "status                    0\n",
              "winner_id               398\n",
              "forfeit                   0\n",
              "rescheduled               0\n",
              "serie_id                  0\n",
              "opponents                 0\n",
              "number_of_games           0\n",
              "begin_at                  1\n",
              "dtype: int64"
            ]
          },
          "metadata": {
            "tags": []
          },
          "execution_count": 67
        }
      ]
    },
    {
      "cell_type": "markdown",
      "metadata": {
        "id": "RPQmoxFGRpP8"
      },
      "source": [
        "Aún conservamos un par de valores None en nuestras fechas, esto puede ser a causa de errores en la recopilación de los datos. Deshagámonos de ellos:"
      ]
    },
    {
      "cell_type": "code",
      "metadata": {
        "colab": {
          "base_uri": "https://localhost:8080/"
        },
        "id": "EvBZqxwORrmq",
        "outputId": "7b9aa337-48b9-4795-d918-e8e48438814d"
      },
      "source": [
        "df_matches_finished_clean = df_matches_finished.dropna(subset=['begin_at', 'end_at'])\r\n",
        "df_matches_finished_clean.isna().sum(axis=0)"
      ],
      "execution_count": null,
      "outputs": [
        {
          "output_type": "execute_result",
          "data": {
            "text/plain": [
              "name                      0\n",
              "official_stream_url    7755\n",
              "end_at                    0\n",
              "draw                      0\n",
              "league_id                 0\n",
              "tournament_id             0\n",
              "results                   0\n",
              "winner                  398\n",
              "status                    0\n",
              "winner_id               398\n",
              "forfeit                   0\n",
              "rescheduled               0\n",
              "serie_id                  0\n",
              "opponents                 0\n",
              "number_of_games           0\n",
              "begin_at                  0\n",
              "dtype: int64"
            ]
          },
          "metadata": {
            "tags": []
          },
          "execution_count": 68
        }
      ]
    },
    {
      "cell_type": "markdown",
      "metadata": {
        "id": "PbZyd_HLRyxi"
      },
      "source": [
        "¡Enhorabuena! tenemos un dataframe solo con las partidas que han sido finalizadas y además tienen una fecha de fin e inicio establecidas. ¿Pero qué pasa con esos 398 valores _None_ en el campo _winner id_ y _winner_? ¿Y los 7735 de _official stream url_? Pues tienen una explicación muy sencilla en realidad. Estos datos quieren decir que 398 enfrentamiento han terminado en empate y 7735 enfrentamientos no se transmitieron en línea.\r\n",
        "\r\n",
        "Para dejar nuestro dataframe un poco más presentable vamos a ordenar los campos de formas más amigable:"
      ]
    },
    {
      "cell_type": "code",
      "metadata": {
        "id": "ppSAs02hR15g"
      },
      "source": [
        "#No incluiremos al campo status por que ya ha cumplido su propósito\r\n",
        "df_matches_ordenado = df_matches_finished_clean[['name','opponents','results','forfeit','draw',\r\n",
        "                                                      'number_of_games','winner','winner_id','begin_at','end_at',\r\n",
        "                                                      'rescheduled','official_stream_url','league_id', 'serie_id', 'tournament_id']]"
      ],
      "execution_count": null,
      "outputs": []
    },
    {
      "cell_type": "markdown",
      "metadata": {
        "id": "NKL4yDFAR4b8"
      },
      "source": [
        "Observemos al nuevo Dataframe:"
      ]
    },
    {
      "cell_type": "code",
      "metadata": {
        "colab": {
          "base_uri": "https://localhost:8080/",
          "height": 498
        },
        "id": "7cGI9v93R67L",
        "outputId": "e4030152-35b6-430b-a552-7c4c14fdc24b"
      },
      "source": [
        "df_matches_ordenado.head()"
      ],
      "execution_count": null,
      "outputs": [
        {
          "output_type": "execute_result",
          "data": {
            "text/html": [
              "<div>\n",
              "<style scoped>\n",
              "    .dataframe tbody tr th:only-of-type {\n",
              "        vertical-align: middle;\n",
              "    }\n",
              "\n",
              "    .dataframe tbody tr th {\n",
              "        vertical-align: top;\n",
              "    }\n",
              "\n",
              "    .dataframe thead th {\n",
              "        text-align: right;\n",
              "    }\n",
              "</style>\n",
              "<table border=\"1\" class=\"dataframe\">\n",
              "  <thead>\n",
              "    <tr style=\"text-align: right;\">\n",
              "      <th></th>\n",
              "      <th>name</th>\n",
              "      <th>opponents</th>\n",
              "      <th>results</th>\n",
              "      <th>forfeit</th>\n",
              "      <th>draw</th>\n",
              "      <th>number_of_games</th>\n",
              "      <th>winner</th>\n",
              "      <th>winner_id</th>\n",
              "      <th>begin_at</th>\n",
              "      <th>end_at</th>\n",
              "      <th>rescheduled</th>\n",
              "      <th>official_stream_url</th>\n",
              "      <th>league_id</th>\n",
              "      <th>serie_id</th>\n",
              "      <th>tournament_id</th>\n",
              "    </tr>\n",
              "  </thead>\n",
              "  <tbody>\n",
              "    <tr>\n",
              "      <th>15</th>\n",
              "      <td>ALF vs BJD</td>\n",
              "      <td>[{'opponent': {'acronym': 'ALF', 'id': 124408,...</td>\n",
              "      <td>[{'score': 0, 'team_id': 124408}, {'score': 1,...</td>\n",
              "      <td>False</td>\n",
              "      <td>False</td>\n",
              "      <td>1</td>\n",
              "      <td>{'acronym': 'BJD', 'id': 126861, 'image_url': ...</td>\n",
              "      <td>126861.0</td>\n",
              "      <td>2021-03-06T09:54:42Z</td>\n",
              "      <td>2021-03-06T10:28:54Z</td>\n",
              "      <td>False</td>\n",
              "      <td>https://www.twitch.tv/lolpacific</td>\n",
              "      <td>4288</td>\n",
              "      <td>3337</td>\n",
              "      <td>5483</td>\n",
              "    </tr>\n",
              "    <tr>\n",
              "      <th>16</th>\n",
              "      <td>Lower Bracket Round 2 Match 1: CGG vs GGE</td>\n",
              "      <td>[{'opponent': {'acronym': 'CGG', 'id': 127494,...</td>\n",
              "      <td>[{'score': 1, 'team_id': 127494}, {'score': 3,...</td>\n",
              "      <td>False</td>\n",
              "      <td>False</td>\n",
              "      <td>5</td>\n",
              "      <td>{'acronym': 'GGE', 'id': 128405, 'image_url': ...</td>\n",
              "      <td>128405.0</td>\n",
              "      <td>2021-03-08T18:07:48Z</td>\n",
              "      <td>2021-03-08T21:37:26Z</td>\n",
              "      <td>False</td>\n",
              "      <td>https://www.twitch.tv/pg_esports</td>\n",
              "      <td>4405</td>\n",
              "      <td>3291</td>\n",
              "      <td>5579</td>\n",
              "    </tr>\n",
              "    <tr>\n",
              "      <th>36</th>\n",
              "      <td>Round 1 match 1: KVM vs ION</td>\n",
              "      <td>[{'opponent': {'acronym': 'KVM', 'id': 127475,...</td>\n",
              "      <td>[{'score': 3, 'team_id': 127475}, {'score': 0,...</td>\n",
              "      <td>False</td>\n",
              "      <td>False</td>\n",
              "      <td>5</td>\n",
              "      <td>{'acronym': 'KVM', 'id': 127475, 'image_url': ...</td>\n",
              "      <td>127475.0</td>\n",
              "      <td>2021-03-08T18:04:03Z</td>\n",
              "      <td>2021-03-08T20:46:01Z</td>\n",
              "      <td>False</td>\n",
              "      <td>https://www.twitch.tv/esportsprimelol</td>\n",
              "      <td>4401</td>\n",
              "      <td>3248</td>\n",
              "      <td>5609</td>\n",
              "    </tr>\n",
              "    <tr>\n",
              "      <th>37</th>\n",
              "      <td>Winners bracket round 1 match 2: ESB vs SIN</td>\n",
              "      <td>[{'opponent': {'acronym': 'ESB', 'id': 3344, '...</td>\n",
              "      <td>[{'score': 2, 'team_id': 3344}, {'score': 3, '...</td>\n",
              "      <td>False</td>\n",
              "      <td>False</td>\n",
              "      <td>5</td>\n",
              "      <td>{'acronym': 'SIN', 'id': 127586, 'image_url': ...</td>\n",
              "      <td>127586.0</td>\n",
              "      <td>2021-03-07T17:53:43Z</td>\n",
              "      <td>2021-03-07T22:22:51Z</td>\n",
              "      <td>False</td>\n",
              "      <td>https://www.twitch.tv/hitpointcz</td>\n",
              "      <td>4433</td>\n",
              "      <td>3314</td>\n",
              "      <td>5602</td>\n",
              "    </tr>\n",
              "    <tr>\n",
              "      <th>38</th>\n",
              "      <td>Winners bracket round 1 match 1: IG vs VIK</td>\n",
              "      <td>[{'opponent': {'acronym': 'IG', 'id': 127585, ...</td>\n",
              "      <td>[{'score': 3, 'team_id': 127585}, {'score': 1,...</td>\n",
              "      <td>False</td>\n",
              "      <td>False</td>\n",
              "      <td>5</td>\n",
              "      <td>{'acronym': 'IG', 'id': 127585, 'image_url': '...</td>\n",
              "      <td>127585.0</td>\n",
              "      <td>2021-03-07T13:30:41Z</td>\n",
              "      <td>2021-03-07T17:08:57Z</td>\n",
              "      <td>False</td>\n",
              "      <td>https://www.twitch.tv/hitpointcz</td>\n",
              "      <td>4433</td>\n",
              "      <td>3314</td>\n",
              "      <td>5602</td>\n",
              "    </tr>\n",
              "  </tbody>\n",
              "</table>\n",
              "</div>"
            ],
            "text/plain": [
              "                                           name  ... tournament_id\n",
              "15                                   ALF vs BJD  ...          5483\n",
              "16    Lower Bracket Round 2 Match 1: CGG vs GGE  ...          5579\n",
              "36                  Round 1 match 1: KVM vs ION  ...          5609\n",
              "37  Winners bracket round 1 match 2: ESB vs SIN  ...          5602\n",
              "38   Winners bracket round 1 match 1: IG vs VIK  ...          5602\n",
              "\n",
              "[5 rows x 15 columns]"
            ]
          },
          "metadata": {
            "tags": []
          },
          "execution_count": 70
        }
      ]
    },
    {
      "cell_type": "markdown",
      "metadata": {
        "id": "9b955r9DR_Qe"
      },
      "source": [
        "Reiniciemos el índice y cambiemos algunos nombre de los campos para obtener un Dataframe más limpio:"
      ]
    },
    {
      "cell_type": "code",
      "metadata": {
        "colab": {
          "base_uri": "https://localhost:8080/",
          "height": 481
        },
        "id": "YKORjlwvSF-_",
        "outputId": "7e3a3c07-52b6-49a5-f058-4fb92be1d2b7"
      },
      "source": [
        "df_matches_ordenado = df_matches_ordenado.reset_index(drop=True) \r\n",
        "nombres_nuevos = {\r\n",
        "    'name' : 'match_name',\r\n",
        "    'begin_at' : 'begin_date',\r\n",
        "    'end_at' : 'end_date',\r\n",
        "    'official_stream_url' : 'official_stream_channel_url'\r\n",
        "}\r\n",
        "\r\n",
        "df_matches_ordenado.rename(columns=nombres_nuevos, inplace=True)\r\n",
        "df_matches_ordenado.head()"
      ],
      "execution_count": null,
      "outputs": [
        {
          "output_type": "execute_result",
          "data": {
            "text/html": [
              "<div>\n",
              "<style scoped>\n",
              "    .dataframe tbody tr th:only-of-type {\n",
              "        vertical-align: middle;\n",
              "    }\n",
              "\n",
              "    .dataframe tbody tr th {\n",
              "        vertical-align: top;\n",
              "    }\n",
              "\n",
              "    .dataframe thead th {\n",
              "        text-align: right;\n",
              "    }\n",
              "</style>\n",
              "<table border=\"1\" class=\"dataframe\">\n",
              "  <thead>\n",
              "    <tr style=\"text-align: right;\">\n",
              "      <th></th>\n",
              "      <th>match_name</th>\n",
              "      <th>opponents</th>\n",
              "      <th>results</th>\n",
              "      <th>forfeit</th>\n",
              "      <th>draw</th>\n",
              "      <th>number_of_games</th>\n",
              "      <th>winner</th>\n",
              "      <th>winner_id</th>\n",
              "      <th>begin_date</th>\n",
              "      <th>end_date</th>\n",
              "      <th>rescheduled</th>\n",
              "      <th>official_stream_channel_url</th>\n",
              "      <th>league_id</th>\n",
              "      <th>serie_id</th>\n",
              "      <th>tournament_id</th>\n",
              "    </tr>\n",
              "  </thead>\n",
              "  <tbody>\n",
              "    <tr>\n",
              "      <th>0</th>\n",
              "      <td>ALF vs BJD</td>\n",
              "      <td>[{'opponent': {'acronym': 'ALF', 'id': 124408,...</td>\n",
              "      <td>[{'score': 0, 'team_id': 124408}, {'score': 1,...</td>\n",
              "      <td>False</td>\n",
              "      <td>False</td>\n",
              "      <td>1</td>\n",
              "      <td>{'acronym': 'BJD', 'id': 126861, 'image_url': ...</td>\n",
              "      <td>126861.0</td>\n",
              "      <td>2021-03-06T09:54:42Z</td>\n",
              "      <td>2021-03-06T10:28:54Z</td>\n",
              "      <td>False</td>\n",
              "      <td>https://www.twitch.tv/lolpacific</td>\n",
              "      <td>4288</td>\n",
              "      <td>3337</td>\n",
              "      <td>5483</td>\n",
              "    </tr>\n",
              "    <tr>\n",
              "      <th>1</th>\n",
              "      <td>Lower Bracket Round 2 Match 1: CGG vs GGE</td>\n",
              "      <td>[{'opponent': {'acronym': 'CGG', 'id': 127494,...</td>\n",
              "      <td>[{'score': 1, 'team_id': 127494}, {'score': 3,...</td>\n",
              "      <td>False</td>\n",
              "      <td>False</td>\n",
              "      <td>5</td>\n",
              "      <td>{'acronym': 'GGE', 'id': 128405, 'image_url': ...</td>\n",
              "      <td>128405.0</td>\n",
              "      <td>2021-03-08T18:07:48Z</td>\n",
              "      <td>2021-03-08T21:37:26Z</td>\n",
              "      <td>False</td>\n",
              "      <td>https://www.twitch.tv/pg_esports</td>\n",
              "      <td>4405</td>\n",
              "      <td>3291</td>\n",
              "      <td>5579</td>\n",
              "    </tr>\n",
              "    <tr>\n",
              "      <th>2</th>\n",
              "      <td>Round 1 match 1: KVM vs ION</td>\n",
              "      <td>[{'opponent': {'acronym': 'KVM', 'id': 127475,...</td>\n",
              "      <td>[{'score': 3, 'team_id': 127475}, {'score': 0,...</td>\n",
              "      <td>False</td>\n",
              "      <td>False</td>\n",
              "      <td>5</td>\n",
              "      <td>{'acronym': 'KVM', 'id': 127475, 'image_url': ...</td>\n",
              "      <td>127475.0</td>\n",
              "      <td>2021-03-08T18:04:03Z</td>\n",
              "      <td>2021-03-08T20:46:01Z</td>\n",
              "      <td>False</td>\n",
              "      <td>https://www.twitch.tv/esportsprimelol</td>\n",
              "      <td>4401</td>\n",
              "      <td>3248</td>\n",
              "      <td>5609</td>\n",
              "    </tr>\n",
              "    <tr>\n",
              "      <th>3</th>\n",
              "      <td>Winners bracket round 1 match 2: ESB vs SIN</td>\n",
              "      <td>[{'opponent': {'acronym': 'ESB', 'id': 3344, '...</td>\n",
              "      <td>[{'score': 2, 'team_id': 3344}, {'score': 3, '...</td>\n",
              "      <td>False</td>\n",
              "      <td>False</td>\n",
              "      <td>5</td>\n",
              "      <td>{'acronym': 'SIN', 'id': 127586, 'image_url': ...</td>\n",
              "      <td>127586.0</td>\n",
              "      <td>2021-03-07T17:53:43Z</td>\n",
              "      <td>2021-03-07T22:22:51Z</td>\n",
              "      <td>False</td>\n",
              "      <td>https://www.twitch.tv/hitpointcz</td>\n",
              "      <td>4433</td>\n",
              "      <td>3314</td>\n",
              "      <td>5602</td>\n",
              "    </tr>\n",
              "    <tr>\n",
              "      <th>4</th>\n",
              "      <td>Winners bracket round 1 match 1: IG vs VIK</td>\n",
              "      <td>[{'opponent': {'acronym': 'IG', 'id': 127585, ...</td>\n",
              "      <td>[{'score': 3, 'team_id': 127585}, {'score': 1,...</td>\n",
              "      <td>False</td>\n",
              "      <td>False</td>\n",
              "      <td>5</td>\n",
              "      <td>{'acronym': 'IG', 'id': 127585, 'image_url': '...</td>\n",
              "      <td>127585.0</td>\n",
              "      <td>2021-03-07T13:30:41Z</td>\n",
              "      <td>2021-03-07T17:08:57Z</td>\n",
              "      <td>False</td>\n",
              "      <td>https://www.twitch.tv/hitpointcz</td>\n",
              "      <td>4433</td>\n",
              "      <td>3314</td>\n",
              "      <td>5602</td>\n",
              "    </tr>\n",
              "  </tbody>\n",
              "</table>\n",
              "</div>"
            ],
            "text/plain": [
              "                                    match_name  ... tournament_id\n",
              "0                                   ALF vs BJD  ...          5483\n",
              "1    Lower Bracket Round 2 Match 1: CGG vs GGE  ...          5579\n",
              "2                  Round 1 match 1: KVM vs ION  ...          5609\n",
              "3  Winners bracket round 1 match 2: ESB vs SIN  ...          5602\n",
              "4   Winners bracket round 1 match 1: IG vs VIK  ...          5602\n",
              "\n",
              "[5 rows x 15 columns]"
            ]
          },
          "metadata": {
            "tags": []
          },
          "execution_count": 71
        }
      ]
    },
    {
      "cell_type": "markdown",
      "metadata": {
        "id": "RZkXiZYBSK1B"
      },
      "source": [
        "¡Bien! Tenemos un Dataframe más limpio y ordenado, con ayuda de algunos métodos de agregación, podemos aprovechar los valores _none_ que hemos dejado, por ejemplo, para conocer la proporción de enfrentamientos transmitidos:"
      ]
    },
    {
      "cell_type": "code",
      "metadata": {
        "colab": {
          "base_uri": "https://localhost:8080/"
        },
        "id": "RPHxBXsKSQWg",
        "outputId": "31695b0f-2d2b-436c-8c9d-12bf8098232e"
      },
      "source": [
        "sin_stream = df_matches_ordenado['official_stream_channel_url'].isna().sum()\r\n",
        "total = len(df_matches_ordenado['official_stream_channel_url'])\r\n",
        "\r\n",
        "proporción = (sin_stream/total)*100\r\n",
        "proporción "
      ],
      "execution_count": null,
      "outputs": [
        {
          "output_type": "execute_result",
          "data": {
            "text/plain": [
              "42.80746301611835"
            ]
          },
          "metadata": {
            "tags": []
          },
          "execution_count": 72
        }
      ]
    },
    {
      "cell_type": "markdown",
      "metadata": {
        "id": "o8KD9tF5SWkw"
      },
      "source": [
        "Ahora sabemos que aproximadamente el 42.83% de los enfrentamientos de lol son transmitidos en línea. Finalmente guardemos nuestro Dataframe en un archivo csv:"
      ]
    },
    {
      "cell_type": "code",
      "metadata": {
        "id": "Kv5WHt1vSY-a"
      },
      "source": [
        "df_matches_ordenado.to_csv('lol_matches.csv')"
      ],
      "execution_count": null,
      "outputs": []
    },
    {
      "cell_type": "markdown",
      "metadata": {
        "id": "D4apMefBTK4t"
      },
      "source": [
        "# Postwork 07: Transformación, filtración y ordenamiento de datos \r\n",
        "Antes de comenzar en caso de no tener nuestro confiable archivo csv a la mano, o bien debido a que la API está en constante actualización podemos recurrir a una versión mejorada de la función para peticiones de los **enfrentamientos**:"
      ]
    },
    {
      "cell_type": "code",
      "metadata": {
        "id": "qeFQBSYQdMaA"
      },
      "source": [
        "import requests #Importamos los paquete necesarios\r\n",
        "import pandas as pd \r\n",
        "import math as mt\r\n",
        " \r\n",
        "def PandaScore_get_matches(juego): #Definimos nuestra función\r\n",
        "    if isinstance(juego, str): #Nos aseguramos que los argumentos sean de tipo str\r\n",
        "        informacion = 'matches'\r\n",
        "        registros = 100 #Establecemos el número de registros por página\r\n",
        "        token = 'V3U1fnnWozJi3bbhZfrxdiAmN4-XWnX_4g6i_6iauwwh7w-V8Ns' #Token de acceso\r\n",
        "        url = f\"https://api.pandascore.co/{juego}/{informacion}?page[size]={registros}&token={token}\" #URL con los parámetros deseados\r\n",
        "        response = requests.get(url) #Realizamos la petición\r\n",
        "        if response.status_code == 200: #Si todo salió bien continuamos\r\n",
        "            Iteraciones = mt.ceil(float(response.headers['X-Total'])/registros) #Calculamos el número de páginas en base a todos los registros que hay en la API\r\n",
        "            #Al dividir el número total de registros entre los registros solicitados obtenemos un aproximado, para asegurar que tomaremos todos, redondeamos al entero más alto\r\n",
        "            for i in range(1,Iteraciones+1): #Ciclo for para obtener todos los registros de cada página\r\n",
        "                url = f\"https://api.pandascore.co/{juego}/{informacion}?page[size]={registros}&page[number]={i}&token=V3U1fnnWozJi3bbhZfrxdiAmN4-XWnX_4g6i_6iauwwh7w-V8Ns\"\r\n",
        "                #URL el parámetro de página deseada\r\n",
        "                response = requests.get(url) #Realizamos la petición correspondiente\r\n",
        "                data = response.json() #Transformamos la respuesta \r\n",
        "                if i == 1: #En la primer iteración se crea un Dataframe\r\n",
        "                    df_matches = pd.DataFrame.from_dict(data)\r\n",
        "                else: #En el resto de iteraciones se van añadiendo los nuevos registros\r\n",
        "                    df_matches = df_matches.append(pd.DataFrame.from_dict(data),ignore_index=True) \r\n",
        "            \r\n",
        "            ########### Limpieza de datos\r\n",
        "            campos_no_deseados = ['videogame', 'slug', 'tournament', 'league', 'serie', 'streams', 'modified_at', 'games',\r\n",
        "                      'game_advantage', 'scheduled_at', 'original_scheduled_at', 'detailed_stats','live',\r\n",
        "                      'match_type', 'videogame_version', 'live_embed_url', 'id'] \r\n",
        "\r\n",
        "            df_matches_temp = df_matches.drop(columns=campos_no_deseados) #Limpiamos campos que no nos son de utilidad\r\n",
        "            df_matches_finished = df_matches_temp[ df_matches_temp['status'] == 'finished' ] #Dejamos solo los enfrentamientos que han terminado\r\n",
        "            df_matches_finished_clean = df_matches_finished.dropna(subset=['begin_at', 'end_at']) #Eliminamos algunos valores nulos de las fechas\r\n",
        "            df_matches_ordenado = df_matches_finished_clean[['name','opponents','results','forfeit','draw', #Reorganizamos los campos\r\n",
        "                                                      'number_of_games','winner','winner_id','begin_at','end_at', \r\n",
        "                                                      'rescheduled','official_stream_url','league_id', 'serie_id', 'tournament_id']]\r\n",
        "            df_matches_ordenado = df_matches_ordenado.reset_index(drop=True) #Reseteamos el índice\r\n",
        "            nombres_nuevos = {'name' : 'match_name',\r\n",
        "                             'begin_at' : 'begin_date',\r\n",
        "                             'end_at' : 'end_date',\r\n",
        "                             'official_stream_url' : 'official_stream_channel_url'}                       \r\n",
        "            df_matches_ordenado.rename(columns=nombres_nuevos, inplace=True) #Renombramos columnas                                      \r\n",
        "            return df_matches_ordenado # Finalmente se devuelve el Dataframe con todos los registros limpios y ordenados\r\n",
        "        else: #Si la petición no se ejecutó correctamente mandamos un mensaje con el error devuelto\r\n",
        "            return 'Error de petición: '+str(response.status_code)  \r\n",
        "    else: #Si los argumentos no son de tipo str regresamos un mensaje\r\n",
        "        return 'Por favor coloque un argumento válido en formato string.'"
      ],
      "execution_count": null,
      "outputs": []
    },
    {
      "cell_type": "code",
      "metadata": {
        "id": "bn-sO-8_TTJi"
      },
      "source": [
        "import requests #Importamos los paquete necesarios\r\n",
        "import pandas as pd \r\n",
        "import math as mt\r\n",
        " \r\n",
        "def PandaScore_get_matches(juego): #Definimos nuestra función\r\n",
        "    if isinstance(juego, str): #Nos aseguramos que los argumentos sean de tipo str\r\n",
        "        informacion = 'matches'\r\n",
        "        registros = 100 #Establecemos el número de registros por página\r\n",
        "        token = 'V3U1fnnWozJi3bbhZfrxdiAmN4-XWnX_4g6i_6iauwwh7w-V8Ns' #Token de acceso\r\n",
        "        url = f\"https://api.pandascore.co/{juego}/{informacion}?page[size]={registros}&token={token}\" #URL con los parámetros deseados\r\n",
        "        response = requests.get(url) #Realizamos la petición\r\n",
        "        if response.status_code == 200: #Si todo salió bien continuamos\r\n",
        "            Iteraciones = mt.ceil(float(response.headers['X-Total'])/registros) #Calculamos el número de páginas en base a todos los registros que hay en la API\r\n",
        "            #Al dividir el número total de registros entre los registros solicitados obtenemos un aproximado, para asegurar que tomaremos todos, redondeamos al entero más alto\r\n",
        "            for i in range(1,Iteraciones+1): #Ciclo for para obtener todos los registros de cada página\r\n",
        "                url = f\"https://api.pandascore.co/{juego}/{informacion}?page[size]={registros}&page[number]={i}&token=V3U1fnnWozJi3bbhZfrxdiAmN4-XWnX_4g6i_6iauwwh7w-V8Ns\"\r\n",
        "                #URL el parámetro de página deseada\r\n",
        "                response = requests.get(url) #Realizamos la petición correspondiente\r\n",
        "                data = response.json() #Transformamos la respuesta \r\n",
        "                if i == 1: #En la primer iteración se crea un Dataframe\r\n",
        "                    df_matches = pd.DataFrame.from_dict(data)\r\n",
        "                else: #En el resto de iteraciones se van añadiendo los nuevos registros\r\n",
        "                    df_matches = df_matches.append(pd.DataFrame.from_dict(data),ignore_index=True) \r\n",
        "            \r\n",
        "            ########### Limpieza de datos\r\n",
        "            campos_no_deseados = ['videogame', 'slug', 'tournament', 'league', 'serie', 'streams', 'modified_at', 'games',\r\n",
        "                      'game_advantage', 'scheduled_at', 'original_scheduled_at', 'detailed_stats','live',\r\n",
        "                      'match_type', 'videogame_version', 'live_embed_url', 'id'] \r\n",
        "\r\n",
        "            df_matches_temp = df_matches.drop(columns=campos_no_deseados) #Limpiamos campos que no nos son de utilidad\r\n",
        "            df_matches_finished = df_matches_temp[ df_matches_temp['status'] == 'finished' ] #Dejamos solo los enfrentamientos que han terminado\r\n",
        "            df_matches_finished_clean = df_matches_finished.dropna(subset=['begin_at', 'end_at']) #Eliminamos algunos valores nulos de las fechas\r\n",
        "            df_matches_ordenado = df_matches_finished_clean[['name','opponents','results','forfeit','draw', #Reorganizamos los campos\r\n",
        "                                                      'number_of_games','winner','winner_id','begin_at','end_at', \r\n",
        "                                                      'rescheduled','official_stream_url','league_id', 'serie_id', 'tournament_id']]\r\n",
        "            df_matches_ordenado = df_matches_ordenado.reset_index(drop=True) #Reseteamos el índice\r\n",
        "            nombres_nuevos = {'name' : 'match_name',\r\n",
        "                             'begin_at' : 'begin_date',\r\n",
        "                             'end_at' : 'end_date',\r\n",
        "                             'official_stream_url' : 'official_stream_channel_url'}                       \r\n",
        "            df_matches_ordenado.rename(columns=nombres_nuevos, inplace=True) #Renombramos columnas                                      \r\n",
        "            return df_matches_ordenado # Finalmente se devuelve el Dataframe con todos los registros limpios y ordenados\r\n",
        "        else: #Si la petición no se ejecutó correctamente mandamos un mensaje con el error devuelto\r\n",
        "            return 'Error de petición: '+str(response.status_code)  \r\n",
        "    else: #Si los argumentos no son de tipo str regresamos un mensaje\r\n",
        "        return 'Por favor coloque un argumento válido en formato string.'"
      ],
      "execution_count": null,
      "outputs": []
    },
    {
      "cell_type": "markdown",
      "metadata": {
        "id": "fdquNW9ZTXQU"
      },
      "source": [
        "Le indicamos que deseamos los enfrentamientos del juego League of Legends:"
      ]
    },
    {
      "cell_type": "code",
      "metadata": {
        "colab": {
          "background_save": true
        },
        "id": "vT8jy8A3TZ8-"
      },
      "source": [
        "lol_matches = PandaScore_get_matches('lol')"
      ],
      "execution_count": null,
      "outputs": []
    },
    {
      "cell_type": "markdown",
      "metadata": {
        "id": "iHR_vMsvTfoH"
      },
      "source": [
        "Observamos el Dataframe que nos devuelve la función:"
      ]
    },
    {
      "cell_type": "code",
      "metadata": {
        "id": "eyMe8bvaTpyv"
      },
      "source": [
        "lol_matches.head()"
      ],
      "execution_count": null,
      "outputs": []
    },
    {
      "cell_type": "markdown",
      "metadata": {
        "id": "GyDrRoXOUAAb"
      },
      "source": [
        "Es idéntico al Dataframe que habiamos elaborado en el postwork anterior, es notable que tiene un número de registros mayor, seguramente PandaScore recolecto más datos. Antes de comenzar a tratar los datos, nos gustaría modificar un poco la información que mostramos aprovechando 3 campos que dejamos en forma de lista:\r\n",
        "\r\n",
        "*   _opponents_\r\n",
        "*   _results_\r\n",
        "*   _winner_\r\n",
        "\r\n",
        "En oponentes tenemos los equipos que se enfrentaron, en results tenemos el puntaje de cada uno y en winner tenemos al equipo ganador. Proponemos entonces crear campos que muestren:\r\n",
        "\r\n",
        "* winner_team\r\n",
        "* winner_score\r\n",
        "* loser_team\r\n",
        "* loser_score\r\n",
        "\r\n",
        "Para ello aprovecharemos las propiedades de listas y los aplicaremos a funciones:"
      ]
    },
    {
      "cell_type": "code",
      "metadata": {
        "id": "Ej6tQf42UgLY"
      },
      "source": [
        "def winner_team(serie):\r\n",
        "    if serie == None:\r\n",
        "        return 'Undefined'\r\n",
        "    else: return serie['name']"
      ],
      "execution_count": null,
      "outputs": []
    },
    {
      "cell_type": "markdown",
      "metadata": {
        "id": "NOd9MR9lVLHi"
      },
      "source": [
        "La función anterior devuelve el elemento ['name'] de la columna de listas _'winner'_ para aplicarla a toda la columna nos apoyamos del método map():"
      ]
    },
    {
      "cell_type": "code",
      "metadata": {
        "id": "LyEeapFFXUUh"
      },
      "source": [
        "lol_matches['winner_team'] = lol_matches['winner'].map(winner_team) #Recordemos que algunos enfrentamientos terminaron en empate"
      ],
      "execution_count": null,
      "outputs": []
    },
    {
      "cell_type": "markdown",
      "metadata": {
        "id": "J-M7nyTtXX4z"
      },
      "source": [
        "Para conocer a los equipos perdedores desglozamos el campo 'opponents' para que conocer a los equipos y comparamos con el equipo ganador previamente obtenido:"
      ]
    },
    {
      "cell_type": "code",
      "metadata": {
        "id": "F9CiLBQGXbBN"
      },
      "source": [
        "def loser_team(df):\r\n",
        "    losers = []\r\n",
        "    for i in range(0,len(df)):\r\n",
        "        ganador = df['winner_team'][i]\r\n",
        "        equipo = df['opponents'][i][0]['opponent']['name']\r\n",
        "        if ganador == 'Undefined':\r\n",
        "           losers.append('Undefined')\r\n",
        "        elif equipo == ganador:\r\n",
        "           losers.append(df['opponents'][i][1]['opponent']['name'])  \r\n",
        "        elif equipo != ganador: \r\n",
        "           losers.append(df['opponents'][i][0]['opponent']['name'] )\r\n",
        "    return pd.Series(losers,index=df.index)"
      ],
      "execution_count": null,
      "outputs": []
    },
    {
      "cell_type": "markdown",
      "metadata": {
        "id": "736tQeNxXcDn"
      },
      "source": [
        "Ya que la función nos devuelve una serie de Pandas podemos añadir la nueva columna:"
      ]
    },
    {
      "cell_type": "code",
      "metadata": {
        "id": "miadaS1DX_dA"
      },
      "source": [
        "lol_matches['loser_team'] = loser_team(lol_matches)"
      ],
      "execution_count": null,
      "outputs": []
    },
    {
      "cell_type": "markdown",
      "metadata": {
        "id": "R-n6I_KLYHwk"
      },
      "source": [
        "Antes de trabajar con las puntuaciones de los equipos, debemos realiar algunos cambios, previamente habiamos llegado al consenso de que en _winner id_ y _winner_ podrían existir valores _None_ debido a que había partidos con empate. Sin embardo para poder extraer los puntajes, es necesario cambiar los _Nones_ para así poder transformar el campo _winner id_ de un tipo de dato float a int y posteriormente realizar la extracción. Primero veamos si existe un _winner id_ que sea igual a cero para saber si podemos convertir los valores NaN en 0:"
      ]
    },
    {
      "cell_type": "code",
      "metadata": {
        "id": "xBM9EMCLYY7Q"
      },
      "source": [
        "lol_matches[ lol_matches['winner_id'] == 0]"
      ],
      "execution_count": null,
      "outputs": []
    },
    {
      "cell_type": "markdown",
      "metadata": {
        "id": "yIt4J-nYYbkH"
      },
      "source": [
        "No hay resultados, podemos transformar con seguridad los _None_ a 0, además corregiremos el campo '_official stream channel url_': "
      ]
    },
    {
      "cell_type": "code",
      "metadata": {
        "id": "mEUwREfIYeG8"
      },
      "source": [
        "lol_matches['winner_id'] = lol_matches['winner_id'].fillna(0)\r\n",
        "lol_matches['official_stream_channel_url'] = lol_matches['official_stream_channel_url'].fillna('Not Provided')"
      ],
      "execution_count": null,
      "outputs": []
    },
    {
      "cell_type": "markdown",
      "metadata": {
        "id": "8bgkAnORYiQl"
      },
      "source": [
        "Veamos si se realizó correctamente el cambio:"
      ]
    },
    {
      "cell_type": "code",
      "metadata": {
        "id": "044kuYlwYkam"
      },
      "source": [
        "lol_matches['winner_id'].isna().sum()\r\n",
        "lol_matches['official_stream_channel_url'].isna().sum()"
      ],
      "execution_count": null,
      "outputs": []
    },
    {
      "cell_type": "markdown",
      "metadata": {
        "id": "h-FiZofOYnfZ"
      },
      "source": [
        "¡Excelente! Ahora transformemos la columna a enteros:"
      ]
    },
    {
      "cell_type": "code",
      "metadata": {
        "id": "8Md9v1VqYmvO"
      },
      "source": [
        "lol_matches['winner_id'] = lol_matches['winner_id'].astype(int)\r\n",
        "lol_matches.info()"
      ],
      "execution_count": null,
      "outputs": []
    },
    {
      "cell_type": "markdown",
      "metadata": {
        "id": "gQJ2Q7kTZoUo"
      },
      "source": [
        "Ahora podemos crear nuestra función:"
      ]
    },
    {
      "cell_type": "code",
      "metadata": {
        "id": "drHRPjU7ZsPJ"
      },
      "source": [
        "def team_scores(df):\r\n",
        "    losers_score = []\r\n",
        "    winners_score = []\r\n",
        "    for i in range(0,len(df)):\r\n",
        "        ganador_id = df['winner_id'][i]\r\n",
        "        equipo1_id = df['results'][i][0].get('team_id')\r\n",
        "        equipo2_id = df['results'][i][1].get('team_id')\r\n",
        "        if ganador_id == 0:\r\n",
        "            winner_score = 0\r\n",
        "            loser_score = 0\r\n",
        "        elif equipo1_id == ganador_id:\r\n",
        "            winner_score = df['results'][i][0].get('score')\r\n",
        "            loser_score = df['results'][i][1].get('score')\r\n",
        "        else:\r\n",
        "            winner_score = df['results'][i][1].get('score')\r\n",
        "            loser_score = df['results'][i][0].get('score')\r\n",
        "        winners_score.append(winner_score)    \r\n",
        "        losers_score.append(loser_score)\r\n",
        "    return [pd.Series(winners_score,index=df.index), pd.Series(losers_score,index=df.index) ]"
      ],
      "execution_count": null,
      "outputs": []
    },
    {
      "cell_type": "code",
      "metadata": {
        "id": "5o1yjEhnZvNe"
      },
      "source": [
        "[winner_score,loser_score] = team_scores(lol_matches)\r\n",
        "lol_matches['winner_score'] = winner_score\r\n",
        "lol_matches['loser_score'] = loser_score\r\n",
        "lol_matches"
      ],
      "execution_count": null,
      "outputs": []
    },
    {
      "cell_type": "markdown",
      "metadata": {
        "id": "nBPoPrc0Z8FS"
      },
      "source": [
        "Ahora que extrajimos la información más relevante de los campos con listas, podemos retirarlos:"
      ]
    },
    {
      "cell_type": "code",
      "metadata": {
        "id": "CMx7LQvHaExy"
      },
      "source": [
        "lol_matches2 = lol_matches\r\n",
        "campos_no_deseados = ['results','winner','opponents','winner_id']\r\n",
        "lol_matches2 = lol_matches2.drop(columns=campos_no_deseados)"
      ],
      "execution_count": null,
      "outputs": []
    },
    {
      "cell_type": "code",
      "metadata": {
        "id": "e_o7rnAlaHPx"
      },
      "source": [
        "lol_matches2.info()"
      ],
      "execution_count": null,
      "outputs": []
    },
    {
      "cell_type": "markdown",
      "metadata": {
        "id": "wd_HFlpYaKO7"
      },
      "source": [
        "Nuestro siguiente objetivo es refinar los tipos de datos de los campos para las fechas:"
      ]
    },
    {
      "cell_type": "code",
      "metadata": {
        "id": "OhxXLRH0aNC-"
      },
      "source": [
        "from datetime import *\r\n",
        "lol_matches2['begin_date'] = lol_matches2['begin_date'].apply(datetime.strptime, args=('%Y-%m-%dT%H:%M:%SZ',))\r\n",
        "lol_matches2['end_date'] = lol_matches2['end_date'].apply(datetime.strptime, args=('%Y-%m-%dT%H:%M:%SZ',))"
      ],
      "execution_count": null,
      "outputs": []
    },
    {
      "cell_type": "markdown",
      "metadata": {
        "id": "d5SIOh3baREM"
      },
      "source": [
        "Ya que la API guarda los datos en una forma algo peculiar nos apoyamos del paquete datetime y convertimos con ayuda de apply. Finalmente tendremos un Dataframe libre de valores nulos, con campos nombrados coherentementes (en inglés) y que ofrece la posibilidad de trabajar con otros datos de la API al conservar los identificadores:"
      ]
    },
    {
      "cell_type": "code",
      "metadata": {
        "id": "XYub76EHaUMu"
      },
      "source": [
        "lol_matches2.info()"
      ],
      "execution_count": null,
      "outputs": []
    },
    {
      "cell_type": "code",
      "metadata": {
        "id": "RPJ_6JgaaXCA"
      },
      "source": [
        "lol_matches2.head()"
      ],
      "execution_count": null,
      "outputs": []
    },
    {
      "cell_type": "markdown",
      "metadata": {
        "id": "9bkmNYzOacAs"
      },
      "source": [
        "Antes de guardar nuestro Dataframe, ordenemos por fecha de forma que lo primero que veamos sean los enfrentamientos más antiguos:"
      ]
    },
    {
      "cell_type": "code",
      "metadata": {
        "id": "dFbYOncPae1u"
      },
      "source": [
        "lol_matches2 = lol_matches2.sort_values('begin_date', ascending=True)"
      ],
      "execution_count": null,
      "outputs": []
    },
    {
      "cell_type": "markdown",
      "metadata": {
        "id": "EYl0T3iCahOV"
      },
      "source": [
        "Necesitamos resetear el índice:"
      ]
    },
    {
      "cell_type": "code",
      "metadata": {
        "id": "wzNRdsb2ajon"
      },
      "source": [
        "lol_matches2 = lol_matches2.reset_index(drop=True)\r\n",
        "lol_matches2"
      ],
      "execution_count": null,
      "outputs": []
    },
    {
      "cell_type": "markdown",
      "metadata": {
        "id": "uXIlg3ciammB"
      },
      "source": [
        "Finalmente, guardamos el Dataframe:"
      ]
    },
    {
      "cell_type": "code",
      "metadata": {
        "id": "tM_FZpouancK"
      },
      "source": [
        "lol_matches2.to_csv('lol_matches2.csv')"
      ],
      "execution_count": null,
      "outputs": []
    },
    {
      "cell_type": "markdown",
      "metadata": {
        "id": "wapHoHNcbIAs"
      },
      "source": [
        "# Postwork 08: Preparándose para las siguientes fases\r\n",
        "\r\n",
        "Sea PandaScore_get_matches() la función que realiza peticiones a nuestra API sobre los enfrentamientos de un juego:"
      ]
    },
    {
      "cell_type": "code",
      "metadata": {
        "id": "ju3eSWvdbLup"
      },
      "source": [
        "import pandas as pd \r\n",
        "import math as mt\r\n",
        "from datetime import *\r\n",
        "import requests \r\n",
        "\r\n",
        "def PandaScore_get_matches(juego): #Definimos nuestra función\r\n",
        "    if isinstance(juego, str): #Nos aseguramos que los argumentos sean de tipo str\r\n",
        "        informacion = 'matches'\r\n",
        "        registros = 100 #Establecemos el número de registros por página\r\n",
        "        token = 'V3U1fnnWozJi3bbhZfrxdiAmN4-XWnX_4g6i_6iauwwh7w-V8Ns' #Token de acceso\r\n",
        "        url = f\"https://api.pandascore.co/{juego}/{informacion}?page[size]={registros}&token={token}\" #URL con los parámetros deseados\r\n",
        "        response = requests.get(url) #Realizamos la petición\r\n",
        "        if response.status_code == 200: #Si todo salió bien continuamos\r\n",
        "            Iteraciones = mt.ceil(float(response.headers['X-Total'])/registros) #Calculamos el número de páginas en base a todos los registros que hay en la API\r\n",
        "            #Al dividir el número total de registros entre los registros solicitados obtenemos un aproximado, para asegurar que tomaremos todos, redondeamos al entero más alto\r\n",
        "            for i in range(1,Iteraciones+1): #Ciclo for para obtener todos los registros de cada página\r\n",
        "                url = f\"https://api.pandascore.co/{juego}/{informacion}?page[size]={registros}&page[number]={i}&token=V3U1fnnWozJi3bbhZfrxdiAmN4-XWnX_4g6i_6iauwwh7w-V8Ns\"\r\n",
        "                #URL el parámetro de página deseada\r\n",
        "                response = requests.get(url) #Realizamos la petición correspondiente\r\n",
        "                data = response.json() #Transformamos la respuesta \r\n",
        "                if i == 1: #En la primer iteración se crea un Dataframe\r\n",
        "                    df_matches = pd.DataFrame.from_dict(data)\r\n",
        "                else: #En el resto de iteraciones se van añadiendo los nuevos registros\r\n",
        "                    df_matches = df_matches.append(pd.DataFrame.from_dict(data),ignore_index=True)                    \r\n",
        "            return df_matches # Finalmente se devuelve el Dataframe con todos los registros limpios y ordenados\r\n",
        "        else: #Si la petición no se ejecutó correctamente mandamos un mensaje con el error devuelto\r\n",
        "            return 'Error de petición: '+str(response.status_code)  \r\n",
        "    else: #Si los argumentos no son de tipo str regresamos un mensaje\r\n",
        "        return 'Por favor coloque un argumento válido en formato string.'"
      ],
      "execution_count": null,
      "outputs": []
    },
    {
      "cell_type": "markdown",
      "metadata": {
        "id": "jHySShK6bPrD"
      },
      "source": [
        "Además, sea df_matches_clean() la función que elimnará campos indeseados:"
      ]
    },
    {
      "cell_type": "code",
      "metadata": {
        "id": "QXgVrecrbS8z"
      },
      "source": [
        "def df_matches_clean(df_matches):\r\n",
        "  ########### Limpieza de datos\r\n",
        "   campos_no_deseados = ['videogame', 'slug', 'tournament', 'league', 'serie', 'streams', 'modified_at', 'games',\r\n",
        "                      'game_advantage', 'scheduled_at', 'original_scheduled_at', 'detailed_stats','live',\r\n",
        "                      'match_type', 'videogame_version', 'live_embed_url', 'id'] \r\n",
        "\r\n",
        "   df_matches_temp = df_matches.drop(columns=campos_no_deseados) #Limpiamos campos que no nos son de utilidad\r\n",
        "   df_matches_finished = df_matches_temp[ df_matches_temp['status'] == 'finished' ] #Dejamos solo los enfrentamientos que han terminado\r\n",
        "   df_matches_finished_clean = df_matches_finished.dropna(subset=['begin_at', 'end_at']) #Eliminamos algunos valores nulos de las fechas\r\n",
        "   df_matches_ordenado = df_matches_finished_clean[['name','opponents','results','forfeit','draw', #Reorganizamos los campos\r\n",
        "                                                      'number_of_games','winner','winner_id','begin_at','end_at', \r\n",
        "                                                      'rescheduled','official_stream_url','league_id', 'serie_id', 'tournament_id']]\r\n",
        "   df_matches_ordenado = df_matches_ordenado.reset_index(drop=True) #Reseteamos el índice\r\n",
        "   nombres_nuevos = {'name' : 'match_name',\r\n",
        "                             'begin_at' : 'begin_date',\r\n",
        "                             'end_at' : 'end_date',\r\n",
        "                             'official_stream_url' : 'official_stream_channel_url'}                       \r\n",
        "   df_matches_ordenado.rename(columns=nombres_nuevos, inplace=True) #Renombramos columnas \r\n",
        "   return df_matches_ordenado "
      ],
      "execution_count": null,
      "outputs": []
    },
    {
      "cell_type": "markdown",
      "metadata": {
        "id": "Ex5Zqf_8bViT"
      },
      "source": [
        "Junto a winner_team(),loser_team() y team_score() que añaden nuevos campos:"
      ]
    },
    {
      "cell_type": "code",
      "metadata": {
        "id": "wf2KQCcMbWdW"
      },
      "source": [
        "def winner_team(serie):\r\n",
        "    if serie == None:\r\n",
        "        return 'Undefined'\r\n",
        "    else: return serie['name']\r\n",
        "\r\n",
        "def loser_team(df):\r\n",
        "    losers = []\r\n",
        "    for i in range(0,len(df)):\r\n",
        "        ganador = df['winner_team'][i]\r\n",
        "        equipo = df['opponents'][i][0]['opponent']['name']\r\n",
        "        if ganador == 'Undefined':\r\n",
        "           losers.append('Undefined')\r\n",
        "        elif equipo == ganador:\r\n",
        "           losers.append(df['opponents'][i][1]['opponent']['name'])  \r\n",
        "        elif equipo != ganador: \r\n",
        "           losers.append(df['opponents'][i][0]['opponent']['name'] )\r\n",
        "    return pd.Series(losers,index=df.index)\r\n",
        "\r\n",
        "def team_scores(df):\r\n",
        "    losers_score = []\r\n",
        "    winners_score = []\r\n",
        "    for i in range(0,len(df)):\r\n",
        "        ganador_id = df['winner_id'][i]\r\n",
        "        equipo1_id = df['results'][i][0].get('team_id')\r\n",
        "        equipo2_id = df['results'][i][1].get('team_id')\r\n",
        "        if ganador_id == 0:\r\n",
        "            winner_score = 0\r\n",
        "            loser_score = 0\r\n",
        "        elif equipo1_id == ganador_id:\r\n",
        "            winner_score = df['results'][i][0].get('score')\r\n",
        "            loser_score = df['results'][i][1].get('score')\r\n",
        "        else:\r\n",
        "            winner_score = df['results'][i][1].get('score')\r\n",
        "            loser_score = df['results'][i][0].get('score')\r\n",
        "        winners_score.append(winner_score)    \r\n",
        "        losers_score.append(loser_score)\r\n",
        "    return [pd.Series(winners_score,index=df.index), pd.Series(losers_score,index=df.index) ]\r\n"
      ],
      "execution_count": null,
      "outputs": []
    },
    {
      "cell_type": "markdown",
      "metadata": {
        "id": "0BRr1SSQbct9"
      },
      "source": [
        "Y finalmente sea matches_shiny() la función que embellecé nuestro dataframe y arregla los tipos de dato:"
      ]
    },
    {
      "cell_type": "code",
      "metadata": {
        "id": "v1SvEjNqbfZd"
      },
      "source": [
        "def matches_shiny(juego_matches):\r\n",
        "    juego_matches['winner_team'] = juego_matches['winner'].map(winner_team)\r\n",
        "    juego_matches['loser_team'] = loser_team(juego_matches)  \r\n",
        "    juego_matches['winner_id'] = juego_matches['winner_id'].fillna(0)\r\n",
        "    juego_matches['official_stream_channel_url'] = juego_matches['official_stream_channel_url'].fillna('Not Provided')\r\n",
        "    juego_matches['winner_id'] = juego_matches['winner_id'].astype(int)\r\n",
        "    [winner_score,loser_score] = team_scores(juego_matches)\r\n",
        "    juego_matches['winner_score'] = winner_score\r\n",
        "    juego_matches['loser_score'] = loser_score\r\n",
        "    campos_no_deseados = ['results','winner','opponents','winner_id']\r\n",
        "    juego_matches = juego_matches.drop(columns=campos_no_deseados)\r\n",
        "    juego_matches['begin_date'] = juego_matches['begin_date'].apply(datetime.strptime, args=('%Y-%m-%dT%H:%M:%SZ',))\r\n",
        "    juego_matches['end_date'] = juego_matches['end_date'].apply(datetime.strptime, args=('%Y-%m-%dT%H:%M:%SZ',))\r\n",
        "    ljuego_matches = juego_matches.sort_values('begin_date', ascending=True)\r\n",
        "    juego_matches = juego_matches.reset_index(drop=True)\r\n",
        "    return juego_matches"
      ],
      "execution_count": null,
      "outputs": []
    },
    {
      "cell_type": "markdown",
      "metadata": {
        "id": "dxjlNPPRbi4b"
      },
      "source": [
        "Llamamos a las funciones para obtener nuestro Dataframe de forma automática:"
      ]
    },
    {
      "cell_type": "code",
      "metadata": {
        "id": "2t2OhD7xblRY"
      },
      "source": [
        "lol_matches_raw = PandaScore_get_matches('lol')\r\n",
        "lol_matches_sin_nones = df_matches_clean(lol_matches_raw)\r\n",
        "lol_matches = matches_shiny(lol_matches_sin_nones)"
      ],
      "execution_count": null,
      "outputs": []
    },
    {
      "cell_type": "markdown",
      "metadata": {
        "id": "u5187sd2bnmp"
      },
      "source": [
        "lol matches se vuelve entonces uno de nuestros Dataframes destinado para el análisis de eSports:"
      ]
    },
    {
      "cell_type": "code",
      "metadata": {
        "id": "LUPDVwlBbtgV"
      },
      "source": [
        "lol_matches"
      ],
      "execution_count": null,
      "outputs": []
    },
    {
      "cell_type": "markdown",
      "metadata": {
        "id": "RoHOpdVrbw7Y"
      },
      "source": [
        "Gracias a nuestras funciones aportamos también otros Dataframe para los juegos de la API:"
      ]
    },
    {
      "cell_type": "code",
      "metadata": {
        "id": "FF_gczWVbz2S"
      },
      "source": [
        "dota2_matches_raw = PandaScore_get_matches('dota2')\r\n",
        "dota2_matches_sin_nones = df_matches_clean(dota2_matches_raw)\r\n",
        "dota2_matches = matches_shiny(dota2_matches_sin_nones)"
      ],
      "execution_count": null,
      "outputs": []
    },
    {
      "cell_type": "code",
      "metadata": {
        "id": "qUF6shyjb2vi"
      },
      "source": [
        "dota2_matches"
      ],
      "execution_count": null,
      "outputs": []
    },
    {
      "cell_type": "code",
      "metadata": {
        "id": "rXdlokTLb5Tm"
      },
      "source": [
        "csgo_matches_raw = PandaScore_get_matches('csgo')\r\n",
        "csgo_matches_sin_nones = df_matches_clean(csgo_matches_raw)\r\n",
        "csgo_matches = matches_shiny(csgo_matches_sin_nones)"
      ],
      "execution_count": null,
      "outputs": []
    },
    {
      "cell_type": "code",
      "metadata": {
        "id": "N3ezuDVmb8fu"
      },
      "source": [
        "csgo_matches"
      ],
      "execution_count": null,
      "outputs": []
    },
    {
      "cell_type": "code",
      "metadata": {
        "id": "EKtGYRivb_az"
      },
      "source": [
        "ow_matches_raw = PandaScore_get_matches('ow')\r\n",
        "ow_matches_sin_nones = df_matches_clean(ow_matches_raw)\r\n",
        "ow_matches = matches_shiny(ow_matches_sin_nones)"
      ],
      "execution_count": null,
      "outputs": []
    },
    {
      "cell_type": "code",
      "metadata": {
        "id": "jh5yQOmwb_hH"
      },
      "source": [
        "ow_matches"
      ],
      "execution_count": null,
      "outputs": []
    },
    {
      "cell_type": "markdown",
      "metadata": {
        "id": "NDpA2KhecF5B"
      },
      "source": [
        "Podemos utilizar nuestro Dataframe para obtener datos interesantes que responden algunas preguntas que nos hicimos al comienzo. En un principio nos preguntabamos si los enfrentamientos de eSports son cortos o largos, aprovechemos el paquete _datetime_ y descubrámoslo:"
      ]
    },
    {
      "cell_type": "code",
      "metadata": {
        "id": "-zEJdPL6cKUG"
      },
      "source": [
        "def tiempo_partida(df):\r\n",
        "    minutos_partidas=[] #iniciamos un arreglo vacío\r\n",
        "    for n in range (0,len(df)):   \r\n",
        "        inicio_enfrentamiento= df.loc[n,'begin_date'] #obtenemos el momento en que inici´p el enfrentamiento\r\n",
        "        fin_enfrentamiento= df.loc[n,'end_date'] #obtenemos el momento en que terminó el enfrentamiento\r\n",
        "        total_partidas = df.loc[n,'number_of_games'] #obtenemos el número de partidas jugadas en el enfrentamiento\r\n",
        "        duración_partidas = (fin_enfrentamiento-inicio_enfrentamiento)/total_partidas #Calculamos el tiempo por partida\r\n",
        "        minutos = round(duración_partidas.total_seconds()/60,3) # Convertimos a segundos y de segundos a minutos\r\n",
        "        minutos_partidas.append(minutos) #Añadimos al arreglo\r\n",
        "  \r\n",
        "    df['minutos_partidas'] = pd.Series(minutos_partidas) #Finalmente creamos una nueva columna con los tiempos por partida\r\n",
        "    no_outlier = df['minutos_partidas'] > 0 # La API devovió algunos datos de fechas con errores donde end_date era antes de begin_date\r\n",
        "    df= df[no_outlier]\r\n",
        "    no_outlier = df['minutos_partidas'] < 100 # Sabemos por experiencia que las partidas no duran tanto, así que eliminamos outliers\r\n",
        "    df_boxplot = df[no_outlier]   \r\n",
        "          \r\n",
        "    return df_boxplot #devolvemos un dataframe filtrado con la duración de partidas en minutos"
      ],
      "execution_count": null,
      "outputs": []
    },
    {
      "cell_type": "markdown",
      "metadata": {
        "id": "NmfOMhB5cNB4"
      },
      "source": [
        "La función anterior esta pensada para obtener la duración en minutos de las partidas, se nos devuelve el dataframe que usamos como argumento con nuevo campo y filtrado para partidas con tiempo mayor a 0 (tiempo positivo) y menor a 100 minutos (como jugones curtidos sabemos que 100 minutos es una partida exagerada por si sola). Veamos como se comportan los diferentes juegos con un gráfico llamativo que podemos generar gracias al paquete seaborn:"
      ]
    },
    {
      "cell_type": "code",
      "metadata": {
        "id": "T-vOD7D4cQeJ"
      },
      "source": [
        "#Creamos los dataframe con las funciones\r\n",
        "boxplot_lol = tiempo_partida(lol_matches)\r\n",
        "boxplot_dota2 = tiempo_partida(dota2_matches)\r\n",
        "boxplot_csgo = tiempo_partida(csgo_matches)\r\n",
        "boxplot_ow = tiempo_partida(ow_matches)\r\n",
        "#llamamos el paquete seaborn\r\n",
        "import seaborn as sns\r\n",
        "#Diseñamos la figura\r\n",
        "plt.figure(figsize=[20, 10])\r\n",
        "sns.set(style=\"whitegrid\")\r\n",
        "sns.boxplot(data=[boxplot_ow['minutos_partidas'],boxplot_lol['minutos_partidas'],boxplot_dota2['minutos_partidas'],boxplot_csgo['minutos_partidas']]).set_xticklabels(['OW','LoL','Dota2','CS:GO'])\r\n",
        "plt.title(\"Duración de partidas en torneos de Esports\")\r\n",
        "plt.ylabel(\"Minutos\")\r\n",
        "plt.xlabel(\"Juegos\")\r\n",
        "plt.show()"
      ],
      "execution_count": null,
      "outputs": []
    },
    {
      "cell_type": "markdown",
      "metadata": {
        "id": "pCQA_xwlcTWh"
      },
      "source": [
        "Analizando los resultados de manera muy rápida, encontramos que las medianas rondan en torno a los 25 minutos, 40 minutos, 45 minutos y 50 minutos respectivamente. Si esto llegan a tardar los profesionales, qué nos espera a nosotros los mortales? Muy bien, ahora veamos las proporciones de enfrentamientos que han sido transmitidos en línea para que los fanáticos los vean:"
      ]
    },
    {
      "cell_type": "code",
      "metadata": {
        "id": "HOmgqOYkcWEH"
      },
      "source": [
        "# Obtendremos las proporciones manualmente utilizando el tamaño de los Dataframe y filtrando los streams\r\n",
        "Total_de_partidas_lol = len(lol_matches['official_stream_channel_url']) #Total de enfrentamientos \r\n",
        "Partidas_sin_stream_lol = len(lol_matches[ lol_matches['official_stream_channel_url'] == 'Not Provided']) #Total de enfrentamientos sin un url de stream\r\n",
        "Partidas_con_stream_lol = Total_de_partidas_lol-Partidas_sin_stream_lol #Total de enfrentamientos que cuentan con url para stream\r\n",
        "data = [Partidas_con_stream_lol,Partidas_sin_stream_lol] #Creamos un arreglo \r\n",
        "streams_lol = pd.Series(data, index = ['Transmitidas en línea','No transmitidas']) #Creamos una serie para el gráfico de tipo pie \r\n",
        "\r\n",
        "Total_de_partidas_dota2 = len(dota2_matches['official_stream_channel_url'])\r\n",
        "Partidas_sin_stream_dota2 = len(dota2_matches[ dota2_matches['official_stream_channel_url'] == 'Not Provided'])\r\n",
        "Partidas_con_stream_dota2= Total_de_partidas_dota2-Partidas_sin_stream_dota2\r\n",
        "data = [Partidas_con_stream_dota2,Partidas_sin_stream_dota2]\r\n",
        "streams_dota2 = pd.Series(data, index = ['Transmitidas en línea','No transmitidas'])\r\n",
        "\r\n",
        "Total_de_partidas_csgo = len(csgo_matches['official_stream_channel_url'])\r\n",
        "Partidas_sin_stream_csgo = len(csgo_matches[ csgo_matches['official_stream_channel_url'] == 'Not Provided'])\r\n",
        "Partidas_con_stream_csgo= Total_de_partidas_csgo-Partidas_sin_stream_csgo\r\n",
        "data = [Partidas_con_stream_csgo,Partidas_sin_stream_csgo]\r\n",
        "streams_csgo= pd.Series(data, index = ['Transmitidas en línea','No transmitidas'])\r\n",
        "\r\n",
        "Total_de_partidas_ow = len(ow_matches['official_stream_channel_url'])\r\n",
        "Partidas_sin_stream_ow= len(ow_matches[ ow_matches['official_stream_channel_url'] == 'Not Provided'])\r\n",
        "Partidas_con_stream_ow = Total_de_partidas_ow-Partidas_sin_stream_ow\r\n",
        "data = [Partidas_con_stream_ow,Partidas_sin_stream_ow]\r\n",
        "streams_ow = pd.Series(data)"
      ],
      "execution_count": null,
      "outputs": []
    },
    {
      "cell_type": "markdown",
      "metadata": {
        "id": "LQptmT82cY6Y"
      },
      "source": [
        "La mejor forma de ver las proporciones es con un gráfico de pastel, nos apoyaremos en el paquete matplotlib para esta tarea:"
      ]
    },
    {
      "cell_type": "code",
      "metadata": {
        "id": "B2DVo_njcb6p"
      },
      "source": [
        "# llamamos al paquete matplotlib\r\n",
        "import matplotlib.pyplot as plt \r\n",
        "# declaramos las etiquetas\r\n",
        "labels = ['Transmitidas en línea','No transmitidas']\r\n",
        "# paletas de colores https://www.w3schools.com/colors/colors_names.asp\r\n",
        "fig, ((ax1, ax2), (ax3, ax4)) = plt.subplots(2, 2) # creamos un subplot de 2x2\r\n",
        "fig.suptitle('Proporción de partidas de eSports trasmitidas por internet', fontsize = 30) # añadimos un título\r\n",
        "fig.set_figheight(15) #dimensiones de la figura\r\n",
        "fig.set_figwidth(15)\r\n",
        "# gráfico de pastel para las proprociones de cada juego y su título\r\n",
        "ax1.pie(x=streams_lol, autopct=\"%.1f%%\", labels=labels, pctdistance=0.5, colors= ('DarkOliveGreen','DarkGreen')) \r\n",
        "ax1.set_title('League of Legends')\r\n",
        "ax2.pie(x=streams_dota2, autopct=\"%.1f%%\", labels=labels, pctdistance=0.5, colors= ('DarkMagenta','DarkOrchid'))\r\n",
        "ax2.set_title('Dota 2')\r\n",
        "ax3.pie(x=streams_csgo, autopct=\"%.1f%%\", labels=labels, pctdistance=0.5, colors= ('Coral','Bisque'))\r\n",
        "ax3.set_title('Counter Strike: Global Offensive')\r\n",
        "ax4.pie(x=streams_ow, autopct=\"%.1f%%\", labels=labels, pctdistance=0.5, colors= ('b','c'))\r\n",
        "ax4.set_title('Overwatch')"
      ],
      "execution_count": null,
      "outputs": []
    },
    {
      "cell_type": "markdown",
      "metadata": {
        "id": "J3sjD44zchSU"
      },
      "source": [
        "En general tenemos un gráfico fácil de leer, los enfrentamientos para cada juego con transmitidos en más del 50% de los casos, siendo LoL el de menor proporción y CS:GO el de mayor proporción. \r\n",
        "\r\n",
        "Queda comprobado entonces que nuestros Dataframes forman un Dataset con gran potencial de explotación y con el que podemos obtener mucha información relacionada a eSports, pero aún nos falta responder una última pregunta para quedar satisfechos."
      ]
    }
  ]
}