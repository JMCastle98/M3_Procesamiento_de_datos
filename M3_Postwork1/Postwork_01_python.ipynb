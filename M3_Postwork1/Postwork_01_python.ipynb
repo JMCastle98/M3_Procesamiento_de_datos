{
  "nbformat": 4,
  "nbformat_minor": 0,
  "metadata": {
    "colab": {
      "name": "Postwork_01_python.ipynb",
      "provenance": [],
      "collapsed_sections": [],
      "authorship_tag": "ABX9TyNava6H0evseoOlcH7XxXdo",
      "include_colab_link": true
    },
    "kernelspec": {
      "name": "python3",
      "display_name": "Python 3"
    }
  },
  "cells": [
    {
      "cell_type": "markdown",
      "metadata": {
        "id": "view-in-github",
        "colab_type": "text"
      },
      "source": [
        "<a href=\"https://colab.research.google.com/github/LKXoro/BEDU-Rstudio-postworks/blob/main/M3_Postwork1/Postwork_01_python.ipynb\" target=\"_parent\"><img src=\"https://colab.research.google.com/assets/colab-badge.svg\" alt=\"Open In Colab\"/></a>"
      ]
    },
    {
      "cell_type": "markdown",
      "metadata": {
        "id": "QNeyq6kzj8Ly"
      },
      "source": [
        "\r\n",
        "# Postwork 01: Identificación del problema\r\n",
        "\r\n",
        "## Estado del arte de los eSports\r\n",
        "\r\n",
        "Los deportes electrónicos o _**eSports**_ como se les conoce hoy en día, se pueden definir como la competencia originada en videojuegos digitales ante una audiencia (Hodge et al., 2017). Con una base de consumidores global cercana a los 450 millones de personas y beneficios de miles de millones de dólares anuales, el crecimiento de los eSports no muestra signos de detenerse y se encuentran un momento muy saludable.\r\n",
        "\r\n",
        "Detrás de este crecimiento \r\n"
      ]
    },
    {
      "cell_type": "code",
      "metadata": {
        "id": "MSykjtFWjjjr"
      },
      "source": [
        ""
      ],
      "execution_count": null,
      "outputs": []
    },
    {
      "cell_type": "markdown",
      "metadata": {
        "id": "CjhPPmq4kKx4"
      },
      "source": [
        "## PandaScore: Una API de eSports\r\n",
        "\r\n",
        "<p align=\"center\">\r\n",
        "<img src=\"https://pandascore.co/assets/logo_for_twitter-0c1b471a256ce7364533695930bbe657ed3c8b2189f7ea07e60a40b614ebcf4e.png\" alt=PandaScore_logo>\r\n",
        "</p>\r\n",
        "\r\n",
        "\r\n"
      ]
    },
    {
      "cell_type": "markdown",
      "metadata": {
        "id": "ik3YmWYTtnpW"
      },
      "source": [
        "## Referencias\r\n",
        "\r\n",
        "\r\n",
        "1.   Hodge, V., Devlin, S., Sephton, N., Block, F., Drachen, A., and Cowling, P. (2017). Win\r\n",
        "prediction in eSports: mixed-rank match prediction in multi-player online battle arena games.\r\n",
        "Recuperado de: https://arxiv.org/abs/1711.06498.\r\n",
        "2.   Elemento de la lista\r\n",
        "\r\n"
      ]
    }
  ]
}