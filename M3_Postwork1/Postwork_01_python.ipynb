{
  "nbformat": 4,
  "nbformat_minor": 0,
  "metadata": {
    "colab": {
      "name": "Postwork_01_python.ipynb",
      "provenance": [],
      "collapsed_sections": [],
      "authorship_tag": "ABX9TyMPEDx/cvsnQJ2lwypwb4Ju",
      "include_colab_link": true
    },
    "kernelspec": {
      "name": "python3",
      "display_name": "Python 3"
    }
  },
  "cells": [
    {
      "cell_type": "markdown",
      "metadata": {
        "id": "view-in-github",
        "colab_type": "text"
      },
      "source": [
        "<a href=\"https://colab.research.google.com/github/LKXoro/BEDU-Rstudio-postworks/blob/main/M3_Postwork1/Postwork_01_python.ipynb\" target=\"_parent\"><img src=\"https://colab.research.google.com/assets/colab-badge.svg\" alt=\"Open In Colab\"/></a>"
      ]
    },
    {
      "cell_type": "markdown",
      "metadata": {
        "id": "QNeyq6kzj8Ly"
      },
      "source": [
        "\r\n",
        "# Postwork 01: Identificación del problema\r\n",
        "\r\n",
        "## Estado del arte de los eSports\r\n",
        "\r\n",
        "<img src=\"https://educowebmedia.blob.core.windows.net/educowebmedia/educospain/media/images/blog/que-son-los-esports-portada.jpg\"  align=\"right\" height =\"250\" width = \"400\" alt=eSports>\r\n",
        "\r\n",
        "Los deportes electrónicos o _**eSports**_ como se les conoce hoy en día, se pueden definir como la competencia originada en videojuegos digitales ante una audiencia (Hodge et al., 2017). Con una base de consumidores global cercana a los 450 millones de personas y beneficios de miles de millones de dólares anuales, el crecimiento de los eSports no muestra signos de detenerse y se encuentran un momento muy saludable. De acuerdo con reportes recientes acerca del estado de los eSports, durante Marzo de 2019, los cinco juegos más vistos en Twitch fueron:\r\n",
        "\r\n",
        "*   League of Legends\r\n",
        "*   Fortnite\r\n",
        "*   DOTA 2\r\n",
        "*   Counter Strike: Global Offensive\r\n",
        "*   Overwatch\r\n",
        "\r\n",
        "En promedio, estos juegos juntos logran hasta 400 mil expectadores a cualquier hora. Otros reportes indican que los eSports lograrán audiencias mayores, en países como Estados Unidos, que en cualquier liga deportiva a excepción de la NFL (Iqbal, 2019).\r\n",
        "\r\n",
        "\r\n",
        "\r\n",
        "\r\n",
        "\r\n"
      ]
    },
    {
      "cell_type": "markdown",
      "metadata": {
        "id": "sz9UBelnGpiz"
      },
      "source": [
        "# Oportunidades que ofrecen los eSports\r\n",
        "\r\n",
        "<img src=\"https://upload.wikimedia.org/wikipedia/commons/thumb/c/cd/National_Association_of_Collegiate_Esports_logo.svg/1200px-National_Association_of_Collegiate_Esports_logo.svg.png\"  align=\"right\" height =\"250\" width = \"400\" alt=NACE_logo>\r\n",
        "\r\n",
        "Detrás de este crecimiento, encontramos un ecosistema próspero constituido por desarrolladores, jugadores y entrenadores, creadores de contenido, plataformas de consumos y muchos más. A medida que ese ecosistema florece, también lo hacen las oportunidades laborales en el mercado de los eSports, siendo una parte los que se comprometen al análisis estadístico de eSports.\r\n",
        "\r\n",
        "La demanda de analístas de eSports se espera incremente significativamente en los próximos años, de la misma manera que la demanda de analístas para deportes convencionales aumento en 2004 (Davenport, 2014). Previendo este incremento, algunas universidades han decidido preparar a sus estudiantes mediante carreras enfocadas al analísis de eSports. \r\n",
        "\r\n",
        "La Universidad de Akron es por lejos la mayor inversionista en términos de programas e instalaciones enfocadas a eSports, junto a la Asociación Nacional de Esports Universitario ([NACE](https://nacesports.org/)) que, hasta Mayo de 2019, se compone de 144 miembros. A medida que las universidades destinan más recursos a los eSports, la industria global continuara expandiéndose. "
      ]
    },
    {
      "cell_type": "markdown",
      "metadata": {
        "id": "jamX4KWiNpVM"
      },
      "source": [
        "# Información necesaria para el análisis del desempeño en eSports\r\n",
        "\r\n",
        "Muchos grupos de interés se ven en la necesidad de tener información proveniente de análisis de eSports, por ejemplo, los desarrolladores de videojuegos buscan información que les permita encontrar patrones en la jugabilidad con la finaldiad de realizar cambios en su juego como lo son mapas, reglas, personajes u objetos (Bozorgzadeh, 2017). Ellos también buscan detectar trampas y de esta forma crear sistemas \"_anti-cheats_\" que permitan un juego más justo.\r\n",
        "\r\n",
        "Si bien mucha de la información recolectada para su análisis es explotada para fines como el aumento de audiencia, momentos destacados o para pláticas de comentaristas durante y después de las partidas. Un ámbito que puede ser de mayor intéres es el relacionado con el rendimiento de los equipos y jugadores. Por ejemplo, análistas, coaches e incluso los propios jugadores presentan particular interés en el desempeño de sus adversarios, por lo que al igual que en los deportes tradicionales, deben conocer a su enemigo y preparar sus estrategias.\r\n",
        "\r\n",
        "En general nos encontramos con cuatro aspectos de posible análisis en los eSports:\r\n",
        "\r\n",
        "*   **Equipos**: La mayoría de profesionales de eSports participan en juegos que presentan enfrentamientos entre qeuipos, donde el entendimiento de los oponentes y su estrategia juegan un papel crítico.\r\n",
        "*   **Jugadores**: Las debilidades y fortalezas de cada integrante del equipo permiten trazar un plan que permita bloquear su desempeño en el rol que ejecuta.\r\n",
        "*   **Personajes**: Los roles de cada jugador en los distintos juegos vienen dados por el avatar o personaje elegido, entender las habilidades de cada personaje y sus limitaciones tienen un peso en el desempeño como jugador.\r\n",
        "*   **Objetos**: Cada personaje puede equiparse con distintos objetos, entender las diferentes composicions y como adecuarlas a la situación en que encuentras trae un abánico de posibiliades para el desarrollo de una partida.\r\n",
        "\r\n",
        "Está claro que cada uno de estos aspectos brinda un cúmulo de información por partida que solo puede ser explotada por análistas expertos. Hoy en día también se habla de páginas de apuestas, eSports de fantasía, ligas colegiales y más importante aún: Canales de televisión enteramente dedicados a eSports. Detrás de todo esto surge una pregunta importante: ¿Dónde conseguimos la información? Para responder está pregunta podemos empezar por conocer algunas fuentes de esta información que hoy en día es tan preciada.\r\n",
        "\r\n",
        "\r\n",
        "\r\n",
        "\r\n",
        "\r\n"
      ]
    },
    {
      "cell_type": "markdown",
      "metadata": {
        "id": "oPe_LP6xUpo9"
      },
      "source": [
        "# Fuentes de datos sobre eSports\r\n",
        "\r\n",
        "<img src=\"https://blog.ehcgroup.io/wp-content/uploads/2019/08/What-is-an-API.png\"  align=\"right\" height =\"250\" width = \"400\" alt=API>\r\n",
        "\r\n",
        "Antes de que la información se analizada, debe ser recolectada. Algunas de las fuentes más comúnes donde la información sobre eSports puede ser recolectada son:\r\n",
        "\r\n",
        "*   **APIs**: Para los juegos más importantes, los desarrolladores proveen una interfaz de programación de aplicaciones ([API](https://es.wikipedia.org/wiki/Interfaz_de_programaci%C3%B3n_de_aplicaciones)) con la cual se permite la descarga de datos generados a los usuarios registrados.\r\n",
        "*   **Proveedores estadísticos y APIs de terceros**: Ya que no todos los desarrolladores de juegos recolectan los datos, terceros proveen APIs donde guardan sus datos obtenidos mediante la búsqueda en registros de los juegos, analizando repositorios públicos, haciendo _scrapping_ en repeticiones de Twitch o Youtube, o bien pidiendo archivos de repetición a los usuarios.\r\n",
        "*   **Repositorios de archivos**: Como mencionamos anteriormente muchos juegos guarda repeticiones de las partidas, pero no necesariamente en formatos de video, sino en formatos especiales que guardan cada acción de una partida y pueden reproducirse de nuevo con el motor del juego para analizar distintos momentos o ver como evoluciona la partida desde uno o múltiples ángulos. Estos archivos pueden ser tratados o simplemente guardarse en crudo en repositorios.\r\n",
        "\r\n",
        "\r\n",
        "\r\n",
        "\r\n",
        "\r\n"
      ]
    },
    {
      "cell_type": "markdown",
      "metadata": {
        "id": "xGxup7Q843c5"
      },
      "source": [
        "# Uso de los datos para crear visualizaciones y Dashboards\r\n",
        "\r\n",
        "<img src=\"https://i.pinimg.com/originals/c9/2d/0c/c92d0c88656b0677c6bc69312769f854.png\"  align=\"right\" height =\"250\" width = \"400\" alt=API>\r\n",
        "\r\n",
        "Otra pregunta que puede surgir es: ¿Qué tipo de trabajo realizan los análistas de eSports? Para responder esta pregunta, se analizaron 22 ofertas para puestos de trabajos como analistas de eSports (Joseph Rubleske et al.). Los análisis revelaron que, mayormente, los trabajos implican dos amplias áreas de trabajo analítico:\r\n",
        "\r\n",
        "*   **Creación de atributos para visualizaciones y dashboards**: Un oferta de **Blizzard** describía sus necesidades como: \"_Contar historias con datos y visualizaciones_\".\r\n",
        "*   **Modelado para Machine Learning**: Construcción de modelos que permitan evaluar las fortalezas y debilidades de los oponentes, predecir el efecto de balanceo de personajes en el ratio de victoria de los equipos, recomendar objetos de acuerdo a la forma de jugar del rival, etc. \r\n",
        "\r\n",
        "\r\n"
      ]
    },
    {
      "cell_type": "markdown",
      "metadata": {
        "id": "SeQnlkdEhg8u"
      },
      "source": [
        "# El acceso a la información sobre eSports\r\n",
        "\r\n",
        "Ya hemos hablado de las posibles fuentes de datos y que se puede hacer con ellos, pero para los usuarios más entusiastas el acceso a la información en crudo puede resultar complicado. Si bien no todos los desarrolladores de videojuegos están dispuestos a proporcionar información de sus juegos tan fácilmente, no todos los que la comparten a través de una API brindan una accesibilidad y herramientas fáciles de usar, como por ejemplo, lo hace Riot Games con su [API pública](https://developer.riotgames.com/) que brinda acceso a datos de todos sus juegos.\r\n",
        "\r\n",
        "En este punto intermedio entre los datos en crudo y las visualizaciones atractivas nos encontramos con el problema a tratar: El acceso a la información sobre eSports es como ir a pescar en mar abierto. Podemos encontrar muchas APIs que ofrecen información en crudo o muchas páginas web que nos ofrecen sus propios datos recolectados a cambio de un módico precio, otras tantas son más herméticas y se limitan a la visualización de sus propios datos. \r\n",
        "\r\n",
        "Muchos usuarios han puesto manos a la obra, mediante técnicas como _web scrapping_ o elaboración propia han creado y compartido [Datasets sobre eSports](https://www.kaggle.com/search?q=eSports+in%3Adatasets ) que han sido de mucha utilidad para otros usuarios, sin embargo, la cantidad de DataSets que encontramos es limitada.\r\n",
        "\r\n",
        "Esto es muy interesante ya que hay muchos usuarios interesados [[1]](https://www.reddit.com/r/esports/comments/74opfv/is_there_anywhere_i_can_find_a_dataset_in_regards/) [[2]](https://www.reddit.com/r/datasets/comments/4glujg/requestdatasets_about_the_esports_industry/) en DataSets. Ya sea para fines de análisis o inclusive académicos, se ven limitados por la poca disposición de Datasets listos para ser explotados. \r\n",
        "\r\n",
        "Pareciera que el acceso a esta información, quizás a causa de la _juventud_ de los eSports, se encuentra limitado al ecosistema que busca explotar estos datos\r\n",
        "para aumentar el alcance e ingresos generados. "
      ]
    },
    {
      "cell_type": "markdown",
      "metadata": {
        "id": "c_OCgQ0RBHz4"
      },
      "source": [
        "# Antecedentes\r\n",
        "\r\n",
        "<img src=\"https://project-awesome.org/images/logo.png\"  align=\"right\" height =\"250\" width = \"400\" alt=API>\r\n",
        "\r\n",
        "[Leonardo Mauro](https://github.com/leomaurodesenv/) es un usuario de github y Data Scientist profesional que a través de la página [project-awesome](https://project-awesome.org/) nos comparte una lista de [_Datasets asombrosos_](https://project-awesome.org/leomaurodesenv/game-datasets) para cualquiera interesado en trabajar con **Inteligencia artificial** o **Data Mining** aplicado a videojuegos.\r\n",
        "\r\n",
        "En esta página encontramos una gran colección de APIs, páginas web y DataSets, un trabajo _asombroso_ que debe ser reconocido. Es importante observar que no todos los Datasets están enfocados en videojuegos catalogados como eSports, y aquellos que los son, cuentan pocos DataSets. \r\n",
        "\r\n"
      ]
    },
    {
      "cell_type": "markdown",
      "metadata": {
        "id": "vCKojtb_C8BG"
      },
      "source": [
        "# Propuesta: Aportar un Dataset para el análisis de eSports\r\n",
        "\r\n",
        "Después de haber investigado sobre el panorama actual de los eSports, la importancia de estos y de la información que generan, así como las limitaciones con las que nos encontramos hoy en día para acceder a ella, nos encontramos especialmente motivados para entrar al mar de información y tratar de aportar un granito de arena, un Dataset, que pueda ser de utilidad para todos los entusiasta de los eSports que estén interesados en su análisis."
      ]
    },
    {
      "cell_type": "markdown",
      "metadata": {
        "id": "ik3YmWYTtnpW"
      },
      "source": [
        "## Referencias\r\n",
        "\r\n",
        "\r\n",
        "1.   Hodge, V., Devlin, S., Sephton, N., Block, F., Drachen, A., and Cowling, P. (2017). Win\r\n",
        "prediction in eSports: mixed-rank match prediction in multi-player online battle arena games.\r\n",
        "Recuperado de: https://arxiv.org/abs/1711.06498.\r\n",
        "2.   Davenport, T.H. (2014). What businesses can learn from sports analytics. MIT Sloan, Management Review.\r\n",
        "3.   Iqbal, M. Twitch revenues and usage statistics. BusinessOfApps, Febrero 2019. Recuperado de: www.businessofapps.com/data/twitch-statistics.\r\n",
        "4.   Bozorgzadeh, A. (2017). Machine learning will be a game-changer for eSports. Venture Beat, Marzo 2017. Recuperado de: https://venturebeat.com/2017/03/11/machinelearning-will-be-a-game-changer-for-esports/.\r\n",
        "5.   Lam, S. eSports as a goldmine for data analytics. ComputerWorldHK, Octubre 2017. Recuperado de: https://www.cw.com.hk/data-management/esports-as-a-goldmine-for-data-analytics.\r\n",
        "6.   Joseph R, Travis F., Brett W. Northern Kentuchy University. E-Sports Analytics: A Primer and Resource for Student Research Projects and Lesson Plans. Journal of Instructional Pedagogies Volumen 23. Recuperado de: https://files.eric.ed.gov/fulltext/EJ1242004.pdf\r\n",
        "\r\n"
      ]
    }
  ]
}