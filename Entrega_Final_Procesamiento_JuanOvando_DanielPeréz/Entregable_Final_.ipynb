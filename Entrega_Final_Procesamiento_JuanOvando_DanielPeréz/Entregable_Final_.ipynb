{
  "nbformat": 4,
  "nbformat_minor": 0,
  "metadata": {
    "colab": {
      "name": "Entregable_Final_.ipynb",
      "provenance": [],
      "collapsed_sections": [],
      "toc_visible": true,
      "include_colab_link": true
    },
    "kernelspec": {
      "display_name": "Python 3",
      "name": "python3"
    }
  },
  "cells": [
    {
      "cell_type": "markdown",
      "metadata": {
        "id": "view-in-github",
        "colab_type": "text"
      },
      "source": [
        "<a href=\"https://colab.research.google.com/github/JMCastle98/M3_Procesamiento_de_datos/blob/main/Entrega_Final_Procesamiento_JuanOvando_DanielPer%C3%A9z/Entregable_Final_.ipynb\" target=\"_parent\"><img src=\"https://colab.research.google.com/assets/colab-badge.svg\" alt=\"Open In Colab\"/></a>"
      ]
    },
    {
      "cell_type": "markdown",
      "metadata": {
        "id": "W6Usa9EUHMmn"
      },
      "source": [
        "# Entregable Final Módulo 3 (Procesamiento de  datos con Python)\r\n",
        "\r\n",
        "Integrantes del equipo:\r\n",
        "\r\n",
        "- Ovando Castillo Juan Miguel\r\n",
        "- Pérez Ruiz Daniel Michell\r\n",
        "\r\n",
        "# 1.- Identificación del problema\r\n",
        "\r\n",
        "## Estado del arte de los eSports\r\n",
        "\r\n",
        "Los deportes electrónicos o _**eSports**_ como se les conoce hoy en día, se pueden definir como la competencia originada en videojuegos digitales ante una audiencia (Hodge et al., 2017). Con una base de consumidores global cercana a los 450 millones de personas y beneficios de miles de millones de dólares anuales, el crecimiento de los eSports no muestra signos de detenerse y se encuentran un momento muy saludable. De acuerdo con reportes recientes acerca del estado de los eSports, durante Marzo de 2019, los cinco juegos más vistos en Twitch fueron:\r\n",
        "\r\n",
        "*   League of Legends\r\n",
        "*   Fortnite\r\n",
        "*   DOTA 2\r\n",
        "*   Counter Strike: Global Offensive\r\n",
        "*   Overwatch\r\n",
        "\r\n",
        "En promedio, estos juegos juntos logran hasta 400 mil expectadores a cualquier hora. Otros reportes indican que los eSports lograrán audiencias mayores, en países como Estados Unidos, que en cualquier liga deportiva a excepción de la NFL (Iqbal, 2019).\r\n",
        "\r\n",
        "<p align=\"center\">\r\n",
        "<img src=\"https://educowebmedia.blob.core.windows.net/educowebmedia/educospain/media/images/blog/que-son-los-esports-portada.jpg\"  height =\"250\" width = \"400\" alt=eSports>\r\n",
        "</p>\r\n"
      ]
    },
    {
      "cell_type": "markdown",
      "metadata": {
        "id": "VY-SK7mWHaCF"
      },
      "source": [
        "# Oportunidades que ofrecen los eSports\r\n",
        "\r\n",
        "Detrás de este crecimiento, encontramos un ecosistema próspero constituido por desarrolladores, jugadores y entrenadores, creadores de contenido, plataformas de consumos y muchos más. A medida que ese ecosistema florece, también lo hacen las oportunidades laborales en el mercado de los eSports, siendo una parte los que se comprometen al análisis estadístico de eSports.\r\n",
        "\r\n",
        "La demanda de analístas de eSports se espera incremente significativamente en los próximos años, de la misma manera que la demanda de analístas para deportes convencionales aumento en 2004 (Davenport, 2014). Previendo este incremento, algunas universidades han decidido preparar a sus estudiantes mediante carreras enfocadas al analísis de eSports. \r\n",
        "\r\n",
        "<p align=\"center\">\r\n",
        "<img src=\"https://upload.wikimedia.org/wikipedia/commons/thumb/c/cd/National_Association_of_Collegiate_Esports_logo.svg/1200px-National_Association_of_Collegiate_Esports_logo.svg.png\" height =\"250\" width = \"400\" alt=NACE_logo>\r\n",
        "</p>\r\n",
        "\r\n",
        "La Universidad de Akron es por lejos la mayor inversionista en términos de programas e instalaciones enfocadas a eSports, junto a la Asociación Nacional de Esports Universitario ([NACE](https://nacesports.org/)) que, hasta Mayo de 2019, se compone de 144 miembros. A medida que las universidades destinan más recursos a los eSports, la industria global continuara expandiéndose. "
      ]
    },
    {
      "cell_type": "markdown",
      "metadata": {
        "id": "Raur7hVSHkFP"
      },
      "source": [
        "# Información necesaria para el análisis del desempeño en eSports\r\n",
        "\r\n",
        "Muchos grupos de interés se ven en la necesidad de tener información proveniente de análisis de eSports, por ejemplo, los desarrolladores de videojuegos buscan información que les permita encontrar patrones en la jugabilidad con la finaldiad de realizar cambios en su juego como lo son mapas, reglas, personajes u objetos (Bozorgzadeh, 2017). Ellos también buscan detectar trampas y de esta forma crear sistemas \"_anti-cheats_\" que permitan un juego más justo.\r\n",
        "\r\n",
        "Si bien mucha de la información recolectada para su análisis es explotada para fines como el aumento de audiencia, momentos destacados o para pláticas de comentaristas durante y después de las partidas. Un ámbito que puede ser de mayor intéres es el relacionado con el rendimiento de los equipos y jugadores. Por ejemplo, análistas, coaches e incluso los propios jugadores presentan particular interés en el desempeño de sus adversarios, por lo que al igual que en los deportes tradicionales, deben conocer a su enemigo y preparar sus estrategias.\r\n",
        "\r\n",
        "En general nos encontramos con cuatro aspectos de posible análisis en los eSports:\r\n",
        "\r\n",
        "*   **Equipos**: La mayoría de profesionales de eSports participan en juegos que presentan enfrentamientos entre qeuipos, donde el entendimiento de los oponentes y su estrategia juegan un papel crítico.\r\n",
        "*   **Jugadores**: Las debilidades y fortalezas de cada integrante del equipo permiten trazar un plan que permita bloquear su desempeño en el rol que ejecuta.\r\n",
        "*   **Personajes**: Los roles de cada jugador en los distintos juegos vienen dados por el avatar o personaje elegido, entender las habilidades de cada personaje y sus limitaciones tienen un peso en el desempeño como jugador.\r\n",
        "*   **Objetos**: Cada personaje puede equiparse con distintos objetos, entender las diferentes composicions y como adecuarlas a la situación en que encuentras trae un abánico de posibiliades para el desarrollo de una partida.\r\n",
        "\r\n",
        "Está claro que cada uno de estos aspectos brinda un cúmulo de información por partida que solo puede ser explotada por análistas expertos. Hoy en día también se habla de páginas de apuestas, eSports de fantasía, ligas colegiales y más importante aún: Canales de televisión enteramente dedicados a eSports. Detrás de todo esto surge una pregunta importante: ¿Dónde conseguimos la información? Para responder está pregunta podemos empezar por conocer algunas fuentes de esta información que hoy en día es tan preciada.\r\n"
      ]
    },
    {
      "cell_type": "markdown",
      "metadata": {
        "id": "IVszRZfmHlRu"
      },
      "source": [
        "# Fuentes de datos sobre eSports\r\n",
        "\r\n",
        "Antes de que la información se analizada, debe ser recolectada. Algunas de las fuentes más comúnes donde la información sobre eSports puede ser recolectada son:\r\n",
        "\r\n",
        "*   **APIs**: Para los juegos más importantes, los desarrolladores proveen una interfaz de programación de aplicaciones ([API](https://es.wikipedia.org/wiki/Interfaz_de_programaci%C3%B3n_de_aplicaciones)) con la cual se permite la descarga de datos generados a los usuarios registrados.\r\n",
        "*   **Proveedores estadísticos y APIs de terceros**: Ya que no todos los desarrolladores de juegos recolectan los datos, terceros proveen APIs donde guardan sus datos obtenidos mediante la búsqueda en registros de los juegos, analizando repositorios públicos, haciendo _scrapping_ en repeticiones de Twitch o Youtube, o bien pidiendo archivos de repetición a los usuarios.\r\n",
        "*   **Repositorios de archivos**: Como mencionamos anteriormente muchos juegos guarda repeticiones de las partidas, pero no necesariamente en formatos de video, sino en formatos especiales que guardan cada acción de una partida y pueden reproducirse de nuevo con el motor del juego para analizar distintos momentos o ver como evoluciona la partida desde uno o múltiples ángulos. Estos archivos pueden ser tratados o simplemente guardarse en crudo en repositorios.\r\n",
        "\r\n",
        "<p align=\"center\">\r\n",
        "<img src=\"https://blog.ehcgroup.io/wp-content/uploads/2019/08/What-is-an-API.png\" height =\"250\" width = \"400\" alt=API>\r\n",
        "</p>\r\n",
        "\r\n"
      ]
    },
    {
      "cell_type": "markdown",
      "metadata": {
        "id": "CyMfKyZ3HqHl"
      },
      "source": [
        "# Uso de los datos para crear visualizaciones y Dashboards\r\n",
        "\r\n",
        "Otra pregunta que puede surgir es: ¿Qué tipo de trabajo realizan los análistas de eSports? Para responder esta pregunta, se analizaron 22 ofertas para puestos de trabajos como analistas de eSports (Joseph Rubleske et al.). Los análisis revelaron que, mayormente, los trabajos implican dos amplias áreas de trabajo analítico:\r\n",
        "\r\n",
        "*   **Creación de atributos para visualizaciones y dashboards**: Un oferta de **Blizzard** describía sus necesidades como: \"_Contar historias con datos y visualizaciones_\".\r\n",
        "*   **Modelado para Machine Learning**: Construcción de modelos que permitan evaluar las fortalezas y debilidades de los oponentes, predecir el efecto de balanceo de personajes en el ratio de victoria de los equipos, recomendar objetos de acuerdo a la forma de jugar del rival, etc. \r\n",
        "\r\n",
        "<p align=\"center\">\r\n",
        "<img src=\"https://i.pinimg.com/originals/c9/2d/0c/c92d0c88656b0677c6bc69312769f854.png\" height =\"250\" width = \"400\" alt=API>\r\n",
        "\r\n",
        "</p>\r\n"
      ]
    },
    {
      "cell_type": "markdown",
      "metadata": {
        "id": "UIw4N2bcHxzO"
      },
      "source": [
        "# El acceso a la información sobre eSports\r\n",
        "\r\n",
        "Ya hemos hablado de las posibles fuentes de datos y que se puede hacer con ellos, pero para los usuarios más entusiastas el acceso a la información en crudo puede resultar complicado. Si bien no todos los desarrolladores de videojuegos están dispuestos a proporcionar información de sus juegos tan fácilmente, no todos los que la comparten a través de una API brindan una accesibilidad y herramientas fáciles de usar, como por ejemplo, lo hace Riot Games con su [API pública](https://developer.riotgames.com/) que brinda acceso a datos de todos sus juegos.\r\n",
        "\r\n",
        "En este punto intermedio entre los datos en crudo y las visualizaciones atractivas nos encontramos con el problema a tratar: El acceso a la información sobre eSports es como ir a pescar en mar abierto. Podemos encontrar muchas APIs que ofrecen información en crudo o muchas páginas web que nos ofrecen sus propios datos recolectados a cambio de un módico precio, otras tantas son más herméticas y se limitan a la visualización de sus propios datos. \r\n",
        "\r\n",
        "Muchos usuarios han puesto manos a la obra, mediante técnicas como _web scrapping_ o elaboración propia han creado y compartido [Datasets sobre eSports](https://www.kaggle.com/search?q=eSports+in%3Adatasets ) que han sido de mucha utilidad para otros usuarios, sin embargo, la cantidad de DataSets que encontramos es limitada.\r\n",
        "\r\n",
        "Esto es muy interesante ya que hay muchos usuarios interesados [[1]](https://www.reddit.com/r/esports/comments/74opfv/is_there_anywhere_i_can_find_a_dataset_in_regards/) [[2]](https://www.reddit.com/r/datasets/comments/4glujg/requestdatasets_about_the_esports_industry/) en DataSets. Ya sea para fines de análisis o inclusive académicos, se ven limitados por la poca disposición de Datasets listos para ser explotados. \r\n",
        "\r\n",
        "Pareciera que el acceso a esta información, quizás a causa de la _juventud_ de los eSports, se encuentra limitado al ecosistema que busca explotar estos datos\r\n",
        "para aumentar el alcance e ingresos generados. "
      ]
    },
    {
      "cell_type": "markdown",
      "metadata": {
        "id": "cajuJJxuHy6S"
      },
      "source": [
        "# Antecedentes\r\n",
        "\r\n",
        "[Leonardo Mauro](https://github.com/leomaurodesenv/) es un usuario de github y Data Scientist profesional que a través de la página [project-awesome](https://project-awesome.org/) nos comparte una lista de [_Datasets asombrosos_](https://project-awesome.org/leomaurodesenv/game-datasets) para cualquiera interesado en trabajar con **Inteligencia artificial** o **Data Mining** aplicado a videojuegos.\r\n",
        "\r\n",
        "<p align=\"center\">\r\n",
        "<img src=\"https://project-awesome.org/images/logo.png\" height =\"250\" width = \"400\" alt=API>\r\n",
        "</p>\r\n",
        "\r\n",
        "En esta página encontramos una gran colección de APIs, páginas web y DataSets, un trabajo _asombroso_ que debe ser reconocido. Es importante observar que no todos los Datasets están enfocados en videojuegos catalogados como eSports, y aquellos que los son, cuentan con pocos DataSets. \r\n",
        "\r\n"
      ]
    },
    {
      "cell_type": "markdown",
      "metadata": {
        "id": "pAIWu4gOHzi3"
      },
      "source": [
        "# Propuesta: Aportar un Dataset para el análisis de eSports\r\n",
        "\r\n",
        "Después de haber investigado sobre el panorama actual de los eSports, la importancia de estos y de la información que generan, así como las limitaciones con las que nos encontramos hoy en día para acceder a ella. Nos encontramos especialmente motivados para entrar al mar de información y tratar de aportar un granito de arena, un Dataset, que pueda ser de utilidad para todos los entusiastas de los eSports que estén interesados en su análisis."
      ]
    },
    {
      "cell_type": "markdown",
      "metadata": {
        "id": "D-Ix7MsYICla"
      },
      "source": [
        "# 2.- Planteamiento de preguntas\r\n",
        "\r\n",
        "Durante el módulo pasado nuestro [proyecto](https://github.com/LKXoro/BEDU-Rstudio-postworks/tree/main/Proyecto) estuvo relacionado con los eSports, de manera que pudimos responder algunas de las dudas que nos surgieron al inspeccionar [Datasets](https://github.com/LKXoro/BEDU-Rstudio-postworks/blob/main/Proyecto/Proyecto1/Readme.md) que obtuvimos en kaggle. La mayoría de estos se enfocan sustancialmente en dos aspectos de los eSports: **Gananacias y ganadores de torneos** (este último generalmente asociado a equipos profesionales).\r\n",
        "\r\n",
        "También hicimos uso de un Dataset con información de los _streamers_ de Twitch que nos permitió conocer información como el promedio de visitas o número de seguidores de los canales oficiales de algunos eSports.\r\n",
        "\r\n",
        "Nuestro proyecto anterior estaba enfocado a la evolución de los eSports en el tiempo, la escena actual y una posible predicción. Ahora que tenemos la oportunidad de revisar este tema nuevamente, buscamos concentrarnos otros aspectos como:\r\n",
        "\r\n",
        "* eSports que se transmiten por internet\r\n",
        "* El consumo de contenido relacionado a eSports\r\n",
        "* Duración de las competencias\r\n",
        "* Estado de salud de un videojuego considerado eSport\r\n",
        "\r\n",
        "Es decir, queremos hablar de los juegos que hoy en día son eSports y responder preguntas como:\r\n",
        "\r\n",
        "* Las partidas de eSports, ¿son enfrentamientos cortos o largos?\r\n",
        "* ¿Cuántos torneos se han jugado de un juego en específico?\r\n",
        "* ¿Cuántos torneos se han transmitido para que los fanáticos los vean?\r\n",
        "* ¿Cuánto contenido relacionado a eSports consumen los fánaticos?\r\n",
        "* ¿Los juegos que hoy en día son eSports los seguirán siendo en el futuro?\r\n",
        "\r\n",
        "Estas y muchas otras preguntas pueden surgir si miramos el panorama actual, no desde una perspectiva de producto, sino de consumo. Como se muestra en este [artículo](https://contenidos.news/mediciones/nota/twitch-alcanzo-picos-de-73-millones-de-horas-de-consumo-diario-de-contenido)  latinoamérica es uno de los principales consumidores de contenido online relacionado a eSports a nivel mundial, una prueba más de la estrecha relación entre el creciente alcance de los eSports y el papel de los fanáticos en su popularidad.  \r\n",
        "\r\n",
        "<p align=\"center\">\r\n",
        "<img src=\"https://contenidos.news/online/foto_189.jpg\" height =\"250\" width = \"400\" alt=eSports>\r\n",
        "</p>\r\n",
        "\r\n",
        "Para poder responder a las preguntas realizadas, será necesario un dataset que nos brinde información de las competencias y torneos que contenga datos de tiempo, es posible que debamos buscar nuevas fuentes de información o atacar los Datasets que ya utilizamos desde otro ángulo. Como mencionamos en la identificación del problema, una de las mejores fuentes de datos son las APIs, así que son un buen punto de partida para encontrar la información que necesitamos y de ser necesaria adecuadala a nuestros fines.\r\n",
        "\r\n"
      ]
    },
    {
      "cell_type": "markdown",
      "metadata": {
        "id": "INm8FOnzIh5w"
      },
      "source": [
        "# 3.- Colección de datos\r\n",
        "## PandaScore: Una API de eSports\r\n",
        "<p align=\"center\">\r\n",
        "<img src=\"https://pandascore.co/assets/logo_for_twitter-0c1b471a256ce7364533695930bbe657ed3c8b2189f7ea07e60a40b614ebcf4e.png\" alt=PandaScore_logo>\r\n",
        "</p>\r\n",
        "\r\n",
        "[PandaScore](https://pandascore.co/) provee estadísticas en tiempo real sobre eSports. Para lograr esto, recolecta información de enfrentamientos en competencias utilizando inteligencia artificial. \r\n",
        "\r\n",
        "Los datos que ofrece están disponibles en dos formas: \r\n",
        "\r\n",
        "*   Una [API REST](https://www.idento.es/blog/desarrollo-web/que-es-una-api-rest/) donde podemos encontrar toda la cobertura del calendario de eSports, así como estadísticas detallas antes y después de los enfrentamientos.\r\n",
        "*   Una LIVE API: que nos brinda entrega un amplio rango de estadísticas en tiempo real mientras los enfrentamientos se llevan a cabo.\r\n",
        "\r\n",
        "PandaScore ofrece distintos planes de pago, cada uno con mayor accesibilidad. El plan gratuito incluye acceso a la API REST donde podemos encontrar datos sobre los personajes de los juegos, calendarización de los enfrentamientos y datos sobre torneos, equipos y jugadores. Finalmente, es importante tener en cuenta que el plan gratuito permite realizar hasta 1000 peticiones por hora y podemos acceder a información sobre los siguientes juegos:\r\n",
        "\r\n",
        "*   League of legends\r\n",
        "*   CS:GO\r\n",
        "*   Dota 2\r\n",
        "*   Overwatch\r\n",
        "\r\n",
        "\r\n"
      ]
    },
    {
      "cell_type": "markdown",
      "metadata": {
        "id": "zXFvTxdRI3tt"
      },
      "source": [
        "# ¿Por qué seleccionamos PandaScore?\r\n",
        "\r\n",
        "Seleccionamos PandaScore después de observar el contenido y tipo de datos que nos ofrece. La información que recibimos a más alto nivel es información de los distintos torneos que se han llevado a cabo, dentro podemos encontrar información sobre las diferentes ligas y los enfrentamientos que se dieron. También encontramos especialmente atractivos los campos relacionados con las fechas de inicio y fin, tanto de torneos como de enfrentamientos, así como un campo dedicado a especificar si el torneo o enfrentamiento fue transmitido por internet, y de ser así, información con el URL del stream en diferentes idiomas.\r\n"
      ]
    },
    {
      "cell_type": "markdown",
      "metadata": {
        "id": "RL-xDjFfJFK8"
      },
      "source": [
        "# ¿Cómo podemos realizar peticiones de datos a PandaScore?\r\n",
        "\r\n",
        "Para lograr obtener los datos de PandaScore, primeramente debemos crear una cuenta de forma gratuita, que nos dará el acceso al plan básico. Una vez creada la cuenta se nos brindará un token o llave de acceso como la siguiente:\r\n",
        "\r\n",
        "\r\n",
        "\r\n",
        "```py\r\n",
        "token =  'V3U1fnnWozJi3bbhZfrxdiAmN4-XWnX_4g6i_6iauwwh7w-V8Ns'\r\n",
        "```\r\n"
      ]
    },
    {
      "cell_type": "markdown",
      "metadata": {
        "id": "oi-sVQmcJHU_"
      },
      "source": [
        "Para motivos de ejecución de nuestros códigos, y con la finalidad de que sea de utilidad para otros entusiastas del análisis de datos, de buena fé brindamos nuestro token de acceso para que, de ahora en adelante, podamos realizar las peticiones de datos a PandaScore.\r\n",
        "\r\n",
        "Ya que este módulo esta enfocado al lenguaje [python](https://www.python.org/), recurrimos al paquete [request](https://realpython.com/python-requests/), idóneo para hacer peticiones http en python, ofreciendo instrucciones sencillas para enfocarnos en interactuar con los servicios y consumir los datos en nuestras aplicaciones.\r\n",
        "\r\n",
        "<p align=\"center\">\r\n",
        "<img src=\"https://files.realpython.com/media/Python-Requests-Library-Tutorial_Watermarked.3c9dfdc7b014.jpg\" height = '300' alt=requests>\r\n",
        "</p>\r\n",
        "\r\n"
      ]
    },
    {
      "cell_type": "markdown",
      "metadata": {
        "id": "l-eeu8vGJP7a"
      },
      "source": [
        "## Formato de URL para peticiones a PandaScore\r\n",
        "\r\n",
        "Antes de utilizar propiamente _request_, explicaremos el formato de URL que utilizaremos para ello. Como lo indica la [documentación](https://developers.pandascore.co/docs/tutorials/request_conditions) propia de PandaScore, la URL generalmente tiene el siguiente formato:\r\n",
        "\r\n",
        "```py\r\n",
        "url = \"https://api.pandascore.co/[game]/[information]?page[number]=2&page[size]=50&token=[YOUR_TOKEN]\"\r\n",
        "```\r\n",
        "\r\n",
        "Los parámetros que podemos modificar son los siguientes:\r\n",
        "\r\n",
        "\r\n",
        "*   **[game]**: Dependiendo de la sintáxis de este parámetros se devuelve información de los diferentes juegos:\r\n",
        "  * League of legends: 'lol'\r\n",
        "  * Dota 2: 'dota2'\r\n",
        "  * CS:GO: 'csgo'\r\n",
        "  * Overwatch: 'overwatch'  \r\n",
        "*   **[information]**: Acceso a información de:\r\n",
        "  * Ligas: 'leagues' Son los eventos de mayor nivel, no tienen como tal una fecha y representan una competencia. Una liga se compone de varias _series_. Por ejemplo en deportes sería equivalente a la copa mundial de fútbol.\r\n",
        "  * Series: 'series' Es una instancia de una liga, desde la fase de grupos hasta los _playoff_ finales. Ejemplo: Copa mundial de fútbol 2018\r\n",
        "  * Torneos: 'tournaments' Los torneos son la manera en que los enfrentamientos son divividos en grupos para cada fase de la serie, habrá un torneo por grupo incluyendo la final. Ejemplo: Copa mundial de fútbol 2018 - Grupo C\r\n",
        "  * Enfrentamientos: 'matches' Finalmente tenemos los enfrentamientos, entre dos oponentes y compuestos de varias partidas. Algunos enfrentamientos pueden reflejarse como \"TBD vs TBD\" cuando se conoce la fecha del enfrentamiento pero no al oponente del equipo. Ejemplo: Copa mundial de fútbol 2018 - Grupo C - Dinamarca vs Australia (1 juego)\r\n",
        "  * Equipos: 'teams' Los nombres de los equipos que participan en estos eventos.\r\n",
        "*   **Page[size]**: Este parámetro indica el número de resultados que se nos debe entregar en cada petición, el número de resultados máximos es de 100.\r\n",
        "*   **Page[number]** Indica el número de página de la petición, entre menor sea el número de resultados, mayor será el número de páginas.\r\n",
        "*   **[YOUR_TOKEN]**: Este parámetro debe ser sustituido por nuestra clave de acceso, la cual se nos brinda al crear una cuenta en PandaScore\r\n",
        "\r\n",
        "Ahora bien, ya que conocemos la sintáxis adecuada para la URL, podemos llamar al paquete request y hacer uso de el:\r\n",
        "\r\n"
      ]
    },
    {
      "cell_type": "code",
      "metadata": {
        "colab": {
          "base_uri": "https://localhost:8080/"
        },
        "id": "7X5pziUMJox8",
        "outputId": "611a3789-b059-4ff2-bd2d-6a33b3684d43"
      },
      "source": [
        "import requests #importamos el paquete requests\r\n",
        "#Parámetros deseados\r\n",
        "juego = 'lol' #Queremos información de League of Legends\r\n",
        "información = 'tournaments' #Los datos deben corresponder a torneos\r\n",
        "registros = 100  #Queremos 100 registros por hoja\r\n",
        "token =  'V3U1fnnWozJi3bbhZfrxdiAmN4-XWnX_4g6i_6iauwwh7w-V8Ns'\r\n",
        "# Aprovecharemos las bondades de los f string para introducir los parámetros\r\n",
        "url = f\"https://api.pandascore.co/{juego}/{información}?page[size]={registros}&token=V3U1fnnWozJi3bbhZfrxdiAmN4-XWnX_4g6i_6iauwwh7w-V8Ns\"\r\n",
        "#Por defecto si page[number] no es indicado, se nos devuelve la primer página\r\n",
        "response = requests.get(url) #Realizamos la petición de información con el método get()\r\n",
        "response.status_code #Verificamos el resultado de nuestra solicitud"
      ],
      "execution_count": 1,
      "outputs": [
        {
          "output_type": "execute_result",
          "data": {
            "text/plain": [
              "200"
            ]
          },
          "metadata": {
            "tags": []
          },
          "execution_count": 1
        }
      ]
    },
    {
      "cell_type": "markdown",
      "metadata": {
        "id": "essSfA3bJSWF"
      },
      "source": [
        "Como podemos observar, obtuvimos una código de respuesta 200, ¡lo que indica que todo salió bien! la documentación también señala que dentro de la respuesta que obtuvimos podemos encontrar _headers_ con información útil como el total de registros que es posible obtener o el número de página en el que nos encontramos, a continuación de muestran los header de nuestra petición:"
      ]
    },
    {
      "cell_type": "code",
      "metadata": {
        "colab": {
          "base_uri": "https://localhost:8080/"
        },
        "id": "9zbxUxSPKBms",
        "outputId": "deb2d6bb-b859-4fc2-9db6-65376a5759d0"
      },
      "source": [
        "print(response.headers['X-Page']) # Número de página\r\n",
        "print(response.headers['X-Total']) # Total de registros\r\n",
        "print(response.headers['X-Per-Page']) # Registros por página"
      ],
      "execution_count": 2,
      "outputs": [
        {
          "output_type": "stream",
          "text": [
            "1\n",
            "824\n",
            "100\n"
          ],
          "name": "stdout"
        }
      ]
    },
    {
      "cell_type": "markdown",
      "metadata": {
        "id": "FGPbB8rCKQ5F"
      },
      "source": [
        "Ahora para observar los datos que se nos devolvieron nos apoyaremos en el método json() y el paquete pandas, la información en _crudo_ que recibimos luce más o menos así:"
      ]
    },
    {
      "cell_type": "code",
      "metadata": {
        "colab": {
          "base_uri": "https://localhost:8080/"
        },
        "id": "Z0Y8wRjrKSJC",
        "outputId": "bb09382a-bf3e-4e33-d661-360199988a06"
      },
      "source": [
        "data = response.json()\r\n",
        "data[0] # El método json devuelve una lista de diccionarios, entonces llamamos al primer elemento para ver su contenido\r\n",
        "#Ya que la información que solicitamos es sbre torneos, la información devuelta es sobre el torneo más reciente"
      ],
      "execution_count": 3,
      "outputs": [
        {
          "output_type": "execute_result",
          "data": {
            "text/plain": [
              "{'begin_at': '2021-03-09T17:00:00Z',\n",
              " 'end_at': None,\n",
              " 'id': 5649,\n",
              " 'league': {'id': 4302,\n",
              "  'image_url': 'https://cdn.pandascore.co/images/league/image/4302/220px-Prime_Leaguelogo_square.png',\n",
              "  'modified_at': '2020-01-20T16:20:40Z',\n",
              "  'name': 'Prime League Pro Division',\n",
              "  'slug': 'league-of-legends-prime-league-pro-division',\n",
              "  'url': 'https://www.primeleague.gg/de/start'},\n",
              " 'league_id': 4302,\n",
              " 'live_supported': False,\n",
              " 'matches': [{'begin_at': '2021-03-09T17:00:00Z',\n",
              "   'detailed_stats': True,\n",
              "   'draw': False,\n",
              "   'end_at': None,\n",
              "   'forfeit': False,\n",
              "   'game_advantage': None,\n",
              "   'id': 586003,\n",
              "   'live': {'opens_at': None, 'supported': False, 'url': None},\n",
              "   'live_embed_url': None,\n",
              "   'match_type': 'best_of',\n",
              "   'modified_at': '2021-03-07T20:17:44Z',\n",
              "   'name': 'Round 1 Match 1: GL vs USE',\n",
              "   'number_of_games': 3,\n",
              "   'official_stream_url': None,\n",
              "   'original_scheduled_at': '2021-03-09T17:00:00Z',\n",
              "   'rescheduled': False,\n",
              "   'scheduled_at': '2021-03-09T17:00:00Z',\n",
              "   'slug': 'team-gamerlegion-vs-unicorns-of-love-sexy-edition-2021-03-09',\n",
              "   'status': 'not_started',\n",
              "   'streams': {'english': {'embed_url': None, 'raw_url': None},\n",
              "    'official': {'embed_url': None, 'raw_url': None},\n",
              "    'russian': {'embed_url': None, 'raw_url': None}},\n",
              "   'tournament_id': 5649,\n",
              "   'winner_id': None},\n",
              "  {'begin_at': '2021-03-09T20:00:00Z',\n",
              "   'detailed_stats': True,\n",
              "   'draw': False,\n",
              "   'end_at': None,\n",
              "   'forfeit': False,\n",
              "   'game_advantage': None,\n",
              "   'id': 586004,\n",
              "   'live': {'opens_at': None, 'supported': False, 'url': None},\n",
              "   'live_embed_url': None,\n",
              "   'match_type': 'best_of',\n",
              "   'modified_at': '2021-03-07T20:18:12Z',\n",
              "   'name': 'Round 1 Match 2: SKP vs S04.E',\n",
              "   'number_of_games': 3,\n",
              "   'official_stream_url': None,\n",
              "   'original_scheduled_at': '2021-03-09T20:00:00Z',\n",
              "   'rescheduled': False,\n",
              "   'scheduled_at': '2021-03-09T20:00:00Z',\n",
              "   'slug': 'sk-gaming-prime-vs-fc-schalke-04-evolution-2021-03-09',\n",
              "   'status': 'not_started',\n",
              "   'streams': {'english': {'embed_url': None, 'raw_url': None},\n",
              "    'official': {'embed_url': None, 'raw_url': None},\n",
              "    'russian': {'embed_url': None, 'raw_url': None}},\n",
              "   'tournament_id': 5649,\n",
              "   'winner_id': None},\n",
              "  {'begin_at': '2021-03-10T17:00:00Z',\n",
              "   'detailed_stats': True,\n",
              "   'draw': False,\n",
              "   'end_at': None,\n",
              "   'forfeit': False,\n",
              "   'game_advantage': None,\n",
              "   'id': 586005,\n",
              "   'live': {'opens_at': None, 'supported': False, 'url': None},\n",
              "   'live_embed_url': None,\n",
              "   'match_type': 'best_of',\n",
              "   'modified_at': '2021-03-07T20:19:33Z',\n",
              "   'name': 'Round 2 Match 1: TBD vs TBD',\n",
              "   'number_of_games': 3,\n",
              "   'official_stream_url': None,\n",
              "   'original_scheduled_at': '2021-03-10T17:00:00Z',\n",
              "   'rescheduled': False,\n",
              "   'scheduled_at': '2021-03-10T17:00:00Z',\n",
              "   'slug': '2021-03-10-7412caf0-3f45-40e1-b763-80d005a04162',\n",
              "   'status': 'not_started',\n",
              "   'streams': {'english': {'embed_url': None, 'raw_url': None},\n",
              "    'official': {'embed_url': None, 'raw_url': None},\n",
              "    'russian': {'embed_url': None, 'raw_url': None}},\n",
              "   'tournament_id': 5649,\n",
              "   'winner_id': None},\n",
              "  {'begin_at': '2021-03-10T20:00:00Z',\n",
              "   'detailed_stats': True,\n",
              "   'draw': False,\n",
              "   'end_at': None,\n",
              "   'forfeit': False,\n",
              "   'game_advantage': None,\n",
              "   'id': 586006,\n",
              "   'live': {'opens_at': None, 'supported': False, 'url': None},\n",
              "   'live_embed_url': None,\n",
              "   'match_type': 'best_of',\n",
              "   'modified_at': '2021-03-07T20:19:53Z',\n",
              "   'name': 'Round 2 Match 2: MOUZ vs BIG',\n",
              "   'number_of_games': 3,\n",
              "   'official_stream_url': None,\n",
              "   'original_scheduled_at': '2021-03-10T20:00:00Z',\n",
              "   'rescheduled': False,\n",
              "   'scheduled_at': '2021-03-10T20:00:00Z',\n",
              "   'slug': 'mousesports-vs-berlin-international-gaming-2021-03-10',\n",
              "   'status': 'not_started',\n",
              "   'streams': {'english': {'embed_url': None, 'raw_url': None},\n",
              "    'official': {'embed_url': None, 'raw_url': None},\n",
              "    'russian': {'embed_url': None, 'raw_url': None}},\n",
              "   'tournament_id': 5649,\n",
              "   'winner_id': None},\n",
              "  {'begin_at': '2021-03-11T17:00:00Z',\n",
              "   'detailed_stats': True,\n",
              "   'draw': False,\n",
              "   'end_at': None,\n",
              "   'forfeit': False,\n",
              "   'game_advantage': None,\n",
              "   'id': 586007,\n",
              "   'live': {'opens_at': None, 'supported': False, 'url': None},\n",
              "   'live_embed_url': None,\n",
              "   'match_type': 'best_of',\n",
              "   'modified_at': '2021-03-07T20:20:32Z',\n",
              "   'name': 'Round 3: TBD vs TBD',\n",
              "   'number_of_games': 5,\n",
              "   'official_stream_url': None,\n",
              "   'original_scheduled_at': '2021-03-11T17:00:00Z',\n",
              "   'rescheduled': False,\n",
              "   'scheduled_at': '2021-03-11T17:00:00Z',\n",
              "   'slug': '2021-03-11-c3b8c131-fac1-4b71-b339-f1d0387914a6',\n",
              "   'status': 'not_started',\n",
              "   'streams': {'english': {'embed_url': None, 'raw_url': None},\n",
              "    'official': {'embed_url': None, 'raw_url': None},\n",
              "    'russian': {'embed_url': None, 'raw_url': None}},\n",
              "   'tournament_id': 5649,\n",
              "   'winner_id': None}],\n",
              " 'modified_at': '2021-03-08T14:50:51Z',\n",
              " 'name': 'Playoffs',\n",
              " 'prizepool': None,\n",
              " 'serie': {'begin_at': '2021-01-19T17:00:00Z',\n",
              "  'description': None,\n",
              "  'end_at': None,\n",
              "  'full_name': 'Spring 2021',\n",
              "  'id': 3254,\n",
              "  'league_id': 4302,\n",
              "  'modified_at': '2021-01-12T08:59:18Z',\n",
              "  'name': '',\n",
              "  'season': 'Spring',\n",
              "  'slug': 'league-of-legends-prime-league-pro-division-spring-2021',\n",
              "  'tier': 'c',\n",
              "  'winner_id': None,\n",
              "  'winner_type': None,\n",
              "  'year': 2021},\n",
              " 'serie_id': 3254,\n",
              " 'slug': 'league-of-legends-prime-league-pro-division-spring-2021-playoffs',\n",
              " 'teams': [{'acronym': 'MOUZ',\n",
              "   'id': 16,\n",
              "   'image_url': 'https://cdn.pandascore.co/images/team/image/16/mousesports-29p77f8y.png',\n",
              "   'location': 'DE',\n",
              "   'modified_at': '2021-03-08T14:50:46Z',\n",
              "   'name': 'mousesports',\n",
              "   'slug': 'mousesports'},\n",
              "  {'acronym': 'SKP',\n",
              "   'id': 247,\n",
              "   'image_url': 'https://cdn.pandascore.co/images/team/image/247/SK_Gaming_Primelogo_square.png',\n",
              "   'location': 'DE',\n",
              "   'modified_at': '2021-03-08T14:50:49Z',\n",
              "   'name': 'SK Gaming Prime',\n",
              "   'slug': 'sk-gaming-prime'},\n",
              "  {'acronym': 'BIG',\n",
              "   'id': 125905,\n",
              "   'image_url': 'https://cdn.pandascore.co/images/team/image/125905/big-league-of-legends.png',\n",
              "   'location': 'DE',\n",
              "   'modified_at': '2021-03-08T14:50:47Z',\n",
              "   'name': 'Berlin International Gaming',\n",
              "   'slug': 'big-league-of-legends'},\n",
              "  {'acronym': 'S04.E',\n",
              "   'id': 126567,\n",
              "   'image_url': 'https://cdn.pandascore.co/images/team/image/126567/220px_fc_schalke_04_esportslogo_square.png',\n",
              "   'location': 'DE',\n",
              "   'modified_at': '2021-03-08T14:50:48Z',\n",
              "   'name': 'FC Schalke 04 Evolution',\n",
              "   'slug': 'fc-schalke-04-evolution'},\n",
              "  {'acronym': 'GL',\n",
              "   'id': 126830,\n",
              "   'image_url': 'https://cdn.pandascore.co/images/team/image/126830/220px_team_gamer_legionlogo_square.png',\n",
              "   'location': 'DE',\n",
              "   'modified_at': '2021-03-08T14:50:51Z',\n",
              "   'name': 'Team GamerLegion',\n",
              "   'slug': 'team-gamerlegion-league-of-legends'},\n",
              "  {'acronym': 'USE',\n",
              "   'id': 126832,\n",
              "   'image_url': 'https://cdn.pandascore.co/images/team/image/126832/220px_unicorns_of_lovelogo_square.png',\n",
              "   'location': 'DE',\n",
              "   'modified_at': '2021-03-08T14:51:16Z',\n",
              "   'name': 'Unicorns Of Love Sexy Edition',\n",
              "   'slug': 'unicorns-of-love-sexy-edition'}],\n",
              " 'videogame': {'id': 1, 'name': 'LoL', 'slug': 'league-of-legends'},\n",
              " 'winner_id': None,\n",
              " 'winner_type': 'Team'}"
            ]
          },
          "metadata": {
            "tags": []
          },
          "execution_count": 3
        }
      ]
    },
    {
      "cell_type": "markdown",
      "metadata": {
        "id": "jbhNF-IRKYIl"
      },
      "source": [
        "¡oh rayos! esos son muchos campos, y más importante, tenemos listas dentro de los diccionarios. Antes de entrar en pánico intentemos ver como luce en un Dataframe de pandas:"
      ]
    },
    {
      "cell_type": "code",
      "metadata": {
        "colab": {
          "base_uri": "https://localhost:8080/",
          "height": 660
        },
        "id": "W8mg55d8KbGv",
        "outputId": "73c55596-0b73-44f5-9fa8-9cb1c5dd7ad8"
      },
      "source": [
        "import pandas as pd #importamos el paquete pandas\r\n",
        "df_torneos = pd.DataFrame.from_dict(data) #utilizamos el método Dataframe.from_dict() que es capaz de convertir listas de diccionarios a df\r\n",
        "df_torneos.head() #Observemos las primeras filas del df"
      ],
      "execution_count": 4,
      "outputs": [
        {
          "output_type": "execute_result",
          "data": {
            "text/html": [
              "<div>\n",
              "<style scoped>\n",
              "    .dataframe tbody tr th:only-of-type {\n",
              "        vertical-align: middle;\n",
              "    }\n",
              "\n",
              "    .dataframe tbody tr th {\n",
              "        vertical-align: top;\n",
              "    }\n",
              "\n",
              "    .dataframe thead th {\n",
              "        text-align: right;\n",
              "    }\n",
              "</style>\n",
              "<table border=\"1\" class=\"dataframe\">\n",
              "  <thead>\n",
              "    <tr style=\"text-align: right;\">\n",
              "      <th></th>\n",
              "      <th>begin_at</th>\n",
              "      <th>end_at</th>\n",
              "      <th>id</th>\n",
              "      <th>league</th>\n",
              "      <th>league_id</th>\n",
              "      <th>live_supported</th>\n",
              "      <th>matches</th>\n",
              "      <th>modified_at</th>\n",
              "      <th>name</th>\n",
              "      <th>prizepool</th>\n",
              "      <th>serie</th>\n",
              "      <th>serie_id</th>\n",
              "      <th>slug</th>\n",
              "      <th>teams</th>\n",
              "      <th>videogame</th>\n",
              "      <th>winner_id</th>\n",
              "      <th>winner_type</th>\n",
              "    </tr>\n",
              "  </thead>\n",
              "  <tbody>\n",
              "    <tr>\n",
              "      <th>0</th>\n",
              "      <td>2021-03-09T17:00:00Z</td>\n",
              "      <td>None</td>\n",
              "      <td>5649</td>\n",
              "      <td>{'id': 4302, 'image_url': 'https://cdn.pandasc...</td>\n",
              "      <td>4302</td>\n",
              "      <td>False</td>\n",
              "      <td>[{'begin_at': '2021-03-09T17:00:00Z', 'detaile...</td>\n",
              "      <td>2021-03-08T14:50:51Z</td>\n",
              "      <td>Playoffs</td>\n",
              "      <td>None</td>\n",
              "      <td>{'begin_at': '2021-01-19T17:00:00Z', 'descript...</td>\n",
              "      <td>3254</td>\n",
              "      <td>league-of-legends-prime-league-pro-division-sp...</td>\n",
              "      <td>[{'acronym': 'MOUZ', 'id': 16, 'image_url': 'h...</td>\n",
              "      <td>{'id': 1, 'name': 'LoL', 'slug': 'league-of-le...</td>\n",
              "      <td>NaN</td>\n",
              "      <td>Team</td>\n",
              "    </tr>\n",
              "    <tr>\n",
              "      <th>1</th>\n",
              "      <td>2021-03-09T16:30:00Z</td>\n",
              "      <td>None</td>\n",
              "      <td>5617</td>\n",
              "      <td>{'id': 4300, 'image_url': 'https://cdn.pandasc...</td>\n",
              "      <td>4300</td>\n",
              "      <td>False</td>\n",
              "      <td>[{'begin_at': '2021-03-09T16:30:00Z', 'detaile...</td>\n",
              "      <td>2021-03-04T07:03:57Z</td>\n",
              "      <td>Playoffs</td>\n",
              "      <td>None</td>\n",
              "      <td>{'begin_at': '2021-01-19T16:30:00Z', 'descript...</td>\n",
              "      <td>3267</td>\n",
              "      <td>league-of-legends-ultraliga-summer-2021-playoffs</td>\n",
              "      <td>[{'acronym': 'IHG', 'id': 2718, 'image_url': '...</td>\n",
              "      <td>{'id': 1, 'name': 'LoL', 'slug': 'league-of-le...</td>\n",
              "      <td>NaN</td>\n",
              "      <td>Team</td>\n",
              "    </tr>\n",
              "    <tr>\n",
              "      <th>2</th>\n",
              "      <td>2021-03-09T18:00:00Z</td>\n",
              "      <td>2021-03-23T23:00:00Z</td>\n",
              "      <td>5616</td>\n",
              "      <td>{'id': 4402, 'image_url': 'https://cdn.pandasc...</td>\n",
              "      <td>4402</td>\n",
              "      <td>False</td>\n",
              "      <td>[{'begin_at': '2021-03-09T18:00:00Z', 'detaile...</td>\n",
              "      <td>2021-03-08T15:07:25Z</td>\n",
              "      <td>Playoffs</td>\n",
              "      <td>None</td>\n",
              "      <td>{'begin_at': '2021-01-12T18:00:00Z', 'descript...</td>\n",
              "      <td>3249</td>\n",
              "      <td>league-of-legends-dutch-league-spring-2021-pla...</td>\n",
              "      <td>[{'acronym': 'EZ', 'id': 3343, 'image_url': 'h...</td>\n",
              "      <td>{'id': 1, 'name': 'LoL', 'slug': 'league-of-le...</td>\n",
              "      <td>NaN</td>\n",
              "      <td>Team</td>\n",
              "    </tr>\n",
              "    <tr>\n",
              "      <th>3</th>\n",
              "      <td>2021-03-29T08:00:00Z</td>\n",
              "      <td>2021-04-09T14:00:00Z</td>\n",
              "      <td>5615</td>\n",
              "      <td>{'id': 4142, 'image_url': 'https://cdn.pandasc...</td>\n",
              "      <td>4142</td>\n",
              "      <td>False</td>\n",
              "      <td>[{'begin_at': '2021-03-29T08:00:00Z', 'detaile...</td>\n",
              "      <td>2021-03-03T11:01:03Z</td>\n",
              "      <td>Playoffs</td>\n",
              "      <td>None</td>\n",
              "      <td>{'begin_at': '2021-01-18T08:00:00Z', 'descript...</td>\n",
              "      <td>3259</td>\n",
              "      <td>league-of-legends-challenger-korea-lck-cl-spri...</td>\n",
              "      <td>[]</td>\n",
              "      <td>{'id': 1, 'name': 'LoL', 'slug': 'league-of-le...</td>\n",
              "      <td>NaN</td>\n",
              "      <td>Team</td>\n",
              "    </tr>\n",
              "    <tr>\n",
              "      <th>4</th>\n",
              "      <td>2021-03-27T16:00:00Z</td>\n",
              "      <td>2021-04-18T21:00:00Z</td>\n",
              "      <td>5614</td>\n",
              "      <td>{'id': 302, 'image_url': 'https://cdn.pandasco...</td>\n",
              "      <td>302</td>\n",
              "      <td>True</td>\n",
              "      <td>[{'begin_at': '2021-03-27T16:00:00Z', 'detaile...</td>\n",
              "      <td>2021-03-04T08:53:53Z</td>\n",
              "      <td>Playoffs</td>\n",
              "      <td>None</td>\n",
              "      <td>{'begin_at': '2021-01-16T16:00:00Z', 'descript...</td>\n",
              "      <td>3240</td>\n",
              "      <td>league-of-legends-cblol-brazil-split-1-2021-pl...</td>\n",
              "      <td>[{'acronym': 'RCC', 'id': 161, 'image_url': 'h...</td>\n",
              "      <td>{'id': 1, 'name': 'LoL', 'slug': 'league-of-le...</td>\n",
              "      <td>NaN</td>\n",
              "      <td>Team</td>\n",
              "    </tr>\n",
              "  </tbody>\n",
              "</table>\n",
              "</div>"
            ],
            "text/plain": [
              "               begin_at                end_at  ...  winner_id winner_type\n",
              "0  2021-03-09T17:00:00Z                  None  ...        NaN        Team\n",
              "1  2021-03-09T16:30:00Z                  None  ...        NaN        Team\n",
              "2  2021-03-09T18:00:00Z  2021-03-23T23:00:00Z  ...        NaN        Team\n",
              "3  2021-03-29T08:00:00Z  2021-04-09T14:00:00Z  ...        NaN        Team\n",
              "4  2021-03-27T16:00:00Z  2021-04-18T21:00:00Z  ...        NaN        Team\n",
              "\n",
              "[5 rows x 17 columns]"
            ]
          },
          "metadata": {
            "tags": []
          },
          "execution_count": 4
        }
      ]
    },
    {
      "cell_type": "markdown",
      "metadata": {
        "id": "UE0k0GJVKe8D"
      },
      "source": [
        "Nos encontramos con campos bastante amigables como las fechas de inicio y término de los torneos, el id del torneo, un campo para saber si fue transmitido en vivo, última actualización del registro, nombre del torneo y _slug_ (creemos hace referencia al nombre promocional del torneo, tenemos también el tipo de ganador del torneo y su id.  \r\n",
        "\r\n",
        "Además, nos encontramos con cierta información en forma de listas dentro de campos, la cual es de difícil acceso y ciertamente algo confusa a la vista. Aunque quizás PandaScore ya nos haya brindado una solución a esto (uff).\r\n",
        "\r\n",
        "Intentemos entonces solicitar a PandaScore esa información:"
      ]
    },
    {
      "cell_type": "code",
      "metadata": {
        "colab": {
          "base_uri": "https://localhost:8080/"
        },
        "id": "8Wq2L139KlCz",
        "outputId": "a45bcfa3-eaaf-4c0b-dd5e-1146c3d6f2b0"
      },
      "source": [
        "información2 = 'leagues' #Cambiamos el tipo de información requerida\r\n",
        "\r\n",
        "url2 = f\"https://api.pandascore.co/{juego}/{información2}?page[size]={registros}&token=V3U1fnnWozJi3bbhZfrxdiAmN4-XWnX_4g6i_6iauwwh7w-V8Ns\"\r\n",
        "\r\n",
        "response2 = requests.get(url2) \r\n",
        "response.status_code "
      ],
      "execution_count": 5,
      "outputs": [
        {
          "output_type": "execute_result",
          "data": {
            "text/plain": [
              "200"
            ]
          },
          "metadata": {
            "tags": []
          },
          "execution_count": 5
        }
      ]
    },
    {
      "cell_type": "markdown",
      "metadata": {
        "id": "45N6G7FjKiiF"
      },
      "source": [
        "PandaScore ha respondido con un código 200, veamos que nos devolvió:"
      ]
    },
    {
      "cell_type": "code",
      "metadata": {
        "colab": {
          "base_uri": "https://localhost:8080/"
        },
        "id": "nk6OPNivKtgP",
        "outputId": "572184c8-ef02-4326-da92-53c2eb2205a6"
      },
      "source": [
        "print(response2.headers['X-Page']) # Número de página\r\n",
        "print(response2.headers['X-Total']) # Total de registros\r\n",
        "print(response2.headers['X-Per-Page']) # Registros por página"
      ],
      "execution_count": 6,
      "outputs": [
        {
          "output_type": "stream",
          "text": [
            "1\n",
            "67\n",
            "100\n"
          ],
          "name": "stdout"
        }
      ]
    },
    {
      "cell_type": "markdown",
      "metadata": {
        "id": "8oByQWA1KxdS"
      },
      "source": [
        "Tenemos en nuestras manos la primer página, y aparentemente la única al haber solicitado 100 registros y tener en total 67. Veamos el primer elemento:"
      ]
    },
    {
      "cell_type": "code",
      "metadata": {
        "colab": {
          "base_uri": "https://localhost:8080/"
        },
        "id": "qqXgv4UWKzyz",
        "outputId": "a43c0234-a2dd-445c-bfd1-ba9730c0e257"
      },
      "source": [
        "data2 = response2.json()\r\n",
        "data2[0] "
      ],
      "execution_count": 7,
      "outputs": [
        {
          "output_type": "execute_result",
          "data": {
            "text/plain": [
              "{'id': 4539,\n",
              " 'image_url': 'https://cdn.pandascore.co/images/league/image/4539/LCO_logo.png',\n",
              " 'modified_at': '2021-02-18T10:32:45Z',\n",
              " 'name': 'LCO',\n",
              " 'series': [{'begin_at': '2021-02-23T07:00:00Z',\n",
              "   'description': None,\n",
              "   'end_at': '2021-04-09T22:00:00Z',\n",
              "   'full_name': 'Split 1 2021',\n",
              "   'id': 3361,\n",
              "   'league_id': 4539,\n",
              "   'modified_at': '2021-02-18T11:40:54Z',\n",
              "   'name': 'Split 1',\n",
              "   'season': None,\n",
              "   'slug': 'league-of-legends-lco-split-1-2021',\n",
              "   'tier': 'c',\n",
              "   'winner_id': None,\n",
              "   'winner_type': None,\n",
              "   'year': 2021}],\n",
              " 'slug': 'league-of-legends-lco',\n",
              " 'url': 'https://lco.gg/',\n",
              " 'videogame': {'current_version': '11.5.1',\n",
              "  'id': 1,\n",
              "  'name': 'LoL',\n",
              "  'slug': 'league-of-legends'}}"
            ]
          },
          "metadata": {
            "tags": []
          },
          "execution_count": 7
        }
      ]
    },
    {
      "cell_type": "markdown",
      "metadata": {
        "id": "_nIa7999K3yK"
      },
      "source": [
        "Tenemos un diccionario con menos campos, exploremos más a fondo con el dataframe:"
      ]
    },
    {
      "cell_type": "code",
      "metadata": {
        "colab": {
          "base_uri": "https://localhost:8080/",
          "height": 449
        },
        "id": "WnLDrY9CK6hx",
        "outputId": "05c217e1-24d0-4721-e3c7-a6e28d99ed33"
      },
      "source": [
        "df_ligas = pd.DataFrame.from_dict(data2) #utilizamos el método Dataframe.from_dict() que es capaz de convertir listas de diccionarios a df\r\n",
        "df_ligas.head() #Observemos las primeras filas del df"
      ],
      "execution_count": 8,
      "outputs": [
        {
          "output_type": "execute_result",
          "data": {
            "text/html": [
              "<div>\n",
              "<style scoped>\n",
              "    .dataframe tbody tr th:only-of-type {\n",
              "        vertical-align: middle;\n",
              "    }\n",
              "\n",
              "    .dataframe tbody tr th {\n",
              "        vertical-align: top;\n",
              "    }\n",
              "\n",
              "    .dataframe thead th {\n",
              "        text-align: right;\n",
              "    }\n",
              "</style>\n",
              "<table border=\"1\" class=\"dataframe\">\n",
              "  <thead>\n",
              "    <tr style=\"text-align: right;\">\n",
              "      <th></th>\n",
              "      <th>id</th>\n",
              "      <th>image_url</th>\n",
              "      <th>modified_at</th>\n",
              "      <th>name</th>\n",
              "      <th>series</th>\n",
              "      <th>slug</th>\n",
              "      <th>url</th>\n",
              "      <th>videogame</th>\n",
              "    </tr>\n",
              "  </thead>\n",
              "  <tbody>\n",
              "    <tr>\n",
              "      <th>0</th>\n",
              "      <td>4539</td>\n",
              "      <td>https://cdn.pandascore.co/images/league/image/...</td>\n",
              "      <td>2021-02-18T10:32:45Z</td>\n",
              "      <td>LCO</td>\n",
              "      <td>[{'begin_at': '2021-02-23T07:00:00Z', 'descrip...</td>\n",
              "      <td>league-of-legends-lco</td>\n",
              "      <td>https://lco.gg/</td>\n",
              "      <td>{'current_version': '11.5.1', 'id': 1, 'name':...</td>\n",
              "    </tr>\n",
              "    <tr>\n",
              "      <th>1</th>\n",
              "      <td>4533</td>\n",
              "      <td>https://cdn.pandascore.co/images/league/image/...</td>\n",
              "      <td>2021-02-05T14:07:43Z</td>\n",
              "      <td>CBLOL Academy</td>\n",
              "      <td>[{'begin_at': '2021-01-19T19:00:00Z', 'descrip...</td>\n",
              "      <td>league-of-legends-cblol-academy</td>\n",
              "      <td>None</td>\n",
              "      <td>{'current_version': '11.5.1', 'id': 1, 'name':...</td>\n",
              "    </tr>\n",
              "    <tr>\n",
              "      <th>2</th>\n",
              "      <td>4483</td>\n",
              "      <td>https://cdn.pandascore.co/images/league/image/...</td>\n",
              "      <td>2020-10-23T11:26:58Z</td>\n",
              "      <td>Iberian Cup</td>\n",
              "      <td>[{'begin_at': '2020-10-09T22:00:00Z', 'descrip...</td>\n",
              "      <td>league-of-legends-iberian-cup</td>\n",
              "      <td>https://iberiancup.lvp.global/</td>\n",
              "      <td>{'current_version': '11.5.1', 'id': 1, 'name':...</td>\n",
              "    </tr>\n",
              "    <tr>\n",
              "      <th>3</th>\n",
              "      <td>4450</td>\n",
              "      <td>https://cdn.pandascore.co/images/league/image/...</td>\n",
              "      <td>2020-08-08T09:14:04Z</td>\n",
              "      <td>Baltic Masters</td>\n",
              "      <td>[{'begin_at': '2020-08-11T15:00:00Z', 'descrip...</td>\n",
              "      <td>league-of-legends-baltic-masters</td>\n",
              "      <td>None</td>\n",
              "      <td>{'current_version': '11.5.1', 'id': 1, 'name':...</td>\n",
              "    </tr>\n",
              "    <tr>\n",
              "      <th>4</th>\n",
              "      <td>4433</td>\n",
              "      <td>https://cdn.pandascore.co/images/league/image/...</td>\n",
              "      <td>2020-06-29T21:14:29Z</td>\n",
              "      <td>Hitpoint Masters</td>\n",
              "      <td>[{'begin_at': '2020-06-21T12:30:00Z', 'descrip...</td>\n",
              "      <td>league-of-legends-hitpoint-masters</td>\n",
              "      <td>https://hitpoint.cz/</td>\n",
              "      <td>{'current_version': '11.5.1', 'id': 1, 'name':...</td>\n",
              "    </tr>\n",
              "  </tbody>\n",
              "</table>\n",
              "</div>"
            ],
            "text/plain": [
              "     id  ...                                          videogame\n",
              "0  4539  ...  {'current_version': '11.5.1', 'id': 1, 'name':...\n",
              "1  4533  ...  {'current_version': '11.5.1', 'id': 1, 'name':...\n",
              "2  4483  ...  {'current_version': '11.5.1', 'id': 1, 'name':...\n",
              "3  4450  ...  {'current_version': '11.5.1', 'id': 1, 'name':...\n",
              "4  4433  ...  {'current_version': '11.5.1', 'id': 1, 'name':...\n",
              "\n",
              "[5 rows x 8 columns]"
            ]
          },
          "metadata": {
            "tags": []
          },
          "execution_count": 8
        }
      ]
    },
    {
      "cell_type": "markdown",
      "metadata": {
        "id": "o1FnSFYBK-FE"
      },
      "source": [
        "Inspeccionando un poco nos encontramos que los datos devueltos en una solicitud de _ligas_ es diferentes al campo _liga_ de los torneos, es bueno saber esto para evitar confusiones. Antes de pensar en las posibilidades, veamos las 3 solicitudes restantes que podemos observar:"
      ]
    },
    {
      "cell_type": "code",
      "metadata": {
        "colab": {
          "base_uri": "https://localhost:8080/"
        },
        "id": "P4ragbhnLCtn",
        "outputId": "de42fff8-36ea-4094-86eb-3cf316e79312"
      },
      "source": [
        "información3 = 'series' \r\n",
        "información4 = 'matches'\r\n",
        "información5 = 'teams'\r\n",
        "\r\n",
        "url3 = f\"https://api.pandascore.co/{juego}/{información3}?page[size]={registros}&token=V3U1fnnWozJi3bbhZfrxdiAmN4-XWnX_4g6i_6iauwwh7w-V8Ns\"\r\n",
        "url4 = f\"https://api.pandascore.co/{juego}/{información4}?page[size]={registros}&token=V3U1fnnWozJi3bbhZfrxdiAmN4-XWnX_4g6i_6iauwwh7w-V8Ns\"\r\n",
        "url5 = f\"https://api.pandascore.co/{juego}/{información5}?page[size]={registros}&token=V3U1fnnWozJi3bbhZfrxdiAmN4-XWnX_4g6i_6iauwwh7w-V8Ns\"\r\n",
        " \r\n",
        "response3 = requests.get(url3) \r\n",
        "response4 = requests.get(url4) \r\n",
        "response5 = requests.get(url5) \r\n",
        "\r\n",
        "print(response3.status_code)\r\n",
        "print(response4.status_code)\r\n",
        "print(response5.status_code)\r\n"
      ],
      "execution_count": 9,
      "outputs": [
        {
          "output_type": "stream",
          "text": [
            "200\n",
            "200\n",
            "200\n"
          ],
          "name": "stdout"
        }
      ]
    },
    {
      "cell_type": "markdown",
      "metadata": {
        "id": "OeCRR7m1LB8t"
      },
      "source": [
        "Parece que todo salió bien con las peticiones, veamos los dataframes:"
      ]
    },
    {
      "cell_type": "code",
      "metadata": {
        "id": "PpueotvoLJzV"
      },
      "source": [
        "data3 = response3.json()\r\n",
        "data4 = response4.json()\r\n",
        "data5 = response5.json()\r\n",
        "\r\n",
        "df_series = pd.DataFrame.from_dict(data3)\r\n",
        "df_enfrentamientos = pd.DataFrame.from_dict(data4)\r\n",
        "df_equipos = pd.DataFrame.from_dict(data5)"
      ],
      "execution_count": 10,
      "outputs": []
    },
    {
      "cell_type": "code",
      "metadata": {
        "colab": {
          "base_uri": "https://localhost:8080/",
          "height": 573
        },
        "id": "x56X5af8LMWN",
        "outputId": "2f6cd0a8-c18a-47fc-ed25-8a1b7f9dbf92"
      },
      "source": [
        "df_series.head()"
      ],
      "execution_count": 11,
      "outputs": [
        {
          "output_type": "execute_result",
          "data": {
            "text/html": [
              "<div>\n",
              "<style scoped>\n",
              "    .dataframe tbody tr th:only-of-type {\n",
              "        vertical-align: middle;\n",
              "    }\n",
              "\n",
              "    .dataframe tbody tr th {\n",
              "        vertical-align: top;\n",
              "    }\n",
              "\n",
              "    .dataframe thead th {\n",
              "        text-align: right;\n",
              "    }\n",
              "</style>\n",
              "<table border=\"1\" class=\"dataframe\">\n",
              "  <thead>\n",
              "    <tr style=\"text-align: right;\">\n",
              "      <th></th>\n",
              "      <th>begin_at</th>\n",
              "      <th>description</th>\n",
              "      <th>end_at</th>\n",
              "      <th>full_name</th>\n",
              "      <th>id</th>\n",
              "      <th>league</th>\n",
              "      <th>league_id</th>\n",
              "      <th>modified_at</th>\n",
              "      <th>name</th>\n",
              "      <th>season</th>\n",
              "      <th>slug</th>\n",
              "      <th>tier</th>\n",
              "      <th>tournaments</th>\n",
              "      <th>videogame</th>\n",
              "      <th>videogame_title</th>\n",
              "      <th>winner_id</th>\n",
              "      <th>winner_type</th>\n",
              "      <th>year</th>\n",
              "    </tr>\n",
              "  </thead>\n",
              "  <tbody>\n",
              "    <tr>\n",
              "      <th>0</th>\n",
              "      <td>2021-02-23T07:00:00Z</td>\n",
              "      <td>None</td>\n",
              "      <td>2021-04-09T22:00:00Z</td>\n",
              "      <td>Split 1 2021</td>\n",
              "      <td>3361</td>\n",
              "      <td>{'id': 4539, 'image_url': 'https://cdn.pandasc...</td>\n",
              "      <td>4539</td>\n",
              "      <td>2021-02-18T11:40:54Z</td>\n",
              "      <td>Split 1</td>\n",
              "      <td>None</td>\n",
              "      <td>league-of-legends-lco-split-1-2021</td>\n",
              "      <td>c</td>\n",
              "      <td>[{'begin_at': '2021-02-23T07:00:00Z', 'end_at'...</td>\n",
              "      <td>{'id': 1, 'name': 'LoL', 'slug': 'league-of-le...</td>\n",
              "      <td>None</td>\n",
              "      <td>NaN</td>\n",
              "      <td>None</td>\n",
              "      <td>2021</td>\n",
              "    </tr>\n",
              "    <tr>\n",
              "      <th>1</th>\n",
              "      <td>2021-01-25T18:00:00Z</td>\n",
              "      <td>None</td>\n",
              "      <td>None</td>\n",
              "      <td>Season 8 2021</td>\n",
              "      <td>3351</td>\n",
              "      <td>{'id': 4426, 'image_url': 'https://cdn.pandasc...</td>\n",
              "      <td>4426</td>\n",
              "      <td>2021-02-12T15:08:41Z</td>\n",
              "      <td>None</td>\n",
              "      <td>8</td>\n",
              "      <td>league-of-legends-ebl-8-2021</td>\n",
              "      <td>c</td>\n",
              "      <td>[{'begin_at': '2021-02-25T18:00:00Z', 'end_at'...</td>\n",
              "      <td>{'id': 1, 'name': 'LoL', 'slug': 'league-of-le...</td>\n",
              "      <td>None</td>\n",
              "      <td>NaN</td>\n",
              "      <td>None</td>\n",
              "      <td>2021</td>\n",
              "    </tr>\n",
              "    <tr>\n",
              "      <th>2</th>\n",
              "      <td>2021-02-13T13:00:00Z</td>\n",
              "      <td>None</td>\n",
              "      <td>None</td>\n",
              "      <td>Spring 2021</td>\n",
              "      <td>3349</td>\n",
              "      <td>{'id': 4004, 'image_url': 'https://cdn.pandasc...</td>\n",
              "      <td>4004</td>\n",
              "      <td>2021-02-11T18:53:16Z</td>\n",
              "      <td>None</td>\n",
              "      <td>Spring</td>\n",
              "      <td>league-of-legends-lcl-spring-2021</td>\n",
              "      <td>b</td>\n",
              "      <td>[{'begin_at': '2021-02-13T13:00:00Z', 'end_at'...</td>\n",
              "      <td>{'id': 1, 'name': 'LoL', 'slug': 'league-of-le...</td>\n",
              "      <td>None</td>\n",
              "      <td>NaN</td>\n",
              "      <td>None</td>\n",
              "      <td>2021</td>\n",
              "    </tr>\n",
              "    <tr>\n",
              "      <th>3</th>\n",
              "      <td>2021-02-19T08:00:00Z</td>\n",
              "      <td>None</td>\n",
              "      <td>None</td>\n",
              "      <td>Spring 2021</td>\n",
              "      <td>3337</td>\n",
              "      <td>{'id': 4288, 'image_url': 'https://cdn.pandasc...</td>\n",
              "      <td>4288</td>\n",
              "      <td>2021-02-08T09:40:12Z</td>\n",
              "      <td>None</td>\n",
              "      <td>Spring</td>\n",
              "      <td>league-of-legends-pcs-spring-2021</td>\n",
              "      <td>b</td>\n",
              "      <td>[{'begin_at': '2021-02-19T08:00:00Z', 'end_at'...</td>\n",
              "      <td>{'id': 1, 'name': 'LoL', 'slug': 'league-of-le...</td>\n",
              "      <td>None</td>\n",
              "      <td>NaN</td>\n",
              "      <td>None</td>\n",
              "      <td>2021</td>\n",
              "    </tr>\n",
              "    <tr>\n",
              "      <th>4</th>\n",
              "      <td>2021-01-19T19:00:00Z</td>\n",
              "      <td>None</td>\n",
              "      <td>2021-04-17T19:00:00Z</td>\n",
              "      <td>Split 1 2021</td>\n",
              "      <td>3334</td>\n",
              "      <td>{'id': 4533, 'image_url': 'https://cdn.pandasc...</td>\n",
              "      <td>4533</td>\n",
              "      <td>2021-02-17T15:14:31Z</td>\n",
              "      <td>None</td>\n",
              "      <td>Split 1</td>\n",
              "      <td>league-of-legends-cblol-academy-split-1-2021</td>\n",
              "      <td>d</td>\n",
              "      <td>[{'begin_at': '2021-01-19T19:00:00Z', 'end_at'...</td>\n",
              "      <td>{'id': 1, 'name': 'LoL', 'slug': 'league-of-le...</td>\n",
              "      <td>None</td>\n",
              "      <td>NaN</td>\n",
              "      <td>None</td>\n",
              "      <td>2021</td>\n",
              "    </tr>\n",
              "  </tbody>\n",
              "</table>\n",
              "</div>"
            ],
            "text/plain": [
              "               begin_at description  ... winner_type  year\n",
              "0  2021-02-23T07:00:00Z        None  ...        None  2021\n",
              "1  2021-01-25T18:00:00Z        None  ...        None  2021\n",
              "2  2021-02-13T13:00:00Z        None  ...        None  2021\n",
              "3  2021-02-19T08:00:00Z        None  ...        None  2021\n",
              "4  2021-01-19T19:00:00Z        None  ...        None  2021\n",
              "\n",
              "[5 rows x 18 columns]"
            ]
          },
          "metadata": {
            "tags": []
          },
          "execution_count": 11
        }
      ]
    },
    {
      "cell_type": "code",
      "metadata": {
        "colab": {
          "base_uri": "https://localhost:8080/",
          "height": 695
        },
        "id": "IAbKJymJLRCC",
        "outputId": "7f543b83-cd46-4fb8-ecf7-c5f2bf035164"
      },
      "source": [
        "df_enfrentamientos.head()"
      ],
      "execution_count": 12,
      "outputs": [
        {
          "output_type": "execute_result",
          "data": {
            "text/html": [
              "<div>\n",
              "<style scoped>\n",
              "    .dataframe tbody tr th:only-of-type {\n",
              "        vertical-align: middle;\n",
              "    }\n",
              "\n",
              "    .dataframe tbody tr th {\n",
              "        vertical-align: top;\n",
              "    }\n",
              "\n",
              "    .dataframe thead th {\n",
              "        text-align: right;\n",
              "    }\n",
              "</style>\n",
              "<table border=\"1\" class=\"dataframe\">\n",
              "  <thead>\n",
              "    <tr style=\"text-align: right;\">\n",
              "      <th></th>\n",
              "      <th>name</th>\n",
              "      <th>official_stream_url</th>\n",
              "      <th>end_at</th>\n",
              "      <th>draw</th>\n",
              "      <th>league</th>\n",
              "      <th>league_id</th>\n",
              "      <th>detailed_stats</th>\n",
              "      <th>live_embed_url</th>\n",
              "      <th>tournament_id</th>\n",
              "      <th>results</th>\n",
              "      <th>videogame_version</th>\n",
              "      <th>streams</th>\n",
              "      <th>modified_at</th>\n",
              "      <th>games</th>\n",
              "      <th>original_scheduled_at</th>\n",
              "      <th>match_type</th>\n",
              "      <th>scheduled_at</th>\n",
              "      <th>winner</th>\n",
              "      <th>slug</th>\n",
              "      <th>videogame</th>\n",
              "      <th>status</th>\n",
              "      <th>winner_id</th>\n",
              "      <th>forfeit</th>\n",
              "      <th>tournament</th>\n",
              "      <th>rescheduled</th>\n",
              "      <th>id</th>\n",
              "      <th>game_advantage</th>\n",
              "      <th>serie_id</th>\n",
              "      <th>opponents</th>\n",
              "      <th>number_of_games</th>\n",
              "      <th>serie</th>\n",
              "      <th>live</th>\n",
              "      <th>begin_at</th>\n",
              "    </tr>\n",
              "  </thead>\n",
              "  <tbody>\n",
              "    <tr>\n",
              "      <th>0</th>\n",
              "      <td>Round 3: TBD vs TBD</td>\n",
              "      <td>None</td>\n",
              "      <td>None</td>\n",
              "      <td>False</td>\n",
              "      <td>{'id': 4302, 'image_url': 'https://cdn.pandasc...</td>\n",
              "      <td>4302</td>\n",
              "      <td>True</td>\n",
              "      <td>None</td>\n",
              "      <td>5649</td>\n",
              "      <td>[]</td>\n",
              "      <td>None</td>\n",
              "      <td>{'english': {'embed_url': None, 'raw_url': Non...</td>\n",
              "      <td>2021-03-07T20:20:32Z</td>\n",
              "      <td>[{'begin_at': None, 'complete': False, 'detail...</td>\n",
              "      <td>2021-03-11T17:00:00Z</td>\n",
              "      <td>best_of</td>\n",
              "      <td>2021-03-11T17:00:00Z</td>\n",
              "      <td>None</td>\n",
              "      <td>2021-03-11-c3b8c131-fac1-4b71-b339-f1d0387914a6</td>\n",
              "      <td>{'id': 1, 'name': 'LoL', 'slug': 'league-of-le...</td>\n",
              "      <td>not_started</td>\n",
              "      <td>NaN</td>\n",
              "      <td>False</td>\n",
              "      <td>{'begin_at': '2021-03-09T17:00:00Z', 'end_at':...</td>\n",
              "      <td>False</td>\n",
              "      <td>586007</td>\n",
              "      <td>None</td>\n",
              "      <td>3254</td>\n",
              "      <td>[]</td>\n",
              "      <td>5</td>\n",
              "      <td>{'begin_at': '2021-01-19T17:00:00Z', 'descript...</td>\n",
              "      <td>{'opens_at': None, 'supported': False, 'url': ...</td>\n",
              "      <td>2021-03-11T17:00:00Z</td>\n",
              "    </tr>\n",
              "    <tr>\n",
              "      <th>1</th>\n",
              "      <td>Round 2 Match 2: MOUZ vs BIG</td>\n",
              "      <td>None</td>\n",
              "      <td>None</td>\n",
              "      <td>False</td>\n",
              "      <td>{'id': 4302, 'image_url': 'https://cdn.pandasc...</td>\n",
              "      <td>4302</td>\n",
              "      <td>True</td>\n",
              "      <td>None</td>\n",
              "      <td>5649</td>\n",
              "      <td>[{'score': 0, 'team_id': 16}, {'score': 0, 'te...</td>\n",
              "      <td>None</td>\n",
              "      <td>{'english': {'embed_url': None, 'raw_url': Non...</td>\n",
              "      <td>2021-03-07T20:19:53Z</td>\n",
              "      <td>[{'begin_at': None, 'complete': False, 'detail...</td>\n",
              "      <td>2021-03-10T20:00:00Z</td>\n",
              "      <td>best_of</td>\n",
              "      <td>2021-03-10T20:00:00Z</td>\n",
              "      <td>None</td>\n",
              "      <td>mousesports-vs-berlin-international-gaming-202...</td>\n",
              "      <td>{'id': 1, 'name': 'LoL', 'slug': 'league-of-le...</td>\n",
              "      <td>not_started</td>\n",
              "      <td>NaN</td>\n",
              "      <td>False</td>\n",
              "      <td>{'begin_at': '2021-03-09T17:00:00Z', 'end_at':...</td>\n",
              "      <td>False</td>\n",
              "      <td>586006</td>\n",
              "      <td>None</td>\n",
              "      <td>3254</td>\n",
              "      <td>[{'opponent': {'acronym': 'MOUZ', 'id': 16, 'i...</td>\n",
              "      <td>3</td>\n",
              "      <td>{'begin_at': '2021-01-19T17:00:00Z', 'descript...</td>\n",
              "      <td>{'opens_at': None, 'supported': False, 'url': ...</td>\n",
              "      <td>2021-03-10T20:00:00Z</td>\n",
              "    </tr>\n",
              "    <tr>\n",
              "      <th>2</th>\n",
              "      <td>Round 2 Match 1: TBD vs TBD</td>\n",
              "      <td>None</td>\n",
              "      <td>None</td>\n",
              "      <td>False</td>\n",
              "      <td>{'id': 4302, 'image_url': 'https://cdn.pandasc...</td>\n",
              "      <td>4302</td>\n",
              "      <td>True</td>\n",
              "      <td>None</td>\n",
              "      <td>5649</td>\n",
              "      <td>[]</td>\n",
              "      <td>None</td>\n",
              "      <td>{'english': {'embed_url': None, 'raw_url': Non...</td>\n",
              "      <td>2021-03-07T20:19:33Z</td>\n",
              "      <td>[{'begin_at': None, 'complete': False, 'detail...</td>\n",
              "      <td>2021-03-10T17:00:00Z</td>\n",
              "      <td>best_of</td>\n",
              "      <td>2021-03-10T17:00:00Z</td>\n",
              "      <td>None</td>\n",
              "      <td>2021-03-10-7412caf0-3f45-40e1-b763-80d005a04162</td>\n",
              "      <td>{'id': 1, 'name': 'LoL', 'slug': 'league-of-le...</td>\n",
              "      <td>not_started</td>\n",
              "      <td>NaN</td>\n",
              "      <td>False</td>\n",
              "      <td>{'begin_at': '2021-03-09T17:00:00Z', 'end_at':...</td>\n",
              "      <td>False</td>\n",
              "      <td>586005</td>\n",
              "      <td>None</td>\n",
              "      <td>3254</td>\n",
              "      <td>[]</td>\n",
              "      <td>3</td>\n",
              "      <td>{'begin_at': '2021-01-19T17:00:00Z', 'descript...</td>\n",
              "      <td>{'opens_at': None, 'supported': False, 'url': ...</td>\n",
              "      <td>2021-03-10T17:00:00Z</td>\n",
              "    </tr>\n",
              "    <tr>\n",
              "      <th>3</th>\n",
              "      <td>Round 1 Match 2: SKP vs S04.E</td>\n",
              "      <td>None</td>\n",
              "      <td>None</td>\n",
              "      <td>False</td>\n",
              "      <td>{'id': 4302, 'image_url': 'https://cdn.pandasc...</td>\n",
              "      <td>4302</td>\n",
              "      <td>True</td>\n",
              "      <td>None</td>\n",
              "      <td>5649</td>\n",
              "      <td>[{'score': 0, 'team_id': 247}, {'score': 0, 't...</td>\n",
              "      <td>None</td>\n",
              "      <td>{'english': {'embed_url': None, 'raw_url': Non...</td>\n",
              "      <td>2021-03-07T20:18:12Z</td>\n",
              "      <td>[{'begin_at': None, 'complete': False, 'detail...</td>\n",
              "      <td>2021-03-09T20:00:00Z</td>\n",
              "      <td>best_of</td>\n",
              "      <td>2021-03-09T20:00:00Z</td>\n",
              "      <td>None</td>\n",
              "      <td>sk-gaming-prime-vs-fc-schalke-04-evolution-202...</td>\n",
              "      <td>{'id': 1, 'name': 'LoL', 'slug': 'league-of-le...</td>\n",
              "      <td>not_started</td>\n",
              "      <td>NaN</td>\n",
              "      <td>False</td>\n",
              "      <td>{'begin_at': '2021-03-09T17:00:00Z', 'end_at':...</td>\n",
              "      <td>False</td>\n",
              "      <td>586004</td>\n",
              "      <td>None</td>\n",
              "      <td>3254</td>\n",
              "      <td>[{'opponent': {'acronym': 'SKP', 'id': 247, 'i...</td>\n",
              "      <td>3</td>\n",
              "      <td>{'begin_at': '2021-01-19T17:00:00Z', 'descript...</td>\n",
              "      <td>{'opens_at': None, 'supported': False, 'url': ...</td>\n",
              "      <td>2021-03-09T20:00:00Z</td>\n",
              "    </tr>\n",
              "    <tr>\n",
              "      <th>4</th>\n",
              "      <td>Round 1 Match 1: GL vs USE</td>\n",
              "      <td>None</td>\n",
              "      <td>None</td>\n",
              "      <td>False</td>\n",
              "      <td>{'id': 4302, 'image_url': 'https://cdn.pandasc...</td>\n",
              "      <td>4302</td>\n",
              "      <td>True</td>\n",
              "      <td>None</td>\n",
              "      <td>5649</td>\n",
              "      <td>[{'score': 0, 'team_id': 126830}, {'score': 0,...</td>\n",
              "      <td>None</td>\n",
              "      <td>{'english': {'embed_url': None, 'raw_url': Non...</td>\n",
              "      <td>2021-03-07T20:17:44Z</td>\n",
              "      <td>[{'begin_at': None, 'complete': False, 'detail...</td>\n",
              "      <td>2021-03-09T17:00:00Z</td>\n",
              "      <td>best_of</td>\n",
              "      <td>2021-03-09T17:00:00Z</td>\n",
              "      <td>None</td>\n",
              "      <td>team-gamerlegion-vs-unicorns-of-love-sexy-edit...</td>\n",
              "      <td>{'id': 1, 'name': 'LoL', 'slug': 'league-of-le...</td>\n",
              "      <td>not_started</td>\n",
              "      <td>NaN</td>\n",
              "      <td>False</td>\n",
              "      <td>{'begin_at': '2021-03-09T17:00:00Z', 'end_at':...</td>\n",
              "      <td>False</td>\n",
              "      <td>586003</td>\n",
              "      <td>None</td>\n",
              "      <td>3254</td>\n",
              "      <td>[{'opponent': {'acronym': 'GL', 'id': 126830, ...</td>\n",
              "      <td>3</td>\n",
              "      <td>{'begin_at': '2021-01-19T17:00:00Z', 'descript...</td>\n",
              "      <td>{'opens_at': None, 'supported': False, 'url': ...</td>\n",
              "      <td>2021-03-09T17:00:00Z</td>\n",
              "    </tr>\n",
              "  </tbody>\n",
              "</table>\n",
              "</div>"
            ],
            "text/plain": [
              "                            name  ...              begin_at\n",
              "0            Round 3: TBD vs TBD  ...  2021-03-11T17:00:00Z\n",
              "1   Round 2 Match 2: MOUZ vs BIG  ...  2021-03-10T20:00:00Z\n",
              "2    Round 2 Match 1: TBD vs TBD  ...  2021-03-10T17:00:00Z\n",
              "3  Round 1 Match 2: SKP vs S04.E  ...  2021-03-09T20:00:00Z\n",
              "4     Round 1 Match 1: GL vs USE  ...  2021-03-09T17:00:00Z\n",
              "\n",
              "[5 rows x 33 columns]"
            ]
          },
          "metadata": {
            "tags": []
          },
          "execution_count": 12
        }
      ]
    },
    {
      "cell_type": "code",
      "metadata": {
        "colab": {
          "base_uri": "https://localhost:8080/",
          "height": 380
        },
        "id": "yOdc2bPkLUEe",
        "outputId": "83333b1b-9b1b-4b29-e368-4b327d4d5d70"
      },
      "source": [
        "df_equipos.head()"
      ],
      "execution_count": 13,
      "outputs": [
        {
          "output_type": "execute_result",
          "data": {
            "text/html": [
              "<div>\n",
              "<style scoped>\n",
              "    .dataframe tbody tr th:only-of-type {\n",
              "        vertical-align: middle;\n",
              "    }\n",
              "\n",
              "    .dataframe tbody tr th {\n",
              "        vertical-align: top;\n",
              "    }\n",
              "\n",
              "    .dataframe thead th {\n",
              "        text-align: right;\n",
              "    }\n",
              "</style>\n",
              "<table border=\"1\" class=\"dataframe\">\n",
              "  <thead>\n",
              "    <tr style=\"text-align: right;\">\n",
              "      <th></th>\n",
              "      <th>acronym</th>\n",
              "      <th>current_videogame</th>\n",
              "      <th>id</th>\n",
              "      <th>image_url</th>\n",
              "      <th>location</th>\n",
              "      <th>modified_at</th>\n",
              "      <th>name</th>\n",
              "      <th>players</th>\n",
              "      <th>slug</th>\n",
              "    </tr>\n",
              "  </thead>\n",
              "  <tbody>\n",
              "    <tr>\n",
              "      <th>0</th>\n",
              "      <td>PCE</td>\n",
              "      <td>{'id': 1, 'name': 'LoL', 'slug': 'league-of-le...</td>\n",
              "      <td>128614</td>\n",
              "      <td>https://cdn.pandascore.co/images/team/image/12...</td>\n",
              "      <td>AU</td>\n",
              "      <td>2021-03-05T13:55:39Z</td>\n",
              "      <td>PEACE</td>\n",
              "      <td>[{'birth_year': None, 'birthday': None, 'first...</td>\n",
              "      <td>peace</td>\n",
              "    </tr>\n",
              "    <tr>\n",
              "      <th>1</th>\n",
              "      <td>Z10</td>\n",
              "      <td>{'id': 1, 'name': 'LoL', 'slug': 'league-of-le...</td>\n",
              "      <td>128573</td>\n",
              "      <td>https://cdn.pandascore.co/images/team/image/12...</td>\n",
              "      <td>RS</td>\n",
              "      <td>2021-03-01T19:43:55Z</td>\n",
              "      <td>Z10 ESHARK</td>\n",
              "      <td>[{'birth_year': None, 'birthday': None, 'first...</td>\n",
              "      <td>z10-eshark</td>\n",
              "    </tr>\n",
              "    <tr>\n",
              "      <th>2</th>\n",
              "      <td>X25</td>\n",
              "      <td>{'id': 1, 'name': 'LoL', 'slug': 'league-of-le...</td>\n",
              "      <td>128572</td>\n",
              "      <td>https://cdn.pandascore.co/images/team/image/12...</td>\n",
              "      <td>RS</td>\n",
              "      <td>2021-02-12T16:11:49Z</td>\n",
              "      <td>x25 Esports</td>\n",
              "      <td>[{'birth_year': 1998, 'birthday': '1998-07-31'...</td>\n",
              "      <td>x25-esports</td>\n",
              "    </tr>\n",
              "    <tr>\n",
              "      <th>3</th>\n",
              "      <td>None</td>\n",
              "      <td>{'id': 1, 'name': 'LoL', 'slug': 'league-of-le...</td>\n",
              "      <td>128566</td>\n",
              "      <td>https://cdn.pandascore.co/images/team/image/12...</td>\n",
              "      <td>RU</td>\n",
              "      <td>2021-02-28T10:02:24Z</td>\n",
              "      <td>CTRL PLAY</td>\n",
              "      <td>[{'birth_year': None, 'birthday': None, 'first...</td>\n",
              "      <td>ctrl-play</td>\n",
              "    </tr>\n",
              "    <tr>\n",
              "      <th>4</th>\n",
              "      <td>IPN</td>\n",
              "      <td>{'id': 1, 'name': 'LoL', 'slug': 'league-of-le...</td>\n",
              "      <td>128547</td>\n",
              "      <td>https://cdn.pandascore.co/images/team/image/12...</td>\n",
              "      <td>SG</td>\n",
              "      <td>2021-02-19T17:37:02Z</td>\n",
              "      <td>Impunity</td>\n",
              "      <td>[{'birth_year': None, 'birthday': None, 'first...</td>\n",
              "      <td>impunity-league-of-legends</td>\n",
              "    </tr>\n",
              "  </tbody>\n",
              "</table>\n",
              "</div>"
            ],
            "text/plain": [
              "  acronym  ...                        slug\n",
              "0     PCE  ...                       peace\n",
              "1     Z10  ...                  z10-eshark\n",
              "2     X25  ...                 x25-esports\n",
              "3    None  ...                   ctrl-play\n",
              "4     IPN  ...  impunity-league-of-legends\n",
              "\n",
              "[5 rows x 9 columns]"
            ]
          },
          "metadata": {
            "tags": []
          },
          "execution_count": 13
        }
      ]
    },
    {
      "cell_type": "markdown",
      "metadata": {
        "id": "0PK9zXKZLYDo"
      },
      "source": [
        "¡Increíble! Con tan solo 5 dataframes tenemos muchísima información acerca de la escena competitiva de League of Legends, pero si recordamos bien... ¡tenemos acceso a otros 3 juegos! entonces en total tendremos 20 dataframes con los que podríamos trabajar ( _panic_ ). De momentos nos enfocaremos en trabajar con solo los dataframes obtenidos para LoL, quizás haya una forma de trabajar con todos, una luz al final del túnel."
      ]
    },
    {
      "cell_type": "markdown",
      "metadata": {
        "id": "4XPIiNndL-E2"
      },
      "source": [
        "# 4.- Análisis Exploratorio de nuestro Dataset\r\n",
        "\r\n",
        "En el [postwork anterior](https://github.com/LKXoro/BEDU-Rstudio-postworks/blob/main/M3_Postwork3/Postwork_03_python.ipynb) exploramos las posibles respuestas que nos brinda PandaScore. Con ellas obtuvimos 5 Datasets llenos de información tan sólo para League of Legends. Ahora vamos a inspeccionar un poco los campos que tenemos y el tipo de información dentro de ellos, comencemos realizando las peticiones a la API:"
      ]
    },
    {
      "cell_type": "code",
      "metadata": {
        "colab": {
          "base_uri": "https://localhost:8080/"
        },
        "id": "C5SMnG9lLW4W",
        "outputId": "2e1b8983-287a-4c55-9d16-4f3654c4a6ab"
      },
      "source": [
        "import requests \r\n",
        "\r\n",
        "juego = 'lol' \r\n",
        "información = 'tournaments' \r\n",
        "información2 = 'leagues'\r\n",
        "información3 = 'series' \r\n",
        "información4 = 'matches'\r\n",
        "información5 = 'teams'\r\n",
        "registros = 100  \r\n",
        "token =  'V3U1fnnWozJi3bbhZfrxdiAmN4-XWnX_4g6i_6iauwwh7w-V8Ns'\r\n",
        "\r\n",
        "url = f\"https://api.pandascore.co/{juego}/{información}?page[size]={registros}&token=V3U1fnnWozJi3bbhZfrxdiAmN4-XWnX_4g6i_6iauwwh7w-V8Ns\"\r\n",
        "url2 = f\"https://api.pandascore.co/{juego}/{información2}?page[size]={registros}&token=V3U1fnnWozJi3bbhZfrxdiAmN4-XWnX_4g6i_6iauwwh7w-V8Ns\"\r\n",
        "url3 = f\"https://api.pandascore.co/{juego}/{información3}?page[size]={registros}&token=V3U1fnnWozJi3bbhZfrxdiAmN4-XWnX_4g6i_6iauwwh7w-V8Ns\"\r\n",
        "url4 = f\"https://api.pandascore.co/{juego}/{información4}?page[size]={registros}&token=V3U1fnnWozJi3bbhZfrxdiAmN4-XWnX_4g6i_6iauwwh7w-V8Ns\"\r\n",
        "url5 = f\"https://api.pandascore.co/{juego}/{información5}?page[size]={registros}&token=V3U1fnnWozJi3bbhZfrxdiAmN4-XWnX_4g6i_6iauwwh7w-V8Ns\"\r\n",
        "\r\n",
        "response = requests.get(url) \r\n",
        "response2 = requests.get(url2)\r\n",
        "response3 = requests.get(url3) \r\n",
        "response4 = requests.get(url4) \r\n",
        "response5 = requests.get(url5) \r\n",
        "\r\n",
        "print(response.status_code)\r\n",
        "print(response2.status_code)\r\n",
        "print(response3.status_code)\r\n",
        "print(response4.status_code)\r\n",
        "print(response5.status_code)\r\n"
      ],
      "execution_count": 14,
      "outputs": [
        {
          "output_type": "stream",
          "text": [
            "200\n",
            "200\n",
            "200\n",
            "200\n",
            "200\n"
          ],
          "name": "stdout"
        }
      ]
    },
    {
      "cell_type": "markdown",
      "metadata": {
        "id": "be19EfBGL6jW"
      },
      "source": [
        "¡Genial! Todas las peticiones se realizaron correctamente. Vamos a explorar un poco la cantidad de datos que se nos devolvió:"
      ]
    },
    {
      "cell_type": "code",
      "metadata": {
        "colab": {
          "base_uri": "https://localhost:8080/"
        },
        "id": "8Y7-nHktMLNQ",
        "outputId": "fc1e9b2a-9453-4c6e-bb21-ed6ac04220f9"
      },
      "source": [
        "print(f'### La petición de {información} nos devolvió:\\n')\r\n",
        "print(response.headers['X-Total']+' registros totales.\\n') \r\n",
        "print(f'### La petición de {información2} nos devolvió:\\n')\r\n",
        "print(response2.headers['X-Total']+' registros totales.\\n') \r\n",
        "print(f'### La petición de {información3} nos devolvió:\\n')\r\n",
        "print(response3.headers['X-Total']+' registros totales.\\n') \r\n",
        "print(f'### La petición de {información4} nos devolvió:\\n')\r\n",
        "print(response4.headers['X-Total']+' registros totales.\\n') \r\n",
        "print(f'### La petición de {información5} nos devolvió:\\n')\r\n",
        "print(response5.headers['X-Total']+' registros totales.\\n')   "
      ],
      "execution_count": 15,
      "outputs": [
        {
          "output_type": "stream",
          "text": [
            "### La petición de tournaments nos devolvió:\n",
            "\n",
            "824 registros totales.\n",
            "\n",
            "### La petición de leagues nos devolvió:\n",
            "\n",
            "67 registros totales.\n",
            "\n",
            "### La petición de series nos devolvió:\n",
            "\n",
            "298 registros totales.\n",
            "\n",
            "### La petición de matches nos devolvió:\n",
            "\n",
            "18694 registros totales.\n",
            "\n",
            "### La petición de teams nos devolvió:\n",
            "\n",
            "973 registros totales.\n",
            "\n"
          ],
          "name": "stdout"
        }
      ]
    },
    {
      "cell_type": "markdown",
      "metadata": {
        "id": "oVwB9S6KMQnV"
      },
      "source": [
        "Observamos que los datos relacions con los enfrentamientos (matches) cuentan con una extensa cantidad de registros, esto es lógico, ya que dentro de cada torneo ha habido diversos enfrentamientos (¡Y han habido muchos torneos!). Exploremos mejor los campos de cada respuesta, primero creamos los df:"
      ]
    },
    {
      "cell_type": "code",
      "metadata": {
        "id": "2aXXiWobMU-Q"
      },
      "source": [
        "import pandas as pd\r\n",
        "\r\n",
        "data1 = response.json()\r\n",
        "data2 = response2.json()\r\n",
        "data3 = response3.json()\r\n",
        "data4 = response4.json()\r\n",
        "data5 = response5.json()\r\n",
        "\r\n",
        "df_torneos = pd.DataFrame.from_dict(data1)\r\n",
        "df_ligas= pd.DataFrame.from_dict(data2)\r\n",
        "df_series = pd.DataFrame.from_dict(data3)\r\n",
        "df_enfrentamientos = pd.DataFrame.from_dict(data4)\r\n",
        "df_equipos = pd.DataFrame.from_dict(data5)"
      ],
      "execution_count": 16,
      "outputs": []
    },
    {
      "cell_type": "markdown",
      "metadata": {
        "id": "ijQPPaAUMYhI"
      },
      "source": [
        "Si seguimos la jerarquía de organización de los eventos de eSports, el primer elemento que debemos inspeccionar son las ligas:"
      ]
    },
    {
      "cell_type": "code",
      "metadata": {
        "colab": {
          "base_uri": "https://localhost:8080/",
          "height": 449
        },
        "id": "dkAV_akBMwV3",
        "outputId": "f8e29160-9213-42ee-a765-3785bac32efe"
      },
      "source": [
        "df_ligas.head()"
      ],
      "execution_count": 17,
      "outputs": [
        {
          "output_type": "execute_result",
          "data": {
            "text/html": [
              "<div>\n",
              "<style scoped>\n",
              "    .dataframe tbody tr th:only-of-type {\n",
              "        vertical-align: middle;\n",
              "    }\n",
              "\n",
              "    .dataframe tbody tr th {\n",
              "        vertical-align: top;\n",
              "    }\n",
              "\n",
              "    .dataframe thead th {\n",
              "        text-align: right;\n",
              "    }\n",
              "</style>\n",
              "<table border=\"1\" class=\"dataframe\">\n",
              "  <thead>\n",
              "    <tr style=\"text-align: right;\">\n",
              "      <th></th>\n",
              "      <th>id</th>\n",
              "      <th>image_url</th>\n",
              "      <th>modified_at</th>\n",
              "      <th>name</th>\n",
              "      <th>series</th>\n",
              "      <th>slug</th>\n",
              "      <th>url</th>\n",
              "      <th>videogame</th>\n",
              "    </tr>\n",
              "  </thead>\n",
              "  <tbody>\n",
              "    <tr>\n",
              "      <th>0</th>\n",
              "      <td>4539</td>\n",
              "      <td>https://cdn.pandascore.co/images/league/image/...</td>\n",
              "      <td>2021-02-18T10:32:45Z</td>\n",
              "      <td>LCO</td>\n",
              "      <td>[{'begin_at': '2021-02-23T07:00:00Z', 'descrip...</td>\n",
              "      <td>league-of-legends-lco</td>\n",
              "      <td>https://lco.gg/</td>\n",
              "      <td>{'current_version': '11.5.1', 'id': 1, 'name':...</td>\n",
              "    </tr>\n",
              "    <tr>\n",
              "      <th>1</th>\n",
              "      <td>4533</td>\n",
              "      <td>https://cdn.pandascore.co/images/league/image/...</td>\n",
              "      <td>2021-02-05T14:07:43Z</td>\n",
              "      <td>CBLOL Academy</td>\n",
              "      <td>[{'begin_at': '2021-01-19T19:00:00Z', 'descrip...</td>\n",
              "      <td>league-of-legends-cblol-academy</td>\n",
              "      <td>None</td>\n",
              "      <td>{'current_version': '11.5.1', 'id': 1, 'name':...</td>\n",
              "    </tr>\n",
              "    <tr>\n",
              "      <th>2</th>\n",
              "      <td>4483</td>\n",
              "      <td>https://cdn.pandascore.co/images/league/image/...</td>\n",
              "      <td>2020-10-23T11:26:58Z</td>\n",
              "      <td>Iberian Cup</td>\n",
              "      <td>[{'begin_at': '2020-10-09T22:00:00Z', 'descrip...</td>\n",
              "      <td>league-of-legends-iberian-cup</td>\n",
              "      <td>https://iberiancup.lvp.global/</td>\n",
              "      <td>{'current_version': '11.5.1', 'id': 1, 'name':...</td>\n",
              "    </tr>\n",
              "    <tr>\n",
              "      <th>3</th>\n",
              "      <td>4450</td>\n",
              "      <td>https://cdn.pandascore.co/images/league/image/...</td>\n",
              "      <td>2020-08-08T09:14:04Z</td>\n",
              "      <td>Baltic Masters</td>\n",
              "      <td>[{'begin_at': '2020-08-11T15:00:00Z', 'descrip...</td>\n",
              "      <td>league-of-legends-baltic-masters</td>\n",
              "      <td>None</td>\n",
              "      <td>{'current_version': '11.5.1', 'id': 1, 'name':...</td>\n",
              "    </tr>\n",
              "    <tr>\n",
              "      <th>4</th>\n",
              "      <td>4433</td>\n",
              "      <td>https://cdn.pandascore.co/images/league/image/...</td>\n",
              "      <td>2020-06-29T21:14:29Z</td>\n",
              "      <td>Hitpoint Masters</td>\n",
              "      <td>[{'begin_at': '2020-06-21T12:30:00Z', 'descrip...</td>\n",
              "      <td>league-of-legends-hitpoint-masters</td>\n",
              "      <td>https://hitpoint.cz/</td>\n",
              "      <td>{'current_version': '11.5.1', 'id': 1, 'name':...</td>\n",
              "    </tr>\n",
              "  </tbody>\n",
              "</table>\n",
              "</div>"
            ],
            "text/plain": [
              "     id  ...                                          videogame\n",
              "0  4539  ...  {'current_version': '11.5.1', 'id': 1, 'name':...\n",
              "1  4533  ...  {'current_version': '11.5.1', 'id': 1, 'name':...\n",
              "2  4483  ...  {'current_version': '11.5.1', 'id': 1, 'name':...\n",
              "3  4450  ...  {'current_version': '11.5.1', 'id': 1, 'name':...\n",
              "4  4433  ...  {'current_version': '11.5.1', 'id': 1, 'name':...\n",
              "\n",
              "[5 rows x 8 columns]"
            ]
          },
          "metadata": {
            "tags": []
          },
          "execution_count": 17
        }
      ]
    },
    {
      "cell_type": "markdown",
      "metadata": {
        "id": "SPIUGpYPMyuj"
      },
      "source": [
        "Nos encontramos ante un df con 8 campos, dos de ellos son url que nos llevan a la página oficial (en caso de tenerla) y el logo oficial de la serie. También tenemos un campo para la versión del juego con la que se llevo a cabo la liga y las distintas series que se han llevado a cabo, el slug (¿eslogan?) de la liga y el nombre de la liga.\r\n",
        "\r\n",
        "La cantidad de datos sobre ligas, al ser los eventos de mayor nivel, es la de menor cantidad. El número de campos es algo limitado y no todos son de útilidad para análisis, para un dashboard los url e imágenes serían ideales.\r\n",
        "\r\n",
        "Veamos que información tenemos respecto a las series:"
      ]
    },
    {
      "cell_type": "code",
      "metadata": {
        "colab": {
          "base_uri": "https://localhost:8080/",
          "height": 573
        },
        "id": "EqosXBDvM1pe",
        "outputId": "3967fae0-cd89-4d4a-9ade-da5e262c37e1"
      },
      "source": [
        "df_series.head()"
      ],
      "execution_count": 18,
      "outputs": [
        {
          "output_type": "execute_result",
          "data": {
            "text/html": [
              "<div>\n",
              "<style scoped>\n",
              "    .dataframe tbody tr th:only-of-type {\n",
              "        vertical-align: middle;\n",
              "    }\n",
              "\n",
              "    .dataframe tbody tr th {\n",
              "        vertical-align: top;\n",
              "    }\n",
              "\n",
              "    .dataframe thead th {\n",
              "        text-align: right;\n",
              "    }\n",
              "</style>\n",
              "<table border=\"1\" class=\"dataframe\">\n",
              "  <thead>\n",
              "    <tr style=\"text-align: right;\">\n",
              "      <th></th>\n",
              "      <th>begin_at</th>\n",
              "      <th>description</th>\n",
              "      <th>end_at</th>\n",
              "      <th>full_name</th>\n",
              "      <th>id</th>\n",
              "      <th>league</th>\n",
              "      <th>league_id</th>\n",
              "      <th>modified_at</th>\n",
              "      <th>name</th>\n",
              "      <th>season</th>\n",
              "      <th>slug</th>\n",
              "      <th>tier</th>\n",
              "      <th>tournaments</th>\n",
              "      <th>videogame</th>\n",
              "      <th>videogame_title</th>\n",
              "      <th>winner_id</th>\n",
              "      <th>winner_type</th>\n",
              "      <th>year</th>\n",
              "    </tr>\n",
              "  </thead>\n",
              "  <tbody>\n",
              "    <tr>\n",
              "      <th>0</th>\n",
              "      <td>2021-02-23T07:00:00Z</td>\n",
              "      <td>None</td>\n",
              "      <td>2021-04-09T22:00:00Z</td>\n",
              "      <td>Split 1 2021</td>\n",
              "      <td>3361</td>\n",
              "      <td>{'id': 4539, 'image_url': 'https://cdn.pandasc...</td>\n",
              "      <td>4539</td>\n",
              "      <td>2021-02-18T11:40:54Z</td>\n",
              "      <td>Split 1</td>\n",
              "      <td>None</td>\n",
              "      <td>league-of-legends-lco-split-1-2021</td>\n",
              "      <td>c</td>\n",
              "      <td>[{'begin_at': '2021-02-23T07:00:00Z', 'end_at'...</td>\n",
              "      <td>{'id': 1, 'name': 'LoL', 'slug': 'league-of-le...</td>\n",
              "      <td>None</td>\n",
              "      <td>NaN</td>\n",
              "      <td>None</td>\n",
              "      <td>2021</td>\n",
              "    </tr>\n",
              "    <tr>\n",
              "      <th>1</th>\n",
              "      <td>2021-01-25T18:00:00Z</td>\n",
              "      <td>None</td>\n",
              "      <td>None</td>\n",
              "      <td>Season 8 2021</td>\n",
              "      <td>3351</td>\n",
              "      <td>{'id': 4426, 'image_url': 'https://cdn.pandasc...</td>\n",
              "      <td>4426</td>\n",
              "      <td>2021-02-12T15:08:41Z</td>\n",
              "      <td>None</td>\n",
              "      <td>8</td>\n",
              "      <td>league-of-legends-ebl-8-2021</td>\n",
              "      <td>c</td>\n",
              "      <td>[{'begin_at': '2021-02-25T18:00:00Z', 'end_at'...</td>\n",
              "      <td>{'id': 1, 'name': 'LoL', 'slug': 'league-of-le...</td>\n",
              "      <td>None</td>\n",
              "      <td>NaN</td>\n",
              "      <td>None</td>\n",
              "      <td>2021</td>\n",
              "    </tr>\n",
              "    <tr>\n",
              "      <th>2</th>\n",
              "      <td>2021-02-13T13:00:00Z</td>\n",
              "      <td>None</td>\n",
              "      <td>None</td>\n",
              "      <td>Spring 2021</td>\n",
              "      <td>3349</td>\n",
              "      <td>{'id': 4004, 'image_url': 'https://cdn.pandasc...</td>\n",
              "      <td>4004</td>\n",
              "      <td>2021-02-11T18:53:16Z</td>\n",
              "      <td>None</td>\n",
              "      <td>Spring</td>\n",
              "      <td>league-of-legends-lcl-spring-2021</td>\n",
              "      <td>b</td>\n",
              "      <td>[{'begin_at': '2021-02-13T13:00:00Z', 'end_at'...</td>\n",
              "      <td>{'id': 1, 'name': 'LoL', 'slug': 'league-of-le...</td>\n",
              "      <td>None</td>\n",
              "      <td>NaN</td>\n",
              "      <td>None</td>\n",
              "      <td>2021</td>\n",
              "    </tr>\n",
              "    <tr>\n",
              "      <th>3</th>\n",
              "      <td>2021-02-19T08:00:00Z</td>\n",
              "      <td>None</td>\n",
              "      <td>None</td>\n",
              "      <td>Spring 2021</td>\n",
              "      <td>3337</td>\n",
              "      <td>{'id': 4288, 'image_url': 'https://cdn.pandasc...</td>\n",
              "      <td>4288</td>\n",
              "      <td>2021-02-08T09:40:12Z</td>\n",
              "      <td>None</td>\n",
              "      <td>Spring</td>\n",
              "      <td>league-of-legends-pcs-spring-2021</td>\n",
              "      <td>b</td>\n",
              "      <td>[{'begin_at': '2021-02-19T08:00:00Z', 'end_at'...</td>\n",
              "      <td>{'id': 1, 'name': 'LoL', 'slug': 'league-of-le...</td>\n",
              "      <td>None</td>\n",
              "      <td>NaN</td>\n",
              "      <td>None</td>\n",
              "      <td>2021</td>\n",
              "    </tr>\n",
              "    <tr>\n",
              "      <th>4</th>\n",
              "      <td>2021-01-19T19:00:00Z</td>\n",
              "      <td>None</td>\n",
              "      <td>2021-04-17T19:00:00Z</td>\n",
              "      <td>Split 1 2021</td>\n",
              "      <td>3334</td>\n",
              "      <td>{'id': 4533, 'image_url': 'https://cdn.pandasc...</td>\n",
              "      <td>4533</td>\n",
              "      <td>2021-02-17T15:14:31Z</td>\n",
              "      <td>None</td>\n",
              "      <td>Split 1</td>\n",
              "      <td>league-of-legends-cblol-academy-split-1-2021</td>\n",
              "      <td>d</td>\n",
              "      <td>[{'begin_at': '2021-01-19T19:00:00Z', 'end_at'...</td>\n",
              "      <td>{'id': 1, 'name': 'LoL', 'slug': 'league-of-le...</td>\n",
              "      <td>None</td>\n",
              "      <td>NaN</td>\n",
              "      <td>None</td>\n",
              "      <td>2021</td>\n",
              "    </tr>\n",
              "  </tbody>\n",
              "</table>\n",
              "</div>"
            ],
            "text/plain": [
              "               begin_at description  ... winner_type  year\n",
              "0  2021-02-23T07:00:00Z        None  ...        None  2021\n",
              "1  2021-01-25T18:00:00Z        None  ...        None  2021\n",
              "2  2021-02-13T13:00:00Z        None  ...        None  2021\n",
              "3  2021-02-19T08:00:00Z        None  ...        None  2021\n",
              "4  2021-01-19T19:00:00Z        None  ...        None  2021\n",
              "\n",
              "[5 rows x 18 columns]"
            ]
          },
          "metadata": {
            "tags": []
          },
          "execution_count": 18
        }
      ]
    },
    {
      "cell_type": "markdown",
      "metadata": {
        "id": "KscDkgZSM4NW"
      },
      "source": [
        "En este Dataframe encontramos más campos como la fecha de inicio y fin de la serie, un campo de descripción que parece estar lleno de valores None al igual que el nombre del juego, el nombre de la serie y slug, la temporada y nivel y se la serie,encontramos también el id de la liga correspondiente y el id del ganador (si no se ha definido un ganador se tiene un valor NaN), el tipo de ganador (LoL es un juego de equipos así que en general el tipo de ganador es Team y también tenemos el año al que corresponde la serie.\r\n",
        "\r\n",
        "Dentro de estos campos también tenemos el que corresponde al de los torneos, veamos que tenemos respecto a ellos:"
      ]
    },
    {
      "cell_type": "code",
      "metadata": {
        "colab": {
          "base_uri": "https://localhost:8080/",
          "height": 660
        },
        "id": "b9sbNv3JM6w1",
        "outputId": "071ea005-0af7-4711-bbbb-4eacf39e24a4"
      },
      "source": [
        "df_torneos.head()"
      ],
      "execution_count": 19,
      "outputs": [
        {
          "output_type": "execute_result",
          "data": {
            "text/html": [
              "<div>\n",
              "<style scoped>\n",
              "    .dataframe tbody tr th:only-of-type {\n",
              "        vertical-align: middle;\n",
              "    }\n",
              "\n",
              "    .dataframe tbody tr th {\n",
              "        vertical-align: top;\n",
              "    }\n",
              "\n",
              "    .dataframe thead th {\n",
              "        text-align: right;\n",
              "    }\n",
              "</style>\n",
              "<table border=\"1\" class=\"dataframe\">\n",
              "  <thead>\n",
              "    <tr style=\"text-align: right;\">\n",
              "      <th></th>\n",
              "      <th>begin_at</th>\n",
              "      <th>end_at</th>\n",
              "      <th>id</th>\n",
              "      <th>league</th>\n",
              "      <th>league_id</th>\n",
              "      <th>live_supported</th>\n",
              "      <th>matches</th>\n",
              "      <th>modified_at</th>\n",
              "      <th>name</th>\n",
              "      <th>prizepool</th>\n",
              "      <th>serie</th>\n",
              "      <th>serie_id</th>\n",
              "      <th>slug</th>\n",
              "      <th>teams</th>\n",
              "      <th>videogame</th>\n",
              "      <th>winner_id</th>\n",
              "      <th>winner_type</th>\n",
              "    </tr>\n",
              "  </thead>\n",
              "  <tbody>\n",
              "    <tr>\n",
              "      <th>0</th>\n",
              "      <td>2021-03-09T17:00:00Z</td>\n",
              "      <td>None</td>\n",
              "      <td>5649</td>\n",
              "      <td>{'id': 4302, 'image_url': 'https://cdn.pandasc...</td>\n",
              "      <td>4302</td>\n",
              "      <td>False</td>\n",
              "      <td>[{'begin_at': '2021-03-09T17:00:00Z', 'detaile...</td>\n",
              "      <td>2021-03-08T14:50:51Z</td>\n",
              "      <td>Playoffs</td>\n",
              "      <td>None</td>\n",
              "      <td>{'begin_at': '2021-01-19T17:00:00Z', 'descript...</td>\n",
              "      <td>3254</td>\n",
              "      <td>league-of-legends-prime-league-pro-division-sp...</td>\n",
              "      <td>[{'acronym': 'MOUZ', 'id': 16, 'image_url': 'h...</td>\n",
              "      <td>{'id': 1, 'name': 'LoL', 'slug': 'league-of-le...</td>\n",
              "      <td>NaN</td>\n",
              "      <td>Team</td>\n",
              "    </tr>\n",
              "    <tr>\n",
              "      <th>1</th>\n",
              "      <td>2021-03-09T16:30:00Z</td>\n",
              "      <td>None</td>\n",
              "      <td>5617</td>\n",
              "      <td>{'id': 4300, 'image_url': 'https://cdn.pandasc...</td>\n",
              "      <td>4300</td>\n",
              "      <td>False</td>\n",
              "      <td>[{'begin_at': '2021-03-09T16:30:00Z', 'detaile...</td>\n",
              "      <td>2021-03-04T07:03:57Z</td>\n",
              "      <td>Playoffs</td>\n",
              "      <td>None</td>\n",
              "      <td>{'begin_at': '2021-01-19T16:30:00Z', 'descript...</td>\n",
              "      <td>3267</td>\n",
              "      <td>league-of-legends-ultraliga-summer-2021-playoffs</td>\n",
              "      <td>[{'acronym': 'IHG', 'id': 2718, 'image_url': '...</td>\n",
              "      <td>{'id': 1, 'name': 'LoL', 'slug': 'league-of-le...</td>\n",
              "      <td>NaN</td>\n",
              "      <td>Team</td>\n",
              "    </tr>\n",
              "    <tr>\n",
              "      <th>2</th>\n",
              "      <td>2021-03-09T18:00:00Z</td>\n",
              "      <td>2021-03-23T23:00:00Z</td>\n",
              "      <td>5616</td>\n",
              "      <td>{'id': 4402, 'image_url': 'https://cdn.pandasc...</td>\n",
              "      <td>4402</td>\n",
              "      <td>False</td>\n",
              "      <td>[{'begin_at': '2021-03-09T18:00:00Z', 'detaile...</td>\n",
              "      <td>2021-03-08T15:07:25Z</td>\n",
              "      <td>Playoffs</td>\n",
              "      <td>None</td>\n",
              "      <td>{'begin_at': '2021-01-12T18:00:00Z', 'descript...</td>\n",
              "      <td>3249</td>\n",
              "      <td>league-of-legends-dutch-league-spring-2021-pla...</td>\n",
              "      <td>[{'acronym': 'EZ', 'id': 3343, 'image_url': 'h...</td>\n",
              "      <td>{'id': 1, 'name': 'LoL', 'slug': 'league-of-le...</td>\n",
              "      <td>NaN</td>\n",
              "      <td>Team</td>\n",
              "    </tr>\n",
              "    <tr>\n",
              "      <th>3</th>\n",
              "      <td>2021-03-29T08:00:00Z</td>\n",
              "      <td>2021-04-09T14:00:00Z</td>\n",
              "      <td>5615</td>\n",
              "      <td>{'id': 4142, 'image_url': 'https://cdn.pandasc...</td>\n",
              "      <td>4142</td>\n",
              "      <td>False</td>\n",
              "      <td>[{'begin_at': '2021-03-29T08:00:00Z', 'detaile...</td>\n",
              "      <td>2021-03-03T11:01:03Z</td>\n",
              "      <td>Playoffs</td>\n",
              "      <td>None</td>\n",
              "      <td>{'begin_at': '2021-01-18T08:00:00Z', 'descript...</td>\n",
              "      <td>3259</td>\n",
              "      <td>league-of-legends-challenger-korea-lck-cl-spri...</td>\n",
              "      <td>[]</td>\n",
              "      <td>{'id': 1, 'name': 'LoL', 'slug': 'league-of-le...</td>\n",
              "      <td>NaN</td>\n",
              "      <td>Team</td>\n",
              "    </tr>\n",
              "    <tr>\n",
              "      <th>4</th>\n",
              "      <td>2021-03-27T16:00:00Z</td>\n",
              "      <td>2021-04-18T21:00:00Z</td>\n",
              "      <td>5614</td>\n",
              "      <td>{'id': 302, 'image_url': 'https://cdn.pandasco...</td>\n",
              "      <td>302</td>\n",
              "      <td>True</td>\n",
              "      <td>[{'begin_at': '2021-03-27T16:00:00Z', 'detaile...</td>\n",
              "      <td>2021-03-04T08:53:53Z</td>\n",
              "      <td>Playoffs</td>\n",
              "      <td>None</td>\n",
              "      <td>{'begin_at': '2021-01-16T16:00:00Z', 'descript...</td>\n",
              "      <td>3240</td>\n",
              "      <td>league-of-legends-cblol-brazil-split-1-2021-pl...</td>\n",
              "      <td>[{'acronym': 'RCC', 'id': 161, 'image_url': 'h...</td>\n",
              "      <td>{'id': 1, 'name': 'LoL', 'slug': 'league-of-le...</td>\n",
              "      <td>NaN</td>\n",
              "      <td>Team</td>\n",
              "    </tr>\n",
              "  </tbody>\n",
              "</table>\n",
              "</div>"
            ],
            "text/plain": [
              "               begin_at                end_at  ...  winner_id winner_type\n",
              "0  2021-03-09T17:00:00Z                  None  ...        NaN        Team\n",
              "1  2021-03-09T16:30:00Z                  None  ...        NaN        Team\n",
              "2  2021-03-09T18:00:00Z  2021-03-23T23:00:00Z  ...        NaN        Team\n",
              "3  2021-03-29T08:00:00Z  2021-04-09T14:00:00Z  ...        NaN        Team\n",
              "4  2021-03-27T16:00:00Z  2021-04-18T21:00:00Z  ...        NaN        Team\n",
              "\n",
              "[5 rows x 17 columns]"
            ]
          },
          "metadata": {
            "tags": []
          },
          "execution_count": 19
        }
      ]
    },
    {
      "cell_type": "markdown",
      "metadata": {
        "id": "PUcsMSKPM92p"
      },
      "source": [
        "Encontramos las fechas de inicio y fin de cada torneo, su id de torneo junto a los id de la liga y serie a la que corresponde. Fecha de última actualización, soporte de stream en vivo, nombre del torneo, slug y prizepool que parece no tener un valor diferente a None, tenemos el winner id y winner type (en caso de haber un ganador) y dos campos dedicados a los enfrentamientos y equipos.\r\n",
        "\r\n",
        "En los enfrentamientos encontramos aún más información:"
      ]
    },
    {
      "cell_type": "code",
      "metadata": {
        "colab": {
          "base_uri": "https://localhost:8080/",
          "height": 695
        },
        "id": "Yne2Q11oNAXX",
        "outputId": "0b38f807-4502-4f3d-a04e-87f875adb981"
      },
      "source": [
        "df_enfrentamientos.head()"
      ],
      "execution_count": 20,
      "outputs": [
        {
          "output_type": "execute_result",
          "data": {
            "text/html": [
              "<div>\n",
              "<style scoped>\n",
              "    .dataframe tbody tr th:only-of-type {\n",
              "        vertical-align: middle;\n",
              "    }\n",
              "\n",
              "    .dataframe tbody tr th {\n",
              "        vertical-align: top;\n",
              "    }\n",
              "\n",
              "    .dataframe thead th {\n",
              "        text-align: right;\n",
              "    }\n",
              "</style>\n",
              "<table border=\"1\" class=\"dataframe\">\n",
              "  <thead>\n",
              "    <tr style=\"text-align: right;\">\n",
              "      <th></th>\n",
              "      <th>name</th>\n",
              "      <th>official_stream_url</th>\n",
              "      <th>end_at</th>\n",
              "      <th>draw</th>\n",
              "      <th>league</th>\n",
              "      <th>league_id</th>\n",
              "      <th>detailed_stats</th>\n",
              "      <th>live_embed_url</th>\n",
              "      <th>tournament_id</th>\n",
              "      <th>results</th>\n",
              "      <th>videogame_version</th>\n",
              "      <th>streams</th>\n",
              "      <th>modified_at</th>\n",
              "      <th>games</th>\n",
              "      <th>original_scheduled_at</th>\n",
              "      <th>match_type</th>\n",
              "      <th>scheduled_at</th>\n",
              "      <th>winner</th>\n",
              "      <th>slug</th>\n",
              "      <th>videogame</th>\n",
              "      <th>status</th>\n",
              "      <th>winner_id</th>\n",
              "      <th>forfeit</th>\n",
              "      <th>tournament</th>\n",
              "      <th>rescheduled</th>\n",
              "      <th>id</th>\n",
              "      <th>game_advantage</th>\n",
              "      <th>serie_id</th>\n",
              "      <th>opponents</th>\n",
              "      <th>number_of_games</th>\n",
              "      <th>serie</th>\n",
              "      <th>live</th>\n",
              "      <th>begin_at</th>\n",
              "    </tr>\n",
              "  </thead>\n",
              "  <tbody>\n",
              "    <tr>\n",
              "      <th>0</th>\n",
              "      <td>Round 3: TBD vs TBD</td>\n",
              "      <td>None</td>\n",
              "      <td>None</td>\n",
              "      <td>False</td>\n",
              "      <td>{'id': 4302, 'image_url': 'https://cdn.pandasc...</td>\n",
              "      <td>4302</td>\n",
              "      <td>True</td>\n",
              "      <td>None</td>\n",
              "      <td>5649</td>\n",
              "      <td>[]</td>\n",
              "      <td>None</td>\n",
              "      <td>{'english': {'embed_url': None, 'raw_url': Non...</td>\n",
              "      <td>2021-03-07T20:20:32Z</td>\n",
              "      <td>[{'begin_at': None, 'complete': False, 'detail...</td>\n",
              "      <td>2021-03-11T17:00:00Z</td>\n",
              "      <td>best_of</td>\n",
              "      <td>2021-03-11T17:00:00Z</td>\n",
              "      <td>None</td>\n",
              "      <td>2021-03-11-c3b8c131-fac1-4b71-b339-f1d0387914a6</td>\n",
              "      <td>{'id': 1, 'name': 'LoL', 'slug': 'league-of-le...</td>\n",
              "      <td>not_started</td>\n",
              "      <td>NaN</td>\n",
              "      <td>False</td>\n",
              "      <td>{'begin_at': '2021-03-09T17:00:00Z', 'end_at':...</td>\n",
              "      <td>False</td>\n",
              "      <td>586007</td>\n",
              "      <td>None</td>\n",
              "      <td>3254</td>\n",
              "      <td>[]</td>\n",
              "      <td>5</td>\n",
              "      <td>{'begin_at': '2021-01-19T17:00:00Z', 'descript...</td>\n",
              "      <td>{'opens_at': None, 'supported': False, 'url': ...</td>\n",
              "      <td>2021-03-11T17:00:00Z</td>\n",
              "    </tr>\n",
              "    <tr>\n",
              "      <th>1</th>\n",
              "      <td>Round 2 Match 2: MOUZ vs BIG</td>\n",
              "      <td>None</td>\n",
              "      <td>None</td>\n",
              "      <td>False</td>\n",
              "      <td>{'id': 4302, 'image_url': 'https://cdn.pandasc...</td>\n",
              "      <td>4302</td>\n",
              "      <td>True</td>\n",
              "      <td>None</td>\n",
              "      <td>5649</td>\n",
              "      <td>[{'score': 0, 'team_id': 16}, {'score': 0, 'te...</td>\n",
              "      <td>None</td>\n",
              "      <td>{'english': {'embed_url': None, 'raw_url': Non...</td>\n",
              "      <td>2021-03-07T20:19:53Z</td>\n",
              "      <td>[{'begin_at': None, 'complete': False, 'detail...</td>\n",
              "      <td>2021-03-10T20:00:00Z</td>\n",
              "      <td>best_of</td>\n",
              "      <td>2021-03-10T20:00:00Z</td>\n",
              "      <td>None</td>\n",
              "      <td>mousesports-vs-berlin-international-gaming-202...</td>\n",
              "      <td>{'id': 1, 'name': 'LoL', 'slug': 'league-of-le...</td>\n",
              "      <td>not_started</td>\n",
              "      <td>NaN</td>\n",
              "      <td>False</td>\n",
              "      <td>{'begin_at': '2021-03-09T17:00:00Z', 'end_at':...</td>\n",
              "      <td>False</td>\n",
              "      <td>586006</td>\n",
              "      <td>None</td>\n",
              "      <td>3254</td>\n",
              "      <td>[{'opponent': {'acronym': 'MOUZ', 'id': 16, 'i...</td>\n",
              "      <td>3</td>\n",
              "      <td>{'begin_at': '2021-01-19T17:00:00Z', 'descript...</td>\n",
              "      <td>{'opens_at': None, 'supported': False, 'url': ...</td>\n",
              "      <td>2021-03-10T20:00:00Z</td>\n",
              "    </tr>\n",
              "    <tr>\n",
              "      <th>2</th>\n",
              "      <td>Round 2 Match 1: TBD vs TBD</td>\n",
              "      <td>None</td>\n",
              "      <td>None</td>\n",
              "      <td>False</td>\n",
              "      <td>{'id': 4302, 'image_url': 'https://cdn.pandasc...</td>\n",
              "      <td>4302</td>\n",
              "      <td>True</td>\n",
              "      <td>None</td>\n",
              "      <td>5649</td>\n",
              "      <td>[]</td>\n",
              "      <td>None</td>\n",
              "      <td>{'english': {'embed_url': None, 'raw_url': Non...</td>\n",
              "      <td>2021-03-07T20:19:33Z</td>\n",
              "      <td>[{'begin_at': None, 'complete': False, 'detail...</td>\n",
              "      <td>2021-03-10T17:00:00Z</td>\n",
              "      <td>best_of</td>\n",
              "      <td>2021-03-10T17:00:00Z</td>\n",
              "      <td>None</td>\n",
              "      <td>2021-03-10-7412caf0-3f45-40e1-b763-80d005a04162</td>\n",
              "      <td>{'id': 1, 'name': 'LoL', 'slug': 'league-of-le...</td>\n",
              "      <td>not_started</td>\n",
              "      <td>NaN</td>\n",
              "      <td>False</td>\n",
              "      <td>{'begin_at': '2021-03-09T17:00:00Z', 'end_at':...</td>\n",
              "      <td>False</td>\n",
              "      <td>586005</td>\n",
              "      <td>None</td>\n",
              "      <td>3254</td>\n",
              "      <td>[]</td>\n",
              "      <td>3</td>\n",
              "      <td>{'begin_at': '2021-01-19T17:00:00Z', 'descript...</td>\n",
              "      <td>{'opens_at': None, 'supported': False, 'url': ...</td>\n",
              "      <td>2021-03-10T17:00:00Z</td>\n",
              "    </tr>\n",
              "    <tr>\n",
              "      <th>3</th>\n",
              "      <td>Round 1 Match 2: SKP vs S04.E</td>\n",
              "      <td>None</td>\n",
              "      <td>None</td>\n",
              "      <td>False</td>\n",
              "      <td>{'id': 4302, 'image_url': 'https://cdn.pandasc...</td>\n",
              "      <td>4302</td>\n",
              "      <td>True</td>\n",
              "      <td>None</td>\n",
              "      <td>5649</td>\n",
              "      <td>[{'score': 0, 'team_id': 247}, {'score': 0, 't...</td>\n",
              "      <td>None</td>\n",
              "      <td>{'english': {'embed_url': None, 'raw_url': Non...</td>\n",
              "      <td>2021-03-07T20:18:12Z</td>\n",
              "      <td>[{'begin_at': None, 'complete': False, 'detail...</td>\n",
              "      <td>2021-03-09T20:00:00Z</td>\n",
              "      <td>best_of</td>\n",
              "      <td>2021-03-09T20:00:00Z</td>\n",
              "      <td>None</td>\n",
              "      <td>sk-gaming-prime-vs-fc-schalke-04-evolution-202...</td>\n",
              "      <td>{'id': 1, 'name': 'LoL', 'slug': 'league-of-le...</td>\n",
              "      <td>not_started</td>\n",
              "      <td>NaN</td>\n",
              "      <td>False</td>\n",
              "      <td>{'begin_at': '2021-03-09T17:00:00Z', 'end_at':...</td>\n",
              "      <td>False</td>\n",
              "      <td>586004</td>\n",
              "      <td>None</td>\n",
              "      <td>3254</td>\n",
              "      <td>[{'opponent': {'acronym': 'SKP', 'id': 247, 'i...</td>\n",
              "      <td>3</td>\n",
              "      <td>{'begin_at': '2021-01-19T17:00:00Z', 'descript...</td>\n",
              "      <td>{'opens_at': None, 'supported': False, 'url': ...</td>\n",
              "      <td>2021-03-09T20:00:00Z</td>\n",
              "    </tr>\n",
              "    <tr>\n",
              "      <th>4</th>\n",
              "      <td>Round 1 Match 1: GL vs USE</td>\n",
              "      <td>None</td>\n",
              "      <td>None</td>\n",
              "      <td>False</td>\n",
              "      <td>{'id': 4302, 'image_url': 'https://cdn.pandasc...</td>\n",
              "      <td>4302</td>\n",
              "      <td>True</td>\n",
              "      <td>None</td>\n",
              "      <td>5649</td>\n",
              "      <td>[{'score': 0, 'team_id': 126830}, {'score': 0,...</td>\n",
              "      <td>None</td>\n",
              "      <td>{'english': {'embed_url': None, 'raw_url': Non...</td>\n",
              "      <td>2021-03-07T20:17:44Z</td>\n",
              "      <td>[{'begin_at': None, 'complete': False, 'detail...</td>\n",
              "      <td>2021-03-09T17:00:00Z</td>\n",
              "      <td>best_of</td>\n",
              "      <td>2021-03-09T17:00:00Z</td>\n",
              "      <td>None</td>\n",
              "      <td>team-gamerlegion-vs-unicorns-of-love-sexy-edit...</td>\n",
              "      <td>{'id': 1, 'name': 'LoL', 'slug': 'league-of-le...</td>\n",
              "      <td>not_started</td>\n",
              "      <td>NaN</td>\n",
              "      <td>False</td>\n",
              "      <td>{'begin_at': '2021-03-09T17:00:00Z', 'end_at':...</td>\n",
              "      <td>False</td>\n",
              "      <td>586003</td>\n",
              "      <td>None</td>\n",
              "      <td>3254</td>\n",
              "      <td>[{'opponent': {'acronym': 'GL', 'id': 126830, ...</td>\n",
              "      <td>3</td>\n",
              "      <td>{'begin_at': '2021-01-19T17:00:00Z', 'descript...</td>\n",
              "      <td>{'opens_at': None, 'supported': False, 'url': ...</td>\n",
              "      <td>2021-03-09T17:00:00Z</td>\n",
              "    </tr>\n",
              "  </tbody>\n",
              "</table>\n",
              "</div>"
            ],
            "text/plain": [
              "                            name  ...              begin_at\n",
              "0            Round 3: TBD vs TBD  ...  2021-03-11T17:00:00Z\n",
              "1   Round 2 Match 2: MOUZ vs BIG  ...  2021-03-10T20:00:00Z\n",
              "2    Round 2 Match 1: TBD vs TBD  ...  2021-03-10T17:00:00Z\n",
              "3  Round 1 Match 2: SKP vs S04.E  ...  2021-03-09T20:00:00Z\n",
              "4     Round 1 Match 1: GL vs USE  ...  2021-03-09T17:00:00Z\n",
              "\n",
              "[5 rows x 33 columns]"
            ]
          },
          "metadata": {
            "tags": []
          },
          "execution_count": 20
        }
      ]
    },
    {
      "cell_type": "markdown",
      "metadata": {
        "id": "pQHArhcVNEeh"
      },
      "source": [
        "\r\n",
        "Parece que este Dataframe contiene información que nos puede ayudar a analizar el performance de los equipos y además tenemos datos sobre las partidas y sus streams. Encontramos las fechas de inicio y fin de los enfrentamientos, los id de ligas y torneos, resultados, la versión del juego con la que se jugó, tipos de enfrentamiento, número de partidas por enfrentamiento, si hubo abandonó o cambios de calendarización, etc.\r\n",
        "\r\n",
        "Hasta el momento los datos respecto a los enfrentamientos parecen aportar más detalles. Finalmente, echemos un ojo a los equipos:"
      ]
    },
    {
      "cell_type": "code",
      "metadata": {
        "colab": {
          "base_uri": "https://localhost:8080/",
          "height": 380
        },
        "id": "19a_vha4NH0Z",
        "outputId": "6f323a1d-292b-4545-d3b9-6fcdb82d720f"
      },
      "source": [
        "df_equipos.head()"
      ],
      "execution_count": 21,
      "outputs": [
        {
          "output_type": "execute_result",
          "data": {
            "text/html": [
              "<div>\n",
              "<style scoped>\n",
              "    .dataframe tbody tr th:only-of-type {\n",
              "        vertical-align: middle;\n",
              "    }\n",
              "\n",
              "    .dataframe tbody tr th {\n",
              "        vertical-align: top;\n",
              "    }\n",
              "\n",
              "    .dataframe thead th {\n",
              "        text-align: right;\n",
              "    }\n",
              "</style>\n",
              "<table border=\"1\" class=\"dataframe\">\n",
              "  <thead>\n",
              "    <tr style=\"text-align: right;\">\n",
              "      <th></th>\n",
              "      <th>acronym</th>\n",
              "      <th>current_videogame</th>\n",
              "      <th>id</th>\n",
              "      <th>image_url</th>\n",
              "      <th>location</th>\n",
              "      <th>modified_at</th>\n",
              "      <th>name</th>\n",
              "      <th>players</th>\n",
              "      <th>slug</th>\n",
              "    </tr>\n",
              "  </thead>\n",
              "  <tbody>\n",
              "    <tr>\n",
              "      <th>0</th>\n",
              "      <td>PCE</td>\n",
              "      <td>{'id': 1, 'name': 'LoL', 'slug': 'league-of-le...</td>\n",
              "      <td>128614</td>\n",
              "      <td>https://cdn.pandascore.co/images/team/image/12...</td>\n",
              "      <td>AU</td>\n",
              "      <td>2021-03-05T13:55:39Z</td>\n",
              "      <td>PEACE</td>\n",
              "      <td>[{'birth_year': None, 'birthday': None, 'first...</td>\n",
              "      <td>peace</td>\n",
              "    </tr>\n",
              "    <tr>\n",
              "      <th>1</th>\n",
              "      <td>Z10</td>\n",
              "      <td>{'id': 1, 'name': 'LoL', 'slug': 'league-of-le...</td>\n",
              "      <td>128573</td>\n",
              "      <td>https://cdn.pandascore.co/images/team/image/12...</td>\n",
              "      <td>RS</td>\n",
              "      <td>2021-03-01T19:43:55Z</td>\n",
              "      <td>Z10 ESHARK</td>\n",
              "      <td>[{'birth_year': None, 'birthday': None, 'first...</td>\n",
              "      <td>z10-eshark</td>\n",
              "    </tr>\n",
              "    <tr>\n",
              "      <th>2</th>\n",
              "      <td>X25</td>\n",
              "      <td>{'id': 1, 'name': 'LoL', 'slug': 'league-of-le...</td>\n",
              "      <td>128572</td>\n",
              "      <td>https://cdn.pandascore.co/images/team/image/12...</td>\n",
              "      <td>RS</td>\n",
              "      <td>2021-02-12T16:11:49Z</td>\n",
              "      <td>x25 Esports</td>\n",
              "      <td>[{'birth_year': 1998, 'birthday': '1998-07-31'...</td>\n",
              "      <td>x25-esports</td>\n",
              "    </tr>\n",
              "    <tr>\n",
              "      <th>3</th>\n",
              "      <td>None</td>\n",
              "      <td>{'id': 1, 'name': 'LoL', 'slug': 'league-of-le...</td>\n",
              "      <td>128566</td>\n",
              "      <td>https://cdn.pandascore.co/images/team/image/12...</td>\n",
              "      <td>RU</td>\n",
              "      <td>2021-02-28T10:02:24Z</td>\n",
              "      <td>CTRL PLAY</td>\n",
              "      <td>[{'birth_year': None, 'birthday': None, 'first...</td>\n",
              "      <td>ctrl-play</td>\n",
              "    </tr>\n",
              "    <tr>\n",
              "      <th>4</th>\n",
              "      <td>IPN</td>\n",
              "      <td>{'id': 1, 'name': 'LoL', 'slug': 'league-of-le...</td>\n",
              "      <td>128547</td>\n",
              "      <td>https://cdn.pandascore.co/images/team/image/12...</td>\n",
              "      <td>SG</td>\n",
              "      <td>2021-02-19T17:37:02Z</td>\n",
              "      <td>Impunity</td>\n",
              "      <td>[{'birth_year': None, 'birthday': None, 'first...</td>\n",
              "      <td>impunity-league-of-legends</td>\n",
              "    </tr>\n",
              "  </tbody>\n",
              "</table>\n",
              "</div>"
            ],
            "text/plain": [
              "  acronym  ...                        slug\n",
              "0     PCE  ...                       peace\n",
              "1     Z10  ...                  z10-eshark\n",
              "2     X25  ...                 x25-esports\n",
              "3    None  ...                   ctrl-play\n",
              "4     IPN  ...  impunity-league-of-legends\n",
              "\n",
              "[5 rows x 9 columns]"
            ]
          },
          "metadata": {
            "tags": []
          },
          "execution_count": 21
        }
      ]
    },
    {
      "cell_type": "markdown",
      "metadata": {
        "id": "oeYyMScfNK-K"
      },
      "source": [
        "Al igual que el Dataframe de las ligas, los datos de los equipos parecen estar más limitados a sus nombres, logotipos promocionales, páginas web y algún que otro dato de sus integrantes. Después de está inspección preliminar parece claro que la información más jugosa la encontramos directamente en el calor de la batalla, es decir, los enfrentamientos.\r\n",
        "\r\n",
        "Inspeccionemos sus tipos de datos:"
      ]
    },
    {
      "cell_type": "code",
      "metadata": {
        "colab": {
          "base_uri": "https://localhost:8080/"
        },
        "id": "gA79ekR7NP6A",
        "outputId": "f2a44e7d-ea39-459b-c224-9f57e6149e7e"
      },
      "source": [
        "df_enfrentamientos.info()"
      ],
      "execution_count": 22,
      "outputs": [
        {
          "output_type": "stream",
          "text": [
            "<class 'pandas.core.frame.DataFrame'>\n",
            "RangeIndex: 100 entries, 0 to 99\n",
            "Data columns (total 33 columns):\n",
            " #   Column                 Non-Null Count  Dtype  \n",
            "---  ------                 --------------  -----  \n",
            " 0   name                   100 non-null    object \n",
            " 1   official_stream_url    93 non-null     object \n",
            " 2   end_at                 37 non-null     object \n",
            " 3   draw                   100 non-null    bool   \n",
            " 4   league                 100 non-null    object \n",
            " 5   league_id              100 non-null    int64  \n",
            " 6   detailed_stats         100 non-null    bool   \n",
            " 7   live_embed_url         93 non-null     object \n",
            " 8   tournament_id          100 non-null    int64  \n",
            " 9   results                100 non-null    object \n",
            " 10  videogame_version      37 non-null     object \n",
            " 11  streams                100 non-null    object \n",
            " 12  modified_at            100 non-null    object \n",
            " 13  games                  100 non-null    object \n",
            " 14  original_scheduled_at  100 non-null    object \n",
            " 15  match_type             100 non-null    object \n",
            " 16  scheduled_at           100 non-null    object \n",
            " 17  winner                 37 non-null     object \n",
            " 18  slug                   100 non-null    object \n",
            " 19  videogame              100 non-null    object \n",
            " 20  status                 100 non-null    object \n",
            " 21  winner_id              37 non-null     float64\n",
            " 22  forfeit                100 non-null    bool   \n",
            " 23  tournament             100 non-null    object \n",
            " 24  rescheduled            100 non-null    bool   \n",
            " 25  id                     100 non-null    int64  \n",
            " 26  game_advantage         0 non-null      object \n",
            " 27  serie_id               100 non-null    int64  \n",
            " 28  opponents              100 non-null    object \n",
            " 29  number_of_games        100 non-null    int64  \n",
            " 30  serie                  100 non-null    object \n",
            " 31  live                   100 non-null    object \n",
            " 32  begin_at               100 non-null    object \n",
            "dtypes: bool(4), float64(1), int64(5), object(23)\n",
            "memory usage: 23.2+ KB\n"
          ],
          "name": "stdout"
        }
      ]
    },
    {
      "cell_type": "markdown",
      "metadata": {
        "id": "5M9W2hAgNUah"
      },
      "source": [
        "Recordemos que este Dataframe es solo una pequeña parte de todos los datos que nos puede entregar la API, 100 registros de 18694 en realidad, pero podemos sacar algunas conclusiones preliminares.\r\n",
        "\r\n",
        "Es necesario transformar los campos de fechas al tipo de dato correspondiente para su manejo, tal vez sea necesario eliminar algunas columnas que sea redundantes o que no aporten información útil, como game advantage que parece estar lleno de valores None. Puede que sea conveniente transformar algunos datos a tipo string para obtener más información.\r\n",
        "\r\n",
        "Una de las cosas que pueden resultar problemáticas son los enfrentamientos que estan agendados pero no se han llevado a cabo, si bien es bueno tenerlos en cuenta, muchos de los campos terminan teniendo valores nulos a causa de estos, por lo que resulta conveniente pensar solo en aquellos enfrentamientos que ya se han llevado a cabo.\r\n",
        "\r\n",
        "Hay muchas posibilidades, pero por el momento, parece que el dataframe que mejor podemos explotar para responder a las preguntas que nos hicimos es el correspondiente a los enfrentamientos."
      ]
    },
    {
      "cell_type": "markdown",
      "metadata": {
        "id": "eTnZ2bdTN2_o"
      },
      "source": [
        "# 5,6.- Limpieza de datos y agregaciones / Automatización y APIs\r\n",
        "\r\n",
        "En esencia el Postwork 05 busca que limpiemos nuestro Dataset de valores nulos y probemos obtener información mediante agreaciones. Mientras que el Postwork 06 invita a automatizar el proceso de peticiones a una API. En esta entrega cambiaremos un poco el orden, primero realizaremos la automatización de la petición para obtener todos los datos y después los limpiaremos.\r\n",
        "\r\n",
        "<p align=\"center\">\r\n",
        "<img src=\"https://empresas.blogthinkbig.com/wp-content/uploads/2019/03/janitor.png\" height =\"200\" width = \"200\" alt=lego>\r\n",
        "</p>\r\n",
        "\r\n",
        "En postworks anteriores mencionamos que una petición a nuestra API de confianza, PandaScore, puede regresar como máximo 100 registros por petición y que las peticiones responden a parámetros de la URL. Creemos que la mejor forma de automatizar este proceso es con una función que nos devuelva la información que queremos, del juego que queremos de la API:"
      ]
    },
    {
      "cell_type": "code",
      "metadata": {
        "id": "_JMpBnJDN-Ys"
      },
      "source": [
        "import requests #Importamos los paquete necesarios\r\n",
        "import pandas as pd \r\n",
        "import math as mt\r\n",
        " \r\n",
        "def PandaScore_get(juego,informacion): #Definimos nuestra función\r\n",
        "    if isinstance(juego, str) and isinstance(informacion, str): #Nos aseguramos que los argumentos sean de tipo str\r\n",
        "        registros = 100 #Establecemos el número de registros por página\r\n",
        "        token = 'V3U1fnnWozJi3bbhZfrxdiAmN4-XWnX_4g6i_6iauwwh7w-V8Ns' #Token de acceso\r\n",
        "        url = f\"https://api.pandascore.co/{juego}/{informacion}?page[size]={registros}&token={token}\" #URL con los parámetros deseados\r\n",
        "        response = requests.get(url) #Realizamos la petición\r\n",
        "        if response.status_code == 200: #Si todo salió bien continuamos\r\n",
        "            Iteraciones = mt.ceil(float(response.headers['X-Total'])/registros) #Calculamos el número de páginas en base a todos los registros que hay en la API\r\n",
        "            #Al dividir el número total de registros entre los registros solicitados obtenemos un aproximado, para asegurar que tomaremos todos, redondeamos al entero más alto\r\n",
        "            for i in range(1,Iteraciones+1): #Ciclo for para obtener todos los registros de cada página\r\n",
        "                url = f\"https://api.pandascore.co/{juego}/{informacion}?page[size]={registros}&page[number]={i}&token=V3U1fnnWozJi3bbhZfrxdiAmN4-XWnX_4g6i_6iauwwh7w-V8Ns\"\r\n",
        "                #URL el parámetro de página deseada\r\n",
        "                response = requests.get(url) #Realizamos la petición correspondiente\r\n",
        "                data = response.json() #Transformamos la respuesta \r\n",
        "                if i == 1: #En la primer iteración se crea un Dataframe\r\n",
        "                    df = pd.DataFrame.from_dict(data)\r\n",
        "                else: #En el resto de iteraciones se van añadiendo los nuevos registros\r\n",
        "                    df = df.append(pd.DataFrame.from_dict(data),ignore_index=True) \r\n",
        "            return df # Finalmente se devuelve el Dataframe con todos los registros\r\n",
        "        else: #Si la petición no se ejecutó correctamente mandamos un mensaje con el error devuelto\r\n",
        "            return 'Error de petición: '+str(response.status_code)  \r\n",
        "    else: #Si los argumentos no son de tipo str regresamos un mensaje\r\n",
        "        return 'Por favor coloque un argumento válido en formato string.'\r\n",
        "  "
      ],
      "execution_count": 23,
      "outputs": []
    },
    {
      "cell_type": "markdown",
      "metadata": {
        "id": "C0XqlyXuOB_o"
      },
      "source": [
        "Veamos a la función en acción:"
      ]
    },
    {
      "cell_type": "code",
      "metadata": {
        "colab": {
          "base_uri": "https://localhost:8080/",
          "height": 36
        },
        "id": "_7vLIN8MODBb",
        "outputId": "9dbc0b47-a94d-4e2e-bbe6-70d44b317f79"
      },
      "source": [
        "PandaScore_get('lol',1)"
      ],
      "execution_count": 24,
      "outputs": [
        {
          "output_type": "execute_result",
          "data": {
            "application/vnd.google.colaboratory.intrinsic+json": {
              "type": "string"
            },
            "text/plain": [
              "'Por favor coloque un argumento válido en formato string.'"
            ]
          },
          "metadata": {
            "tags": []
          },
          "execution_count": 24
        }
      ]
    },
    {
      "cell_type": "code",
      "metadata": {
        "colab": {
          "base_uri": "https://localhost:8080/",
          "height": 36
        },
        "id": "_09TQj7AOJ_H",
        "outputId": "7fad1820-c23d-48e9-85b6-2ec1bff546e0"
      },
      "source": [
        "PandaScore_get('lol','matchs')"
      ],
      "execution_count": 25,
      "outputs": [
        {
          "output_type": "execute_result",
          "data": {
            "application/vnd.google.colaboratory.intrinsic+json": {
              "type": "string"
            },
            "text/plain": [
              "'Error de petición: 404'"
            ]
          },
          "metadata": {
            "tags": []
          },
          "execution_count": 25
        }
      ]
    },
    {
      "cell_type": "markdown",
      "metadata": {
        "id": "ICgCyGdFObb2"
      },
      "source": [
        "Si los argumentos son correctos se nos devolverá el Dataframe correspondiente, el tiempo de ejecución varia dependiendo de la información solicitada, en el caso de los enfrentamientos tenemos 18694 registros, por lo que la función tomará un par de minutos al solo poder realizar 100 peticiones, en general consumiriamos 187 de nuestros 1000 intentos por hora:"
      ]
    },
    {
      "cell_type": "code",
      "metadata": {
        "id": "KwTeHB4zOeCi"
      },
      "source": [
        "df_matches = PandaScore_get('lol','matches')"
      ],
      "execution_count": 26,
      "outputs": []
    },
    {
      "cell_type": "markdown",
      "metadata": {
        "id": "z0aLhUx2OJFV"
      },
      "source": [
        "Observemos el Dataframe que se nos devuelve:"
      ]
    },
    {
      "cell_type": "code",
      "metadata": {
        "colab": {
          "base_uri": "https://localhost:8080/",
          "height": 1000
        },
        "id": "c_44zFMdOlrd",
        "outputId": "467e3a17-31f5-4a6e-c3e4-9b31a5127f81"
      },
      "source": [
        "df_matches"
      ],
      "execution_count": 28,
      "outputs": [
        {
          "output_type": "execute_result",
          "data": {
            "text/html": [
              "<div>\n",
              "<style scoped>\n",
              "    .dataframe tbody tr th:only-of-type {\n",
              "        vertical-align: middle;\n",
              "    }\n",
              "\n",
              "    .dataframe tbody tr th {\n",
              "        vertical-align: top;\n",
              "    }\n",
              "\n",
              "    .dataframe thead th {\n",
              "        text-align: right;\n",
              "    }\n",
              "</style>\n",
              "<table border=\"1\" class=\"dataframe\">\n",
              "  <thead>\n",
              "    <tr style=\"text-align: right;\">\n",
              "      <th></th>\n",
              "      <th>name</th>\n",
              "      <th>official_stream_url</th>\n",
              "      <th>end_at</th>\n",
              "      <th>draw</th>\n",
              "      <th>league</th>\n",
              "      <th>league_id</th>\n",
              "      <th>detailed_stats</th>\n",
              "      <th>live_embed_url</th>\n",
              "      <th>tournament_id</th>\n",
              "      <th>results</th>\n",
              "      <th>videogame_version</th>\n",
              "      <th>streams</th>\n",
              "      <th>modified_at</th>\n",
              "      <th>games</th>\n",
              "      <th>original_scheduled_at</th>\n",
              "      <th>match_type</th>\n",
              "      <th>scheduled_at</th>\n",
              "      <th>winner</th>\n",
              "      <th>slug</th>\n",
              "      <th>videogame</th>\n",
              "      <th>status</th>\n",
              "      <th>winner_id</th>\n",
              "      <th>forfeit</th>\n",
              "      <th>tournament</th>\n",
              "      <th>rescheduled</th>\n",
              "      <th>id</th>\n",
              "      <th>game_advantage</th>\n",
              "      <th>serie_id</th>\n",
              "      <th>opponents</th>\n",
              "      <th>number_of_games</th>\n",
              "      <th>serie</th>\n",
              "      <th>live</th>\n",
              "      <th>begin_at</th>\n",
              "    </tr>\n",
              "  </thead>\n",
              "  <tbody>\n",
              "    <tr>\n",
              "      <th>0</th>\n",
              "      <td>Round 3: TBD vs TBD</td>\n",
              "      <td>None</td>\n",
              "      <td>None</td>\n",
              "      <td>False</td>\n",
              "      <td>{'id': 4302, 'image_url': 'https://cdn.pandasc...</td>\n",
              "      <td>4302</td>\n",
              "      <td>True</td>\n",
              "      <td>None</td>\n",
              "      <td>5649</td>\n",
              "      <td>[]</td>\n",
              "      <td>None</td>\n",
              "      <td>{'english': {'embed_url': None, 'raw_url': Non...</td>\n",
              "      <td>2021-03-07T20:20:32Z</td>\n",
              "      <td>[{'begin_at': None, 'complete': False, 'detail...</td>\n",
              "      <td>2021-03-11T17:00:00Z</td>\n",
              "      <td>best_of</td>\n",
              "      <td>2021-03-11T17:00:00Z</td>\n",
              "      <td>None</td>\n",
              "      <td>2021-03-11-c3b8c131-fac1-4b71-b339-f1d0387914a6</td>\n",
              "      <td>{'id': 1, 'name': 'LoL', 'slug': 'league-of-le...</td>\n",
              "      <td>not_started</td>\n",
              "      <td>NaN</td>\n",
              "      <td>False</td>\n",
              "      <td>{'begin_at': '2021-03-09T17:00:00Z', 'end_at':...</td>\n",
              "      <td>False</td>\n",
              "      <td>586007</td>\n",
              "      <td>None</td>\n",
              "      <td>3254</td>\n",
              "      <td>[]</td>\n",
              "      <td>5</td>\n",
              "      <td>{'begin_at': '2021-01-19T17:00:00Z', 'descript...</td>\n",
              "      <td>{'opens_at': None, 'supported': False, 'url': ...</td>\n",
              "      <td>2021-03-11T17:00:00Z</td>\n",
              "    </tr>\n",
              "    <tr>\n",
              "      <th>1</th>\n",
              "      <td>Round 2 Match 2: MOUZ vs BIG</td>\n",
              "      <td>None</td>\n",
              "      <td>None</td>\n",
              "      <td>False</td>\n",
              "      <td>{'id': 4302, 'image_url': 'https://cdn.pandasc...</td>\n",
              "      <td>4302</td>\n",
              "      <td>True</td>\n",
              "      <td>None</td>\n",
              "      <td>5649</td>\n",
              "      <td>[{'score': 0, 'team_id': 16}, {'score': 0, 'te...</td>\n",
              "      <td>None</td>\n",
              "      <td>{'english': {'embed_url': None, 'raw_url': Non...</td>\n",
              "      <td>2021-03-07T20:19:53Z</td>\n",
              "      <td>[{'begin_at': None, 'complete': False, 'detail...</td>\n",
              "      <td>2021-03-10T20:00:00Z</td>\n",
              "      <td>best_of</td>\n",
              "      <td>2021-03-10T20:00:00Z</td>\n",
              "      <td>None</td>\n",
              "      <td>mousesports-vs-berlin-international-gaming-202...</td>\n",
              "      <td>{'id': 1, 'name': 'LoL', 'slug': 'league-of-le...</td>\n",
              "      <td>not_started</td>\n",
              "      <td>NaN</td>\n",
              "      <td>False</td>\n",
              "      <td>{'begin_at': '2021-03-09T17:00:00Z', 'end_at':...</td>\n",
              "      <td>False</td>\n",
              "      <td>586006</td>\n",
              "      <td>None</td>\n",
              "      <td>3254</td>\n",
              "      <td>[{'opponent': {'acronym': 'MOUZ', 'id': 16, 'i...</td>\n",
              "      <td>3</td>\n",
              "      <td>{'begin_at': '2021-01-19T17:00:00Z', 'descript...</td>\n",
              "      <td>{'opens_at': None, 'supported': False, 'url': ...</td>\n",
              "      <td>2021-03-10T20:00:00Z</td>\n",
              "    </tr>\n",
              "    <tr>\n",
              "      <th>2</th>\n",
              "      <td>Round 2 Match 1: TBD vs TBD</td>\n",
              "      <td>None</td>\n",
              "      <td>None</td>\n",
              "      <td>False</td>\n",
              "      <td>{'id': 4302, 'image_url': 'https://cdn.pandasc...</td>\n",
              "      <td>4302</td>\n",
              "      <td>True</td>\n",
              "      <td>None</td>\n",
              "      <td>5649</td>\n",
              "      <td>[]</td>\n",
              "      <td>None</td>\n",
              "      <td>{'english': {'embed_url': None, 'raw_url': Non...</td>\n",
              "      <td>2021-03-07T20:19:33Z</td>\n",
              "      <td>[{'begin_at': None, 'complete': False, 'detail...</td>\n",
              "      <td>2021-03-10T17:00:00Z</td>\n",
              "      <td>best_of</td>\n",
              "      <td>2021-03-10T17:00:00Z</td>\n",
              "      <td>None</td>\n",
              "      <td>2021-03-10-7412caf0-3f45-40e1-b763-80d005a04162</td>\n",
              "      <td>{'id': 1, 'name': 'LoL', 'slug': 'league-of-le...</td>\n",
              "      <td>not_started</td>\n",
              "      <td>NaN</td>\n",
              "      <td>False</td>\n",
              "      <td>{'begin_at': '2021-03-09T17:00:00Z', 'end_at':...</td>\n",
              "      <td>False</td>\n",
              "      <td>586005</td>\n",
              "      <td>None</td>\n",
              "      <td>3254</td>\n",
              "      <td>[]</td>\n",
              "      <td>3</td>\n",
              "      <td>{'begin_at': '2021-01-19T17:00:00Z', 'descript...</td>\n",
              "      <td>{'opens_at': None, 'supported': False, 'url': ...</td>\n",
              "      <td>2021-03-10T17:00:00Z</td>\n",
              "    </tr>\n",
              "    <tr>\n",
              "      <th>3</th>\n",
              "      <td>Round 1 Match 2: SKP vs S04.E</td>\n",
              "      <td>None</td>\n",
              "      <td>None</td>\n",
              "      <td>False</td>\n",
              "      <td>{'id': 4302, 'image_url': 'https://cdn.pandasc...</td>\n",
              "      <td>4302</td>\n",
              "      <td>True</td>\n",
              "      <td>None</td>\n",
              "      <td>5649</td>\n",
              "      <td>[{'score': 0, 'team_id': 247}, {'score': 0, 't...</td>\n",
              "      <td>None</td>\n",
              "      <td>{'english': {'embed_url': None, 'raw_url': Non...</td>\n",
              "      <td>2021-03-07T20:18:12Z</td>\n",
              "      <td>[{'begin_at': None, 'complete': False, 'detail...</td>\n",
              "      <td>2021-03-09T20:00:00Z</td>\n",
              "      <td>best_of</td>\n",
              "      <td>2021-03-09T20:00:00Z</td>\n",
              "      <td>None</td>\n",
              "      <td>sk-gaming-prime-vs-fc-schalke-04-evolution-202...</td>\n",
              "      <td>{'id': 1, 'name': 'LoL', 'slug': 'league-of-le...</td>\n",
              "      <td>not_started</td>\n",
              "      <td>NaN</td>\n",
              "      <td>False</td>\n",
              "      <td>{'begin_at': '2021-03-09T17:00:00Z', 'end_at':...</td>\n",
              "      <td>False</td>\n",
              "      <td>586004</td>\n",
              "      <td>None</td>\n",
              "      <td>3254</td>\n",
              "      <td>[{'opponent': {'acronym': 'SKP', 'id': 247, 'i...</td>\n",
              "      <td>3</td>\n",
              "      <td>{'begin_at': '2021-01-19T17:00:00Z', 'descript...</td>\n",
              "      <td>{'opens_at': None, 'supported': False, 'url': ...</td>\n",
              "      <td>2021-03-09T20:00:00Z</td>\n",
              "    </tr>\n",
              "    <tr>\n",
              "      <th>4</th>\n",
              "      <td>Round 1 Match 1: GL vs USE</td>\n",
              "      <td>None</td>\n",
              "      <td>None</td>\n",
              "      <td>False</td>\n",
              "      <td>{'id': 4302, 'image_url': 'https://cdn.pandasc...</td>\n",
              "      <td>4302</td>\n",
              "      <td>True</td>\n",
              "      <td>None</td>\n",
              "      <td>5649</td>\n",
              "      <td>[{'score': 0, 'team_id': 126830}, {'score': 0,...</td>\n",
              "      <td>None</td>\n",
              "      <td>{'english': {'embed_url': None, 'raw_url': Non...</td>\n",
              "      <td>2021-03-07T20:17:44Z</td>\n",
              "      <td>[{'begin_at': None, 'complete': False, 'detail...</td>\n",
              "      <td>2021-03-09T17:00:00Z</td>\n",
              "      <td>best_of</td>\n",
              "      <td>2021-03-09T17:00:00Z</td>\n",
              "      <td>None</td>\n",
              "      <td>team-gamerlegion-vs-unicorns-of-love-sexy-edit...</td>\n",
              "      <td>{'id': 1, 'name': 'LoL', 'slug': 'league-of-le...</td>\n",
              "      <td>not_started</td>\n",
              "      <td>NaN</td>\n",
              "      <td>False</td>\n",
              "      <td>{'begin_at': '2021-03-09T17:00:00Z', 'end_at':...</td>\n",
              "      <td>False</td>\n",
              "      <td>586003</td>\n",
              "      <td>None</td>\n",
              "      <td>3254</td>\n",
              "      <td>[{'opponent': {'acronym': 'GL', 'id': 126830, ...</td>\n",
              "      <td>3</td>\n",
              "      <td>{'begin_at': '2021-01-19T17:00:00Z', 'descript...</td>\n",
              "      <td>{'opens_at': None, 'supported': False, 'url': ...</td>\n",
              "      <td>2021-03-09T17:00:00Z</td>\n",
              "    </tr>\n",
              "    <tr>\n",
              "      <th>...</th>\n",
              "      <td>...</td>\n",
              "      <td>...</td>\n",
              "      <td>...</td>\n",
              "      <td>...</td>\n",
              "      <td>...</td>\n",
              "      <td>...</td>\n",
              "      <td>...</td>\n",
              "      <td>...</td>\n",
              "      <td>...</td>\n",
              "      <td>...</td>\n",
              "      <td>...</td>\n",
              "      <td>...</td>\n",
              "      <td>...</td>\n",
              "      <td>...</td>\n",
              "      <td>...</td>\n",
              "      <td>...</td>\n",
              "      <td>...</td>\n",
              "      <td>...</td>\n",
              "      <td>...</td>\n",
              "      <td>...</td>\n",
              "      <td>...</td>\n",
              "      <td>...</td>\n",
              "      <td>...</td>\n",
              "      <td>...</td>\n",
              "      <td>...</td>\n",
              "      <td>...</td>\n",
              "      <td>...</td>\n",
              "      <td>...</td>\n",
              "      <td>...</td>\n",
              "      <td>...</td>\n",
              "      <td>...</td>\n",
              "      <td>...</td>\n",
              "      <td>...</td>\n",
              "    </tr>\n",
              "    <tr>\n",
              "      <th>18689</th>\n",
              "      <td>DIG vs C9</td>\n",
              "      <td>None</td>\n",
              "      <td>2015-05-31T20:43:55Z</td>\n",
              "      <td>False</td>\n",
              "      <td>{'id': 289, 'image_url': 'https://cdn.pandasco...</td>\n",
              "      <td>289</td>\n",
              "      <td>True</td>\n",
              "      <td>None</td>\n",
              "      <td>1</td>\n",
              "      <td>[{'score': 1, 'team_id': 384}, {'score': 0, 't...</td>\n",
              "      <td>{'current': False, 'name': '5.8.1'}</td>\n",
              "      <td>{'english': {'embed_url': None, 'raw_url': Non...</td>\n",
              "      <td>2018-12-09T12:33:21Z</td>\n",
              "      <td>[{'begin_at': '2015-05-31T20:09:51Z', 'complet...</td>\n",
              "      <td>None</td>\n",
              "      <td>best_of</td>\n",
              "      <td>2015-05-31T20:00:00Z</td>\n",
              "      <td>{'acronym': 'DIG', 'id': 384, 'image_url': 'ht...</td>\n",
              "      <td>dignitas-vs-cloud9-2015-05-31</td>\n",
              "      <td>{'id': 1, 'name': 'LoL', 'slug': 'league-of-le...</td>\n",
              "      <td>finished</td>\n",
              "      <td>384.0</td>\n",
              "      <td>False</td>\n",
              "      <td>{'begin_at': '2015-05-30T19:00:00Z', 'end_at':...</td>\n",
              "      <td>False</td>\n",
              "      <td>7</td>\n",
              "      <td>None</td>\n",
              "      <td>31</td>\n",
              "      <td>[{'opponent': {'acronym': 'DIG', 'id': 384, 'i...</td>\n",
              "      <td>1</td>\n",
              "      <td>{'begin_at': '2015-04-26T00:00:00Z', 'descript...</td>\n",
              "      <td>{'opens_at': None, 'supported': False, 'url': ...</td>\n",
              "      <td>2015-05-31T20:09:51Z</td>\n",
              "    </tr>\n",
              "    <tr>\n",
              "      <th>18690</th>\n",
              "      <td>T8 vs TL</td>\n",
              "      <td>None</td>\n",
              "      <td>2015-05-31T19:04:18Z</td>\n",
              "      <td>False</td>\n",
              "      <td>{'id': 289, 'image_url': 'https://cdn.pandasco...</td>\n",
              "      <td>289</td>\n",
              "      <td>True</td>\n",
              "      <td>None</td>\n",
              "      <td>1</td>\n",
              "      <td>[{'score': 0, 'team_id': 6}, {'score': 1, 'tea...</td>\n",
              "      <td>{'current': False, 'name': '5.8.1'}</td>\n",
              "      <td>{'english': {'embed_url': None, 'raw_url': Non...</td>\n",
              "      <td>2018-12-09T12:33:19Z</td>\n",
              "      <td>[{'begin_at': '2015-05-31T18:22:58Z', 'complet...</td>\n",
              "      <td>None</td>\n",
              "      <td>best_of</td>\n",
              "      <td>2015-05-31T18:00:00Z</td>\n",
              "      <td>{'acronym': 'TL', 'id': 390, 'image_url': 'htt...</td>\n",
              "      <td>team-8-vs-team-liquid-2015-05-31</td>\n",
              "      <td>{'id': 1, 'name': 'LoL', 'slug': 'league-of-le...</td>\n",
              "      <td>finished</td>\n",
              "      <td>390.0</td>\n",
              "      <td>False</td>\n",
              "      <td>{'begin_at': '2015-05-30T19:00:00Z', 'end_at':...</td>\n",
              "      <td>False</td>\n",
              "      <td>6</td>\n",
              "      <td>None</td>\n",
              "      <td>31</td>\n",
              "      <td>[{'opponent': {'acronym': 'T8', 'id': 6, 'imag...</td>\n",
              "      <td>1</td>\n",
              "      <td>{'begin_at': '2015-04-26T00:00:00Z', 'descript...</td>\n",
              "      <td>{'opens_at': None, 'supported': False, 'url': ...</td>\n",
              "      <td>2015-05-31T18:22:58Z</td>\n",
              "    </tr>\n",
              "    <tr>\n",
              "      <th>18691</th>\n",
              "      <td>GV vs NME</td>\n",
              "      <td>None</td>\n",
              "      <td>2015-05-31T00:06:10Z</td>\n",
              "      <td>False</td>\n",
              "      <td>{'id': 289, 'image_url': 'https://cdn.pandasco...</td>\n",
              "      <td>289</td>\n",
              "      <td>True</td>\n",
              "      <td>None</td>\n",
              "      <td>1</td>\n",
              "      <td>[{'score': 0, 'team_id': 9}, {'score': 1, 'tea...</td>\n",
              "      <td>{'current': False, 'name': '5.8.1'}</td>\n",
              "      <td>{'english': {'embed_url': None, 'raw_url': Non...</td>\n",
              "      <td>2018-12-09T12:33:16Z</td>\n",
              "      <td>[{'begin_at': '2015-05-30T23:23:25Z', 'complet...</td>\n",
              "      <td>None</td>\n",
              "      <td>best_of</td>\n",
              "      <td>2015-05-30T23:00:00Z</td>\n",
              "      <td>{'acronym': 'NME', 'id': 10, 'image_url': 'htt...</td>\n",
              "      <td>gravity-vs-enemy-2015-05-31</td>\n",
              "      <td>{'id': 1, 'name': 'LoL', 'slug': 'league-of-le...</td>\n",
              "      <td>finished</td>\n",
              "      <td>10.0</td>\n",
              "      <td>False</td>\n",
              "      <td>{'begin_at': '2015-05-30T19:00:00Z', 'end_at':...</td>\n",
              "      <td>False</td>\n",
              "      <td>5</td>\n",
              "      <td>None</td>\n",
              "      <td>31</td>\n",
              "      <td>[{'opponent': {'acronym': 'GV', 'id': 9, 'imag...</td>\n",
              "      <td>1</td>\n",
              "      <td>{'begin_at': '2015-04-26T00:00:00Z', 'descript...</td>\n",
              "      <td>{'opens_at': None, 'supported': False, 'url': ...</td>\n",
              "      <td>2015-05-30T23:23:25Z</td>\n",
              "    </tr>\n",
              "    <tr>\n",
              "      <th>18692</th>\n",
              "      <td>T8 vs TIP</td>\n",
              "      <td>None</td>\n",
              "      <td>2015-05-30T22:56:32Z</td>\n",
              "      <td>False</td>\n",
              "      <td>{'id': 289, 'image_url': 'https://cdn.pandasco...</td>\n",
              "      <td>289</td>\n",
              "      <td>True</td>\n",
              "      <td>None</td>\n",
              "      <td>1</td>\n",
              "      <td>[{'score': 0, 'team_id': 6}, {'score': 1, 'tea...</td>\n",
              "      <td>{'current': False, 'name': '5.8.1'}</td>\n",
              "      <td>{'english': {'embed_url': None, 'raw_url': Non...</td>\n",
              "      <td>2018-12-09T12:33:14Z</td>\n",
              "      <td>[{'begin_at': '2015-05-30T22:23:32Z', 'complet...</td>\n",
              "      <td>None</td>\n",
              "      <td>best_of</td>\n",
              "      <td>2015-05-30T22:00:00Z</td>\n",
              "      <td>{'acronym': 'TIP', 'id': 385, 'image_url': 'ht...</td>\n",
              "      <td>team-8-vs-impulse-2015-05-31</td>\n",
              "      <td>{'id': 1, 'name': 'LoL', 'slug': 'league-of-le...</td>\n",
              "      <td>finished</td>\n",
              "      <td>385.0</td>\n",
              "      <td>False</td>\n",
              "      <td>{'begin_at': '2015-05-30T19:00:00Z', 'end_at':...</td>\n",
              "      <td>False</td>\n",
              "      <td>4</td>\n",
              "      <td>None</td>\n",
              "      <td>31</td>\n",
              "      <td>[{'opponent': {'acronym': 'T8', 'id': 6, 'imag...</td>\n",
              "      <td>1</td>\n",
              "      <td>{'begin_at': '2015-04-26T00:00:00Z', 'descript...</td>\n",
              "      <td>{'opens_at': None, 'supported': False, 'url': ...</td>\n",
              "      <td>2015-05-30T22:23:32Z</td>\n",
              "    </tr>\n",
              "    <tr>\n",
              "      <th>18693</th>\n",
              "      <td>TL vs TDK</td>\n",
              "      <td>None</td>\n",
              "      <td>2015-05-30T20:55:10Z</td>\n",
              "      <td>False</td>\n",
              "      <td>{'id': 289, 'image_url': 'https://cdn.pandasco...</td>\n",
              "      <td>289</td>\n",
              "      <td>True</td>\n",
              "      <td>None</td>\n",
              "      <td>1</td>\n",
              "      <td>[{'score': 1, 'team_id': 390}, {'score': 0, 't...</td>\n",
              "      <td>{'current': False, 'name': '5.9.1'}</td>\n",
              "      <td>{'english': {'embed_url': None, 'raw_url': Non...</td>\n",
              "      <td>2018-12-09T12:33:10Z</td>\n",
              "      <td>[{'begin_at': '2015-05-30T20:11:29Z', 'complet...</td>\n",
              "      <td>None</td>\n",
              "      <td>best_of</td>\n",
              "      <td>2015-05-30T20:00:00Z</td>\n",
              "      <td>{'acronym': 'TL', 'id': 390, 'image_url': 'htt...</td>\n",
              "      <td>team-liquid-vs-dragon-knights-2015-05-30</td>\n",
              "      <td>{'id': 1, 'name': 'LoL', 'slug': 'league-of-le...</td>\n",
              "      <td>finished</td>\n",
              "      <td>390.0</td>\n",
              "      <td>False</td>\n",
              "      <td>{'begin_at': '2015-05-30T19:00:00Z', 'end_at':...</td>\n",
              "      <td>False</td>\n",
              "      <td>2</td>\n",
              "      <td>None</td>\n",
              "      <td>31</td>\n",
              "      <td>[{'opponent': {'acronym': 'TL', 'id': 390, 'im...</td>\n",
              "      <td>1</td>\n",
              "      <td>{'begin_at': '2015-04-26T00:00:00Z', 'descript...</td>\n",
              "      <td>{'opens_at': None, 'supported': False, 'url': ...</td>\n",
              "      <td>2015-05-30T20:11:29Z</td>\n",
              "    </tr>\n",
              "  </tbody>\n",
              "</table>\n",
              "<p>18694 rows × 33 columns</p>\n",
              "</div>"
            ],
            "text/plain": [
              "                                name  ...              begin_at\n",
              "0                Round 3: TBD vs TBD  ...  2021-03-11T17:00:00Z\n",
              "1       Round 2 Match 2: MOUZ vs BIG  ...  2021-03-10T20:00:00Z\n",
              "2        Round 2 Match 1: TBD vs TBD  ...  2021-03-10T17:00:00Z\n",
              "3      Round 1 Match 2: SKP vs S04.E  ...  2021-03-09T20:00:00Z\n",
              "4         Round 1 Match 1: GL vs USE  ...  2021-03-09T17:00:00Z\n",
              "...                              ...  ...                   ...\n",
              "18689                      DIG vs C9  ...  2015-05-31T20:09:51Z\n",
              "18690                       T8 vs TL  ...  2015-05-31T18:22:58Z\n",
              "18691                      GV vs NME  ...  2015-05-30T23:23:25Z\n",
              "18692                      T8 vs TIP  ...  2015-05-30T22:23:32Z\n",
              "18693                      TL vs TDK  ...  2015-05-30T20:11:29Z\n",
              "\n",
              "[18694 rows x 33 columns]"
            ]
          },
          "metadata": {
            "tags": []
          },
          "execution_count": 28
        }
      ]
    },
    {
      "cell_type": "markdown",
      "metadata": {
        "id": "vCR8kV17OrY6"
      },
      "source": [
        "Veamos las columnas y tipos de datos:"
      ]
    },
    {
      "cell_type": "code",
      "metadata": {
        "colab": {
          "base_uri": "https://localhost:8080/"
        },
        "id": "oMJtKE93OqUs",
        "outputId": "31919090-3b52-45c0-a0e2-936e878dce31"
      },
      "source": [
        "df_matches.info()"
      ],
      "execution_count": 29,
      "outputs": [
        {
          "output_type": "stream",
          "text": [
            "<class 'pandas.core.frame.DataFrame'>\n",
            "RangeIndex: 18694 entries, 0 to 18693\n",
            "Data columns (total 33 columns):\n",
            " #   Column                 Non-Null Count  Dtype  \n",
            "---  ------                 --------------  -----  \n",
            " 0   name                   18694 non-null  object \n",
            " 1   official_stream_url    10896 non-null  object \n",
            " 2   end_at                 18135 non-null  object \n",
            " 3   draw                   18694 non-null  bool   \n",
            " 4   league                 18694 non-null  object \n",
            " 5   league_id              18694 non-null  int64  \n",
            " 6   detailed_stats         18694 non-null  bool   \n",
            " 7   live_embed_url         9340 non-null   object \n",
            " 8   tournament_id          18694 non-null  int64  \n",
            " 9   results                18694 non-null  object \n",
            " 10  videogame_version      17824 non-null  object \n",
            " 11  streams                18694 non-null  object \n",
            " 12  modified_at            18694 non-null  object \n",
            " 13  games                  18694 non-null  object \n",
            " 14  original_scheduled_at  15786 non-null  object \n",
            " 15  match_type             18694 non-null  object \n",
            " 16  scheduled_at           18694 non-null  object \n",
            " 17  winner                 17770 non-null  object \n",
            " 18  slug                   18694 non-null  object \n",
            " 19  videogame              18694 non-null  object \n",
            " 20  status                 18694 non-null  object \n",
            " 21  winner_id              17770 non-null  float64\n",
            " 22  forfeit                18694 non-null  bool   \n",
            " 23  tournament             18694 non-null  object \n",
            " 24  rescheduled            18694 non-null  bool   \n",
            " 25  id                     18694 non-null  int64  \n",
            " 26  game_advantage         11 non-null     object \n",
            " 27  serie_id               18694 non-null  int64  \n",
            " 28  opponents              18694 non-null  object \n",
            " 29  number_of_games        18694 non-null  int64  \n",
            " 30  serie                  18694 non-null  object \n",
            " 31  live                   18694 non-null  object \n",
            " 32  begin_at               18662 non-null  object \n",
            "dtypes: bool(4), float64(1), int64(5), object(23)\n",
            "memory usage: 4.2+ MB\n"
          ],
          "name": "stdout"
        }
      ]
    },
    {
      "cell_type": "markdown",
      "metadata": {
        "id": "XbPPlEMTO0xQ"
      },
      "source": [
        "Como podemos ver tenemos 33 columnas, un número considerable, observemos que contienen algunas y si nos son de utilidad. Empecemos por los campos que contienen listas:"
      ]
    },
    {
      "cell_type": "code",
      "metadata": {
        "colab": {
          "base_uri": "https://localhost:8080/"
        },
        "id": "LGwvs6ENO3ef",
        "outputId": "c63bdf36-337b-4bd6-f7a7-231056afe91f"
      },
      "source": [
        "df_matches['videogame'][0] "
      ],
      "execution_count": 30,
      "outputs": [
        {
          "output_type": "execute_result",
          "data": {
            "text/plain": [
              "{'id': 1, 'name': 'LoL', 'slug': 'league-of-legends'}"
            ]
          },
          "metadata": {
            "tags": []
          },
          "execution_count": 30
        }
      ]
    },
    {
      "cell_type": "markdown",
      "metadata": {
        "id": "nrWyvkl_O7TF"
      },
      "source": [
        "El campo _videogame_ puede que haya sido de utilidad para la API al momento de regresarnos una respuesta, sin embargo, es  redundante para nosotros."
      ]
    },
    {
      "cell_type": "code",
      "metadata": {
        "colab": {
          "base_uri": "https://localhost:8080/"
        },
        "id": "KQYn7x-wO-IP",
        "outputId": "534444d7-4598-434d-8b11-d8456a6ddd53"
      },
      "source": [
        "df_matches['slug']"
      ],
      "execution_count": 31,
      "outputs": [
        {
          "output_type": "execute_result",
          "data": {
            "text/plain": [
              "0          2021-03-11-c3b8c131-fac1-4b71-b339-f1d0387914a6\n",
              "1        mousesports-vs-berlin-international-gaming-202...\n",
              "2          2021-03-10-7412caf0-3f45-40e1-b763-80d005a04162\n",
              "3        sk-gaming-prime-vs-fc-schalke-04-evolution-202...\n",
              "4        team-gamerlegion-vs-unicorns-of-love-sexy-edit...\n",
              "                               ...                        \n",
              "18689                        dignitas-vs-cloud9-2015-05-31\n",
              "18690                     team-8-vs-team-liquid-2015-05-31\n",
              "18691                          gravity-vs-enemy-2015-05-31\n",
              "18692                         team-8-vs-impulse-2015-05-31\n",
              "18693             team-liquid-vs-dragon-knights-2015-05-30\n",
              "Name: slug, Length: 18694, dtype: object"
            ]
          },
          "metadata": {
            "tags": []
          },
          "execution_count": 31
        }
      ]
    },
    {
      "cell_type": "markdown",
      "metadata": {
        "id": "YYpp7nF9PAdh"
      },
      "source": [
        "Una combinación del campo nombre y la fecha programada. Además de que en algunos casos tenemos valores raros, consideramos que podemos retirar esta columna."
      ]
    },
    {
      "cell_type": "code",
      "metadata": {
        "colab": {
          "base_uri": "https://localhost:8080/"
        },
        "id": "n3BWiZ_NPC_u",
        "outputId": "bf7b240d-252c-43ac-80f1-3111cb44a223"
      },
      "source": [
        "df_matches['streams'][0]"
      ],
      "execution_count": 32,
      "outputs": [
        {
          "output_type": "execute_result",
          "data": {
            "text/plain": [
              "{'english': {'embed_url': None, 'raw_url': None},\n",
              " 'official': {'embed_url': None, 'raw_url': None},\n",
              " 'russian': {'embed_url': None, 'raw_url': None}}"
            ]
          },
          "metadata": {
            "tags": []
          },
          "execution_count": 32
        }
      ]
    },
    {
      "cell_type": "code",
      "metadata": {
        "colab": {
          "base_uri": "https://localhost:8080/"
        },
        "id": "GU-WWm6SPDJO",
        "outputId": "67845b0b-8ba3-48dc-e825-520efdf01cc1"
      },
      "source": [
        "df_matches['streams'][300]"
      ],
      "execution_count": 33,
      "outputs": [
        {
          "output_type": "execute_result",
          "data": {
            "text/plain": [
              "{'english': {'embed_url': None, 'raw_url': None},\n",
              " 'official': {'embed_url': 'https://player.twitch.tv/?channel=riotgamesru',\n",
              "  'raw_url': 'https://www.twitch.tv/riotgamesru'},\n",
              " 'russian': {'embed_url': 'https://player.twitch.tv/?channel=riotgamesru',\n",
              "  'raw_url': 'https://www.twitch.tv/riotgamesru'}}"
            ]
          },
          "metadata": {
            "tags": []
          },
          "execution_count": 33
        }
      ]
    },
    {
      "cell_type": "code",
      "metadata": {
        "colab": {
          "base_uri": "https://localhost:8080/",
          "height": 36
        },
        "id": "UKMKzOQrPINf",
        "outputId": "57e151b9-dd1c-4d31-9dc9-6e767a3b052f"
      },
      "source": [
        "df_matches.loc[300,'official_stream_url']"
      ],
      "execution_count": 34,
      "outputs": [
        {
          "output_type": "execute_result",
          "data": {
            "application/vnd.google.colaboratory.intrinsic+json": {
              "type": "string"
            },
            "text/plain": [
              "'https://www.twitch.tv/riotgamesru'"
            ]
          },
          "metadata": {
            "tags": []
          },
          "execution_count": 34
        }
      ]
    },
    {
      "cell_type": "code",
      "metadata": {
        "colab": {
          "base_uri": "https://localhost:8080/",
          "height": 36
        },
        "id": "Wz7DPURGPKcp",
        "outputId": "35ef63ec-c005-45cd-9b24-2d6358489fe5"
      },
      "source": [
        "df_matches['live_embed_url'][300]"
      ],
      "execution_count": 35,
      "outputs": [
        {
          "output_type": "execute_result",
          "data": {
            "application/vnd.google.colaboratory.intrinsic+json": {
              "type": "string"
            },
            "text/plain": [
              "'https://player.twitch.tv/?channel=riotgamesru'"
            ]
          },
          "metadata": {
            "tags": []
          },
          "execution_count": 35
        }
      ]
    },
    {
      "cell_type": "code",
      "metadata": {
        "colab": {
          "base_uri": "https://localhost:8080/",
          "height": 36
        },
        "id": "Qj_crs8sPMyM",
        "outputId": "de54f852-256c-4ae5-dfaa-07582c0a9721"
      },
      "source": [
        "df_matches['official_stream_url'][300]"
      ],
      "execution_count": 36,
      "outputs": [
        {
          "output_type": "execute_result",
          "data": {
            "application/vnd.google.colaboratory.intrinsic+json": {
              "type": "string"
            },
            "text/plain": [
              "'https://www.twitch.tv/riotgamesru'"
            ]
          },
          "metadata": {
            "tags": []
          },
          "execution_count": 36
        }
      ]
    },
    {
      "cell_type": "markdown",
      "metadata": {
        "id": "NOU3YpvrPPaQ"
      },
      "source": [
        "El campo _streams_ nos regresa las direcciones URL de las transmisiones en vivo en diferentes idiomas, mientras que el campo _live embed url_ nos da el enlace en el que se transmitió en vivo y _official stream url_ nos regresa únicamente la URL del canal oficial que realizo el streaming. Creemos es mejor conservar este último campo con la dirección oficial a un campo con una lista  más difícil de manejar y otro con URLs que ya no son accesibles."
      ]
    },
    {
      "cell_type": "code",
      "metadata": {
        "colab": {
          "base_uri": "https://localhost:8080/"
        },
        "id": "B8zdth4tPTGC",
        "outputId": "936b6a9c-adf7-4693-ffab-d944fc53cfb2"
      },
      "source": [
        "df_matches['tournament'][0]"
      ],
      "execution_count": 37,
      "outputs": [
        {
          "output_type": "execute_result",
          "data": {
            "text/plain": [
              "{'begin_at': '2021-03-09T17:00:00Z',\n",
              " 'end_at': None,\n",
              " 'id': 5649,\n",
              " 'league_id': 4302,\n",
              " 'live_supported': False,\n",
              " 'modified_at': '2021-03-08T14:50:51Z',\n",
              " 'name': 'Playoffs',\n",
              " 'prizepool': None,\n",
              " 'serie_id': 3254,\n",
              " 'slug': 'league-of-legends-prime-league-pro-division-spring-2021-playoffs',\n",
              " 'winner_id': None,\n",
              " 'winner_type': 'Team'}"
            ]
          },
          "metadata": {
            "tags": []
          },
          "execution_count": 37
        }
      ]
    },
    {
      "cell_type": "markdown",
      "metadata": {
        "id": "ueNxtwxOPXtc"
      },
      "source": [
        "El campo _tournament_ nos devuelve el torneo correspondiente. Sin embargo, contamos con el _tournament id_, y podemos realizar peticiones de torneos si lo deseamos, por lo que de ser necesario podriamos realizar un **join** y observar a que torneo corresponde cada enfrentamiento. "
      ]
    },
    {
      "cell_type": "code",
      "metadata": {
        "colab": {
          "base_uri": "https://localhost:8080/"
        },
        "id": "ka7p2im_PcPx",
        "outputId": "be4337bd-251a-465f-bde4-804a60dbb69a"
      },
      "source": [
        "df_matches['modified_at'].head() "
      ],
      "execution_count": 38,
      "outputs": [
        {
          "output_type": "execute_result",
          "data": {
            "text/plain": [
              "0    2021-03-07T20:20:32Z\n",
              "1    2021-03-07T20:19:53Z\n",
              "2    2021-03-07T20:19:33Z\n",
              "3    2021-03-07T20:18:12Z\n",
              "4    2021-03-07T20:17:44Z\n",
              "Name: modified_at, dtype: object"
            ]
          },
          "metadata": {
            "tags": []
          },
          "execution_count": 38
        }
      ]
    },
    {
      "cell_type": "markdown",
      "metadata": {
        "id": "WtYit9nmPats"
      },
      "source": [
        "La última fecha de modificación respecto a la API no nos resulta útil del todo a nosotros."
      ]
    },
    {
      "cell_type": "code",
      "metadata": {
        "colab": {
          "base_uri": "https://localhost:8080/"
        },
        "id": "H9OzICMQPh_T",
        "outputId": "c9cba303-f2cc-44a4-f46b-fd28567c35f3"
      },
      "source": [
        "df_matches['league'][0]"
      ],
      "execution_count": 39,
      "outputs": [
        {
          "output_type": "execute_result",
          "data": {
            "text/plain": [
              "{'id': 4302,\n",
              " 'image_url': 'https://cdn.pandascore.co/images/league/image/4302/220px-Prime_Leaguelogo_square.png',\n",
              " 'modified_at': '2020-01-20T16:20:40Z',\n",
              " 'name': 'Prime League Pro Division',\n",
              " 'slug': 'league-of-legends-prime-league-pro-division',\n",
              " 'url': 'https://www.primeleague.gg/de/start'}"
            ]
          },
          "metadata": {
            "tags": []
          },
          "execution_count": 39
        }
      ]
    },
    {
      "cell_type": "code",
      "metadata": {
        "colab": {
          "base_uri": "https://localhost:8080/"
        },
        "id": "bMXAFEz3Pmc6",
        "outputId": "403a0ee5-4e1b-47b1-c30c-c0f7723b7ec6"
      },
      "source": [
        "df_matches['serie'][0]"
      ],
      "execution_count": 40,
      "outputs": [
        {
          "output_type": "execute_result",
          "data": {
            "text/plain": [
              "{'begin_at': '2021-01-19T17:00:00Z',\n",
              " 'description': None,\n",
              " 'end_at': None,\n",
              " 'full_name': 'Spring 2021',\n",
              " 'id': 3254,\n",
              " 'league_id': 4302,\n",
              " 'modified_at': '2021-01-12T08:59:18Z',\n",
              " 'name': '',\n",
              " 'season': 'Spring',\n",
              " 'slug': 'league-of-legends-prime-league-pro-division-spring-2021',\n",
              " 'tier': 'c',\n",
              " 'winner_id': None,\n",
              " 'winner_type': None,\n",
              " 'year': 2021}"
            ]
          },
          "metadata": {
            "tags": []
          },
          "execution_count": 40
        }
      ]
    },
    {
      "cell_type": "markdown",
      "metadata": {
        "id": "osg4JnCBPqvz"
      },
      "source": [
        "Mismo caso que con los torneos, si conservamos el _league id_ y _serie id_ no deberiamos tener problemas."
      ]
    },
    {
      "cell_type": "code",
      "metadata": {
        "colab": {
          "base_uri": "https://localhost:8080/"
        },
        "id": "fVKztr-ePtw8",
        "outputId": "a7dad1cf-e595-4691-ee01-7ed54fcb96d2"
      },
      "source": [
        "df_matches['id']"
      ],
      "execution_count": 41,
      "outputs": [
        {
          "output_type": "execute_result",
          "data": {
            "text/plain": [
              "0        586007\n",
              "1        586006\n",
              "2        586005\n",
              "3        586004\n",
              "4        586003\n",
              "          ...  \n",
              "18689         7\n",
              "18690         6\n",
              "18691         5\n",
              "18692         4\n",
              "18693         2\n",
              "Name: id, Length: 18694, dtype: int64"
            ]
          },
          "metadata": {
            "tags": []
          },
          "execution_count": 41
        }
      ]
    },
    {
      "cell_type": "markdown",
      "metadata": {
        "id": "6e4iSGtmPxZW"
      },
      "source": [
        "Id asignado por la API a cada enfrentamiento, con el observamos que los enfrentamientos en los primeros registros son los más recientes y los últmos son los más antiguos. Para evitar confusiones y por el tratamiento que le daremos a los datos será mejor usar nuestra propia indexación."
      ]
    },
    {
      "cell_type": "code",
      "metadata": {
        "colab": {
          "base_uri": "https://localhost:8080/"
        },
        "id": "CDAUleH-P3I7",
        "outputId": "ff1750e5-ec17-4670-e59a-5738dad93ef8"
      },
      "source": [
        "df_matches['games'][300]"
      ],
      "execution_count": 42,
      "outputs": [
        {
          "output_type": "execute_result",
          "data": {
            "text/plain": [
              "[{'begin_at': None,\n",
              "  'complete': False,\n",
              "  'detailed_stats': True,\n",
              "  'end_at': None,\n",
              "  'finished': False,\n",
              "  'forfeit': False,\n",
              "  'id': 222685,\n",
              "  'length': None,\n",
              "  'match_id': 583283,\n",
              "  'position': 1,\n",
              "  'status': 'not_started',\n",
              "  'video_url': None,\n",
              "  'winner': {'id': None, 'type': None},\n",
              "  'winner_type': None}]"
            ]
          },
          "metadata": {
            "tags": []
          },
          "execution_count": 42
        }
      ]
    },
    {
      "cell_type": "markdown",
      "metadata": {
        "id": "SlLYgIbjP7JN"
      },
      "source": [
        "El campo _games_ debería entregar información de cada partida en el enfrentamiento, pero en general esos datos podemos encontrarlos en otros campos que ya tenemos."
      ]
    },
    {
      "cell_type": "code",
      "metadata": {
        "colab": {
          "base_uri": "https://localhost:8080/"
        },
        "id": "mOGWQP79P-Op",
        "outputId": "63314f70-112c-4b00-9501-2e49796bb2f3"
      },
      "source": [
        "df_matches['game_advantage'].unique()"
      ],
      "execution_count": 43,
      "outputs": [
        {
          "output_type": "execute_result",
          "data": {
            "text/plain": [
              "array([None, nan, 2862.0, 318.0, 126059.0, 329.0, 74.0, 1566.0, 249.0,\n",
              "       205.0, 411.0, 65.0, 267.0], dtype=object)"
            ]
          },
          "metadata": {
            "tags": []
          },
          "execution_count": 43
        }
      ]
    },
    {
      "cell_type": "markdown",
      "metadata": {
        "id": "kAXQAnJxQA8O"
      },
      "source": [
        "\r\n",
        "El campo game_advantage es poco claro, en la documentación no se específica el significado de estos valores."
      ]
    },
    {
      "cell_type": "code",
      "metadata": {
        "colab": {
          "base_uri": "https://localhost:8080/"
        },
        "id": "Tmy8bvHUQa-H",
        "outputId": "f83f82d1-a4cc-48d8-ff44-60a9b8e1cf06"
      },
      "source": [
        "df_matches['original_scheduled_at']"
      ],
      "execution_count": 44,
      "outputs": [
        {
          "output_type": "execute_result",
          "data": {
            "text/plain": [
              "0        2021-03-11T17:00:00Z\n",
              "1        2021-03-10T20:00:00Z\n",
              "2        2021-03-10T17:00:00Z\n",
              "3        2021-03-09T20:00:00Z\n",
              "4        2021-03-09T17:00:00Z\n",
              "                 ...         \n",
              "18689                    None\n",
              "18690                    None\n",
              "18691                    None\n",
              "18692                    None\n",
              "18693                    None\n",
              "Name: original_scheduled_at, Length: 18694, dtype: object"
            ]
          },
          "metadata": {
            "tags": []
          },
          "execution_count": 44
        }
      ]
    },
    {
      "cell_type": "code",
      "metadata": {
        "colab": {
          "base_uri": "https://localhost:8080/"
        },
        "id": "YmpBOTA6Qt1X",
        "outputId": "50679994-b57f-4c1c-d23f-3fa33d788668"
      },
      "source": [
        "df_matches['scheduled_at']"
      ],
      "execution_count": 45,
      "outputs": [
        {
          "output_type": "execute_result",
          "data": {
            "text/plain": [
              "0        2021-03-11T17:00:00Z\n",
              "1        2021-03-10T20:00:00Z\n",
              "2        2021-03-10T17:00:00Z\n",
              "3        2021-03-09T20:00:00Z\n",
              "4        2021-03-09T17:00:00Z\n",
              "                 ...         \n",
              "18689    2015-05-31T20:00:00Z\n",
              "18690    2015-05-31T18:00:00Z\n",
              "18691    2015-05-30T23:00:00Z\n",
              "18692    2015-05-30T22:00:00Z\n",
              "18693    2015-05-30T20:00:00Z\n",
              "Name: scheduled_at, Length: 18694, dtype: object"
            ]
          },
          "metadata": {
            "tags": []
          },
          "execution_count": 45
        }
      ]
    },
    {
      "cell_type": "markdown",
      "metadata": {
        "id": "BrWTO7N-QyaS"
      },
      "source": [
        "Estos campos pueden indicar modificaciones en las fechas de los enfrentamientos, pero el campo _rescheduled_ nos brinda la misma información de forma más concisa."
      ]
    },
    {
      "cell_type": "code",
      "metadata": {
        "colab": {
          "base_uri": "https://localhost:8080/"
        },
        "id": "gh4ZVrJBQ07Y",
        "outputId": "aa55b2de-139c-41ec-bb20-cee878f168d6"
      },
      "source": [
        "df_matches['match_type'].unique()"
      ],
      "execution_count": 46,
      "outputs": [
        {
          "output_type": "execute_result",
          "data": {
            "text/plain": [
              "array(['best_of'], dtype=object)"
            ]
          },
          "metadata": {
            "tags": []
          },
          "execution_count": 46
        }
      ]
    },
    {
      "cell_type": "markdown",
      "metadata": {
        "id": "PiKZZAGTQ39e"
      },
      "source": [
        "En general todos los enfrentamientos son del tipo \"_el mejor de_\", así que este campo también es redundante."
      ]
    },
    {
      "cell_type": "code",
      "metadata": {
        "colab": {
          "base_uri": "https://localhost:8080/"
        },
        "id": "uwciLiBqQ6iH",
        "outputId": "959cbcff-0d44-4d22-f822-05ee91090ae9"
      },
      "source": [
        "df_matches['detailed_stats']"
      ],
      "execution_count": 47,
      "outputs": [
        {
          "output_type": "execute_result",
          "data": {
            "text/plain": [
              "0        True\n",
              "1        True\n",
              "2        True\n",
              "3        True\n",
              "4        True\n",
              "         ... \n",
              "18689    True\n",
              "18690    True\n",
              "18691    True\n",
              "18692    True\n",
              "18693    True\n",
              "Name: detailed_stats, Length: 18694, dtype: bool"
            ]
          },
          "metadata": {
            "tags": []
          },
          "execution_count": 47
        }
      ]
    },
    {
      "cell_type": "markdown",
      "metadata": {
        "id": "0l1en71iQ-LB"
      },
      "source": [
        "Un campo que indica si el campo _games_ contiene detalles, pero ya que no vamos a utilizar _games_ podemos omitirlo."
      ]
    },
    {
      "cell_type": "code",
      "metadata": {
        "colab": {
          "base_uri": "https://localhost:8080/"
        },
        "id": "cnt1_sK8RA2r",
        "outputId": "e82c75eb-66ab-4c54-faf7-df387fc826dc"
      },
      "source": [
        "df_matches['videogame_version']"
      ],
      "execution_count": 48,
      "outputs": [
        {
          "output_type": "execute_result",
          "data": {
            "text/plain": [
              "0                                       None\n",
              "1                                       None\n",
              "2                                       None\n",
              "3                                       None\n",
              "4                                       None\n",
              "                        ...                 \n",
              "18689    {'current': False, 'name': '5.8.1'}\n",
              "18690    {'current': False, 'name': '5.8.1'}\n",
              "18691    {'current': False, 'name': '5.8.1'}\n",
              "18692    {'current': False, 'name': '5.8.1'}\n",
              "18693    {'current': False, 'name': '5.9.1'}\n",
              "Name: videogame_version, Length: 18694, dtype: object"
            ]
          },
          "metadata": {
            "tags": []
          },
          "execution_count": 48
        }
      ]
    },
    {
      "cell_type": "markdown",
      "metadata": {
        "id": "snVKBVWtRElD"
      },
      "source": [
        "Un campo que podría ser de interés si analizamos las composiciones de _personajes_ de cada equipo respecto a la versión del juego, lamentablemente no contamos con esa información."
      ]
    },
    {
      "cell_type": "code",
      "metadata": {
        "colab": {
          "base_uri": "https://localhost:8080/"
        },
        "id": "9laSnSEbRHUR",
        "outputId": "2e3a1d1b-ad64-485c-f1b3-0427319ac9b7"
      },
      "source": [
        "df_matches['live'][0]"
      ],
      "execution_count": 49,
      "outputs": [
        {
          "output_type": "execute_result",
          "data": {
            "text/plain": [
              "{'opens_at': None, 'supported': False, 'url': None}"
            ]
          },
          "metadata": {
            "tags": []
          },
          "execution_count": 49
        }
      ]
    },
    {
      "cell_type": "markdown",
      "metadata": {
        "id": "mm-edVKlRMD6"
      },
      "source": [
        "Finalmente el campo _live_ nos brinda la url del stream si el enfrentamiento está en vivo en ese momento, en general si buscaramos un soporte en vivo sería un campo genial, pero como deseamos trabajar con resultados de enfrentamientos que ya han terminado podemos trabajar sin este campo.\r\n",
        "\r\n",
        "Ahora eliminamos los campos que deseamos retirar:"
      ]
    },
    {
      "cell_type": "code",
      "metadata": {
        "colab": {
          "base_uri": "https://localhost:8080/"
        },
        "id": "PjLFmKBwRO9o",
        "outputId": "e7f7edbd-5e27-46c4-cc12-b4120f9a030d"
      },
      "source": [
        "campos_no_deseados = ['videogame', 'slug', 'tournament', 'league', 'serie', 'streams', 'modified_at', 'games',\r\n",
        "                      'game_advantage', 'scheduled_at', 'original_scheduled_at', 'detailed_stats','live',\r\n",
        "                      'match_type', 'videogame_version', 'live_embed_url', 'id']\r\n",
        "\r\n",
        "df_matches_temp = df_matches.drop(columns=campos_no_deseados)\r\n",
        "df_matches_temp.info()"
      ],
      "execution_count": 50,
      "outputs": [
        {
          "output_type": "stream",
          "text": [
            "<class 'pandas.core.frame.DataFrame'>\n",
            "RangeIndex: 18694 entries, 0 to 18693\n",
            "Data columns (total 16 columns):\n",
            " #   Column               Non-Null Count  Dtype  \n",
            "---  ------               --------------  -----  \n",
            " 0   name                 18694 non-null  object \n",
            " 1   official_stream_url  10896 non-null  object \n",
            " 2   end_at               18135 non-null  object \n",
            " 3   draw                 18694 non-null  bool   \n",
            " 4   league_id            18694 non-null  int64  \n",
            " 5   tournament_id        18694 non-null  int64  \n",
            " 6   results              18694 non-null  object \n",
            " 7   winner               17770 non-null  object \n",
            " 8   status               18694 non-null  object \n",
            " 9   winner_id            17770 non-null  float64\n",
            " 10  forfeit              18694 non-null  bool   \n",
            " 11  rescheduled          18694 non-null  bool   \n",
            " 12  serie_id             18694 non-null  int64  \n",
            " 13  opponents            18694 non-null  object \n",
            " 14  number_of_games      18694 non-null  int64  \n",
            " 15  begin_at             18662 non-null  object \n",
            "dtypes: bool(3), float64(1), int64(4), object(8)\n",
            "memory usage: 1.9+ MB\n"
          ],
          "name": "stdout"
        }
      ]
    },
    {
      "cell_type": "code",
      "metadata": {
        "colab": {
          "base_uri": "https://localhost:8080/",
          "height": 695
        },
        "id": "yc5zWzSnRRxV",
        "outputId": "de6155c7-715d-4f3c-a9ad-eaa00247da07"
      },
      "source": [
        "df_matches_temp.head()"
      ],
      "execution_count": 51,
      "outputs": [
        {
          "output_type": "execute_result",
          "data": {
            "text/html": [
              "<div>\n",
              "<style scoped>\n",
              "    .dataframe tbody tr th:only-of-type {\n",
              "        vertical-align: middle;\n",
              "    }\n",
              "\n",
              "    .dataframe tbody tr th {\n",
              "        vertical-align: top;\n",
              "    }\n",
              "\n",
              "    .dataframe thead th {\n",
              "        text-align: right;\n",
              "    }\n",
              "</style>\n",
              "<table border=\"1\" class=\"dataframe\">\n",
              "  <thead>\n",
              "    <tr style=\"text-align: right;\">\n",
              "      <th></th>\n",
              "      <th>name</th>\n",
              "      <th>official_stream_url</th>\n",
              "      <th>end_at</th>\n",
              "      <th>draw</th>\n",
              "      <th>league_id</th>\n",
              "      <th>tournament_id</th>\n",
              "      <th>results</th>\n",
              "      <th>winner</th>\n",
              "      <th>status</th>\n",
              "      <th>winner_id</th>\n",
              "      <th>forfeit</th>\n",
              "      <th>rescheduled</th>\n",
              "      <th>serie_id</th>\n",
              "      <th>opponents</th>\n",
              "      <th>number_of_games</th>\n",
              "      <th>begin_at</th>\n",
              "    </tr>\n",
              "  </thead>\n",
              "  <tbody>\n",
              "    <tr>\n",
              "      <th>0</th>\n",
              "      <td>Round 3: TBD vs TBD</td>\n",
              "      <td>None</td>\n",
              "      <td>None</td>\n",
              "      <td>False</td>\n",
              "      <td>4302</td>\n",
              "      <td>5649</td>\n",
              "      <td>[]</td>\n",
              "      <td>None</td>\n",
              "      <td>not_started</td>\n",
              "      <td>NaN</td>\n",
              "      <td>False</td>\n",
              "      <td>False</td>\n",
              "      <td>3254</td>\n",
              "      <td>[]</td>\n",
              "      <td>5</td>\n",
              "      <td>2021-03-11T17:00:00Z</td>\n",
              "    </tr>\n",
              "    <tr>\n",
              "      <th>1</th>\n",
              "      <td>Round 2 Match 2: MOUZ vs BIG</td>\n",
              "      <td>None</td>\n",
              "      <td>None</td>\n",
              "      <td>False</td>\n",
              "      <td>4302</td>\n",
              "      <td>5649</td>\n",
              "      <td>[{'score': 0, 'team_id': 16}, {'score': 0, 'te...</td>\n",
              "      <td>None</td>\n",
              "      <td>not_started</td>\n",
              "      <td>NaN</td>\n",
              "      <td>False</td>\n",
              "      <td>False</td>\n",
              "      <td>3254</td>\n",
              "      <td>[{'opponent': {'acronym': 'MOUZ', 'id': 16, 'i...</td>\n",
              "      <td>3</td>\n",
              "      <td>2021-03-10T20:00:00Z</td>\n",
              "    </tr>\n",
              "    <tr>\n",
              "      <th>2</th>\n",
              "      <td>Round 2 Match 1: TBD vs TBD</td>\n",
              "      <td>None</td>\n",
              "      <td>None</td>\n",
              "      <td>False</td>\n",
              "      <td>4302</td>\n",
              "      <td>5649</td>\n",
              "      <td>[]</td>\n",
              "      <td>None</td>\n",
              "      <td>not_started</td>\n",
              "      <td>NaN</td>\n",
              "      <td>False</td>\n",
              "      <td>False</td>\n",
              "      <td>3254</td>\n",
              "      <td>[]</td>\n",
              "      <td>3</td>\n",
              "      <td>2021-03-10T17:00:00Z</td>\n",
              "    </tr>\n",
              "    <tr>\n",
              "      <th>3</th>\n",
              "      <td>Round 1 Match 2: SKP vs S04.E</td>\n",
              "      <td>None</td>\n",
              "      <td>None</td>\n",
              "      <td>False</td>\n",
              "      <td>4302</td>\n",
              "      <td>5649</td>\n",
              "      <td>[{'score': 0, 'team_id': 247}, {'score': 0, 't...</td>\n",
              "      <td>None</td>\n",
              "      <td>not_started</td>\n",
              "      <td>NaN</td>\n",
              "      <td>False</td>\n",
              "      <td>False</td>\n",
              "      <td>3254</td>\n",
              "      <td>[{'opponent': {'acronym': 'SKP', 'id': 247, 'i...</td>\n",
              "      <td>3</td>\n",
              "      <td>2021-03-09T20:00:00Z</td>\n",
              "    </tr>\n",
              "    <tr>\n",
              "      <th>4</th>\n",
              "      <td>Round 1 Match 1: GL vs USE</td>\n",
              "      <td>None</td>\n",
              "      <td>None</td>\n",
              "      <td>False</td>\n",
              "      <td>4302</td>\n",
              "      <td>5649</td>\n",
              "      <td>[{'score': 0, 'team_id': 126830}, {'score': 0,...</td>\n",
              "      <td>None</td>\n",
              "      <td>not_started</td>\n",
              "      <td>NaN</td>\n",
              "      <td>False</td>\n",
              "      <td>False</td>\n",
              "      <td>3254</td>\n",
              "      <td>[{'opponent': {'acronym': 'GL', 'id': 126830, ...</td>\n",
              "      <td>3</td>\n",
              "      <td>2021-03-09T17:00:00Z</td>\n",
              "    </tr>\n",
              "  </tbody>\n",
              "</table>\n",
              "</div>"
            ],
            "text/plain": [
              "                            name  ...              begin_at\n",
              "0            Round 3: TBD vs TBD  ...  2021-03-11T17:00:00Z\n",
              "1   Round 2 Match 2: MOUZ vs BIG  ...  2021-03-10T20:00:00Z\n",
              "2    Round 2 Match 1: TBD vs TBD  ...  2021-03-10T17:00:00Z\n",
              "3  Round 1 Match 2: SKP vs S04.E  ...  2021-03-09T20:00:00Z\n",
              "4     Round 1 Match 1: GL vs USE  ...  2021-03-09T17:00:00Z\n",
              "\n",
              "[5 rows x 16 columns]"
            ]
          },
          "metadata": {
            "tags": []
          },
          "execution_count": 51
        }
      ]
    },
    {
      "cell_type": "markdown",
      "metadata": {
        "id": "CO_RhfBoRUcM"
      },
      "source": [
        "¡Genial¡, pudimos reducir el número de campos de 33 a 16, ahora veamos de que forma podemos tratar con los valores _None_. Si inspeccionamos por columna:"
      ]
    },
    {
      "cell_type": "code",
      "metadata": {
        "colab": {
          "base_uri": "https://localhost:8080/"
        },
        "id": "X28NLBOnRW8Z",
        "outputId": "6a84ab6d-3e16-4699-af90-00a462082d89"
      },
      "source": [
        "df_matches_temp.isna().sum(axis=0)"
      ],
      "execution_count": 52,
      "outputs": [
        {
          "output_type": "execute_result",
          "data": {
            "text/plain": [
              "name                      0\n",
              "official_stream_url    7798\n",
              "end_at                  559\n",
              "draw                      0\n",
              "league_id                 0\n",
              "tournament_id             0\n",
              "results                   0\n",
              "winner                  924\n",
              "status                    0\n",
              "winner_id               924\n",
              "forfeit                   0\n",
              "rescheduled               0\n",
              "serie_id                  0\n",
              "opponents                 0\n",
              "number_of_games           0\n",
              "begin_at                 32\n",
              "dtype: int64"
            ]
          },
          "metadata": {
            "tags": []
          },
          "execution_count": 52
        }
      ]
    },
    {
      "cell_type": "markdown",
      "metadata": {
        "id": "9MEgfXIWRa1M"
      },
      "source": [
        "Observamos que la mayor cantidad de valores nulos se da en _official stream url_ esto no es del todo un problema ya que no necesariamente todos los partidos se transmitieron en directo. Entonces nos encontramos con valores nulos en las fechas de inicio y terminó, seguramente por partidos que todavía no se han llevado a cabo, se están llevando a cabo en estos momentos o se cancelaron, por ende también el valor del campo _winner_ tiene un valor también nulo.\r\n",
        "\r\n",
        "Aprovechemos el campo status para limpiar nuestro dataframe:"
      ]
    },
    {
      "cell_type": "code",
      "metadata": {
        "colab": {
          "base_uri": "https://localhost:8080/"
        },
        "id": "NJcmEf9lRZ9n",
        "outputId": "2e72dd9c-7d57-49c7-c5f5-f9e6ca2cb811"
      },
      "source": [
        "df_matches_temp['status'].unique()"
      ],
      "execution_count": 53,
      "outputs": [
        {
          "output_type": "execute_result",
          "data": {
            "text/plain": [
              "array(['not_started', 'finished', 'canceled'], dtype=object)"
            ]
          },
          "metadata": {
            "tags": []
          },
          "execution_count": 53
        }
      ]
    },
    {
      "cell_type": "markdown",
      "metadata": {
        "id": "V31zx1HARjrg"
      },
      "source": [
        "Obtengamos solo aquellos registros donde el estado del enfrentamiento sea \"_finished_\":"
      ]
    },
    {
      "cell_type": "code",
      "metadata": {
        "colab": {
          "base_uri": "https://localhost:8080/"
        },
        "id": "27Hq0I9TRl8R",
        "outputId": "9fcfb9cd-eec5-47eb-a3ce-5225f423696b"
      },
      "source": [
        "df_matches_finished = df_matches_temp[ df_matches_temp['status'] == 'finished' ]\r\n",
        "df_matches_finished.isna().sum(axis=0)"
      ],
      "execution_count": 54,
      "outputs": [
        {
          "output_type": "execute_result",
          "data": {
            "text/plain": [
              "name                      0\n",
              "official_stream_url    7772\n",
              "end_at                   19\n",
              "draw                      0\n",
              "league_id                 0\n",
              "tournament_id             0\n",
              "results                   0\n",
              "winner                  398\n",
              "status                    0\n",
              "winner_id               398\n",
              "forfeit                   0\n",
              "rescheduled               0\n",
              "serie_id                  0\n",
              "opponents                 0\n",
              "number_of_games           0\n",
              "begin_at                  1\n",
              "dtype: int64"
            ]
          },
          "metadata": {
            "tags": []
          },
          "execution_count": 54
        }
      ]
    },
    {
      "cell_type": "markdown",
      "metadata": {
        "id": "RPQmoxFGRpP8"
      },
      "source": [
        "Aún conservamos un par de valores None en nuestras fechas, esto puede ser a causa de errores en la recopilación de los datos. Deshagámonos de ellos:"
      ]
    },
    {
      "cell_type": "code",
      "metadata": {
        "colab": {
          "base_uri": "https://localhost:8080/"
        },
        "id": "EvBZqxwORrmq",
        "outputId": "9e22ba58-8929-4d4d-a483-2fa66042ac84"
      },
      "source": [
        "df_matches_finished_clean = df_matches_finished.dropna(subset=['begin_at', 'end_at'])\r\n",
        "df_matches_finished_clean.isna().sum(axis=0)"
      ],
      "execution_count": 55,
      "outputs": [
        {
          "output_type": "execute_result",
          "data": {
            "text/plain": [
              "name                      0\n",
              "official_stream_url    7755\n",
              "end_at                    0\n",
              "draw                      0\n",
              "league_id                 0\n",
              "tournament_id             0\n",
              "results                   0\n",
              "winner                  398\n",
              "status                    0\n",
              "winner_id               398\n",
              "forfeit                   0\n",
              "rescheduled               0\n",
              "serie_id                  0\n",
              "opponents                 0\n",
              "number_of_games           0\n",
              "begin_at                  0\n",
              "dtype: int64"
            ]
          },
          "metadata": {
            "tags": []
          },
          "execution_count": 55
        }
      ]
    },
    {
      "cell_type": "markdown",
      "metadata": {
        "id": "PbZyd_HLRyxi"
      },
      "source": [
        "¡Enhorabuena! tenemos un dataframe solo con las partidas que han sido finalizadas y además tienen una fecha de fin e inicio establecidas. ¿Pero qué pasa con esos 398 valores _None_ en el campo _winner id_ y _winner_? ¿Y los 7735 de _official stream url_? Pues tienen una explicación muy sencilla en realidad. Estos datos quieren decir que 398 enfrentamiento han terminado en empate y 7735 enfrentamientos no se transmitieron en línea.\r\n",
        "\r\n",
        "Para dejar nuestro dataframe un poco más presentable vamos a ordenar los campos de formas más amigable:"
      ]
    },
    {
      "cell_type": "code",
      "metadata": {
        "id": "ppSAs02hR15g"
      },
      "source": [
        "#No incluiremos al campo status por que ya ha cumplido su propósito\r\n",
        "df_matches_ordenado = df_matches_finished_clean[['name','opponents','results','forfeit','draw',\r\n",
        "                                                      'number_of_games','winner','winner_id','begin_at','end_at',\r\n",
        "                                                      'rescheduled','official_stream_url','league_id', 'serie_id', 'tournament_id']]"
      ],
      "execution_count": 56,
      "outputs": []
    },
    {
      "cell_type": "markdown",
      "metadata": {
        "id": "NKL4yDFAR4b8"
      },
      "source": [
        "Observemos al nuevo Dataframe:"
      ]
    },
    {
      "cell_type": "code",
      "metadata": {
        "colab": {
          "base_uri": "https://localhost:8080/",
          "height": 660
        },
        "id": "7cGI9v93R67L",
        "outputId": "0fc2a10e-6e6b-456c-d7d5-53ad44036410"
      },
      "source": [
        "df_matches_ordenado.head()"
      ],
      "execution_count": 57,
      "outputs": [
        {
          "output_type": "execute_result",
          "data": {
            "text/html": [
              "<div>\n",
              "<style scoped>\n",
              "    .dataframe tbody tr th:only-of-type {\n",
              "        vertical-align: middle;\n",
              "    }\n",
              "\n",
              "    .dataframe tbody tr th {\n",
              "        vertical-align: top;\n",
              "    }\n",
              "\n",
              "    .dataframe thead th {\n",
              "        text-align: right;\n",
              "    }\n",
              "</style>\n",
              "<table border=\"1\" class=\"dataframe\">\n",
              "  <thead>\n",
              "    <tr style=\"text-align: right;\">\n",
              "      <th></th>\n",
              "      <th>name</th>\n",
              "      <th>opponents</th>\n",
              "      <th>results</th>\n",
              "      <th>forfeit</th>\n",
              "      <th>draw</th>\n",
              "      <th>number_of_games</th>\n",
              "      <th>winner</th>\n",
              "      <th>winner_id</th>\n",
              "      <th>begin_at</th>\n",
              "      <th>end_at</th>\n",
              "      <th>rescheduled</th>\n",
              "      <th>official_stream_url</th>\n",
              "      <th>league_id</th>\n",
              "      <th>serie_id</th>\n",
              "      <th>tournament_id</th>\n",
              "    </tr>\n",
              "  </thead>\n",
              "  <tbody>\n",
              "    <tr>\n",
              "      <th>15</th>\n",
              "      <td>ALF vs BJD</td>\n",
              "      <td>[{'opponent': {'acronym': 'ALF', 'id': 124408,...</td>\n",
              "      <td>[{'score': 0, 'team_id': 124408}, {'score': 1,...</td>\n",
              "      <td>False</td>\n",
              "      <td>False</td>\n",
              "      <td>1</td>\n",
              "      <td>{'acronym': 'BJD', 'id': 126861, 'image_url': ...</td>\n",
              "      <td>126861.0</td>\n",
              "      <td>2021-03-06T09:54:42Z</td>\n",
              "      <td>2021-03-06T10:28:54Z</td>\n",
              "      <td>False</td>\n",
              "      <td>https://www.twitch.tv/lolpacific</td>\n",
              "      <td>4288</td>\n",
              "      <td>3337</td>\n",
              "      <td>5483</td>\n",
              "    </tr>\n",
              "    <tr>\n",
              "      <th>16</th>\n",
              "      <td>Lower Bracket Round 2 Match 1: CGG vs GGE</td>\n",
              "      <td>[{'opponent': {'acronym': 'CGG', 'id': 127494,...</td>\n",
              "      <td>[{'score': 1, 'team_id': 127494}, {'score': 3,...</td>\n",
              "      <td>False</td>\n",
              "      <td>False</td>\n",
              "      <td>5</td>\n",
              "      <td>{'acronym': 'GGE', 'id': 128405, 'image_url': ...</td>\n",
              "      <td>128405.0</td>\n",
              "      <td>2021-03-08T18:07:48Z</td>\n",
              "      <td>2021-03-08T21:37:26Z</td>\n",
              "      <td>False</td>\n",
              "      <td>https://www.twitch.tv/pg_esports</td>\n",
              "      <td>4405</td>\n",
              "      <td>3291</td>\n",
              "      <td>5579</td>\n",
              "    </tr>\n",
              "    <tr>\n",
              "      <th>36</th>\n",
              "      <td>Round 1 match 1: KVM vs ION</td>\n",
              "      <td>[{'opponent': {'acronym': 'KVM', 'id': 127475,...</td>\n",
              "      <td>[{'score': 3, 'team_id': 127475}, {'score': 0,...</td>\n",
              "      <td>False</td>\n",
              "      <td>False</td>\n",
              "      <td>5</td>\n",
              "      <td>{'acronym': 'KVM', 'id': 127475, 'image_url': ...</td>\n",
              "      <td>127475.0</td>\n",
              "      <td>2021-03-08T18:04:03Z</td>\n",
              "      <td>2021-03-08T20:46:01Z</td>\n",
              "      <td>False</td>\n",
              "      <td>https://www.twitch.tv/esportsprimelol</td>\n",
              "      <td>4401</td>\n",
              "      <td>3248</td>\n",
              "      <td>5609</td>\n",
              "    </tr>\n",
              "    <tr>\n",
              "      <th>37</th>\n",
              "      <td>Winners bracket round 1 match 2: ESB vs SIN</td>\n",
              "      <td>[{'opponent': {'acronym': 'ESB', 'id': 3344, '...</td>\n",
              "      <td>[{'score': 2, 'team_id': 3344}, {'score': 3, '...</td>\n",
              "      <td>False</td>\n",
              "      <td>False</td>\n",
              "      <td>5</td>\n",
              "      <td>{'acronym': 'SIN', 'id': 127586, 'image_url': ...</td>\n",
              "      <td>127586.0</td>\n",
              "      <td>2021-03-07T17:53:43Z</td>\n",
              "      <td>2021-03-07T22:22:51Z</td>\n",
              "      <td>False</td>\n",
              "      <td>https://www.twitch.tv/hitpointcz</td>\n",
              "      <td>4433</td>\n",
              "      <td>3314</td>\n",
              "      <td>5602</td>\n",
              "    </tr>\n",
              "    <tr>\n",
              "      <th>38</th>\n",
              "      <td>Winners bracket round 1 match 1: IG vs VIK</td>\n",
              "      <td>[{'opponent': {'acronym': 'IG', 'id': 127585, ...</td>\n",
              "      <td>[{'score': 3, 'team_id': 127585}, {'score': 1,...</td>\n",
              "      <td>False</td>\n",
              "      <td>False</td>\n",
              "      <td>5</td>\n",
              "      <td>{'acronym': 'IG', 'id': 127585, 'image_url': '...</td>\n",
              "      <td>127585.0</td>\n",
              "      <td>2021-03-07T13:30:41Z</td>\n",
              "      <td>2021-03-07T17:08:57Z</td>\n",
              "      <td>False</td>\n",
              "      <td>https://www.twitch.tv/hitpointcz</td>\n",
              "      <td>4433</td>\n",
              "      <td>3314</td>\n",
              "      <td>5602</td>\n",
              "    </tr>\n",
              "  </tbody>\n",
              "</table>\n",
              "</div>"
            ],
            "text/plain": [
              "                                           name  ... tournament_id\n",
              "15                                   ALF vs BJD  ...          5483\n",
              "16    Lower Bracket Round 2 Match 1: CGG vs GGE  ...          5579\n",
              "36                  Round 1 match 1: KVM vs ION  ...          5609\n",
              "37  Winners bracket round 1 match 2: ESB vs SIN  ...          5602\n",
              "38   Winners bracket round 1 match 1: IG vs VIK  ...          5602\n",
              "\n",
              "[5 rows x 15 columns]"
            ]
          },
          "metadata": {
            "tags": []
          },
          "execution_count": 57
        }
      ]
    },
    {
      "cell_type": "markdown",
      "metadata": {
        "id": "9b955r9DR_Qe"
      },
      "source": [
        "Reiniciemos el índice y cambiemos algunos nombre de los campos para obtener un Dataframe más limpio:"
      ]
    },
    {
      "cell_type": "code",
      "metadata": {
        "colab": {
          "base_uri": "https://localhost:8080/",
          "height": 660
        },
        "id": "YKORjlwvSF-_",
        "outputId": "bf66f6bc-3be9-41f6-94c8-ea38f2188ffc"
      },
      "source": [
        "df_matches_ordenado = df_matches_ordenado.reset_index(drop=True) \r\n",
        "nombres_nuevos = {\r\n",
        "    'name' : 'match_name',\r\n",
        "    'begin_at' : 'begin_date',\r\n",
        "    'end_at' : 'end_date',\r\n",
        "    'official_stream_url' : 'official_stream_channel_url'\r\n",
        "}\r\n",
        "\r\n",
        "df_matches_ordenado.rename(columns=nombres_nuevos, inplace=True)\r\n",
        "df_matches_ordenado.head()"
      ],
      "execution_count": 58,
      "outputs": [
        {
          "output_type": "execute_result",
          "data": {
            "text/html": [
              "<div>\n",
              "<style scoped>\n",
              "    .dataframe tbody tr th:only-of-type {\n",
              "        vertical-align: middle;\n",
              "    }\n",
              "\n",
              "    .dataframe tbody tr th {\n",
              "        vertical-align: top;\n",
              "    }\n",
              "\n",
              "    .dataframe thead th {\n",
              "        text-align: right;\n",
              "    }\n",
              "</style>\n",
              "<table border=\"1\" class=\"dataframe\">\n",
              "  <thead>\n",
              "    <tr style=\"text-align: right;\">\n",
              "      <th></th>\n",
              "      <th>match_name</th>\n",
              "      <th>opponents</th>\n",
              "      <th>results</th>\n",
              "      <th>forfeit</th>\n",
              "      <th>draw</th>\n",
              "      <th>number_of_games</th>\n",
              "      <th>winner</th>\n",
              "      <th>winner_id</th>\n",
              "      <th>begin_date</th>\n",
              "      <th>end_date</th>\n",
              "      <th>rescheduled</th>\n",
              "      <th>official_stream_channel_url</th>\n",
              "      <th>league_id</th>\n",
              "      <th>serie_id</th>\n",
              "      <th>tournament_id</th>\n",
              "    </tr>\n",
              "  </thead>\n",
              "  <tbody>\n",
              "    <tr>\n",
              "      <th>0</th>\n",
              "      <td>ALF vs BJD</td>\n",
              "      <td>[{'opponent': {'acronym': 'ALF', 'id': 124408,...</td>\n",
              "      <td>[{'score': 0, 'team_id': 124408}, {'score': 1,...</td>\n",
              "      <td>False</td>\n",
              "      <td>False</td>\n",
              "      <td>1</td>\n",
              "      <td>{'acronym': 'BJD', 'id': 126861, 'image_url': ...</td>\n",
              "      <td>126861.0</td>\n",
              "      <td>2021-03-06T09:54:42Z</td>\n",
              "      <td>2021-03-06T10:28:54Z</td>\n",
              "      <td>False</td>\n",
              "      <td>https://www.twitch.tv/lolpacific</td>\n",
              "      <td>4288</td>\n",
              "      <td>3337</td>\n",
              "      <td>5483</td>\n",
              "    </tr>\n",
              "    <tr>\n",
              "      <th>1</th>\n",
              "      <td>Lower Bracket Round 2 Match 1: CGG vs GGE</td>\n",
              "      <td>[{'opponent': {'acronym': 'CGG', 'id': 127494,...</td>\n",
              "      <td>[{'score': 1, 'team_id': 127494}, {'score': 3,...</td>\n",
              "      <td>False</td>\n",
              "      <td>False</td>\n",
              "      <td>5</td>\n",
              "      <td>{'acronym': 'GGE', 'id': 128405, 'image_url': ...</td>\n",
              "      <td>128405.0</td>\n",
              "      <td>2021-03-08T18:07:48Z</td>\n",
              "      <td>2021-03-08T21:37:26Z</td>\n",
              "      <td>False</td>\n",
              "      <td>https://www.twitch.tv/pg_esports</td>\n",
              "      <td>4405</td>\n",
              "      <td>3291</td>\n",
              "      <td>5579</td>\n",
              "    </tr>\n",
              "    <tr>\n",
              "      <th>2</th>\n",
              "      <td>Round 1 match 1: KVM vs ION</td>\n",
              "      <td>[{'opponent': {'acronym': 'KVM', 'id': 127475,...</td>\n",
              "      <td>[{'score': 3, 'team_id': 127475}, {'score': 0,...</td>\n",
              "      <td>False</td>\n",
              "      <td>False</td>\n",
              "      <td>5</td>\n",
              "      <td>{'acronym': 'KVM', 'id': 127475, 'image_url': ...</td>\n",
              "      <td>127475.0</td>\n",
              "      <td>2021-03-08T18:04:03Z</td>\n",
              "      <td>2021-03-08T20:46:01Z</td>\n",
              "      <td>False</td>\n",
              "      <td>https://www.twitch.tv/esportsprimelol</td>\n",
              "      <td>4401</td>\n",
              "      <td>3248</td>\n",
              "      <td>5609</td>\n",
              "    </tr>\n",
              "    <tr>\n",
              "      <th>3</th>\n",
              "      <td>Winners bracket round 1 match 2: ESB vs SIN</td>\n",
              "      <td>[{'opponent': {'acronym': 'ESB', 'id': 3344, '...</td>\n",
              "      <td>[{'score': 2, 'team_id': 3344}, {'score': 3, '...</td>\n",
              "      <td>False</td>\n",
              "      <td>False</td>\n",
              "      <td>5</td>\n",
              "      <td>{'acronym': 'SIN', 'id': 127586, 'image_url': ...</td>\n",
              "      <td>127586.0</td>\n",
              "      <td>2021-03-07T17:53:43Z</td>\n",
              "      <td>2021-03-07T22:22:51Z</td>\n",
              "      <td>False</td>\n",
              "      <td>https://www.twitch.tv/hitpointcz</td>\n",
              "      <td>4433</td>\n",
              "      <td>3314</td>\n",
              "      <td>5602</td>\n",
              "    </tr>\n",
              "    <tr>\n",
              "      <th>4</th>\n",
              "      <td>Winners bracket round 1 match 1: IG vs VIK</td>\n",
              "      <td>[{'opponent': {'acronym': 'IG', 'id': 127585, ...</td>\n",
              "      <td>[{'score': 3, 'team_id': 127585}, {'score': 1,...</td>\n",
              "      <td>False</td>\n",
              "      <td>False</td>\n",
              "      <td>5</td>\n",
              "      <td>{'acronym': 'IG', 'id': 127585, 'image_url': '...</td>\n",
              "      <td>127585.0</td>\n",
              "      <td>2021-03-07T13:30:41Z</td>\n",
              "      <td>2021-03-07T17:08:57Z</td>\n",
              "      <td>False</td>\n",
              "      <td>https://www.twitch.tv/hitpointcz</td>\n",
              "      <td>4433</td>\n",
              "      <td>3314</td>\n",
              "      <td>5602</td>\n",
              "    </tr>\n",
              "  </tbody>\n",
              "</table>\n",
              "</div>"
            ],
            "text/plain": [
              "                                    match_name  ... tournament_id\n",
              "0                                   ALF vs BJD  ...          5483\n",
              "1    Lower Bracket Round 2 Match 1: CGG vs GGE  ...          5579\n",
              "2                  Round 1 match 1: KVM vs ION  ...          5609\n",
              "3  Winners bracket round 1 match 2: ESB vs SIN  ...          5602\n",
              "4   Winners bracket round 1 match 1: IG vs VIK  ...          5602\n",
              "\n",
              "[5 rows x 15 columns]"
            ]
          },
          "metadata": {
            "tags": []
          },
          "execution_count": 58
        }
      ]
    },
    {
      "cell_type": "markdown",
      "metadata": {
        "id": "RZkXiZYBSK1B"
      },
      "source": [
        "¡Bien! Tenemos un Dataframe más limpio y ordenado, con ayuda de algunos métodos de agregación, podemos aprovechar los valores _none_ que hemos dejado, por ejemplo, para conocer la proporción de enfrentamientos transmitidos:"
      ]
    },
    {
      "cell_type": "code",
      "metadata": {
        "colab": {
          "base_uri": "https://localhost:8080/"
        },
        "id": "RPHxBXsKSQWg",
        "outputId": "898af810-53c6-481c-d8aa-9bd1b6d29db5"
      },
      "source": [
        "sin_stream = df_matches_ordenado['official_stream_channel_url'].isna().sum()\r\n",
        "total = len(df_matches_ordenado['official_stream_channel_url'])\r\n",
        "\r\n",
        "proporción = (sin_stream/total)*100\r\n",
        "proporción "
      ],
      "execution_count": 59,
      "outputs": [
        {
          "output_type": "execute_result",
          "data": {
            "text/plain": [
              "42.80746301611835"
            ]
          },
          "metadata": {
            "tags": []
          },
          "execution_count": 59
        }
      ]
    },
    {
      "cell_type": "markdown",
      "metadata": {
        "id": "o8KD9tF5SWkw"
      },
      "source": [
        "Ahora sabemos que aproximadamente el 42.83% de los enfrentamientos de lol son transmitidos en línea. Finalmente guardemos nuestro Dataframe en un archivo csv:"
      ]
    },
    {
      "cell_type": "code",
      "metadata": {
        "id": "Kv5WHt1vSY-a"
      },
      "source": [
        "df_matches_ordenado.to_csv('lol_matches.csv')"
      ],
      "execution_count": null,
      "outputs": []
    },
    {
      "cell_type": "markdown",
      "metadata": {
        "id": "D4apMefBTK4t"
      },
      "source": [
        "# 7.- Transformación, filtración y ordenamiento de datos \r\n",
        "Antes de comenzar en caso de no tener nuestro confiable archivo csv a la mano, o bien debido a que la API está en constante actualización podemos recurrir a una versión mejorada de la función para peticiones de los **enfrentamientos**:"
      ]
    },
    {
      "cell_type": "code",
      "metadata": {
        "id": "bn-sO-8_TTJi"
      },
      "source": [
        "import requests #Importamos los paquete necesarios\r\n",
        "import pandas as pd \r\n",
        "import math as mt\r\n",
        " \r\n",
        "def PandaScore_get_matches(juego): #Definimos nuestra función\r\n",
        "    if isinstance(juego, str): #Nos aseguramos que los argumentos sean de tipo str\r\n",
        "        informacion = 'matches'\r\n",
        "        registros = 100 #Establecemos el número de registros por página\r\n",
        "        token = 'V3U1fnnWozJi3bbhZfrxdiAmN4-XWnX_4g6i_6iauwwh7w-V8Ns' #Token de acceso\r\n",
        "        url = f\"https://api.pandascore.co/{juego}/{informacion}?page[size]={registros}&token={token}\" #URL con los parámetros deseados\r\n",
        "        response = requests.get(url) #Realizamos la petición\r\n",
        "        if response.status_code == 200: #Si todo salió bien continuamos\r\n",
        "            Iteraciones = mt.ceil(float(response.headers['X-Total'])/registros) #Calculamos el número de páginas en base a todos los registros que hay en la API\r\n",
        "            #Al dividir el número total de registros entre los registros solicitados obtenemos un aproximado, para asegurar que tomaremos todos, redondeamos al entero más alto\r\n",
        "            for i in range(1,Iteraciones+1): #Ciclo for para obtener todos los registros de cada página\r\n",
        "                url = f\"https://api.pandascore.co/{juego}/{informacion}?page[size]={registros}&page[number]={i}&token=V3U1fnnWozJi3bbhZfrxdiAmN4-XWnX_4g6i_6iauwwh7w-V8Ns\"\r\n",
        "                #URL el parámetro de página deseada\r\n",
        "                response = requests.get(url) #Realizamos la petición correspondiente\r\n",
        "                data = response.json() #Transformamos la respuesta \r\n",
        "                if i == 1: #En la primer iteración se crea un Dataframe\r\n",
        "                    df_matches = pd.DataFrame.from_dict(data)\r\n",
        "                else: #En el resto de iteraciones se van añadiendo los nuevos registros\r\n",
        "                    df_matches = df_matches.append(pd.DataFrame.from_dict(data),ignore_index=True) \r\n",
        "            \r\n",
        "            ########### Limpieza de datos\r\n",
        "            campos_no_deseados = ['videogame', 'slug', 'tournament', 'league', 'serie', 'streams', 'modified_at', 'games',\r\n",
        "                      'game_advantage', 'scheduled_at', 'original_scheduled_at', 'detailed_stats','live',\r\n",
        "                      'match_type', 'videogame_version', 'live_embed_url', 'id'] \r\n",
        "\r\n",
        "            df_matches_temp = df_matches.drop(columns=campos_no_deseados) #Limpiamos campos que no nos son de utilidad\r\n",
        "            df_matches_finished = df_matches_temp[ df_matches_temp['status'] == 'finished' ] #Dejamos solo los enfrentamientos que han terminado\r\n",
        "            df_matches_finished_clean = df_matches_finished.dropna(subset=['begin_at', 'end_at']) #Eliminamos algunos valores nulos de las fechas\r\n",
        "            df_matches_ordenado = df_matches_finished_clean[['name','opponents','results','forfeit','draw', #Reorganizamos los campos\r\n",
        "                                                      'number_of_games','winner','winner_id','begin_at','end_at', \r\n",
        "                                                      'rescheduled','official_stream_url','league_id', 'serie_id', 'tournament_id']]\r\n",
        "            df_matches_ordenado = df_matches_ordenado.reset_index(drop=True) #Reseteamos el índice\r\n",
        "            nombres_nuevos = {'name' : 'match_name',\r\n",
        "                             'begin_at' : 'begin_date',\r\n",
        "                             'end_at' : 'end_date',\r\n",
        "                             'official_stream_url' : 'official_stream_channel_url'}                       \r\n",
        "            df_matches_ordenado.rename(columns=nombres_nuevos, inplace=True) #Renombramos columnas                                      \r\n",
        "            return df_matches_ordenado # Finalmente se devuelve el Dataframe con todos los registros limpios y ordenados\r\n",
        "        else: #Si la petición no se ejecutó correctamente mandamos un mensaje con el error devuelto\r\n",
        "            return 'Error de petición: '+str(response.status_code)  \r\n",
        "    else: #Si los argumentos no son de tipo str regresamos un mensaje\r\n",
        "        return 'Por favor coloque un argumento válido en formato string.'"
      ],
      "execution_count": 61,
      "outputs": []
    },
    {
      "cell_type": "markdown",
      "metadata": {
        "id": "fdquNW9ZTXQU"
      },
      "source": [
        "Le indicamos que deseamos los enfrentamientos del juego League of Legends:"
      ]
    },
    {
      "cell_type": "code",
      "metadata": {
        "id": "vT8jy8A3TZ8-"
      },
      "source": [
        "lol_matches = PandaScore_get_matches('lol')"
      ],
      "execution_count": 62,
      "outputs": []
    },
    {
      "cell_type": "markdown",
      "metadata": {
        "id": "iHR_vMsvTfoH"
      },
      "source": [
        "Observamos el Dataframe que nos devuelve la función:"
      ]
    },
    {
      "cell_type": "code",
      "metadata": {
        "id": "eyMe8bvaTpyv",
        "colab": {
          "base_uri": "https://localhost:8080/",
          "height": 660
        },
        "outputId": "e6a533c3-3ca0-4c60-d04a-666e7b6090a1"
      },
      "source": [
        "lol_matches.head()"
      ],
      "execution_count": 63,
      "outputs": [
        {
          "output_type": "execute_result",
          "data": {
            "text/html": [
              "<div>\n",
              "<style scoped>\n",
              "    .dataframe tbody tr th:only-of-type {\n",
              "        vertical-align: middle;\n",
              "    }\n",
              "\n",
              "    .dataframe tbody tr th {\n",
              "        vertical-align: top;\n",
              "    }\n",
              "\n",
              "    .dataframe thead th {\n",
              "        text-align: right;\n",
              "    }\n",
              "</style>\n",
              "<table border=\"1\" class=\"dataframe\">\n",
              "  <thead>\n",
              "    <tr style=\"text-align: right;\">\n",
              "      <th></th>\n",
              "      <th>match_name</th>\n",
              "      <th>opponents</th>\n",
              "      <th>results</th>\n",
              "      <th>forfeit</th>\n",
              "      <th>draw</th>\n",
              "      <th>number_of_games</th>\n",
              "      <th>winner</th>\n",
              "      <th>winner_id</th>\n",
              "      <th>begin_date</th>\n",
              "      <th>end_date</th>\n",
              "      <th>rescheduled</th>\n",
              "      <th>official_stream_channel_url</th>\n",
              "      <th>league_id</th>\n",
              "      <th>serie_id</th>\n",
              "      <th>tournament_id</th>\n",
              "    </tr>\n",
              "  </thead>\n",
              "  <tbody>\n",
              "    <tr>\n",
              "      <th>0</th>\n",
              "      <td>ALF vs BJD</td>\n",
              "      <td>[{'opponent': {'acronym': 'ALF', 'id': 124408,...</td>\n",
              "      <td>[{'score': 0, 'team_id': 124408}, {'score': 1,...</td>\n",
              "      <td>False</td>\n",
              "      <td>False</td>\n",
              "      <td>1</td>\n",
              "      <td>{'acronym': 'BJD', 'id': 126861, 'image_url': ...</td>\n",
              "      <td>126861.0</td>\n",
              "      <td>2021-03-06T09:54:42Z</td>\n",
              "      <td>2021-03-06T10:28:54Z</td>\n",
              "      <td>False</td>\n",
              "      <td>https://www.twitch.tv/lolpacific</td>\n",
              "      <td>4288</td>\n",
              "      <td>3337</td>\n",
              "      <td>5483</td>\n",
              "    </tr>\n",
              "    <tr>\n",
              "      <th>1</th>\n",
              "      <td>Lower Bracket Round 2 Match 1: CGG vs GGE</td>\n",
              "      <td>[{'opponent': {'acronym': 'CGG', 'id': 127494,...</td>\n",
              "      <td>[{'score': 1, 'team_id': 127494}, {'score': 3,...</td>\n",
              "      <td>False</td>\n",
              "      <td>False</td>\n",
              "      <td>5</td>\n",
              "      <td>{'acronym': 'GGE', 'id': 128405, 'image_url': ...</td>\n",
              "      <td>128405.0</td>\n",
              "      <td>2021-03-08T18:07:48Z</td>\n",
              "      <td>2021-03-08T21:37:26Z</td>\n",
              "      <td>False</td>\n",
              "      <td>https://www.twitch.tv/pg_esports</td>\n",
              "      <td>4405</td>\n",
              "      <td>3291</td>\n",
              "      <td>5579</td>\n",
              "    </tr>\n",
              "    <tr>\n",
              "      <th>2</th>\n",
              "      <td>Round 1 match 1: KVM vs ION</td>\n",
              "      <td>[{'opponent': {'acronym': 'KVM', 'id': 127475,...</td>\n",
              "      <td>[{'score': 3, 'team_id': 127475}, {'score': 0,...</td>\n",
              "      <td>False</td>\n",
              "      <td>False</td>\n",
              "      <td>5</td>\n",
              "      <td>{'acronym': 'KVM', 'id': 127475, 'image_url': ...</td>\n",
              "      <td>127475.0</td>\n",
              "      <td>2021-03-08T18:04:03Z</td>\n",
              "      <td>2021-03-08T20:46:01Z</td>\n",
              "      <td>False</td>\n",
              "      <td>https://www.twitch.tv/esportsprimelol</td>\n",
              "      <td>4401</td>\n",
              "      <td>3248</td>\n",
              "      <td>5609</td>\n",
              "    </tr>\n",
              "    <tr>\n",
              "      <th>3</th>\n",
              "      <td>Winners bracket round 1 match 2: ESB vs SIN</td>\n",
              "      <td>[{'opponent': {'acronym': 'ESB', 'id': 3344, '...</td>\n",
              "      <td>[{'score': 2, 'team_id': 3344}, {'score': 3, '...</td>\n",
              "      <td>False</td>\n",
              "      <td>False</td>\n",
              "      <td>5</td>\n",
              "      <td>{'acronym': 'SIN', 'id': 127586, 'image_url': ...</td>\n",
              "      <td>127586.0</td>\n",
              "      <td>2021-03-07T17:53:43Z</td>\n",
              "      <td>2021-03-07T22:22:51Z</td>\n",
              "      <td>False</td>\n",
              "      <td>https://www.twitch.tv/hitpointcz</td>\n",
              "      <td>4433</td>\n",
              "      <td>3314</td>\n",
              "      <td>5602</td>\n",
              "    </tr>\n",
              "    <tr>\n",
              "      <th>4</th>\n",
              "      <td>Winners bracket round 1 match 1: IG vs VIK</td>\n",
              "      <td>[{'opponent': {'acronym': 'IG', 'id': 127585, ...</td>\n",
              "      <td>[{'score': 3, 'team_id': 127585}, {'score': 1,...</td>\n",
              "      <td>False</td>\n",
              "      <td>False</td>\n",
              "      <td>5</td>\n",
              "      <td>{'acronym': 'IG', 'id': 127585, 'image_url': '...</td>\n",
              "      <td>127585.0</td>\n",
              "      <td>2021-03-07T13:30:41Z</td>\n",
              "      <td>2021-03-07T17:08:57Z</td>\n",
              "      <td>False</td>\n",
              "      <td>https://www.twitch.tv/hitpointcz</td>\n",
              "      <td>4433</td>\n",
              "      <td>3314</td>\n",
              "      <td>5602</td>\n",
              "    </tr>\n",
              "  </tbody>\n",
              "</table>\n",
              "</div>"
            ],
            "text/plain": [
              "                                    match_name  ... tournament_id\n",
              "0                                   ALF vs BJD  ...          5483\n",
              "1    Lower Bracket Round 2 Match 1: CGG vs GGE  ...          5579\n",
              "2                  Round 1 match 1: KVM vs ION  ...          5609\n",
              "3  Winners bracket round 1 match 2: ESB vs SIN  ...          5602\n",
              "4   Winners bracket round 1 match 1: IG vs VIK  ...          5602\n",
              "\n",
              "[5 rows x 15 columns]"
            ]
          },
          "metadata": {
            "tags": []
          },
          "execution_count": 63
        }
      ]
    },
    {
      "cell_type": "markdown",
      "metadata": {
        "id": "GyDrRoXOUAAb"
      },
      "source": [
        "Es idéntico al Dataframe que habiamos elaborado en el postwork anterior, es notable que tiene un número de registros mayor, seguramente PandaScore recolecto más datos. Antes de comenzar a tratar los datos, nos gustaría modificar un poco la información que mostramos aprovechando 3 campos que dejamos en forma de lista:\r\n",
        "\r\n",
        "*   _opponents_\r\n",
        "*   _results_\r\n",
        "*   _winner_\r\n",
        "\r\n",
        "En oponentes tenemos los equipos que se enfrentaron, en results tenemos el puntaje de cada uno y en winner tenemos al equipo ganador. Proponemos entonces crear campos que muestren:\r\n",
        "\r\n",
        "* winner_team\r\n",
        "* winner_score\r\n",
        "* loser_team\r\n",
        "* loser_score\r\n",
        "\r\n",
        "Para ello aprovecharemos las propiedades de listas y los aplicaremos a funciones:"
      ]
    },
    {
      "cell_type": "code",
      "metadata": {
        "id": "Ej6tQf42UgLY"
      },
      "source": [
        "def winner_team(serie):\r\n",
        "    if serie == None:\r\n",
        "        return 'Undefined'\r\n",
        "    else: return serie['name']"
      ],
      "execution_count": 64,
      "outputs": []
    },
    {
      "cell_type": "markdown",
      "metadata": {
        "id": "NOd9MR9lVLHi"
      },
      "source": [
        "La función anterior devuelve el elemento ['name'] de la columna de listas _'winner'_ para aplicarla a toda la columna nos apoyamos del método map():"
      ]
    },
    {
      "cell_type": "code",
      "metadata": {
        "id": "LyEeapFFXUUh"
      },
      "source": [
        "lol_matches['winner_team'] = lol_matches['winner'].map(winner_team) #Recordemos que algunos enfrentamientos terminaron en empate"
      ],
      "execution_count": 65,
      "outputs": []
    },
    {
      "cell_type": "markdown",
      "metadata": {
        "id": "J-M7nyTtXX4z"
      },
      "source": [
        "Para conocer a los equipos perdedores desglozamos el campo 'opponents' para que conocer a los equipos y comparamos con el equipo ganador previamente obtenido:"
      ]
    },
    {
      "cell_type": "code",
      "metadata": {
        "id": "F9CiLBQGXbBN"
      },
      "source": [
        "def loser_team(df):\r\n",
        "    losers = []\r\n",
        "    for i in range(0,len(df)):\r\n",
        "        ganador = df['winner_team'][i]\r\n",
        "        equipo = df['opponents'][i][0]['opponent']['name']\r\n",
        "        if ganador == 'Undefined':\r\n",
        "           losers.append('Undefined')\r\n",
        "        elif equipo == ganador:\r\n",
        "           losers.append(df['opponents'][i][1]['opponent']['name'])  \r\n",
        "        elif equipo != ganador: \r\n",
        "           losers.append(df['opponents'][i][0]['opponent']['name'] )\r\n",
        "    return pd.Series(losers,index=df.index)"
      ],
      "execution_count": 66,
      "outputs": []
    },
    {
      "cell_type": "markdown",
      "metadata": {
        "id": "736tQeNxXcDn"
      },
      "source": [
        "Ya que la función nos devuelve una serie de Pandas podemos añadir la nueva columna:"
      ]
    },
    {
      "cell_type": "code",
      "metadata": {
        "id": "miadaS1DX_dA"
      },
      "source": [
        "lol_matches['loser_team'] = loser_team(lol_matches)"
      ],
      "execution_count": 67,
      "outputs": []
    },
    {
      "cell_type": "markdown",
      "metadata": {
        "id": "R-n6I_KLYHwk"
      },
      "source": [
        "Antes de trabajar con las puntuaciones de los equipos, debemos realiar algunos cambios, previamente habiamos llegado al consenso de que en _winner id_ y _winner_ podrían existir valores _None_ debido a que había partidos con empate. Sin embardo para poder extraer los puntajes, es necesario cambiar los _Nones_ para así poder transformar el campo _winner id_ de un tipo de dato float a int y posteriormente realizar la extracción. Primero veamos si existe un _winner id_ que sea igual a cero para saber si podemos convertir los valores NaN en 0:"
      ]
    },
    {
      "cell_type": "code",
      "metadata": {
        "id": "xBM9EMCLYY7Q",
        "colab": {
          "base_uri": "https://localhost:8080/",
          "height": 69
        },
        "outputId": "c175d7ba-752b-4017-d8be-cd6527556af8"
      },
      "source": [
        "lol_matches[ lol_matches['winner_id'] == 0]"
      ],
      "execution_count": 68,
      "outputs": [
        {
          "output_type": "execute_result",
          "data": {
            "text/html": [
              "<div>\n",
              "<style scoped>\n",
              "    .dataframe tbody tr th:only-of-type {\n",
              "        vertical-align: middle;\n",
              "    }\n",
              "\n",
              "    .dataframe tbody tr th {\n",
              "        vertical-align: top;\n",
              "    }\n",
              "\n",
              "    .dataframe thead th {\n",
              "        text-align: right;\n",
              "    }\n",
              "</style>\n",
              "<table border=\"1\" class=\"dataframe\">\n",
              "  <thead>\n",
              "    <tr style=\"text-align: right;\">\n",
              "      <th></th>\n",
              "      <th>match_name</th>\n",
              "      <th>opponents</th>\n",
              "      <th>results</th>\n",
              "      <th>forfeit</th>\n",
              "      <th>draw</th>\n",
              "      <th>number_of_games</th>\n",
              "      <th>winner</th>\n",
              "      <th>winner_id</th>\n",
              "      <th>begin_date</th>\n",
              "      <th>end_date</th>\n",
              "      <th>rescheduled</th>\n",
              "      <th>official_stream_channel_url</th>\n",
              "      <th>league_id</th>\n",
              "      <th>serie_id</th>\n",
              "      <th>tournament_id</th>\n",
              "      <th>winner_team</th>\n",
              "      <th>loser_team</th>\n",
              "    </tr>\n",
              "  </thead>\n",
              "  <tbody>\n",
              "  </tbody>\n",
              "</table>\n",
              "</div>"
            ],
            "text/plain": [
              "Empty DataFrame\n",
              "Columns: [match_name, opponents, results, forfeit, draw, number_of_games, winner, winner_id, begin_date, end_date, rescheduled, official_stream_channel_url, league_id, serie_id, tournament_id, winner_team, loser_team]\n",
              "Index: []"
            ]
          },
          "metadata": {
            "tags": []
          },
          "execution_count": 68
        }
      ]
    },
    {
      "cell_type": "markdown",
      "metadata": {
        "id": "yIt4J-nYYbkH"
      },
      "source": [
        "No hay resultados, podemos transformar con seguridad los _None_ a 0, además corregiremos el campo '_official stream channel url_': "
      ]
    },
    {
      "cell_type": "code",
      "metadata": {
        "id": "mEUwREfIYeG8"
      },
      "source": [
        "lol_matches['winner_id'] = lol_matches['winner_id'].fillna(0)\r\n",
        "lol_matches['official_stream_channel_url'] = lol_matches['official_stream_channel_url'].fillna('Not Provided')"
      ],
      "execution_count": 69,
      "outputs": []
    },
    {
      "cell_type": "markdown",
      "metadata": {
        "id": "8bgkAnORYiQl"
      },
      "source": [
        "Veamos si se realizó correctamente el cambio:"
      ]
    },
    {
      "cell_type": "code",
      "metadata": {
        "id": "044kuYlwYkam",
        "colab": {
          "base_uri": "https://localhost:8080/"
        },
        "outputId": "9a473762-b30c-41f3-f559-de495db96353"
      },
      "source": [
        "lol_matches['winner_id'].isna().sum()\r\n",
        "lol_matches['official_stream_channel_url'].isna().sum()"
      ],
      "execution_count": 70,
      "outputs": [
        {
          "output_type": "execute_result",
          "data": {
            "text/plain": [
              "0"
            ]
          },
          "metadata": {
            "tags": []
          },
          "execution_count": 70
        }
      ]
    },
    {
      "cell_type": "markdown",
      "metadata": {
        "id": "h-FiZofOYnfZ"
      },
      "source": [
        "¡Excelente! Ahora transformemos la columna a enteros:"
      ]
    },
    {
      "cell_type": "code",
      "metadata": {
        "id": "8Md9v1VqYmvO",
        "colab": {
          "base_uri": "https://localhost:8080/"
        },
        "outputId": "3882c6af-ed44-4314-eb58-49f56c449754"
      },
      "source": [
        "lol_matches['winner_id'] = lol_matches['winner_id'].astype(int)\r\n",
        "lol_matches.info()"
      ],
      "execution_count": 71,
      "outputs": [
        {
          "output_type": "stream",
          "text": [
            "<class 'pandas.core.frame.DataFrame'>\n",
            "RangeIndex: 18116 entries, 0 to 18115\n",
            "Data columns (total 17 columns):\n",
            " #   Column                       Non-Null Count  Dtype \n",
            "---  ------                       --------------  ----- \n",
            " 0   match_name                   18116 non-null  object\n",
            " 1   opponents                    18116 non-null  object\n",
            " 2   results                      18116 non-null  object\n",
            " 3   forfeit                      18116 non-null  bool  \n",
            " 4   draw                         18116 non-null  bool  \n",
            " 5   number_of_games              18116 non-null  int64 \n",
            " 6   winner                       17718 non-null  object\n",
            " 7   winner_id                    18116 non-null  int64 \n",
            " 8   begin_date                   18116 non-null  object\n",
            " 9   end_date                     18116 non-null  object\n",
            " 10  rescheduled                  18116 non-null  bool  \n",
            " 11  official_stream_channel_url  18116 non-null  object\n",
            " 12  league_id                    18116 non-null  int64 \n",
            " 13  serie_id                     18116 non-null  int64 \n",
            " 14  tournament_id                18116 non-null  int64 \n",
            " 15  winner_team                  18116 non-null  object\n",
            " 16  loser_team                   18116 non-null  object\n",
            "dtypes: bool(3), int64(5), object(9)\n",
            "memory usage: 2.0+ MB\n"
          ],
          "name": "stdout"
        }
      ]
    },
    {
      "cell_type": "markdown",
      "metadata": {
        "id": "gQJ2Q7kTZoUo"
      },
      "source": [
        "Ahora podemos crear nuestra función:"
      ]
    },
    {
      "cell_type": "code",
      "metadata": {
        "id": "drHRPjU7ZsPJ"
      },
      "source": [
        "def team_scores(df):\r\n",
        "    losers_score = []\r\n",
        "    winners_score = []\r\n",
        "    for i in range(0,len(df)):\r\n",
        "        ganador_id = df['winner_id'][i]\r\n",
        "        equipo1_id = df['results'][i][0].get('team_id')\r\n",
        "        equipo2_id = df['results'][i][1].get('team_id')\r\n",
        "        if ganador_id == 0:\r\n",
        "            winner_score = 0\r\n",
        "            loser_score = 0\r\n",
        "        elif equipo1_id == ganador_id:\r\n",
        "            winner_score = df['results'][i][0].get('score')\r\n",
        "            loser_score = df['results'][i][1].get('score')\r\n",
        "        else:\r\n",
        "            winner_score = df['results'][i][1].get('score')\r\n",
        "            loser_score = df['results'][i][0].get('score')\r\n",
        "        winners_score.append(winner_score)    \r\n",
        "        losers_score.append(loser_score)\r\n",
        "    return [pd.Series(winners_score,index=df.index), pd.Series(losers_score,index=df.index) ]"
      ],
      "execution_count": 72,
      "outputs": []
    },
    {
      "cell_type": "code",
      "metadata": {
        "id": "5o1yjEhnZvNe",
        "colab": {
          "base_uri": "https://localhost:8080/",
          "height": 1000
        },
        "outputId": "2d16eb84-f2bf-4301-c6a8-df4b44bb5b71"
      },
      "source": [
        "[winner_score,loser_score] = team_scores(lol_matches)\r\n",
        "lol_matches['winner_score'] = winner_score\r\n",
        "lol_matches['loser_score'] = loser_score\r\n",
        "lol_matches"
      ],
      "execution_count": 73,
      "outputs": [
        {
          "output_type": "execute_result",
          "data": {
            "text/html": [
              "<div>\n",
              "<style scoped>\n",
              "    .dataframe tbody tr th:only-of-type {\n",
              "        vertical-align: middle;\n",
              "    }\n",
              "\n",
              "    .dataframe tbody tr th {\n",
              "        vertical-align: top;\n",
              "    }\n",
              "\n",
              "    .dataframe thead th {\n",
              "        text-align: right;\n",
              "    }\n",
              "</style>\n",
              "<table border=\"1\" class=\"dataframe\">\n",
              "  <thead>\n",
              "    <tr style=\"text-align: right;\">\n",
              "      <th></th>\n",
              "      <th>match_name</th>\n",
              "      <th>opponents</th>\n",
              "      <th>results</th>\n",
              "      <th>forfeit</th>\n",
              "      <th>draw</th>\n",
              "      <th>number_of_games</th>\n",
              "      <th>winner</th>\n",
              "      <th>winner_id</th>\n",
              "      <th>begin_date</th>\n",
              "      <th>end_date</th>\n",
              "      <th>rescheduled</th>\n",
              "      <th>official_stream_channel_url</th>\n",
              "      <th>league_id</th>\n",
              "      <th>serie_id</th>\n",
              "      <th>tournament_id</th>\n",
              "      <th>winner_team</th>\n",
              "      <th>loser_team</th>\n",
              "      <th>winner_score</th>\n",
              "      <th>loser_score</th>\n",
              "    </tr>\n",
              "  </thead>\n",
              "  <tbody>\n",
              "    <tr>\n",
              "      <th>0</th>\n",
              "      <td>ALF vs BJD</td>\n",
              "      <td>[{'opponent': {'acronym': 'ALF', 'id': 124408,...</td>\n",
              "      <td>[{'score': 0, 'team_id': 124408}, {'score': 1,...</td>\n",
              "      <td>False</td>\n",
              "      <td>False</td>\n",
              "      <td>1</td>\n",
              "      <td>{'acronym': 'BJD', 'id': 126861, 'image_url': ...</td>\n",
              "      <td>126861</td>\n",
              "      <td>2021-03-06T09:54:42Z</td>\n",
              "      <td>2021-03-06T10:28:54Z</td>\n",
              "      <td>False</td>\n",
              "      <td>https://www.twitch.tv/lolpacific</td>\n",
              "      <td>4288</td>\n",
              "      <td>3337</td>\n",
              "      <td>5483</td>\n",
              "      <td>Berjaya Dragons</td>\n",
              "      <td>Alpha Esports</td>\n",
              "      <td>1</td>\n",
              "      <td>0</td>\n",
              "    </tr>\n",
              "    <tr>\n",
              "      <th>1</th>\n",
              "      <td>Lower Bracket Round 2 Match 1: CGG vs GGE</td>\n",
              "      <td>[{'opponent': {'acronym': 'CGG', 'id': 127494,...</td>\n",
              "      <td>[{'score': 1, 'team_id': 127494}, {'score': 3,...</td>\n",
              "      <td>False</td>\n",
              "      <td>False</td>\n",
              "      <td>5</td>\n",
              "      <td>{'acronym': 'GGE', 'id': 128405, 'image_url': ...</td>\n",
              "      <td>128405</td>\n",
              "      <td>2021-03-08T18:07:48Z</td>\n",
              "      <td>2021-03-08T21:37:26Z</td>\n",
              "      <td>False</td>\n",
              "      <td>https://www.twitch.tv/pg_esports</td>\n",
              "      <td>4405</td>\n",
              "      <td>3291</td>\n",
              "      <td>5579</td>\n",
              "      <td>GG&amp;Esports</td>\n",
              "      <td>Cyberground Gaming</td>\n",
              "      <td>3</td>\n",
              "      <td>1</td>\n",
              "    </tr>\n",
              "    <tr>\n",
              "      <th>2</th>\n",
              "      <td>Round 1 match 1: KVM vs ION</td>\n",
              "      <td>[{'opponent': {'acronym': 'KVM', 'id': 127475,...</td>\n",
              "      <td>[{'score': 3, 'team_id': 127475}, {'score': 0,...</td>\n",
              "      <td>False</td>\n",
              "      <td>False</td>\n",
              "      <td>5</td>\n",
              "      <td>{'acronym': 'KVM', 'id': 127475, 'image_url': ...</td>\n",
              "      <td>127475</td>\n",
              "      <td>2021-03-08T18:04:03Z</td>\n",
              "      <td>2021-03-08T20:46:01Z</td>\n",
              "      <td>False</td>\n",
              "      <td>https://www.twitch.tv/esportsprimelol</td>\n",
              "      <td>4401</td>\n",
              "      <td>3248</td>\n",
              "      <td>5609</td>\n",
              "      <td>KV Mechelen Esports</td>\n",
              "      <td>Ion Squad</td>\n",
              "      <td>3</td>\n",
              "      <td>0</td>\n",
              "    </tr>\n",
              "    <tr>\n",
              "      <th>3</th>\n",
              "      <td>Winners bracket round 1 match 2: ESB vs SIN</td>\n",
              "      <td>[{'opponent': {'acronym': 'ESB', 'id': 3344, '...</td>\n",
              "      <td>[{'score': 2, 'team_id': 3344}, {'score': 3, '...</td>\n",
              "      <td>False</td>\n",
              "      <td>False</td>\n",
              "      <td>5</td>\n",
              "      <td>{'acronym': 'SIN', 'id': 127586, 'image_url': ...</td>\n",
              "      <td>127586</td>\n",
              "      <td>2021-03-07T17:53:43Z</td>\n",
              "      <td>2021-03-07T22:22:51Z</td>\n",
              "      <td>False</td>\n",
              "      <td>https://www.twitch.tv/hitpointcz</td>\n",
              "      <td>4433</td>\n",
              "      <td>3314</td>\n",
              "      <td>5602</td>\n",
              "      <td>SINNERS Esports</td>\n",
              "      <td>eSuba</td>\n",
              "      <td>3</td>\n",
              "      <td>2</td>\n",
              "    </tr>\n",
              "    <tr>\n",
              "      <th>4</th>\n",
              "      <td>Winners bracket round 1 match 1: IG vs VIK</td>\n",
              "      <td>[{'opponent': {'acronym': 'IG', 'id': 127585, ...</td>\n",
              "      <td>[{'score': 3, 'team_id': 127585}, {'score': 1,...</td>\n",
              "      <td>False</td>\n",
              "      <td>False</td>\n",
              "      <td>5</td>\n",
              "      <td>{'acronym': 'IG', 'id': 127585, 'image_url': '...</td>\n",
              "      <td>127585</td>\n",
              "      <td>2021-03-07T13:30:41Z</td>\n",
              "      <td>2021-03-07T17:08:57Z</td>\n",
              "      <td>False</td>\n",
              "      <td>https://www.twitch.tv/hitpointcz</td>\n",
              "      <td>4433</td>\n",
              "      <td>3314</td>\n",
              "      <td>5602</td>\n",
              "      <td>Inside Games</td>\n",
              "      <td>Vikingekrig Esports</td>\n",
              "      <td>3</td>\n",
              "      <td>1</td>\n",
              "    </tr>\n",
              "    <tr>\n",
              "      <th>...</th>\n",
              "      <td>...</td>\n",
              "      <td>...</td>\n",
              "      <td>...</td>\n",
              "      <td>...</td>\n",
              "      <td>...</td>\n",
              "      <td>...</td>\n",
              "      <td>...</td>\n",
              "      <td>...</td>\n",
              "      <td>...</td>\n",
              "      <td>...</td>\n",
              "      <td>...</td>\n",
              "      <td>...</td>\n",
              "      <td>...</td>\n",
              "      <td>...</td>\n",
              "      <td>...</td>\n",
              "      <td>...</td>\n",
              "      <td>...</td>\n",
              "      <td>...</td>\n",
              "      <td>...</td>\n",
              "    </tr>\n",
              "    <tr>\n",
              "      <th>18111</th>\n",
              "      <td>DIG vs C9</td>\n",
              "      <td>[{'opponent': {'acronym': 'DIG', 'id': 384, 'i...</td>\n",
              "      <td>[{'score': 1, 'team_id': 384}, {'score': 0, 't...</td>\n",
              "      <td>False</td>\n",
              "      <td>False</td>\n",
              "      <td>1</td>\n",
              "      <td>{'acronym': 'DIG', 'id': 384, 'image_url': 'ht...</td>\n",
              "      <td>384</td>\n",
              "      <td>2015-05-31T20:09:51Z</td>\n",
              "      <td>2015-05-31T20:43:55Z</td>\n",
              "      <td>False</td>\n",
              "      <td>Not Provided</td>\n",
              "      <td>289</td>\n",
              "      <td>31</td>\n",
              "      <td>1</td>\n",
              "      <td>Dignitas</td>\n",
              "      <td>Cloud9</td>\n",
              "      <td>1</td>\n",
              "      <td>0</td>\n",
              "    </tr>\n",
              "    <tr>\n",
              "      <th>18112</th>\n",
              "      <td>T8 vs TL</td>\n",
              "      <td>[{'opponent': {'acronym': 'T8', 'id': 6, 'imag...</td>\n",
              "      <td>[{'score': 0, 'team_id': 6}, {'score': 1, 'tea...</td>\n",
              "      <td>False</td>\n",
              "      <td>False</td>\n",
              "      <td>1</td>\n",
              "      <td>{'acronym': 'TL', 'id': 390, 'image_url': 'htt...</td>\n",
              "      <td>390</td>\n",
              "      <td>2015-05-31T18:22:58Z</td>\n",
              "      <td>2015-05-31T19:04:18Z</td>\n",
              "      <td>False</td>\n",
              "      <td>Not Provided</td>\n",
              "      <td>289</td>\n",
              "      <td>31</td>\n",
              "      <td>1</td>\n",
              "      <td>Team Liquid</td>\n",
              "      <td>Team 8</td>\n",
              "      <td>1</td>\n",
              "      <td>0</td>\n",
              "    </tr>\n",
              "    <tr>\n",
              "      <th>18113</th>\n",
              "      <td>GV vs NME</td>\n",
              "      <td>[{'opponent': {'acronym': 'GV', 'id': 9, 'imag...</td>\n",
              "      <td>[{'score': 0, 'team_id': 9}, {'score': 1, 'tea...</td>\n",
              "      <td>False</td>\n",
              "      <td>False</td>\n",
              "      <td>1</td>\n",
              "      <td>{'acronym': 'NME', 'id': 10, 'image_url': 'htt...</td>\n",
              "      <td>10</td>\n",
              "      <td>2015-05-30T23:23:25Z</td>\n",
              "      <td>2015-05-31T00:06:10Z</td>\n",
              "      <td>False</td>\n",
              "      <td>Not Provided</td>\n",
              "      <td>289</td>\n",
              "      <td>31</td>\n",
              "      <td>1</td>\n",
              "      <td>Enemy</td>\n",
              "      <td>Gravity</td>\n",
              "      <td>1</td>\n",
              "      <td>0</td>\n",
              "    </tr>\n",
              "    <tr>\n",
              "      <th>18114</th>\n",
              "      <td>T8 vs TIP</td>\n",
              "      <td>[{'opponent': {'acronym': 'T8', 'id': 6, 'imag...</td>\n",
              "      <td>[{'score': 0, 'team_id': 6}, {'score': 1, 'tea...</td>\n",
              "      <td>False</td>\n",
              "      <td>False</td>\n",
              "      <td>1</td>\n",
              "      <td>{'acronym': 'TIP', 'id': 385, 'image_url': 'ht...</td>\n",
              "      <td>385</td>\n",
              "      <td>2015-05-30T22:23:32Z</td>\n",
              "      <td>2015-05-30T22:56:32Z</td>\n",
              "      <td>False</td>\n",
              "      <td>Not Provided</td>\n",
              "      <td>289</td>\n",
              "      <td>31</td>\n",
              "      <td>1</td>\n",
              "      <td>Impulse</td>\n",
              "      <td>Team 8</td>\n",
              "      <td>1</td>\n",
              "      <td>0</td>\n",
              "    </tr>\n",
              "    <tr>\n",
              "      <th>18115</th>\n",
              "      <td>TL vs TDK</td>\n",
              "      <td>[{'opponent': {'acronym': 'TL', 'id': 390, 'im...</td>\n",
              "      <td>[{'score': 1, 'team_id': 390}, {'score': 0, 't...</td>\n",
              "      <td>False</td>\n",
              "      <td>False</td>\n",
              "      <td>1</td>\n",
              "      <td>{'acronym': 'TL', 'id': 390, 'image_url': 'htt...</td>\n",
              "      <td>390</td>\n",
              "      <td>2015-05-30T20:11:29Z</td>\n",
              "      <td>2015-05-30T20:55:10Z</td>\n",
              "      <td>False</td>\n",
              "      <td>Not Provided</td>\n",
              "      <td>289</td>\n",
              "      <td>31</td>\n",
              "      <td>1</td>\n",
              "      <td>Team Liquid</td>\n",
              "      <td>Dragon Knights</td>\n",
              "      <td>1</td>\n",
              "      <td>0</td>\n",
              "    </tr>\n",
              "  </tbody>\n",
              "</table>\n",
              "<p>18116 rows × 19 columns</p>\n",
              "</div>"
            ],
            "text/plain": [
              "                                        match_name  ... loser_score\n",
              "0                                       ALF vs BJD  ...           0\n",
              "1        Lower Bracket Round 2 Match 1: CGG vs GGE  ...           1\n",
              "2                      Round 1 match 1: KVM vs ION  ...           0\n",
              "3      Winners bracket round 1 match 2: ESB vs SIN  ...           2\n",
              "4       Winners bracket round 1 match 1: IG vs VIK  ...           1\n",
              "...                                            ...  ...         ...\n",
              "18111                                    DIG vs C9  ...           0\n",
              "18112                                     T8 vs TL  ...           0\n",
              "18113                                    GV vs NME  ...           0\n",
              "18114                                    T8 vs TIP  ...           0\n",
              "18115                                    TL vs TDK  ...           0\n",
              "\n",
              "[18116 rows x 19 columns]"
            ]
          },
          "metadata": {
            "tags": []
          },
          "execution_count": 73
        }
      ]
    },
    {
      "cell_type": "markdown",
      "metadata": {
        "id": "nBPoPrc0Z8FS"
      },
      "source": [
        "Ahora que extrajimos la información más relevante de los campos con listas, podemos retirarlos:"
      ]
    },
    {
      "cell_type": "code",
      "metadata": {
        "id": "CMx7LQvHaExy"
      },
      "source": [
        "lol_matches2 = lol_matches\r\n",
        "campos_no_deseados = ['results','winner','opponents','winner_id']\r\n",
        "lol_matches2 = lol_matches2.drop(columns=campos_no_deseados)"
      ],
      "execution_count": 74,
      "outputs": []
    },
    {
      "cell_type": "code",
      "metadata": {
        "id": "e_o7rnAlaHPx",
        "colab": {
          "base_uri": "https://localhost:8080/"
        },
        "outputId": "04fce387-9d81-4ba2-cc0f-d67de9b081e6"
      },
      "source": [
        "lol_matches2.info()"
      ],
      "execution_count": 75,
      "outputs": [
        {
          "output_type": "stream",
          "text": [
            "<class 'pandas.core.frame.DataFrame'>\n",
            "RangeIndex: 18116 entries, 0 to 18115\n",
            "Data columns (total 15 columns):\n",
            " #   Column                       Non-Null Count  Dtype \n",
            "---  ------                       --------------  ----- \n",
            " 0   match_name                   18116 non-null  object\n",
            " 1   forfeit                      18116 non-null  bool  \n",
            " 2   draw                         18116 non-null  bool  \n",
            " 3   number_of_games              18116 non-null  int64 \n",
            " 4   begin_date                   18116 non-null  object\n",
            " 5   end_date                     18116 non-null  object\n",
            " 6   rescheduled                  18116 non-null  bool  \n",
            " 7   official_stream_channel_url  18116 non-null  object\n",
            " 8   league_id                    18116 non-null  int64 \n",
            " 9   serie_id                     18116 non-null  int64 \n",
            " 10  tournament_id                18116 non-null  int64 \n",
            " 11  winner_team                  18116 non-null  object\n",
            " 12  loser_team                   18116 non-null  object\n",
            " 13  winner_score                 18116 non-null  int64 \n",
            " 14  loser_score                  18116 non-null  int64 \n",
            "dtypes: bool(3), int64(6), object(6)\n",
            "memory usage: 1.7+ MB\n"
          ],
          "name": "stdout"
        }
      ]
    },
    {
      "cell_type": "markdown",
      "metadata": {
        "id": "wd_HFlpYaKO7"
      },
      "source": [
        "Nuestro siguiente objetivo es refinar los tipos de datos de los campos para las fechas:"
      ]
    },
    {
      "cell_type": "code",
      "metadata": {
        "id": "OhxXLRH0aNC-"
      },
      "source": [
        "from datetime import *\r\n",
        "lol_matches2['begin_date'] = lol_matches2['begin_date'].apply(datetime.strptime, args=('%Y-%m-%dT%H:%M:%SZ',))\r\n",
        "lol_matches2['end_date'] = lol_matches2['end_date'].apply(datetime.strptime, args=('%Y-%m-%dT%H:%M:%SZ',))"
      ],
      "execution_count": 76,
      "outputs": []
    },
    {
      "cell_type": "markdown",
      "metadata": {
        "id": "d5SIOh3baREM"
      },
      "source": [
        "Ya que la API guarda los datos en una forma algo peculiar nos apoyamos del paquete datetime y convertimos con ayuda de apply. Finalmente tendremos un Dataframe libre de valores nulos, con campos nombrados coherentementes (en inglés) y que ofrece la posibilidad de trabajar con otros datos de la API al conservar los identificadores:"
      ]
    },
    {
      "cell_type": "code",
      "metadata": {
        "id": "XYub76EHaUMu",
        "colab": {
          "base_uri": "https://localhost:8080/"
        },
        "outputId": "5f7740e5-8901-48cf-eb04-d2a10e5dceb8"
      },
      "source": [
        "lol_matches2.info()"
      ],
      "execution_count": 77,
      "outputs": [
        {
          "output_type": "stream",
          "text": [
            "<class 'pandas.core.frame.DataFrame'>\n",
            "RangeIndex: 18116 entries, 0 to 18115\n",
            "Data columns (total 15 columns):\n",
            " #   Column                       Non-Null Count  Dtype         \n",
            "---  ------                       --------------  -----         \n",
            " 0   match_name                   18116 non-null  object        \n",
            " 1   forfeit                      18116 non-null  bool          \n",
            " 2   draw                         18116 non-null  bool          \n",
            " 3   number_of_games              18116 non-null  int64         \n",
            " 4   begin_date                   18116 non-null  datetime64[ns]\n",
            " 5   end_date                     18116 non-null  datetime64[ns]\n",
            " 6   rescheduled                  18116 non-null  bool          \n",
            " 7   official_stream_channel_url  18116 non-null  object        \n",
            " 8   league_id                    18116 non-null  int64         \n",
            " 9   serie_id                     18116 non-null  int64         \n",
            " 10  tournament_id                18116 non-null  int64         \n",
            " 11  winner_team                  18116 non-null  object        \n",
            " 12  loser_team                   18116 non-null  object        \n",
            " 13  winner_score                 18116 non-null  int64         \n",
            " 14  loser_score                  18116 non-null  int64         \n",
            "dtypes: bool(3), datetime64[ns](2), int64(6), object(4)\n",
            "memory usage: 1.7+ MB\n"
          ],
          "name": "stdout"
        }
      ]
    },
    {
      "cell_type": "code",
      "metadata": {
        "id": "RPJ_6JgaaXCA",
        "colab": {
          "base_uri": "https://localhost:8080/",
          "height": 504
        },
        "outputId": "af87be97-dbc5-4c73-c7e6-e9be86e803aa"
      },
      "source": [
        "lol_matches2.head()"
      ],
      "execution_count": 78,
      "outputs": [
        {
          "output_type": "execute_result",
          "data": {
            "text/html": [
              "<div>\n",
              "<style scoped>\n",
              "    .dataframe tbody tr th:only-of-type {\n",
              "        vertical-align: middle;\n",
              "    }\n",
              "\n",
              "    .dataframe tbody tr th {\n",
              "        vertical-align: top;\n",
              "    }\n",
              "\n",
              "    .dataframe thead th {\n",
              "        text-align: right;\n",
              "    }\n",
              "</style>\n",
              "<table border=\"1\" class=\"dataframe\">\n",
              "  <thead>\n",
              "    <tr style=\"text-align: right;\">\n",
              "      <th></th>\n",
              "      <th>match_name</th>\n",
              "      <th>forfeit</th>\n",
              "      <th>draw</th>\n",
              "      <th>number_of_games</th>\n",
              "      <th>begin_date</th>\n",
              "      <th>end_date</th>\n",
              "      <th>rescheduled</th>\n",
              "      <th>official_stream_channel_url</th>\n",
              "      <th>league_id</th>\n",
              "      <th>serie_id</th>\n",
              "      <th>tournament_id</th>\n",
              "      <th>winner_team</th>\n",
              "      <th>loser_team</th>\n",
              "      <th>winner_score</th>\n",
              "      <th>loser_score</th>\n",
              "    </tr>\n",
              "  </thead>\n",
              "  <tbody>\n",
              "    <tr>\n",
              "      <th>0</th>\n",
              "      <td>ALF vs BJD</td>\n",
              "      <td>False</td>\n",
              "      <td>False</td>\n",
              "      <td>1</td>\n",
              "      <td>2021-03-06 09:54:42</td>\n",
              "      <td>2021-03-06 10:28:54</td>\n",
              "      <td>False</td>\n",
              "      <td>https://www.twitch.tv/lolpacific</td>\n",
              "      <td>4288</td>\n",
              "      <td>3337</td>\n",
              "      <td>5483</td>\n",
              "      <td>Berjaya Dragons</td>\n",
              "      <td>Alpha Esports</td>\n",
              "      <td>1</td>\n",
              "      <td>0</td>\n",
              "    </tr>\n",
              "    <tr>\n",
              "      <th>1</th>\n",
              "      <td>Lower Bracket Round 2 Match 1: CGG vs GGE</td>\n",
              "      <td>False</td>\n",
              "      <td>False</td>\n",
              "      <td>5</td>\n",
              "      <td>2021-03-08 18:07:48</td>\n",
              "      <td>2021-03-08 21:37:26</td>\n",
              "      <td>False</td>\n",
              "      <td>https://www.twitch.tv/pg_esports</td>\n",
              "      <td>4405</td>\n",
              "      <td>3291</td>\n",
              "      <td>5579</td>\n",
              "      <td>GG&amp;Esports</td>\n",
              "      <td>Cyberground Gaming</td>\n",
              "      <td>3</td>\n",
              "      <td>1</td>\n",
              "    </tr>\n",
              "    <tr>\n",
              "      <th>2</th>\n",
              "      <td>Round 1 match 1: KVM vs ION</td>\n",
              "      <td>False</td>\n",
              "      <td>False</td>\n",
              "      <td>5</td>\n",
              "      <td>2021-03-08 18:04:03</td>\n",
              "      <td>2021-03-08 20:46:01</td>\n",
              "      <td>False</td>\n",
              "      <td>https://www.twitch.tv/esportsprimelol</td>\n",
              "      <td>4401</td>\n",
              "      <td>3248</td>\n",
              "      <td>5609</td>\n",
              "      <td>KV Mechelen Esports</td>\n",
              "      <td>Ion Squad</td>\n",
              "      <td>3</td>\n",
              "      <td>0</td>\n",
              "    </tr>\n",
              "    <tr>\n",
              "      <th>3</th>\n",
              "      <td>Winners bracket round 1 match 2: ESB vs SIN</td>\n",
              "      <td>False</td>\n",
              "      <td>False</td>\n",
              "      <td>5</td>\n",
              "      <td>2021-03-07 17:53:43</td>\n",
              "      <td>2021-03-07 22:22:51</td>\n",
              "      <td>False</td>\n",
              "      <td>https://www.twitch.tv/hitpointcz</td>\n",
              "      <td>4433</td>\n",
              "      <td>3314</td>\n",
              "      <td>5602</td>\n",
              "      <td>SINNERS Esports</td>\n",
              "      <td>eSuba</td>\n",
              "      <td>3</td>\n",
              "      <td>2</td>\n",
              "    </tr>\n",
              "    <tr>\n",
              "      <th>4</th>\n",
              "      <td>Winners bracket round 1 match 1: IG vs VIK</td>\n",
              "      <td>False</td>\n",
              "      <td>False</td>\n",
              "      <td>5</td>\n",
              "      <td>2021-03-07 13:30:41</td>\n",
              "      <td>2021-03-07 17:08:57</td>\n",
              "      <td>False</td>\n",
              "      <td>https://www.twitch.tv/hitpointcz</td>\n",
              "      <td>4433</td>\n",
              "      <td>3314</td>\n",
              "      <td>5602</td>\n",
              "      <td>Inside Games</td>\n",
              "      <td>Vikingekrig Esports</td>\n",
              "      <td>3</td>\n",
              "      <td>1</td>\n",
              "    </tr>\n",
              "  </tbody>\n",
              "</table>\n",
              "</div>"
            ],
            "text/plain": [
              "                                    match_name  ...  loser_score\n",
              "0                                   ALF vs BJD  ...            0\n",
              "1    Lower Bracket Round 2 Match 1: CGG vs GGE  ...            1\n",
              "2                  Round 1 match 1: KVM vs ION  ...            0\n",
              "3  Winners bracket round 1 match 2: ESB vs SIN  ...            2\n",
              "4   Winners bracket round 1 match 1: IG vs VIK  ...            1\n",
              "\n",
              "[5 rows x 15 columns]"
            ]
          },
          "metadata": {
            "tags": []
          },
          "execution_count": 78
        }
      ]
    },
    {
      "cell_type": "markdown",
      "metadata": {
        "id": "9bkmNYzOacAs"
      },
      "source": [
        "Antes de guardar nuestro Dataframe, ordenemos por fecha de forma que lo primero que veamos sean los enfrentamientos más antiguos:"
      ]
    },
    {
      "cell_type": "code",
      "metadata": {
        "id": "dFbYOncPae1u"
      },
      "source": [
        "lol_matches2 = lol_matches2.sort_values('begin_date', ascending=True)"
      ],
      "execution_count": 79,
      "outputs": []
    },
    {
      "cell_type": "markdown",
      "metadata": {
        "id": "EYl0T3iCahOV"
      },
      "source": [
        "Necesitamos resetear el índice:"
      ]
    },
    {
      "cell_type": "code",
      "metadata": {
        "id": "wzNRdsb2ajon",
        "colab": {
          "base_uri": "https://localhost:8080/",
          "height": 652
        },
        "outputId": "453a33c5-444b-4e2d-bf51-8dd21687ebe5"
      },
      "source": [
        "lol_matches2 = lol_matches2.reset_index(drop=True)\r\n",
        "lol_matches2"
      ],
      "execution_count": 80,
      "outputs": [
        {
          "output_type": "execute_result",
          "data": {
            "text/html": [
              "<div>\n",
              "<style scoped>\n",
              "    .dataframe tbody tr th:only-of-type {\n",
              "        vertical-align: middle;\n",
              "    }\n",
              "\n",
              "    .dataframe tbody tr th {\n",
              "        vertical-align: top;\n",
              "    }\n",
              "\n",
              "    .dataframe thead th {\n",
              "        text-align: right;\n",
              "    }\n",
              "</style>\n",
              "<table border=\"1\" class=\"dataframe\">\n",
              "  <thead>\n",
              "    <tr style=\"text-align: right;\">\n",
              "      <th></th>\n",
              "      <th>match_name</th>\n",
              "      <th>forfeit</th>\n",
              "      <th>draw</th>\n",
              "      <th>number_of_games</th>\n",
              "      <th>begin_date</th>\n",
              "      <th>end_date</th>\n",
              "      <th>rescheduled</th>\n",
              "      <th>official_stream_channel_url</th>\n",
              "      <th>league_id</th>\n",
              "      <th>serie_id</th>\n",
              "      <th>tournament_id</th>\n",
              "      <th>winner_team</th>\n",
              "      <th>loser_team</th>\n",
              "      <th>winner_score</th>\n",
              "      <th>loser_score</th>\n",
              "    </tr>\n",
              "  </thead>\n",
              "  <tbody>\n",
              "    <tr>\n",
              "      <th>0</th>\n",
              "      <td>Qf 2</td>\n",
              "      <td>False</td>\n",
              "      <td>False</td>\n",
              "      <td>3</td>\n",
              "      <td>2014-06-01 14:00:00</td>\n",
              "      <td>2014-06-01 15:35:19</td>\n",
              "      <td>False</td>\n",
              "      <td>Not Provided</td>\n",
              "      <td>291</td>\n",
              "      <td>1352</td>\n",
              "      <td>696</td>\n",
              "      <td>Team LoLPro</td>\n",
              "      <td>Area of Effect eSports</td>\n",
              "      <td>2</td>\n",
              "      <td>0</td>\n",
              "    </tr>\n",
              "    <tr>\n",
              "      <th>1</th>\n",
              "      <td>Qf 3</td>\n",
              "      <td>False</td>\n",
              "      <td>False</td>\n",
              "      <td>3</td>\n",
              "      <td>2014-06-07 14:00:00</td>\n",
              "      <td>2014-06-07 15:40:14</td>\n",
              "      <td>False</td>\n",
              "      <td>Not Provided</td>\n",
              "      <td>291</td>\n",
              "      <td>1352</td>\n",
              "      <td>696</td>\n",
              "      <td>Team Coast</td>\n",
              "      <td>Team Green Forest</td>\n",
              "      <td>2</td>\n",
              "      <td>0</td>\n",
              "    </tr>\n",
              "    <tr>\n",
              "      <th>2</th>\n",
              "      <td>Sf1</td>\n",
              "      <td>False</td>\n",
              "      <td>False</td>\n",
              "      <td>3</td>\n",
              "      <td>2014-06-14 14:00:00</td>\n",
              "      <td>2014-06-14 15:30:36</td>\n",
              "      <td>False</td>\n",
              "      <td>Not Provided</td>\n",
              "      <td>291</td>\n",
              "      <td>1352</td>\n",
              "      <td>696</td>\n",
              "      <td>Team LoLPro</td>\n",
              "      <td>Frank Fang Gaming</td>\n",
              "      <td>2</td>\n",
              "      <td>0</td>\n",
              "    </tr>\n",
              "    <tr>\n",
              "      <th>3</th>\n",
              "      <td>Sf2</td>\n",
              "      <td>False</td>\n",
              "      <td>False</td>\n",
              "      <td>3</td>\n",
              "      <td>2014-06-15 14:00:00</td>\n",
              "      <td>2014-06-15 16:35:43</td>\n",
              "      <td>False</td>\n",
              "      <td>Not Provided</td>\n",
              "      <td>291</td>\n",
              "      <td>1352</td>\n",
              "      <td>696</td>\n",
              "      <td>Team Coast</td>\n",
              "      <td>Curse Academy</td>\n",
              "      <td>2</td>\n",
              "      <td>1</td>\n",
              "    </tr>\n",
              "    <tr>\n",
              "      <th>4</th>\n",
              "      <td>3rd/4th</td>\n",
              "      <td>False</td>\n",
              "      <td>False</td>\n",
              "      <td>3</td>\n",
              "      <td>2014-06-16 14:00:00</td>\n",
              "      <td>2014-06-16 15:43:55</td>\n",
              "      <td>False</td>\n",
              "      <td>Not Provided</td>\n",
              "      <td>291</td>\n",
              "      <td>1352</td>\n",
              "      <td>696</td>\n",
              "      <td>Curse Academy</td>\n",
              "      <td>Frank Fang Gaming</td>\n",
              "      <td>0</td>\n",
              "      <td>0</td>\n",
              "    </tr>\n",
              "    <tr>\n",
              "      <th>...</th>\n",
              "      <td>...</td>\n",
              "      <td>...</td>\n",
              "      <td>...</td>\n",
              "      <td>...</td>\n",
              "      <td>...</td>\n",
              "      <td>...</td>\n",
              "      <td>...</td>\n",
              "      <td>...</td>\n",
              "      <td>...</td>\n",
              "      <td>...</td>\n",
              "      <td>...</td>\n",
              "      <td>...</td>\n",
              "      <td>...</td>\n",
              "      <td>...</td>\n",
              "      <td>...</td>\n",
              "    </tr>\n",
              "    <tr>\n",
              "      <th>18111</th>\n",
              "      <td>Week 7: STR vs x25 Esports</td>\n",
              "      <td>False</td>\n",
              "      <td>False</td>\n",
              "      <td>1</td>\n",
              "      <td>2021-03-08 21:01:47</td>\n",
              "      <td>2021-03-08 21:35:43</td>\n",
              "      <td>False</td>\n",
              "      <td>https://www.twitch.tv/fortuna</td>\n",
              "      <td>4426</td>\n",
              "      <td>3351</td>\n",
              "      <td>5514</td>\n",
              "      <td>x25 Esports</td>\n",
              "      <td>Split Raiders</td>\n",
              "      <td>1</td>\n",
              "      <td>0</td>\n",
              "    </tr>\n",
              "    <tr>\n",
              "      <th>18112</th>\n",
              "      <td>KRM vs WD</td>\n",
              "      <td>False</td>\n",
              "      <td>False</td>\n",
              "      <td>1</td>\n",
              "      <td>2021-03-08 21:06:24</td>\n",
              "      <td>2021-03-08 21:42:41</td>\n",
              "      <td>False</td>\n",
              "      <td>https://www.twitch.tv/InygonTV1</td>\n",
              "      <td>4407</td>\n",
              "      <td>3301</td>\n",
              "      <td>5411</td>\n",
              "      <td>White Dragons</td>\n",
              "      <td>Karma Clan Esports</td>\n",
              "      <td>1</td>\n",
              "      <td>0</td>\n",
              "    </tr>\n",
              "    <tr>\n",
              "      <th>18113</th>\n",
              "      <td>MRS vs UCAM</td>\n",
              "      <td>False</td>\n",
              "      <td>False</td>\n",
              "      <td>1</td>\n",
              "      <td>2021-03-08 21:09:58</td>\n",
              "      <td>2021-03-08 21:58:38</td>\n",
              "      <td>True</td>\n",
              "      <td>http://www.twitch.tv/lvpes</td>\n",
              "      <td>4213</td>\n",
              "      <td>3255</td>\n",
              "      <td>5346</td>\n",
              "      <td>UCAM Esports Club</td>\n",
              "      <td>Movistar Riders</td>\n",
              "      <td>1</td>\n",
              "      <td>0</td>\n",
              "    </tr>\n",
              "    <tr>\n",
              "      <th>18114</th>\n",
              "      <td>E5 vs GTZ</td>\n",
              "      <td>False</td>\n",
              "      <td>False</td>\n",
              "      <td>1</td>\n",
              "      <td>2021-03-08 22:07:54</td>\n",
              "      <td>2021-03-08 22:44:31</td>\n",
              "      <td>False</td>\n",
              "      <td>https://www.twitch.tv/InygonTV1</td>\n",
              "      <td>4407</td>\n",
              "      <td>3301</td>\n",
              "      <td>5411</td>\n",
              "      <td>GTZ Bulls</td>\n",
              "      <td>EFIVE Esports</td>\n",
              "      <td>1</td>\n",
              "      <td>0</td>\n",
              "    </tr>\n",
              "    <tr>\n",
              "      <th>18115</th>\n",
              "      <td>EGN vs OFF7</td>\n",
              "      <td>False</td>\n",
              "      <td>False</td>\n",
              "      <td>1</td>\n",
              "      <td>2021-03-08 23:11:24</td>\n",
              "      <td>2021-03-08 23:53:22</td>\n",
              "      <td>False</td>\n",
              "      <td>https://www.twitch.tv/InygonTV1</td>\n",
              "      <td>4407</td>\n",
              "      <td>3301</td>\n",
              "      <td>5411</td>\n",
              "      <td>EGN Esports</td>\n",
              "      <td>OFFSET Esports</td>\n",
              "      <td>1</td>\n",
              "      <td>0</td>\n",
              "    </tr>\n",
              "  </tbody>\n",
              "</table>\n",
              "<p>18116 rows × 15 columns</p>\n",
              "</div>"
            ],
            "text/plain": [
              "                       match_name  forfeit  ...  winner_score  loser_score\n",
              "0                            Qf 2    False  ...             2            0\n",
              "1                            Qf 3    False  ...             2            0\n",
              "2                             Sf1    False  ...             2            0\n",
              "3                             Sf2    False  ...             2            1\n",
              "4                         3rd/4th    False  ...             0            0\n",
              "...                           ...      ...  ...           ...          ...\n",
              "18111  Week 7: STR vs x25 Esports    False  ...             1            0\n",
              "18112                   KRM vs WD    False  ...             1            0\n",
              "18113                 MRS vs UCAM    False  ...             1            0\n",
              "18114                   E5 vs GTZ    False  ...             1            0\n",
              "18115                 EGN vs OFF7    False  ...             1            0\n",
              "\n",
              "[18116 rows x 15 columns]"
            ]
          },
          "metadata": {
            "tags": []
          },
          "execution_count": 80
        }
      ]
    },
    {
      "cell_type": "markdown",
      "metadata": {
        "id": "uXIlg3ciammB"
      },
      "source": [
        "Finalmente, guardamos el Dataframe:"
      ]
    },
    {
      "cell_type": "code",
      "metadata": {
        "id": "tM_FZpouancK"
      },
      "source": [
        "lol_matches2.to_csv('lol_matches2.csv')"
      ],
      "execution_count": null,
      "outputs": []
    },
    {
      "cell_type": "markdown",
      "metadata": {
        "id": "wapHoHNcbIAs"
      },
      "source": [
        "# 8.- Preparándose para las siguientes fases\r\n",
        "\r\n",
        "Sea PandaScore_get_matches() la función que realiza peticiones a nuestra API sobre los enfrentamientos de un juego:"
      ]
    },
    {
      "cell_type": "code",
      "metadata": {
        "id": "ju3eSWvdbLup"
      },
      "source": [
        "import pandas as pd \r\n",
        "import math as mt\r\n",
        "from datetime import *\r\n",
        "import requests \r\n",
        "\r\n",
        "def PandaScore_get_matches(juego): #Definimos nuestra función\r\n",
        "    if isinstance(juego, str): #Nos aseguramos que los argumentos sean de tipo str\r\n",
        "        informacion = 'matches'\r\n",
        "        registros = 100 #Establecemos el número de registros por página\r\n",
        "        token = 'V3U1fnnWozJi3bbhZfrxdiAmN4-XWnX_4g6i_6iauwwh7w-V8Ns' #Token de acceso\r\n",
        "        url = f\"https://api.pandascore.co/{juego}/{informacion}?page[size]={registros}&token={token}\" #URL con los parámetros deseados\r\n",
        "        response = requests.get(url) #Realizamos la petición\r\n",
        "        if response.status_code == 200: #Si todo salió bien continuamos\r\n",
        "            Iteraciones = mt.ceil(float(response.headers['X-Total'])/registros) #Calculamos el número de páginas en base a todos los registros que hay en la API\r\n",
        "            #Al dividir el número total de registros entre los registros solicitados obtenemos un aproximado, para asegurar que tomaremos todos, redondeamos al entero más alto\r\n",
        "            for i in range(1,Iteraciones+1): #Ciclo for para obtener todos los registros de cada página\r\n",
        "                url = f\"https://api.pandascore.co/{juego}/{informacion}?page[size]={registros}&page[number]={i}&token=V3U1fnnWozJi3bbhZfrxdiAmN4-XWnX_4g6i_6iauwwh7w-V8Ns\"\r\n",
        "                #URL el parámetro de página deseada\r\n",
        "                response = requests.get(url) #Realizamos la petición correspondiente\r\n",
        "                data = response.json() #Transformamos la respuesta \r\n",
        "                if i == 1: #En la primer iteración se crea un Dataframe\r\n",
        "                    df_matches = pd.DataFrame.from_dict(data)\r\n",
        "                else: #En el resto de iteraciones se van añadiendo los nuevos registros\r\n",
        "                    df_matches = df_matches.append(pd.DataFrame.from_dict(data),ignore_index=True)                    \r\n",
        "            return df_matches # Finalmente se devuelve el Dataframe con todos los registros limpios y ordenados\r\n",
        "        else: #Si la petición no se ejecutó correctamente mandamos un mensaje con el error devuelto\r\n",
        "            return 'Error de petición: '+str(response.status_code)  \r\n",
        "    else: #Si los argumentos no son de tipo str regresamos un mensaje\r\n",
        "        return 'Por favor coloque un argumento válido en formato string.'"
      ],
      "execution_count": 81,
      "outputs": []
    },
    {
      "cell_type": "markdown",
      "metadata": {
        "id": "jHySShK6bPrD"
      },
      "source": [
        "Además, sea df_matches_clean() la función que elimnará campos indeseados:"
      ]
    },
    {
      "cell_type": "code",
      "metadata": {
        "id": "QXgVrecrbS8z"
      },
      "source": [
        "def df_matches_clean(df_matches):\r\n",
        "  ########### Limpieza de datos\r\n",
        "   campos_no_deseados = ['videogame', 'slug', 'tournament', 'league', 'serie', 'streams', 'modified_at', 'games',\r\n",
        "                      'game_advantage', 'scheduled_at', 'original_scheduled_at', 'detailed_stats','live',\r\n",
        "                      'match_type', 'videogame_version', 'live_embed_url', 'id'] \r\n",
        "\r\n",
        "   df_matches_temp = df_matches.drop(columns=campos_no_deseados) #Limpiamos campos que no nos son de utilidad\r\n",
        "   df_matches_finished = df_matches_temp[ df_matches_temp['status'] == 'finished' ] #Dejamos solo los enfrentamientos que han terminado\r\n",
        "   df_matches_finished_clean = df_matches_finished.dropna(subset=['begin_at', 'end_at']) #Eliminamos algunos valores nulos de las fechas\r\n",
        "   df_matches_ordenado = df_matches_finished_clean[['name','opponents','results','forfeit','draw', #Reorganizamos los campos\r\n",
        "                                                      'number_of_games','winner','winner_id','begin_at','end_at', \r\n",
        "                                                      'rescheduled','official_stream_url','league_id', 'serie_id', 'tournament_id']]\r\n",
        "   df_matches_ordenado = df_matches_ordenado.reset_index(drop=True) #Reseteamos el índice\r\n",
        "   nombres_nuevos = {'name' : 'match_name',\r\n",
        "                             'begin_at' : 'begin_date',\r\n",
        "                             'end_at' : 'end_date',\r\n",
        "                             'official_stream_url' : 'official_stream_channel_url'}                       \r\n",
        "   df_matches_ordenado.rename(columns=nombres_nuevos, inplace=True) #Renombramos columnas \r\n",
        "   return df_matches_ordenado "
      ],
      "execution_count": 82,
      "outputs": []
    },
    {
      "cell_type": "markdown",
      "metadata": {
        "id": "Ex5Zqf_8bViT"
      },
      "source": [
        "Junto a winner_team(),loser_team() y team_score() que añaden nuevos campos:"
      ]
    },
    {
      "cell_type": "code",
      "metadata": {
        "id": "wf2KQCcMbWdW"
      },
      "source": [
        "def winner_team(serie):\r\n",
        "    if serie == None:\r\n",
        "        return 'Undefined'\r\n",
        "    else: return serie['name']\r\n",
        "\r\n",
        "def loser_team(df):\r\n",
        "    losers = []\r\n",
        "    for i in range(0,len(df)):\r\n",
        "        ganador = df['winner_team'][i]\r\n",
        "        equipo = df['opponents'][i][0]['opponent']['name']\r\n",
        "        if ganador == 'Undefined':\r\n",
        "           losers.append('Undefined')\r\n",
        "        elif equipo == ganador:\r\n",
        "           losers.append(df['opponents'][i][1]['opponent']['name'])  \r\n",
        "        elif equipo != ganador: \r\n",
        "           losers.append(df['opponents'][i][0]['opponent']['name'] )\r\n",
        "    return pd.Series(losers,index=df.index)\r\n",
        "\r\n",
        "def team_scores(df):\r\n",
        "    losers_score = []\r\n",
        "    winners_score = []\r\n",
        "    for i in range(0,len(df)):\r\n",
        "        ganador_id = df['winner_id'][i]\r\n",
        "        equipo1_id = df['results'][i][0].get('team_id')\r\n",
        "        equipo2_id = df['results'][i][1].get('team_id')\r\n",
        "        if ganador_id == 0:\r\n",
        "            winner_score = 0\r\n",
        "            loser_score = 0\r\n",
        "        elif equipo1_id == ganador_id:\r\n",
        "            winner_score = df['results'][i][0].get('score')\r\n",
        "            loser_score = df['results'][i][1].get('score')\r\n",
        "        else:\r\n",
        "            winner_score = df['results'][i][1].get('score')\r\n",
        "            loser_score = df['results'][i][0].get('score')\r\n",
        "        winners_score.append(winner_score)    \r\n",
        "        losers_score.append(loser_score)\r\n",
        "    return [pd.Series(winners_score,index=df.index), pd.Series(losers_score,index=df.index) ]\r\n"
      ],
      "execution_count": 83,
      "outputs": []
    },
    {
      "cell_type": "markdown",
      "metadata": {
        "id": "0BRr1SSQbct9"
      },
      "source": [
        "Y finalmente sea matches_shiny() la función que embellecé nuestro dataframe y arregla los tipos de dato:"
      ]
    },
    {
      "cell_type": "code",
      "metadata": {
        "id": "v1SvEjNqbfZd"
      },
      "source": [
        "def matches_shiny(juego_matches):\r\n",
        "    juego_matches['winner_team'] = juego_matches['winner'].map(winner_team)\r\n",
        "    juego_matches['loser_team'] = loser_team(juego_matches)  \r\n",
        "    juego_matches['winner_id'] = juego_matches['winner_id'].fillna(0)\r\n",
        "    juego_matches['official_stream_channel_url'] = juego_matches['official_stream_channel_url'].fillna('Not Provided')\r\n",
        "    juego_matches['winner_id'] = juego_matches['winner_id'].astype(int)\r\n",
        "    [winner_score,loser_score] = team_scores(juego_matches)\r\n",
        "    juego_matches['winner_score'] = winner_score\r\n",
        "    juego_matches['loser_score'] = loser_score\r\n",
        "    campos_no_deseados = ['results','winner','opponents','winner_id']\r\n",
        "    juego_matches = juego_matches.drop(columns=campos_no_deseados)\r\n",
        "    juego_matches['begin_date'] = juego_matches['begin_date'].apply(datetime.strptime, args=('%Y-%m-%dT%H:%M:%SZ',))\r\n",
        "    juego_matches['end_date'] = juego_matches['end_date'].apply(datetime.strptime, args=('%Y-%m-%dT%H:%M:%SZ',))\r\n",
        "    ljuego_matches = juego_matches.sort_values('begin_date', ascending=True)\r\n",
        "    juego_matches = juego_matches.reset_index(drop=True)\r\n",
        "    return juego_matches"
      ],
      "execution_count": 84,
      "outputs": []
    },
    {
      "cell_type": "markdown",
      "metadata": {
        "id": "dxjlNPPRbi4b"
      },
      "source": [
        "Llamamos a las funciones para obtener nuestro Dataframe de forma automática:"
      ]
    },
    {
      "cell_type": "code",
      "metadata": {
        "id": "2t2OhD7xblRY"
      },
      "source": [
        "lol_matches_raw = PandaScore_get_matches('lol')\r\n",
        "lol_matches_sin_nones = df_matches_clean(lol_matches_raw)\r\n",
        "lol_matches = matches_shiny(lol_matches_sin_nones)"
      ],
      "execution_count": 85,
      "outputs": []
    },
    {
      "cell_type": "markdown",
      "metadata": {
        "id": "u5187sd2bnmp"
      },
      "source": [
        "lol matches se vuelve entonces uno de nuestros Dataframes destinado para el análisis de eSports:"
      ]
    },
    {
      "cell_type": "code",
      "metadata": {
        "id": "LUPDVwlBbtgV",
        "colab": {
          "base_uri": "https://localhost:8080/",
          "height": 808
        },
        "outputId": "cf531abc-03a3-4fbc-a2ee-3d0c2b13a13b"
      },
      "source": [
        "lol_matches"
      ],
      "execution_count": 86,
      "outputs": [
        {
          "output_type": "execute_result",
          "data": {
            "text/html": [
              "<div>\n",
              "<style scoped>\n",
              "    .dataframe tbody tr th:only-of-type {\n",
              "        vertical-align: middle;\n",
              "    }\n",
              "\n",
              "    .dataframe tbody tr th {\n",
              "        vertical-align: top;\n",
              "    }\n",
              "\n",
              "    .dataframe thead th {\n",
              "        text-align: right;\n",
              "    }\n",
              "</style>\n",
              "<table border=\"1\" class=\"dataframe\">\n",
              "  <thead>\n",
              "    <tr style=\"text-align: right;\">\n",
              "      <th></th>\n",
              "      <th>match_name</th>\n",
              "      <th>forfeit</th>\n",
              "      <th>draw</th>\n",
              "      <th>number_of_games</th>\n",
              "      <th>begin_date</th>\n",
              "      <th>end_date</th>\n",
              "      <th>rescheduled</th>\n",
              "      <th>official_stream_channel_url</th>\n",
              "      <th>league_id</th>\n",
              "      <th>serie_id</th>\n",
              "      <th>tournament_id</th>\n",
              "      <th>winner_team</th>\n",
              "      <th>loser_team</th>\n",
              "      <th>winner_score</th>\n",
              "      <th>loser_score</th>\n",
              "    </tr>\n",
              "  </thead>\n",
              "  <tbody>\n",
              "    <tr>\n",
              "      <th>0</th>\n",
              "      <td>ALF vs BJD</td>\n",
              "      <td>False</td>\n",
              "      <td>False</td>\n",
              "      <td>1</td>\n",
              "      <td>2021-03-06 09:54:42</td>\n",
              "      <td>2021-03-06 10:28:54</td>\n",
              "      <td>False</td>\n",
              "      <td>https://www.twitch.tv/lolpacific</td>\n",
              "      <td>4288</td>\n",
              "      <td>3337</td>\n",
              "      <td>5483</td>\n",
              "      <td>Berjaya Dragons</td>\n",
              "      <td>Alpha Esports</td>\n",
              "      <td>1</td>\n",
              "      <td>0</td>\n",
              "    </tr>\n",
              "    <tr>\n",
              "      <th>1</th>\n",
              "      <td>Lower Bracket Round 2 Match 1: CGG vs GGE</td>\n",
              "      <td>False</td>\n",
              "      <td>False</td>\n",
              "      <td>5</td>\n",
              "      <td>2021-03-08 18:07:48</td>\n",
              "      <td>2021-03-08 21:37:26</td>\n",
              "      <td>False</td>\n",
              "      <td>https://www.twitch.tv/pg_esports</td>\n",
              "      <td>4405</td>\n",
              "      <td>3291</td>\n",
              "      <td>5579</td>\n",
              "      <td>GG&amp;Esports</td>\n",
              "      <td>Cyberground Gaming</td>\n",
              "      <td>3</td>\n",
              "      <td>1</td>\n",
              "    </tr>\n",
              "    <tr>\n",
              "      <th>2</th>\n",
              "      <td>Round 1 match 1: KVM vs ION</td>\n",
              "      <td>False</td>\n",
              "      <td>False</td>\n",
              "      <td>5</td>\n",
              "      <td>2021-03-08 18:04:03</td>\n",
              "      <td>2021-03-08 20:46:01</td>\n",
              "      <td>False</td>\n",
              "      <td>https://www.twitch.tv/esportsprimelol</td>\n",
              "      <td>4401</td>\n",
              "      <td>3248</td>\n",
              "      <td>5609</td>\n",
              "      <td>KV Mechelen Esports</td>\n",
              "      <td>Ion Squad</td>\n",
              "      <td>3</td>\n",
              "      <td>0</td>\n",
              "    </tr>\n",
              "    <tr>\n",
              "      <th>3</th>\n",
              "      <td>Winners bracket round 1 match 2: ESB vs SIN</td>\n",
              "      <td>False</td>\n",
              "      <td>False</td>\n",
              "      <td>5</td>\n",
              "      <td>2021-03-07 17:53:43</td>\n",
              "      <td>2021-03-07 22:22:51</td>\n",
              "      <td>False</td>\n",
              "      <td>https://www.twitch.tv/hitpointcz</td>\n",
              "      <td>4433</td>\n",
              "      <td>3314</td>\n",
              "      <td>5602</td>\n",
              "      <td>SINNERS Esports</td>\n",
              "      <td>eSuba</td>\n",
              "      <td>3</td>\n",
              "      <td>2</td>\n",
              "    </tr>\n",
              "    <tr>\n",
              "      <th>4</th>\n",
              "      <td>Winners bracket round 1 match 1: IG vs VIK</td>\n",
              "      <td>False</td>\n",
              "      <td>False</td>\n",
              "      <td>5</td>\n",
              "      <td>2021-03-07 13:30:41</td>\n",
              "      <td>2021-03-07 17:08:57</td>\n",
              "      <td>False</td>\n",
              "      <td>https://www.twitch.tv/hitpointcz</td>\n",
              "      <td>4433</td>\n",
              "      <td>3314</td>\n",
              "      <td>5602</td>\n",
              "      <td>Inside Games</td>\n",
              "      <td>Vikingekrig Esports</td>\n",
              "      <td>3</td>\n",
              "      <td>1</td>\n",
              "    </tr>\n",
              "    <tr>\n",
              "      <th>...</th>\n",
              "      <td>...</td>\n",
              "      <td>...</td>\n",
              "      <td>...</td>\n",
              "      <td>...</td>\n",
              "      <td>...</td>\n",
              "      <td>...</td>\n",
              "      <td>...</td>\n",
              "      <td>...</td>\n",
              "      <td>...</td>\n",
              "      <td>...</td>\n",
              "      <td>...</td>\n",
              "      <td>...</td>\n",
              "      <td>...</td>\n",
              "      <td>...</td>\n",
              "      <td>...</td>\n",
              "    </tr>\n",
              "    <tr>\n",
              "      <th>18111</th>\n",
              "      <td>DIG vs C9</td>\n",
              "      <td>False</td>\n",
              "      <td>False</td>\n",
              "      <td>1</td>\n",
              "      <td>2015-05-31 20:09:51</td>\n",
              "      <td>2015-05-31 20:43:55</td>\n",
              "      <td>False</td>\n",
              "      <td>Not Provided</td>\n",
              "      <td>289</td>\n",
              "      <td>31</td>\n",
              "      <td>1</td>\n",
              "      <td>Dignitas</td>\n",
              "      <td>Cloud9</td>\n",
              "      <td>1</td>\n",
              "      <td>0</td>\n",
              "    </tr>\n",
              "    <tr>\n",
              "      <th>18112</th>\n",
              "      <td>T8 vs TL</td>\n",
              "      <td>False</td>\n",
              "      <td>False</td>\n",
              "      <td>1</td>\n",
              "      <td>2015-05-31 18:22:58</td>\n",
              "      <td>2015-05-31 19:04:18</td>\n",
              "      <td>False</td>\n",
              "      <td>Not Provided</td>\n",
              "      <td>289</td>\n",
              "      <td>31</td>\n",
              "      <td>1</td>\n",
              "      <td>Team Liquid</td>\n",
              "      <td>Team 8</td>\n",
              "      <td>1</td>\n",
              "      <td>0</td>\n",
              "    </tr>\n",
              "    <tr>\n",
              "      <th>18113</th>\n",
              "      <td>GV vs NME</td>\n",
              "      <td>False</td>\n",
              "      <td>False</td>\n",
              "      <td>1</td>\n",
              "      <td>2015-05-30 23:23:25</td>\n",
              "      <td>2015-05-31 00:06:10</td>\n",
              "      <td>False</td>\n",
              "      <td>Not Provided</td>\n",
              "      <td>289</td>\n",
              "      <td>31</td>\n",
              "      <td>1</td>\n",
              "      <td>Enemy</td>\n",
              "      <td>Gravity</td>\n",
              "      <td>1</td>\n",
              "      <td>0</td>\n",
              "    </tr>\n",
              "    <tr>\n",
              "      <th>18114</th>\n",
              "      <td>T8 vs TIP</td>\n",
              "      <td>False</td>\n",
              "      <td>False</td>\n",
              "      <td>1</td>\n",
              "      <td>2015-05-30 22:23:32</td>\n",
              "      <td>2015-05-30 22:56:32</td>\n",
              "      <td>False</td>\n",
              "      <td>Not Provided</td>\n",
              "      <td>289</td>\n",
              "      <td>31</td>\n",
              "      <td>1</td>\n",
              "      <td>Impulse</td>\n",
              "      <td>Team 8</td>\n",
              "      <td>1</td>\n",
              "      <td>0</td>\n",
              "    </tr>\n",
              "    <tr>\n",
              "      <th>18115</th>\n",
              "      <td>TL vs TDK</td>\n",
              "      <td>False</td>\n",
              "      <td>False</td>\n",
              "      <td>1</td>\n",
              "      <td>2015-05-30 20:11:29</td>\n",
              "      <td>2015-05-30 20:55:10</td>\n",
              "      <td>False</td>\n",
              "      <td>Not Provided</td>\n",
              "      <td>289</td>\n",
              "      <td>31</td>\n",
              "      <td>1</td>\n",
              "      <td>Team Liquid</td>\n",
              "      <td>Dragon Knights</td>\n",
              "      <td>1</td>\n",
              "      <td>0</td>\n",
              "    </tr>\n",
              "  </tbody>\n",
              "</table>\n",
              "<p>18116 rows × 15 columns</p>\n",
              "</div>"
            ],
            "text/plain": [
              "                                        match_name  ...  loser_score\n",
              "0                                       ALF vs BJD  ...            0\n",
              "1        Lower Bracket Round 2 Match 1: CGG vs GGE  ...            1\n",
              "2                      Round 1 match 1: KVM vs ION  ...            0\n",
              "3      Winners bracket round 1 match 2: ESB vs SIN  ...            2\n",
              "4       Winners bracket round 1 match 1: IG vs VIK  ...            1\n",
              "...                                            ...  ...          ...\n",
              "18111                                    DIG vs C9  ...            0\n",
              "18112                                     T8 vs TL  ...            0\n",
              "18113                                    GV vs NME  ...            0\n",
              "18114                                    T8 vs TIP  ...            0\n",
              "18115                                    TL vs TDK  ...            0\n",
              "\n",
              "[18116 rows x 15 columns]"
            ]
          },
          "metadata": {
            "tags": []
          },
          "execution_count": 86
        }
      ]
    },
    {
      "cell_type": "markdown",
      "metadata": {
        "id": "RoHOpdVrbw7Y"
      },
      "source": [
        "Gracias a nuestras funciones aportamos también otros Dataframe para los juegos de la API:"
      ]
    },
    {
      "cell_type": "code",
      "metadata": {
        "id": "FF_gczWVbz2S"
      },
      "source": [
        "dota2_matches_raw = PandaScore_get_matches('dota2')\r\n",
        "dota2_matches_sin_nones = df_matches_clean(dota2_matches_raw)\r\n",
        "dota2_matches = matches_shiny(dota2_matches_sin_nones)"
      ],
      "execution_count": 87,
      "outputs": []
    },
    {
      "cell_type": "code",
      "metadata": {
        "id": "qUF6shyjb2vi",
        "colab": {
          "base_uri": "https://localhost:8080/",
          "height": 669
        },
        "outputId": "00a038c9-3a52-4a56-e2bb-dc061ab47abe"
      },
      "source": [
        "dota2_matches"
      ],
      "execution_count": 88,
      "outputs": [
        {
          "output_type": "execute_result",
          "data": {
            "text/html": [
              "<div>\n",
              "<style scoped>\n",
              "    .dataframe tbody tr th:only-of-type {\n",
              "        vertical-align: middle;\n",
              "    }\n",
              "\n",
              "    .dataframe tbody tr th {\n",
              "        vertical-align: top;\n",
              "    }\n",
              "\n",
              "    .dataframe thead th {\n",
              "        text-align: right;\n",
              "    }\n",
              "</style>\n",
              "<table border=\"1\" class=\"dataframe\">\n",
              "  <thead>\n",
              "    <tr style=\"text-align: right;\">\n",
              "      <th></th>\n",
              "      <th>match_name</th>\n",
              "      <th>forfeit</th>\n",
              "      <th>draw</th>\n",
              "      <th>number_of_games</th>\n",
              "      <th>begin_date</th>\n",
              "      <th>end_date</th>\n",
              "      <th>rescheduled</th>\n",
              "      <th>official_stream_channel_url</th>\n",
              "      <th>league_id</th>\n",
              "      <th>serie_id</th>\n",
              "      <th>tournament_id</th>\n",
              "      <th>winner_team</th>\n",
              "      <th>loser_team</th>\n",
              "      <th>winner_score</th>\n",
              "      <th>loser_score</th>\n",
              "    </tr>\n",
              "  </thead>\n",
              "  <tbody>\n",
              "    <tr>\n",
              "      <th>0</th>\n",
              "      <td>VK.gg vs SMASH</td>\n",
              "      <td>False</td>\n",
              "      <td>False</td>\n",
              "      <td>3</td>\n",
              "      <td>2021-03-08 21:12:14</td>\n",
              "      <td>2021-03-08 23:31:34</td>\n",
              "      <td>True</td>\n",
              "      <td>https://www.twitch.tv/dota2ruhub</td>\n",
              "      <td>4487</td>\n",
              "      <td>3393</td>\n",
              "      <td>5595</td>\n",
              "      <td>ViKin.gg</td>\n",
              "      <td>Hellbear Smashers</td>\n",
              "      <td>2</td>\n",
              "      <td>0</td>\n",
              "    </tr>\n",
              "    <tr>\n",
              "      <th>1</th>\n",
              "      <td>Empire vs PckCp</td>\n",
              "      <td>False</td>\n",
              "      <td>False</td>\n",
              "      <td>3</td>\n",
              "      <td>2021-03-08 17:36:02</td>\n",
              "      <td>2021-03-08 20:47:39</td>\n",
              "      <td>False</td>\n",
              "      <td>https://www.twitch.tv/dota2ruhub</td>\n",
              "      <td>4487</td>\n",
              "      <td>3393</td>\n",
              "      <td>5595</td>\n",
              "      <td>Team Empire</td>\n",
              "      <td>PuckChamp</td>\n",
              "      <td>2</td>\n",
              "      <td>1</td>\n",
              "    </tr>\n",
              "    <tr>\n",
              "      <th>2</th>\n",
              "      <td>EXTR vs Prosti Esli</td>\n",
              "      <td>False</td>\n",
              "      <td>False</td>\n",
              "      <td>3</td>\n",
              "      <td>2021-03-08 13:06:12</td>\n",
              "      <td>2021-03-08 17:19:19</td>\n",
              "      <td>False</td>\n",
              "      <td>https://www.twitch.tv/dota2ruhub</td>\n",
              "      <td>4487</td>\n",
              "      <td>3393</td>\n",
              "      <td>5595</td>\n",
              "      <td>Prosti Esli</td>\n",
              "      <td>EXTREMUM</td>\n",
              "      <td>2</td>\n",
              "      <td>1</td>\n",
              "    </tr>\n",
              "    <tr>\n",
              "      <th>3</th>\n",
              "      <td>Grand Final: SMG vs LBZS</td>\n",
              "      <td>False</td>\n",
              "      <td>False</td>\n",
              "      <td>5</td>\n",
              "      <td>2021-03-06 06:26:09</td>\n",
              "      <td>2021-03-06 08:54:38</td>\n",
              "      <td>True</td>\n",
              "      <td>https://www.twitch.tv/moonstudio_en</td>\n",
              "      <td>4535</td>\n",
              "      <td>3342</td>\n",
              "      <td>5575</td>\n",
              "      <td>LBZS</td>\n",
              "      <td>Team SMG</td>\n",
              "      <td>3</td>\n",
              "      <td>0</td>\n",
              "    </tr>\n",
              "    <tr>\n",
              "      <th>4</th>\n",
              "      <td>Lower Bracket Final: LBZS vs XctN</td>\n",
              "      <td>False</td>\n",
              "      <td>False</td>\n",
              "      <td>3</td>\n",
              "      <td>2021-03-05 11:18:31</td>\n",
              "      <td>2021-03-05 14:07:14</td>\n",
              "      <td>False</td>\n",
              "      <td>https://www.twitch.tv/moonstudio_en</td>\n",
              "      <td>4535</td>\n",
              "      <td>3342</td>\n",
              "      <td>5575</td>\n",
              "      <td>LBZS</td>\n",
              "      <td>Execration</td>\n",
              "      <td>2</td>\n",
              "      <td>1</td>\n",
              "    </tr>\n",
              "    <tr>\n",
              "      <th>...</th>\n",
              "      <td>...</td>\n",
              "      <td>...</td>\n",
              "      <td>...</td>\n",
              "      <td>...</td>\n",
              "      <td>...</td>\n",
              "      <td>...</td>\n",
              "      <td>...</td>\n",
              "      <td>...</td>\n",
              "      <td>...</td>\n",
              "      <td>...</td>\n",
              "      <td>...</td>\n",
              "      <td>...</td>\n",
              "      <td>...</td>\n",
              "      <td>...</td>\n",
              "      <td>...</td>\n",
              "    </tr>\n",
              "    <tr>\n",
              "      <th>15259</th>\n",
              "      <td>Lower Round 3</td>\n",
              "      <td>False</td>\n",
              "      <td>False</td>\n",
              "      <td>3</td>\n",
              "      <td>2017-08-10 17:27:49</td>\n",
              "      <td>2017-08-10 18:58:23</td>\n",
              "      <td>False</td>\n",
              "      <td>Not Provided</td>\n",
              "      <td>4106</td>\n",
              "      <td>1380</td>\n",
              "      <td>919</td>\n",
              "      <td>Team Liquid</td>\n",
              "      <td>Team Empire</td>\n",
              "      <td>2</td>\n",
              "      <td>0</td>\n",
              "    </tr>\n",
              "    <tr>\n",
              "      <th>15260</th>\n",
              "      <td>Lower Round 4</td>\n",
              "      <td>False</td>\n",
              "      <td>False</td>\n",
              "      <td>3</td>\n",
              "      <td>2017-08-10 22:32:37</td>\n",
              "      <td>2017-08-11 02:30:40</td>\n",
              "      <td>False</td>\n",
              "      <td>Not Provided</td>\n",
              "      <td>4106</td>\n",
              "      <td>1380</td>\n",
              "      <td>919</td>\n",
              "      <td>Team Liquid</td>\n",
              "      <td>Virtus.pro</td>\n",
              "      <td>2</td>\n",
              "      <td>1</td>\n",
              "    </tr>\n",
              "    <tr>\n",
              "      <th>15261</th>\n",
              "      <td>Liquid vs iG.V</td>\n",
              "      <td>False</td>\n",
              "      <td>False</td>\n",
              "      <td>3</td>\n",
              "      <td>2017-08-02 16:06:08</td>\n",
              "      <td>2017-08-02 18:11:05</td>\n",
              "      <td>False</td>\n",
              "      <td>Not Provided</td>\n",
              "      <td>4106</td>\n",
              "      <td>1380</td>\n",
              "      <td>920</td>\n",
              "      <td>Team Liquid</td>\n",
              "      <td>iG.Vitality</td>\n",
              "      <td>2</td>\n",
              "      <td>0</td>\n",
              "    </tr>\n",
              "    <tr>\n",
              "      <th>15262</th>\n",
              "      <td>Empire vs iG.V</td>\n",
              "      <td>False</td>\n",
              "      <td>True</td>\n",
              "      <td>2</td>\n",
              "      <td>2017-08-04 20:22:44</td>\n",
              "      <td>2017-08-04 23:39:05</td>\n",
              "      <td>False</td>\n",
              "      <td>Not Provided</td>\n",
              "      <td>4106</td>\n",
              "      <td>1380</td>\n",
              "      <td>920</td>\n",
              "      <td>Undefined</td>\n",
              "      <td>Undefined</td>\n",
              "      <td>0</td>\n",
              "      <td>0</td>\n",
              "    </tr>\n",
              "    <tr>\n",
              "      <th>15263</th>\n",
              "      <td>Lower Final</td>\n",
              "      <td>False</td>\n",
              "      <td>False</td>\n",
              "      <td>3</td>\n",
              "      <td>2017-08-12 17:33:56</td>\n",
              "      <td>2017-08-12 20:42:17</td>\n",
              "      <td>False</td>\n",
              "      <td>Not Provided</td>\n",
              "      <td>4106</td>\n",
              "      <td>1380</td>\n",
              "      <td>919</td>\n",
              "      <td>Team Liquid</td>\n",
              "      <td>LGD.Forever Young</td>\n",
              "      <td>2</td>\n",
              "      <td>1</td>\n",
              "    </tr>\n",
              "  </tbody>\n",
              "</table>\n",
              "<p>15264 rows × 15 columns</p>\n",
              "</div>"
            ],
            "text/plain": [
              "                              match_name  forfeit  ...  winner_score  loser_score\n",
              "0                         VK.gg vs SMASH    False  ...             2            0\n",
              "1                        Empire vs PckCp    False  ...             2            1\n",
              "2                    EXTR vs Prosti Esli    False  ...             2            1\n",
              "3               Grand Final: SMG vs LBZS    False  ...             3            0\n",
              "4      Lower Bracket Final: LBZS vs XctN    False  ...             2            1\n",
              "...                                  ...      ...  ...           ...          ...\n",
              "15259                      Lower Round 3    False  ...             2            0\n",
              "15260                      Lower Round 4    False  ...             2            1\n",
              "15261                     Liquid vs iG.V    False  ...             2            0\n",
              "15262                     Empire vs iG.V    False  ...             0            0\n",
              "15263                        Lower Final    False  ...             2            1\n",
              "\n",
              "[15264 rows x 15 columns]"
            ]
          },
          "metadata": {
            "tags": []
          },
          "execution_count": 88
        }
      ]
    },
    {
      "cell_type": "code",
      "metadata": {
        "id": "rXdlokTLb5Tm"
      },
      "source": [
        "csgo_matches_raw = PandaScore_get_matches('csgo')\r\n",
        "csgo_matches_sin_nones = df_matches_clean(csgo_matches_raw)\r\n",
        "csgo_matches = matches_shiny(csgo_matches_sin_nones)"
      ],
      "execution_count": 89,
      "outputs": []
    },
    {
      "cell_type": "code",
      "metadata": {
        "id": "N3ezuDVmb8fu",
        "colab": {
          "base_uri": "https://localhost:8080/",
          "height": 826
        },
        "outputId": "74c4279e-de94-4395-b800-aeb5d421175c"
      },
      "source": [
        "csgo_matches"
      ],
      "execution_count": 90,
      "outputs": [
        {
          "output_type": "execute_result",
          "data": {
            "text/html": [
              "<div>\n",
              "<style scoped>\n",
              "    .dataframe tbody tr th:only-of-type {\n",
              "        vertical-align: middle;\n",
              "    }\n",
              "\n",
              "    .dataframe tbody tr th {\n",
              "        vertical-align: top;\n",
              "    }\n",
              "\n",
              "    .dataframe thead th {\n",
              "        text-align: right;\n",
              "    }\n",
              "</style>\n",
              "<table border=\"1\" class=\"dataframe\">\n",
              "  <thead>\n",
              "    <tr style=\"text-align: right;\">\n",
              "      <th></th>\n",
              "      <th>match_name</th>\n",
              "      <th>forfeit</th>\n",
              "      <th>draw</th>\n",
              "      <th>number_of_games</th>\n",
              "      <th>begin_date</th>\n",
              "      <th>end_date</th>\n",
              "      <th>rescheduled</th>\n",
              "      <th>official_stream_channel_url</th>\n",
              "      <th>league_id</th>\n",
              "      <th>serie_id</th>\n",
              "      <th>tournament_id</th>\n",
              "      <th>winner_team</th>\n",
              "      <th>loser_team</th>\n",
              "      <th>winner_score</th>\n",
              "      <th>loser_score</th>\n",
              "    </tr>\n",
              "  </thead>\n",
              "  <tbody>\n",
              "    <tr>\n",
              "      <th>0</th>\n",
              "      <td>Quarterfinal 4: Oceanus vs Pryde</td>\n",
              "      <td>False</td>\n",
              "      <td>False</td>\n",
              "      <td>3</td>\n",
              "      <td>2021-03-09 02:16:27</td>\n",
              "      <td>2021-03-09 04:52:18</td>\n",
              "      <td>False</td>\n",
              "      <td>Not Provided</td>\n",
              "      <td>4321</td>\n",
              "      <td>3420</td>\n",
              "      <td>5654</td>\n",
              "      <td>Pryde</td>\n",
              "      <td>Oceanus</td>\n",
              "      <td>2</td>\n",
              "      <td>1</td>\n",
              "    </tr>\n",
              "    <tr>\n",
              "      <th>1</th>\n",
              "      <td>Quarterfinal 3: Secret Club vs The Commission</td>\n",
              "      <td>False</td>\n",
              "      <td>False</td>\n",
              "      <td>3</td>\n",
              "      <td>2021-03-09 01:30:32</td>\n",
              "      <td>2021-03-09 04:34:01</td>\n",
              "      <td>False</td>\n",
              "      <td>Not Provided</td>\n",
              "      <td>4321</td>\n",
              "      <td>3420</td>\n",
              "      <td>5654</td>\n",
              "      <td>Secret Club</td>\n",
              "      <td>The Commission</td>\n",
              "      <td>2</td>\n",
              "      <td>1</td>\n",
              "    </tr>\n",
              "    <tr>\n",
              "      <th>2</th>\n",
              "      <td>Quarterfinal 2: Team Unknown vs RBG</td>\n",
              "      <td>False</td>\n",
              "      <td>False</td>\n",
              "      <td>3</td>\n",
              "      <td>2021-03-09 01:09:42</td>\n",
              "      <td>2021-03-09 02:20:00</td>\n",
              "      <td>False</td>\n",
              "      <td>Not Provided</td>\n",
              "      <td>4321</td>\n",
              "      <td>3420</td>\n",
              "      <td>5654</td>\n",
              "      <td>RBG</td>\n",
              "      <td>Team Unknown</td>\n",
              "      <td>2</td>\n",
              "      <td>0</td>\n",
              "    </tr>\n",
              "    <tr>\n",
              "      <th>3</th>\n",
              "      <td>Quarterfinal 1: Levitate vs Rebirth Esports</td>\n",
              "      <td>False</td>\n",
              "      <td>False</td>\n",
              "      <td>3</td>\n",
              "      <td>2021-03-09 01:09:40</td>\n",
              "      <td>2021-03-09 02:28:31</td>\n",
              "      <td>False</td>\n",
              "      <td>Not Provided</td>\n",
              "      <td>4321</td>\n",
              "      <td>3420</td>\n",
              "      <td>5654</td>\n",
              "      <td>Rebirth Esports</td>\n",
              "      <td>Levitate</td>\n",
              "      <td>2</td>\n",
              "      <td>0</td>\n",
              "    </tr>\n",
              "    <tr>\n",
              "      <th>4</th>\n",
              "      <td>Third Impact vs ImPerium</td>\n",
              "      <td>False</td>\n",
              "      <td>False</td>\n",
              "      <td>3</td>\n",
              "      <td>2021-03-09 02:17:22</td>\n",
              "      <td>2021-03-09 04:08:20</td>\n",
              "      <td>False</td>\n",
              "      <td>Not Provided</td>\n",
              "      <td>4243</td>\n",
              "      <td>3308</td>\n",
              "      <td>5425</td>\n",
              "      <td>Third Impact</td>\n",
              "      <td>ImPerium</td>\n",
              "      <td>2</td>\n",
              "      <td>0</td>\n",
              "    </tr>\n",
              "    <tr>\n",
              "      <th>...</th>\n",
              "      <td>...</td>\n",
              "      <td>...</td>\n",
              "      <td>...</td>\n",
              "      <td>...</td>\n",
              "      <td>...</td>\n",
              "      <td>...</td>\n",
              "      <td>...</td>\n",
              "      <td>...</td>\n",
              "      <td>...</td>\n",
              "      <td>...</td>\n",
              "      <td>...</td>\n",
              "      <td>...</td>\n",
              "      <td>...</td>\n",
              "      <td>...</td>\n",
              "      <td>...</td>\n",
              "    </tr>\n",
              "    <tr>\n",
              "      <th>15121</th>\n",
              "      <td>Astralis vs North</td>\n",
              "      <td>False</td>\n",
              "      <td>False</td>\n",
              "      <td>3</td>\n",
              "      <td>2017-10-26 11:45:00</td>\n",
              "      <td>2017-10-26 14:12:00</td>\n",
              "      <td>False</td>\n",
              "      <td>Not Provided</td>\n",
              "      <td>4156</td>\n",
              "      <td>1562</td>\n",
              "      <td>1698</td>\n",
              "      <td>Astralis</td>\n",
              "      <td>North</td>\n",
              "      <td>2</td>\n",
              "      <td>0</td>\n",
              "    </tr>\n",
              "    <tr>\n",
              "      <th>15122</th>\n",
              "      <td>Semifinals 1: SK vs Astralis</td>\n",
              "      <td>False</td>\n",
              "      <td>False</td>\n",
              "      <td>3</td>\n",
              "      <td>2017-10-28 09:50:00</td>\n",
              "      <td>2017-10-28 12:41:00</td>\n",
              "      <td>False</td>\n",
              "      <td>Not Provided</td>\n",
              "      <td>4156</td>\n",
              "      <td>1562</td>\n",
              "      <td>1518</td>\n",
              "      <td>SK</td>\n",
              "      <td>Astralis</td>\n",
              "      <td>2</td>\n",
              "      <td>0</td>\n",
              "    </tr>\n",
              "    <tr>\n",
              "      <th>15123</th>\n",
              "      <td>Semifinals 2: G2 vs Virtus.pro</td>\n",
              "      <td>False</td>\n",
              "      <td>False</td>\n",
              "      <td>3</td>\n",
              "      <td>2017-10-28 13:50:00</td>\n",
              "      <td>2017-10-28 16:25:00</td>\n",
              "      <td>False</td>\n",
              "      <td>Not Provided</td>\n",
              "      <td>4156</td>\n",
              "      <td>1562</td>\n",
              "      <td>1518</td>\n",
              "      <td>Virtus.pro</td>\n",
              "      <td>G2</td>\n",
              "      <td>2</td>\n",
              "      <td>1</td>\n",
              "    </tr>\n",
              "    <tr>\n",
              "      <th>15124</th>\n",
              "      <td>3rd Place Match: Astralis vs G2</td>\n",
              "      <td>False</td>\n",
              "      <td>False</td>\n",
              "      <td>3</td>\n",
              "      <td>2017-10-29 09:30:00</td>\n",
              "      <td>2017-10-29 12:15:00</td>\n",
              "      <td>False</td>\n",
              "      <td>Not Provided</td>\n",
              "      <td>4156</td>\n",
              "      <td>1562</td>\n",
              "      <td>1518</td>\n",
              "      <td>G2</td>\n",
              "      <td>Astralis</td>\n",
              "      <td>2</td>\n",
              "      <td>1</td>\n",
              "    </tr>\n",
              "    <tr>\n",
              "      <th>15125</th>\n",
              "      <td>Grand Final: SK vs Virtus.pro</td>\n",
              "      <td>False</td>\n",
              "      <td>False</td>\n",
              "      <td>5</td>\n",
              "      <td>2017-10-29 13:55:00</td>\n",
              "      <td>2017-10-29 18:22:00</td>\n",
              "      <td>False</td>\n",
              "      <td>Not Provided</td>\n",
              "      <td>4156</td>\n",
              "      <td>1562</td>\n",
              "      <td>1518</td>\n",
              "      <td>SK</td>\n",
              "      <td>Virtus.pro</td>\n",
              "      <td>3</td>\n",
              "      <td>2</td>\n",
              "    </tr>\n",
              "  </tbody>\n",
              "</table>\n",
              "<p>15126 rows × 15 columns</p>\n",
              "</div>"
            ],
            "text/plain": [
              "                                          match_name  ...  loser_score\n",
              "0                   Quarterfinal 4: Oceanus vs Pryde  ...            1\n",
              "1      Quarterfinal 3: Secret Club vs The Commission  ...            1\n",
              "2                Quarterfinal 2: Team Unknown vs RBG  ...            0\n",
              "3        Quarterfinal 1: Levitate vs Rebirth Esports  ...            0\n",
              "4                           Third Impact vs ImPerium  ...            0\n",
              "...                                              ...  ...          ...\n",
              "15121                              Astralis vs North  ...            0\n",
              "15122                   Semifinals 1: SK vs Astralis  ...            0\n",
              "15123                 Semifinals 2: G2 vs Virtus.pro  ...            1\n",
              "15124                3rd Place Match: Astralis vs G2  ...            1\n",
              "15125                  Grand Final: SK vs Virtus.pro  ...            2\n",
              "\n",
              "[15126 rows x 15 columns]"
            ]
          },
          "metadata": {
            "tags": []
          },
          "execution_count": 90
        }
      ]
    },
    {
      "cell_type": "code",
      "metadata": {
        "id": "EKtGYRivb_az"
      },
      "source": [
        "ow_matches_raw = PandaScore_get_matches('ow')\r\n",
        "ow_matches_sin_nones = df_matches_clean(ow_matches_raw)\r\n",
        "ow_matches = matches_shiny(ow_matches_sin_nones)"
      ],
      "execution_count": 91,
      "outputs": []
    },
    {
      "cell_type": "code",
      "metadata": {
        "id": "jh5yQOmwb_hH",
        "colab": {
          "base_uri": "https://localhost:8080/",
          "height": 635
        },
        "outputId": "d300b386-6363-46af-93ba-e2fefe93f6e6"
      },
      "source": [
        "ow_matches"
      ],
      "execution_count": 92,
      "outputs": [
        {
          "output_type": "execute_result",
          "data": {
            "text/html": [
              "<div>\n",
              "<style scoped>\n",
              "    .dataframe tbody tr th:only-of-type {\n",
              "        vertical-align: middle;\n",
              "    }\n",
              "\n",
              "    .dataframe tbody tr th {\n",
              "        vertical-align: top;\n",
              "    }\n",
              "\n",
              "    .dataframe thead th {\n",
              "        text-align: right;\n",
              "    }\n",
              "</style>\n",
              "<table border=\"1\" class=\"dataframe\">\n",
              "  <thead>\n",
              "    <tr style=\"text-align: right;\">\n",
              "      <th></th>\n",
              "      <th>match_name</th>\n",
              "      <th>forfeit</th>\n",
              "      <th>draw</th>\n",
              "      <th>number_of_games</th>\n",
              "      <th>begin_date</th>\n",
              "      <th>end_date</th>\n",
              "      <th>rescheduled</th>\n",
              "      <th>official_stream_channel_url</th>\n",
              "      <th>league_id</th>\n",
              "      <th>serie_id</th>\n",
              "      <th>tournament_id</th>\n",
              "      <th>winner_team</th>\n",
              "      <th>loser_team</th>\n",
              "      <th>winner_score</th>\n",
              "      <th>loser_score</th>\n",
              "    </tr>\n",
              "  </thead>\n",
              "  <tbody>\n",
              "    <tr>\n",
              "      <th>0</th>\n",
              "      <td>Grand Final: SHD vs SEO</td>\n",
              "      <td>False</td>\n",
              "      <td>False</td>\n",
              "      <td>4</td>\n",
              "      <td>2021-01-31 12:06:52</td>\n",
              "      <td>2021-01-31 13:28:26</td>\n",
              "      <td>False</td>\n",
              "      <td>https://cc.163.com/260825191</td>\n",
              "      <td>4528</td>\n",
              "      <td>3303</td>\n",
              "      <td>5416</td>\n",
              "      <td>Shanghai Dragons</td>\n",
              "      <td>Seoul Dynasty</td>\n",
              "      <td>4</td>\n",
              "      <td>1</td>\n",
              "    </tr>\n",
              "    <tr>\n",
              "      <th>1</th>\n",
              "      <td>SEO vs DAL</td>\n",
              "      <td>False</td>\n",
              "      <td>False</td>\n",
              "      <td>3</td>\n",
              "      <td>2021-01-30 11:36:15</td>\n",
              "      <td>2021-01-30 13:20:39</td>\n",
              "      <td>False</td>\n",
              "      <td>https://cc.163.com/260825191/</td>\n",
              "      <td>4528</td>\n",
              "      <td>3303</td>\n",
              "      <td>5415</td>\n",
              "      <td>Dallas Fuel</td>\n",
              "      <td>Seoul Dynasty</td>\n",
              "      <td>3</td>\n",
              "      <td>2</td>\n",
              "    </tr>\n",
              "    <tr>\n",
              "      <th>2</th>\n",
              "      <td>GZC vs SHD</td>\n",
              "      <td>False</td>\n",
              "      <td>False</td>\n",
              "      <td>3</td>\n",
              "      <td>2021-01-30 10:09:01</td>\n",
              "      <td>2021-01-30 11:17:06</td>\n",
              "      <td>False</td>\n",
              "      <td>https://cc.163.com/260825191/</td>\n",
              "      <td>4528</td>\n",
              "      <td>3303</td>\n",
              "      <td>5415</td>\n",
              "      <td>Shanghai Dragons</td>\n",
              "      <td>Guangzhou Charge</td>\n",
              "      <td>3</td>\n",
              "      <td>0</td>\n",
              "    </tr>\n",
              "    <tr>\n",
              "      <th>3</th>\n",
              "      <td>SHD vs SEO</td>\n",
              "      <td>False</td>\n",
              "      <td>False</td>\n",
              "      <td>3</td>\n",
              "      <td>2021-01-24 11:22:49</td>\n",
              "      <td>2021-01-24 12:31:10</td>\n",
              "      <td>False</td>\n",
              "      <td>https://cc.163.com/260825191/</td>\n",
              "      <td>4528</td>\n",
              "      <td>3303</td>\n",
              "      <td>5415</td>\n",
              "      <td>Seoul Dynasty</td>\n",
              "      <td>Shanghai Dragons</td>\n",
              "      <td>3</td>\n",
              "      <td>1</td>\n",
              "    </tr>\n",
              "    <tr>\n",
              "      <th>4</th>\n",
              "      <td>DAL vs GZC</td>\n",
              "      <td>False</td>\n",
              "      <td>False</td>\n",
              "      <td>3</td>\n",
              "      <td>2021-01-24 10:10:31</td>\n",
              "      <td>2021-01-24 10:57:58</td>\n",
              "      <td>False</td>\n",
              "      <td>https://cc.163.com/260825191/</td>\n",
              "      <td>4528</td>\n",
              "      <td>3303</td>\n",
              "      <td>5415</td>\n",
              "      <td>Guangzhou Charge</td>\n",
              "      <td>Dallas Fuel</td>\n",
              "      <td>3</td>\n",
              "      <td>0</td>\n",
              "    </tr>\n",
              "    <tr>\n",
              "      <th>...</th>\n",
              "      <td>...</td>\n",
              "      <td>...</td>\n",
              "      <td>...</td>\n",
              "      <td>...</td>\n",
              "      <td>...</td>\n",
              "      <td>...</td>\n",
              "      <td>...</td>\n",
              "      <td>...</td>\n",
              "      <td>...</td>\n",
              "      <td>...</td>\n",
              "      <td>...</td>\n",
              "      <td>...</td>\n",
              "      <td>...</td>\n",
              "      <td>...</td>\n",
              "      <td>...</td>\n",
              "    </tr>\n",
              "    <tr>\n",
              "      <th>1559</th>\n",
              "      <td>DAL vs HOU</td>\n",
              "      <td>False</td>\n",
              "      <td>False</td>\n",
              "      <td>5</td>\n",
              "      <td>2017-12-08 01:00:00</td>\n",
              "      <td>2017-12-08 03:25:00</td>\n",
              "      <td>False</td>\n",
              "      <td>Not Provided</td>\n",
              "      <td>4135</td>\n",
              "      <td>1500</td>\n",
              "      <td>658</td>\n",
              "      <td>Dallas Fuel</td>\n",
              "      <td>Houston Outlaws</td>\n",
              "      <td>3</td>\n",
              "      <td>2</td>\n",
              "    </tr>\n",
              "    <tr>\n",
              "      <th>1560</th>\n",
              "      <td>GLA vs LDN</td>\n",
              "      <td>False</td>\n",
              "      <td>False</td>\n",
              "      <td>5</td>\n",
              "      <td>2017-12-07 22:00:00</td>\n",
              "      <td>2017-12-08 00:45:00</td>\n",
              "      <td>False</td>\n",
              "      <td>Not Provided</td>\n",
              "      <td>4135</td>\n",
              "      <td>1500</td>\n",
              "      <td>658</td>\n",
              "      <td>Los Angeles Gladiators</td>\n",
              "      <td>London Spitfire</td>\n",
              "      <td>3</td>\n",
              "      <td>2</td>\n",
              "    </tr>\n",
              "    <tr>\n",
              "      <th>1561</th>\n",
              "      <td>SEO vs SHD</td>\n",
              "      <td>False</td>\n",
              "      <td>False</td>\n",
              "      <td>5</td>\n",
              "      <td>2017-12-07 04:30:00</td>\n",
              "      <td>2017-12-07 06:30:00</td>\n",
              "      <td>False</td>\n",
              "      <td>Not Provided</td>\n",
              "      <td>4135</td>\n",
              "      <td>1500</td>\n",
              "      <td>658</td>\n",
              "      <td>Seoul Dynasty</td>\n",
              "      <td>Shanghai Dragons</td>\n",
              "      <td>4</td>\n",
              "      <td>0</td>\n",
              "    </tr>\n",
              "    <tr>\n",
              "      <th>1562</th>\n",
              "      <td>VAL vs SFS</td>\n",
              "      <td>False</td>\n",
              "      <td>False</td>\n",
              "      <td>5</td>\n",
              "      <td>2017-12-07 02:00:00</td>\n",
              "      <td>2017-12-07 04:25:00</td>\n",
              "      <td>False</td>\n",
              "      <td>Not Provided</td>\n",
              "      <td>4135</td>\n",
              "      <td>1500</td>\n",
              "      <td>658</td>\n",
              "      <td>Los Angeles Valiant</td>\n",
              "      <td>San Francisco Shock</td>\n",
              "      <td>3</td>\n",
              "      <td>2</td>\n",
              "    </tr>\n",
              "    <tr>\n",
              "      <th>1563</th>\n",
              "      <td>FLA vs SFS</td>\n",
              "      <td>False</td>\n",
              "      <td>False</td>\n",
              "      <td>5</td>\n",
              "      <td>2017-12-07 00:00:00</td>\n",
              "      <td>2017-12-07 02:00:00</td>\n",
              "      <td>False</td>\n",
              "      <td>Not Provided</td>\n",
              "      <td>4135</td>\n",
              "      <td>1500</td>\n",
              "      <td>658</td>\n",
              "      <td>San Francisco Shock</td>\n",
              "      <td>Florida Mayhem</td>\n",
              "      <td>3</td>\n",
              "      <td>1</td>\n",
              "    </tr>\n",
              "  </tbody>\n",
              "</table>\n",
              "<p>1564 rows × 15 columns</p>\n",
              "</div>"
            ],
            "text/plain": [
              "                   match_name  forfeit  ...  winner_score  loser_score\n",
              "0     Grand Final: SHD vs SEO    False  ...             4            1\n",
              "1                  SEO vs DAL    False  ...             3            2\n",
              "2                  GZC vs SHD    False  ...             3            0\n",
              "3                  SHD vs SEO    False  ...             3            1\n",
              "4                  DAL vs GZC    False  ...             3            0\n",
              "...                       ...      ...  ...           ...          ...\n",
              "1559               DAL vs HOU    False  ...             3            2\n",
              "1560               GLA vs LDN    False  ...             3            2\n",
              "1561               SEO vs SHD    False  ...             4            0\n",
              "1562               VAL vs SFS    False  ...             3            2\n",
              "1563               FLA vs SFS    False  ...             3            1\n",
              "\n",
              "[1564 rows x 15 columns]"
            ]
          },
          "metadata": {
            "tags": []
          },
          "execution_count": 92
        }
      ]
    },
    {
      "cell_type": "markdown",
      "metadata": {
        "id": "NDpA2KhecF5B"
      },
      "source": [
        "Podemos utilizar nuestro Dataframe para obtener datos interesantes que responden algunas preguntas que nos hicimos al comienzo. En un principio nos preguntabamos si los enfrentamientos de eSports son cortos o largos, aprovechemos el paquete _datetime_ y descubrámoslo:"
      ]
    },
    {
      "cell_type": "code",
      "metadata": {
        "id": "-zEJdPL6cKUG"
      },
      "source": [
        "def tiempo_partida(df):\r\n",
        "    minutos_partidas=[] #iniciamos un arreglo vacío\r\n",
        "    for n in range (0,len(df)):   \r\n",
        "        inicio_enfrentamiento= df.loc[n,'begin_date'] #obtenemos el momento en que inici´p el enfrentamiento\r\n",
        "        fin_enfrentamiento= df.loc[n,'end_date'] #obtenemos el momento en que terminó el enfrentamiento\r\n",
        "        total_partidas = df.loc[n,'number_of_games'] #obtenemos el número de partidas jugadas en el enfrentamiento\r\n",
        "        duración_partidas = (fin_enfrentamiento-inicio_enfrentamiento)/total_partidas #Calculamos el tiempo por partida\r\n",
        "        minutos = round(duración_partidas.total_seconds()/60,3) # Convertimos a segundos y de segundos a minutos\r\n",
        "        minutos_partidas.append(minutos) #Añadimos al arreglo\r\n",
        "  \r\n",
        "    df['minutos_partidas'] = pd.Series(minutos_partidas) #Finalmente creamos una nueva columna con los tiempos por partida\r\n",
        "    no_outlier = df['minutos_partidas'] > 0 # La API devovió algunos datos de fechas con errores donde end_date era antes de begin_date\r\n",
        "    df= df[no_outlier]\r\n",
        "    no_outlier = df['minutos_partidas'] < 100 # Sabemos por experiencia que las partidas no duran tanto, así que eliminamos outliers\r\n",
        "    df_boxplot = df[no_outlier]   \r\n",
        "          \r\n",
        "    return df_boxplot #devolvemos un dataframe filtrado con la duración de partidas en minutos"
      ],
      "execution_count": 93,
      "outputs": []
    },
    {
      "cell_type": "markdown",
      "metadata": {
        "id": "NmfOMhB5cNB4"
      },
      "source": [
        "La función anterior esta pensada para obtener la duración en minutos de las partidas, se nos devuelve el dataframe que usamos como argumento con nuevo campo y filtrado para partidas con tiempo mayor a 0 (tiempo positivo) y menor a 100 minutos (como jugones curtidos sabemos que 100 minutos es una partida exagerada por si sola). Veamos como se comportan los diferentes juegos con un gráfico llamativo que podemos generar gracias al paquete seaborn y matplotlib:"
      ]
    },
    {
      "cell_type": "code",
      "metadata": {
        "id": "T-vOD7D4cQeJ",
        "colab": {
          "base_uri": "https://localhost:8080/",
          "height": 561
        },
        "outputId": "fdd840f8-e9d8-4e81-8b6c-2d403f28a5f0"
      },
      "source": [
        "#Creamos los dataframe con las funciones\r\n",
        "boxplot_lol = tiempo_partida(lol_matches)\r\n",
        "boxplot_dota2 = tiempo_partida(dota2_matches)\r\n",
        "boxplot_csgo = tiempo_partida(csgo_matches)\r\n",
        "boxplot_ow = tiempo_partida(ow_matches)\r\n",
        "#llamamos a los paquetes seaborn y matplotlib \r\n",
        "import seaborn as sns\r\n",
        "import matplotlib.pyplot as plt\r\n",
        "#Diseñamos la figura\r\n",
        "plt.figure(figsize=[20, 10])\r\n",
        "sns.set(style=\"whitegrid\")\r\n",
        "sns.boxplot(data=[boxplot_ow['minutos_partidas'],boxplot_lol['minutos_partidas'],boxplot_dota2['minutos_partidas'],boxplot_csgo['minutos_partidas']]).set_xticklabels(['OW','LoL','Dota2','CS:GO'])\r\n",
        "plt.title(\"Duración de partidas en torneos de Esports\")\r\n",
        "plt.ylabel(\"Minutos\")\r\n",
        "plt.xlabel(\"Juegos\")\r\n",
        "plt.show()"
      ],
      "execution_count": 99,
      "outputs": [
        {
          "output_type": "display_data",
          "data": {
            "image/png": "[encoded data removed]",
            "text/plain": [
              "<Figure size 1440x720 with 1 Axes>"
            ]
          },
          "metadata": {
            "tags": []
          }
        }
      ]
    },
    {
      "cell_type": "markdown",
      "metadata": {
        "id": "pCQA_xwlcTWh"
      },
      "source": [
        "Analizando los resultados de manera muy rápida, encontramos que las medianas rondan en torno a los 25 minutos, 40 minutos, 45 minutos y 50 minutos respectivamente. Si esto llegan a tardar los profesionales, qué nos espera a nosotros los mortales? Muy bien, ahora veamos las proporciones de enfrentamientos que han sido transmitidos en línea para que los fanáticos los vean:"
      ]
    },
    {
      "cell_type": "code",
      "metadata": {
        "id": "HOmgqOYkcWEH"
      },
      "source": [
        "# Obtendremos las proporciones manualmente utilizando el tamaño de los Dataframe y filtrando los streams\r\n",
        "Total_de_partidas_lol = len(lol_matches['official_stream_channel_url']) #Total de enfrentamientos \r\n",
        "Partidas_sin_stream_lol = len(lol_matches[ lol_matches['official_stream_channel_url'] == 'Not Provided']) #Total de enfrentamientos sin un url de stream\r\n",
        "Partidas_con_stream_lol = Total_de_partidas_lol-Partidas_sin_stream_lol #Total de enfrentamientos que cuentan con url para stream\r\n",
        "data = [Partidas_con_stream_lol,Partidas_sin_stream_lol] #Creamos un arreglo \r\n",
        "streams_lol = pd.Series(data, index = ['Transmitidas en línea','No transmitidas']) #Creamos una serie para el gráfico de tipo pie \r\n",
        "\r\n",
        "Total_de_partidas_dota2 = len(dota2_matches['official_stream_channel_url'])\r\n",
        "Partidas_sin_stream_dota2 = len(dota2_matches[ dota2_matches['official_stream_channel_url'] == 'Not Provided'])\r\n",
        "Partidas_con_stream_dota2= Total_de_partidas_dota2-Partidas_sin_stream_dota2\r\n",
        "data = [Partidas_con_stream_dota2,Partidas_sin_stream_dota2]\r\n",
        "streams_dota2 = pd.Series(data, index = ['Transmitidas en línea','No transmitidas'])\r\n",
        "\r\n",
        "Total_de_partidas_csgo = len(csgo_matches['official_stream_channel_url'])\r\n",
        "Partidas_sin_stream_csgo = len(csgo_matches[ csgo_matches['official_stream_channel_url'] == 'Not Provided'])\r\n",
        "Partidas_con_stream_csgo= Total_de_partidas_csgo-Partidas_sin_stream_csgo\r\n",
        "data = [Partidas_con_stream_csgo,Partidas_sin_stream_csgo]\r\n",
        "streams_csgo= pd.Series(data, index = ['Transmitidas en línea','No transmitidas'])\r\n",
        "\r\n",
        "Total_de_partidas_ow = len(ow_matches['official_stream_channel_url'])\r\n",
        "Partidas_sin_stream_ow= len(ow_matches[ ow_matches['official_stream_channel_url'] == 'Not Provided'])\r\n",
        "Partidas_con_stream_ow = Total_de_partidas_ow-Partidas_sin_stream_ow\r\n",
        "data = [Partidas_con_stream_ow,Partidas_sin_stream_ow]\r\n",
        "streams_ow = pd.Series(data)"
      ],
      "execution_count": 97,
      "outputs": []
    },
    {
      "cell_type": "markdown",
      "metadata": {
        "id": "LQptmT82cY6Y"
      },
      "source": [
        "La mejor forma de ver las proporciones es con un gráfico de pastel, nos apoyaremos en el paquete matplotlib para esta tarea:"
      ]
    },
    {
      "cell_type": "code",
      "metadata": {
        "id": "B2DVo_njcb6p",
        "colab": {
          "base_uri": "https://localhost:8080/",
          "height": 973
        },
        "outputId": "f11ece76-5e7a-41bd-db03-9c027a6e3d2d"
      },
      "source": [
        "# declaramos las etiquetas\r\n",
        "labels = ['Transmitidas en línea','No transmitidas']\r\n",
        "# paletas de colores https://www.w3schools.com/colors/colors_names.asp\r\n",
        "fig, ((ax1, ax2), (ax3, ax4)) = plt.subplots(2, 2) # creamos un subplot de 2x2\r\n",
        "fig.suptitle('Proporción de partidas de eSports trasmitidas por internet', fontsize = 30) # añadimos un título\r\n",
        "fig.set_figheight(15) #dimensiones de la figura\r\n",
        "fig.set_figwidth(15)\r\n",
        "# gráfico de pastel para las proprociones de cada juego y su título\r\n",
        "ax1.pie(x=streams_lol, autopct=\"%.1f%%\", labels=labels, pctdistance=0.5, colors= ('DarkOliveGreen','DarkGreen')) \r\n",
        "ax1.set_title('League of Legends')\r\n",
        "ax2.pie(x=streams_dota2, autopct=\"%.1f%%\", labels=labels, pctdistance=0.5, colors= ('DarkMagenta','DarkOrchid'))\r\n",
        "ax2.set_title('Dota 2')\r\n",
        "ax3.pie(x=streams_csgo, autopct=\"%.1f%%\", labels=labels, pctdistance=0.5, colors= ('Coral','Bisque'))\r\n",
        "ax3.set_title('Counter Strike: Global Offensive')\r\n",
        "ax4.pie(x=streams_ow, autopct=\"%.1f%%\", labels=labels, pctdistance=0.5, colors= ('b','c'))\r\n",
        "ax4.set_title('Overwatch')"
      ],
      "execution_count": 100,
      "outputs": [
        {
          "output_type": "execute_result",
          "data": {
            "text/plain": [
              "Text(0.5, 1.0, 'Overwatch')"
            ]
          },
          "metadata": {
            "tags": []
          },
          "execution_count": 100
        },
        {
          "output_type": "display_data",
          "data": {
            "image/png": "[encoded data removed]",
            "text/plain": [
              "<Figure size 1080x1080 with 4 Axes>"
            ]
          },
          "metadata": {
            "tags": []
          }
        }
      ]
    },
    {
      "cell_type": "markdown",
      "metadata": {
        "id": "J3sjD44zchSU"
      },
      "source": [
        "En general tenemos un gráfico fácil de leer, los enfrentamientos para cada juego con transmitidos en más del 50% de los casos, siendo LoL el de menor proporción y CS:GO el de mayor proporción. \r\n",
        "\r\n",
        "Queda comprobado entonces que nuestros Dataframes forman un Dataset con gran potencial de explotación y con el que podemos obtener mucha información relacionada a eSports, pero aún nos falta responder una última pregunta para quedar satisfechos."
      ]
    },
    {
      "cell_type": "code",
      "metadata": {
        "id": "UE4_kd-2tWeK"
      },
      "source": [
        "lol_matches.to_csv('lol_matches_p8.csv')\r\n",
        "dota2_matches.to_csv('dota2_matches_p8.csv')\r\n",
        "csgo_matches.to_csv('csgo_matches_p8.csv')\r\n",
        "ow_matches.to_csv('ow_matches_p8.csv')"
      ],
      "execution_count": null,
      "outputs": []
    },
    {
      "cell_type": "markdown",
      "metadata": {
        "id": "NCGSJZDr0XIQ"
      },
      "source": [
        "# Aportar un Dataset para el análisis de eSports y aplicaciones de ML\r\n",
        "\r\n",
        "Con la finalidad de aterrizar los conocimientos adquiridos durante este tercer módulo de _Procesamiento de datos con python_ nos dimos a la tarea de retomar algunos datos de nuestro proyecto anterior y obtener un modelo que podamos comparar utilizando nuestro Dataset que obtuvimos a partir de la API PandaScore. Como primer paso importamos las paqueterías que vamos a utilizar:"
      ]
    },
    {
      "cell_type": "code",
      "metadata": {
        "id": "uZbcsCMV0uUV"
      },
      "source": [
        "import requests\r\n",
        "import math as mt\r\n",
        "import pandas as pd\r\n",
        "import numpy as np\r\n",
        "import matplotlib.pyplot as plt\r\n",
        "import seaborn as sns"
      ],
      "execution_count": 101,
      "outputs": []
    },
    {
      "cell_type": "markdown",
      "metadata": {
        "id": "DgWhW5jm08w2"
      },
      "source": [
        "En el proyecto pasado empezamos con análisis generales de los dataset, en particular nos interesaba conocer los jugadores, torneos y ganancias a lo largo de los años. Una vez realizado esto, se entró a fondo en cada género de juegos y se investigó nuevamente, cuales son los que más atraen jugadores, torneos y ganancias.\r\n",
        "\r\n",
        "\r\n",
        "Gracias a los resultados obtenidos se tiene que los géneros más populares son:\r\n",
        "\r\n",
        "        1.-  Multiplayer Online Battle Arena - MOBA\r\n",
        "        2.-  First-Person Shooter - FBS\r\n",
        "        3.-  Battle Royal\r\n",
        "        4.-  Collectible Card - Cartas Coleccionables\r\n",
        "        5.-  Sports - Deportes\r\n",
        "\r\n",
        "\r\n",
        "De estos géneros, se obtiene que los principales juegos son:\r\n",
        "\r\n",
        "        1.-  Dota 2\r\n",
        "        2.-  Counter - Strike\r\n",
        "        3.-  Fornite\r\n",
        "        4.-  Hearthstone\r\n",
        "        5.-  Rocket League\r\n",
        "        \r\n",
        "        \r\n",
        "Empecemos el análisis observando el cambio de estos juegos a lo largo de los años, con las variables correspondientes a jugadores, torneos y ganancias:"
      ]
    },
    {
      "cell_type": "code",
      "metadata": {
        "id": "VJobJZyf1OQu"
      },
      "source": [
        "#Importamos los dataset\r\n",
        "esports = pd.read_csv(\"https://raw.githubusercontent.com/LKXoro/BEDU-Rstudio-postworks/main/Proyecto/DataSets/ESport_Earnings.csv\", encoding=\"ISO-8859-1\")\r\n",
        "historical = pd.read_csv(\"https://raw.githubusercontent.com/LKXoro/BEDU-Rstudio-postworks/main/Proyecto/DataSets/HistoricalEsportData.csv\",encoding=\"ISO-8859-1\")\r\n"
      ],
      "execution_count": 104,
      "outputs": []
    },
    {
      "cell_type": "markdown",
      "metadata": {
        "id": "LtIOcwnb1Oyd"
      },
      "source": [
        "Ya que nos enfocamos en los esports y como han avanzado a lo largo de los años, uniremos los dataset correspondientes a historical y esports, para que nuestra información sea la misma que se reporta en los Esports."
      ]
    },
    {
      "cell_type": "code",
      "metadata": {
        "colab": {
          "base_uri": "https://localhost:8080/"
        },
        "id": "LH6c7l-i1Q3M",
        "outputId": "aa6ac8b5-2a49-42ff-f37f-340012c2adcb"
      },
      "source": [
        "#Cambiamos el nombre de una de las columnas de los esports\r\n",
        "esports = esports.rename(columns = {\"GameName\":\"Game\"}) \r\n",
        "#Imprimimos carácteristicas de nuestros dataframe\r\n",
        "print(esports.shape)\r\n",
        "print(esports.info(), \"\\n\")\r\n",
        "print(historical.shape)\r\n",
        "print(historical.info())"
      ],
      "execution_count": 105,
      "outputs": [
        {
          "output_type": "stream",
          "text": [
            "(504, 9)\n",
            "<class 'pandas.core.frame.DataFrame'>\n",
            "RangeIndex: 504 entries, 0 to 503\n",
            "Data columns (total 9 columns):\n",
            " #   Column                Non-Null Count  Dtype  \n",
            "---  ------                --------------  -----  \n",
            " 0   IdNo                  504 non-null    int64  \n",
            " 1   TotalMoney            504 non-null    float64\n",
            " 2   Game                  504 non-null    object \n",
            " 3   Genre                 504 non-null    object \n",
            " 4   PlayerNo              504 non-null    int64  \n",
            " 5   TournamentNo          504 non-null    int64  \n",
            " 6   Top_Country           504 non-null    object \n",
            " 7   Top_Country_Earnings  504 non-null    float64\n",
            " 8   Releaseyear           504 non-null    int64  \n",
            "dtypes: float64(2), int64(4), object(3)\n",
            "memory usage: 35.6+ KB\n",
            "None \n",
            "\n",
            "(6387, 5)\n",
            "<class 'pandas.core.frame.DataFrame'>\n",
            "RangeIndex: 6387 entries, 0 to 6386\n",
            "Data columns (total 5 columns):\n",
            " #   Column       Non-Null Count  Dtype  \n",
            "---  ------       --------------  -----  \n",
            " 0   Date         6387 non-null   object \n",
            " 1   Game         6387 non-null   object \n",
            " 2   Earnings     6387 non-null   float64\n",
            " 3   Players      6387 non-null   int64  \n",
            " 4   Tournaments  6387 non-null   int64  \n",
            "dtypes: float64(1), int64(2), object(2)\n",
            "memory usage: 249.6+ KB\n",
            "None\n"
          ],
          "name": "stdout"
        }
      ]
    },
    {
      "cell_type": "markdown",
      "metadata": {
        "id": "sr-_tD0J1YS8"
      },
      "source": [
        "Imprimimos encabezados:"
      ]
    },
    {
      "cell_type": "code",
      "metadata": {
        "colab": {
          "base_uri": "https://localhost:8080/",
          "height": 206
        },
        "id": "aQvJvr-d1aHj",
        "outputId": "b9096f6d-30f1-4e24-a29f-98196a90cfef"
      },
      "source": [
        "esports.head()"
      ],
      "execution_count": 106,
      "outputs": [
        {
          "output_type": "execute_result",
          "data": {
            "text/html": [
              "<div>\n",
              "<style scoped>\n",
              "    .dataframe tbody tr th:only-of-type {\n",
              "        vertical-align: middle;\n",
              "    }\n",
              "\n",
              "    .dataframe tbody tr th {\n",
              "        vertical-align: top;\n",
              "    }\n",
              "\n",
              "    .dataframe thead th {\n",
              "        text-align: right;\n",
              "    }\n",
              "</style>\n",
              "<table border=\"1\" class=\"dataframe\">\n",
              "  <thead>\n",
              "    <tr style=\"text-align: right;\">\n",
              "      <th></th>\n",
              "      <th>IdNo</th>\n",
              "      <th>TotalMoney</th>\n",
              "      <th>Game</th>\n",
              "      <th>Genre</th>\n",
              "      <th>PlayerNo</th>\n",
              "      <th>TournamentNo</th>\n",
              "      <th>Top_Country</th>\n",
              "      <th>Top_Country_Earnings</th>\n",
              "      <th>Releaseyear</th>\n",
              "    </tr>\n",
              "  </thead>\n",
              "  <tbody>\n",
              "    <tr>\n",
              "      <th>0</th>\n",
              "      <td>613</td>\n",
              "      <td>310.00</td>\n",
              "      <td>Acceleration of SUGURI 2</td>\n",
              "      <td>Fighting Game</td>\n",
              "      <td>6</td>\n",
              "      <td>2</td>\n",
              "      <td>United States</td>\n",
              "      <td>310.00</td>\n",
              "      <td>2018</td>\n",
              "    </tr>\n",
              "    <tr>\n",
              "      <th>1</th>\n",
              "      <td>510</td>\n",
              "      <td>190075.61</td>\n",
              "      <td>Age of Empires</td>\n",
              "      <td>Strategy</td>\n",
              "      <td>246</td>\n",
              "      <td>95</td>\n",
              "      <td>Viet Nam</td>\n",
              "      <td>123408.43</td>\n",
              "      <td>1997</td>\n",
              "    </tr>\n",
              "    <tr>\n",
              "      <th>2</th>\n",
              "      <td>179</td>\n",
              "      <td>1492489.51</td>\n",
              "      <td>Age of Empires II</td>\n",
              "      <td>Strategy</td>\n",
              "      <td>956</td>\n",
              "      <td>576</td>\n",
              "      <td>China</td>\n",
              "      <td>174252.44</td>\n",
              "      <td>1999</td>\n",
              "    </tr>\n",
              "    <tr>\n",
              "      <th>3</th>\n",
              "      <td>177</td>\n",
              "      <td>68113.85</td>\n",
              "      <td>Age of Empires III</td>\n",
              "      <td>Strategy</td>\n",
              "      <td>106</td>\n",
              "      <td>76</td>\n",
              "      <td>United States</td>\n",
              "      <td>18523.52</td>\n",
              "      <td>2005</td>\n",
              "    </tr>\n",
              "    <tr>\n",
              "      <th>4</th>\n",
              "      <td>540</td>\n",
              "      <td>2668.00</td>\n",
              "      <td>Age of Empires Online</td>\n",
              "      <td>Strategy</td>\n",
              "      <td>16</td>\n",
              "      <td>7</td>\n",
              "      <td>Germany</td>\n",
              "      <td>1264.00</td>\n",
              "      <td>2011</td>\n",
              "    </tr>\n",
              "  </tbody>\n",
              "</table>\n",
              "</div>"
            ],
            "text/plain": [
              "   IdNo  TotalMoney  ... Top_Country_Earnings Releaseyear\n",
              "0   613      310.00  ...               310.00        2018\n",
              "1   510   190075.61  ...            123408.43        1997\n",
              "2   179  1492489.51  ...            174252.44        1999\n",
              "3   177    68113.85  ...             18523.52        2005\n",
              "4   540     2668.00  ...              1264.00        2011\n",
              "\n",
              "[5 rows x 9 columns]"
            ]
          },
          "metadata": {
            "tags": []
          },
          "execution_count": 106
        }
      ]
    },
    {
      "cell_type": "code",
      "metadata": {
        "colab": {
          "base_uri": "https://localhost:8080/",
          "height": 206
        },
        "id": "tDkzM2k11bwx",
        "outputId": "2c01c05a-92f3-4fdc-ab84-d752c361c2fb"
      },
      "source": [
        "historical.head()"
      ],
      "execution_count": 107,
      "outputs": [
        {
          "output_type": "execute_result",
          "data": {
            "text/html": [
              "<div>\n",
              "<style scoped>\n",
              "    .dataframe tbody tr th:only-of-type {\n",
              "        vertical-align: middle;\n",
              "    }\n",
              "\n",
              "    .dataframe tbody tr th {\n",
              "        vertical-align: top;\n",
              "    }\n",
              "\n",
              "    .dataframe thead th {\n",
              "        text-align: right;\n",
              "    }\n",
              "</style>\n",
              "<table border=\"1\" class=\"dataframe\">\n",
              "  <thead>\n",
              "    <tr style=\"text-align: right;\">\n",
              "      <th></th>\n",
              "      <th>Date</th>\n",
              "      <th>Game</th>\n",
              "      <th>Earnings</th>\n",
              "      <th>Players</th>\n",
              "      <th>Tournaments</th>\n",
              "    </tr>\n",
              "  </thead>\n",
              "  <tbody>\n",
              "    <tr>\n",
              "      <th>0</th>\n",
              "      <td>1998-01-01</td>\n",
              "      <td>QuakeWorld</td>\n",
              "      <td>15000.0</td>\n",
              "      <td>8</td>\n",
              "      <td>1</td>\n",
              "    </tr>\n",
              "    <tr>\n",
              "      <th>1</th>\n",
              "      <td>1998-05-01</td>\n",
              "      <td>Quake II</td>\n",
              "      <td>14600.0</td>\n",
              "      <td>4</td>\n",
              "      <td>1</td>\n",
              "    </tr>\n",
              "    <tr>\n",
              "      <th>2</th>\n",
              "      <td>1998-07-01</td>\n",
              "      <td>Quake II</td>\n",
              "      <td>15000.0</td>\n",
              "      <td>5</td>\n",
              "      <td>1</td>\n",
              "    </tr>\n",
              "    <tr>\n",
              "      <th>3</th>\n",
              "      <td>1998-07-01</td>\n",
              "      <td>QuakeWorld</td>\n",
              "      <td>6500.0</td>\n",
              "      <td>4</td>\n",
              "      <td>1</td>\n",
              "    </tr>\n",
              "    <tr>\n",
              "      <th>4</th>\n",
              "      <td>1998-11-01</td>\n",
              "      <td>Quake II</td>\n",
              "      <td>36600.0</td>\n",
              "      <td>13</td>\n",
              "      <td>2</td>\n",
              "    </tr>\n",
              "  </tbody>\n",
              "</table>\n",
              "</div>"
            ],
            "text/plain": [
              "         Date        Game  Earnings  Players  Tournaments\n",
              "0  1998-01-01  QuakeWorld   15000.0        8            1\n",
              "1  1998-05-01    Quake II   14600.0        4            1\n",
              "2  1998-07-01    Quake II   15000.0        5            1\n",
              "3  1998-07-01  QuakeWorld    6500.0        4            1\n",
              "4  1998-11-01    Quake II   36600.0       13            2"
            ]
          },
          "metadata": {
            "tags": []
          },
          "execution_count": 107
        }
      ]
    },
    {
      "cell_type": "markdown",
      "metadata": {
        "id": "QEMPfVxl1eU7"
      },
      "source": [
        "El dataframe de historical contiene información de cuando se realizaron los torneos de los esports las ganancias que se producieron y los jugadores que hubo, esta fecha la pasaremos a su respectivo formato."
      ]
    },
    {
      "cell_type": "code",
      "metadata": {
        "colab": {
          "base_uri": "https://localhost:8080/",
          "height": 424
        },
        "id": "UMZ0ppIB1dYO",
        "outputId": "c4155d19-f7ab-49d4-82c6-1626e4d7458f"
      },
      "source": [
        "import datetime as dt\r\n",
        "\r\n",
        "Fechas = historical['Date']\r\n",
        "\r\n",
        "Fechas_Bien = []\r\n",
        "for i in range(0, len(Fechas)):\r\n",
        "    x = dt.datetime.strptime(historical[\"Date\"][i],'%Y-%m-%d')\r\n",
        "    Fechas_Bien.append(x)\r\n",
        "#Fechas_Bien\r\n",
        "historical[\"Date\"] = Fechas_Bien\r\n",
        "historical"
      ],
      "execution_count": 108,
      "outputs": [
        {
          "output_type": "execute_result",
          "data": {
            "text/html": [
              "<div>\n",
              "<style scoped>\n",
              "    .dataframe tbody tr th:only-of-type {\n",
              "        vertical-align: middle;\n",
              "    }\n",
              "\n",
              "    .dataframe tbody tr th {\n",
              "        vertical-align: top;\n",
              "    }\n",
              "\n",
              "    .dataframe thead th {\n",
              "        text-align: right;\n",
              "    }\n",
              "</style>\n",
              "<table border=\"1\" class=\"dataframe\">\n",
              "  <thead>\n",
              "    <tr style=\"text-align: right;\">\n",
              "      <th></th>\n",
              "      <th>Date</th>\n",
              "      <th>Game</th>\n",
              "      <th>Earnings</th>\n",
              "      <th>Players</th>\n",
              "      <th>Tournaments</th>\n",
              "    </tr>\n",
              "  </thead>\n",
              "  <tbody>\n",
              "    <tr>\n",
              "      <th>0</th>\n",
              "      <td>1998-01-01</td>\n",
              "      <td>QuakeWorld</td>\n",
              "      <td>15000.00</td>\n",
              "      <td>8</td>\n",
              "      <td>1</td>\n",
              "    </tr>\n",
              "    <tr>\n",
              "      <th>1</th>\n",
              "      <td>1998-05-01</td>\n",
              "      <td>Quake II</td>\n",
              "      <td>14600.00</td>\n",
              "      <td>4</td>\n",
              "      <td>1</td>\n",
              "    </tr>\n",
              "    <tr>\n",
              "      <th>2</th>\n",
              "      <td>1998-07-01</td>\n",
              "      <td>Quake II</td>\n",
              "      <td>15000.00</td>\n",
              "      <td>5</td>\n",
              "      <td>1</td>\n",
              "    </tr>\n",
              "    <tr>\n",
              "      <th>3</th>\n",
              "      <td>1998-07-01</td>\n",
              "      <td>QuakeWorld</td>\n",
              "      <td>6500.00</td>\n",
              "      <td>4</td>\n",
              "      <td>1</td>\n",
              "    </tr>\n",
              "    <tr>\n",
              "      <th>4</th>\n",
              "      <td>1998-11-01</td>\n",
              "      <td>Quake II</td>\n",
              "      <td>36600.00</td>\n",
              "      <td>13</td>\n",
              "      <td>2</td>\n",
              "    </tr>\n",
              "    <tr>\n",
              "      <th>...</th>\n",
              "      <td>...</td>\n",
              "      <td>...</td>\n",
              "      <td>...</td>\n",
              "      <td>...</td>\n",
              "      <td>...</td>\n",
              "    </tr>\n",
              "    <tr>\n",
              "      <th>6382</th>\n",
              "      <td>2020-12-01</td>\n",
              "      <td>Age of Empires Online</td>\n",
              "      <td>626.56</td>\n",
              "      <td>3</td>\n",
              "      <td>1</td>\n",
              "    </tr>\n",
              "    <tr>\n",
              "      <th>6383</th>\n",
              "      <td>2020-12-01</td>\n",
              "      <td>Artifact 2.0</td>\n",
              "      <td>530.80</td>\n",
              "      <td>18</td>\n",
              "      <td>2</td>\n",
              "    </tr>\n",
              "    <tr>\n",
              "      <th>6384</th>\n",
              "      <td>2020-12-01</td>\n",
              "      <td>TrackMania 2: Stadium</td>\n",
              "      <td>316.23</td>\n",
              "      <td>6</td>\n",
              "      <td>2</td>\n",
              "    </tr>\n",
              "    <tr>\n",
              "      <th>6385</th>\n",
              "      <td>2020-12-01</td>\n",
              "      <td>Touhou Hisoutensoku ~ Choudokyuu Ginyoru no Na...</td>\n",
              "      <td>264.60</td>\n",
              "      <td>8</td>\n",
              "      <td>1</td>\n",
              "    </tr>\n",
              "    <tr>\n",
              "      <th>6386</th>\n",
              "      <td>2020-12-01</td>\n",
              "      <td>Quake Champions</td>\n",
              "      <td>70.00</td>\n",
              "      <td>4</td>\n",
              "      <td>1</td>\n",
              "    </tr>\n",
              "  </tbody>\n",
              "</table>\n",
              "<p>6387 rows × 5 columns</p>\n",
              "</div>"
            ],
            "text/plain": [
              "           Date  ... Tournaments\n",
              "0    1998-01-01  ...           1\n",
              "1    1998-05-01  ...           1\n",
              "2    1998-07-01  ...           1\n",
              "3    1998-07-01  ...           1\n",
              "4    1998-11-01  ...           2\n",
              "...         ...  ...         ...\n",
              "6382 2020-12-01  ...           1\n",
              "6383 2020-12-01  ...           2\n",
              "6384 2020-12-01  ...           2\n",
              "6385 2020-12-01  ...           1\n",
              "6386 2020-12-01  ...           1\n",
              "\n",
              "[6387 rows x 5 columns]"
            ]
          },
          "metadata": {
            "tags": []
          },
          "execution_count": 108
        }
      ]
    },
    {
      "cell_type": "code",
      "metadata": {
        "colab": {
          "base_uri": "https://localhost:8080/"
        },
        "id": "MKujdDJI1kGt",
        "outputId": "e6c1f6a3-58a0-4509-e4bc-3f7f416f0d01"
      },
      "source": [
        "#Notemos que el formato ya es el correcto\r\n",
        "historical.info()"
      ],
      "execution_count": 109,
      "outputs": [
        {
          "output_type": "stream",
          "text": [
            "<class 'pandas.core.frame.DataFrame'>\n",
            "RangeIndex: 6387 entries, 0 to 6386\n",
            "Data columns (total 5 columns):\n",
            " #   Column       Non-Null Count  Dtype         \n",
            "---  ------       --------------  -----         \n",
            " 0   Date         6387 non-null   datetime64[ns]\n",
            " 1   Game         6387 non-null   object        \n",
            " 2   Earnings     6387 non-null   float64       \n",
            " 3   Players      6387 non-null   int64         \n",
            " 4   Tournaments  6387 non-null   int64         \n",
            "dtypes: datetime64[ns](1), float64(1), int64(2), object(1)\n",
            "memory usage: 249.6+ KB\n"
          ],
          "name": "stdout"
        }
      ]
    },
    {
      "cell_type": "code",
      "metadata": {
        "colab": {
          "base_uri": "https://localhost:8080/"
        },
        "id": "Wrf7Q7Wg1l9i",
        "outputId": "2c94f0e6-33fa-4338-d15f-efd55ba201e6"
      },
      "source": [
        "#Pasamos las ganancias a millones de dólares, para no tener valores tan excesivos\r\n",
        "historical[\"Earnings\"] = historical[\"Earnings\"]/(10**6)\r\n",
        "esports[\"Top_Country_Earnings\"] = esports[\"Top_Country_Earnings\"]/(10**6)\r\n",
        "print(historical.head(),\"\\n\")\r\n",
        "print(esports.head())\r\n",
        "\r\n",
        "\r\n",
        "#################### PARA LOCALIZAR EL MÁXIMO ##################################\r\n",
        "\r\n",
        "#historical[\"Earnings\"].max()\r\n",
        "#36713555.9\r\n",
        "#np.where(historical[\"Earnings\"] == 36713555.9)\r\n",
        "#historical.loc[5322]"
      ],
      "execution_count": 110,
      "outputs": [
        {
          "output_type": "stream",
          "text": [
            "        Date        Game  Earnings  Players  Tournaments\n",
            "0 1998-01-01  QuakeWorld    0.0150        8            1\n",
            "1 1998-05-01    Quake II    0.0146        4            1\n",
            "2 1998-07-01    Quake II    0.0150        5            1\n",
            "3 1998-07-01  QuakeWorld    0.0065        4            1\n",
            "4 1998-11-01    Quake II    0.0366       13            2 \n",
            "\n",
            "   IdNo  TotalMoney  ... Top_Country_Earnings Releaseyear\n",
            "0   613      310.00  ...             0.000310        2018\n",
            "1   510   190075.61  ...             0.123408        1997\n",
            "2   179  1492489.51  ...             0.174252        1999\n",
            "3   177    68113.85  ...             0.018524        2005\n",
            "4   540     2668.00  ...             0.001264        2011\n",
            "\n",
            "[5 rows x 9 columns]\n"
          ],
          "name": "stdout"
        }
      ]
    },
    {
      "cell_type": "markdown",
      "metadata": {
        "id": "aGY5Dghd1oEb"
      },
      "source": [
        "Unimos los dataframe a partir de la función merge con la llave \"Game\" y observamos al información que nos devuelve:"
      ]
    },
    {
      "cell_type": "code",
      "metadata": {
        "colab": {
          "base_uri": "https://localhost:8080/"
        },
        "id": "VsJnvwIj1pEN",
        "outputId": "81b17d78-21ad-4c02-dc2d-7177d2c20aae"
      },
      "source": [
        "join = pd.merge(esports,historical,on=\"Game\",how=\"outer\")\r\n",
        "join.info()"
      ],
      "execution_count": 111,
      "outputs": [
        {
          "output_type": "stream",
          "text": [
            "<class 'pandas.core.frame.DataFrame'>\n",
            "Int64Index: 6433 entries, 0 to 6432\n",
            "Data columns (total 13 columns):\n",
            " #   Column                Non-Null Count  Dtype         \n",
            "---  ------                --------------  -----         \n",
            " 0   IdNo                  6334 non-null   float64       \n",
            " 1   TotalMoney            6334 non-null   float64       \n",
            " 2   Game                  6433 non-null   object        \n",
            " 3   Genre                 6334 non-null   object        \n",
            " 4   PlayerNo              6334 non-null   float64       \n",
            " 5   TournamentNo          6334 non-null   float64       \n",
            " 6   Top_Country           6334 non-null   object        \n",
            " 7   Top_Country_Earnings  6334 non-null   float64       \n",
            " 8   Releaseyear           6334 non-null   float64       \n",
            " 9   Date                  6397 non-null   datetime64[ns]\n",
            " 10  Earnings              6397 non-null   float64       \n",
            " 11  Players               6397 non-null   float64       \n",
            " 12  Tournaments           6397 non-null   float64       \n",
            "dtypes: datetime64[ns](1), float64(9), object(3)\n",
            "memory usage: 703.6+ KB\n"
          ],
          "name": "stdout"
        }
      ]
    },
    {
      "cell_type": "code",
      "metadata": {
        "colab": {
          "base_uri": "https://localhost:8080/",
          "height": 348
        },
        "id": "lEiVdmS21sm8",
        "outputId": "6e49f8dd-63de-4d2a-8c1a-22e6a7eabeb1"
      },
      "source": [
        "#Primeras filas\r\n",
        "join.head()"
      ],
      "execution_count": 112,
      "outputs": [
        {
          "output_type": "execute_result",
          "data": {
            "text/html": [
              "<div>\n",
              "<style scoped>\n",
              "    .dataframe tbody tr th:only-of-type {\n",
              "        vertical-align: middle;\n",
              "    }\n",
              "\n",
              "    .dataframe tbody tr th {\n",
              "        vertical-align: top;\n",
              "    }\n",
              "\n",
              "    .dataframe thead th {\n",
              "        text-align: right;\n",
              "    }\n",
              "</style>\n",
              "<table border=\"1\" class=\"dataframe\">\n",
              "  <thead>\n",
              "    <tr style=\"text-align: right;\">\n",
              "      <th></th>\n",
              "      <th>IdNo</th>\n",
              "      <th>TotalMoney</th>\n",
              "      <th>Game</th>\n",
              "      <th>Genre</th>\n",
              "      <th>PlayerNo</th>\n",
              "      <th>TournamentNo</th>\n",
              "      <th>Top_Country</th>\n",
              "      <th>Top_Country_Earnings</th>\n",
              "      <th>Releaseyear</th>\n",
              "      <th>Date</th>\n",
              "      <th>Earnings</th>\n",
              "      <th>Players</th>\n",
              "      <th>Tournaments</th>\n",
              "    </tr>\n",
              "  </thead>\n",
              "  <tbody>\n",
              "    <tr>\n",
              "      <th>0</th>\n",
              "      <td>613.0</td>\n",
              "      <td>310.00</td>\n",
              "      <td>Acceleration of SUGURI 2</td>\n",
              "      <td>Fighting Game</td>\n",
              "      <td>6.0</td>\n",
              "      <td>2.0</td>\n",
              "      <td>United States</td>\n",
              "      <td>0.000310</td>\n",
              "      <td>2018.0</td>\n",
              "      <td>2019-09-01</td>\n",
              "      <td>0.00021</td>\n",
              "      <td>3.0</td>\n",
              "      <td>1.0</td>\n",
              "    </tr>\n",
              "    <tr>\n",
              "      <th>1</th>\n",
              "      <td>613.0</td>\n",
              "      <td>310.00</td>\n",
              "      <td>Acceleration of SUGURI 2</td>\n",
              "      <td>Fighting Game</td>\n",
              "      <td>6.0</td>\n",
              "      <td>2.0</td>\n",
              "      <td>United States</td>\n",
              "      <td>0.000310</td>\n",
              "      <td>2018.0</td>\n",
              "      <td>2020-06-01</td>\n",
              "      <td>0.00010</td>\n",
              "      <td>3.0</td>\n",
              "      <td>1.0</td>\n",
              "    </tr>\n",
              "    <tr>\n",
              "      <th>2</th>\n",
              "      <td>510.0</td>\n",
              "      <td>190075.61</td>\n",
              "      <td>Age of Empires</td>\n",
              "      <td>Strategy</td>\n",
              "      <td>246.0</td>\n",
              "      <td>95.0</td>\n",
              "      <td>Viet Nam</td>\n",
              "      <td>0.123408</td>\n",
              "      <td>1997.0</td>\n",
              "      <td>1998-12-01</td>\n",
              "      <td>0.00200</td>\n",
              "      <td>1.0</td>\n",
              "      <td>1.0</td>\n",
              "    </tr>\n",
              "    <tr>\n",
              "      <th>3</th>\n",
              "      <td>510.0</td>\n",
              "      <td>190075.61</td>\n",
              "      <td>Age of Empires</td>\n",
              "      <td>Strategy</td>\n",
              "      <td>246.0</td>\n",
              "      <td>95.0</td>\n",
              "      <td>Viet Nam</td>\n",
              "      <td>0.123408</td>\n",
              "      <td>1997.0</td>\n",
              "      <td>2000-04-01</td>\n",
              "      <td>0.00950</td>\n",
              "      <td>4.0</td>\n",
              "      <td>1.0</td>\n",
              "    </tr>\n",
              "    <tr>\n",
              "      <th>4</th>\n",
              "      <td>510.0</td>\n",
              "      <td>190075.61</td>\n",
              "      <td>Age of Empires</td>\n",
              "      <td>Strategy</td>\n",
              "      <td>246.0</td>\n",
              "      <td>95.0</td>\n",
              "      <td>Viet Nam</td>\n",
              "      <td>0.123408</td>\n",
              "      <td>1997.0</td>\n",
              "      <td>2002-09-01</td>\n",
              "      <td>0.00010</td>\n",
              "      <td>3.0</td>\n",
              "      <td>1.0</td>\n",
              "    </tr>\n",
              "  </tbody>\n",
              "</table>\n",
              "</div>"
            ],
            "text/plain": [
              "    IdNo  TotalMoney                      Game  ... Earnings  Players  Tournaments\n",
              "0  613.0      310.00  Acceleration of SUGURI 2  ...  0.00021      3.0          1.0\n",
              "1  613.0      310.00  Acceleration of SUGURI 2  ...  0.00010      3.0          1.0\n",
              "2  510.0   190075.61            Age of Empires  ...  0.00200      1.0          1.0\n",
              "3  510.0   190075.61            Age of Empires  ...  0.00950      4.0          1.0\n",
              "4  510.0   190075.61            Age of Empires  ...  0.00010      3.0          1.0\n",
              "\n",
              "[5 rows x 13 columns]"
            ]
          },
          "metadata": {
            "tags": []
          },
          "execution_count": 112
        }
      ]
    },
    {
      "cell_type": "code",
      "metadata": {
        "colab": {
          "base_uri": "https://localhost:8080/"
        },
        "id": "dNnt5zcp1uIu",
        "outputId": "adecdbdf-68eb-4a79-ed19-38d924809dcd"
      },
      "source": [
        "join['Year'] = join.Date.dt.year\r\n",
        "join.info()"
      ],
      "execution_count": 113,
      "outputs": [
        {
          "output_type": "stream",
          "text": [
            "<class 'pandas.core.frame.DataFrame'>\n",
            "Int64Index: 6433 entries, 0 to 6432\n",
            "Data columns (total 14 columns):\n",
            " #   Column                Non-Null Count  Dtype         \n",
            "---  ------                --------------  -----         \n",
            " 0   IdNo                  6334 non-null   float64       \n",
            " 1   TotalMoney            6334 non-null   float64       \n",
            " 2   Game                  6433 non-null   object        \n",
            " 3   Genre                 6334 non-null   object        \n",
            " 4   PlayerNo              6334 non-null   float64       \n",
            " 5   TournamentNo          6334 non-null   float64       \n",
            " 6   Top_Country           6334 non-null   object        \n",
            " 7   Top_Country_Earnings  6334 non-null   float64       \n",
            " 8   Releaseyear           6334 non-null   float64       \n",
            " 9   Date                  6397 non-null   datetime64[ns]\n",
            " 10  Earnings              6397 non-null   float64       \n",
            " 11  Players               6397 non-null   float64       \n",
            " 12  Tournaments           6397 non-null   float64       \n",
            " 13  Year                  6397 non-null   float64       \n",
            "dtypes: datetime64[ns](1), float64(10), object(3)\n",
            "memory usage: 753.9+ KB\n"
          ],
          "name": "stdout"
        }
      ]
    },
    {
      "cell_type": "code",
      "metadata": {
        "colab": {
          "base_uri": "https://localhost:8080/",
          "height": 348
        },
        "id": "r6w4JDxk1uFD",
        "outputId": "a68382f7-b501-4fd7-ff37-3806fa5dce21"
      },
      "source": [
        "#Imprimimos el encabezado\r\n",
        "join.head()"
      ],
      "execution_count": 114,
      "outputs": [
        {
          "output_type": "execute_result",
          "data": {
            "text/html": [
              "<div>\n",
              "<style scoped>\n",
              "    .dataframe tbody tr th:only-of-type {\n",
              "        vertical-align: middle;\n",
              "    }\n",
              "\n",
              "    .dataframe tbody tr th {\n",
              "        vertical-align: top;\n",
              "    }\n",
              "\n",
              "    .dataframe thead th {\n",
              "        text-align: right;\n",
              "    }\n",
              "</style>\n",
              "<table border=\"1\" class=\"dataframe\">\n",
              "  <thead>\n",
              "    <tr style=\"text-align: right;\">\n",
              "      <th></th>\n",
              "      <th>IdNo</th>\n",
              "      <th>TotalMoney</th>\n",
              "      <th>Game</th>\n",
              "      <th>Genre</th>\n",
              "      <th>PlayerNo</th>\n",
              "      <th>TournamentNo</th>\n",
              "      <th>Top_Country</th>\n",
              "      <th>Top_Country_Earnings</th>\n",
              "      <th>Releaseyear</th>\n",
              "      <th>Date</th>\n",
              "      <th>Earnings</th>\n",
              "      <th>Players</th>\n",
              "      <th>Tournaments</th>\n",
              "      <th>Year</th>\n",
              "    </tr>\n",
              "  </thead>\n",
              "  <tbody>\n",
              "    <tr>\n",
              "      <th>0</th>\n",
              "      <td>613.0</td>\n",
              "      <td>310.00</td>\n",
              "      <td>Acceleration of SUGURI 2</td>\n",
              "      <td>Fighting Game</td>\n",
              "      <td>6.0</td>\n",
              "      <td>2.0</td>\n",
              "      <td>United States</td>\n",
              "      <td>0.000310</td>\n",
              "      <td>2018.0</td>\n",
              "      <td>2019-09-01</td>\n",
              "      <td>0.00021</td>\n",
              "      <td>3.0</td>\n",
              "      <td>1.0</td>\n",
              "      <td>2019.0</td>\n",
              "    </tr>\n",
              "    <tr>\n",
              "      <th>1</th>\n",
              "      <td>613.0</td>\n",
              "      <td>310.00</td>\n",
              "      <td>Acceleration of SUGURI 2</td>\n",
              "      <td>Fighting Game</td>\n",
              "      <td>6.0</td>\n",
              "      <td>2.0</td>\n",
              "      <td>United States</td>\n",
              "      <td>0.000310</td>\n",
              "      <td>2018.0</td>\n",
              "      <td>2020-06-01</td>\n",
              "      <td>0.00010</td>\n",
              "      <td>3.0</td>\n",
              "      <td>1.0</td>\n",
              "      <td>2020.0</td>\n",
              "    </tr>\n",
              "    <tr>\n",
              "      <th>2</th>\n",
              "      <td>510.0</td>\n",
              "      <td>190075.61</td>\n",
              "      <td>Age of Empires</td>\n",
              "      <td>Strategy</td>\n",
              "      <td>246.0</td>\n",
              "      <td>95.0</td>\n",
              "      <td>Viet Nam</td>\n",
              "      <td>0.123408</td>\n",
              "      <td>1997.0</td>\n",
              "      <td>1998-12-01</td>\n",
              "      <td>0.00200</td>\n",
              "      <td>1.0</td>\n",
              "      <td>1.0</td>\n",
              "      <td>1998.0</td>\n",
              "    </tr>\n",
              "    <tr>\n",
              "      <th>3</th>\n",
              "      <td>510.0</td>\n",
              "      <td>190075.61</td>\n",
              "      <td>Age of Empires</td>\n",
              "      <td>Strategy</td>\n",
              "      <td>246.0</td>\n",
              "      <td>95.0</td>\n",
              "      <td>Viet Nam</td>\n",
              "      <td>0.123408</td>\n",
              "      <td>1997.0</td>\n",
              "      <td>2000-04-01</td>\n",
              "      <td>0.00950</td>\n",
              "      <td>4.0</td>\n",
              "      <td>1.0</td>\n",
              "      <td>2000.0</td>\n",
              "    </tr>\n",
              "    <tr>\n",
              "      <th>4</th>\n",
              "      <td>510.0</td>\n",
              "      <td>190075.61</td>\n",
              "      <td>Age of Empires</td>\n",
              "      <td>Strategy</td>\n",
              "      <td>246.0</td>\n",
              "      <td>95.0</td>\n",
              "      <td>Viet Nam</td>\n",
              "      <td>0.123408</td>\n",
              "      <td>1997.0</td>\n",
              "      <td>2002-09-01</td>\n",
              "      <td>0.00010</td>\n",
              "      <td>3.0</td>\n",
              "      <td>1.0</td>\n",
              "      <td>2002.0</td>\n",
              "    </tr>\n",
              "  </tbody>\n",
              "</table>\n",
              "</div>"
            ],
            "text/plain": [
              "    IdNo  TotalMoney                      Game  ... Players  Tournaments    Year\n",
              "0  613.0      310.00  Acceleration of SUGURI 2  ...     3.0          1.0  2019.0\n",
              "1  613.0      310.00  Acceleration of SUGURI 2  ...     3.0          1.0  2020.0\n",
              "2  510.0   190075.61            Age of Empires  ...     1.0          1.0  1998.0\n",
              "3  510.0   190075.61            Age of Empires  ...     4.0          1.0  2000.0\n",
              "4  510.0   190075.61            Age of Empires  ...     3.0          1.0  2002.0\n",
              "\n",
              "[5 rows x 14 columns]"
            ]
          },
          "metadata": {
            "tags": []
          },
          "execution_count": 114
        }
      ]
    },
    {
      "cell_type": "code",
      "metadata": {
        "colab": {
          "base_uri": "https://localhost:8080/",
          "height": 424
        },
        "id": "bVNmVNEq1twk",
        "outputId": "1b5d28db-dc32-4518-ff6a-1d1100af0847"
      },
      "source": [
        "#Creamos un dataframe con columnas de intéres para realizar un analisis\r\n",
        "join2 = join[[\"Game\",\"Top_Country\",\"Top_Country_Earnings\",\"Earnings\",\"Players\",\"Tournaments\",'Year']]\r\n",
        "join2"
      ],
      "execution_count": 115,
      "outputs": [
        {
          "output_type": "execute_result",
          "data": {
            "text/html": [
              "<div>\n",
              "<style scoped>\n",
              "    .dataframe tbody tr th:only-of-type {\n",
              "        vertical-align: middle;\n",
              "    }\n",
              "\n",
              "    .dataframe tbody tr th {\n",
              "        vertical-align: top;\n",
              "    }\n",
              "\n",
              "    .dataframe thead th {\n",
              "        text-align: right;\n",
              "    }\n",
              "</style>\n",
              "<table border=\"1\" class=\"dataframe\">\n",
              "  <thead>\n",
              "    <tr style=\"text-align: right;\">\n",
              "      <th></th>\n",
              "      <th>Game</th>\n",
              "      <th>Top_Country</th>\n",
              "      <th>Top_Country_Earnings</th>\n",
              "      <th>Earnings</th>\n",
              "      <th>Players</th>\n",
              "      <th>Tournaments</th>\n",
              "      <th>Year</th>\n",
              "    </tr>\n",
              "  </thead>\n",
              "  <tbody>\n",
              "    <tr>\n",
              "      <th>0</th>\n",
              "      <td>Acceleration of SUGURI 2</td>\n",
              "      <td>United States</td>\n",
              "      <td>0.000310</td>\n",
              "      <td>0.000210</td>\n",
              "      <td>3.0</td>\n",
              "      <td>1.0</td>\n",
              "      <td>2019.0</td>\n",
              "    </tr>\n",
              "    <tr>\n",
              "      <th>1</th>\n",
              "      <td>Acceleration of SUGURI 2</td>\n",
              "      <td>United States</td>\n",
              "      <td>0.000310</td>\n",
              "      <td>0.000100</td>\n",
              "      <td>3.0</td>\n",
              "      <td>1.0</td>\n",
              "      <td>2020.0</td>\n",
              "    </tr>\n",
              "    <tr>\n",
              "      <th>2</th>\n",
              "      <td>Age of Empires</td>\n",
              "      <td>Viet Nam</td>\n",
              "      <td>0.123408</td>\n",
              "      <td>0.002000</td>\n",
              "      <td>1.0</td>\n",
              "      <td>1.0</td>\n",
              "      <td>1998.0</td>\n",
              "    </tr>\n",
              "    <tr>\n",
              "      <th>3</th>\n",
              "      <td>Age of Empires</td>\n",
              "      <td>Viet Nam</td>\n",
              "      <td>0.123408</td>\n",
              "      <td>0.009500</td>\n",
              "      <td>4.0</td>\n",
              "      <td>1.0</td>\n",
              "      <td>2000.0</td>\n",
              "    </tr>\n",
              "    <tr>\n",
              "      <th>4</th>\n",
              "      <td>Age of Empires</td>\n",
              "      <td>Viet Nam</td>\n",
              "      <td>0.123408</td>\n",
              "      <td>0.000100</td>\n",
              "      <td>3.0</td>\n",
              "      <td>1.0</td>\n",
              "      <td>2002.0</td>\n",
              "    </tr>\n",
              "    <tr>\n",
              "      <th>...</th>\n",
              "      <td>...</td>\n",
              "      <td>...</td>\n",
              "      <td>...</td>\n",
              "      <td>...</td>\n",
              "      <td>...</td>\n",
              "      <td>...</td>\n",
              "      <td>...</td>\n",
              "    </tr>\n",
              "    <tr>\n",
              "      <th>6428</th>\n",
              "      <td>Call of Duty: Black Ops Cold War</td>\n",
              "      <td>NaN</td>\n",
              "      <td>NaN</td>\n",
              "      <td>0.243000</td>\n",
              "      <td>80.0</td>\n",
              "      <td>9.0</td>\n",
              "      <td>2020.0</td>\n",
              "    </tr>\n",
              "    <tr>\n",
              "      <th>6429</th>\n",
              "      <td>Smash Remix</td>\n",
              "      <td>NaN</td>\n",
              "      <td>NaN</td>\n",
              "      <td>0.000299</td>\n",
              "      <td>4.0</td>\n",
              "      <td>1.0</td>\n",
              "      <td>2020.0</td>\n",
              "    </tr>\n",
              "    <tr>\n",
              "      <th>6430</th>\n",
              "      <td>Kirby Fighters 2</td>\n",
              "      <td>NaN</td>\n",
              "      <td>NaN</td>\n",
              "      <td>0.000223</td>\n",
              "      <td>4.0</td>\n",
              "      <td>1.0</td>\n",
              "      <td>2020.0</td>\n",
              "    </tr>\n",
              "    <tr>\n",
              "      <th>6431</th>\n",
              "      <td>Rogue Company</td>\n",
              "      <td>NaN</td>\n",
              "      <td>NaN</td>\n",
              "      <td>0.050000</td>\n",
              "      <td>48.0</td>\n",
              "      <td>2.0</td>\n",
              "      <td>2020.0</td>\n",
              "    </tr>\n",
              "    <tr>\n",
              "      <th>6432</th>\n",
              "      <td>Zwift</td>\n",
              "      <td>NaN</td>\n",
              "      <td>NaN</td>\n",
              "      <td>0.033827</td>\n",
              "      <td>6.0</td>\n",
              "      <td>2.0</td>\n",
              "      <td>2020.0</td>\n",
              "    </tr>\n",
              "  </tbody>\n",
              "</table>\n",
              "<p>6433 rows × 7 columns</p>\n",
              "</div>"
            ],
            "text/plain": [
              "                                  Game    Top_Country  ...  Tournaments    Year\n",
              "0             Acceleration of SUGURI 2  United States  ...          1.0  2019.0\n",
              "1             Acceleration of SUGURI 2  United States  ...          1.0  2020.0\n",
              "2                       Age of Empires       Viet Nam  ...          1.0  1998.0\n",
              "3                       Age of Empires       Viet Nam  ...          1.0  2000.0\n",
              "4                       Age of Empires       Viet Nam  ...          1.0  2002.0\n",
              "...                                ...            ...  ...          ...     ...\n",
              "6428  Call of Duty: Black Ops Cold War            NaN  ...          9.0  2020.0\n",
              "6429                       Smash Remix            NaN  ...          1.0  2020.0\n",
              "6430                  Kirby Fighters 2            NaN  ...          1.0  2020.0\n",
              "6431                     Rogue Company            NaN  ...          2.0  2020.0\n",
              "6432                             Zwift            NaN  ...          2.0  2020.0\n",
              "\n",
              "[6433 rows x 7 columns]"
            ]
          },
          "metadata": {
            "tags": []
          },
          "execution_count": 115
        }
      ]
    },
    {
      "cell_type": "markdown",
      "metadata": {
        "id": "PCU5seuC1zly"
      },
      "source": [
        "Hagamos una lista del nombre de los datos únicos, para observar y clasificar los de interés:"
      ]
    },
    {
      "cell_type": "code",
      "metadata": {
        "id": "oxnRhZ901yq6"
      },
      "source": [
        "unicos = list(np.unique(join2['Game']))"
      ],
      "execution_count": null,
      "outputs": []
    },
    {
      "cell_type": "markdown",
      "metadata": {
        "id": "WTyzwlKG13aC"
      },
      "source": [
        "Analizamos los juegos con mayor popularidad y verificamos que el año sea mayor a 2010 (en el proyecto pasado concluimos que vale la pena notar que los eSports tuvieron su auge en ese año):"
      ]
    },
    {
      "cell_type": "code",
      "metadata": {
        "colab": {
          "base_uri": "https://localhost:8080/",
          "height": 424
        },
        "id": "ZX4678Ed1yk0",
        "outputId": "1c5a13f7-f3cd-48f4-f0e9-4942fba5d4b9"
      },
      "source": [
        "Rainbow = join2['Game'].str.match('^Rainbow Six')\r\n",
        "Counter_Strike = join2['Game'].str.match('^Counter-Strike')\r\n",
        "LOL = join2[\"Game\"] == 'League of Legends'\r\n",
        "Dota2 = join2[\"Game\"] == 'Dota 2'\r\n",
        "Rocket = join2[\"Game\"] =='Rocket League' \r\n",
        "Hearthstone = join2[\"Game\"] == 'Hearthstone'\r\n",
        "mayor2010 = join2[\"Year\"] >= 2010\r\n",
        "\r\n",
        "join2  = join2[(LOL|Dota2|Rocket|Hearthstone|Rainbow|Counter_Strike) & mayor2010 ].reset_index(drop=True)\r\n",
        "join2"
      ],
      "execution_count": 116,
      "outputs": [
        {
          "output_type": "execute_result",
          "data": {
            "text/html": [
              "<div>\n",
              "<style scoped>\n",
              "    .dataframe tbody tr th:only-of-type {\n",
              "        vertical-align: middle;\n",
              "    }\n",
              "\n",
              "    .dataframe tbody tr th {\n",
              "        vertical-align: top;\n",
              "    }\n",
              "\n",
              "    .dataframe thead th {\n",
              "        text-align: right;\n",
              "    }\n",
              "</style>\n",
              "<table border=\"1\" class=\"dataframe\">\n",
              "  <thead>\n",
              "    <tr style=\"text-align: right;\">\n",
              "      <th></th>\n",
              "      <th>Game</th>\n",
              "      <th>Top_Country</th>\n",
              "      <th>Top_Country_Earnings</th>\n",
              "      <th>Earnings</th>\n",
              "      <th>Players</th>\n",
              "      <th>Tournaments</th>\n",
              "      <th>Year</th>\n",
              "    </tr>\n",
              "  </thead>\n",
              "  <tbody>\n",
              "    <tr>\n",
              "      <th>0</th>\n",
              "      <td>Counter-Strike</td>\n",
              "      <td>Sweden</td>\n",
              "      <td>2.837398</td>\n",
              "      <td>0.085406</td>\n",
              "      <td>111.0</td>\n",
              "      <td>6.0</td>\n",
              "      <td>2010.0</td>\n",
              "    </tr>\n",
              "    <tr>\n",
              "      <th>1</th>\n",
              "      <td>Counter-Strike</td>\n",
              "      <td>Sweden</td>\n",
              "      <td>2.837398</td>\n",
              "      <td>0.063992</td>\n",
              "      <td>145.0</td>\n",
              "      <td>10.0</td>\n",
              "      <td>2010.0</td>\n",
              "    </tr>\n",
              "    <tr>\n",
              "      <th>2</th>\n",
              "      <td>Counter-Strike</td>\n",
              "      <td>Sweden</td>\n",
              "      <td>2.837398</td>\n",
              "      <td>0.142391</td>\n",
              "      <td>160.0</td>\n",
              "      <td>6.0</td>\n",
              "      <td>2010.0</td>\n",
              "    </tr>\n",
              "    <tr>\n",
              "      <th>3</th>\n",
              "      <td>Counter-Strike</td>\n",
              "      <td>Sweden</td>\n",
              "      <td>2.837398</td>\n",
              "      <td>0.098841</td>\n",
              "      <td>192.0</td>\n",
              "      <td>14.0</td>\n",
              "      <td>2010.0</td>\n",
              "    </tr>\n",
              "    <tr>\n",
              "      <th>4</th>\n",
              "      <td>Counter-Strike</td>\n",
              "      <td>Sweden</td>\n",
              "      <td>2.837398</td>\n",
              "      <td>0.086128</td>\n",
              "      <td>131.0</td>\n",
              "      <td>11.0</td>\n",
              "      <td>2010.0</td>\n",
              "    </tr>\n",
              "    <tr>\n",
              "      <th>...</th>\n",
              "      <td>...</td>\n",
              "      <td>...</td>\n",
              "      <td>...</td>\n",
              "      <td>...</td>\n",
              "      <td>...</td>\n",
              "      <td>...</td>\n",
              "      <td>...</td>\n",
              "    </tr>\n",
              "    <tr>\n",
              "      <th>611</th>\n",
              "      <td>Rocket League</td>\n",
              "      <td>United States</td>\n",
              "      <td>2.894739</td>\n",
              "      <td>0.335180</td>\n",
              "      <td>269.0</td>\n",
              "      <td>24.0</td>\n",
              "      <td>2020.0</td>\n",
              "    </tr>\n",
              "    <tr>\n",
              "      <th>612</th>\n",
              "      <td>Rocket League</td>\n",
              "      <td>United States</td>\n",
              "      <td>2.894739</td>\n",
              "      <td>0.482865</td>\n",
              "      <td>315.0</td>\n",
              "      <td>27.0</td>\n",
              "      <td>2020.0</td>\n",
              "    </tr>\n",
              "    <tr>\n",
              "      <th>613</th>\n",
              "      <td>Rocket League</td>\n",
              "      <td>United States</td>\n",
              "      <td>2.894739</td>\n",
              "      <td>0.484540</td>\n",
              "      <td>305.0</td>\n",
              "      <td>28.0</td>\n",
              "      <td>2020.0</td>\n",
              "    </tr>\n",
              "    <tr>\n",
              "      <th>614</th>\n",
              "      <td>Rocket League</td>\n",
              "      <td>United States</td>\n",
              "      <td>2.894739</td>\n",
              "      <td>0.283200</td>\n",
              "      <td>262.0</td>\n",
              "      <td>27.0</td>\n",
              "      <td>2020.0</td>\n",
              "    </tr>\n",
              "    <tr>\n",
              "      <th>615</th>\n",
              "      <td>Rocket League</td>\n",
              "      <td>United States</td>\n",
              "      <td>2.894739</td>\n",
              "      <td>0.350177</td>\n",
              "      <td>256.0</td>\n",
              "      <td>17.0</td>\n",
              "      <td>2020.0</td>\n",
              "    </tr>\n",
              "  </tbody>\n",
              "</table>\n",
              "<p>616 rows × 7 columns</p>\n",
              "</div>"
            ],
            "text/plain": [
              "               Game    Top_Country  ...  Tournaments    Year\n",
              "0    Counter-Strike         Sweden  ...          6.0  2010.0\n",
              "1    Counter-Strike         Sweden  ...         10.0  2010.0\n",
              "2    Counter-Strike         Sweden  ...          6.0  2010.0\n",
              "3    Counter-Strike         Sweden  ...         14.0  2010.0\n",
              "4    Counter-Strike         Sweden  ...         11.0  2010.0\n",
              "..              ...            ...  ...          ...     ...\n",
              "611   Rocket League  United States  ...         24.0  2020.0\n",
              "612   Rocket League  United States  ...         27.0  2020.0\n",
              "613   Rocket League  United States  ...         28.0  2020.0\n",
              "614   Rocket League  United States  ...         27.0  2020.0\n",
              "615   Rocket League  United States  ...         17.0  2020.0\n",
              "\n",
              "[616 rows x 7 columns]"
            ]
          },
          "metadata": {
            "tags": []
          },
          "execution_count": 116
        }
      ]
    },
    {
      "cell_type": "markdown",
      "metadata": {
        "id": "snFN4vt617sx"
      },
      "source": [
        "Realizamos un análisis de que países han obtenido mayor ganancias en estos juegos:"
      ]
    },
    {
      "cell_type": "code",
      "metadata": {
        "colab": {
          "base_uri": "https://localhost:8080/",
          "height": 206
        },
        "id": "ia7OLmyT1yhJ",
        "outputId": "d2dcd680-b3a1-48af-c4b3-d05527de788f"
      },
      "source": [
        "#Agrupamos por país la cantidad de ganancias \r\n",
        "Paises_Ganancias = join2[[\"Top_Country\",\"Top_Country_Earnings\"]]\r\n",
        "Paises_Ganancias = Paises_Ganancias.groupby(['Top_Country']).sum().reset_index()\r\n",
        "Paises_Ganancias"
      ],
      "execution_count": 117,
      "outputs": [
        {
          "output_type": "execute_result",
          "data": {
            "text/html": [
              "<div>\n",
              "<style scoped>\n",
              "    .dataframe tbody tr th:only-of-type {\n",
              "        vertical-align: middle;\n",
              "    }\n",
              "\n",
              "    .dataframe tbody tr th {\n",
              "        vertical-align: top;\n",
              "    }\n",
              "\n",
              "    .dataframe thead th {\n",
              "        text-align: right;\n",
              "    }\n",
              "</style>\n",
              "<table border=\"1\" class=\"dataframe\">\n",
              "  <thead>\n",
              "    <tr style=\"text-align: right;\">\n",
              "      <th></th>\n",
              "      <th>Top_Country</th>\n",
              "      <th>Top_Country_Earnings</th>\n",
              "    </tr>\n",
              "  </thead>\n",
              "  <tbody>\n",
              "    <tr>\n",
              "      <th>0</th>\n",
              "      <td>China</td>\n",
              "      <td>7526.860666</td>\n",
              "    </tr>\n",
              "    <tr>\n",
              "      <th>1</th>\n",
              "      <td>Denmark</td>\n",
              "      <td>1584.038889</td>\n",
              "    </tr>\n",
              "    <tr>\n",
              "      <th>2</th>\n",
              "      <td>Korea, Republic of</td>\n",
              "      <td>3262.209989</td>\n",
              "    </tr>\n",
              "    <tr>\n",
              "      <th>3</th>\n",
              "      <td>Sweden</td>\n",
              "      <td>107.821124</td>\n",
              "    </tr>\n",
              "    <tr>\n",
              "      <th>4</th>\n",
              "      <td>United States</td>\n",
              "      <td>358.609227</td>\n",
              "    </tr>\n",
              "  </tbody>\n",
              "</table>\n",
              "</div>"
            ],
            "text/plain": [
              "          Top_Country  Top_Country_Earnings\n",
              "0               China           7526.860666\n",
              "1             Denmark           1584.038889\n",
              "2  Korea, Republic of           3262.209989\n",
              "3              Sweden            107.821124\n",
              "4       United States            358.609227"
            ]
          },
          "metadata": {
            "tags": []
          },
          "execution_count": 117
        }
      ]
    },
    {
      "cell_type": "code",
      "metadata": {
        "colab": {
          "base_uri": "https://localhost:8080/",
          "height": 324
        },
        "id": "Zhys0x8A1-kc",
        "outputId": "24e01f05-0cc4-4370-badc-9311195044a8"
      },
      "source": [
        "#Realizamos una gráfica de pie\r\n",
        "\r\n",
        "paises_espanol = [\"China\",\"Dinamarca\",\"Corea del Sur\",\"Suecia\",\"Estados Unidos\"]\r\n",
        "\r\n",
        "labels = paises_espanol\r\n",
        "sizes = Paises_Ganancias[\"Top_Country_Earnings\"]\r\n",
        "\r\n",
        "patches, texts = plt.pie(sizes, shadow=True, startangle=90)\r\n",
        "plt.legend(patches, labels, loc=\"best\")\r\n",
        "plt.axis('equal')\r\n",
        "plt.tight_layout()\r\n",
        "plt.title('Países con mayores ganancias en los \\n Esports en los juegos más populares')\r\n",
        "\r\n",
        "plt.show()"
      ],
      "execution_count": 118,
      "outputs": [
        {
          "output_type": "display_data",
          "data": {
            "image/png": "[encoded data removed]",
            "text/plain": [
              "<Figure size 432x288 with 1 Axes>"
            ]
          },
          "metadata": {
            "tags": []
          }
        }
      ]
    },
    {
      "cell_type": "markdown",
      "metadata": {
        "id": "KFUnA0oB2BX3"
      },
      "source": [
        "Creamos diversos grupos de los juegos de interés, realizando filtro para encontrar coincidencias, estos grupos se realizan a partir del nombre y los años y pasamos los años a una columna, ya que al realizar el agrupamiento este pasa como índice, entonces tenemos que volverlo a pasar a columna."
      ]
    },
    {
      "cell_type": "code",
      "metadata": {
        "id": "EVRmR0g91-fW"
      },
      "source": [
        "################################################################\r\n",
        "Rainbow = join2[join2['Game'].str.match('^Rainbow Six')== True] \r\n",
        "Rainbow = Rainbow.groupby(['Year']).sum()\r\n",
        "Rainbow = Rainbow.rename_axis('Year').reset_index()\r\n",
        "################################################################\r\n",
        "Counter_Strike = join2[join2['Game'].str.match('^Counter-Strike')== True]\r\n",
        "Counter_Strike = Counter_Strike.groupby(['Year']).sum()\r\n",
        "Counter_Strike = Counter_Strike.rename_axis('Year').reset_index()\r\n",
        "################################################################\r\n",
        "LOL = join2[join2[\"Game\"] == 'League of Legends']\r\n",
        "LOL = LOL.groupby(['Year']).sum()\r\n",
        "LOL = LOL.rename_axis('Year').reset_index()\r\n",
        "################################################################\r\n",
        "Dota2 = join2[join2[\"Game\"] == 'Dota 2' ]                      \r\n",
        "Dota2 = Dota2.groupby(['Year']).sum()\r\n",
        "Dota2 = Dota2.rename_axis('Year').reset_index()\r\n",
        "#################################################################\r\n",
        "Rocket = join2[join2[\"Game\"] == 'Rocket League' ]\r\n",
        "Rocket = Rocket.groupby(['Year']).sum()\r\n",
        "Rocket = Rocket.rename_axis('Year').reset_index()\r\n",
        "################################################################\r\n",
        "Hearthstone = join2[join2[\"Game\"] == 'Hearthstone' ]\r\n",
        "Hearthstone = Hearthstone.groupby(['Year']).sum()\r\n",
        "Hearthstone = Hearthstone.rename_axis('Year').reset_index()\r\n",
        "################################################################"
      ],
      "execution_count": 119,
      "outputs": []
    },
    {
      "cell_type": "code",
      "metadata": {
        "colab": {
          "base_uri": "https://localhost:8080/",
          "height": 446
        },
        "id": "P7GcRJcQ1-Xo",
        "outputId": "3d511195-5354-4389-e335-eef7704e2f00"
      },
      "source": [
        "#Unimos los datafame de cada juego, esto para graficar su evolución a lo largo de los años \r\n",
        "\r\n",
        "########### LOS NaN nos sirven para que no aparezcan ceros en las gráficas, debido a esto no los retiramos \r\n",
        "\r\n",
        "Unidos = pd.concat([Rainbow,Counter_Strike, LOL,Dota2,Rocket,Hearthstone], axis=1, \r\n",
        "          keys=['Rainbow','Counter_Strike', 'LOL','Dota2','Rocket','Hearthstone'])\r\n",
        "Unidos"
      ],
      "execution_count": 120,
      "outputs": [
        {
          "output_type": "execute_result",
          "data": {
            "text/html": [
              "<div>\n",
              "<style scoped>\n",
              "    .dataframe tbody tr th:only-of-type {\n",
              "        vertical-align: middle;\n",
              "    }\n",
              "\n",
              "    .dataframe tbody tr th {\n",
              "        vertical-align: top;\n",
              "    }\n",
              "\n",
              "    .dataframe thead tr th {\n",
              "        text-align: left;\n",
              "    }\n",
              "</style>\n",
              "<table border=\"1\" class=\"dataframe\">\n",
              "  <thead>\n",
              "    <tr>\n",
              "      <th></th>\n",
              "      <th colspan=\"5\" halign=\"left\">Rainbow</th>\n",
              "      <th colspan=\"5\" halign=\"left\">Counter_Strike</th>\n",
              "      <th colspan=\"5\" halign=\"left\">LOL</th>\n",
              "      <th colspan=\"5\" halign=\"left\">Dota2</th>\n",
              "      <th colspan=\"5\" halign=\"left\">Rocket</th>\n",
              "      <th colspan=\"5\" halign=\"left\">Hearthstone</th>\n",
              "    </tr>\n",
              "    <tr>\n",
              "      <th></th>\n",
              "      <th>Year</th>\n",
              "      <th>Top_Country_Earnings</th>\n",
              "      <th>Earnings</th>\n",
              "      <th>Players</th>\n",
              "      <th>Tournaments</th>\n",
              "      <th>Year</th>\n",
              "      <th>Top_Country_Earnings</th>\n",
              "      <th>Earnings</th>\n",
              "      <th>Players</th>\n",
              "      <th>Tournaments</th>\n",
              "      <th>Year</th>\n",
              "      <th>Top_Country_Earnings</th>\n",
              "      <th>Earnings</th>\n",
              "      <th>Players</th>\n",
              "      <th>Tournaments</th>\n",
              "      <th>Year</th>\n",
              "      <th>Top_Country_Earnings</th>\n",
              "      <th>Earnings</th>\n",
              "      <th>Players</th>\n",
              "      <th>Tournaments</th>\n",
              "      <th>Year</th>\n",
              "      <th>Top_Country_Earnings</th>\n",
              "      <th>Earnings</th>\n",
              "      <th>Players</th>\n",
              "      <th>Tournaments</th>\n",
              "      <th>Year</th>\n",
              "      <th>Top_Country_Earnings</th>\n",
              "      <th>Earnings</th>\n",
              "      <th>Players</th>\n",
              "      <th>Tournaments</th>\n",
              "    </tr>\n",
              "  </thead>\n",
              "  <tbody>\n",
              "    <tr>\n",
              "      <th>0</th>\n",
              "      <td>2016.0</td>\n",
              "      <td>17.755893</td>\n",
              "      <td>0.295680</td>\n",
              "      <td>150.0</td>\n",
              "      <td>22.0</td>\n",
              "      <td>2010.0</td>\n",
              "      <td>43.029267</td>\n",
              "      <td>1.801105</td>\n",
              "      <td>2810.0</td>\n",
              "      <td>177.0</td>\n",
              "      <td>2010.0</td>\n",
              "      <td>106.957705</td>\n",
              "      <td>0.027943</td>\n",
              "      <td>136.0</td>\n",
              "      <td>23.0</td>\n",
              "      <td>2011.0</td>\n",
              "      <td>260.242446</td>\n",
              "      <td>1.672268</td>\n",
              "      <td>128.0</td>\n",
              "      <td>6.0</td>\n",
              "      <td>2015.0</td>\n",
              "      <td>14.473696</td>\n",
              "      <td>0.023977</td>\n",
              "      <td>164.0</td>\n",
              "      <td>79.0</td>\n",
              "      <td>2013.0</td>\n",
              "      <td>7.196790</td>\n",
              "      <td>0.001395</td>\n",
              "      <td>3.0</td>\n",
              "      <td>3.0</td>\n",
              "    </tr>\n",
              "    <tr>\n",
              "      <th>1</th>\n",
              "      <td>2017.0</td>\n",
              "      <td>29.593155</td>\n",
              "      <td>0.863557</td>\n",
              "      <td>482.0</td>\n",
              "      <td>23.0</td>\n",
              "      <td>2011.0</td>\n",
              "      <td>43.029267</td>\n",
              "      <td>1.141858</td>\n",
              "      <td>2024.0</td>\n",
              "      <td>126.0</td>\n",
              "      <td>2011.0</td>\n",
              "      <td>320.873114</td>\n",
              "      <td>0.526575</td>\n",
              "      <td>837.0</td>\n",
              "      <td>172.0</td>\n",
              "      <td>2012.0</td>\n",
              "      <td>715.666726</td>\n",
              "      <td>2.087095</td>\n",
              "      <td>615.0</td>\n",
              "      <td>96.0</td>\n",
              "      <td>2016.0</td>\n",
              "      <td>34.736870</td>\n",
              "      <td>0.429728</td>\n",
              "      <td>811.0</td>\n",
              "      <td>307.0</td>\n",
              "      <td>2014.0</td>\n",
              "      <td>43.180742</td>\n",
              "      <td>1.123245</td>\n",
              "      <td>521.0</td>\n",
              "      <td>177.0</td>\n",
              "    </tr>\n",
              "    <tr>\n",
              "      <th>2</th>\n",
              "      <td>2018.0</td>\n",
              "      <td>35.511786</td>\n",
              "      <td>2.005274</td>\n",
              "      <td>1361.0</td>\n",
              "      <td>68.0</td>\n",
              "      <td>2012.0</td>\n",
              "      <td>149.010792</td>\n",
              "      <td>1.090870</td>\n",
              "      <td>1948.0</td>\n",
              "      <td>150.0</td>\n",
              "      <td>2012.0</td>\n",
              "      <td>320.873114</td>\n",
              "      <td>4.287209</td>\n",
              "      <td>2362.0</td>\n",
              "      <td>391.0</td>\n",
              "      <td>2013.0</td>\n",
              "      <td>780.727338</td>\n",
              "      <td>4.543142</td>\n",
              "      <td>1255.0</td>\n",
              "      <td>126.0</td>\n",
              "      <td>2017.0</td>\n",
              "      <td>34.736870</td>\n",
              "      <td>1.509901</td>\n",
              "      <td>1241.0</td>\n",
              "      <td>345.0</td>\n",
              "      <td>2015.0</td>\n",
              "      <td>43.180742</td>\n",
              "      <td>2.372584</td>\n",
              "      <td>967.0</td>\n",
              "      <td>251.0</td>\n",
              "    </tr>\n",
              "    <tr>\n",
              "      <th>3</th>\n",
              "      <td>2019.0</td>\n",
              "      <td>35.511786</td>\n",
              "      <td>5.018250</td>\n",
              "      <td>2017.0</td>\n",
              "      <td>89.0</td>\n",
              "      <td>2013.0</td>\n",
              "      <td>188.532656</td>\n",
              "      <td>1.364143</td>\n",
              "      <td>2227.0</td>\n",
              "      <td>204.0</td>\n",
              "      <td>2013.0</td>\n",
              "      <td>320.873114</td>\n",
              "      <td>6.226160</td>\n",
              "      <td>2714.0</td>\n",
              "      <td>368.0</td>\n",
              "      <td>2014.0</td>\n",
              "      <td>780.727338</td>\n",
              "      <td>16.608031</td>\n",
              "      <td>1757.0</td>\n",
              "      <td>150.0</td>\n",
              "      <td>2018.0</td>\n",
              "      <td>34.736870</td>\n",
              "      <td>2.363028</td>\n",
              "      <td>1115.0</td>\n",
              "      <td>163.0</td>\n",
              "      <td>2016.0</td>\n",
              "      <td>43.180742</td>\n",
              "      <td>3.455125</td>\n",
              "      <td>906.0</td>\n",
              "      <td>134.0</td>\n",
              "    </tr>\n",
              "    <tr>\n",
              "      <th>4</th>\n",
              "      <td>2020.0</td>\n",
              "      <td>26.633839</td>\n",
              "      <td>5.015764</td>\n",
              "      <td>950.0</td>\n",
              "      <td>40.0</td>\n",
              "      <td>2014.0</td>\n",
              "      <td>187.959137</td>\n",
              "      <td>2.042703</td>\n",
              "      <td>3051.0</td>\n",
              "      <td>282.0</td>\n",
              "      <td>2014.0</td>\n",
              "      <td>320.873114</td>\n",
              "      <td>8.057291</td>\n",
              "      <td>3908.0</td>\n",
              "      <td>428.0</td>\n",
              "      <td>2015.0</td>\n",
              "      <td>780.727338</td>\n",
              "      <td>31.050787</td>\n",
              "      <td>2730.0</td>\n",
              "      <td>227.0</td>\n",
              "      <td>2019.0</td>\n",
              "      <td>34.736870</td>\n",
              "      <td>3.046704</td>\n",
              "      <td>991.0</td>\n",
              "      <td>134.0</td>\n",
              "      <td>2017.0</td>\n",
              "      <td>43.180742</td>\n",
              "      <td>3.476623</td>\n",
              "      <td>1109.0</td>\n",
              "      <td>122.0</td>\n",
              "    </tr>\n",
              "    <tr>\n",
              "      <th>5</th>\n",
              "      <td>NaN</td>\n",
              "      <td>NaN</td>\n",
              "      <td>NaN</td>\n",
              "      <td>NaN</td>\n",
              "      <td>NaN</td>\n",
              "      <td>2015.0</td>\n",
              "      <td>184.834980</td>\n",
              "      <td>6.324970</td>\n",
              "      <td>7251.0</td>\n",
              "      <td>708.0</td>\n",
              "      <td>2015.0</td>\n",
              "      <td>320.873114</td>\n",
              "      <td>7.717807</td>\n",
              "      <td>4012.0</td>\n",
              "      <td>309.0</td>\n",
              "      <td>2016.0</td>\n",
              "      <td>780.727338</td>\n",
              "      <td>37.464420</td>\n",
              "      <td>2535.0</td>\n",
              "      <td>154.0</td>\n",
              "      <td>2020.0</td>\n",
              "      <td>34.736870</td>\n",
              "      <td>3.800358</td>\n",
              "      <td>2264.0</td>\n",
              "      <td>241.0</td>\n",
              "      <td>2018.0</td>\n",
              "      <td>43.180742</td>\n",
              "      <td>4.717852</td>\n",
              "      <td>1552.0</td>\n",
              "      <td>132.0</td>\n",
              "    </tr>\n",
              "    <tr>\n",
              "      <th>6</th>\n",
              "      <td>NaN</td>\n",
              "      <td>NaN</td>\n",
              "      <td>NaN</td>\n",
              "      <td>NaN</td>\n",
              "      <td>NaN</td>\n",
              "      <td>2016.0</td>\n",
              "      <td>184.834980</td>\n",
              "      <td>17.306133</td>\n",
              "      <td>10548.0</td>\n",
              "      <td>862.0</td>\n",
              "      <td>2016.0</td>\n",
              "      <td>320.873114</td>\n",
              "      <td>10.529060</td>\n",
              "      <td>3057.0</td>\n",
              "      <td>182.0</td>\n",
              "      <td>2017.0</td>\n",
              "      <td>780.727338</td>\n",
              "      <td>38.074599</td>\n",
              "      <td>2651.0</td>\n",
              "      <td>167.0</td>\n",
              "      <td>NaN</td>\n",
              "      <td>NaN</td>\n",
              "      <td>NaN</td>\n",
              "      <td>NaN</td>\n",
              "      <td>NaN</td>\n",
              "      <td>2019.0</td>\n",
              "      <td>43.180742</td>\n",
              "      <td>4.772553</td>\n",
              "      <td>982.0</td>\n",
              "      <td>43.0</td>\n",
              "    </tr>\n",
              "    <tr>\n",
              "      <th>7</th>\n",
              "      <td>NaN</td>\n",
              "      <td>NaN</td>\n",
              "      <td>NaN</td>\n",
              "      <td>NaN</td>\n",
              "      <td>NaN</td>\n",
              "      <td>2017.0</td>\n",
              "      <td>184.548220</td>\n",
              "      <td>19.270082</td>\n",
              "      <td>11497.0</td>\n",
              "      <td>906.0</td>\n",
              "      <td>2017.0</td>\n",
              "      <td>320.873114</td>\n",
              "      <td>12.225701</td>\n",
              "      <td>3521.0</td>\n",
              "      <td>186.0</td>\n",
              "      <td>2018.0</td>\n",
              "      <td>780.727338</td>\n",
              "      <td>41.457369</td>\n",
              "      <td>2860.0</td>\n",
              "      <td>174.0</td>\n",
              "      <td>NaN</td>\n",
              "      <td>NaN</td>\n",
              "      <td>NaN</td>\n",
              "      <td>NaN</td>\n",
              "      <td>NaN</td>\n",
              "      <td>2020.0</td>\n",
              "      <td>35.983952</td>\n",
              "      <td>4.232600</td>\n",
              "      <td>870.0</td>\n",
              "      <td>40.0</td>\n",
              "    </tr>\n",
              "    <tr>\n",
              "      <th>8</th>\n",
              "      <td>NaN</td>\n",
              "      <td>NaN</td>\n",
              "      <td>NaN</td>\n",
              "      <td>NaN</td>\n",
              "      <td>NaN</td>\n",
              "      <td>2018.0</td>\n",
              "      <td>184.548220</td>\n",
              "      <td>23.306930</td>\n",
              "      <td>11404.0</td>\n",
              "      <td>1018.0</td>\n",
              "      <td>2018.0</td>\n",
              "      <td>320.873114</td>\n",
              "      <td>14.569802</td>\n",
              "      <td>3852.0</td>\n",
              "      <td>184.0</td>\n",
              "      <td>2019.0</td>\n",
              "      <td>780.727338</td>\n",
              "      <td>47.039653</td>\n",
              "      <td>3196.0</td>\n",
              "      <td>223.0</td>\n",
              "      <td>NaN</td>\n",
              "      <td>NaN</td>\n",
              "      <td>NaN</td>\n",
              "      <td>NaN</td>\n",
              "      <td>NaN</td>\n",
              "      <td>NaN</td>\n",
              "      <td>NaN</td>\n",
              "      <td>NaN</td>\n",
              "      <td>NaN</td>\n",
              "      <td>NaN</td>\n",
              "    </tr>\n",
              "    <tr>\n",
              "      <th>9</th>\n",
              "      <td>NaN</td>\n",
              "      <td>NaN</td>\n",
              "      <td>NaN</td>\n",
              "      <td>NaN</td>\n",
              "      <td>NaN</td>\n",
              "      <td>2019.0</td>\n",
              "      <td>185.296594</td>\n",
              "      <td>22.001692</td>\n",
              "      <td>10324.0</td>\n",
              "      <td>836.0</td>\n",
              "      <td>2019.0</td>\n",
              "      <td>320.873114</td>\n",
              "      <td>9.498834</td>\n",
              "      <td>3701.0</td>\n",
              "      <td>173.0</td>\n",
              "      <td>2020.0</td>\n",
              "      <td>780.727338</td>\n",
              "      <td>9.323853</td>\n",
              "      <td>2941.0</td>\n",
              "      <td>148.0</td>\n",
              "      <td>NaN</td>\n",
              "      <td>NaN</td>\n",
              "      <td>NaN</td>\n",
              "      <td>NaN</td>\n",
              "      <td>NaN</td>\n",
              "      <td>NaN</td>\n",
              "      <td>NaN</td>\n",
              "      <td>NaN</td>\n",
              "      <td>NaN</td>\n",
              "      <td>NaN</td>\n",
              "    </tr>\n",
              "    <tr>\n",
              "      <th>10</th>\n",
              "      <td>NaN</td>\n",
              "      <td>NaN</td>\n",
              "      <td>NaN</td>\n",
              "      <td>NaN</td>\n",
              "      <td>NaN</td>\n",
              "      <td>2020.0</td>\n",
              "      <td>184.548220</td>\n",
              "      <td>15.808057</td>\n",
              "      <td>8297.0</td>\n",
              "      <td>570.0</td>\n",
              "      <td>2020.0</td>\n",
              "      <td>267.394261</td>\n",
              "      <td>8.003608</td>\n",
              "      <td>2203.0</td>\n",
              "      <td>65.0</td>\n",
              "      <td>NaN</td>\n",
              "      <td>NaN</td>\n",
              "      <td>NaN</td>\n",
              "      <td>NaN</td>\n",
              "      <td>NaN</td>\n",
              "      <td>NaN</td>\n",
              "      <td>NaN</td>\n",
              "      <td>NaN</td>\n",
              "      <td>NaN</td>\n",
              "      <td>NaN</td>\n",
              "      <td>NaN</td>\n",
              "      <td>NaN</td>\n",
              "      <td>NaN</td>\n",
              "      <td>NaN</td>\n",
              "      <td>NaN</td>\n",
              "    </tr>\n",
              "  </tbody>\n",
              "</table>\n",
              "</div>"
            ],
            "text/plain": [
              "   Rainbow                                 ... Hearthstone                    \n",
              "      Year Top_Country_Earnings  Earnings  ...    Earnings Players Tournaments\n",
              "0   2016.0            17.755893  0.295680  ...    0.001395     3.0         3.0\n",
              "1   2017.0            29.593155  0.863557  ...    1.123245   521.0       177.0\n",
              "2   2018.0            35.511786  2.005274  ...    2.372584   967.0       251.0\n",
              "3   2019.0            35.511786  5.018250  ...    3.455125   906.0       134.0\n",
              "4   2020.0            26.633839  5.015764  ...    3.476623  1109.0       122.0\n",
              "5      NaN                  NaN       NaN  ...    4.717852  1552.0       132.0\n",
              "6      NaN                  NaN       NaN  ...    4.772553   982.0        43.0\n",
              "7      NaN                  NaN       NaN  ...    4.232600   870.0        40.0\n",
              "8      NaN                  NaN       NaN  ...         NaN     NaN         NaN\n",
              "9      NaN                  NaN       NaN  ...         NaN     NaN         NaN\n",
              "10     NaN                  NaN       NaN  ...         NaN     NaN         NaN\n",
              "\n",
              "[11 rows x 30 columns]"
            ]
          },
          "metadata": {
            "tags": []
          },
          "execution_count": 120
        }
      ]
    },
    {
      "cell_type": "code",
      "metadata": {
        "colab": {
          "base_uri": "https://localhost:8080/",
          "height": 387
        },
        "id": "nIN8kb552G2N",
        "outputId": "d9c2a2e8-edfe-4551-d9f4-59eb7cd1ac55"
      },
      "source": [
        "def barras(parametro, parametro_espanol):\r\n",
        "    fig, ax =  plt.subplots(figsize=(20,6))\r\n",
        "    width = 0.13\r\n",
        "    ax.bar(Unidos[\"Rainbow\"][\"Year\"], Unidos[\"Rainbow\"][parametro], \r\n",
        "           width,label='Rainbow', color = 'deeppink')\r\n",
        "    \r\n",
        "    ax.bar(Unidos[\"Counter_Strike\"][\"Year\"]+0.15, Unidos[\"Counter_Strike\"][parametro], \r\n",
        "           width,label='Counter - Strike', color = 'indianred')\r\n",
        "    \r\n",
        "    ax.bar(Unidos[\"LOL\"][\"Year\"]+ 0.30, Unidos[\"LOL\"][parametro], \r\n",
        "           width,label='League of Legends', color = 'royalblue')\r\n",
        "    \r\n",
        "    ax.bar(Unidos[\"Dota2\"][\"Year\"]+ 0.45, Unidos[\"Dota2\"][parametro], \r\n",
        "           width,label='Dota 2', color = 'm')\r\n",
        "    \r\n",
        "    ax.bar(Unidos[\"Rocket\"][\"Year\"]+ 0.6, Unidos[\"Rocket\"][parametro], \r\n",
        "           width,label='Rocket League', color = 'goldenrod')\r\n",
        "    \r\n",
        "    ax.bar(Unidos[\"Hearthstone\"][\"Year\"]+ 0.75, Unidos[\"Hearthstone\"][parametro], \r\n",
        "           width,label='Hearthstone', color = 'green')\r\n",
        "\r\n",
        "    ax.set_xlabel('Años',size=25)\r\n",
        "    if parametro_espanol == \"Ganancias\":\r\n",
        "         ax.set_ylabel('Ganancias en millones de dólares',size=25)\r\n",
        "    elif parametro_espanol == 'Torneos':\r\n",
        "        ax.set_ylabel('Cantidad de torneos',size = 25)\r\n",
        "    elif parametro_espanol == 'Jugadores':\r\n",
        "        ax.set_ylabel('Cantidad de jugadores',size = 25)\r\n",
        "\r\n",
        "        \r\n",
        "    ax.set_title(parametro_espanol +' en los últimos 10 años',size=35)\r\n",
        "\r\n",
        "    ax.grid(True, axis='x', color='white')\r\n",
        "    ax.tick_params(axis ='both', labelsize = 20)\r\n",
        "    sns.set(style=\"darkgrid\")\r\n",
        "    ax.legend(loc = 'best', fontsize=14)\r\n",
        "\r\n",
        "    \r\n",
        "torneos_barras = barras(parametro = \"Tournaments\", parametro_espanol = \"Torneos\")\r\n",
        "\r\n",
        "plt.show()"
      ],
      "execution_count": 121,
      "outputs": [
        {
          "output_type": "display_data",
          "data": {
            "image/png": "[encoded data removed]",
            "text/plain": [
              "<Figure size 1440x432 with 1 Axes>"
            ]
          },
          "metadata": {
            "tags": []
          }
        }
      ]
    },
    {
      "cell_type": "code",
      "metadata": {
        "colab": {
          "base_uri": "https://localhost:8080/",
          "height": 384
        },
        "id": "9PwyKdIb2Gza",
        "outputId": "48a4a554-9a32-4c29-d447-d6ec50abb94e"
      },
      "source": [
        "jugadores_barras =  barras(parametro = \"Players\", parametro_espanol = \"Jugadores\")\r\n",
        "plt.show()"
      ],
      "execution_count": 122,
      "outputs": [
        {
          "output_type": "display_data",
          "data": {
            "image/png": "[encoded data removed]",
            "text/plain": [
              "<Figure size 1440x432 with 1 Axes>"
            ]
          },
          "metadata": {
            "tags": []
          }
        }
      ]
    },
    {
      "cell_type": "code",
      "metadata": {
        "colab": {
          "base_uri": "https://localhost:8080/",
          "height": 407
        },
        "id": "SkvTyNHQ2GwJ",
        "outputId": "b42cd2a2-0617-4b73-8cad-7f84f32b5d30"
      },
      "source": [
        "ganancias_barras =  barras(parametro = \"Earnings\", parametro_espanol = \"Ganancias\")\r\n",
        "plt.show()"
      ],
      "execution_count": 123,
      "outputs": [
        {
          "output_type": "display_data",
          "data": {
            "image/png": "[encoded data removed]",
            "text/plain": [
              "<Figure size 1440x432 with 1 Axes>"
            ]
          },
          "metadata": {
            "tags": []
          }
        }
      ]
    },
    {
      "cell_type": "markdown",
      "metadata": {
        "id": "rmlyz0-L2Ow_"
      },
      "source": [
        "Notamos que la cantidad de torneos y jugadores de Counter - Strike crecen de una manera similar, aquí nos surge una pregunta\r\n",
        "\r\n",
        "        ¿Cuál es la relación entre estás variables?\r\n",
        "\r\n",
        "Para hallar la relación entre estás variables primero \"_plotiemos_\" los valores de estás, para así visualizar que tipo de análisis sería el correcto:"
      ]
    },
    {
      "cell_type": "code",
      "metadata": {
        "colab": {
          "base_uri": "https://localhost:8080/"
        },
        "id": "BU-sRC5e2Gmm",
        "outputId": "09e31163-a3bd-4ca3-af16-f2bec14648b2"
      },
      "source": [
        "#Volvamos a obtener la variable relacionado a Counter_Strike\r\n",
        "\r\n",
        "Counter_Strike = join2[join2['Game'].str.match('^Counter-Strike')== True]\r\n",
        "Counter_Strike.info()"
      ],
      "execution_count": 124,
      "outputs": [
        {
          "output_type": "stream",
          "text": [
            "<class 'pandas.core.frame.DataFrame'>\n",
            "Int64Index: 185 entries, 0 to 184\n",
            "Data columns (total 7 columns):\n",
            " #   Column                Non-Null Count  Dtype  \n",
            "---  ------                --------------  -----  \n",
            " 0   Game                  185 non-null    object \n",
            " 1   Top_Country           185 non-null    object \n",
            " 2   Top_Country_Earnings  185 non-null    float64\n",
            " 3   Earnings              185 non-null    float64\n",
            " 4   Players               185 non-null    float64\n",
            " 5   Tournaments           185 non-null    float64\n",
            " 6   Year                  185 non-null    float64\n",
            "dtypes: float64(5), object(2)\n",
            "memory usage: 11.6+ KB\n"
          ],
          "name": "stdout"
        }
      ]
    },
    {
      "cell_type": "code",
      "metadata": {
        "colab": {
          "base_uri": "https://localhost:8080/",
          "height": 303
        },
        "id": "dzSaQ5Hn2Zbm",
        "outputId": "eaca1f37-2b6b-45e4-b438-c243cd3cf40f"
      },
      "source": [
        "#Gráfica para visualizar los datos\r\n",
        "X = Counter_Strike[\"Players\"].values    #Con esto se forma un vector\r\n",
        "Y = Counter_Strike[\"Tournaments\"].values   # \r\n",
        "plt.scatter(X,Y)\r\n",
        "plt.xlabel('Jugadores'), plt.ylabel('Torneos')\r\n",
        "plt.title(\"Counter - Strike\", size=15)\r\n",
        "plt.show()"
      ],
      "execution_count": 125,
      "outputs": [
        {
          "output_type": "display_data",
          "data": {
            "image/png": "[encoded data removed]",
            "text/plain": [
              "<Figure size 432x288 with 1 Axes>"
            ]
          },
          "metadata": {
            "tags": []
          }
        }
      ]
    },
    {
      "cell_type": "markdown",
      "metadata": {
        "id": "QPSaxgH62bcM"
      },
      "source": [
        "Notamos que los datos parecieran tener una correlación positiva, implementemos un algoritmo de regresión lineal con Machine Learning para analizar esto a detalle, desde Scratch:\r\n"
      ]
    },
    {
      "cell_type": "markdown",
      "metadata": {
        "id": "RLu51ob62ei-"
      },
      "source": [
        "#### 1) Separar los datos de entrenamiento a los de test"
      ]
    },
    {
      "cell_type": "code",
      "metadata": {
        "id": "s5sW3T8H2ZYy"
      },
      "source": [
        "def separacionDatos(X,Y,tamanhoTest=0.2): #Para el entrenamiento\r\n",
        "    m = Y.size #Número de datos que tenemos (Puede ser X)\r\n",
        "    \r\n",
        "    #Tomo valores para el índice Test, cuantos van a test\r\n",
        "    testTamanho = int(m*tamanhoTest)  #Por qué no nos puede tomar un valor flotante, son datos\r\n",
        "    \r\n",
        "    #Indices para el Test, te regresa los que usamos para test\r\n",
        "    indicesTest = np.random.choice(m,testTamanho) #Elige aleatoriamente ciertos elementos, de esos m elementos de testTamanho\r\n",
        "    \r\n",
        "    #Indices para el entramiento, quito los del test y me quedo con los del entrenamiento\r\n",
        "    indicesEntrenamiento = np.setdiff1d(np.arange(m),indicesTest)   #Nos hace como una resta de que elementos de una lista  no estan en la segunda lista\r\n",
        "    \r\n",
        "    \r\n",
        "    #Separamos las datos en 4 grupos\r\n",
        "    return X[indicesTest], Y[indicesTest], X[indicesEntrenamiento], Y[indicesEntrenamiento]"
      ],
      "execution_count": 129,
      "outputs": []
    },
    {
      "cell_type": "markdown",
      "metadata": {
        "id": "XRK9rU4M2hFU"
      },
      "source": [
        "#### 2) Función de hipótesis"
      ]
    },
    {
      "cell_type": "code",
      "metadata": {
        "id": "VFzrp-gY2ZV8"
      },
      "source": [
        "def funcionHipotesis(X,theta):\r\n",
        "    h = X @ theta #@ es un forma de multiplicar vector por vector\r\n",
        "    return h"
      ],
      "execution_count": 130,
      "outputs": []
    },
    {
      "cell_type": "markdown",
      "metadata": {
        "id": "CVrQtxlq2hvr"
      },
      "source": [
        "#### 3) Función de costos"
      ]
    },
    {
      "cell_type": "code",
      "metadata": {
        "id": "EI8Gw1fc2oZa"
      },
      "source": [
        "def funcionCosto(X,Y,theta): #Que sea convenxa\r\n",
        "    \r\n",
        "    h = funcionHipotesis(X,theta) #Nos va a regresar un vector\r\n",
        "    m = Y.size                  #En este ejemplo es 97\r\n",
        "    variableDump = h - Y        #Lo que va adentro del parentesis\r\n",
        "    j = (variableDump @ variableDump)/(2*m)    \r\n",
        "    return j"
      ],
      "execution_count": 131,
      "outputs": []
    },
    {
      "cell_type": "markdown",
      "metadata": {
        "id": "ZD9Rmznt2ryA"
      },
      "source": [
        "#### 4) Funcion de Gradiente"
      ]
    },
    {
      "cell_type": "code",
      "metadata": {
        "id": "_18xVPL52pLX"
      },
      "source": [
        "def gradienteCostos(X,Y,theta):   #Para saber como es la pendiente en cada punto, para iterar de una manera acertada\r\n",
        "    m = Y.size\r\n",
        "    h = funcionHipotesis(X,theta)\r\n",
        "    dj = ((h-Y)@ X)/m #Derivada de la función de costos\r\n",
        "    return dj"
      ],
      "execution_count": 132,
      "outputs": []
    },
    {
      "cell_type": "markdown",
      "metadata": {
        "id": "g8mXQstk2vmB"
      },
      "source": [
        "#### Función gradiente de descensos"
      ]
    },
    {
      "cell_type": "code",
      "metadata": {
        "id": "reiv7jfH2pIM"
      },
      "source": [
        "def gradienteDescenso(X,Y,alpha,E=0.001): #El error es para saber que tanto se separan las iteraciones, si la iteración ya es menor que el error ya se acepta\r\n",
        "    m = Y.size\r\n",
        "    X = np.hstack([np.ones([m,1]),X])  #Es el valor que multiplica a theta 1\r\n",
        "    n = X.shape[1]\r\n",
        "    theta = np.zeros([n])     #Lo inicializamos como queramos, con aletorios o ceros\r\n",
        "    \r\n",
        "    costoAnterior = funcionCosto(X,Y,theta)  #La función de costo manda a llamar a la función de hipotesis a la vez\r\n",
        "    theta = theta-alpha*gradienteCostos(X,Y,theta)\r\n",
        "    costoActual = funcionCosto(X,Y,theta) #Volvemos a tomar la función \r\n",
        "    \r\n",
        "    diferenciaCostos = abs(costoActual - costoAnterior) \r\n",
        "    #if diferenciaCostos == E\r\n",
        "    numIteraciones = [0,1]\r\n",
        "    yCostos = [costoAnterior, costoActual]\r\n",
        "    i = 2\r\n",
        "    \r\n",
        "    while diferenciaCostos > E: #Mientras no converga, es decir que la derivada sea diferente de cero\r\n",
        "        costoAnterior = funcionCosto(X,Y,theta)\r\n",
        "        theta = theta-alpha*gradienteCostos(X,Y,theta)\r\n",
        "        costoActual = funcionCosto(X,Y,theta) #Volvemos a tomar la función\r\n",
        "        \r\n",
        "        diferenciaCostos = abs(costoActual - costoAnterior) \r\n",
        "        \r\n",
        "        numIteraciones.append(i) #Nuestra lista de contadores\r\n",
        "        yCostos.append(costoActual)\r\n",
        "        i = i+1\r\n",
        "        \r\n",
        "    plt.plot(numIteraciones, yCostos)\r\n",
        "    plt.title('Función de costo con respecto a las iteraciones')\r\n",
        "    plt.xlabel('Iteraciones')\r\n",
        "    plt.ylabel('Costo')\r\n",
        "    print('El último costo es: ', yCostos[-1])\r\n",
        "    plt.show()\r\n",
        "    \r\n",
        "    return theta"
      ],
      "execution_count": 134,
      "outputs": []
    },
    {
      "cell_type": "markdown",
      "metadata": {
        "id": "nm3magVa2z3C"
      },
      "source": [
        "#### Llamamos a las funciones"
      ]
    },
    {
      "cell_type": "code",
      "metadata": {
        "colab": {
          "base_uri": "https://localhost:8080/",
          "height": 320
        },
        "id": "pmmeN-Ip2pD-",
        "outputId": "d1d03cb8-f02a-439c-8024-1a4ebaaf364a"
      },
      "source": [
        "alpha=0.000001\r\n",
        "X = X.reshape([Y.size,1])  #Si hace falta rellenalo con uno\r\n",
        "\r\n",
        "#Separación entre test y training\r\n",
        "xTest, yTest, xEntrenamiento, yEntrenamiento =separacionDatos(X,Y)\r\n",
        "theta = gradienteDescenso(xEntrenamiento, yEntrenamiento, alpha)"
      ],
      "execution_count": 135,
      "outputs": [
        {
          "output_type": "stream",
          "text": [
            "El último costo es:  67.42189815795852\n"
          ],
          "name": "stdout"
        },
        {
          "output_type": "display_data",
          "data": {
            "image/png": "[encoded data removed]",
            "text/plain": [
              "<Figure size 432x288 with 1 Axes>"
            ]
          },
          "metadata": {
            "tags": []
          }
        }
      ]
    },
    {
      "cell_type": "markdown",
      "metadata": {
        "id": "DKGLC5k-21uj"
      },
      "source": [
        "#### Gráfica para visualizar los datos"
      ]
    },
    {
      "cell_type": "code",
      "metadata": {
        "colab": {
          "base_uri": "https://localhost:8080/",
          "height": 303
        },
        "id": "iEUuS1lb2-Em",
        "outputId": "0e0d098f-81c8-4d02-bac8-cef0f6506e64"
      },
      "source": [
        "X = Counter_Strike['Players'].values    #Con esto se forma un vector\r\n",
        "Y = Counter_Strike['Tournaments'].values   # \r\n",
        "plt.scatter(X,Y)\r\n",
        "\r\n",
        "x = np.linspace(0,1750,10)\r\n",
        "y = theta[0] + theta[1]*x\r\n",
        "plt.plot(x,y,'r')\r\n",
        "plt.xlabel('Jugadores'), plt.ylabel('Torneos')\r\n",
        "plt.title('Counter Strike', size=15)\r\n",
        "plt.show()"
      ],
      "execution_count": 136,
      "outputs": [
        {
          "output_type": "display_data",
          "data": {
            "image/png": "[encoded data removed]",
            "text/plain": [
              "<Figure size 432x288 with 1 Axes>"
            ]
          },
          "metadata": {
            "tags": []
          }
        }
      ]
    },
    {
      "cell_type": "code",
      "metadata": {
        "colab": {
          "base_uri": "https://localhost:8080/"
        },
        "id": "H7Gi0eHV3Ap3",
        "outputId": "c6900ef0-308d-4454-f1bf-8d441fd0b2c1"
      },
      "source": [
        "#Predecir el valor de algun dato en nuestro test Set\r\n",
        "#Sólo está tomando los valores del test, no los noventa datos \r\n",
        "print('El valor en x es: ' + format(xTest[10])) \r\n",
        "print('El valor en y es: ' + format(yTest[10]))\r\n",
        "yPredicho = theta[0]+theta[1]*xTest[10]\r\n",
        "print('El valor predicho de y es: ' + format(yPredicho))"
      ],
      "execution_count": 137,
      "outputs": [
        {
          "output_type": "stream",
          "text": [
            "El valor en x es: [625.]\n",
            "El valor en y es: 66.0\n",
            "El valor predicho de y es: [49.858529]\n"
          ],
          "name": "stdout"
        }
      ]
    },
    {
      "cell_type": "markdown",
      "metadata": {
        "id": "PoMz5Ysv3D6X"
      },
      "source": [
        "# Algoritmo para conocer la regresión lineal con sklearn"
      ]
    },
    {
      "cell_type": "code",
      "metadata": {
        "colab": {
          "base_uri": "https://localhost:8080/",
          "height": 364
        },
        "id": "uPucPnFO3FlO",
        "outputId": "fdc75a20-31d8-4401-bc8e-0ba1b9e99ab6"
      },
      "source": [
        "from sklearn.linear_model import LinearRegression\r\n",
        "from sklearn.metrics import r2_score \r\n",
        "#R_sq = .score(X,Y) \r\n",
        "\r\n",
        "X = Counter_Strike[\"Players\"].values.reshape(-1,1)\r\n",
        "Y = Counter_Strike[\"Tournaments\"].values.reshape(-1,1)\r\n",
        "\r\n",
        "\r\n",
        "modeloDeRegresion = LinearRegression() #\r\n",
        "modeloDeRegresion.fit(X,Y) #Aquí lo entrenamos\r\n",
        "theta1 = modeloDeRegresion.coef_[0][0]   #Theta cero\r\n",
        "theta0 = modeloDeRegresion.intercept_[0] #Theta uno\r\n",
        "R_sq = modeloDeRegresion.score(X,Y) \r\n",
        "\r\n",
        "\r\n",
        "yPredicha = modeloDeRegresion.predict(X) #Aquí vemos si ya salió \r\n",
        "\r\n",
        "\r\n",
        "plt.scatter(Counter_Strike[\"Players\"],Counter_Strike[\"Tournaments\"], label = 'Datos', \r\n",
        "            c = Counter_Strike[\"Earnings\"], cmap = 'winter')\r\n",
        "plt.colorbar(label= 'Ganancias en mdd')\r\n",
        "plt.plot(X,yPredicha, 'r',  label='Ajuste lineal \\n y = $0.078(x) + 1.16 $ \\n $R^2$ = 0.885')\r\n",
        "\r\n",
        "plt.xlabel('Jugadores ',fontsize = 15) \r\n",
        "plt.ylabel('Torneos',fontsize = 15) \r\n",
        "plt.title('Counter - Strike', fontsize = 20)\r\n",
        "plt.legend()\r\n",
        "plt.show()\r\n",
        "\r\n",
        "print(theta0)\r\n",
        "print(theta1)\r\n",
        "print(R_sq)"
      ],
      "execution_count": 138,
      "outputs": [
        {
          "output_type": "display_data",
          "data": {
            "image/png": "[encoded data removed]",
            "text/plain": [
              "<Figure size 432x288 with 2 Axes>"
            ]
          },
          "metadata": {
            "tags": []
          }
        },
        {
          "output_type": "stream",
          "text": [
            "1.1611284376790039\n",
            "0.07879115225381242\n",
            "0.8850902168498156\n"
          ],
          "name": "stdout"
        }
      ]
    },
    {
      "cell_type": "markdown",
      "metadata": {
        "id": "cGKjh_TV3Nez"
      },
      "source": [
        "#### Efectivamente estás dos variables están inequívocamente relacionadas, salvo algunos valores atípicos.\r\n",
        "\r\n",
        "#### Lo que nos reitera que la cantidad de jugadores a hecho que crezca el número de torneos, hemos llegado a esta conclusión basándonos en nuestro proyecto anterior y aplicando técnicas de ML, nuestra hipótesis será ahora reforzada utilizando el Dataframe que elaboramos durante el módulo 3 con datos de los enfrentamientos."
      ]
    },
    {
      "cell_type": "markdown",
      "metadata": {
        "id": "Tdl_uiku3QpC"
      },
      "source": [
        "### Nota:\r\n",
        "\r\n",
        "<p align=\"center\">\r\n",
        "<img src=\"https://upload.wikimedia.org/wikipedia/commons/thumb/1/17/Warning.svg/1109px-Warning.svg.png\"  height =\"150\" width = \"200\" alt=warning>\r\n",
        "</p>\r\n",
        "\r\n",
        "\r\n",
        "Se recomienda utilizar las siguientes líneas de código a menos que sea estrictamente necesario, esto debido a que con las peticiones a la API anteriores se llegaron a consumir hasta 950 de los 1000 intentos por hora y la API siempre se esta actualizando. Para evitar problemas seguiremos trabajando con _csgo matches_ pero de haberse perdido el dataframe y si transcurrió 1 hora entres las peticiones, es complamente seguro ejecutar el código."
      ]
    },
    {
      "cell_type": "code",
      "metadata": {
        "id": "c1Fy_oh53_59"
      },
      "source": [
        "#Funciones necesarias para llamar al dataframe desde la API\r\n",
        "import pandas as pd \r\n",
        "import math as mt\r\n",
        "from datetime import *\r\n",
        "import requests \r\n",
        "\r\n",
        "def PandaScore_get_matches(juego): #Definimos nuestra función\r\n",
        "    if isinstance(juego, str): #Nos aseguramos que los argumentos sean de tipo str\r\n",
        "        informacion = 'matches'\r\n",
        "        registros = 100 #Establecemos el número de registros por página\r\n",
        "        token = 'V3U1fnnWozJi3bbhZfrxdiAmN4-XWnX_4g6i_6iauwwh7w-V8Ns' #Token de acceso\r\n",
        "        url = f\"https://api.pandascore.co/{juego}/{informacion}?page[size]={registros}&token={token}\" #URL con los parámetros deseados\r\n",
        "        response = requests.get(url) #Realizamos la petición\r\n",
        "        if response.status_code == 200: #Si todo salió bien continuamos\r\n",
        "            Iteraciones = mt.ceil(float(response.headers['X-Total'])/registros) #Calculamos el número de páginas en base a todos los registros que hay en la API\r\n",
        "            #Al dividir el número total de registros entre los registros solicitados obtenemos un aproximado, para asegurar que tomaremos todos, redondeamos al entero más alto\r\n",
        "            for i in range(1,Iteraciones+1): #Ciclo for para obtener todos los registros de cada página\r\n",
        "                url = f\"https://api.pandascore.co/{juego}/{informacion}?page[size]={registros}&page[number]={i}&token=V3U1fnnWozJi3bbhZfrxdiAmN4-XWnX_4g6i_6iauwwh7w-V8Ns\"\r\n",
        "                #URL el parámetro de página deseada\r\n",
        "                response = requests.get(url) #Realizamos la petición correspondiente\r\n",
        "                data = response.json() #Transformamos la respuesta \r\n",
        "                if i == 1: #En la primer iteración se crea un Dataframe\r\n",
        "                    df_matches = pd.DataFrame.from_dict(data)\r\n",
        "                else: #En el resto de iteraciones se van añadiendo los nuevos registros\r\n",
        "                    df_matches = df_matches.append(pd.DataFrame.from_dict(data),ignore_index=True)                    \r\n",
        "            return df_matches # Finalmente se devuelve el Dataframe con todos los registros limpios y ordenados\r\n",
        "        else: #Si la petición no se ejecutó correctamente mandamos un mensaje con el error devuelto\r\n",
        "            return 'Error de petición: '+str(response.status_code)  \r\n",
        "    else: #Si los argumentos no son de tipo str regresamos un mensaje\r\n",
        "        return 'Por favor coloque un argumento válido en formato string.'\r\n",
        "\r\n",
        "\r\n",
        "\r\n",
        "def df_matches_clean(df_matches):\r\n",
        "  ########### Limpieza de datos\r\n",
        "   campos_no_deseados = ['videogame', 'slug', 'tournament', 'league', 'serie', 'streams', 'modified_at', 'games',\r\n",
        "                      'game_advantage', 'scheduled_at', 'original_scheduled_at', 'detailed_stats','live',\r\n",
        "                      'match_type', 'videogame_version', 'live_embed_url', 'id'] \r\n",
        "\r\n",
        "   df_matches_temp = df_matches.drop(columns=campos_no_deseados) #Limpiamos campos que no nos son de utilidad\r\n",
        "   df_matches_finished = df_matches_temp[ df_matches_temp['status'] == 'finished' ] #Dejamos solo los enfrentamientos que han terminado\r\n",
        "   df_matches_finished_clean = df_matches_finished.dropna(subset=['begin_at', 'end_at']) #Eliminamos algunos valores nulos de las fechas\r\n",
        "   df_matches_ordenado = df_matches_finished_clean[['name','opponents','results','forfeit','draw', #Reorganizamos los campos\r\n",
        "                                                      'number_of_games','winner','winner_id','begin_at','end_at', \r\n",
        "                                                      'rescheduled','official_stream_url','league_id', 'serie_id', 'tournament_id']]\r\n",
        "   df_matches_ordenado = df_matches_ordenado.reset_index(drop=True) #Reseteamos el índice\r\n",
        "   nombres_nuevos = {'name' : 'match_name',\r\n",
        "                             'begin_at' : 'begin_date',\r\n",
        "                             'end_at' : 'end_date',\r\n",
        "                             'official_stream_url' : 'official_stream_channel_url'}                       \r\n",
        "   df_matches_ordenado.rename(columns=nombres_nuevos, inplace=True) #Renombramos columnas \r\n",
        "   return df_matches_ordenado\r\n",
        "\r\n",
        "def winner_team(serie):\r\n",
        "    if serie == None:\r\n",
        "        return 'Undefined'\r\n",
        "    else: return serie['name']\r\n",
        "\r\n",
        "def loser_team(df):\r\n",
        "    losers = []\r\n",
        "    for i in range(0,len(df)):\r\n",
        "        ganador = df['winner_team'][i]\r\n",
        "        equipo = df['opponents'][i][0]['opponent']['name']\r\n",
        "        if ganador == 'Undefined':\r\n",
        "           losers.append('Undefined')\r\n",
        "        elif equipo == ganador:\r\n",
        "           losers.append(df['opponents'][i][1]['opponent']['name'])  \r\n",
        "        elif equipo != ganador: \r\n",
        "           losers.append(df['opponents'][i][0]['opponent']['name'] )\r\n",
        "    return pd.Series(losers,index=df.index)\r\n",
        "\r\n",
        "def team_scores(df):\r\n",
        "    losers_score = []\r\n",
        "    winners_score = []\r\n",
        "    for i in range(0,len(df)):\r\n",
        "        ganador_id = df['winner_id'][i]\r\n",
        "        equipo1_id = df['results'][i][0].get('team_id')\r\n",
        "        equipo2_id = df['results'][i][1].get('team_id')\r\n",
        "        if ganador_id == 0:\r\n",
        "            winner_score = 0\r\n",
        "            loser_score = 0\r\n",
        "        elif equipo1_id == ganador_id:\r\n",
        "            winner_score = df['results'][i][0].get('score')\r\n",
        "            loser_score = df['results'][i][1].get('score')\r\n",
        "        else:\r\n",
        "            winner_score = df['results'][i][1].get('score')\r\n",
        "            loser_score = df['results'][i][0].get('score')\r\n",
        "        winners_score.append(winner_score)    \r\n",
        "        losers_score.append(loser_score)\r\n",
        "    return [pd.Series(winners_score,index=df.index), pd.Series(losers_score,index=df.index) ]\r\n",
        "\r\n",
        "def matches_shiny(juego_matches):\r\n",
        "    juego_matches['winner_team'] = juego_matches['winner'].map(winner_team)\r\n",
        "    juego_matches['loser_team'] = loser_team(juego_matches)  \r\n",
        "    juego_matches['winner_id'] = juego_matches['winner_id'].fillna(0)\r\n",
        "    juego_matches['official_stream_channel_url'] = juego_matches['official_stream_channel_url'].fillna('Not Provided')\r\n",
        "    juego_matches['winner_id'] = juego_matches['winner_id'].astype(int)\r\n",
        "    [winner_score,loser_score] = team_scores(juego_matches)\r\n",
        "    juego_matches['winner_score'] = winner_score\r\n",
        "    juego_matches['loser_score'] = loser_score\r\n",
        "    campos_no_deseados = ['results','winner','opponents','winner_id']\r\n",
        "    juego_matches = juego_matches.drop(columns=campos_no_deseados)\r\n",
        "    juego_matches['begin_date'] = juego_matches['begin_date'].apply(datetime.strptime, args=('%Y-%m-%dT%H:%M:%SZ',))\r\n",
        "    juego_matches['end_date'] = juego_matches['end_date'].apply(datetime.strptime, args=('%Y-%m-%dT%H:%M:%SZ',))\r\n",
        "    ljuego_matches = juego_matches.sort_values('begin_date', ascending=True)\r\n",
        "    juego_matches = juego_matches.reset_index(drop=True)\r\n",
        "    return juego_matches   "
      ],
      "execution_count": null,
      "outputs": []
    },
    {
      "cell_type": "code",
      "metadata": {
        "id": "v2ZCFRpm4A6d"
      },
      "source": [
        "csgo_matches_raw = PandaScore_get_matches('csgo')\r\n",
        "csgo_matches_sin_nones = df_matches_clean(csgo_matches_raw)\r\n",
        "csgo_matches = matches_shiny(csgo_matches_sin_nones)"
      ],
      "execution_count": null,
      "outputs": []
    },
    {
      "cell_type": "markdown",
      "metadata": {
        "id": "wB2Ze2LZ4Z1K"
      },
      "source": [
        "### Fin de la zona de peligro\r\n",
        "\r\n",
        "Llamemos al Dataframe que contiene información sobre los enfrentamientos de CSGO:"
      ]
    },
    {
      "cell_type": "code",
      "metadata": {
        "colab": {
          "base_uri": "https://localhost:8080/",
          "height": 826
        },
        "id": "a-P7fxmi4dXb",
        "outputId": "a3455693-0c3c-4380-8129-9ae5ef5e39a1"
      },
      "source": [
        "csgo_matches"
      ],
      "execution_count": 139,
      "outputs": [
        {
          "output_type": "execute_result",
          "data": {
            "text/html": [
              "<div>\n",
              "<style scoped>\n",
              "    .dataframe tbody tr th:only-of-type {\n",
              "        vertical-align: middle;\n",
              "    }\n",
              "\n",
              "    .dataframe tbody tr th {\n",
              "        vertical-align: top;\n",
              "    }\n",
              "\n",
              "    .dataframe thead th {\n",
              "        text-align: right;\n",
              "    }\n",
              "</style>\n",
              "<table border=\"1\" class=\"dataframe\">\n",
              "  <thead>\n",
              "    <tr style=\"text-align: right;\">\n",
              "      <th></th>\n",
              "      <th>match_name</th>\n",
              "      <th>forfeit</th>\n",
              "      <th>draw</th>\n",
              "      <th>number_of_games</th>\n",
              "      <th>begin_date</th>\n",
              "      <th>end_date</th>\n",
              "      <th>rescheduled</th>\n",
              "      <th>official_stream_channel_url</th>\n",
              "      <th>league_id</th>\n",
              "      <th>serie_id</th>\n",
              "      <th>tournament_id</th>\n",
              "      <th>winner_team</th>\n",
              "      <th>loser_team</th>\n",
              "      <th>winner_score</th>\n",
              "      <th>loser_score</th>\n",
              "      <th>minutos_partidas</th>\n",
              "    </tr>\n",
              "  </thead>\n",
              "  <tbody>\n",
              "    <tr>\n",
              "      <th>0</th>\n",
              "      <td>Quarterfinal 4: Oceanus vs Pryde</td>\n",
              "      <td>False</td>\n",
              "      <td>False</td>\n",
              "      <td>3</td>\n",
              "      <td>2021-03-09 02:16:27</td>\n",
              "      <td>2021-03-09 04:52:18</td>\n",
              "      <td>False</td>\n",
              "      <td>Not Provided</td>\n",
              "      <td>4321</td>\n",
              "      <td>3420</td>\n",
              "      <td>5654</td>\n",
              "      <td>Pryde</td>\n",
              "      <td>Oceanus</td>\n",
              "      <td>2</td>\n",
              "      <td>1</td>\n",
              "      <td>51.950</td>\n",
              "    </tr>\n",
              "    <tr>\n",
              "      <th>1</th>\n",
              "      <td>Quarterfinal 3: Secret Club vs The Commission</td>\n",
              "      <td>False</td>\n",
              "      <td>False</td>\n",
              "      <td>3</td>\n",
              "      <td>2021-03-09 01:30:32</td>\n",
              "      <td>2021-03-09 04:34:01</td>\n",
              "      <td>False</td>\n",
              "      <td>Not Provided</td>\n",
              "      <td>4321</td>\n",
              "      <td>3420</td>\n",
              "      <td>5654</td>\n",
              "      <td>Secret Club</td>\n",
              "      <td>The Commission</td>\n",
              "      <td>2</td>\n",
              "      <td>1</td>\n",
              "      <td>61.161</td>\n",
              "    </tr>\n",
              "    <tr>\n",
              "      <th>2</th>\n",
              "      <td>Quarterfinal 2: Team Unknown vs RBG</td>\n",
              "      <td>False</td>\n",
              "      <td>False</td>\n",
              "      <td>3</td>\n",
              "      <td>2021-03-09 01:09:42</td>\n",
              "      <td>2021-03-09 02:20:00</td>\n",
              "      <td>False</td>\n",
              "      <td>Not Provided</td>\n",
              "      <td>4321</td>\n",
              "      <td>3420</td>\n",
              "      <td>5654</td>\n",
              "      <td>RBG</td>\n",
              "      <td>Team Unknown</td>\n",
              "      <td>2</td>\n",
              "      <td>0</td>\n",
              "      <td>23.433</td>\n",
              "    </tr>\n",
              "    <tr>\n",
              "      <th>3</th>\n",
              "      <td>Quarterfinal 1: Levitate vs Rebirth Esports</td>\n",
              "      <td>False</td>\n",
              "      <td>False</td>\n",
              "      <td>3</td>\n",
              "      <td>2021-03-09 01:09:40</td>\n",
              "      <td>2021-03-09 02:28:31</td>\n",
              "      <td>False</td>\n",
              "      <td>Not Provided</td>\n",
              "      <td>4321</td>\n",
              "      <td>3420</td>\n",
              "      <td>5654</td>\n",
              "      <td>Rebirth Esports</td>\n",
              "      <td>Levitate</td>\n",
              "      <td>2</td>\n",
              "      <td>0</td>\n",
              "      <td>26.283</td>\n",
              "    </tr>\n",
              "    <tr>\n",
              "      <th>4</th>\n",
              "      <td>Third Impact vs ImPerium</td>\n",
              "      <td>False</td>\n",
              "      <td>False</td>\n",
              "      <td>3</td>\n",
              "      <td>2021-03-09 02:17:22</td>\n",
              "      <td>2021-03-09 04:08:20</td>\n",
              "      <td>False</td>\n",
              "      <td>Not Provided</td>\n",
              "      <td>4243</td>\n",
              "      <td>3308</td>\n",
              "      <td>5425</td>\n",
              "      <td>Third Impact</td>\n",
              "      <td>ImPerium</td>\n",
              "      <td>2</td>\n",
              "      <td>0</td>\n",
              "      <td>36.989</td>\n",
              "    </tr>\n",
              "    <tr>\n",
              "      <th>...</th>\n",
              "      <td>...</td>\n",
              "      <td>...</td>\n",
              "      <td>...</td>\n",
              "      <td>...</td>\n",
              "      <td>...</td>\n",
              "      <td>...</td>\n",
              "      <td>...</td>\n",
              "      <td>...</td>\n",
              "      <td>...</td>\n",
              "      <td>...</td>\n",
              "      <td>...</td>\n",
              "      <td>...</td>\n",
              "      <td>...</td>\n",
              "      <td>...</td>\n",
              "      <td>...</td>\n",
              "      <td>...</td>\n",
              "    </tr>\n",
              "    <tr>\n",
              "      <th>15121</th>\n",
              "      <td>Astralis vs North</td>\n",
              "      <td>False</td>\n",
              "      <td>False</td>\n",
              "      <td>3</td>\n",
              "      <td>2017-10-26 11:45:00</td>\n",
              "      <td>2017-10-26 14:12:00</td>\n",
              "      <td>False</td>\n",
              "      <td>Not Provided</td>\n",
              "      <td>4156</td>\n",
              "      <td>1562</td>\n",
              "      <td>1698</td>\n",
              "      <td>Astralis</td>\n",
              "      <td>North</td>\n",
              "      <td>2</td>\n",
              "      <td>0</td>\n",
              "      <td>49.000</td>\n",
              "    </tr>\n",
              "    <tr>\n",
              "      <th>15122</th>\n",
              "      <td>Semifinals 1: SK vs Astralis</td>\n",
              "      <td>False</td>\n",
              "      <td>False</td>\n",
              "      <td>3</td>\n",
              "      <td>2017-10-28 09:50:00</td>\n",
              "      <td>2017-10-28 12:41:00</td>\n",
              "      <td>False</td>\n",
              "      <td>Not Provided</td>\n",
              "      <td>4156</td>\n",
              "      <td>1562</td>\n",
              "      <td>1518</td>\n",
              "      <td>SK</td>\n",
              "      <td>Astralis</td>\n",
              "      <td>2</td>\n",
              "      <td>0</td>\n",
              "      <td>57.000</td>\n",
              "    </tr>\n",
              "    <tr>\n",
              "      <th>15123</th>\n",
              "      <td>Semifinals 2: G2 vs Virtus.pro</td>\n",
              "      <td>False</td>\n",
              "      <td>False</td>\n",
              "      <td>3</td>\n",
              "      <td>2017-10-28 13:50:00</td>\n",
              "      <td>2017-10-28 16:25:00</td>\n",
              "      <td>False</td>\n",
              "      <td>Not Provided</td>\n",
              "      <td>4156</td>\n",
              "      <td>1562</td>\n",
              "      <td>1518</td>\n",
              "      <td>Virtus.pro</td>\n",
              "      <td>G2</td>\n",
              "      <td>2</td>\n",
              "      <td>1</td>\n",
              "      <td>51.667</td>\n",
              "    </tr>\n",
              "    <tr>\n",
              "      <th>15124</th>\n",
              "      <td>3rd Place Match: Astralis vs G2</td>\n",
              "      <td>False</td>\n",
              "      <td>False</td>\n",
              "      <td>3</td>\n",
              "      <td>2017-10-29 09:30:00</td>\n",
              "      <td>2017-10-29 12:15:00</td>\n",
              "      <td>False</td>\n",
              "      <td>Not Provided</td>\n",
              "      <td>4156</td>\n",
              "      <td>1562</td>\n",
              "      <td>1518</td>\n",
              "      <td>G2</td>\n",
              "      <td>Astralis</td>\n",
              "      <td>2</td>\n",
              "      <td>1</td>\n",
              "      <td>55.000</td>\n",
              "    </tr>\n",
              "    <tr>\n",
              "      <th>15125</th>\n",
              "      <td>Grand Final: SK vs Virtus.pro</td>\n",
              "      <td>False</td>\n",
              "      <td>False</td>\n",
              "      <td>5</td>\n",
              "      <td>2017-10-29 13:55:00</td>\n",
              "      <td>2017-10-29 18:22:00</td>\n",
              "      <td>False</td>\n",
              "      <td>Not Provided</td>\n",
              "      <td>4156</td>\n",
              "      <td>1562</td>\n",
              "      <td>1518</td>\n",
              "      <td>SK</td>\n",
              "      <td>Virtus.pro</td>\n",
              "      <td>3</td>\n",
              "      <td>2</td>\n",
              "      <td>53.400</td>\n",
              "    </tr>\n",
              "  </tbody>\n",
              "</table>\n",
              "<p>15126 rows × 16 columns</p>\n",
              "</div>"
            ],
            "text/plain": [
              "                                          match_name  ...  minutos_partidas\n",
              "0                   Quarterfinal 4: Oceanus vs Pryde  ...            51.950\n",
              "1      Quarterfinal 3: Secret Club vs The Commission  ...            61.161\n",
              "2                Quarterfinal 2: Team Unknown vs RBG  ...            23.433\n",
              "3        Quarterfinal 1: Levitate vs Rebirth Esports  ...            26.283\n",
              "4                           Third Impact vs ImPerium  ...            36.989\n",
              "...                                              ...  ...               ...\n",
              "15121                              Astralis vs North  ...            49.000\n",
              "15122                   Semifinals 1: SK vs Astralis  ...            57.000\n",
              "15123                 Semifinals 2: G2 vs Virtus.pro  ...            51.667\n",
              "15124                3rd Place Match: Astralis vs G2  ...            55.000\n",
              "15125                  Grand Final: SK vs Virtus.pro  ...            53.400\n",
              "\n",
              "[15126 rows x 16 columns]"
            ]
          },
          "metadata": {
            "tags": []
          },
          "execution_count": 139
        }
      ]
    },
    {
      "cell_type": "markdown",
      "metadata": {
        "id": "xztJIKXi4l3u"
      },
      "source": [
        "Creemos un histórico con ayuda del campo _begin at_, empecemos creando un campo para los años: "
      ]
    },
    {
      "cell_type": "code",
      "metadata": {
        "id": "bG2x5eEw4lD3"
      },
      "source": [
        "csgo_matches['Year'] = csgo_matches.begin_date.dt.year"
      ],
      "execution_count": 143,
      "outputs": []
    },
    {
      "cell_type": "code",
      "metadata": {
        "colab": {
          "base_uri": "https://localhost:8080/"
        },
        "id": "LBQsyBgu4yjR",
        "outputId": "9faa597d-0d6d-40e0-f759-69cbb1ce3130"
      },
      "source": [
        "csgo_matches['Year']"
      ],
      "execution_count": 145,
      "outputs": [
        {
          "output_type": "execute_result",
          "data": {
            "text/plain": [
              "0        2021\n",
              "1        2021\n",
              "2        2021\n",
              "3        2021\n",
              "4        2021\n",
              "         ... \n",
              "15121    2017\n",
              "15122    2017\n",
              "15123    2017\n",
              "15124    2017\n",
              "15125    2017\n",
              "Name: Year, Length: 15126, dtype: int64"
            ]
          },
          "metadata": {
            "tags": []
          },
          "execution_count": 145
        }
      ]
    },
    {
      "cell_type": "markdown",
      "metadata": {
        "id": "FHHTaoXQ403P"
      },
      "source": [
        "Agrupemos el número de enfrentamientos del Dataframe por año para conocer el número de enfrentamientos anuales:"
      ]
    },
    {
      "cell_type": "code",
      "metadata": {
        "colab": {
          "base_uri": "https://localhost:8080/"
        },
        "id": "bbJ8ulgl40Ac",
        "outputId": "7688e55d-7095-42e6-8c18-5e74975efca8"
      },
      "source": [
        "enfrentamientos_por_año = csgo_matches.groupby(['Year']).size()\r\n",
        "enfrentamientos_por_año = list(enfrentamientos_por_año)\r\n",
        "enfrentamientos_por_año"
      ],
      "execution_count": 146,
      "outputs": [
        {
          "output_type": "execute_result",
          "data": {
            "text/plain": [
              "[441, 489, 1167, 2817, 8698, 1514]"
            ]
          },
          "metadata": {
            "tags": []
          },
          "execution_count": 146
        }
      ]
    },
    {
      "cell_type": "markdown",
      "metadata": {
        "id": "pz_W2A_I5D-N"
      },
      "source": [
        "Revisamos los equipos que ganaron anualmente para conocer la cantidad de equipos que participó en cada uno:"
      ]
    },
    {
      "cell_type": "code",
      "metadata": {
        "id": "5fHk-B5T5E20"
      },
      "source": [
        "import numpy as np\r\n",
        "\r\n",
        "equipos_por_año = csgo_matches.groupby(['Year'])['winner_team'].value_counts()\r\n",
        "numero_equipos = []\r\n",
        "for años in range(2016,2022):\r\n",
        "    numero= len(equipos_por_año[años])\r\n",
        "    numero_equipos.append(numero)\r\n",
        "\r\n",
        "participantes_enfrentamientos = np.array(numero_equipos)*5   # Los equipos de CS:GO son de 5 integrantes\r\n",
        "enfrentamientos_por_año = np.array(enfrentamientos_por_año)\r\n"
      ],
      "execution_count": 147,
      "outputs": []
    },
    {
      "cell_type": "markdown",
      "metadata": {
        "id": "uUMW82-F5Hs-"
      },
      "source": [
        "Creamos un dataframe que contendrá información para un segundo modelo que nos ayudará a probar la hipótesis de correlación positiva:"
      ]
    },
    {
      "cell_type": "code",
      "metadata": {
        "colab": {
          "base_uri": "https://localhost:8080/",
          "height": 237
        },
        "id": "N_SFr17H5G9z",
        "outputId": "822b2b4a-57ab-4453-ebdf-e5d81e0aa746"
      },
      "source": [
        "segundo_modelo = pd.DataFrame({ 'Matches' : enfrentamientos_por_año, 'Players':participantes_enfrentamientos}, index=[2016,2017,2018,2019,2020,2021])\r\n",
        "segundo_modelo"
      ],
      "execution_count": 148,
      "outputs": [
        {
          "output_type": "execute_result",
          "data": {
            "text/html": [
              "<div>\n",
              "<style scoped>\n",
              "    .dataframe tbody tr th:only-of-type {\n",
              "        vertical-align: middle;\n",
              "    }\n",
              "\n",
              "    .dataframe tbody tr th {\n",
              "        vertical-align: top;\n",
              "    }\n",
              "\n",
              "    .dataframe thead th {\n",
              "        text-align: right;\n",
              "    }\n",
              "</style>\n",
              "<table border=\"1\" class=\"dataframe\">\n",
              "  <thead>\n",
              "    <tr style=\"text-align: right;\">\n",
              "      <th></th>\n",
              "      <th>Matches</th>\n",
              "      <th>Players</th>\n",
              "    </tr>\n",
              "  </thead>\n",
              "  <tbody>\n",
              "    <tr>\n",
              "      <th>2016</th>\n",
              "      <td>441</td>\n",
              "      <td>160</td>\n",
              "    </tr>\n",
              "    <tr>\n",
              "      <th>2017</th>\n",
              "      <td>489</td>\n",
              "      <td>155</td>\n",
              "    </tr>\n",
              "    <tr>\n",
              "      <th>2018</th>\n",
              "      <td>1167</td>\n",
              "      <td>295</td>\n",
              "    </tr>\n",
              "    <tr>\n",
              "      <th>2019</th>\n",
              "      <td>2817</td>\n",
              "      <td>1545</td>\n",
              "    </tr>\n",
              "    <tr>\n",
              "      <th>2020</th>\n",
              "      <td>8698</td>\n",
              "      <td>2965</td>\n",
              "    </tr>\n",
              "    <tr>\n",
              "      <th>2021</th>\n",
              "      <td>1514</td>\n",
              "      <td>1470</td>\n",
              "    </tr>\n",
              "  </tbody>\n",
              "</table>\n",
              "</div>"
            ],
            "text/plain": [
              "      Matches  Players\n",
              "2016      441      160\n",
              "2017      489      155\n",
              "2018     1167      295\n",
              "2019     2817     1545\n",
              "2020     8698     2965\n",
              "2021     1514     1470"
            ]
          },
          "metadata": {
            "tags": []
          },
          "execution_count": 148
        }
      ]
    },
    {
      "cell_type": "markdown",
      "metadata": {
        "id": "OJrDNnzt5MjM"
      },
      "source": [
        "Lamentablemente por la forma en que se recolectaron los datos de la API tendremos datos desde el año 2016, probemos estos datos:"
      ]
    },
    {
      "cell_type": "code",
      "metadata": {
        "colab": {
          "base_uri": "https://localhost:8080/",
          "height": 364
        },
        "id": "dV78jHEe5NYg",
        "outputId": "57b012c5-629e-44b3-fe06-b82fae146288"
      },
      "source": [
        "#Algoritmo para conocer la regresión lineal\r\n",
        "from sklearn.linear_model import LinearRegression\r\n",
        "from sklearn.metrics import r2_score \r\n",
        "#R_sq = .score(X,Y) \r\n",
        "\r\n",
        "X = segundo_modelo[\"Players\"].values.reshape(-1,1)\r\n",
        "Y = segundo_modelo[\"Matches\"].values.reshape(-1,1)\r\n",
        "\r\n",
        "\r\n",
        "modeloDeRegresion = LinearRegression() #\r\n",
        "modeloDeRegresion.fit(X,Y) #Aquí lo entrenamos\r\n",
        "theta1 = modeloDeRegresion.coef_[0][0]   #Theta cero\r\n",
        "theta0 = modeloDeRegresion.intercept_[0] #Theta uno\r\n",
        "R_sq = modeloDeRegresion.score(X,Y) \r\n",
        "\r\n",
        "\r\n",
        "yPredicha = modeloDeRegresion.predict(X) #Aquí vemos si ya salió \r\n",
        "\r\n",
        "\r\n",
        "plt.scatter(segundo_modelo[\"Players\"],segundo_modelo[\"Matches\"], label = 'Datos')\r\n",
        "plt.plot(X,yPredicha, 'r',  label='Ajuste lineal \\n y = $2.6(x) - 339.41 $ \\n $R^2$ = 0.8537')\r\n",
        "\r\n",
        "plt.xlabel('Jugadores ',fontsize = 15) \r\n",
        "plt.ylabel('Enfrentamientos',fontsize = 15) \r\n",
        "plt.title('Counter - Strike', fontsize = 20)\r\n",
        "plt.legend()\r\n",
        "plt.show()\r\n",
        "\r\n",
        "print(theta0)\r\n",
        "print(theta1)\r\n",
        "print(R_sq)"
      ],
      "execution_count": 149,
      "outputs": [
        {
          "output_type": "display_data",
          "data": {
            "image/png": "[encoded data removed]",
            "text/plain": [
              "<Figure size 432x288 with 1 Axes>"
            ]
          },
          "metadata": {
            "tags": []
          }
        },
        {
          "output_type": "stream",
          "text": [
            "-339.31658014198365\n",
            "2.6042336086269957\n",
            "0.8538545512155394\n"
          ],
          "name": "stdout"
        }
      ]
    },
    {
      "cell_type": "markdown",
      "metadata": {
        "id": "YjGSeffW5SGG"
      },
      "source": [
        "!Observamos una correlación positiva nuevamente¡ :)"
      ]
    },
    {
      "cell_type": "markdown",
      "metadata": {
        "id": "xvaQ3VV75T1l"
      },
      "source": [
        "# Conclusiones\r\n",
        "\r\n",
        "Observando los resultados obtenido en los análisis de correlación, tanto para los jugadores que ha habido por número de torneos que obtuvimos de una segunda revisión a los datasets de nuestro proyecto anterior, como para los jugadores que ha habido por número de enfrentamientos que obtuvimos de la API PandaScore, podemos responder a la pregunta:\r\n",
        "\r\n",
        "**Los juegos que hoy en día son eSports, ¿lo seguirán siendo en el futuro?**\r\n",
        "\r\n",
        "La respuesta, al menos para Counter Strike: Global Offensive, es un rotundo sí. Encontramos que a lo largo de los años se (desde 2010 a 2020 para los torneos y de 2016 a 2021 para los enfrentamientos) CS:GO no ha dejado de atraer a participantes a sus eventos, la escena competitiva goza de buena salud a pesar de haber sufrido una caída en el año 2020.\r\n",
        "\r\n",
        "<p align=\"center\">\r\n",
        "<img src=\"https://lasclasesdetic1819g07com.files.wordpress.com/2019/01/counter-strike-upcoming-events-for-2017.jpg\"  height =\"250\" width = \"400\" alt=csgo>\r\n",
        "</p>"
      ]
    },
    {
      "cell_type": "markdown",
      "metadata": {
        "id": "IjcTQ1fltd69"
      },
      "source": [
        "## Referencias\r\n",
        "\r\n",
        "\r\n",
        "1.   Hodge V., Devlin S., Sephton N., Block F., Drachen A., Cowling P. (2017). Win\r\n",
        "prediction in eSports: mixed-rank match prediction in multi-player online battle arena games.\r\n",
        "Recuperado de: https://arxiv.org/abs/1711.06498.\r\n",
        "2.   Davenport, T.H. (2014). What businesses can learn from sports analytics. MIT Sloan, Management Review.\r\n",
        "3.   Iqbal, M. Twitch revenues and usage statistics. BusinessOfApps, Febrero 2019. Recuperado de: www.businessofapps.com/data/twitch-statistics.\r\n",
        "4.   Bozorgzadeh, A. (2017). Machine learning will be a game-changer for eSports. Venture Beat, Marzo 2017. Recuperado de: https://venturebeat.com/2017/03/11/machinelearning-will-be-a-game-changer-for-esports/.\r\n",
        "5.   Lam, S. eSports as a goldmine for data analytics. ComputerWorldHK, Octubre 2017. Recuperado de: https://www.cw.com.hk/data-management/esports-as-a-goldmine-for-data-analytics.\r\n",
        "6.   Joseph R, Travis F., Brett W. Northern Kentuchy University. E-Sports Analytics: A Primer and Resource for Student Research Projects and Lesson Plans. Journal of Instructional Pedagogies Volumen 23. Recuperado de: https://files.eric.ed.gov/fulltext/EJ1242004.pdf"
      ]
    }
  ]
}