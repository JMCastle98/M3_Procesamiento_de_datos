{
  "nbformat": 4,
  "nbformat_minor": 0,
  "metadata": {
    "colab": {
      "name": "Postwork_02_python.ipynb",
      "provenance": [],
      "collapsed_sections": [],
      "authorship_tag": "ABX9TyPQbtjw6lWzBnAFenHCyUb5",
      "include_colab_link": true
    },
    "kernelspec": {
      "name": "python3",
      "display_name": "Python 3"
    }
  },
  "cells": [
    {
      "cell_type": "markdown",
      "metadata": {
        "id": "view-in-github",
        "colab_type": "text"
      },
      "source": [
        "<a href=\"https://colab.research.google.com/github/LKXoro/BEDU-Rstudio-postworks/blob/main/M3_Postwork2/Postwork_02_python.ipynb\" target=\"_parent\"><img src=\"https://colab.research.google.com/assets/colab-badge.svg\" alt=\"Open In Colab\"/></a>"
      ]
    },
    {
      "cell_type": "markdown",
      "metadata": {
        "id": "N2oOY0fZFtLl"
      },
      "source": [
        "# Postwork 02: Planteamiento de preguntas\r\n",
        "\r\n",
        "Durante el módulo pasado nuestro [proyecto](https://github.com/LKXoro/BEDU-Rstudio-postworks/tree/main/Proyecto) estuvo relacionado con los eSports, de manera que pudimos responder algunas de las dudas que nos surgieron al inspeccionar [Datasets](https://github.com/LKXoro/BEDU-Rstudio-postworks/blob/main/Proyecto/Proyecto1/Readme.md) que obtuvimos en kaggle. La mayoría de estos se enfocan sustancialmente en dos aspectos de los eSports: **Gananacias y ganadores de torneos** (este último generalmente asociado a equipos profesionales).\r\n",
        "\r\n",
        "También hicimos uso de un Dataset con información de los _streamers_ de Twitch que nos permitió conocer información como el promedio de visitas o número de seguidores de los canales oficiales de algunos eSports.\r\n",
        "\r\n",
        "Nuestro proyecto anterior estaba enfocado a la evolución de los eSports en el tiempo, la escena actual y una posible predicción. Ahora que tenemos la oportunidad de revisar este tema nuevamente, buscamos concentrarnos otros aspectos como:\r\n",
        "\r\n",
        "* eSports que se transmiten por internet\r\n",
        "* El consumo de contenido relacionado a eSports\r\n",
        "* Duración de las competencias\r\n",
        "* Estado de salud de un videojuego considerado eSport\r\n",
        "\r\n",
        "Es decir, queremos hablar de los juegos que hoy en día son eSports y responder preguntas como:\r\n",
        "\r\n",
        "* Las partidas de eSports, ¿son enfrentamientos cortos o largos?\r\n",
        "* ¿Cuántos torneos se han jugado de un juego en específico?\r\n",
        "* ¿Cuántos torneos se han transmitido para que los fanáticos los vean?\r\n",
        "* ¿Cuánto contenido relacionado a eSports consumen los fánaticos?\r\n",
        "* ¿Los juegos que hoy en día son eSports los seguirán siendo en el futuro?\r\n",
        "\r\n",
        "Estas y muchas otras preguntas pueden surgir si miramos el panorama actual, no desde una perspectiva de producto, sino de consumo. Como se muestra en este [artículo](https://contenidos.news/mediciones/nota/twitch-alcanzo-picos-de-73-millones-de-horas-de-consumo-diario-de-contenido)  latinoamérica es uno de los principales consumidores de contenido online relacionado a eSports a nivel mundial, una prueba más de la estrecha relación entre el creciente alcance de los eSports y el papel de los fanáticos en su popularidad.  \r\n",
        "\r\n",
        "<p align=\"center\">\r\n",
        "<img src=\"https://contenidos.news/online/foto_189.jpg\" height =\"250\" width = \"400\" alt=eSports>\r\n",
        "</p>\r\n",
        "\r\n",
        "Para poder responder a las preguntas realizadas, será necesario un dataset que nos brinde información de las competencias y torneos que contenga datos de tiempo, es posible que debamos buscar nuevas fuentes de información o atacar los Datasets que ya utilizamos desde otro ángulo. Como mencionamos en la identificación del problema, una de las mejores fuentes de datos son las APIs, así que son un buen punto de partida para encontrar la información que necesitamos y de ser necesaria adecuadala a nuestros fines.\r\n",
        "\r\n",
        "\r\n",
        "\r\n",
        "\r\n",
        "\r\n",
        "\r\n"
      ]
    }
  ]
}