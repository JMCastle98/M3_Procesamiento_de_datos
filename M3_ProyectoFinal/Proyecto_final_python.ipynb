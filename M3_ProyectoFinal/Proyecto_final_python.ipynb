{
  "nbformat": 4,
  "nbformat_minor": 0,
  "metadata": {
    "colab": {
      "name": "Proyecto_final_python.ipynb",
      "provenance": [],
      "collapsed_sections": [],
      "authorship_tag": "ABX9TyOEu0mtjq+tZQ42/CZvcPjV",
      "include_colab_link": true
    },
    "kernelspec": {
      "name": "python3",
      "display_name": "Python 3"
    }
  },
  "cells": [
    {
      "cell_type": "markdown",
      "metadata": {
        "id": "view-in-github",
        "colab_type": "text"
      },
      "source": [
        "<a href=\"https://colab.research.google.com/github/LKXoro/BEDU-Rstudio-postworks/blob/main/M3_ProyectoFinal/Proyecto_final_python.ipynb\" target=\"_parent\"><img src=\"https://colab.research.google.com/assets/colab-badge.svg\" alt=\"Open In Colab\"/></a>"
      ]
    },
    {
      "cell_type": "markdown",
      "metadata": {
        "id": "3rIIJXK4KgmT"
      },
      "source": [
        "# Proyecto: Aportar un Dataset para el análisis de eSports y aplicaciones de ML"
      ]
    },
    {
      "cell_type": "markdown",
      "metadata": {
        "id": "1bSbztAxLAl4"
      },
      "source": [
        "Con la finalidad de aterrizar los conocimientos adquiridos durante este tercer módulo de _Procesamiento de datos con python_ nos dimos a la tarea de retomar algunos datos de nuestro proyecto anterior y obtener un modelo que podamos comparar utilizando nuestro Dataset que obtuvimos a partir de la API PandaScore. Como primer paso importamos las paqueterías que vamos a utilizar:"
      ]
    },
    {
      "cell_type": "code",
      "metadata": {
        "id": "_y8RThiTKfIa"
      },
      "source": [
        "import pandas as pd\r\n",
        "import numpy as np\r\n",
        "import matplotlib.pyplot as plt\r\n",
        "import seaborn as sns"
      ],
      "execution_count": null,
      "outputs": []
    },
    {
      "cell_type": "markdown",
      "metadata": {
        "id": "y_oWnQuhLU21"
      },
      "source": [
        "En el proyecto pasado empezamos con análisis generales de los dataset, en particular nos interesaba conocer los jugadores, torneos y ganancias a lo largo de los años. Una vez realizado esto, se entró a fondo en cada género de juegos y se investigó nuevamente, cuales son los que más atraen jugadores, torneos y ganancias.\r\n",
        "\r\n",
        "\r\n",
        "Gracias a los resultados obtenidos se tiene que los géneros más populares son:\r\n",
        "\r\n",
        "        1.-  Multiplayer Online Battle Arena - MOBA\r\n",
        "        2.-  First-Person Shooter - FBS\r\n",
        "        3.-  Battle Royal\r\n",
        "        4.-  Collectible Card - Cartas Coleccionables\r\n",
        "        5.-  Sports - Deportes\r\n",
        "\r\n",
        "\r\n",
        "De estos géneros, se obtiene que los principales juegos son:\r\n",
        "\r\n",
        "        1.-  Dota 2\r\n",
        "        2.-  Counter - Strike\r\n",
        "        3.-  Fornite\r\n",
        "        4.-  Hearthstone\r\n",
        "        5.-  Rocket League\r\n",
        "        \r\n",
        "        \r\n",
        "Empecemos el análisis observando el cambio de estos juegos a lo largo de los años, con las variables correspondientes a jugadores, torneos y ganancias."
      ]
    },
    {
      "cell_type": "code",
      "metadata": {
        "id": "0_ZOL59OLTVS"
      },
      "source": [
        "#Importamos los dataset\r\n",
        "esports = pd.read_csv(\"https://raw.githubusercontent.com/LKXoro/BEDU-Rstudio-postworks/main/Proyecto/DataSets/ESport_Earnings.csv\", encoding=\"ISO-8859-1\")\r\n",
        "historical = pd.read_csv(\"https://raw.githubusercontent.com/LKXoro/BEDU-Rstudio-postworks/main/Proyecto/DataSets/HistoricalEsportData.csv\",encoding=\"ISO-8859-1\")\r\n"
      ],
      "execution_count": null,
      "outputs": []
    },
    {
      "cell_type": "markdown",
      "metadata": {
        "id": "W2AQChWVLqLf"
      },
      "source": [
        "Ya que nos enfocamos en los esports y como han avanzado a lo largo de los años, uniremos los dataset correspondientes a historical y esports, para que nuestra información sea la misma que se reporta en los Esports."
      ]
    },
    {
      "cell_type": "code",
      "metadata": {
        "id": "KBvWJVg7MwQa"
      },
      "source": [
        "#Cambiamos el nombre de una de las columnas de los esports\r\n",
        "esports = esports.rename(columns = {\"GameName\":\"Game\"}) "
      ],
      "execution_count": null,
      "outputs": []
    },
    {
      "cell_type": "code",
      "metadata": {
        "colab": {
          "base_uri": "https://localhost:8080/"
        },
        "id": "GF8cRcbILq26",
        "outputId": "42a96774-0e8e-4f31-8b80-e5a033dcc91b"
      },
      "source": [
        "#Imprimimos carácteristicas de nuestros dataframe\r\n",
        "print(esports.shape)\r\n",
        "print(esports.info(), \"\\n\")\r\n",
        "print(historical.shape)\r\n",
        "print(historical.info())"
      ],
      "execution_count": null,
      "outputs": [
        {
          "output_type": "stream",
          "text": [
            "(504, 9)\n",
            "<class 'pandas.core.frame.DataFrame'>\n",
            "RangeIndex: 504 entries, 0 to 503\n",
            "Data columns (total 9 columns):\n",
            " #   Column                Non-Null Count  Dtype  \n",
            "---  ------                --------------  -----  \n",
            " 0   IdNo                  504 non-null    int64  \n",
            " 1   TotalMoney            504 non-null    float64\n",
            " 2   Game                  504 non-null    object \n",
            " 3   Genre                 504 non-null    object \n",
            " 4   PlayerNo              504 non-null    int64  \n",
            " 5   TournamentNo          504 non-null    int64  \n",
            " 6   Top_Country           504 non-null    object \n",
            " 7   Top_Country_Earnings  504 non-null    float64\n",
            " 8   Releaseyear           504 non-null    int64  \n",
            "dtypes: float64(2), int64(4), object(3)\n",
            "memory usage: 35.6+ KB\n",
            "None \n",
            "\n",
            "(6387, 5)\n",
            "<class 'pandas.core.frame.DataFrame'>\n",
            "RangeIndex: 6387 entries, 0 to 6386\n",
            "Data columns (total 5 columns):\n",
            " #   Column       Non-Null Count  Dtype  \n",
            "---  ------       --------------  -----  \n",
            " 0   Date         6387 non-null   object \n",
            " 1   Game         6387 non-null   object \n",
            " 2   Earnings     6387 non-null   float64\n",
            " 3   Players      6387 non-null   int64  \n",
            " 4   Tournaments  6387 non-null   int64  \n",
            "dtypes: float64(1), int64(2), object(2)\n",
            "memory usage: 249.6+ KB\n",
            "None\n"
          ],
          "name": "stdout"
        }
      ]
    },
    {
      "cell_type": "markdown",
      "metadata": {
        "id": "Oj_KiIRaL3xi"
      },
      "source": [
        "Imprimimos encabezados\r\n"
      ]
    },
    {
      "cell_type": "code",
      "metadata": {
        "colab": {
          "base_uri": "https://localhost:8080/",
          "height": 206
        },
        "id": "4c4ZE16DL4dw",
        "outputId": "d623ebdc-c7bd-439a-c691-61e9bf088ee1"
      },
      "source": [
        "esports.head()"
      ],
      "execution_count": null,
      "outputs": [
        {
          "output_type": "execute_result",
          "data": {
            "text/html": [
              "<div>\n",
              "<style scoped>\n",
              "    .dataframe tbody tr th:only-of-type {\n",
              "        vertical-align: middle;\n",
              "    }\n",
              "\n",
              "    .dataframe tbody tr th {\n",
              "        vertical-align: top;\n",
              "    }\n",
              "\n",
              "    .dataframe thead th {\n",
              "        text-align: right;\n",
              "    }\n",
              "</style>\n",
              "<table border=\"1\" class=\"dataframe\">\n",
              "  <thead>\n",
              "    <tr style=\"text-align: right;\">\n",
              "      <th></th>\n",
              "      <th>IdNo</th>\n",
              "      <th>TotalMoney</th>\n",
              "      <th>Game</th>\n",
              "      <th>Genre</th>\n",
              "      <th>PlayerNo</th>\n",
              "      <th>TournamentNo</th>\n",
              "      <th>Top_Country</th>\n",
              "      <th>Top_Country_Earnings</th>\n",
              "      <th>Releaseyear</th>\n",
              "    </tr>\n",
              "  </thead>\n",
              "  <tbody>\n",
              "    <tr>\n",
              "      <th>0</th>\n",
              "      <td>613</td>\n",
              "      <td>310.00</td>\n",
              "      <td>Acceleration of SUGURI 2</td>\n",
              "      <td>Fighting Game</td>\n",
              "      <td>6</td>\n",
              "      <td>2</td>\n",
              "      <td>United States</td>\n",
              "      <td>310.00</td>\n",
              "      <td>2018</td>\n",
              "    </tr>\n",
              "    <tr>\n",
              "      <th>1</th>\n",
              "      <td>510</td>\n",
              "      <td>190075.61</td>\n",
              "      <td>Age of Empires</td>\n",
              "      <td>Strategy</td>\n",
              "      <td>246</td>\n",
              "      <td>95</td>\n",
              "      <td>Viet Nam</td>\n",
              "      <td>123408.43</td>\n",
              "      <td>1997</td>\n",
              "    </tr>\n",
              "    <tr>\n",
              "      <th>2</th>\n",
              "      <td>179</td>\n",
              "      <td>1492489.51</td>\n",
              "      <td>Age of Empires II</td>\n",
              "      <td>Strategy</td>\n",
              "      <td>956</td>\n",
              "      <td>576</td>\n",
              "      <td>China</td>\n",
              "      <td>174252.44</td>\n",
              "      <td>1999</td>\n",
              "    </tr>\n",
              "    <tr>\n",
              "      <th>3</th>\n",
              "      <td>177</td>\n",
              "      <td>68113.85</td>\n",
              "      <td>Age of Empires III</td>\n",
              "      <td>Strategy</td>\n",
              "      <td>106</td>\n",
              "      <td>76</td>\n",
              "      <td>United States</td>\n",
              "      <td>18523.52</td>\n",
              "      <td>2005</td>\n",
              "    </tr>\n",
              "    <tr>\n",
              "      <th>4</th>\n",
              "      <td>540</td>\n",
              "      <td>2668.00</td>\n",
              "      <td>Age of Empires Online</td>\n",
              "      <td>Strategy</td>\n",
              "      <td>16</td>\n",
              "      <td>7</td>\n",
              "      <td>Germany</td>\n",
              "      <td>1264.00</td>\n",
              "      <td>2011</td>\n",
              "    </tr>\n",
              "  </tbody>\n",
              "</table>\n",
              "</div>"
            ],
            "text/plain": [
              "   IdNo  TotalMoney  ... Top_Country_Earnings Releaseyear\n",
              "0   613      310.00  ...               310.00        2018\n",
              "1   510   190075.61  ...            123408.43        1997\n",
              "2   179  1492489.51  ...            174252.44        1999\n",
              "3   177    68113.85  ...             18523.52        2005\n",
              "4   540     2668.00  ...              1264.00        2011\n",
              "\n",
              "[5 rows x 9 columns]"
            ]
          },
          "metadata": {
            "tags": []
          },
          "execution_count": 230
        }
      ]
    },
    {
      "cell_type": "code",
      "metadata": {
        "colab": {
          "base_uri": "https://localhost:8080/",
          "height": 206
        },
        "id": "KE7Kh6PyMUA4",
        "outputId": "1e71353d-3e94-4960-bede-017f12887e3e"
      },
      "source": [
        "historical.head()"
      ],
      "execution_count": null,
      "outputs": [
        {
          "output_type": "execute_result",
          "data": {
            "text/html": [
              "<div>\n",
              "<style scoped>\n",
              "    .dataframe tbody tr th:only-of-type {\n",
              "        vertical-align: middle;\n",
              "    }\n",
              "\n",
              "    .dataframe tbody tr th {\n",
              "        vertical-align: top;\n",
              "    }\n",
              "\n",
              "    .dataframe thead th {\n",
              "        text-align: right;\n",
              "    }\n",
              "</style>\n",
              "<table border=\"1\" class=\"dataframe\">\n",
              "  <thead>\n",
              "    <tr style=\"text-align: right;\">\n",
              "      <th></th>\n",
              "      <th>Date</th>\n",
              "      <th>Game</th>\n",
              "      <th>Earnings</th>\n",
              "      <th>Players</th>\n",
              "      <th>Tournaments</th>\n",
              "    </tr>\n",
              "  </thead>\n",
              "  <tbody>\n",
              "    <tr>\n",
              "      <th>0</th>\n",
              "      <td>1998-01-01</td>\n",
              "      <td>QuakeWorld</td>\n",
              "      <td>15000.0</td>\n",
              "      <td>8</td>\n",
              "      <td>1</td>\n",
              "    </tr>\n",
              "    <tr>\n",
              "      <th>1</th>\n",
              "      <td>1998-05-01</td>\n",
              "      <td>Quake II</td>\n",
              "      <td>14600.0</td>\n",
              "      <td>4</td>\n",
              "      <td>1</td>\n",
              "    </tr>\n",
              "    <tr>\n",
              "      <th>2</th>\n",
              "      <td>1998-07-01</td>\n",
              "      <td>Quake II</td>\n",
              "      <td>15000.0</td>\n",
              "      <td>5</td>\n",
              "      <td>1</td>\n",
              "    </tr>\n",
              "    <tr>\n",
              "      <th>3</th>\n",
              "      <td>1998-07-01</td>\n",
              "      <td>QuakeWorld</td>\n",
              "      <td>6500.0</td>\n",
              "      <td>4</td>\n",
              "      <td>1</td>\n",
              "    </tr>\n",
              "    <tr>\n",
              "      <th>4</th>\n",
              "      <td>1998-11-01</td>\n",
              "      <td>Quake II</td>\n",
              "      <td>36600.0</td>\n",
              "      <td>13</td>\n",
              "      <td>2</td>\n",
              "    </tr>\n",
              "  </tbody>\n",
              "</table>\n",
              "</div>"
            ],
            "text/plain": [
              "         Date        Game  Earnings  Players  Tournaments\n",
              "0  1998-01-01  QuakeWorld   15000.0        8            1\n",
              "1  1998-05-01    Quake II   14600.0        4            1\n",
              "2  1998-07-01    Quake II   15000.0        5            1\n",
              "3  1998-07-01  QuakeWorld    6500.0        4            1\n",
              "4  1998-11-01    Quake II   36600.0       13            2"
            ]
          },
          "metadata": {
            "tags": []
          },
          "execution_count": 231
        }
      ]
    },
    {
      "cell_type": "markdown",
      "metadata": {
        "id": "0ZRPUtxjMV_f"
      },
      "source": [
        "El dataframe de historical contiene información de cuando se realizaron los torneos de los esports las ganancias que se producieron y los jugadores que hubo, esta fecha la pasaremos a su respectivo formato."
      ]
    },
    {
      "cell_type": "code",
      "metadata": {
        "colab": {
          "base_uri": "https://localhost:8080/",
          "height": 424
        },
        "id": "hS2Ljxh4MXT6",
        "outputId": "e52601fa-93cf-4a07-c345-e4a9e0a20c6c"
      },
      "source": [
        "import datetime as dt\r\n",
        "\r\n",
        "Fechas = historical['Date']\r\n",
        "\r\n",
        "Fechas_Bien = []\r\n",
        "for i in range(0, len(Fechas)):\r\n",
        "    x = dt.datetime.strptime(historical[\"Date\"][i],'%Y-%m-%d')\r\n",
        "    Fechas_Bien.append(x)\r\n",
        "#Fechas_Bien\r\n",
        "historical[\"Date\"] = Fechas_Bien\r\n",
        "historical"
      ],
      "execution_count": null,
      "outputs": [
        {
          "output_type": "execute_result",
          "data": {
            "text/html": [
              "<div>\n",
              "<style scoped>\n",
              "    .dataframe tbody tr th:only-of-type {\n",
              "        vertical-align: middle;\n",
              "    }\n",
              "\n",
              "    .dataframe tbody tr th {\n",
              "        vertical-align: top;\n",
              "    }\n",
              "\n",
              "    .dataframe thead th {\n",
              "        text-align: right;\n",
              "    }\n",
              "</style>\n",
              "<table border=\"1\" class=\"dataframe\">\n",
              "  <thead>\n",
              "    <tr style=\"text-align: right;\">\n",
              "      <th></th>\n",
              "      <th>Date</th>\n",
              "      <th>Game</th>\n",
              "      <th>Earnings</th>\n",
              "      <th>Players</th>\n",
              "      <th>Tournaments</th>\n",
              "    </tr>\n",
              "  </thead>\n",
              "  <tbody>\n",
              "    <tr>\n",
              "      <th>0</th>\n",
              "      <td>1998-01-01</td>\n",
              "      <td>QuakeWorld</td>\n",
              "      <td>15000.00</td>\n",
              "      <td>8</td>\n",
              "      <td>1</td>\n",
              "    </tr>\n",
              "    <tr>\n",
              "      <th>1</th>\n",
              "      <td>1998-05-01</td>\n",
              "      <td>Quake II</td>\n",
              "      <td>14600.00</td>\n",
              "      <td>4</td>\n",
              "      <td>1</td>\n",
              "    </tr>\n",
              "    <tr>\n",
              "      <th>2</th>\n",
              "      <td>1998-07-01</td>\n",
              "      <td>Quake II</td>\n",
              "      <td>15000.00</td>\n",
              "      <td>5</td>\n",
              "      <td>1</td>\n",
              "    </tr>\n",
              "    <tr>\n",
              "      <th>3</th>\n",
              "      <td>1998-07-01</td>\n",
              "      <td>QuakeWorld</td>\n",
              "      <td>6500.00</td>\n",
              "      <td>4</td>\n",
              "      <td>1</td>\n",
              "    </tr>\n",
              "    <tr>\n",
              "      <th>4</th>\n",
              "      <td>1998-11-01</td>\n",
              "      <td>Quake II</td>\n",
              "      <td>36600.00</td>\n",
              "      <td>13</td>\n",
              "      <td>2</td>\n",
              "    </tr>\n",
              "    <tr>\n",
              "      <th>...</th>\n",
              "      <td>...</td>\n",
              "      <td>...</td>\n",
              "      <td>...</td>\n",
              "      <td>...</td>\n",
              "      <td>...</td>\n",
              "    </tr>\n",
              "    <tr>\n",
              "      <th>6382</th>\n",
              "      <td>2020-12-01</td>\n",
              "      <td>Age of Empires Online</td>\n",
              "      <td>626.56</td>\n",
              "      <td>3</td>\n",
              "      <td>1</td>\n",
              "    </tr>\n",
              "    <tr>\n",
              "      <th>6383</th>\n",
              "      <td>2020-12-01</td>\n",
              "      <td>Artifact 2.0</td>\n",
              "      <td>530.80</td>\n",
              "      <td>18</td>\n",
              "      <td>2</td>\n",
              "    </tr>\n",
              "    <tr>\n",
              "      <th>6384</th>\n",
              "      <td>2020-12-01</td>\n",
              "      <td>TrackMania 2: Stadium</td>\n",
              "      <td>316.23</td>\n",
              "      <td>6</td>\n",
              "      <td>2</td>\n",
              "    </tr>\n",
              "    <tr>\n",
              "      <th>6385</th>\n",
              "      <td>2020-12-01</td>\n",
              "      <td>Touhou Hisoutensoku ~ Choudokyuu Ginyoru no Na...</td>\n",
              "      <td>264.60</td>\n",
              "      <td>8</td>\n",
              "      <td>1</td>\n",
              "    </tr>\n",
              "    <tr>\n",
              "      <th>6386</th>\n",
              "      <td>2020-12-01</td>\n",
              "      <td>Quake Champions</td>\n",
              "      <td>70.00</td>\n",
              "      <td>4</td>\n",
              "      <td>1</td>\n",
              "    </tr>\n",
              "  </tbody>\n",
              "</table>\n",
              "<p>6387 rows × 5 columns</p>\n",
              "</div>"
            ],
            "text/plain": [
              "           Date  ... Tournaments\n",
              "0    1998-01-01  ...           1\n",
              "1    1998-05-01  ...           1\n",
              "2    1998-07-01  ...           1\n",
              "3    1998-07-01  ...           1\n",
              "4    1998-11-01  ...           2\n",
              "...         ...  ...         ...\n",
              "6382 2020-12-01  ...           1\n",
              "6383 2020-12-01  ...           2\n",
              "6384 2020-12-01  ...           2\n",
              "6385 2020-12-01  ...           1\n",
              "6386 2020-12-01  ...           1\n",
              "\n",
              "[6387 rows x 5 columns]"
            ]
          },
          "metadata": {
            "tags": []
          },
          "execution_count": 232
        }
      ]
    },
    {
      "cell_type": "code",
      "metadata": {
        "colab": {
          "base_uri": "https://localhost:8080/"
        },
        "id": "55zgfxUaMb9q",
        "outputId": "71d4aacc-443b-47ab-deb6-0ca2a137c8b7"
      },
      "source": [
        "#Notemos que el formato ya es el correcto\r\n",
        "historical.info()"
      ],
      "execution_count": null,
      "outputs": [
        {
          "output_type": "stream",
          "text": [
            "<class 'pandas.core.frame.DataFrame'>\n",
            "RangeIndex: 6387 entries, 0 to 6386\n",
            "Data columns (total 5 columns):\n",
            " #   Column       Non-Null Count  Dtype         \n",
            "---  ------       --------------  -----         \n",
            " 0   Date         6387 non-null   datetime64[ns]\n",
            " 1   Game         6387 non-null   object        \n",
            " 2   Earnings     6387 non-null   float64       \n",
            " 3   Players      6387 non-null   int64         \n",
            " 4   Tournaments  6387 non-null   int64         \n",
            "dtypes: datetime64[ns](1), float64(1), int64(2), object(1)\n",
            "memory usage: 249.6+ KB\n"
          ],
          "name": "stdout"
        }
      ]
    },
    {
      "cell_type": "code",
      "metadata": {
        "colab": {
          "base_uri": "https://localhost:8080/"
        },
        "id": "ubRWMkuwMd_o",
        "outputId": "717f6e3d-494d-4df4-f36c-ff27df2d7fec"
      },
      "source": [
        "#Pasamos las ganancias a millones de dólares, para no tener valores tan excesivos\r\n",
        "historical[\"Earnings\"] = historical[\"Earnings\"]/(10**6)\r\n",
        "esports[\"Top_Country_Earnings\"] = esports[\"Top_Country_Earnings\"]/(10**6)\r\n",
        "print(historical.head(),\"\\n\")\r\n",
        "print(esports.head())\r\n",
        "\r\n",
        "\r\n",
        "#################### PARA LOCALIZAR EL MÁXIMO ##################################\r\n",
        "\r\n",
        "#historical[\"Earnings\"].max()\r\n",
        "#36713555.9\r\n",
        "#np.where(historical[\"Earnings\"] == 36713555.9)\r\n",
        "#historical.loc[5322]"
      ],
      "execution_count": null,
      "outputs": [
        {
          "output_type": "stream",
          "text": [
            "        Date        Game  Earnings  Players  Tournaments\n",
            "0 1998-01-01  QuakeWorld    0.0150        8            1\n",
            "1 1998-05-01    Quake II    0.0146        4            1\n",
            "2 1998-07-01    Quake II    0.0150        5            1\n",
            "3 1998-07-01  QuakeWorld    0.0065        4            1\n",
            "4 1998-11-01    Quake II    0.0366       13            2 \n",
            "\n",
            "   IdNo  TotalMoney  ... Top_Country_Earnings Releaseyear\n",
            "0   613      310.00  ...             0.000310        2018\n",
            "1   510   190075.61  ...             0.123408        1997\n",
            "2   179  1492489.51  ...             0.174252        1999\n",
            "3   177    68113.85  ...             0.018524        2005\n",
            "4   540     2668.00  ...             0.001264        2011\n",
            "\n",
            "[5 rows x 9 columns]\n"
          ],
          "name": "stdout"
        }
      ]
    },
    {
      "cell_type": "markdown",
      "metadata": {
        "id": "rdEgHcpVMjun"
      },
      "source": [
        "Unimos los dataframe a partir de la función merge con la llave \"Game\" y observamos al información que nos devuelve"
      ]
    },
    {
      "cell_type": "code",
      "metadata": {
        "colab": {
          "base_uri": "https://localhost:8080/"
        },
        "id": "VCodAvsWMf8o",
        "outputId": "80a5a593-dd81-4cc7-e3c9-ead14ad8e613"
      },
      "source": [
        "join = pd.merge(esports,historical,on=\"Game\",how=\"outer\")\r\n",
        "join.info()"
      ],
      "execution_count": null,
      "outputs": [
        {
          "output_type": "stream",
          "text": [
            "<class 'pandas.core.frame.DataFrame'>\n",
            "Int64Index: 6433 entries, 0 to 6432\n",
            "Data columns (total 13 columns):\n",
            " #   Column                Non-Null Count  Dtype         \n",
            "---  ------                --------------  -----         \n",
            " 0   IdNo                  6334 non-null   float64       \n",
            " 1   TotalMoney            6334 non-null   float64       \n",
            " 2   Game                  6433 non-null   object        \n",
            " 3   Genre                 6334 non-null   object        \n",
            " 4   PlayerNo              6334 non-null   float64       \n",
            " 5   TournamentNo          6334 non-null   float64       \n",
            " 6   Top_Country           6334 non-null   object        \n",
            " 7   Top_Country_Earnings  6334 non-null   float64       \n",
            " 8   Releaseyear           6334 non-null   float64       \n",
            " 9   Date                  6397 non-null   datetime64[ns]\n",
            " 10  Earnings              6397 non-null   float64       \n",
            " 11  Players               6397 non-null   float64       \n",
            " 12  Tournaments           6397 non-null   float64       \n",
            "dtypes: datetime64[ns](1), float64(9), object(3)\n",
            "memory usage: 703.6+ KB\n"
          ],
          "name": "stdout"
        }
      ]
    },
    {
      "cell_type": "code",
      "metadata": {
        "colab": {
          "base_uri": "https://localhost:8080/",
          "height": 241
        },
        "id": "p6gYH6qBM3JL",
        "outputId": "3f00ca6e-8198-47de-94c7-9bdf01f3ec81"
      },
      "source": [
        "#Primeras filas\r\n",
        "join.head()"
      ],
      "execution_count": null,
      "outputs": [
        {
          "output_type": "execute_result",
          "data": {
            "text/html": [
              "<div>\n",
              "<style scoped>\n",
              "    .dataframe tbody tr th:only-of-type {\n",
              "        vertical-align: middle;\n",
              "    }\n",
              "\n",
              "    .dataframe tbody tr th {\n",
              "        vertical-align: top;\n",
              "    }\n",
              "\n",
              "    .dataframe thead th {\n",
              "        text-align: right;\n",
              "    }\n",
              "</style>\n",
              "<table border=\"1\" class=\"dataframe\">\n",
              "  <thead>\n",
              "    <tr style=\"text-align: right;\">\n",
              "      <th></th>\n",
              "      <th>IdNo</th>\n",
              "      <th>TotalMoney</th>\n",
              "      <th>Game</th>\n",
              "      <th>Genre</th>\n",
              "      <th>PlayerNo</th>\n",
              "      <th>TournamentNo</th>\n",
              "      <th>Top_Country</th>\n",
              "      <th>Top_Country_Earnings</th>\n",
              "      <th>Releaseyear</th>\n",
              "      <th>Date</th>\n",
              "      <th>Earnings</th>\n",
              "      <th>Players</th>\n",
              "      <th>Tournaments</th>\n",
              "    </tr>\n",
              "  </thead>\n",
              "  <tbody>\n",
              "    <tr>\n",
              "      <th>0</th>\n",
              "      <td>613.0</td>\n",
              "      <td>310.00</td>\n",
              "      <td>Acceleration of SUGURI 2</td>\n",
              "      <td>Fighting Game</td>\n",
              "      <td>6.0</td>\n",
              "      <td>2.0</td>\n",
              "      <td>United States</td>\n",
              "      <td>0.000310</td>\n",
              "      <td>2018.0</td>\n",
              "      <td>2019-09-01</td>\n",
              "      <td>0.00021</td>\n",
              "      <td>3.0</td>\n",
              "      <td>1.0</td>\n",
              "    </tr>\n",
              "    <tr>\n",
              "      <th>1</th>\n",
              "      <td>613.0</td>\n",
              "      <td>310.00</td>\n",
              "      <td>Acceleration of SUGURI 2</td>\n",
              "      <td>Fighting Game</td>\n",
              "      <td>6.0</td>\n",
              "      <td>2.0</td>\n",
              "      <td>United States</td>\n",
              "      <td>0.000310</td>\n",
              "      <td>2018.0</td>\n",
              "      <td>2020-06-01</td>\n",
              "      <td>0.00010</td>\n",
              "      <td>3.0</td>\n",
              "      <td>1.0</td>\n",
              "    </tr>\n",
              "    <tr>\n",
              "      <th>2</th>\n",
              "      <td>510.0</td>\n",
              "      <td>190075.61</td>\n",
              "      <td>Age of Empires</td>\n",
              "      <td>Strategy</td>\n",
              "      <td>246.0</td>\n",
              "      <td>95.0</td>\n",
              "      <td>Viet Nam</td>\n",
              "      <td>0.123408</td>\n",
              "      <td>1997.0</td>\n",
              "      <td>1998-12-01</td>\n",
              "      <td>0.00200</td>\n",
              "      <td>1.0</td>\n",
              "      <td>1.0</td>\n",
              "    </tr>\n",
              "    <tr>\n",
              "      <th>3</th>\n",
              "      <td>510.0</td>\n",
              "      <td>190075.61</td>\n",
              "      <td>Age of Empires</td>\n",
              "      <td>Strategy</td>\n",
              "      <td>246.0</td>\n",
              "      <td>95.0</td>\n",
              "      <td>Viet Nam</td>\n",
              "      <td>0.123408</td>\n",
              "      <td>1997.0</td>\n",
              "      <td>2000-04-01</td>\n",
              "      <td>0.00950</td>\n",
              "      <td>4.0</td>\n",
              "      <td>1.0</td>\n",
              "    </tr>\n",
              "    <tr>\n",
              "      <th>4</th>\n",
              "      <td>510.0</td>\n",
              "      <td>190075.61</td>\n",
              "      <td>Age of Empires</td>\n",
              "      <td>Strategy</td>\n",
              "      <td>246.0</td>\n",
              "      <td>95.0</td>\n",
              "      <td>Viet Nam</td>\n",
              "      <td>0.123408</td>\n",
              "      <td>1997.0</td>\n",
              "      <td>2002-09-01</td>\n",
              "      <td>0.00010</td>\n",
              "      <td>3.0</td>\n",
              "      <td>1.0</td>\n",
              "    </tr>\n",
              "  </tbody>\n",
              "</table>\n",
              "</div>"
            ],
            "text/plain": [
              "    IdNo  TotalMoney                      Game  ... Earnings  Players  Tournaments\n",
              "0  613.0      310.00  Acceleration of SUGURI 2  ...  0.00021      3.0          1.0\n",
              "1  613.0      310.00  Acceleration of SUGURI 2  ...  0.00010      3.0          1.0\n",
              "2  510.0   190075.61            Age of Empires  ...  0.00200      1.0          1.0\n",
              "3  510.0   190075.61            Age of Empires  ...  0.00950      4.0          1.0\n",
              "4  510.0   190075.61            Age of Empires  ...  0.00010      3.0          1.0\n",
              "\n",
              "[5 rows x 13 columns]"
            ]
          },
          "metadata": {
            "tags": []
          },
          "execution_count": 236
        }
      ]
    },
    {
      "cell_type": "code",
      "metadata": {
        "colab": {
          "base_uri": "https://localhost:8080/"
        },
        "id": "SE4vry-rM5oC",
        "outputId": "d135ad56-b546-4cdb-bbf1-8a029c0c500a"
      },
      "source": [
        "join['Year'] = join.Date.dt.year\r\n",
        "join.info()"
      ],
      "execution_count": null,
      "outputs": [
        {
          "output_type": "stream",
          "text": [
            "<class 'pandas.core.frame.DataFrame'>\n",
            "Int64Index: 6433 entries, 0 to 6432\n",
            "Data columns (total 14 columns):\n",
            " #   Column                Non-Null Count  Dtype         \n",
            "---  ------                --------------  -----         \n",
            " 0   IdNo                  6334 non-null   float64       \n",
            " 1   TotalMoney            6334 non-null   float64       \n",
            " 2   Game                  6433 non-null   object        \n",
            " 3   Genre                 6334 non-null   object        \n",
            " 4   PlayerNo              6334 non-null   float64       \n",
            " 5   TournamentNo          6334 non-null   float64       \n",
            " 6   Top_Country           6334 non-null   object        \n",
            " 7   Top_Country_Earnings  6334 non-null   float64       \n",
            " 8   Releaseyear           6334 non-null   float64       \n",
            " 9   Date                  6397 non-null   datetime64[ns]\n",
            " 10  Earnings              6397 non-null   float64       \n",
            " 11  Players               6397 non-null   float64       \n",
            " 12  Tournaments           6397 non-null   float64       \n",
            " 13  Year                  6397 non-null   float64       \n",
            "dtypes: datetime64[ns](1), float64(10), object(3)\n",
            "memory usage: 753.9+ KB\n"
          ],
          "name": "stdout"
        }
      ]
    },
    {
      "cell_type": "code",
      "metadata": {
        "colab": {
          "base_uri": "https://localhost:8080/",
          "height": 241
        },
        "id": "AJN7IkhHM7V8",
        "outputId": "c1d3c190-4cef-47f0-9e19-6e4c3e8706be"
      },
      "source": [
        "#Imprimimos el encabezado\r\n",
        "join.head()"
      ],
      "execution_count": null,
      "outputs": [
        {
          "output_type": "execute_result",
          "data": {
            "text/html": [
              "<div>\n",
              "<style scoped>\n",
              "    .dataframe tbody tr th:only-of-type {\n",
              "        vertical-align: middle;\n",
              "    }\n",
              "\n",
              "    .dataframe tbody tr th {\n",
              "        vertical-align: top;\n",
              "    }\n",
              "\n",
              "    .dataframe thead th {\n",
              "        text-align: right;\n",
              "    }\n",
              "</style>\n",
              "<table border=\"1\" class=\"dataframe\">\n",
              "  <thead>\n",
              "    <tr style=\"text-align: right;\">\n",
              "      <th></th>\n",
              "      <th>IdNo</th>\n",
              "      <th>TotalMoney</th>\n",
              "      <th>Game</th>\n",
              "      <th>Genre</th>\n",
              "      <th>PlayerNo</th>\n",
              "      <th>TournamentNo</th>\n",
              "      <th>Top_Country</th>\n",
              "      <th>Top_Country_Earnings</th>\n",
              "      <th>Releaseyear</th>\n",
              "      <th>Date</th>\n",
              "      <th>Earnings</th>\n",
              "      <th>Players</th>\n",
              "      <th>Tournaments</th>\n",
              "      <th>Year</th>\n",
              "    </tr>\n",
              "  </thead>\n",
              "  <tbody>\n",
              "    <tr>\n",
              "      <th>0</th>\n",
              "      <td>613.0</td>\n",
              "      <td>310.00</td>\n",
              "      <td>Acceleration of SUGURI 2</td>\n",
              "      <td>Fighting Game</td>\n",
              "      <td>6.0</td>\n",
              "      <td>2.0</td>\n",
              "      <td>United States</td>\n",
              "      <td>0.000310</td>\n",
              "      <td>2018.0</td>\n",
              "      <td>2019-09-01</td>\n",
              "      <td>0.00021</td>\n",
              "      <td>3.0</td>\n",
              "      <td>1.0</td>\n",
              "      <td>2019.0</td>\n",
              "    </tr>\n",
              "    <tr>\n",
              "      <th>1</th>\n",
              "      <td>613.0</td>\n",
              "      <td>310.00</td>\n",
              "      <td>Acceleration of SUGURI 2</td>\n",
              "      <td>Fighting Game</td>\n",
              "      <td>6.0</td>\n",
              "      <td>2.0</td>\n",
              "      <td>United States</td>\n",
              "      <td>0.000310</td>\n",
              "      <td>2018.0</td>\n",
              "      <td>2020-06-01</td>\n",
              "      <td>0.00010</td>\n",
              "      <td>3.0</td>\n",
              "      <td>1.0</td>\n",
              "      <td>2020.0</td>\n",
              "    </tr>\n",
              "    <tr>\n",
              "      <th>2</th>\n",
              "      <td>510.0</td>\n",
              "      <td>190075.61</td>\n",
              "      <td>Age of Empires</td>\n",
              "      <td>Strategy</td>\n",
              "      <td>246.0</td>\n",
              "      <td>95.0</td>\n",
              "      <td>Viet Nam</td>\n",
              "      <td>0.123408</td>\n",
              "      <td>1997.0</td>\n",
              "      <td>1998-12-01</td>\n",
              "      <td>0.00200</td>\n",
              "      <td>1.0</td>\n",
              "      <td>1.0</td>\n",
              "      <td>1998.0</td>\n",
              "    </tr>\n",
              "    <tr>\n",
              "      <th>3</th>\n",
              "      <td>510.0</td>\n",
              "      <td>190075.61</td>\n",
              "      <td>Age of Empires</td>\n",
              "      <td>Strategy</td>\n",
              "      <td>246.0</td>\n",
              "      <td>95.0</td>\n",
              "      <td>Viet Nam</td>\n",
              "      <td>0.123408</td>\n",
              "      <td>1997.0</td>\n",
              "      <td>2000-04-01</td>\n",
              "      <td>0.00950</td>\n",
              "      <td>4.0</td>\n",
              "      <td>1.0</td>\n",
              "      <td>2000.0</td>\n",
              "    </tr>\n",
              "    <tr>\n",
              "      <th>4</th>\n",
              "      <td>510.0</td>\n",
              "      <td>190075.61</td>\n",
              "      <td>Age of Empires</td>\n",
              "      <td>Strategy</td>\n",
              "      <td>246.0</td>\n",
              "      <td>95.0</td>\n",
              "      <td>Viet Nam</td>\n",
              "      <td>0.123408</td>\n",
              "      <td>1997.0</td>\n",
              "      <td>2002-09-01</td>\n",
              "      <td>0.00010</td>\n",
              "      <td>3.0</td>\n",
              "      <td>1.0</td>\n",
              "      <td>2002.0</td>\n",
              "    </tr>\n",
              "  </tbody>\n",
              "</table>\n",
              "</div>"
            ],
            "text/plain": [
              "    IdNo  TotalMoney                      Game  ... Players  Tournaments    Year\n",
              "0  613.0      310.00  Acceleration of SUGURI 2  ...     3.0          1.0  2019.0\n",
              "1  613.0      310.00  Acceleration of SUGURI 2  ...     3.0          1.0  2020.0\n",
              "2  510.0   190075.61            Age of Empires  ...     1.0          1.0  1998.0\n",
              "3  510.0   190075.61            Age of Empires  ...     4.0          1.0  2000.0\n",
              "4  510.0   190075.61            Age of Empires  ...     3.0          1.0  2002.0\n",
              "\n",
              "[5 rows x 14 columns]"
            ]
          },
          "metadata": {
            "tags": []
          },
          "execution_count": 238
        }
      ]
    },
    {
      "cell_type": "code",
      "metadata": {
        "colab": {
          "base_uri": "https://localhost:8080/",
          "height": 424
        },
        "id": "4OQaV9aAM87A",
        "outputId": "f249e541-419b-4bb6-9382-688e256e70d0"
      },
      "source": [
        "#Creamos un dataframe con columnas de intéres para realizar un analisis\r\n",
        "join2 = join[[\"Game\",\"Top_Country\",\"Top_Country_Earnings\",\"Earnings\",\"Players\",\"Tournaments\",'Year']]\r\n",
        "join2"
      ],
      "execution_count": null,
      "outputs": [
        {
          "output_type": "execute_result",
          "data": {
            "text/html": [
              "<div>\n",
              "<style scoped>\n",
              "    .dataframe tbody tr th:only-of-type {\n",
              "        vertical-align: middle;\n",
              "    }\n",
              "\n",
              "    .dataframe tbody tr th {\n",
              "        vertical-align: top;\n",
              "    }\n",
              "\n",
              "    .dataframe thead th {\n",
              "        text-align: right;\n",
              "    }\n",
              "</style>\n",
              "<table border=\"1\" class=\"dataframe\">\n",
              "  <thead>\n",
              "    <tr style=\"text-align: right;\">\n",
              "      <th></th>\n",
              "      <th>Game</th>\n",
              "      <th>Top_Country</th>\n",
              "      <th>Top_Country_Earnings</th>\n",
              "      <th>Earnings</th>\n",
              "      <th>Players</th>\n",
              "      <th>Tournaments</th>\n",
              "      <th>Year</th>\n",
              "    </tr>\n",
              "  </thead>\n",
              "  <tbody>\n",
              "    <tr>\n",
              "      <th>0</th>\n",
              "      <td>Acceleration of SUGURI 2</td>\n",
              "      <td>United States</td>\n",
              "      <td>0.000310</td>\n",
              "      <td>0.000210</td>\n",
              "      <td>3.0</td>\n",
              "      <td>1.0</td>\n",
              "      <td>2019.0</td>\n",
              "    </tr>\n",
              "    <tr>\n",
              "      <th>1</th>\n",
              "      <td>Acceleration of SUGURI 2</td>\n",
              "      <td>United States</td>\n",
              "      <td>0.000310</td>\n",
              "      <td>0.000100</td>\n",
              "      <td>3.0</td>\n",
              "      <td>1.0</td>\n",
              "      <td>2020.0</td>\n",
              "    </tr>\n",
              "    <tr>\n",
              "      <th>2</th>\n",
              "      <td>Age of Empires</td>\n",
              "      <td>Viet Nam</td>\n",
              "      <td>0.123408</td>\n",
              "      <td>0.002000</td>\n",
              "      <td>1.0</td>\n",
              "      <td>1.0</td>\n",
              "      <td>1998.0</td>\n",
              "    </tr>\n",
              "    <tr>\n",
              "      <th>3</th>\n",
              "      <td>Age of Empires</td>\n",
              "      <td>Viet Nam</td>\n",
              "      <td>0.123408</td>\n",
              "      <td>0.009500</td>\n",
              "      <td>4.0</td>\n",
              "      <td>1.0</td>\n",
              "      <td>2000.0</td>\n",
              "    </tr>\n",
              "    <tr>\n",
              "      <th>4</th>\n",
              "      <td>Age of Empires</td>\n",
              "      <td>Viet Nam</td>\n",
              "      <td>0.123408</td>\n",
              "      <td>0.000100</td>\n",
              "      <td>3.0</td>\n",
              "      <td>1.0</td>\n",
              "      <td>2002.0</td>\n",
              "    </tr>\n",
              "    <tr>\n",
              "      <th>...</th>\n",
              "      <td>...</td>\n",
              "      <td>...</td>\n",
              "      <td>...</td>\n",
              "      <td>...</td>\n",
              "      <td>...</td>\n",
              "      <td>...</td>\n",
              "      <td>...</td>\n",
              "    </tr>\n",
              "    <tr>\n",
              "      <th>6428</th>\n",
              "      <td>Call of Duty: Black Ops Cold War</td>\n",
              "      <td>NaN</td>\n",
              "      <td>NaN</td>\n",
              "      <td>0.243000</td>\n",
              "      <td>80.0</td>\n",
              "      <td>9.0</td>\n",
              "      <td>2020.0</td>\n",
              "    </tr>\n",
              "    <tr>\n",
              "      <th>6429</th>\n",
              "      <td>Smash Remix</td>\n",
              "      <td>NaN</td>\n",
              "      <td>NaN</td>\n",
              "      <td>0.000299</td>\n",
              "      <td>4.0</td>\n",
              "      <td>1.0</td>\n",
              "      <td>2020.0</td>\n",
              "    </tr>\n",
              "    <tr>\n",
              "      <th>6430</th>\n",
              "      <td>Kirby Fighters 2</td>\n",
              "      <td>NaN</td>\n",
              "      <td>NaN</td>\n",
              "      <td>0.000223</td>\n",
              "      <td>4.0</td>\n",
              "      <td>1.0</td>\n",
              "      <td>2020.0</td>\n",
              "    </tr>\n",
              "    <tr>\n",
              "      <th>6431</th>\n",
              "      <td>Rogue Company</td>\n",
              "      <td>NaN</td>\n",
              "      <td>NaN</td>\n",
              "      <td>0.050000</td>\n",
              "      <td>48.0</td>\n",
              "      <td>2.0</td>\n",
              "      <td>2020.0</td>\n",
              "    </tr>\n",
              "    <tr>\n",
              "      <th>6432</th>\n",
              "      <td>Zwift</td>\n",
              "      <td>NaN</td>\n",
              "      <td>NaN</td>\n",
              "      <td>0.033827</td>\n",
              "      <td>6.0</td>\n",
              "      <td>2.0</td>\n",
              "      <td>2020.0</td>\n",
              "    </tr>\n",
              "  </tbody>\n",
              "</table>\n",
              "<p>6433 rows × 7 columns</p>\n",
              "</div>"
            ],
            "text/plain": [
              "                                  Game    Top_Country  ...  Tournaments    Year\n",
              "0             Acceleration of SUGURI 2  United States  ...          1.0  2019.0\n",
              "1             Acceleration of SUGURI 2  United States  ...          1.0  2020.0\n",
              "2                       Age of Empires       Viet Nam  ...          1.0  1998.0\n",
              "3                       Age of Empires       Viet Nam  ...          1.0  2000.0\n",
              "4                       Age of Empires       Viet Nam  ...          1.0  2002.0\n",
              "...                                ...            ...  ...          ...     ...\n",
              "6428  Call of Duty: Black Ops Cold War            NaN  ...          9.0  2020.0\n",
              "6429                       Smash Remix            NaN  ...          1.0  2020.0\n",
              "6430                  Kirby Fighters 2            NaN  ...          1.0  2020.0\n",
              "6431                     Rogue Company            NaN  ...          2.0  2020.0\n",
              "6432                             Zwift            NaN  ...          2.0  2020.0\n",
              "\n",
              "[6433 rows x 7 columns]"
            ]
          },
          "metadata": {
            "tags": []
          },
          "execution_count": 239
        }
      ]
    },
    {
      "cell_type": "markdown",
      "metadata": {
        "id": "KclaGRWaNAdE"
      },
      "source": [
        "Hagamos una lista del nombre de los datos únicos, para observar y clasificar los de interés\r\n"
      ]
    },
    {
      "cell_type": "code",
      "metadata": {
        "id": "z-MzCxirM_AZ"
      },
      "source": [
        "unicos = list(np.unique(join2['Game']))"
      ],
      "execution_count": null,
      "outputs": []
    },
    {
      "cell_type": "markdown",
      "metadata": {
        "id": "blMU_WFbNFBo"
      },
      "source": [
        "Analizamos los juegos con mayor popularidad y verificamos que el año sea mayor a 2010 (en el proyecto pasado concluimos que vale la pena notar que los eSports tuvieron su auge en ese año)"
      ]
    },
    {
      "cell_type": "code",
      "metadata": {
        "colab": {
          "base_uri": "https://localhost:8080/",
          "height": 424
        },
        "id": "wuMkbiN0NG2r",
        "outputId": "7dba0017-c64c-476c-cce1-df2111b5ca40"
      },
      "source": [
        "Rainbow = join2['Game'].str.match('^Rainbow Six')\r\n",
        "Counter_Strike = join2['Game'].str.match('^Counter-Strike')\r\n",
        "LOL = join2[\"Game\"] == 'League of Legends'\r\n",
        "Dota2 = join2[\"Game\"] == 'Dota 2'\r\n",
        "Rocket = join2[\"Game\"] =='Rocket League' \r\n",
        "Hearthstone = join2[\"Game\"] == 'Hearthstone'\r\n",
        "mayor2010 = join2[\"Year\"] >= 2010\r\n",
        "\r\n",
        "join2  = join2[(LOL|Dota2|Rocket|Hearthstone|Rainbow|Counter_Strike) & mayor2010 ].reset_index(drop=True)\r\n",
        "join2"
      ],
      "execution_count": null,
      "outputs": [
        {
          "output_type": "execute_result",
          "data": {
            "text/html": [
              "<div>\n",
              "<style scoped>\n",
              "    .dataframe tbody tr th:only-of-type {\n",
              "        vertical-align: middle;\n",
              "    }\n",
              "\n",
              "    .dataframe tbody tr th {\n",
              "        vertical-align: top;\n",
              "    }\n",
              "\n",
              "    .dataframe thead th {\n",
              "        text-align: right;\n",
              "    }\n",
              "</style>\n",
              "<table border=\"1\" class=\"dataframe\">\n",
              "  <thead>\n",
              "    <tr style=\"text-align: right;\">\n",
              "      <th></th>\n",
              "      <th>Game</th>\n",
              "      <th>Top_Country</th>\n",
              "      <th>Top_Country_Earnings</th>\n",
              "      <th>Earnings</th>\n",
              "      <th>Players</th>\n",
              "      <th>Tournaments</th>\n",
              "      <th>Year</th>\n",
              "    </tr>\n",
              "  </thead>\n",
              "  <tbody>\n",
              "    <tr>\n",
              "      <th>0</th>\n",
              "      <td>Counter-Strike</td>\n",
              "      <td>Sweden</td>\n",
              "      <td>2.837398</td>\n",
              "      <td>0.085406</td>\n",
              "      <td>111.0</td>\n",
              "      <td>6.0</td>\n",
              "      <td>2010.0</td>\n",
              "    </tr>\n",
              "    <tr>\n",
              "      <th>1</th>\n",
              "      <td>Counter-Strike</td>\n",
              "      <td>Sweden</td>\n",
              "      <td>2.837398</td>\n",
              "      <td>0.063992</td>\n",
              "      <td>145.0</td>\n",
              "      <td>10.0</td>\n",
              "      <td>2010.0</td>\n",
              "    </tr>\n",
              "    <tr>\n",
              "      <th>2</th>\n",
              "      <td>Counter-Strike</td>\n",
              "      <td>Sweden</td>\n",
              "      <td>2.837398</td>\n",
              "      <td>0.142391</td>\n",
              "      <td>160.0</td>\n",
              "      <td>6.0</td>\n",
              "      <td>2010.0</td>\n",
              "    </tr>\n",
              "    <tr>\n",
              "      <th>3</th>\n",
              "      <td>Counter-Strike</td>\n",
              "      <td>Sweden</td>\n",
              "      <td>2.837398</td>\n",
              "      <td>0.098841</td>\n",
              "      <td>192.0</td>\n",
              "      <td>14.0</td>\n",
              "      <td>2010.0</td>\n",
              "    </tr>\n",
              "    <tr>\n",
              "      <th>4</th>\n",
              "      <td>Counter-Strike</td>\n",
              "      <td>Sweden</td>\n",
              "      <td>2.837398</td>\n",
              "      <td>0.086128</td>\n",
              "      <td>131.0</td>\n",
              "      <td>11.0</td>\n",
              "      <td>2010.0</td>\n",
              "    </tr>\n",
              "    <tr>\n",
              "      <th>...</th>\n",
              "      <td>...</td>\n",
              "      <td>...</td>\n",
              "      <td>...</td>\n",
              "      <td>...</td>\n",
              "      <td>...</td>\n",
              "      <td>...</td>\n",
              "      <td>...</td>\n",
              "    </tr>\n",
              "    <tr>\n",
              "      <th>611</th>\n",
              "      <td>Rocket League</td>\n",
              "      <td>United States</td>\n",
              "      <td>2.894739</td>\n",
              "      <td>0.335180</td>\n",
              "      <td>269.0</td>\n",
              "      <td>24.0</td>\n",
              "      <td>2020.0</td>\n",
              "    </tr>\n",
              "    <tr>\n",
              "      <th>612</th>\n",
              "      <td>Rocket League</td>\n",
              "      <td>United States</td>\n",
              "      <td>2.894739</td>\n",
              "      <td>0.482865</td>\n",
              "      <td>315.0</td>\n",
              "      <td>27.0</td>\n",
              "      <td>2020.0</td>\n",
              "    </tr>\n",
              "    <tr>\n",
              "      <th>613</th>\n",
              "      <td>Rocket League</td>\n",
              "      <td>United States</td>\n",
              "      <td>2.894739</td>\n",
              "      <td>0.484540</td>\n",
              "      <td>305.0</td>\n",
              "      <td>28.0</td>\n",
              "      <td>2020.0</td>\n",
              "    </tr>\n",
              "    <tr>\n",
              "      <th>614</th>\n",
              "      <td>Rocket League</td>\n",
              "      <td>United States</td>\n",
              "      <td>2.894739</td>\n",
              "      <td>0.283200</td>\n",
              "      <td>262.0</td>\n",
              "      <td>27.0</td>\n",
              "      <td>2020.0</td>\n",
              "    </tr>\n",
              "    <tr>\n",
              "      <th>615</th>\n",
              "      <td>Rocket League</td>\n",
              "      <td>United States</td>\n",
              "      <td>2.894739</td>\n",
              "      <td>0.350177</td>\n",
              "      <td>256.0</td>\n",
              "      <td>17.0</td>\n",
              "      <td>2020.0</td>\n",
              "    </tr>\n",
              "  </tbody>\n",
              "</table>\n",
              "<p>616 rows × 7 columns</p>\n",
              "</div>"
            ],
            "text/plain": [
              "               Game    Top_Country  ...  Tournaments    Year\n",
              "0    Counter-Strike         Sweden  ...          6.0  2010.0\n",
              "1    Counter-Strike         Sweden  ...         10.0  2010.0\n",
              "2    Counter-Strike         Sweden  ...          6.0  2010.0\n",
              "3    Counter-Strike         Sweden  ...         14.0  2010.0\n",
              "4    Counter-Strike         Sweden  ...         11.0  2010.0\n",
              "..              ...            ...  ...          ...     ...\n",
              "611   Rocket League  United States  ...         24.0  2020.0\n",
              "612   Rocket League  United States  ...         27.0  2020.0\n",
              "613   Rocket League  United States  ...         28.0  2020.0\n",
              "614   Rocket League  United States  ...         27.0  2020.0\n",
              "615   Rocket League  United States  ...         17.0  2020.0\n",
              "\n",
              "[616 rows x 7 columns]"
            ]
          },
          "metadata": {
            "tags": []
          },
          "execution_count": 241
        }
      ]
    },
    {
      "cell_type": "markdown",
      "metadata": {
        "id": "9USdUT43NKps"
      },
      "source": [
        "Realizamos un análisis de que países han obtenido mayor ganancias en estos juegos"
      ]
    },
    {
      "cell_type": "code",
      "metadata": {
        "colab": {
          "base_uri": "https://localhost:8080/",
          "height": 206
        },
        "id": "VnlEUSgZNM3f",
        "outputId": "4a31dd25-c792-4d65-f2ce-43b7166d2343"
      },
      "source": [
        "#Agrupamos por país la cantidad de ganancias \r\n",
        "Paises_Ganancias = join2[[\"Top_Country\",\"Top_Country_Earnings\"]]\r\n",
        "Paises_Ganancias = Paises_Ganancias.groupby(['Top_Country']).sum().reset_index()\r\n",
        "Paises_Ganancias"
      ],
      "execution_count": null,
      "outputs": [
        {
          "output_type": "execute_result",
          "data": {
            "text/html": [
              "<div>\n",
              "<style scoped>\n",
              "    .dataframe tbody tr th:only-of-type {\n",
              "        vertical-align: middle;\n",
              "    }\n",
              "\n",
              "    .dataframe tbody tr th {\n",
              "        vertical-align: top;\n",
              "    }\n",
              "\n",
              "    .dataframe thead th {\n",
              "        text-align: right;\n",
              "    }\n",
              "</style>\n",
              "<table border=\"1\" class=\"dataframe\">\n",
              "  <thead>\n",
              "    <tr style=\"text-align: right;\">\n",
              "      <th></th>\n",
              "      <th>Top_Country</th>\n",
              "      <th>Top_Country_Earnings</th>\n",
              "    </tr>\n",
              "  </thead>\n",
              "  <tbody>\n",
              "    <tr>\n",
              "      <th>0</th>\n",
              "      <td>China</td>\n",
              "      <td>7526.860666</td>\n",
              "    </tr>\n",
              "    <tr>\n",
              "      <th>1</th>\n",
              "      <td>Denmark</td>\n",
              "      <td>1584.038889</td>\n",
              "    </tr>\n",
              "    <tr>\n",
              "      <th>2</th>\n",
              "      <td>Korea, Republic of</td>\n",
              "      <td>3262.209989</td>\n",
              "    </tr>\n",
              "    <tr>\n",
              "      <th>3</th>\n",
              "      <td>Sweden</td>\n",
              "      <td>107.821124</td>\n",
              "    </tr>\n",
              "    <tr>\n",
              "      <th>4</th>\n",
              "      <td>United States</td>\n",
              "      <td>358.609227</td>\n",
              "    </tr>\n",
              "  </tbody>\n",
              "</table>\n",
              "</div>"
            ],
            "text/plain": [
              "          Top_Country  Top_Country_Earnings\n",
              "0               China           7526.860666\n",
              "1             Denmark           1584.038889\n",
              "2  Korea, Republic of           3262.209989\n",
              "3              Sweden            107.821124\n",
              "4       United States            358.609227"
            ]
          },
          "metadata": {
            "tags": []
          },
          "execution_count": 242
        }
      ]
    },
    {
      "cell_type": "code",
      "metadata": {
        "colab": {
          "base_uri": "https://localhost:8080/",
          "height": 324
        },
        "id": "A7fK9st1NPLO",
        "outputId": "ad1eb737-6f7f-4f50-8144-72f7292ded64"
      },
      "source": [
        "#Realizamos una gráfica de pie\r\n",
        "\r\n",
        "paises_espanol = [\"China\",\"Dinamarca\",\"Corea del Sur\",\"Suecia\",\"Estados Unidos\"]\r\n",
        "\r\n",
        "labels = paises_espanol\r\n",
        "sizes = Paises_Ganancias[\"Top_Country_Earnings\"]\r\n",
        "\r\n",
        "patches, texts = plt.pie(sizes, shadow=True, startangle=90)\r\n",
        "plt.legend(patches, labels, loc=\"best\")\r\n",
        "plt.axis('equal')\r\n",
        "plt.tight_layout()\r\n",
        "plt.title('Países con mayores ganancias en los \\n Esports en los juegos más populares')\r\n",
        "\r\n",
        "plt.show()"
      ],
      "execution_count": null,
      "outputs": [
        {
          "output_type": "display_data",
          "data": {
            "image/png": "[encoded data removed]",
            "text/plain": [
              "<Figure size 432x288 with 1 Axes>"
            ]
          },
          "metadata": {
            "tags": []
          }
        }
      ]
    },
    {
      "cell_type": "markdown",
      "metadata": {
        "id": "7Sy3JVgXNbDL"
      },
      "source": [
        "Creamos diversos grupos de los juegos de interés, realizando filtro para encontrar coincidencias, estos grupos se realizan a partir del nombre y los años y pasamos los años a una columna, ya que al realizar el agrupamiento este pasa como índice, entonces tenemos que volverlo a pasar a columna."
      ]
    },
    {
      "cell_type": "code",
      "metadata": {
        "id": "ElzY6moBNgYD"
      },
      "source": [
        "################################################################\r\n",
        "Rainbow = join2[join2['Game'].str.match('^Rainbow Six')== True] \r\n",
        "Rainbow = Rainbow.groupby(['Year']).sum()\r\n",
        "Rainbow = Rainbow.rename_axis('Year').reset_index()\r\n",
        "################################################################\r\n",
        "Counter_Strike = join2[join2['Game'].str.match('^Counter-Strike')== True]\r\n",
        "Counter_Strike = Counter_Strike.groupby(['Year']).sum()\r\n",
        "Counter_Strike = Counter_Strike.rename_axis('Year').reset_index()\r\n",
        "################################################################\r\n",
        "LOL = join2[join2[\"Game\"] == 'League of Legends']\r\n",
        "LOL = LOL.groupby(['Year']).sum()\r\n",
        "LOL = LOL.rename_axis('Year').reset_index()\r\n",
        "################################################################\r\n",
        "Dota2 = join2[join2[\"Game\"] == 'Dota 2' ]                      \r\n",
        "Dota2 = Dota2.groupby(['Year']).sum()\r\n",
        "Dota2 = Dota2.rename_axis('Year').reset_index()\r\n",
        "#################################################################\r\n",
        "Rocket = join2[join2[\"Game\"] == 'Rocket League' ]\r\n",
        "Rocket = Rocket.groupby(['Year']).sum()\r\n",
        "Rocket = Rocket.rename_axis('Year').reset_index()\r\n",
        "################################################################\r\n",
        "Hearthstone = join2[join2[\"Game\"] == 'Hearthstone' ]\r\n",
        "Hearthstone = Hearthstone.groupby(['Year']).sum()\r\n",
        "Hearthstone = Hearthstone.rename_axis('Year').reset_index()\r\n",
        "################################################################"
      ],
      "execution_count": null,
      "outputs": []
    },
    {
      "cell_type": "code",
      "metadata": {
        "colab": {
          "base_uri": "https://localhost:8080/",
          "height": 446
        },
        "id": "tDDLFupmNj2p",
        "outputId": "e95d9e2b-d88c-46f3-f959-579e6f348c10"
      },
      "source": [
        "#Unimos los datafame de cada juego, esto para graficar su evolución a lo largo de los años \r\n",
        "\r\n",
        "########### LOS NaN nos sirven para que no aparezcan ceros en las gráficas, debido a esto no los retiramos \r\n",
        "\r\n",
        "Unidos = pd.concat([Rainbow,Counter_Strike, LOL,Dota2,Rocket,Hearthstone], axis=1, \r\n",
        "          keys=['Rainbow','Counter_Strike', 'LOL','Dota2','Rocket','Hearthstone'])\r\n",
        "Unidos"
      ],
      "execution_count": null,
      "outputs": [
        {
          "output_type": "execute_result",
          "data": {
            "text/html": [
              "<div>\n",
              "<style scoped>\n",
              "    .dataframe tbody tr th:only-of-type {\n",
              "        vertical-align: middle;\n",
              "    }\n",
              "\n",
              "    .dataframe tbody tr th {\n",
              "        vertical-align: top;\n",
              "    }\n",
              "\n",
              "    .dataframe thead tr th {\n",
              "        text-align: left;\n",
              "    }\n",
              "</style>\n",
              "<table border=\"1\" class=\"dataframe\">\n",
              "  <thead>\n",
              "    <tr>\n",
              "      <th></th>\n",
              "      <th colspan=\"5\" halign=\"left\">Rainbow</th>\n",
              "      <th colspan=\"5\" halign=\"left\">Counter_Strike</th>\n",
              "      <th colspan=\"5\" halign=\"left\">LOL</th>\n",
              "      <th colspan=\"5\" halign=\"left\">Dota2</th>\n",
              "      <th colspan=\"5\" halign=\"left\">Rocket</th>\n",
              "      <th colspan=\"5\" halign=\"left\">Hearthstone</th>\n",
              "    </tr>\n",
              "    <tr>\n",
              "      <th></th>\n",
              "      <th>Year</th>\n",
              "      <th>Top_Country_Earnings</th>\n",
              "      <th>Earnings</th>\n",
              "      <th>Players</th>\n",
              "      <th>Tournaments</th>\n",
              "      <th>Year</th>\n",
              "      <th>Top_Country_Earnings</th>\n",
              "      <th>Earnings</th>\n",
              "      <th>Players</th>\n",
              "      <th>Tournaments</th>\n",
              "      <th>Year</th>\n",
              "      <th>Top_Country_Earnings</th>\n",
              "      <th>Earnings</th>\n",
              "      <th>Players</th>\n",
              "      <th>Tournaments</th>\n",
              "      <th>Year</th>\n",
              "      <th>Top_Country_Earnings</th>\n",
              "      <th>Earnings</th>\n",
              "      <th>Players</th>\n",
              "      <th>Tournaments</th>\n",
              "      <th>Year</th>\n",
              "      <th>Top_Country_Earnings</th>\n",
              "      <th>Earnings</th>\n",
              "      <th>Players</th>\n",
              "      <th>Tournaments</th>\n",
              "      <th>Year</th>\n",
              "      <th>Top_Country_Earnings</th>\n",
              "      <th>Earnings</th>\n",
              "      <th>Players</th>\n",
              "      <th>Tournaments</th>\n",
              "    </tr>\n",
              "  </thead>\n",
              "  <tbody>\n",
              "    <tr>\n",
              "      <th>0</th>\n",
              "      <td>2016.0</td>\n",
              "      <td>17.755893</td>\n",
              "      <td>0.295680</td>\n",
              "      <td>150.0</td>\n",
              "      <td>22.0</td>\n",
              "      <td>2010.0</td>\n",
              "      <td>43.029267</td>\n",
              "      <td>1.801105</td>\n",
              "      <td>2810.0</td>\n",
              "      <td>177.0</td>\n",
              "      <td>2010.0</td>\n",
              "      <td>106.957705</td>\n",
              "      <td>0.027943</td>\n",
              "      <td>136.0</td>\n",
              "      <td>23.0</td>\n",
              "      <td>2011.0</td>\n",
              "      <td>260.242446</td>\n",
              "      <td>1.672268</td>\n",
              "      <td>128.0</td>\n",
              "      <td>6.0</td>\n",
              "      <td>2015.0</td>\n",
              "      <td>14.473696</td>\n",
              "      <td>0.023977</td>\n",
              "      <td>164.0</td>\n",
              "      <td>79.0</td>\n",
              "      <td>2013.0</td>\n",
              "      <td>7.196790</td>\n",
              "      <td>0.001395</td>\n",
              "      <td>3.0</td>\n",
              "      <td>3.0</td>\n",
              "    </tr>\n",
              "    <tr>\n",
              "      <th>1</th>\n",
              "      <td>2017.0</td>\n",
              "      <td>29.593155</td>\n",
              "      <td>0.863557</td>\n",
              "      <td>482.0</td>\n",
              "      <td>23.0</td>\n",
              "      <td>2011.0</td>\n",
              "      <td>43.029267</td>\n",
              "      <td>1.141858</td>\n",
              "      <td>2024.0</td>\n",
              "      <td>126.0</td>\n",
              "      <td>2011.0</td>\n",
              "      <td>320.873114</td>\n",
              "      <td>0.526575</td>\n",
              "      <td>837.0</td>\n",
              "      <td>172.0</td>\n",
              "      <td>2012.0</td>\n",
              "      <td>715.666726</td>\n",
              "      <td>2.087095</td>\n",
              "      <td>615.0</td>\n",
              "      <td>96.0</td>\n",
              "      <td>2016.0</td>\n",
              "      <td>34.736870</td>\n",
              "      <td>0.429728</td>\n",
              "      <td>811.0</td>\n",
              "      <td>307.0</td>\n",
              "      <td>2014.0</td>\n",
              "      <td>43.180742</td>\n",
              "      <td>1.123245</td>\n",
              "      <td>521.0</td>\n",
              "      <td>177.0</td>\n",
              "    </tr>\n",
              "    <tr>\n",
              "      <th>2</th>\n",
              "      <td>2018.0</td>\n",
              "      <td>35.511786</td>\n",
              "      <td>2.005274</td>\n",
              "      <td>1361.0</td>\n",
              "      <td>68.0</td>\n",
              "      <td>2012.0</td>\n",
              "      <td>149.010792</td>\n",
              "      <td>1.090870</td>\n",
              "      <td>1948.0</td>\n",
              "      <td>150.0</td>\n",
              "      <td>2012.0</td>\n",
              "      <td>320.873114</td>\n",
              "      <td>4.287209</td>\n",
              "      <td>2362.0</td>\n",
              "      <td>391.0</td>\n",
              "      <td>2013.0</td>\n",
              "      <td>780.727338</td>\n",
              "      <td>4.543142</td>\n",
              "      <td>1255.0</td>\n",
              "      <td>126.0</td>\n",
              "      <td>2017.0</td>\n",
              "      <td>34.736870</td>\n",
              "      <td>1.509901</td>\n",
              "      <td>1241.0</td>\n",
              "      <td>345.0</td>\n",
              "      <td>2015.0</td>\n",
              "      <td>43.180742</td>\n",
              "      <td>2.372584</td>\n",
              "      <td>967.0</td>\n",
              "      <td>251.0</td>\n",
              "    </tr>\n",
              "    <tr>\n",
              "      <th>3</th>\n",
              "      <td>2019.0</td>\n",
              "      <td>35.511786</td>\n",
              "      <td>5.018250</td>\n",
              "      <td>2017.0</td>\n",
              "      <td>89.0</td>\n",
              "      <td>2013.0</td>\n",
              "      <td>188.532656</td>\n",
              "      <td>1.364143</td>\n",
              "      <td>2227.0</td>\n",
              "      <td>204.0</td>\n",
              "      <td>2013.0</td>\n",
              "      <td>320.873114</td>\n",
              "      <td>6.226160</td>\n",
              "      <td>2714.0</td>\n",
              "      <td>368.0</td>\n",
              "      <td>2014.0</td>\n",
              "      <td>780.727338</td>\n",
              "      <td>16.608031</td>\n",
              "      <td>1757.0</td>\n",
              "      <td>150.0</td>\n",
              "      <td>2018.0</td>\n",
              "      <td>34.736870</td>\n",
              "      <td>2.363028</td>\n",
              "      <td>1115.0</td>\n",
              "      <td>163.0</td>\n",
              "      <td>2016.0</td>\n",
              "      <td>43.180742</td>\n",
              "      <td>3.455125</td>\n",
              "      <td>906.0</td>\n",
              "      <td>134.0</td>\n",
              "    </tr>\n",
              "    <tr>\n",
              "      <th>4</th>\n",
              "      <td>2020.0</td>\n",
              "      <td>26.633839</td>\n",
              "      <td>5.015764</td>\n",
              "      <td>950.0</td>\n",
              "      <td>40.0</td>\n",
              "      <td>2014.0</td>\n",
              "      <td>187.959137</td>\n",
              "      <td>2.042703</td>\n",
              "      <td>3051.0</td>\n",
              "      <td>282.0</td>\n",
              "      <td>2014.0</td>\n",
              "      <td>320.873114</td>\n",
              "      <td>8.057291</td>\n",
              "      <td>3908.0</td>\n",
              "      <td>428.0</td>\n",
              "      <td>2015.0</td>\n",
              "      <td>780.727338</td>\n",
              "      <td>31.050787</td>\n",
              "      <td>2730.0</td>\n",
              "      <td>227.0</td>\n",
              "      <td>2019.0</td>\n",
              "      <td>34.736870</td>\n",
              "      <td>3.046704</td>\n",
              "      <td>991.0</td>\n",
              "      <td>134.0</td>\n",
              "      <td>2017.0</td>\n",
              "      <td>43.180742</td>\n",
              "      <td>3.476623</td>\n",
              "      <td>1109.0</td>\n",
              "      <td>122.0</td>\n",
              "    </tr>\n",
              "    <tr>\n",
              "      <th>5</th>\n",
              "      <td>NaN</td>\n",
              "      <td>NaN</td>\n",
              "      <td>NaN</td>\n",
              "      <td>NaN</td>\n",
              "      <td>NaN</td>\n",
              "      <td>2015.0</td>\n",
              "      <td>184.834980</td>\n",
              "      <td>6.324970</td>\n",
              "      <td>7251.0</td>\n",
              "      <td>708.0</td>\n",
              "      <td>2015.0</td>\n",
              "      <td>320.873114</td>\n",
              "      <td>7.717807</td>\n",
              "      <td>4012.0</td>\n",
              "      <td>309.0</td>\n",
              "      <td>2016.0</td>\n",
              "      <td>780.727338</td>\n",
              "      <td>37.464420</td>\n",
              "      <td>2535.0</td>\n",
              "      <td>154.0</td>\n",
              "      <td>2020.0</td>\n",
              "      <td>34.736870</td>\n",
              "      <td>3.800358</td>\n",
              "      <td>2264.0</td>\n",
              "      <td>241.0</td>\n",
              "      <td>2018.0</td>\n",
              "      <td>43.180742</td>\n",
              "      <td>4.717852</td>\n",
              "      <td>1552.0</td>\n",
              "      <td>132.0</td>\n",
              "    </tr>\n",
              "    <tr>\n",
              "      <th>6</th>\n",
              "      <td>NaN</td>\n",
              "      <td>NaN</td>\n",
              "      <td>NaN</td>\n",
              "      <td>NaN</td>\n",
              "      <td>NaN</td>\n",
              "      <td>2016.0</td>\n",
              "      <td>184.834980</td>\n",
              "      <td>17.306133</td>\n",
              "      <td>10548.0</td>\n",
              "      <td>862.0</td>\n",
              "      <td>2016.0</td>\n",
              "      <td>320.873114</td>\n",
              "      <td>10.529060</td>\n",
              "      <td>3057.0</td>\n",
              "      <td>182.0</td>\n",
              "      <td>2017.0</td>\n",
              "      <td>780.727338</td>\n",
              "      <td>38.074599</td>\n",
              "      <td>2651.0</td>\n",
              "      <td>167.0</td>\n",
              "      <td>NaN</td>\n",
              "      <td>NaN</td>\n",
              "      <td>NaN</td>\n",
              "      <td>NaN</td>\n",
              "      <td>NaN</td>\n",
              "      <td>2019.0</td>\n",
              "      <td>43.180742</td>\n",
              "      <td>4.772553</td>\n",
              "      <td>982.0</td>\n",
              "      <td>43.0</td>\n",
              "    </tr>\n",
              "    <tr>\n",
              "      <th>7</th>\n",
              "      <td>NaN</td>\n",
              "      <td>NaN</td>\n",
              "      <td>NaN</td>\n",
              "      <td>NaN</td>\n",
              "      <td>NaN</td>\n",
              "      <td>2017.0</td>\n",
              "      <td>184.548220</td>\n",
              "      <td>19.270082</td>\n",
              "      <td>11497.0</td>\n",
              "      <td>906.0</td>\n",
              "      <td>2017.0</td>\n",
              "      <td>320.873114</td>\n",
              "      <td>12.225701</td>\n",
              "      <td>3521.0</td>\n",
              "      <td>186.0</td>\n",
              "      <td>2018.0</td>\n",
              "      <td>780.727338</td>\n",
              "      <td>41.457369</td>\n",
              "      <td>2860.0</td>\n",
              "      <td>174.0</td>\n",
              "      <td>NaN</td>\n",
              "      <td>NaN</td>\n",
              "      <td>NaN</td>\n",
              "      <td>NaN</td>\n",
              "      <td>NaN</td>\n",
              "      <td>2020.0</td>\n",
              "      <td>35.983952</td>\n",
              "      <td>4.232600</td>\n",
              "      <td>870.0</td>\n",
              "      <td>40.0</td>\n",
              "    </tr>\n",
              "    <tr>\n",
              "      <th>8</th>\n",
              "      <td>NaN</td>\n",
              "      <td>NaN</td>\n",
              "      <td>NaN</td>\n",
              "      <td>NaN</td>\n",
              "      <td>NaN</td>\n",
              "      <td>2018.0</td>\n",
              "      <td>184.548220</td>\n",
              "      <td>23.306930</td>\n",
              "      <td>11404.0</td>\n",
              "      <td>1018.0</td>\n",
              "      <td>2018.0</td>\n",
              "      <td>320.873114</td>\n",
              "      <td>14.569802</td>\n",
              "      <td>3852.0</td>\n",
              "      <td>184.0</td>\n",
              "      <td>2019.0</td>\n",
              "      <td>780.727338</td>\n",
              "      <td>47.039653</td>\n",
              "      <td>3196.0</td>\n",
              "      <td>223.0</td>\n",
              "      <td>NaN</td>\n",
              "      <td>NaN</td>\n",
              "      <td>NaN</td>\n",
              "      <td>NaN</td>\n",
              "      <td>NaN</td>\n",
              "      <td>NaN</td>\n",
              "      <td>NaN</td>\n",
              "      <td>NaN</td>\n",
              "      <td>NaN</td>\n",
              "      <td>NaN</td>\n",
              "    </tr>\n",
              "    <tr>\n",
              "      <th>9</th>\n",
              "      <td>NaN</td>\n",
              "      <td>NaN</td>\n",
              "      <td>NaN</td>\n",
              "      <td>NaN</td>\n",
              "      <td>NaN</td>\n",
              "      <td>2019.0</td>\n",
              "      <td>185.296594</td>\n",
              "      <td>22.001692</td>\n",
              "      <td>10324.0</td>\n",
              "      <td>836.0</td>\n",
              "      <td>2019.0</td>\n",
              "      <td>320.873114</td>\n",
              "      <td>9.498834</td>\n",
              "      <td>3701.0</td>\n",
              "      <td>173.0</td>\n",
              "      <td>2020.0</td>\n",
              "      <td>780.727338</td>\n",
              "      <td>9.323853</td>\n",
              "      <td>2941.0</td>\n",
              "      <td>148.0</td>\n",
              "      <td>NaN</td>\n",
              "      <td>NaN</td>\n",
              "      <td>NaN</td>\n",
              "      <td>NaN</td>\n",
              "      <td>NaN</td>\n",
              "      <td>NaN</td>\n",
              "      <td>NaN</td>\n",
              "      <td>NaN</td>\n",
              "      <td>NaN</td>\n",
              "      <td>NaN</td>\n",
              "    </tr>\n",
              "    <tr>\n",
              "      <th>10</th>\n",
              "      <td>NaN</td>\n",
              "      <td>NaN</td>\n",
              "      <td>NaN</td>\n",
              "      <td>NaN</td>\n",
              "      <td>NaN</td>\n",
              "      <td>2020.0</td>\n",
              "      <td>184.548220</td>\n",
              "      <td>15.808057</td>\n",
              "      <td>8297.0</td>\n",
              "      <td>570.0</td>\n",
              "      <td>2020.0</td>\n",
              "      <td>267.394261</td>\n",
              "      <td>8.003608</td>\n",
              "      <td>2203.0</td>\n",
              "      <td>65.0</td>\n",
              "      <td>NaN</td>\n",
              "      <td>NaN</td>\n",
              "      <td>NaN</td>\n",
              "      <td>NaN</td>\n",
              "      <td>NaN</td>\n",
              "      <td>NaN</td>\n",
              "      <td>NaN</td>\n",
              "      <td>NaN</td>\n",
              "      <td>NaN</td>\n",
              "      <td>NaN</td>\n",
              "      <td>NaN</td>\n",
              "      <td>NaN</td>\n",
              "      <td>NaN</td>\n",
              "      <td>NaN</td>\n",
              "      <td>NaN</td>\n",
              "    </tr>\n",
              "  </tbody>\n",
              "</table>\n",
              "</div>"
            ],
            "text/plain": [
              "   Rainbow                                 ... Hearthstone                    \n",
              "      Year Top_Country_Earnings  Earnings  ...    Earnings Players Tournaments\n",
              "0   2016.0            17.755893  0.295680  ...    0.001395     3.0         3.0\n",
              "1   2017.0            29.593155  0.863557  ...    1.123245   521.0       177.0\n",
              "2   2018.0            35.511786  2.005274  ...    2.372584   967.0       251.0\n",
              "3   2019.0            35.511786  5.018250  ...    3.455125   906.0       134.0\n",
              "4   2020.0            26.633839  5.015764  ...    3.476623  1109.0       122.0\n",
              "5      NaN                  NaN       NaN  ...    4.717852  1552.0       132.0\n",
              "6      NaN                  NaN       NaN  ...    4.772553   982.0        43.0\n",
              "7      NaN                  NaN       NaN  ...    4.232600   870.0        40.0\n",
              "8      NaN                  NaN       NaN  ...         NaN     NaN         NaN\n",
              "9      NaN                  NaN       NaN  ...         NaN     NaN         NaN\n",
              "10     NaN                  NaN       NaN  ...         NaN     NaN         NaN\n",
              "\n",
              "[11 rows x 30 columns]"
            ]
          },
          "metadata": {
            "tags": []
          },
          "execution_count": 247
        }
      ]
    },
    {
      "cell_type": "code",
      "metadata": {
        "colab": {
          "base_uri": "https://localhost:8080/",
          "height": 447
        },
        "id": "sU9GxaygNmPE",
        "outputId": "305e2955-e7ed-4aa6-c494-bbe7d75eb459"
      },
      "source": [
        "def barras(parametro, parametro_espanol):\r\n",
        "    fig, ax =  plt.subplots(figsize=(20,6))\r\n",
        "    width = 0.13\r\n",
        "    ax.bar(Unidos[\"Rainbow\"][\"Year\"], Unidos[\"Rainbow\"][parametro], \r\n",
        "           width,label='Rainbow', color = 'deeppink')\r\n",
        "    \r\n",
        "    ax.bar(Unidos[\"Counter_Strike\"][\"Year\"]+0.15, Unidos[\"Counter_Strike\"][parametro], \r\n",
        "           width,label='Counter - Strike', color = 'indianred')\r\n",
        "    \r\n",
        "    ax.bar(Unidos[\"LOL\"][\"Year\"]+ 0.30, Unidos[\"LOL\"][parametro], \r\n",
        "           width,label='League of Legends', color = 'royalblue')\r\n",
        "    \r\n",
        "    ax.bar(Unidos[\"Dota2\"][\"Year\"]+ 0.45, Unidos[\"Dota2\"][parametro], \r\n",
        "           width,label='Dota 2', color = 'm')\r\n",
        "    \r\n",
        "    ax.bar(Unidos[\"Rocket\"][\"Year\"]+ 0.6, Unidos[\"Rocket\"][parametro], \r\n",
        "           width,label='Rocket League', color = 'goldenrod')\r\n",
        "    \r\n",
        "    ax.bar(Unidos[\"Hearthstone\"][\"Year\"]+ 0.75, Unidos[\"Hearthstone\"][parametro], \r\n",
        "           width,label='Hearthstone', color = 'green')\r\n",
        "\r\n",
        "    ax.set_xlabel('Años',size=25)\r\n",
        "    if parametro_espanol == \"Ganancias\":\r\n",
        "         ax.set_ylabel('Ganancias en millones de dólares',size=25)\r\n",
        "    elif parametro_espanol == 'Torneos':\r\n",
        "        ax.set_ylabel('Cantidad de torneos',size = 25)\r\n",
        "    elif parametro_espanol == 'Jugadores':\r\n",
        "        ax.set_ylabel('Cantidad de jugadores',size = 25)\r\n",
        "\r\n",
        "        \r\n",
        "    ax.set_title(parametro_espanol +' en los últimos 10 años',size=35)\r\n",
        "\r\n",
        "    ax.grid(True, axis='x', color='white')\r\n",
        "    ax.tick_params(axis ='both', labelsize = 20)\r\n",
        "    sns.set(style=\"darkgrid\")\r\n",
        "    ax.legend(loc = 'best', fontsize=14)\r\n",
        "\r\n",
        "    \r\n",
        "torneos_barras = barras(parametro = \"Tournaments\", parametro_espanol = \"Torneos\")\r\n",
        "\r\n",
        "plt.show()"
      ],
      "execution_count": null,
      "outputs": [
        {
          "output_type": "display_data",
          "data": {
            "image/png": "[encoded data removed]",
            "text/plain": [
              "<Figure size 1440x432 with 1 Axes>"
            ]
          },
          "metadata": {
            "tags": []
          }
        }
      ]
    },
    {
      "cell_type": "code",
      "metadata": {
        "colab": {
          "base_uri": "https://localhost:8080/",
          "height": 448
        },
        "id": "pKXKwU_TNo37",
        "outputId": "991e7a2e-20f3-40ed-c8fb-60d49b1b1d39"
      },
      "source": [
        "jugadores_barras =  barras(parametro = \"Players\", parametro_espanol = \"Jugadores\")\r\n",
        "plt.show()"
      ],
      "execution_count": null,
      "outputs": [
        {
          "output_type": "display_data",
          "data": {
            "image/png": "[encoded data removed]",
            "text/plain": [
              "<Figure size 1440x432 with 1 Axes>"
            ]
          },
          "metadata": {
            "tags": []
          }
        }
      ]
    },
    {
      "cell_type": "code",
      "metadata": {
        "colab": {
          "base_uri": "https://localhost:8080/",
          "height": 461
        },
        "id": "1oqBPLzSNsLf",
        "outputId": "81decf5f-d7ad-43f0-a12c-68b07fd871e7"
      },
      "source": [
        "ganancias_barras =  barras(parametro = \"Earnings\", parametro_espanol = \"Ganancias\")\r\n",
        "plt.show()"
      ],
      "execution_count": null,
      "outputs": [
        {
          "output_type": "display_data",
          "data": {
            "image/png": "[encoded data removed]",
            "text/plain": [
              "<Figure size 1440x432 with 1 Axes>"
            ]
          },
          "metadata": {
            "tags": []
          }
        }
      ]
    },
    {
      "cell_type": "markdown",
      "metadata": {
        "id": "Xfbs-WdcNu8S"
      },
      "source": [
        "Notamos que la cantidad de torneos y jugadores de Counter - Strike crecen de una manera similar, aquí nos surge una pregunta\r\n",
        "\r\n",
        "        ¿Cuál es la relación entre estás variables?\r\n",
        "\r\n",
        "Para hallar la relación entre estás variables primero \"_plotiemos_\" los valores de estás, para así visualizar que tipo de análisis sería el correcto\r\n"
      ]
    },
    {
      "cell_type": "code",
      "metadata": {
        "colab": {
          "base_uri": "https://localhost:8080/"
        },
        "id": "MaYLULPqNwAZ",
        "outputId": "08c5f930-98cd-401c-d73f-02f709d9c472"
      },
      "source": [
        "#Volvamos a obtener la variable relacionado a Counter_Strike\r\n",
        "\r\n",
        "Counter_Strike = join2[join2['Game'].str.match('^Counter-Strike')== True]\r\n",
        "Counter_Strike.info()"
      ],
      "execution_count": null,
      "outputs": [
        {
          "output_type": "stream",
          "text": [
            "<class 'pandas.core.frame.DataFrame'>\n",
            "Int64Index: 185 entries, 0 to 184\n",
            "Data columns (total 7 columns):\n",
            " #   Column                Non-Null Count  Dtype  \n",
            "---  ------                --------------  -----  \n",
            " 0   Game                  185 non-null    object \n",
            " 1   Top_Country           185 non-null    object \n",
            " 2   Top_Country_Earnings  185 non-null    float64\n",
            " 3   Earnings              185 non-null    float64\n",
            " 4   Players               185 non-null    float64\n",
            " 5   Tournaments           185 non-null    float64\n",
            " 6   Year                  185 non-null    float64\n",
            "dtypes: float64(5), object(2)\n",
            "memory usage: 11.6+ KB\n"
          ],
          "name": "stdout"
        }
      ]
    },
    {
      "cell_type": "code",
      "metadata": {
        "colab": {
          "base_uri": "https://localhost:8080/",
          "height": 303
        },
        "id": "ojxvzdM-N6_W",
        "outputId": "2f6956ea-6066-4533-fe2b-2e7d46cd4b37"
      },
      "source": [
        "#Gráfica para visualizar los datos\r\n",
        "X = Counter_Strike[\"Players\"].values    #Con esto se forma un vector\r\n",
        "Y = Counter_Strike[\"Tournaments\"].values   # \r\n",
        "plt.scatter(X,Y)\r\n",
        "plt.xlabel('Jugadores'), plt.ylabel('Torneos')\r\n",
        "plt.title(\"Counter - Strike\", size=15)\r\n",
        "plt.show()"
      ],
      "execution_count": null,
      "outputs": [
        {
          "output_type": "display_data",
          "data": {
            "image/png": "[encoded data removed]",
            "text/plain": [
              "<Figure size 432x288 with 1 Axes>"
            ]
          },
          "metadata": {
            "tags": []
          }
        }
      ]
    },
    {
      "cell_type": "markdown",
      "metadata": {
        "id": "XP3BXaPXN-Ck"
      },
      "source": [
        "Notamos que los datos parecieran tener una correlación positiva, implementemos un algoritmo de regresión lineal con Machine Learning para analizar esto a detalle, desde Scratch:\r\n"
      ]
    },
    {
      "cell_type": "markdown",
      "metadata": {
        "id": "Gbxd9DSWN_r_"
      },
      "source": [
        "#### 1) Separar los datos de entrenamiento a los de test"
      ]
    },
    {
      "cell_type": "code",
      "metadata": {
        "id": "eXUK_NuTOASx"
      },
      "source": [
        "def separacionDatos(X,Y,tamanhoTest=0.2): #Para el entrenamiento\r\n",
        "    m = Y.size #Número de datos que tenemos (Puede ser X)\r\n",
        "    \r\n",
        "    #Tomo valores para el índice Test, cuantos van a test\r\n",
        "    testTamanho = int(m*tamanhoTest)  #Por qué no nos puede tomar un valor flotante, son datos\r\n",
        "    \r\n",
        "    #Indices para el Test, te regresa los que usamos para test\r\n",
        "    indicesTest = np.random.choice(m,testTamanho) #Elige aleatoriamente ciertos elementos, de esos m elementos de testTamanho\r\n",
        "    \r\n",
        "    #Indices para el entramiento, quito los del test y me quedo con los del entrenamiento\r\n",
        "    indicesEntrenamiento = np.setdiff1d(np.arange(m),indicesTest)   #Nos hace como una resta de que elementos de una lista  no estan en la segunda lista\r\n",
        "    \r\n",
        "    \r\n",
        "    #Separamos las datos en 4 grupos\r\n",
        "    return X[indicesTest], Y[indicesTest], X[indicesEntrenamiento], Y[indicesEntrenamiento]"
      ],
      "execution_count": null,
      "outputs": []
    },
    {
      "cell_type": "markdown",
      "metadata": {
        "id": "csJCTqzUOEEs"
      },
      "source": [
        "#### 2) Función de hipótesis"
      ]
    },
    {
      "cell_type": "code",
      "metadata": {
        "id": "LVoPF8y7OBor"
      },
      "source": [
        "def funcionHipotesis(X,theta):\r\n",
        "    h = X @ theta #@ es un forma de multiplicar vector por vector\r\n",
        "    return h"
      ],
      "execution_count": null,
      "outputs": []
    },
    {
      "cell_type": "markdown",
      "metadata": {
        "id": "vacTve8FOI-k"
      },
      "source": [
        "#### 3) Función de costos"
      ]
    },
    {
      "cell_type": "code",
      "metadata": {
        "id": "rbwNIi_hOLcY"
      },
      "source": [
        "def funcionCosto(X,Y,theta): #Que sea convenxa\r\n",
        "    \r\n",
        "    h = funcionHipotesis(X,theta) #Nos va a regresar un vector\r\n",
        "    m = Y.size                  #En este ejemplo es 97\r\n",
        "    variableDump = h - Y        #Lo que va adentro del parentesis\r\n",
        "    j = (variableDump @ variableDump)/(2*m)    \r\n",
        "    return j\r\n"
      ],
      "execution_count": null,
      "outputs": []
    },
    {
      "cell_type": "markdown",
      "metadata": {
        "id": "Wf0unkagOQAZ"
      },
      "source": [
        "#### 4) Funcion de Gradiente"
      ]
    },
    {
      "cell_type": "code",
      "metadata": {
        "id": "IQm3WbY6OQu9"
      },
      "source": [
        "def gradienteCostos(X,Y,theta):   #Para saber como es la pendiente en cada punto, para iterar de una manera acertada\r\n",
        "    m = Y.size\r\n",
        "    h = funcionHipotesis(X,theta)\r\n",
        "    dj = ((h-Y)@ X)/m #Derivada de la función de costos\r\n",
        "    return dj"
      ],
      "execution_count": null,
      "outputs": []
    },
    {
      "cell_type": "markdown",
      "metadata": {
        "id": "tZeX7kFVOTv2"
      },
      "source": [
        "#### Función gradiente de descensos"
      ]
    },
    {
      "cell_type": "code",
      "metadata": {
        "id": "hTji2_WJOUeS"
      },
      "source": [
        "def gradienteDescenso(X,Y,alpha,E=0.001): #El error es para saber que tanto se separan las iteraciones, si la iteración ya es menor que el error ya se acepta\r\n",
        "    m = Y.size\r\n",
        "    X = np.hstack([np.ones([m,1]),X])  #Es el valor que multiplica a theta 1\r\n",
        "    n = X.shape[1]\r\n",
        "    theta = np.zeros([n])     #Lo inicializamos como queramos, con aletorios o ceros\r\n",
        "    \r\n",
        "    costoAnterior = funcionCosto(X,Y,theta)  #La función de costo manda a llamar a la función de hipotesis a la vez\r\n",
        "    theta = theta-alpha*gradienteCostos(X,Y,theta)\r\n",
        "    costoActual = funcionCosto(X,Y,theta) #Volvemos a tomar la función \r\n",
        "    \r\n",
        "    diferenciaCostos = abs(costoActual - costoAnterior) \r\n",
        "    #if diferenciaCostos == E\r\n",
        "    numIteraciones = [0,1]\r\n",
        "    yCostos = [costoAnterior, costoActual]\r\n",
        "    i = 2\r\n",
        "    \r\n",
        "    while diferenciaCostos > E: #Mientras no converga, es decir que la derivada sea diferente de cero\r\n",
        "        costoAnterior = funcionCosto(X,Y,theta)\r\n",
        "        theta = theta-alpha*gradienteCostos(X,Y,theta)\r\n",
        "        costoActual = funcionCosto(X,Y,theta) #Volvemos a tomar la función\r\n",
        "        \r\n",
        "        diferenciaCostos = abs(costoActual - costoAnterior) \r\n",
        "        \r\n",
        "        numIteraciones.append(i) #Nuestra lista de contadores\r\n",
        "        yCostos.append(costoActual)\r\n",
        "        i = i+1\r\n",
        "        \r\n",
        "    plt.plot(numIteraciones, yCostos)\r\n",
        "    plt.title('Función de costo con respecto a las iteraciones')\r\n",
        "    plt.xlabel('Iteraciones')\r\n",
        "    plt.ylabel('Costo')\r\n",
        "    print('El último costo es: ', yCostos[-1])\r\n",
        "    plt.show()\r\n",
        "    \r\n",
        "    return theta"
      ],
      "execution_count": null,
      "outputs": []
    },
    {
      "cell_type": "markdown",
      "metadata": {
        "id": "gP7CIvUzOYpP"
      },
      "source": [
        "#### Llamamos a las funciones"
      ]
    },
    {
      "cell_type": "code",
      "metadata": {
        "colab": {
          "base_uri": "https://localhost:8080/",
          "height": 320
        },
        "id": "IuWdcI4NOaT4",
        "outputId": "2422e58a-f31b-4167-dc10-f6ea41d67c8e"
      },
      "source": [
        "alpha=0.000001\r\n",
        "X = X.reshape([Y.size,1])  #Si hace falta rellenalo con uno\r\n",
        "\r\n",
        "#Separación entre test y training\r\n",
        "xTest, yTest, xEntrenamiento, yEntrenamiento =separacionDatos(X,Y)\r\n",
        "theta = gradienteDescenso(xEntrenamiento, yEntrenamiento, alpha)"
      ],
      "execution_count": null,
      "outputs": [
        {
          "output_type": "stream",
          "text": [
            "El último costo es:  68.24808911514765\n"
          ],
          "name": "stdout"
        },
        {
          "output_type": "display_data",
          "data": {
            "image/png": "[encoded data removed]",
            "text/plain": [
              "<Figure size 432x288 with 1 Axes>"
            ]
          },
          "metadata": {
            "tags": []
          }
        }
      ]
    },
    {
      "cell_type": "markdown",
      "metadata": {
        "id": "CIIbmRD0OegV"
      },
      "source": [
        "#### Gráfica para visualizar los datos"
      ]
    },
    {
      "cell_type": "code",
      "metadata": {
        "colab": {
          "base_uri": "https://localhost:8080/",
          "height": 303
        },
        "id": "dq2Xej79OgIa",
        "outputId": "63193202-82dc-45cc-eb47-0e5ee885f6fb"
      },
      "source": [
        "X = Counter_Strike['Players'].values    #Con esto se forma un vector\r\n",
        "Y = Counter_Strike['Tournaments'].values   # \r\n",
        "plt.scatter(X,Y)\r\n",
        "\r\n",
        "x = np.linspace(0,1750,10)\r\n",
        "y = theta[0] + theta[1]*x\r\n",
        "plt.plot(x,y,'r')\r\n",
        "plt.xlabel('Jugadores'), plt.ylabel('Torneos')\r\n",
        "plt.title('Counter Strike', size=15)\r\n",
        "plt.show()"
      ],
      "execution_count": null,
      "outputs": [
        {
          "output_type": "display_data",
          "data": {
            "image/png": "[encoded data removed]",
            "text/plain": [
              "<Figure size 432x288 with 1 Axes>"
            ]
          },
          "metadata": {
            "tags": []
          }
        }
      ]
    },
    {
      "cell_type": "code",
      "metadata": {
        "colab": {
          "base_uri": "https://localhost:8080/"
        },
        "id": "nioY4nrMOiC2",
        "outputId": "b9c28b5c-033d-4735-af4e-cc2186a75ad9"
      },
      "source": [
        "#Predecir el valor de algun dato en nuestro test Set\r\n",
        "#Sólo está tomando los valores del test, no los noventa datos \r\n",
        "print('El valor en x es: ' + format(xTest[10])) \r\n",
        "print('El valor en y es: ' + format(yTest[10]))\r\n",
        "yPredicho = theta[0]+theta[1]*xTest[10]\r\n",
        "print('El valor predicho de y es: ' + format(yPredicho))"
      ],
      "execution_count": null,
      "outputs": [
        {
          "output_type": "stream",
          "text": [
            "El valor en x es: [558.]\n",
            "El valor en y es: 48.0\n",
            "El valor predicho de y es: [43.65232262]\n"
          ],
          "name": "stdout"
        }
      ]
    },
    {
      "cell_type": "code",
      "metadata": {
        "colab": {
          "base_uri": "https://localhost:8080/",
          "height": 364
        },
        "id": "xUwOD1EPOigS",
        "outputId": "ebfacdf7-17ef-410f-ff01-9764b4251c4f"
      },
      "source": [
        "#Algoritmo para conocer la regresión lineal\r\n",
        "from sklearn.linear_model import LinearRegression\r\n",
        "from sklearn.metrics import r2_score \r\n",
        "#R_sq = .score(X,Y) \r\n",
        "\r\n",
        "X = Counter_Strike[\"Players\"].values.reshape(-1,1)\r\n",
        "Y = Counter_Strike[\"Tournaments\"].values.reshape(-1,1)\r\n",
        "\r\n",
        "\r\n",
        "modeloDeRegresion = LinearRegression() #\r\n",
        "modeloDeRegresion.fit(X,Y) #Aquí lo entrenamos\r\n",
        "theta1 = modeloDeRegresion.coef_[0][0]   #Theta cero\r\n",
        "theta0 = modeloDeRegresion.intercept_[0] #Theta uno\r\n",
        "R_sq = modeloDeRegresion.score(X,Y) \r\n",
        "\r\n",
        "\r\n",
        "yPredicha = modeloDeRegresion.predict(X) #Aquí vemos si ya salió \r\n",
        "\r\n",
        "\r\n",
        "plt.scatter(Counter_Strike[\"Players\"],Counter_Strike[\"Tournaments\"], label = 'Datos', \r\n",
        "            c = Counter_Strike[\"Earnings\"], cmap = 'winter')\r\n",
        "plt.colorbar(label= 'Ganancias en mdd')\r\n",
        "plt.plot(X,yPredicha, 'r',  label='Ajuste lineal \\n y = $0.078(x) + 1.16 $ \\n $R^2$ = 0.885')\r\n",
        "\r\n",
        "plt.xlabel('Jugadores ',fontsize = 15) \r\n",
        "plt.ylabel('Torneos',fontsize = 15) \r\n",
        "plt.title('Counter - Strike', fontsize = 20)\r\n",
        "plt.legend()\r\n",
        "plt.show()\r\n",
        "\r\n",
        "print(theta0)\r\n",
        "print(theta1)\r\n",
        "print(R_sq)"
      ],
      "execution_count": 261,
      "outputs": [
        {
          "output_type": "display_data",
          "data": {
            "image/png": "[encoded data removed]",
            "text/plain": [
              "<Figure size 432x288 with 2 Axes>"
            ]
          },
          "metadata": {
            "tags": []
          }
        },
        {
          "output_type": "stream",
          "text": [
            "1.1611284376790039\n",
            "0.07879115225381242\n",
            "0.8850902168498156\n"
          ],
          "name": "stdout"
        }
      ]
    },
    {
      "cell_type": "markdown",
      "metadata": {
        "id": "zEfr5d6AOnAj"
      },
      "source": [
        "#### Efectivamente estás dos variables están inequívocamente relacionadas, salvo algunos valores atípicos.\r\n",
        "\r\n",
        "#### Lo que nos reitera que la cantidad de jugadores a hecho que crezca el número de torneos, hemos llegado a esta conclusión basándonos en nuestro proyecto anterior y aplicando técnicas de ML, nuestra hipótesis será ahora reforzada utilizando el Dataframe que elaboramos durante el módulo 3 con datos de los enfrentamientos."
      ]
    },
    {
      "cell_type": "code",
      "metadata": {
        "id": "Nny6wPj-OkxS"
      },
      "source": [
        "#Funciones necesarias para llamar al dataframe desde la API\r\n",
        "import pandas as pd \r\n",
        "import math as mt\r\n",
        "from datetime import *\r\n",
        "import requests \r\n",
        "\r\n",
        "def PandaScore_get_matches(juego): #Definimos nuestra función\r\n",
        "    if isinstance(juego, str): #Nos aseguramos que los argumentos sean de tipo str\r\n",
        "        informacion = 'matches'\r\n",
        "        registros = 100 #Establecemos el número de registros por página\r\n",
        "        token = 'V3U1fnnWozJi3bbhZfrxdiAmN4-XWnX_4g6i_6iauwwh7w-V8Ns' #Token de acceso\r\n",
        "        url = f\"https://api.pandascore.co/{juego}/{informacion}?page[size]={registros}&token={token}\" #URL con los parámetros deseados\r\n",
        "        response = requests.get(url) #Realizamos la petición\r\n",
        "        if response.status_code == 200: #Si todo salió bien continuamos\r\n",
        "            Iteraciones = mt.ceil(float(response.headers['X-Total'])/registros) #Calculamos el número de páginas en base a todos los registros que hay en la API\r\n",
        "            #Al dividir el número total de registros entre los registros solicitados obtenemos un aproximado, para asegurar que tomaremos todos, redondeamos al entero más alto\r\n",
        "            for i in range(1,Iteraciones+1): #Ciclo for para obtener todos los registros de cada página\r\n",
        "                url = f\"https://api.pandascore.co/{juego}/{informacion}?page[size]={registros}&page[number]={i}&token=V3U1fnnWozJi3bbhZfrxdiAmN4-XWnX_4g6i_6iauwwh7w-V8Ns\"\r\n",
        "                #URL el parámetro de página deseada\r\n",
        "                response = requests.get(url) #Realizamos la petición correspondiente\r\n",
        "                data = response.json() #Transformamos la respuesta \r\n",
        "                if i == 1: #En la primer iteración se crea un Dataframe\r\n",
        "                    df_matches = pd.DataFrame.from_dict(data)\r\n",
        "                else: #En el resto de iteraciones se van añadiendo los nuevos registros\r\n",
        "                    df_matches = df_matches.append(pd.DataFrame.from_dict(data),ignore_index=True)                    \r\n",
        "            return df_matches # Finalmente se devuelve el Dataframe con todos los registros limpios y ordenados\r\n",
        "        else: #Si la petición no se ejecutó correctamente mandamos un mensaje con el error devuelto\r\n",
        "            return 'Error de petición: '+str(response.status_code)  \r\n",
        "    else: #Si los argumentos no son de tipo str regresamos un mensaje\r\n",
        "        return 'Por favor coloque un argumento válido en formato string.'\r\n",
        "\r\n",
        "\r\n",
        "\r\n",
        "def df_matches_clean(df_matches):\r\n",
        "  ########### Limpieza de datos\r\n",
        "   campos_no_deseados = ['videogame', 'slug', 'tournament', 'league', 'serie', 'streams', 'modified_at', 'games',\r\n",
        "                      'game_advantage', 'scheduled_at', 'original_scheduled_at', 'detailed_stats','live',\r\n",
        "                      'match_type', 'videogame_version', 'live_embed_url', 'id'] \r\n",
        "\r\n",
        "   df_matches_temp = df_matches.drop(columns=campos_no_deseados) #Limpiamos campos que no nos son de utilidad\r\n",
        "   df_matches_finished = df_matches_temp[ df_matches_temp['status'] == 'finished' ] #Dejamos solo los enfrentamientos que han terminado\r\n",
        "   df_matches_finished_clean = df_matches_finished.dropna(subset=['begin_at', 'end_at']) #Eliminamos algunos valores nulos de las fechas\r\n",
        "   df_matches_ordenado = df_matches_finished_clean[['name','opponents','results','forfeit','draw', #Reorganizamos los campos\r\n",
        "                                                      'number_of_games','winner','winner_id','begin_at','end_at', \r\n",
        "                                                      'rescheduled','official_stream_url','league_id', 'serie_id', 'tournament_id']]\r\n",
        "   df_matches_ordenado = df_matches_ordenado.reset_index(drop=True) #Reseteamos el índice\r\n",
        "   nombres_nuevos = {'name' : 'match_name',\r\n",
        "                             'begin_at' : 'begin_date',\r\n",
        "                             'end_at' : 'end_date',\r\n",
        "                             'official_stream_url' : 'official_stream_channel_url'}                       \r\n",
        "   df_matches_ordenado.rename(columns=nombres_nuevos, inplace=True) #Renombramos columnas \r\n",
        "   return df_matches_ordenado\r\n",
        "\r\n",
        "def winner_team(serie):\r\n",
        "    if serie == None:\r\n",
        "        return 'Undefined'\r\n",
        "    else: return serie['name']\r\n",
        "\r\n",
        "def loser_team(df):\r\n",
        "    losers = []\r\n",
        "    for i in range(0,len(df)):\r\n",
        "        ganador = df['winner_team'][i]\r\n",
        "        equipo = df['opponents'][i][0]['opponent']['name']\r\n",
        "        if ganador == 'Undefined':\r\n",
        "           losers.append('Undefined')\r\n",
        "        elif equipo == ganador:\r\n",
        "           losers.append(df['opponents'][i][1]['opponent']['name'])  \r\n",
        "        elif equipo != ganador: \r\n",
        "           losers.append(df['opponents'][i][0]['opponent']['name'] )\r\n",
        "    return pd.Series(losers,index=df.index)\r\n",
        "\r\n",
        "def team_scores(df):\r\n",
        "    losers_score = []\r\n",
        "    winners_score = []\r\n",
        "    for i in range(0,len(df)):\r\n",
        "        ganador_id = df['winner_id'][i]\r\n",
        "        equipo1_id = df['results'][i][0].get('team_id')\r\n",
        "        equipo2_id = df['results'][i][1].get('team_id')\r\n",
        "        if ganador_id == 0:\r\n",
        "            winner_score = 0\r\n",
        "            loser_score = 0\r\n",
        "        elif equipo1_id == ganador_id:\r\n",
        "            winner_score = df['results'][i][0].get('score')\r\n",
        "            loser_score = df['results'][i][1].get('score')\r\n",
        "        else:\r\n",
        "            winner_score = df['results'][i][1].get('score')\r\n",
        "            loser_score = df['results'][i][0].get('score')\r\n",
        "        winners_score.append(winner_score)    \r\n",
        "        losers_score.append(loser_score)\r\n",
        "    return [pd.Series(winners_score,index=df.index), pd.Series(losers_score,index=df.index) ]\r\n",
        "\r\n",
        "def matches_shiny(juego_matches):\r\n",
        "    juego_matches['winner_team'] = juego_matches['winner'].map(winner_team)\r\n",
        "    juego_matches['loser_team'] = loser_team(juego_matches)  \r\n",
        "    juego_matches['winner_id'] = juego_matches['winner_id'].fillna(0)\r\n",
        "    juego_matches['official_stream_channel_url'] = juego_matches['official_stream_channel_url'].fillna('Not Provided')\r\n",
        "    juego_matches['winner_id'] = juego_matches['winner_id'].astype(int)\r\n",
        "    [winner_score,loser_score] = team_scores(juego_matches)\r\n",
        "    juego_matches['winner_score'] = winner_score\r\n",
        "    juego_matches['loser_score'] = loser_score\r\n",
        "    campos_no_deseados = ['results','winner','opponents','winner_id']\r\n",
        "    juego_matches = juego_matches.drop(columns=campos_no_deseados)\r\n",
        "    juego_matches['begin_date'] = juego_matches['begin_date'].apply(datetime.strptime, args=('%Y-%m-%dT%H:%M:%SZ',))\r\n",
        "    juego_matches['end_date'] = juego_matches['end_date'].apply(datetime.strptime, args=('%Y-%m-%dT%H:%M:%SZ',))\r\n",
        "    ljuego_matches = juego_matches.sort_values('begin_date', ascending=True)\r\n",
        "    juego_matches = juego_matches.reset_index(drop=True)\r\n",
        "    return juego_matches    "
      ],
      "execution_count": null,
      "outputs": []
    },
    {
      "cell_type": "markdown",
      "metadata": {
        "id": "H6rTDrRYQgRr"
      },
      "source": [
        "Llamemos al Dataframe que contiene información sobre los enfrentamientos de CSGO:"
      ]
    },
    {
      "cell_type": "code",
      "metadata": {
        "id": "OH1xOoj2QbnC"
      },
      "source": [
        "csgo_matches_raw = PandaScore_get_matches('csgo')\r\n",
        "csgo_matches_sin_nones = df_matches_clean(csgo_matches_raw)\r\n",
        "csgo_matches = matches_shiny(csgo_matches_sin_nones)"
      ],
      "execution_count": null,
      "outputs": []
    },
    {
      "cell_type": "code",
      "metadata": {
        "colab": {
          "base_uri": "https://localhost:8080/",
          "height": 843
        },
        "id": "xQHphPCBSIKR",
        "outputId": "8bbfffd1-f9f0-4acc-e5be-86f87b4e12d9"
      },
      "source": [
        "csgo_matches"
      ],
      "execution_count": null,
      "outputs": [
        {
          "output_type": "execute_result",
          "data": {
            "text/html": [
              "<div>\n",
              "<style scoped>\n",
              "    .dataframe tbody tr th:only-of-type {\n",
              "        vertical-align: middle;\n",
              "    }\n",
              "\n",
              "    .dataframe tbody tr th {\n",
              "        vertical-align: top;\n",
              "    }\n",
              "\n",
              "    .dataframe thead th {\n",
              "        text-align: right;\n",
              "    }\n",
              "</style>\n",
              "<table border=\"1\" class=\"dataframe\">\n",
              "  <thead>\n",
              "    <tr style=\"text-align: right;\">\n",
              "      <th></th>\n",
              "      <th>match_name</th>\n",
              "      <th>forfeit</th>\n",
              "      <th>draw</th>\n",
              "      <th>number_of_games</th>\n",
              "      <th>begin_date</th>\n",
              "      <th>end_date</th>\n",
              "      <th>rescheduled</th>\n",
              "      <th>official_stream_channel_url</th>\n",
              "      <th>league_id</th>\n",
              "      <th>serie_id</th>\n",
              "      <th>tournament_id</th>\n",
              "      <th>winner_team</th>\n",
              "      <th>loser_team</th>\n",
              "      <th>winner_score</th>\n",
              "      <th>loser_score</th>\n",
              "    </tr>\n",
              "  </thead>\n",
              "  <tbody>\n",
              "    <tr>\n",
              "      <th>0</th>\n",
              "      <td>Quarterfinal 3: Secret Club vs The Commission</td>\n",
              "      <td>False</td>\n",
              "      <td>False</td>\n",
              "      <td>3</td>\n",
              "      <td>2021-03-09 01:30:32</td>\n",
              "      <td>2021-03-09 04:34:01</td>\n",
              "      <td>False</td>\n",
              "      <td>Not Provided</td>\n",
              "      <td>4321</td>\n",
              "      <td>3420</td>\n",
              "      <td>5654</td>\n",
              "      <td>Secret Club</td>\n",
              "      <td>The Commission</td>\n",
              "      <td>2</td>\n",
              "      <td>1</td>\n",
              "    </tr>\n",
              "    <tr>\n",
              "      <th>1</th>\n",
              "      <td>Quarterfinal 2: Team Unknown vs RBG</td>\n",
              "      <td>False</td>\n",
              "      <td>False</td>\n",
              "      <td>3</td>\n",
              "      <td>2021-03-09 01:09:42</td>\n",
              "      <td>2021-03-09 02:20:00</td>\n",
              "      <td>False</td>\n",
              "      <td>Not Provided</td>\n",
              "      <td>4321</td>\n",
              "      <td>3420</td>\n",
              "      <td>5654</td>\n",
              "      <td>RBG</td>\n",
              "      <td>Team Unknown</td>\n",
              "      <td>2</td>\n",
              "      <td>0</td>\n",
              "    </tr>\n",
              "    <tr>\n",
              "      <th>2</th>\n",
              "      <td>Quarterfinal 1: Levitate vs Rebirth Esports</td>\n",
              "      <td>False</td>\n",
              "      <td>False</td>\n",
              "      <td>3</td>\n",
              "      <td>2021-03-09 01:09:40</td>\n",
              "      <td>2021-03-09 02:28:31</td>\n",
              "      <td>False</td>\n",
              "      <td>Not Provided</td>\n",
              "      <td>4321</td>\n",
              "      <td>3420</td>\n",
              "      <td>5654</td>\n",
              "      <td>Rebirth Esports</td>\n",
              "      <td>Levitate</td>\n",
              "      <td>2</td>\n",
              "      <td>0</td>\n",
              "    </tr>\n",
              "    <tr>\n",
              "      <th>3</th>\n",
              "      <td>Third Impact vs ImPerium</td>\n",
              "      <td>False</td>\n",
              "      <td>False</td>\n",
              "      <td>3</td>\n",
              "      <td>2021-03-09 02:17:22</td>\n",
              "      <td>2021-03-09 04:08:20</td>\n",
              "      <td>False</td>\n",
              "      <td>Not Provided</td>\n",
              "      <td>4243</td>\n",
              "      <td>3308</td>\n",
              "      <td>5425</td>\n",
              "      <td>Third Impact</td>\n",
              "      <td>ImPerium</td>\n",
              "      <td>2</td>\n",
              "      <td>0</td>\n",
              "    </tr>\n",
              "    <tr>\n",
              "      <th>4</th>\n",
              "      <td>Round of 16 match 8: RBG vs ImPerium</td>\n",
              "      <td>False</td>\n",
              "      <td>False</td>\n",
              "      <td>3</td>\n",
              "      <td>2021-03-08 23:10:22</td>\n",
              "      <td>2021-03-09 00:47:36</td>\n",
              "      <td>False</td>\n",
              "      <td>Not Provided</td>\n",
              "      <td>4321</td>\n",
              "      <td>3420</td>\n",
              "      <td>5654</td>\n",
              "      <td>RBG</td>\n",
              "      <td>ImPerium</td>\n",
              "      <td>2</td>\n",
              "      <td>0</td>\n",
              "    </tr>\n",
              "    <tr>\n",
              "      <th>...</th>\n",
              "      <td>...</td>\n",
              "      <td>...</td>\n",
              "      <td>...</td>\n",
              "      <td>...</td>\n",
              "      <td>...</td>\n",
              "      <td>...</td>\n",
              "      <td>...</td>\n",
              "      <td>...</td>\n",
              "      <td>...</td>\n",
              "      <td>...</td>\n",
              "      <td>...</td>\n",
              "      <td>...</td>\n",
              "      <td>...</td>\n",
              "      <td>...</td>\n",
              "      <td>...</td>\n",
              "    </tr>\n",
              "    <tr>\n",
              "      <th>15120</th>\n",
              "      <td>Astralis vs North</td>\n",
              "      <td>False</td>\n",
              "      <td>False</td>\n",
              "      <td>3</td>\n",
              "      <td>2017-10-26 11:45:00</td>\n",
              "      <td>2017-10-26 14:12:00</td>\n",
              "      <td>False</td>\n",
              "      <td>Not Provided</td>\n",
              "      <td>4156</td>\n",
              "      <td>1562</td>\n",
              "      <td>1698</td>\n",
              "      <td>Astralis</td>\n",
              "      <td>North</td>\n",
              "      <td>2</td>\n",
              "      <td>0</td>\n",
              "    </tr>\n",
              "    <tr>\n",
              "      <th>15121</th>\n",
              "      <td>Semifinals 1: SK vs Astralis</td>\n",
              "      <td>False</td>\n",
              "      <td>False</td>\n",
              "      <td>3</td>\n",
              "      <td>2017-10-28 09:50:00</td>\n",
              "      <td>2017-10-28 12:41:00</td>\n",
              "      <td>False</td>\n",
              "      <td>Not Provided</td>\n",
              "      <td>4156</td>\n",
              "      <td>1562</td>\n",
              "      <td>1518</td>\n",
              "      <td>SK</td>\n",
              "      <td>Astralis</td>\n",
              "      <td>2</td>\n",
              "      <td>0</td>\n",
              "    </tr>\n",
              "    <tr>\n",
              "      <th>15122</th>\n",
              "      <td>Semifinals 2: G2 vs Virtus.pro</td>\n",
              "      <td>False</td>\n",
              "      <td>False</td>\n",
              "      <td>3</td>\n",
              "      <td>2017-10-28 13:50:00</td>\n",
              "      <td>2017-10-28 16:25:00</td>\n",
              "      <td>False</td>\n",
              "      <td>Not Provided</td>\n",
              "      <td>4156</td>\n",
              "      <td>1562</td>\n",
              "      <td>1518</td>\n",
              "      <td>Virtus.pro</td>\n",
              "      <td>G2</td>\n",
              "      <td>2</td>\n",
              "      <td>1</td>\n",
              "    </tr>\n",
              "    <tr>\n",
              "      <th>15123</th>\n",
              "      <td>3rd Place Match: Astralis vs G2</td>\n",
              "      <td>False</td>\n",
              "      <td>False</td>\n",
              "      <td>3</td>\n",
              "      <td>2017-10-29 09:30:00</td>\n",
              "      <td>2017-10-29 12:15:00</td>\n",
              "      <td>False</td>\n",
              "      <td>Not Provided</td>\n",
              "      <td>4156</td>\n",
              "      <td>1562</td>\n",
              "      <td>1518</td>\n",
              "      <td>G2</td>\n",
              "      <td>Astralis</td>\n",
              "      <td>2</td>\n",
              "      <td>1</td>\n",
              "    </tr>\n",
              "    <tr>\n",
              "      <th>15124</th>\n",
              "      <td>Grand Final: SK vs Virtus.pro</td>\n",
              "      <td>False</td>\n",
              "      <td>False</td>\n",
              "      <td>5</td>\n",
              "      <td>2017-10-29 13:55:00</td>\n",
              "      <td>2017-10-29 18:22:00</td>\n",
              "      <td>False</td>\n",
              "      <td>Not Provided</td>\n",
              "      <td>4156</td>\n",
              "      <td>1562</td>\n",
              "      <td>1518</td>\n",
              "      <td>SK</td>\n",
              "      <td>Virtus.pro</td>\n",
              "      <td>3</td>\n",
              "      <td>2</td>\n",
              "    </tr>\n",
              "  </tbody>\n",
              "</table>\n",
              "<p>15125 rows × 15 columns</p>\n",
              "</div>"
            ],
            "text/plain": [
              "                                          match_name  ...  loser_score\n",
              "0      Quarterfinal 3: Secret Club vs The Commission  ...            1\n",
              "1                Quarterfinal 2: Team Unknown vs RBG  ...            0\n",
              "2        Quarterfinal 1: Levitate vs Rebirth Esports  ...            0\n",
              "3                           Third Impact vs ImPerium  ...            0\n",
              "4               Round of 16 match 8: RBG vs ImPerium  ...            0\n",
              "...                                              ...  ...          ...\n",
              "15120                              Astralis vs North  ...            0\n",
              "15121                   Semifinals 1: SK vs Astralis  ...            0\n",
              "15122                 Semifinals 2: G2 vs Virtus.pro  ...            1\n",
              "15123                3rd Place Match: Astralis vs G2  ...            1\n",
              "15124                  Grand Final: SK vs Virtus.pro  ...            2\n",
              "\n",
              "[15125 rows x 15 columns]"
            ]
          },
          "metadata": {
            "tags": []
          },
          "execution_count": 106
        }
      ]
    },
    {
      "cell_type": "markdown",
      "metadata": {
        "id": "wK1BIu1BQpK0"
      },
      "source": [
        "Creemos un histórico con ayuda del campo _begin at_, empecemos creando un campo para los años: "
      ]
    },
    {
      "cell_type": "code",
      "metadata": {
        "id": "b5_Q-d32UBVM"
      },
      "source": [
        "csgo_matches['Year'] = csgo_matches.begin_date.dt.year"
      ],
      "execution_count": null,
      "outputs": []
    },
    {
      "cell_type": "code",
      "metadata": {
        "colab": {
          "base_uri": "https://localhost:8080/",
          "height": 843
        },
        "id": "nyV0JCEvU_8c",
        "outputId": "d6b9af1e-f5dc-4f26-c4e6-649457f9a3db"
      },
      "source": [
        "csgo_matches"
      ],
      "execution_count": null,
      "outputs": [
        {
          "output_type": "execute_result",
          "data": {
            "text/html": [
              "<div>\n",
              "<style scoped>\n",
              "    .dataframe tbody tr th:only-of-type {\n",
              "        vertical-align: middle;\n",
              "    }\n",
              "\n",
              "    .dataframe tbody tr th {\n",
              "        vertical-align: top;\n",
              "    }\n",
              "\n",
              "    .dataframe thead th {\n",
              "        text-align: right;\n",
              "    }\n",
              "</style>\n",
              "<table border=\"1\" class=\"dataframe\">\n",
              "  <thead>\n",
              "    <tr style=\"text-align: right;\">\n",
              "      <th></th>\n",
              "      <th>match_name</th>\n",
              "      <th>forfeit</th>\n",
              "      <th>draw</th>\n",
              "      <th>number_of_games</th>\n",
              "      <th>begin_date</th>\n",
              "      <th>end_date</th>\n",
              "      <th>rescheduled</th>\n",
              "      <th>official_stream_channel_url</th>\n",
              "      <th>league_id</th>\n",
              "      <th>serie_id</th>\n",
              "      <th>tournament_id</th>\n",
              "      <th>winner_team</th>\n",
              "      <th>loser_team</th>\n",
              "      <th>winner_score</th>\n",
              "      <th>loser_score</th>\n",
              "      <th>Year</th>\n",
              "    </tr>\n",
              "  </thead>\n",
              "  <tbody>\n",
              "    <tr>\n",
              "      <th>0</th>\n",
              "      <td>Quarterfinal 3: Secret Club vs The Commission</td>\n",
              "      <td>False</td>\n",
              "      <td>False</td>\n",
              "      <td>3</td>\n",
              "      <td>2021-03-09 01:30:32</td>\n",
              "      <td>2021-03-09 04:34:01</td>\n",
              "      <td>False</td>\n",
              "      <td>Not Provided</td>\n",
              "      <td>4321</td>\n",
              "      <td>3420</td>\n",
              "      <td>5654</td>\n",
              "      <td>Secret Club</td>\n",
              "      <td>The Commission</td>\n",
              "      <td>2</td>\n",
              "      <td>1</td>\n",
              "      <td>2021</td>\n",
              "    </tr>\n",
              "    <tr>\n",
              "      <th>1</th>\n",
              "      <td>Quarterfinal 2: Team Unknown vs RBG</td>\n",
              "      <td>False</td>\n",
              "      <td>False</td>\n",
              "      <td>3</td>\n",
              "      <td>2021-03-09 01:09:42</td>\n",
              "      <td>2021-03-09 02:20:00</td>\n",
              "      <td>False</td>\n",
              "      <td>Not Provided</td>\n",
              "      <td>4321</td>\n",
              "      <td>3420</td>\n",
              "      <td>5654</td>\n",
              "      <td>RBG</td>\n",
              "      <td>Team Unknown</td>\n",
              "      <td>2</td>\n",
              "      <td>0</td>\n",
              "      <td>2021</td>\n",
              "    </tr>\n",
              "    <tr>\n",
              "      <th>2</th>\n",
              "      <td>Quarterfinal 1: Levitate vs Rebirth Esports</td>\n",
              "      <td>False</td>\n",
              "      <td>False</td>\n",
              "      <td>3</td>\n",
              "      <td>2021-03-09 01:09:40</td>\n",
              "      <td>2021-03-09 02:28:31</td>\n",
              "      <td>False</td>\n",
              "      <td>Not Provided</td>\n",
              "      <td>4321</td>\n",
              "      <td>3420</td>\n",
              "      <td>5654</td>\n",
              "      <td>Rebirth Esports</td>\n",
              "      <td>Levitate</td>\n",
              "      <td>2</td>\n",
              "      <td>0</td>\n",
              "      <td>2021</td>\n",
              "    </tr>\n",
              "    <tr>\n",
              "      <th>3</th>\n",
              "      <td>Third Impact vs ImPerium</td>\n",
              "      <td>False</td>\n",
              "      <td>False</td>\n",
              "      <td>3</td>\n",
              "      <td>2021-03-09 02:17:22</td>\n",
              "      <td>2021-03-09 04:08:20</td>\n",
              "      <td>False</td>\n",
              "      <td>Not Provided</td>\n",
              "      <td>4243</td>\n",
              "      <td>3308</td>\n",
              "      <td>5425</td>\n",
              "      <td>Third Impact</td>\n",
              "      <td>ImPerium</td>\n",
              "      <td>2</td>\n",
              "      <td>0</td>\n",
              "      <td>2021</td>\n",
              "    </tr>\n",
              "    <tr>\n",
              "      <th>4</th>\n",
              "      <td>Round of 16 match 8: RBG vs ImPerium</td>\n",
              "      <td>False</td>\n",
              "      <td>False</td>\n",
              "      <td>3</td>\n",
              "      <td>2021-03-08 23:10:22</td>\n",
              "      <td>2021-03-09 00:47:36</td>\n",
              "      <td>False</td>\n",
              "      <td>Not Provided</td>\n",
              "      <td>4321</td>\n",
              "      <td>3420</td>\n",
              "      <td>5654</td>\n",
              "      <td>RBG</td>\n",
              "      <td>ImPerium</td>\n",
              "      <td>2</td>\n",
              "      <td>0</td>\n",
              "      <td>2021</td>\n",
              "    </tr>\n",
              "    <tr>\n",
              "      <th>...</th>\n",
              "      <td>...</td>\n",
              "      <td>...</td>\n",
              "      <td>...</td>\n",
              "      <td>...</td>\n",
              "      <td>...</td>\n",
              "      <td>...</td>\n",
              "      <td>...</td>\n",
              "      <td>...</td>\n",
              "      <td>...</td>\n",
              "      <td>...</td>\n",
              "      <td>...</td>\n",
              "      <td>...</td>\n",
              "      <td>...</td>\n",
              "      <td>...</td>\n",
              "      <td>...</td>\n",
              "      <td>...</td>\n",
              "    </tr>\n",
              "    <tr>\n",
              "      <th>15120</th>\n",
              "      <td>Astralis vs North</td>\n",
              "      <td>False</td>\n",
              "      <td>False</td>\n",
              "      <td>3</td>\n",
              "      <td>2017-10-26 11:45:00</td>\n",
              "      <td>2017-10-26 14:12:00</td>\n",
              "      <td>False</td>\n",
              "      <td>Not Provided</td>\n",
              "      <td>4156</td>\n",
              "      <td>1562</td>\n",
              "      <td>1698</td>\n",
              "      <td>Astralis</td>\n",
              "      <td>North</td>\n",
              "      <td>2</td>\n",
              "      <td>0</td>\n",
              "      <td>2017</td>\n",
              "    </tr>\n",
              "    <tr>\n",
              "      <th>15121</th>\n",
              "      <td>Semifinals 1: SK vs Astralis</td>\n",
              "      <td>False</td>\n",
              "      <td>False</td>\n",
              "      <td>3</td>\n",
              "      <td>2017-10-28 09:50:00</td>\n",
              "      <td>2017-10-28 12:41:00</td>\n",
              "      <td>False</td>\n",
              "      <td>Not Provided</td>\n",
              "      <td>4156</td>\n",
              "      <td>1562</td>\n",
              "      <td>1518</td>\n",
              "      <td>SK</td>\n",
              "      <td>Astralis</td>\n",
              "      <td>2</td>\n",
              "      <td>0</td>\n",
              "      <td>2017</td>\n",
              "    </tr>\n",
              "    <tr>\n",
              "      <th>15122</th>\n",
              "      <td>Semifinals 2: G2 vs Virtus.pro</td>\n",
              "      <td>False</td>\n",
              "      <td>False</td>\n",
              "      <td>3</td>\n",
              "      <td>2017-10-28 13:50:00</td>\n",
              "      <td>2017-10-28 16:25:00</td>\n",
              "      <td>False</td>\n",
              "      <td>Not Provided</td>\n",
              "      <td>4156</td>\n",
              "      <td>1562</td>\n",
              "      <td>1518</td>\n",
              "      <td>Virtus.pro</td>\n",
              "      <td>G2</td>\n",
              "      <td>2</td>\n",
              "      <td>1</td>\n",
              "      <td>2017</td>\n",
              "    </tr>\n",
              "    <tr>\n",
              "      <th>15123</th>\n",
              "      <td>3rd Place Match: Astralis vs G2</td>\n",
              "      <td>False</td>\n",
              "      <td>False</td>\n",
              "      <td>3</td>\n",
              "      <td>2017-10-29 09:30:00</td>\n",
              "      <td>2017-10-29 12:15:00</td>\n",
              "      <td>False</td>\n",
              "      <td>Not Provided</td>\n",
              "      <td>4156</td>\n",
              "      <td>1562</td>\n",
              "      <td>1518</td>\n",
              "      <td>G2</td>\n",
              "      <td>Astralis</td>\n",
              "      <td>2</td>\n",
              "      <td>1</td>\n",
              "      <td>2017</td>\n",
              "    </tr>\n",
              "    <tr>\n",
              "      <th>15124</th>\n",
              "      <td>Grand Final: SK vs Virtus.pro</td>\n",
              "      <td>False</td>\n",
              "      <td>False</td>\n",
              "      <td>5</td>\n",
              "      <td>2017-10-29 13:55:00</td>\n",
              "      <td>2017-10-29 18:22:00</td>\n",
              "      <td>False</td>\n",
              "      <td>Not Provided</td>\n",
              "      <td>4156</td>\n",
              "      <td>1562</td>\n",
              "      <td>1518</td>\n",
              "      <td>SK</td>\n",
              "      <td>Virtus.pro</td>\n",
              "      <td>3</td>\n",
              "      <td>2</td>\n",
              "      <td>2017</td>\n",
              "    </tr>\n",
              "  </tbody>\n",
              "</table>\n",
              "<p>15125 rows × 16 columns</p>\n",
              "</div>"
            ],
            "text/plain": [
              "                                          match_name  ...  Year\n",
              "0      Quarterfinal 3: Secret Club vs The Commission  ...  2021\n",
              "1                Quarterfinal 2: Team Unknown vs RBG  ...  2021\n",
              "2        Quarterfinal 1: Levitate vs Rebirth Esports  ...  2021\n",
              "3                           Third Impact vs ImPerium  ...  2021\n",
              "4               Round of 16 match 8: RBG vs ImPerium  ...  2021\n",
              "...                                              ...  ...   ...\n",
              "15120                              Astralis vs North  ...  2017\n",
              "15121                   Semifinals 1: SK vs Astralis  ...  2017\n",
              "15122                 Semifinals 2: G2 vs Virtus.pro  ...  2017\n",
              "15123                3rd Place Match: Astralis vs G2  ...  2017\n",
              "15124                  Grand Final: SK vs Virtus.pro  ...  2017\n",
              "\n",
              "[15125 rows x 16 columns]"
            ]
          },
          "metadata": {
            "tags": []
          },
          "execution_count": 119
        }
      ]
    },
    {
      "cell_type": "markdown",
      "metadata": {
        "id": "9MoZNwA4graf"
      },
      "source": [
        "Agrupemos el número de enfrentamientos del Dataframe por año para conocer el número de enfrentamientos anuales:"
      ]
    },
    {
      "cell_type": "code",
      "metadata": {
        "colab": {
          "base_uri": "https://localhost:8080/"
        },
        "id": "ESy22U5dSjQR",
        "outputId": "c4405754-cdef-471b-dec3-40d125c78e3c"
      },
      "source": [
        "enfrentamientos_por_año = csgo_matches.groupby(['Year']).size()\r\n",
        "enfrentamientos_por_año = list(enfrentamientos_por_año)\r\n",
        "enfrentamientos_por_año"
      ],
      "execution_count": null,
      "outputs": [
        {
          "output_type": "execute_result",
          "data": {
            "text/plain": [
              "[441, 489, 1167, 2817, 8698, 1513]"
            ]
          },
          "metadata": {
            "tags": []
          },
          "execution_count": 218
        }
      ]
    },
    {
      "cell_type": "markdown",
      "metadata": {
        "id": "RoiAakfFg3ha"
      },
      "source": [
        "Revisamos los equipos que ganaron anualmente para conocer la cantidad de equipos que participó en cada uno:"
      ]
    },
    {
      "cell_type": "code",
      "metadata": {
        "id": "On1CDLO3VPNX"
      },
      "source": [
        "import numpy as np\r\n",
        "\r\n",
        "equipos_por_año = csgo_matches.groupby(['Year'])['winner_team'].value_counts()\r\n",
        "numero_equipos = []\r\n",
        "for años in range(2016,2022):\r\n",
        "    numero= len(equipos_por_año[años])\r\n",
        "    numero_equipos.append(numero)\r\n",
        "\r\n",
        "participantes_enfrentamientos = np.array(numero_equipos)*5   # Los equipos de CS:GO son de 5 integrantes\r\n",
        "enfrentamientos_por_año = np.array(enfrentamientos_por_año)\r\n"
      ],
      "execution_count": null,
      "outputs": []
    },
    {
      "cell_type": "markdown",
      "metadata": {
        "id": "oV1R4b3rkWRf"
      },
      "source": [
        "Creamos un dataframe que contendrá información para un segundo modelo que nos ayudará a probar la hipótesis de correlación positiva:"
      ]
    },
    {
      "cell_type": "code",
      "metadata": {
        "colab": {
          "base_uri": "https://localhost:8080/",
          "height": 237
        },
        "id": "S5g2IU84Vz9W",
        "outputId": "21002d42-dc10-45fa-871d-e425887d6437"
      },
      "source": [
        "segundo_modelo = pd.DataFrame({ 'Matches' : enfrentamientos_por_año, 'Players':participantes_enfrentamientos}, index=[2016,2017,2018,2019,2020,2021])\r\n",
        "segundo_modelo"
      ],
      "execution_count": null,
      "outputs": [
        {
          "output_type": "execute_result",
          "data": {
            "text/html": [
              "<div>\n",
              "<style scoped>\n",
              "    .dataframe tbody tr th:only-of-type {\n",
              "        vertical-align: middle;\n",
              "    }\n",
              "\n",
              "    .dataframe tbody tr th {\n",
              "        vertical-align: top;\n",
              "    }\n",
              "\n",
              "    .dataframe thead th {\n",
              "        text-align: right;\n",
              "    }\n",
              "</style>\n",
              "<table border=\"1\" class=\"dataframe\">\n",
              "  <thead>\n",
              "    <tr style=\"text-align: right;\">\n",
              "      <th></th>\n",
              "      <th>Matches</th>\n",
              "      <th>Players</th>\n",
              "    </tr>\n",
              "  </thead>\n",
              "  <tbody>\n",
              "    <tr>\n",
              "      <th>2016</th>\n",
              "      <td>441</td>\n",
              "      <td>160</td>\n",
              "    </tr>\n",
              "    <tr>\n",
              "      <th>2017</th>\n",
              "      <td>489</td>\n",
              "      <td>155</td>\n",
              "    </tr>\n",
              "    <tr>\n",
              "      <th>2018</th>\n",
              "      <td>1167</td>\n",
              "      <td>295</td>\n",
              "    </tr>\n",
              "    <tr>\n",
              "      <th>2019</th>\n",
              "      <td>2817</td>\n",
              "      <td>1545</td>\n",
              "    </tr>\n",
              "    <tr>\n",
              "      <th>2020</th>\n",
              "      <td>8698</td>\n",
              "      <td>2965</td>\n",
              "    </tr>\n",
              "    <tr>\n",
              "      <th>2021</th>\n",
              "      <td>1513</td>\n",
              "      <td>1470</td>\n",
              "    </tr>\n",
              "  </tbody>\n",
              "</table>\n",
              "</div>"
            ],
            "text/plain": [
              "      Matches  Players\n",
              "2016      441      160\n",
              "2017      489      155\n",
              "2018     1167      295\n",
              "2019     2817     1545\n",
              "2020     8698     2965\n",
              "2021     1513     1470"
            ]
          },
          "metadata": {
            "tags": []
          },
          "execution_count": 221
        }
      ]
    },
    {
      "cell_type": "markdown",
      "metadata": {
        "id": "h80BKCnXpitG"
      },
      "source": [
        "Lamentablemente por la forma en que se recolectaron los datos de la API tendremos datos desde el año 2016, probemos estos datos:"
      ]
    },
    {
      "cell_type": "code",
      "metadata": {
        "colab": {
          "base_uri": "https://localhost:8080/",
          "height": 364
        },
        "id": "Dp1N6a6CXdNV",
        "outputId": "342a2544-8160-4736-e666-9321b2e28b93"
      },
      "source": [
        "#Algoritmo para conocer la regresión lineal\r\n",
        "from sklearn.linear_model import LinearRegression\r\n",
        "from sklearn.metrics import r2_score \r\n",
        "#R_sq = .score(X,Y) \r\n",
        "\r\n",
        "X = segundo_modelo[\"Players\"].values.reshape(-1,1)\r\n",
        "Y = segundo_modelo[\"Matches\"].values.reshape(-1,1)\r\n",
        "\r\n",
        "\r\n",
        "modeloDeRegresion = LinearRegression() #\r\n",
        "modeloDeRegresion.fit(X,Y) #Aquí lo entrenamos\r\n",
        "theta1 = modeloDeRegresion.coef_[0][0]   #Theta cero\r\n",
        "theta0 = modeloDeRegresion.intercept_[0] #Theta uno\r\n",
        "R_sq = modeloDeRegresion.score(X,Y) \r\n",
        "\r\n",
        "\r\n",
        "yPredicha = modeloDeRegresion.predict(X) #Aquí vemos si ya salió \r\n",
        "\r\n",
        "\r\n",
        "plt.scatter(segundo_modelo[\"Players\"],segundo_modelo[\"Matches\"], label = 'Datos')\r\n",
        "plt.plot(X,yPredicha, 'r',  label='Ajuste lineal \\n y = $2.6(x) - 339.41 $ \\n $R^2$ = 0.8537')\r\n",
        "\r\n",
        "plt.xlabel('Jugadores ',fontsize = 15) \r\n",
        "plt.ylabel('Enfrentamientos',fontsize = 15) \r\n",
        "plt.title('Counter - Strike', fontsize = 20)\r\n",
        "plt.legend()\r\n",
        "plt.show()\r\n",
        "\r\n",
        "print(theta0)\r\n",
        "print(theta1)\r\n",
        "print(R_sq)"
      ],
      "execution_count": 263,
      "outputs": [
        {
          "output_type": "display_data",
          "data": {
            "image/png": "[encoded data removed]",
            "text/plain": [
              "<Figure size 432x288 with 1 Axes>"
            ]
          },
          "metadata": {
            "tags": []
          }
        },
        {
          "output_type": "stream",
          "text": [
            "-339.4178046688585\n",
            "2.6041740254951673\n",
            "0.8537807604540675\n"
          ],
          "name": "stdout"
        }
      ]
    },
    {
      "cell_type": "markdown",
      "metadata": {
        "id": "5nVrxFF_qLUU"
      },
      "source": [
        "!Observamos una correlación positiva nuevamente¡ :)"
      ]
    },
    {
      "cell_type": "markdown",
      "metadata": {
        "id": "Hm6_MKTAki-b"
      },
      "source": [
        "# Conclusiones\r\n",
        "\r\n",
        "Observando los resultados obtenido en los análisis de correlación, tanto para los jugadores que ha habido por número de torneos que obtuvimos de una segunda revisión a los datasets de nuestro proyecto anterior, como para los jugadores que ha habido por número de enfrentamientos que obtuvimos de la API PandaScore, podemos responder a la pregunta:\r\n",
        "\r\n",
        "**Los juegos que hoy en día son eSports, ¿lo seguirán siendo en el futuro?**\r\n",
        "\r\n",
        "La respuesta, al menos para Counter Strike: Global Offensive, es un rotundo sí. Encontramos que a lo largo de los años se (desde 2010 a 2020 para los torneos y de 2016 a 2021 para los enfrentamientos) CS:GO no ha dejado de atraer a participantes a sus eventos, la escena competitiva goza de buena salud a pesar de haber sufrido una caída en el año 2020.\r\n",
        "\r\n",
        "<p align=\"center\">\r\n",
        "<img src=\"https://lasclasesdetic1819g07com.files.wordpress.com/2019/01/counter-strike-upcoming-events-for-2017.jpg\"  height =\"250\" width = \"400\" alt=csgo>\r\n",
        "</p>\r\n",
        "\r\n",
        "\r\n"
      ]
    }
  ]
}