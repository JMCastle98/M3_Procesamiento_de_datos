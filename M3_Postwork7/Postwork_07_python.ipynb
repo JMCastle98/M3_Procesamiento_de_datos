{
  "nbformat": 4,
  "nbformat_minor": 0,
  "metadata": {
    "colab": {
      "name": "Postwork_07_python.ipynb",
      "provenance": [],
      "collapsed_sections": [],
      "authorship_tag": "ABX9TyMXgHFQVv65dMhlqVEx4J3+",
      "include_colab_link": true
    },
    "kernelspec": {
      "name": "python3",
      "display_name": "Python 3"
    }
  },
  "cells": [
    {
      "cell_type": "markdown",
      "metadata": {
        "id": "view-in-github",
        "colab_type": "text"
      },
      "source": [
        "<a href=\"https://colab.research.google.com/github/LKXoro/BEDU-Rstudio-postworks/blob/main/M3_Postwork7/Postwork_07_python.ipynb\" target=\"_parent\"><img src=\"https://colab.research.google.com/assets/colab-badge.svg\" alt=\"Open In Colab\"/></a>"
      ]
    },
    {
      "cell_type": "markdown",
      "metadata": {
        "id": "ZGYvJFPc2shK"
      },
      "source": [
        "# Postwork 07: Transformación, filtración y ordenamiento de datos \r\n",
        "Antes de comenzar en caso de no tener nuestro confiable archivo csv a la mano, o bien debido a que la API está en constante actualización podemos recurrir a una versión mejorada de la función para peticiones de los **enfrentamientos**:"
      ]
    },
    {
      "cell_type": "code",
      "metadata": {
        "id": "PgYwH7dw2lWc"
      },
      "source": [
        "import requests #Importamos los paquete necesarios\r\n",
        "import pandas as pd \r\n",
        "import math as mt\r\n",
        " \r\n",
        "def PandaScore_get_matches(juego): #Definimos nuestra función\r\n",
        "    if isinstance(juego, str): #Nos aseguramos que los argumentos sean de tipo str\r\n",
        "        informacion = 'matches'\r\n",
        "        registros = 100 #Establecemos el número de registros por página\r\n",
        "        token = 'V3U1fnnWozJi3bbhZfrxdiAmN4-XWnX_4g6i_6iauwwh7w-V8Ns' #Token de acceso\r\n",
        "        url = f\"https://api.pandascore.co/{juego}/{informacion}?page[size]={registros}&token={token}\" #URL con los parámetros deseados\r\n",
        "        response = requests.get(url) #Realizamos la petición\r\n",
        "        if response.status_code == 200: #Si todo salió bien continuamos\r\n",
        "            Iteraciones = mt.ceil(float(response.headers['X-Total'])/registros) #Calculamos el número de páginas en base a todos los registros que hay en la API\r\n",
        "            #Al dividir el número total de registros entre los registros solicitados obtenemos un aproximado, para asegurar que tomaremos todos, redondeamos al entero más alto\r\n",
        "            for i in range(1,Iteraciones+1): #Ciclo for para obtener todos los registros de cada página\r\n",
        "                url = f\"https://api.pandascore.co/{juego}/{informacion}?page[size]={registros}&page[number]={i}&token=V3U1fnnWozJi3bbhZfrxdiAmN4-XWnX_4g6i_6iauwwh7w-V8Ns\"\r\n",
        "                #URL el parámetro de página deseada\r\n",
        "                response = requests.get(url) #Realizamos la petición correspondiente\r\n",
        "                data = response.json() #Transformamos la respuesta \r\n",
        "                if i == 1: #En la primer iteración se crea un Dataframe\r\n",
        "                    df_matches = pd.DataFrame.from_dict(data)\r\n",
        "                else: #En el resto de iteraciones se van añadiendo los nuevos registros\r\n",
        "                    df_matches = df_matches.append(pd.DataFrame.from_dict(data),ignore_index=True) \r\n",
        "            \r\n",
        "            ########### Limpieza de datos\r\n",
        "            campos_no_deseados = ['videogame', 'slug', 'tournament', 'league', 'serie', 'streams', 'modified_at', 'games',\r\n",
        "                      'game_advantage', 'scheduled_at', 'original_scheduled_at', 'detailed_stats','live',\r\n",
        "                      'match_type', 'videogame_version', 'live_embed_url', 'id'] \r\n",
        "\r\n",
        "            df_matches_temp = df_matches.drop(columns=campos_no_deseados) #Limpiamos campos que no nos son de utilidad\r\n",
        "            df_matches_finished = df_matches_temp[ df_matches_temp['status'] == 'finished' ] #Dejamos solo los enfrentamientos que han terminado\r\n",
        "            df_matches_finished_clean = df_matches_finished.dropna(subset=['begin_at', 'end_at']) #Eliminamos algunos valores nulos de las fechas\r\n",
        "            df_matches_ordenado = df_matches_finished_clean[['name','opponents','results','forfeit','draw', #Reorganizamos los campos\r\n",
        "                                                      'number_of_games','winner','winner_id','begin_at','end_at', \r\n",
        "                                                      'rescheduled','official_stream_url','league_id', 'serie_id', 'tournament_id']]\r\n",
        "            df_matches_ordenado = df_matches_ordenado.reset_index(drop=True) #Reseteamos el índice\r\n",
        "            nombres_nuevos = {'name' : 'match_name',\r\n",
        "                             'begin_at' : 'begin_date',\r\n",
        "                             'end_at' : 'end_date',\r\n",
        "                             'official_stream_url' : 'official_stream_channel_url'}                       \r\n",
        "            df_matches_ordenado.rename(columns=nombres_nuevos, inplace=True) #Renombramos columnas                                      \r\n",
        "            return df_matches_ordenado # Finalmente se devuelve el Dataframe con todos los registros limpios y ordenados\r\n",
        "        else: #Si la petición no se ejecutó correctamente mandamos un mensaje con el error devuelto\r\n",
        "            return 'Error de petición: '+str(response.status_code)  \r\n",
        "    else: #Si los argumentos no son de tipo str regresamos un mensaje\r\n",
        "        return 'Por favor coloque un argumento válido en formato string.'"
      ],
      "execution_count": 330,
      "outputs": []
    },
    {
      "cell_type": "markdown",
      "metadata": {
        "id": "M0dgXxRw8wfM"
      },
      "source": [
        "Le indicamos que deseamos los enfrentamientos del juego League of Legends:\r\n"
      ]
    },
    {
      "cell_type": "code",
      "metadata": {
        "id": "yDM5OFnB6jK4"
      },
      "source": [
        "lol_matches = PandaScore_get_matches('lol')"
      ],
      "execution_count": 422,
      "outputs": []
    },
    {
      "cell_type": "markdown",
      "metadata": {
        "id": "QtqnJPIy_cJM"
      },
      "source": [
        "Observamos el Dataframe que nos devuelve la función:"
      ]
    },
    {
      "cell_type": "code",
      "metadata": {
        "colab": {
          "base_uri": "https://localhost:8080/",
          "height": 660
        },
        "id": "u9MlM9yT6oFS",
        "outputId": "5e61e002-6f3d-4057-feac-5d0e018bf59f"
      },
      "source": [
        "lol_matches.head()"
      ],
      "execution_count": 423,
      "outputs": [
        {
          "output_type": "execute_result",
          "data": {
            "text/html": [
              "<div>\n",
              "<style scoped>\n",
              "    .dataframe tbody tr th:only-of-type {\n",
              "        vertical-align: middle;\n",
              "    }\n",
              "\n",
              "    .dataframe tbody tr th {\n",
              "        vertical-align: top;\n",
              "    }\n",
              "\n",
              "    .dataframe thead th {\n",
              "        text-align: right;\n",
              "    }\n",
              "</style>\n",
              "<table border=\"1\" class=\"dataframe\">\n",
              "  <thead>\n",
              "    <tr style=\"text-align: right;\">\n",
              "      <th></th>\n",
              "      <th>match_name</th>\n",
              "      <th>opponents</th>\n",
              "      <th>results</th>\n",
              "      <th>forfeit</th>\n",
              "      <th>draw</th>\n",
              "      <th>number_of_games</th>\n",
              "      <th>winner</th>\n",
              "      <th>winner_id</th>\n",
              "      <th>begin_date</th>\n",
              "      <th>end_date</th>\n",
              "      <th>rescheduled</th>\n",
              "      <th>official_stream_channel_url</th>\n",
              "      <th>league_id</th>\n",
              "      <th>serie_id</th>\n",
              "      <th>tournament_id</th>\n",
              "    </tr>\n",
              "  </thead>\n",
              "  <tbody>\n",
              "    <tr>\n",
              "      <th>0</th>\n",
              "      <td>ALF vs BJD</td>\n",
              "      <td>[{'opponent': {'acronym': 'ALF', 'id': 124408,...</td>\n",
              "      <td>[{'score': 0, 'team_id': 124408}, {'score': 1,...</td>\n",
              "      <td>False</td>\n",
              "      <td>False</td>\n",
              "      <td>1</td>\n",
              "      <td>{'acronym': 'BJD', 'id': 126861, 'image_url': ...</td>\n",
              "      <td>126861.0</td>\n",
              "      <td>2021-03-06T09:54:42Z</td>\n",
              "      <td>2021-03-06T10:28:54Z</td>\n",
              "      <td>False</td>\n",
              "      <td>https://www.twitch.tv/lolpacific</td>\n",
              "      <td>4288</td>\n",
              "      <td>3337</td>\n",
              "      <td>5483</td>\n",
              "    </tr>\n",
              "    <tr>\n",
              "      <th>1</th>\n",
              "      <td>Lower Bracket Round 2 Match 1: CGG vs GGE</td>\n",
              "      <td>[{'opponent': {'acronym': 'CGG', 'id': 127494,...</td>\n",
              "      <td>[{'score': 1, 'team_id': 127494}, {'score': 3,...</td>\n",
              "      <td>False</td>\n",
              "      <td>False</td>\n",
              "      <td>5</td>\n",
              "      <td>{'acronym': 'GGE', 'id': 128405, 'image_url': ...</td>\n",
              "      <td>128405.0</td>\n",
              "      <td>2021-03-08T18:07:48Z</td>\n",
              "      <td>2021-03-08T21:37:26Z</td>\n",
              "      <td>False</td>\n",
              "      <td>https://www.twitch.tv/pg_esports</td>\n",
              "      <td>4405</td>\n",
              "      <td>3291</td>\n",
              "      <td>5579</td>\n",
              "    </tr>\n",
              "    <tr>\n",
              "      <th>2</th>\n",
              "      <td>Round 1 match 1: KVM vs ION</td>\n",
              "      <td>[{'opponent': {'acronym': 'KVM', 'id': 127475,...</td>\n",
              "      <td>[{'score': 3, 'team_id': 127475}, {'score': 0,...</td>\n",
              "      <td>False</td>\n",
              "      <td>False</td>\n",
              "      <td>5</td>\n",
              "      <td>{'acronym': 'KVM', 'id': 127475, 'image_url': ...</td>\n",
              "      <td>127475.0</td>\n",
              "      <td>2021-03-08T18:04:03Z</td>\n",
              "      <td>2021-03-08T20:46:01Z</td>\n",
              "      <td>False</td>\n",
              "      <td>https://www.twitch.tv/esportsprimelol</td>\n",
              "      <td>4401</td>\n",
              "      <td>3248</td>\n",
              "      <td>5609</td>\n",
              "    </tr>\n",
              "    <tr>\n",
              "      <th>3</th>\n",
              "      <td>Winners bracket round 1 match 2: ESB vs SIN</td>\n",
              "      <td>[{'opponent': {'acronym': 'ESB', 'id': 3344, '...</td>\n",
              "      <td>[{'score': 2, 'team_id': 3344}, {'score': 3, '...</td>\n",
              "      <td>False</td>\n",
              "      <td>False</td>\n",
              "      <td>5</td>\n",
              "      <td>{'acronym': 'SIN', 'id': 127586, 'image_url': ...</td>\n",
              "      <td>127586.0</td>\n",
              "      <td>2021-03-07T17:53:43Z</td>\n",
              "      <td>2021-03-07T22:22:51Z</td>\n",
              "      <td>False</td>\n",
              "      <td>https://www.twitch.tv/hitpointcz</td>\n",
              "      <td>4433</td>\n",
              "      <td>3314</td>\n",
              "      <td>5602</td>\n",
              "    </tr>\n",
              "    <tr>\n",
              "      <th>4</th>\n",
              "      <td>Winners bracket round 1 match 1: IG vs VIK</td>\n",
              "      <td>[{'opponent': {'acronym': 'IG', 'id': 127585, ...</td>\n",
              "      <td>[{'score': 3, 'team_id': 127585}, {'score': 1,...</td>\n",
              "      <td>False</td>\n",
              "      <td>False</td>\n",
              "      <td>5</td>\n",
              "      <td>{'acronym': 'IG', 'id': 127585, 'image_url': '...</td>\n",
              "      <td>127585.0</td>\n",
              "      <td>2021-03-07T13:30:41Z</td>\n",
              "      <td>2021-03-07T17:08:57Z</td>\n",
              "      <td>False</td>\n",
              "      <td>https://www.twitch.tv/hitpointcz</td>\n",
              "      <td>4433</td>\n",
              "      <td>3314</td>\n",
              "      <td>5602</td>\n",
              "    </tr>\n",
              "  </tbody>\n",
              "</table>\n",
              "</div>"
            ],
            "text/plain": [
              "                                    match_name  ... tournament_id\n",
              "0                                   ALF vs BJD  ...          5483\n",
              "1    Lower Bracket Round 2 Match 1: CGG vs GGE  ...          5579\n",
              "2                  Round 1 match 1: KVM vs ION  ...          5609\n",
              "3  Winners bracket round 1 match 2: ESB vs SIN  ...          5602\n",
              "4   Winners bracket round 1 match 1: IG vs VIK  ...          5602\n",
              "\n",
              "[5 rows x 15 columns]"
            ]
          },
          "metadata": {
            "tags": []
          },
          "execution_count": 423
        }
      ]
    },
    {
      "cell_type": "markdown",
      "metadata": {
        "id": "HkJQHNA_9EWD"
      },
      "source": [
        "Es idéntico al Dataframe que habiamos elaborado en el postwork anterior, es notable que tiene un número de registros mayor, seguramente PandaScore recolecto más datos. Antes de comenzar a tratar los datos, nos gustaría modificar un poco la información que mostramos aprovechando 3 campos que dejamos en forma de lista:\r\n",
        "\r\n",
        "*   _opponents_\r\n",
        "*   _results_\r\n",
        "*   _winner_\r\n",
        "\r\n",
        "En oponentes tenemos los equipos que se enfrentaron, en results tenemos el puntaje de cada uno y en winner tenemos al equipo ganador. Proponemos entonces crear campos que muestren:\r\n",
        "\r\n",
        "* winner_team\r\n",
        "* winner_score\r\n",
        "* loser_team\r\n",
        "* loser_score\r\n",
        "\r\n",
        "Para ello aprovecharemos las propiedades de listas y los aplicaremos a funciones:"
      ]
    },
    {
      "cell_type": "code",
      "metadata": {
        "id": "WK_xKPTo-mVA"
      },
      "source": [
        "def winner_team(serie):\r\n",
        "    if serie == None:\r\n",
        "        return 'Undefined'\r\n",
        "    else: return serie['name']"
      ],
      "execution_count": 424,
      "outputs": []
    },
    {
      "cell_type": "markdown",
      "metadata": {
        "id": "ZnFpotMCd7-t"
      },
      "source": [
        "La función anterior devuelve el elemento ['name'] de la columna de listas _'winner'_ para aplicarla a toda la columna nos apoyamos del método map():"
      ]
    },
    {
      "cell_type": "code",
      "metadata": {
        "id": "iCWYtVO0DVnH"
      },
      "source": [
        "lol_matches['winner_team'] = lol_matches['winner'].map(winner_team) #Recordemos que algunos enfrentamientos terminaron en empate"
      ],
      "execution_count": 425,
      "outputs": []
    },
    {
      "cell_type": "markdown",
      "metadata": {
        "id": "QRpHec3AeHdz"
      },
      "source": [
        "Para conocer a los equipos perdedores desglozamos el campo '_opponents_' para que conocer a los equipos y comparamos con el equipo ganador previamente obtenido:"
      ]
    },
    {
      "cell_type": "code",
      "metadata": {
        "id": "op54B3tbUc5F"
      },
      "source": [
        "def loser_team(df):\r\n",
        "    losers = []\r\n",
        "    for i in range(0,len(df)):\r\n",
        "        ganador = df['winner_team'][i]\r\n",
        "        equipo = df['opponents'][i][0]['opponent']['name']\r\n",
        "        if ganador == 'Undefined':\r\n",
        "           losers.append('Undefined')\r\n",
        "        elif equipo == ganador:\r\n",
        "           losers.append(df['opponents'][i][1]['opponent']['name'])  \r\n",
        "        elif equipo != ganador: \r\n",
        "           losers.append(df['opponents'][i][0]['opponent']['name'] )\r\n",
        "    return pd.Series(losers,index=df.index)"
      ],
      "execution_count": 426,
      "outputs": []
    },
    {
      "cell_type": "markdown",
      "metadata": {
        "id": "MSSgh75HeXnB"
      },
      "source": [
        "Ya que la función nos devuelve una serie de Pandas podemos añadir la nueva columna:"
      ]
    },
    {
      "cell_type": "code",
      "metadata": {
        "id": "EEbwuWpyWJIy"
      },
      "source": [
        "lol_matches['loser_team'] = loser_team(lol_matches)"
      ],
      "execution_count": 427,
      "outputs": []
    },
    {
      "cell_type": "markdown",
      "metadata": {
        "id": "juvvaT-rehAk"
      },
      "source": [
        "Antes de trabajar con las puntuaciones de los equipos, debemos realiar algunos cambios, previamente habiamos llegado al consenso de que en _winner id_ y _winner_ podrían existir valores _None_ debido a que había partidos con empate. Sin embardo para poder extraer los puntajes, es necesario cambiar los _Nones_ para así poder transformar el campo _winner id_ de un tipo de dato float a int y posteriormente realizar la extracción. Primero veamos si existe un _winner id_ que sea igual a cero para saber si podemos convertir los valores NaN en 0: "
      ]
    },
    {
      "cell_type": "code",
      "metadata": {
        "colab": {
          "base_uri": "https://localhost:8080/",
          "height": 69
        },
        "id": "4XydunPlZf3D",
        "outputId": "22a037ec-01f8-454e-c634-392427106fe7"
      },
      "source": [
        "lol_matches[ lol_matches['winner_id'] == 0]"
      ],
      "execution_count": 428,
      "outputs": [
        {
          "output_type": "execute_result",
          "data": {
            "text/html": [
              "<div>\n",
              "<style scoped>\n",
              "    .dataframe tbody tr th:only-of-type {\n",
              "        vertical-align: middle;\n",
              "    }\n",
              "\n",
              "    .dataframe tbody tr th {\n",
              "        vertical-align: top;\n",
              "    }\n",
              "\n",
              "    .dataframe thead th {\n",
              "        text-align: right;\n",
              "    }\n",
              "</style>\n",
              "<table border=\"1\" class=\"dataframe\">\n",
              "  <thead>\n",
              "    <tr style=\"text-align: right;\">\n",
              "      <th></th>\n",
              "      <th>match_name</th>\n",
              "      <th>opponents</th>\n",
              "      <th>results</th>\n",
              "      <th>forfeit</th>\n",
              "      <th>draw</th>\n",
              "      <th>number_of_games</th>\n",
              "      <th>winner</th>\n",
              "      <th>winner_id</th>\n",
              "      <th>begin_date</th>\n",
              "      <th>end_date</th>\n",
              "      <th>rescheduled</th>\n",
              "      <th>official_stream_channel_url</th>\n",
              "      <th>league_id</th>\n",
              "      <th>serie_id</th>\n",
              "      <th>tournament_id</th>\n",
              "      <th>winner_team</th>\n",
              "      <th>loser_team</th>\n",
              "    </tr>\n",
              "  </thead>\n",
              "  <tbody>\n",
              "  </tbody>\n",
              "</table>\n",
              "</div>"
            ],
            "text/plain": [
              "Empty DataFrame\n",
              "Columns: [match_name, opponents, results, forfeit, draw, number_of_games, winner, winner_id, begin_date, end_date, rescheduled, official_stream_channel_url, league_id, serie_id, tournament_id, winner_team, loser_team]\n",
              "Index: []"
            ]
          },
          "metadata": {
            "tags": []
          },
          "execution_count": 428
        }
      ]
    },
    {
      "cell_type": "markdown",
      "metadata": {
        "id": "asdLGMpCfddx"
      },
      "source": [
        "No hay resultados, podemos transformar con seguridad los _None_ a 0, además corregiremos el campo '_official stream channel url_': "
      ]
    },
    {
      "cell_type": "code",
      "metadata": {
        "id": "sGr3C5UFfxvP"
      },
      "source": [
        "lol_matches['winner_id'] = lol_matches['winner_id'].fillna(0)\r\n",
        "lol_matches['official_stream_channel_url'] = lol_matches['official_stream_channel_url'].fillna('Not Provided')"
      ],
      "execution_count": 429,
      "outputs": []
    },
    {
      "cell_type": "markdown",
      "metadata": {
        "id": "vKbGDaaVf5k_"
      },
      "source": [
        "Veamos si se realizó correctamente el cambio:"
      ]
    },
    {
      "cell_type": "code",
      "metadata": {
        "colab": {
          "base_uri": "https://localhost:8080/"
        },
        "id": "ksGkPPDrf9C-",
        "outputId": "d9e585dc-903e-4e01-a8d3-d21f3ef635a6"
      },
      "source": [
        "lol_matches['winner_id'].isna().sum()\r\n",
        "lol_matches['official_stream_channel_url'].isna().sum()"
      ],
      "execution_count": 430,
      "outputs": [
        {
          "output_type": "execute_result",
          "data": {
            "text/plain": [
              "0"
            ]
          },
          "metadata": {
            "tags": []
          },
          "execution_count": 430
        }
      ]
    },
    {
      "cell_type": "markdown",
      "metadata": {
        "id": "xpW1NC-1gBzw"
      },
      "source": [
        "!Excelente¡ Ahora transformemos la columna a enteros:"
      ]
    },
    {
      "cell_type": "code",
      "metadata": {
        "colab": {
          "base_uri": "https://localhost:8080/"
        },
        "id": "6iGu9zAGgBRP",
        "outputId": "e0646121-f31f-4589-d633-52900626f360"
      },
      "source": [
        "lol_matches['winner_id'] = lol_matches['winner_id'].astype(int)\r\n",
        "lol_matches.info()"
      ],
      "execution_count": 431,
      "outputs": [
        {
          "output_type": "stream",
          "text": [
            "<class 'pandas.core.frame.DataFrame'>\n",
            "RangeIndex: 18116 entries, 0 to 18115\n",
            "Data columns (total 17 columns):\n",
            " #   Column                       Non-Null Count  Dtype \n",
            "---  ------                       --------------  ----- \n",
            " 0   match_name                   18116 non-null  object\n",
            " 1   opponents                    18116 non-null  object\n",
            " 2   results                      18116 non-null  object\n",
            " 3   forfeit                      18116 non-null  bool  \n",
            " 4   draw                         18116 non-null  bool  \n",
            " 5   number_of_games              18116 non-null  int64 \n",
            " 6   winner                       17718 non-null  object\n",
            " 7   winner_id                    18116 non-null  int64 \n",
            " 8   begin_date                   18116 non-null  object\n",
            " 9   end_date                     18116 non-null  object\n",
            " 10  rescheduled                  18116 non-null  bool  \n",
            " 11  official_stream_channel_url  18116 non-null  object\n",
            " 12  league_id                    18116 non-null  int64 \n",
            " 13  serie_id                     18116 non-null  int64 \n",
            " 14  tournament_id                18116 non-null  int64 \n",
            " 15  winner_team                  18116 non-null  object\n",
            " 16  loser_team                   18116 non-null  object\n",
            "dtypes: bool(3), int64(5), object(9)\n",
            "memory usage: 2.0+ MB\n"
          ],
          "name": "stdout"
        }
      ]
    },
    {
      "cell_type": "markdown",
      "metadata": {
        "id": "XyC_r9h8gSR7"
      },
      "source": [
        "Ahora podemos crear nuestra función:"
      ]
    },
    {
      "cell_type": "code",
      "metadata": {
        "id": "aOUV5wtVZvkf"
      },
      "source": [
        "def team_scores(df):\r\n",
        "    losers_score = []\r\n",
        "    winners_score = []\r\n",
        "    for i in range(0,len(df)):\r\n",
        "        ganador_id = df['winner_id'][i]\r\n",
        "        equipo1_id = df['results'][i][0].get('team_id')\r\n",
        "        equipo2_id = df['results'][i][1].get('team_id')\r\n",
        "        if ganador_id == 0:\r\n",
        "            winner_score = 0\r\n",
        "            loser_score = 0\r\n",
        "        elif equipo1_id == ganador_id:\r\n",
        "            winner_score = df['results'][i][0].get('score')\r\n",
        "            loser_score = df['results'][i][1].get('score')\r\n",
        "        else:\r\n",
        "            winner_score = df['results'][i][1].get('score')\r\n",
        "            loser_score = df['results'][i][0].get('score')\r\n",
        "        winners_score.append(winner_score)    \r\n",
        "        losers_score.append(loser_score)\r\n",
        "    return [pd.Series(winners_score,index=df.index), pd.Series(losers_score,index=df.index) ]"
      ],
      "execution_count": 432,
      "outputs": []
    },
    {
      "cell_type": "code",
      "metadata": {
        "colab": {
          "base_uri": "https://localhost:8080/",
          "height": 1000
        },
        "id": "IPK9PjmfbVEf",
        "outputId": "c9ce0425-12b9-478f-d1b8-19bf97b26f95"
      },
      "source": [
        "[winner_score,loser_score] = team_scores(lol_matches)\r\n",
        "lol_matches['winner_score'] = winner_score\r\n",
        "lol_matches['loser_score'] = loser_score\r\n",
        "lol_matches"
      ],
      "execution_count": 433,
      "outputs": [
        {
          "output_type": "execute_result",
          "data": {
            "text/html": [
              "<div>\n",
              "<style scoped>\n",
              "    .dataframe tbody tr th:only-of-type {\n",
              "        vertical-align: middle;\n",
              "    }\n",
              "\n",
              "    .dataframe tbody tr th {\n",
              "        vertical-align: top;\n",
              "    }\n",
              "\n",
              "    .dataframe thead th {\n",
              "        text-align: right;\n",
              "    }\n",
              "</style>\n",
              "<table border=\"1\" class=\"dataframe\">\n",
              "  <thead>\n",
              "    <tr style=\"text-align: right;\">\n",
              "      <th></th>\n",
              "      <th>match_name</th>\n",
              "      <th>opponents</th>\n",
              "      <th>results</th>\n",
              "      <th>forfeit</th>\n",
              "      <th>draw</th>\n",
              "      <th>number_of_games</th>\n",
              "      <th>winner</th>\n",
              "      <th>winner_id</th>\n",
              "      <th>begin_date</th>\n",
              "      <th>end_date</th>\n",
              "      <th>rescheduled</th>\n",
              "      <th>official_stream_channel_url</th>\n",
              "      <th>league_id</th>\n",
              "      <th>serie_id</th>\n",
              "      <th>tournament_id</th>\n",
              "      <th>winner_team</th>\n",
              "      <th>loser_team</th>\n",
              "      <th>winner_score</th>\n",
              "      <th>loser_score</th>\n",
              "    </tr>\n",
              "  </thead>\n",
              "  <tbody>\n",
              "    <tr>\n",
              "      <th>0</th>\n",
              "      <td>ALF vs BJD</td>\n",
              "      <td>[{'opponent': {'acronym': 'ALF', 'id': 124408,...</td>\n",
              "      <td>[{'score': 0, 'team_id': 124408}, {'score': 1,...</td>\n",
              "      <td>False</td>\n",
              "      <td>False</td>\n",
              "      <td>1</td>\n",
              "      <td>{'acronym': 'BJD', 'id': 126861, 'image_url': ...</td>\n",
              "      <td>126861</td>\n",
              "      <td>2021-03-06T09:54:42Z</td>\n",
              "      <td>2021-03-06T10:28:54Z</td>\n",
              "      <td>False</td>\n",
              "      <td>https://www.twitch.tv/lolpacific</td>\n",
              "      <td>4288</td>\n",
              "      <td>3337</td>\n",
              "      <td>5483</td>\n",
              "      <td>Berjaya Dragons</td>\n",
              "      <td>Alpha Esports</td>\n",
              "      <td>1</td>\n",
              "      <td>0</td>\n",
              "    </tr>\n",
              "    <tr>\n",
              "      <th>1</th>\n",
              "      <td>Lower Bracket Round 2 Match 1: CGG vs GGE</td>\n",
              "      <td>[{'opponent': {'acronym': 'CGG', 'id': 127494,...</td>\n",
              "      <td>[{'score': 1, 'team_id': 127494}, {'score': 3,...</td>\n",
              "      <td>False</td>\n",
              "      <td>False</td>\n",
              "      <td>5</td>\n",
              "      <td>{'acronym': 'GGE', 'id': 128405, 'image_url': ...</td>\n",
              "      <td>128405</td>\n",
              "      <td>2021-03-08T18:07:48Z</td>\n",
              "      <td>2021-03-08T21:37:26Z</td>\n",
              "      <td>False</td>\n",
              "      <td>https://www.twitch.tv/pg_esports</td>\n",
              "      <td>4405</td>\n",
              "      <td>3291</td>\n",
              "      <td>5579</td>\n",
              "      <td>GG&amp;Esports</td>\n",
              "      <td>Cyberground Gaming</td>\n",
              "      <td>3</td>\n",
              "      <td>1</td>\n",
              "    </tr>\n",
              "    <tr>\n",
              "      <th>2</th>\n",
              "      <td>Round 1 match 1: KVM vs ION</td>\n",
              "      <td>[{'opponent': {'acronym': 'KVM', 'id': 127475,...</td>\n",
              "      <td>[{'score': 3, 'team_id': 127475}, {'score': 0,...</td>\n",
              "      <td>False</td>\n",
              "      <td>False</td>\n",
              "      <td>5</td>\n",
              "      <td>{'acronym': 'KVM', 'id': 127475, 'image_url': ...</td>\n",
              "      <td>127475</td>\n",
              "      <td>2021-03-08T18:04:03Z</td>\n",
              "      <td>2021-03-08T20:46:01Z</td>\n",
              "      <td>False</td>\n",
              "      <td>https://www.twitch.tv/esportsprimelol</td>\n",
              "      <td>4401</td>\n",
              "      <td>3248</td>\n",
              "      <td>5609</td>\n",
              "      <td>KV Mechelen Esports</td>\n",
              "      <td>Ion Squad</td>\n",
              "      <td>3</td>\n",
              "      <td>0</td>\n",
              "    </tr>\n",
              "    <tr>\n",
              "      <th>3</th>\n",
              "      <td>Winners bracket round 1 match 2: ESB vs SIN</td>\n",
              "      <td>[{'opponent': {'acronym': 'ESB', 'id': 3344, '...</td>\n",
              "      <td>[{'score': 2, 'team_id': 3344}, {'score': 3, '...</td>\n",
              "      <td>False</td>\n",
              "      <td>False</td>\n",
              "      <td>5</td>\n",
              "      <td>{'acronym': 'SIN', 'id': 127586, 'image_url': ...</td>\n",
              "      <td>127586</td>\n",
              "      <td>2021-03-07T17:53:43Z</td>\n",
              "      <td>2021-03-07T22:22:51Z</td>\n",
              "      <td>False</td>\n",
              "      <td>https://www.twitch.tv/hitpointcz</td>\n",
              "      <td>4433</td>\n",
              "      <td>3314</td>\n",
              "      <td>5602</td>\n",
              "      <td>SINNERS Esports</td>\n",
              "      <td>eSuba</td>\n",
              "      <td>3</td>\n",
              "      <td>2</td>\n",
              "    </tr>\n",
              "    <tr>\n",
              "      <th>4</th>\n",
              "      <td>Winners bracket round 1 match 1: IG vs VIK</td>\n",
              "      <td>[{'opponent': {'acronym': 'IG', 'id': 127585, ...</td>\n",
              "      <td>[{'score': 3, 'team_id': 127585}, {'score': 1,...</td>\n",
              "      <td>False</td>\n",
              "      <td>False</td>\n",
              "      <td>5</td>\n",
              "      <td>{'acronym': 'IG', 'id': 127585, 'image_url': '...</td>\n",
              "      <td>127585</td>\n",
              "      <td>2021-03-07T13:30:41Z</td>\n",
              "      <td>2021-03-07T17:08:57Z</td>\n",
              "      <td>False</td>\n",
              "      <td>https://www.twitch.tv/hitpointcz</td>\n",
              "      <td>4433</td>\n",
              "      <td>3314</td>\n",
              "      <td>5602</td>\n",
              "      <td>Inside Games</td>\n",
              "      <td>Vikingekrig Esports</td>\n",
              "      <td>3</td>\n",
              "      <td>1</td>\n",
              "    </tr>\n",
              "    <tr>\n",
              "      <th>...</th>\n",
              "      <td>...</td>\n",
              "      <td>...</td>\n",
              "      <td>...</td>\n",
              "      <td>...</td>\n",
              "      <td>...</td>\n",
              "      <td>...</td>\n",
              "      <td>...</td>\n",
              "      <td>...</td>\n",
              "      <td>...</td>\n",
              "      <td>...</td>\n",
              "      <td>...</td>\n",
              "      <td>...</td>\n",
              "      <td>...</td>\n",
              "      <td>...</td>\n",
              "      <td>...</td>\n",
              "      <td>...</td>\n",
              "      <td>...</td>\n",
              "      <td>...</td>\n",
              "      <td>...</td>\n",
              "    </tr>\n",
              "    <tr>\n",
              "      <th>18111</th>\n",
              "      <td>DIG vs C9</td>\n",
              "      <td>[{'opponent': {'acronym': 'DIG', 'id': 384, 'i...</td>\n",
              "      <td>[{'score': 1, 'team_id': 384}, {'score': 0, 't...</td>\n",
              "      <td>False</td>\n",
              "      <td>False</td>\n",
              "      <td>1</td>\n",
              "      <td>{'acronym': 'DIG', 'id': 384, 'image_url': 'ht...</td>\n",
              "      <td>384</td>\n",
              "      <td>2015-05-31T20:09:51Z</td>\n",
              "      <td>2015-05-31T20:43:55Z</td>\n",
              "      <td>False</td>\n",
              "      <td>Not Provided</td>\n",
              "      <td>289</td>\n",
              "      <td>31</td>\n",
              "      <td>1</td>\n",
              "      <td>Dignitas</td>\n",
              "      <td>Cloud9</td>\n",
              "      <td>1</td>\n",
              "      <td>0</td>\n",
              "    </tr>\n",
              "    <tr>\n",
              "      <th>18112</th>\n",
              "      <td>T8 vs TL</td>\n",
              "      <td>[{'opponent': {'acronym': 'T8', 'id': 6, 'imag...</td>\n",
              "      <td>[{'score': 0, 'team_id': 6}, {'score': 1, 'tea...</td>\n",
              "      <td>False</td>\n",
              "      <td>False</td>\n",
              "      <td>1</td>\n",
              "      <td>{'acronym': 'TL', 'id': 390, 'image_url': 'htt...</td>\n",
              "      <td>390</td>\n",
              "      <td>2015-05-31T18:22:58Z</td>\n",
              "      <td>2015-05-31T19:04:18Z</td>\n",
              "      <td>False</td>\n",
              "      <td>Not Provided</td>\n",
              "      <td>289</td>\n",
              "      <td>31</td>\n",
              "      <td>1</td>\n",
              "      <td>Team Liquid</td>\n",
              "      <td>Team 8</td>\n",
              "      <td>1</td>\n",
              "      <td>0</td>\n",
              "    </tr>\n",
              "    <tr>\n",
              "      <th>18113</th>\n",
              "      <td>GV vs NME</td>\n",
              "      <td>[{'opponent': {'acronym': 'GV', 'id': 9, 'imag...</td>\n",
              "      <td>[{'score': 0, 'team_id': 9}, {'score': 1, 'tea...</td>\n",
              "      <td>False</td>\n",
              "      <td>False</td>\n",
              "      <td>1</td>\n",
              "      <td>{'acronym': 'NME', 'id': 10, 'image_url': 'htt...</td>\n",
              "      <td>10</td>\n",
              "      <td>2015-05-30T23:23:25Z</td>\n",
              "      <td>2015-05-31T00:06:10Z</td>\n",
              "      <td>False</td>\n",
              "      <td>Not Provided</td>\n",
              "      <td>289</td>\n",
              "      <td>31</td>\n",
              "      <td>1</td>\n",
              "      <td>Enemy</td>\n",
              "      <td>Gravity</td>\n",
              "      <td>1</td>\n",
              "      <td>0</td>\n",
              "    </tr>\n",
              "    <tr>\n",
              "      <th>18114</th>\n",
              "      <td>T8 vs TIP</td>\n",
              "      <td>[{'opponent': {'acronym': 'T8', 'id': 6, 'imag...</td>\n",
              "      <td>[{'score': 0, 'team_id': 6}, {'score': 1, 'tea...</td>\n",
              "      <td>False</td>\n",
              "      <td>False</td>\n",
              "      <td>1</td>\n",
              "      <td>{'acronym': 'TIP', 'id': 385, 'image_url': 'ht...</td>\n",
              "      <td>385</td>\n",
              "      <td>2015-05-30T22:23:32Z</td>\n",
              "      <td>2015-05-30T22:56:32Z</td>\n",
              "      <td>False</td>\n",
              "      <td>Not Provided</td>\n",
              "      <td>289</td>\n",
              "      <td>31</td>\n",
              "      <td>1</td>\n",
              "      <td>Impulse</td>\n",
              "      <td>Team 8</td>\n",
              "      <td>1</td>\n",
              "      <td>0</td>\n",
              "    </tr>\n",
              "    <tr>\n",
              "      <th>18115</th>\n",
              "      <td>TL vs TDK</td>\n",
              "      <td>[{'opponent': {'acronym': 'TL', 'id': 390, 'im...</td>\n",
              "      <td>[{'score': 1, 'team_id': 390}, {'score': 0, 't...</td>\n",
              "      <td>False</td>\n",
              "      <td>False</td>\n",
              "      <td>1</td>\n",
              "      <td>{'acronym': 'TL', 'id': 390, 'image_url': 'htt...</td>\n",
              "      <td>390</td>\n",
              "      <td>2015-05-30T20:11:29Z</td>\n",
              "      <td>2015-05-30T20:55:10Z</td>\n",
              "      <td>False</td>\n",
              "      <td>Not Provided</td>\n",
              "      <td>289</td>\n",
              "      <td>31</td>\n",
              "      <td>1</td>\n",
              "      <td>Team Liquid</td>\n",
              "      <td>Dragon Knights</td>\n",
              "      <td>1</td>\n",
              "      <td>0</td>\n",
              "    </tr>\n",
              "  </tbody>\n",
              "</table>\n",
              "<p>18116 rows × 19 columns</p>\n",
              "</div>"
            ],
            "text/plain": [
              "                                        match_name  ... loser_score\n",
              "0                                       ALF vs BJD  ...           0\n",
              "1        Lower Bracket Round 2 Match 1: CGG vs GGE  ...           1\n",
              "2                      Round 1 match 1: KVM vs ION  ...           0\n",
              "3      Winners bracket round 1 match 2: ESB vs SIN  ...           2\n",
              "4       Winners bracket round 1 match 1: IG vs VIK  ...           1\n",
              "...                                            ...  ...         ...\n",
              "18111                                    DIG vs C9  ...           0\n",
              "18112                                     T8 vs TL  ...           0\n",
              "18113                                    GV vs NME  ...           0\n",
              "18114                                    T8 vs TIP  ...           0\n",
              "18115                                    TL vs TDK  ...           0\n",
              "\n",
              "[18116 rows x 19 columns]"
            ]
          },
          "metadata": {
            "tags": []
          },
          "execution_count": 433
        }
      ]
    },
    {
      "cell_type": "markdown",
      "metadata": {
        "id": "iKEQ4gMBplsu"
      },
      "source": [
        "Ahora que extrajimos la información más relevante de los campos con listas, podemos retirarlos:"
      ]
    },
    {
      "cell_type": "code",
      "metadata": {
        "id": "SbR2FdKzpqZh"
      },
      "source": [
        "lol_matches2 = lol_matches\r\n",
        "campos_no_deseados = ['results','winner','opponents','winner_id']\r\n",
        "lol_matches2 = lol_matches2.drop(columns=campos_no_deseados)"
      ],
      "execution_count": 466,
      "outputs": []
    },
    {
      "cell_type": "code",
      "metadata": {
        "colab": {
          "base_uri": "https://localhost:8080/"
        },
        "id": "MhUcbtxNp34J",
        "outputId": "23d4202d-1f1d-49fc-ce87-83f13909f5c7"
      },
      "source": [
        "lol_matches2.info()"
      ],
      "execution_count": 467,
      "outputs": [
        {
          "output_type": "stream",
          "text": [
            "<class 'pandas.core.frame.DataFrame'>\n",
            "RangeIndex: 18116 entries, 0 to 18115\n",
            "Data columns (total 15 columns):\n",
            " #   Column                       Non-Null Count  Dtype \n",
            "---  ------                       --------------  ----- \n",
            " 0   match_name                   18116 non-null  object\n",
            " 1   forfeit                      18116 non-null  bool  \n",
            " 2   draw                         18116 non-null  bool  \n",
            " 3   number_of_games              18116 non-null  int64 \n",
            " 4   begin_date                   18116 non-null  object\n",
            " 5   end_date                     18116 non-null  object\n",
            " 6   rescheduled                  18116 non-null  bool  \n",
            " 7   official_stream_channel_url  18116 non-null  object\n",
            " 8   league_id                    18116 non-null  int64 \n",
            " 9   serie_id                     18116 non-null  int64 \n",
            " 10  tournament_id                18116 non-null  int64 \n",
            " 11  winner_team                  18116 non-null  object\n",
            " 12  loser_team                   18116 non-null  object\n",
            " 13  winner_score                 18116 non-null  int64 \n",
            " 14  loser_score                  18116 non-null  int64 \n",
            "dtypes: bool(3), int64(6), object(6)\n",
            "memory usage: 1.7+ MB\n"
          ],
          "name": "stdout"
        }
      ]
    },
    {
      "cell_type": "markdown",
      "metadata": {
        "id": "u2oMhlVVrkOU"
      },
      "source": [
        "Nuestro siguiente objetivo es refinar los tipos de datos de los campos para las fechas:"
      ]
    },
    {
      "cell_type": "code",
      "metadata": {
        "id": "YYEtPnZorskO"
      },
      "source": [
        "from datetime import *\r\n",
        "lol_matches2['begin_date'] = lol_matches2['begin_date'].apply(datetime.strptime, args=('%Y-%m-%dT%H:%M:%SZ',))\r\n",
        "lol_matches2['end_date'] = lol_matches2['end_date'].apply(datetime.strptime, args=('%Y-%m-%dT%H:%M:%SZ',))\r\n"
      ],
      "execution_count": 468,
      "outputs": []
    },
    {
      "cell_type": "markdown",
      "metadata": {
        "id": "zC49gfZAxnNj"
      },
      "source": [
        "Ya que la API guarda los datos en una forma algo peculiar nos apoyamos del paquete datetime y convertimos con ayuda de apply. Finalmente tendremos un Dataframe libre de valores nulos, con campos nombrados coherentementes (en inglés) y que ofrece la posibilidad de trabajar con otros datos de la API al conservar los identificadores:"
      ]
    },
    {
      "cell_type": "code",
      "metadata": {
        "colab": {
          "base_uri": "https://localhost:8080/"
        },
        "id": "UMCt4ISZscRV",
        "outputId": "323f5970-944d-43cb-fc6f-6f6f33f11104"
      },
      "source": [
        "lol_matches2.info()"
      ],
      "execution_count": 463,
      "outputs": [
        {
          "output_type": "stream",
          "text": [
            "<class 'pandas.core.frame.DataFrame'>\n",
            "RangeIndex: 18116 entries, 0 to 18115\n",
            "Data columns (total 15 columns):\n",
            " #   Column                       Non-Null Count  Dtype         \n",
            "---  ------                       --------------  -----         \n",
            " 0   match_name                   18116 non-null  object        \n",
            " 1   forfeit                      18116 non-null  bool          \n",
            " 2   draw                         18116 non-null  bool          \n",
            " 3   number_of_games              18116 non-null  int64         \n",
            " 4   begin_date                   18116 non-null  datetime64[ns]\n",
            " 5   end_date                     18116 non-null  datetime64[ns]\n",
            " 6   rescheduled                  18116 non-null  bool          \n",
            " 7   official_stream_channel_url  18116 non-null  object        \n",
            " 8   league_id                    18116 non-null  int64         \n",
            " 9   serie_id                     18116 non-null  int64         \n",
            " 10  tournament_id                18116 non-null  int64         \n",
            " 11  winner_team                  18116 non-null  object        \n",
            " 12  loser_team                   18116 non-null  object        \n",
            " 13  winner_score                 18116 non-null  int64         \n",
            " 14  loser_score                  18116 non-null  int64         \n",
            "dtypes: bool(3), datetime64[ns](2), int64(6), object(4)\n",
            "memory usage: 1.7+ MB\n"
          ],
          "name": "stdout"
        }
      ]
    },
    {
      "cell_type": "code",
      "metadata": {
        "colab": {
          "base_uri": "https://localhost:8080/",
          "height": 504
        },
        "id": "spTSI_26yCn_",
        "outputId": "bc8a0f90-f99f-4e2f-a41b-7861d25727cf"
      },
      "source": [
        "lol_matches2.head()"
      ],
      "execution_count": 476,
      "outputs": [
        {
          "output_type": "execute_result",
          "data": {
            "text/html": [
              "<div>\n",
              "<style scoped>\n",
              "    .dataframe tbody tr th:only-of-type {\n",
              "        vertical-align: middle;\n",
              "    }\n",
              "\n",
              "    .dataframe tbody tr th {\n",
              "        vertical-align: top;\n",
              "    }\n",
              "\n",
              "    .dataframe thead th {\n",
              "        text-align: right;\n",
              "    }\n",
              "</style>\n",
              "<table border=\"1\" class=\"dataframe\">\n",
              "  <thead>\n",
              "    <tr style=\"text-align: right;\">\n",
              "      <th></th>\n",
              "      <th>match_name</th>\n",
              "      <th>forfeit</th>\n",
              "      <th>draw</th>\n",
              "      <th>number_of_games</th>\n",
              "      <th>begin_date</th>\n",
              "      <th>end_date</th>\n",
              "      <th>rescheduled</th>\n",
              "      <th>official_stream_channel_url</th>\n",
              "      <th>league_id</th>\n",
              "      <th>serie_id</th>\n",
              "      <th>tournament_id</th>\n",
              "      <th>winner_team</th>\n",
              "      <th>loser_team</th>\n",
              "      <th>winner_score</th>\n",
              "      <th>loser_score</th>\n",
              "    </tr>\n",
              "  </thead>\n",
              "  <tbody>\n",
              "    <tr>\n",
              "      <th>0</th>\n",
              "      <td>ALF vs BJD</td>\n",
              "      <td>False</td>\n",
              "      <td>False</td>\n",
              "      <td>1</td>\n",
              "      <td>2021-03-06 09:54:42</td>\n",
              "      <td>2021-03-06 10:28:54</td>\n",
              "      <td>False</td>\n",
              "      <td>https://www.twitch.tv/lolpacific</td>\n",
              "      <td>4288</td>\n",
              "      <td>3337</td>\n",
              "      <td>5483</td>\n",
              "      <td>Berjaya Dragons</td>\n",
              "      <td>Alpha Esports</td>\n",
              "      <td>1</td>\n",
              "      <td>0</td>\n",
              "    </tr>\n",
              "    <tr>\n",
              "      <th>1</th>\n",
              "      <td>Lower Bracket Round 2 Match 1: CGG vs GGE</td>\n",
              "      <td>False</td>\n",
              "      <td>False</td>\n",
              "      <td>5</td>\n",
              "      <td>2021-03-08 18:07:48</td>\n",
              "      <td>2021-03-08 21:37:26</td>\n",
              "      <td>False</td>\n",
              "      <td>https://www.twitch.tv/pg_esports</td>\n",
              "      <td>4405</td>\n",
              "      <td>3291</td>\n",
              "      <td>5579</td>\n",
              "      <td>GG&amp;Esports</td>\n",
              "      <td>Cyberground Gaming</td>\n",
              "      <td>3</td>\n",
              "      <td>1</td>\n",
              "    </tr>\n",
              "    <tr>\n",
              "      <th>2</th>\n",
              "      <td>Round 1 match 1: KVM vs ION</td>\n",
              "      <td>False</td>\n",
              "      <td>False</td>\n",
              "      <td>5</td>\n",
              "      <td>2021-03-08 18:04:03</td>\n",
              "      <td>2021-03-08 20:46:01</td>\n",
              "      <td>False</td>\n",
              "      <td>https://www.twitch.tv/esportsprimelol</td>\n",
              "      <td>4401</td>\n",
              "      <td>3248</td>\n",
              "      <td>5609</td>\n",
              "      <td>KV Mechelen Esports</td>\n",
              "      <td>Ion Squad</td>\n",
              "      <td>3</td>\n",
              "      <td>0</td>\n",
              "    </tr>\n",
              "    <tr>\n",
              "      <th>3</th>\n",
              "      <td>Winners bracket round 1 match 2: ESB vs SIN</td>\n",
              "      <td>False</td>\n",
              "      <td>False</td>\n",
              "      <td>5</td>\n",
              "      <td>2021-03-07 17:53:43</td>\n",
              "      <td>2021-03-07 22:22:51</td>\n",
              "      <td>False</td>\n",
              "      <td>https://www.twitch.tv/hitpointcz</td>\n",
              "      <td>4433</td>\n",
              "      <td>3314</td>\n",
              "      <td>5602</td>\n",
              "      <td>SINNERS Esports</td>\n",
              "      <td>eSuba</td>\n",
              "      <td>3</td>\n",
              "      <td>2</td>\n",
              "    </tr>\n",
              "    <tr>\n",
              "      <th>4</th>\n",
              "      <td>Winners bracket round 1 match 1: IG vs VIK</td>\n",
              "      <td>False</td>\n",
              "      <td>False</td>\n",
              "      <td>5</td>\n",
              "      <td>2021-03-07 13:30:41</td>\n",
              "      <td>2021-03-07 17:08:57</td>\n",
              "      <td>False</td>\n",
              "      <td>https://www.twitch.tv/hitpointcz</td>\n",
              "      <td>4433</td>\n",
              "      <td>3314</td>\n",
              "      <td>5602</td>\n",
              "      <td>Inside Games</td>\n",
              "      <td>Vikingekrig Esports</td>\n",
              "      <td>3</td>\n",
              "      <td>1</td>\n",
              "    </tr>\n",
              "  </tbody>\n",
              "</table>\n",
              "</div>"
            ],
            "text/plain": [
              "                                    match_name  ...  loser_score\n",
              "0                                   ALF vs BJD  ...            0\n",
              "1    Lower Bracket Round 2 Match 1: CGG vs GGE  ...            1\n",
              "2                  Round 1 match 1: KVM vs ION  ...            0\n",
              "3  Winners bracket round 1 match 2: ESB vs SIN  ...            2\n",
              "4   Winners bracket round 1 match 1: IG vs VIK  ...            1\n",
              "\n",
              "[5 rows x 15 columns]"
            ]
          },
          "metadata": {
            "tags": []
          },
          "execution_count": 476
        }
      ]
    },
    {
      "cell_type": "markdown",
      "metadata": {
        "id": "wQuXEXzjze1d"
      },
      "source": [
        "Antes de guardar nuestro Dataframe, ordenemos por fecha de forma que lo primero que veamos sean los enfrentamientos más antiguos:"
      ]
    },
    {
      "cell_type": "code",
      "metadata": {
        "id": "Ey7vyYNvyybp"
      },
      "source": [
        "lol_matches2 = lol_matches2.sort_values('begin_date', ascending=True)"
      ],
      "execution_count": 478,
      "outputs": []
    },
    {
      "cell_type": "markdown",
      "metadata": {
        "id": "kJ1YQDsszsDI"
      },
      "source": [
        "Necesitamos resetear el índice:"
      ]
    },
    {
      "cell_type": "code",
      "metadata": {
        "colab": {
          "base_uri": "https://localhost:8080/",
          "height": 652
        },
        "id": "VoqtetBFzrdc",
        "outputId": "a9193ef1-39a7-412c-f1b4-b31c26071413"
      },
      "source": [
        "lol_matches2 = lol_matches2.reset_index(drop=True)\r\n",
        "lol_matches2"
      ],
      "execution_count": 479,
      "outputs": [
        {
          "output_type": "execute_result",
          "data": {
            "text/html": [
              "<div>\n",
              "<style scoped>\n",
              "    .dataframe tbody tr th:only-of-type {\n",
              "        vertical-align: middle;\n",
              "    }\n",
              "\n",
              "    .dataframe tbody tr th {\n",
              "        vertical-align: top;\n",
              "    }\n",
              "\n",
              "    .dataframe thead th {\n",
              "        text-align: right;\n",
              "    }\n",
              "</style>\n",
              "<table border=\"1\" class=\"dataframe\">\n",
              "  <thead>\n",
              "    <tr style=\"text-align: right;\">\n",
              "      <th></th>\n",
              "      <th>match_name</th>\n",
              "      <th>forfeit</th>\n",
              "      <th>draw</th>\n",
              "      <th>number_of_games</th>\n",
              "      <th>begin_date</th>\n",
              "      <th>end_date</th>\n",
              "      <th>rescheduled</th>\n",
              "      <th>official_stream_channel_url</th>\n",
              "      <th>league_id</th>\n",
              "      <th>serie_id</th>\n",
              "      <th>tournament_id</th>\n",
              "      <th>winner_team</th>\n",
              "      <th>loser_team</th>\n",
              "      <th>winner_score</th>\n",
              "      <th>loser_score</th>\n",
              "    </tr>\n",
              "  </thead>\n",
              "  <tbody>\n",
              "    <tr>\n",
              "      <th>0</th>\n",
              "      <td>Qf 2</td>\n",
              "      <td>False</td>\n",
              "      <td>False</td>\n",
              "      <td>3</td>\n",
              "      <td>2014-06-01 14:00:00</td>\n",
              "      <td>2014-06-01 15:35:19</td>\n",
              "      <td>False</td>\n",
              "      <td>Not Provided</td>\n",
              "      <td>291</td>\n",
              "      <td>1352</td>\n",
              "      <td>696</td>\n",
              "      <td>Team LoLPro</td>\n",
              "      <td>Area of Effect eSports</td>\n",
              "      <td>2</td>\n",
              "      <td>0</td>\n",
              "    </tr>\n",
              "    <tr>\n",
              "      <th>1</th>\n",
              "      <td>Qf 3</td>\n",
              "      <td>False</td>\n",
              "      <td>False</td>\n",
              "      <td>3</td>\n",
              "      <td>2014-06-07 14:00:00</td>\n",
              "      <td>2014-06-07 15:40:14</td>\n",
              "      <td>False</td>\n",
              "      <td>Not Provided</td>\n",
              "      <td>291</td>\n",
              "      <td>1352</td>\n",
              "      <td>696</td>\n",
              "      <td>Team Coast</td>\n",
              "      <td>Team Green Forest</td>\n",
              "      <td>2</td>\n",
              "      <td>0</td>\n",
              "    </tr>\n",
              "    <tr>\n",
              "      <th>2</th>\n",
              "      <td>Sf1</td>\n",
              "      <td>False</td>\n",
              "      <td>False</td>\n",
              "      <td>3</td>\n",
              "      <td>2014-06-14 14:00:00</td>\n",
              "      <td>2014-06-14 15:30:36</td>\n",
              "      <td>False</td>\n",
              "      <td>Not Provided</td>\n",
              "      <td>291</td>\n",
              "      <td>1352</td>\n",
              "      <td>696</td>\n",
              "      <td>Team LoLPro</td>\n",
              "      <td>Frank Fang Gaming</td>\n",
              "      <td>2</td>\n",
              "      <td>0</td>\n",
              "    </tr>\n",
              "    <tr>\n",
              "      <th>3</th>\n",
              "      <td>Sf2</td>\n",
              "      <td>False</td>\n",
              "      <td>False</td>\n",
              "      <td>3</td>\n",
              "      <td>2014-06-15 14:00:00</td>\n",
              "      <td>2014-06-15 16:35:43</td>\n",
              "      <td>False</td>\n",
              "      <td>Not Provided</td>\n",
              "      <td>291</td>\n",
              "      <td>1352</td>\n",
              "      <td>696</td>\n",
              "      <td>Team Coast</td>\n",
              "      <td>Curse Academy</td>\n",
              "      <td>2</td>\n",
              "      <td>1</td>\n",
              "    </tr>\n",
              "    <tr>\n",
              "      <th>4</th>\n",
              "      <td>3rd/4th</td>\n",
              "      <td>False</td>\n",
              "      <td>False</td>\n",
              "      <td>3</td>\n",
              "      <td>2014-06-16 14:00:00</td>\n",
              "      <td>2014-06-16 15:43:55</td>\n",
              "      <td>False</td>\n",
              "      <td>Not Provided</td>\n",
              "      <td>291</td>\n",
              "      <td>1352</td>\n",
              "      <td>696</td>\n",
              "      <td>Curse Academy</td>\n",
              "      <td>Frank Fang Gaming</td>\n",
              "      <td>0</td>\n",
              "      <td>0</td>\n",
              "    </tr>\n",
              "    <tr>\n",
              "      <th>...</th>\n",
              "      <td>...</td>\n",
              "      <td>...</td>\n",
              "      <td>...</td>\n",
              "      <td>...</td>\n",
              "      <td>...</td>\n",
              "      <td>...</td>\n",
              "      <td>...</td>\n",
              "      <td>...</td>\n",
              "      <td>...</td>\n",
              "      <td>...</td>\n",
              "      <td>...</td>\n",
              "      <td>...</td>\n",
              "      <td>...</td>\n",
              "      <td>...</td>\n",
              "      <td>...</td>\n",
              "    </tr>\n",
              "    <tr>\n",
              "      <th>18111</th>\n",
              "      <td>Week 7: STR vs x25 Esports</td>\n",
              "      <td>False</td>\n",
              "      <td>False</td>\n",
              "      <td>1</td>\n",
              "      <td>2021-03-08 21:01:47</td>\n",
              "      <td>2021-03-08 21:35:43</td>\n",
              "      <td>False</td>\n",
              "      <td>https://www.twitch.tv/fortuna</td>\n",
              "      <td>4426</td>\n",
              "      <td>3351</td>\n",
              "      <td>5514</td>\n",
              "      <td>x25 Esports</td>\n",
              "      <td>Split Raiders</td>\n",
              "      <td>1</td>\n",
              "      <td>0</td>\n",
              "    </tr>\n",
              "    <tr>\n",
              "      <th>18112</th>\n",
              "      <td>KRM vs WD</td>\n",
              "      <td>False</td>\n",
              "      <td>False</td>\n",
              "      <td>1</td>\n",
              "      <td>2021-03-08 21:06:24</td>\n",
              "      <td>2021-03-08 21:42:41</td>\n",
              "      <td>False</td>\n",
              "      <td>https://www.twitch.tv/InygonTV1</td>\n",
              "      <td>4407</td>\n",
              "      <td>3301</td>\n",
              "      <td>5411</td>\n",
              "      <td>White Dragons</td>\n",
              "      <td>Karma Clan Esports</td>\n",
              "      <td>1</td>\n",
              "      <td>0</td>\n",
              "    </tr>\n",
              "    <tr>\n",
              "      <th>18113</th>\n",
              "      <td>MRS vs UCAM</td>\n",
              "      <td>False</td>\n",
              "      <td>False</td>\n",
              "      <td>1</td>\n",
              "      <td>2021-03-08 21:09:58</td>\n",
              "      <td>2021-03-08 21:58:38</td>\n",
              "      <td>True</td>\n",
              "      <td>http://www.twitch.tv/lvpes</td>\n",
              "      <td>4213</td>\n",
              "      <td>3255</td>\n",
              "      <td>5346</td>\n",
              "      <td>UCAM Esports Club</td>\n",
              "      <td>Movistar Riders</td>\n",
              "      <td>1</td>\n",
              "      <td>0</td>\n",
              "    </tr>\n",
              "    <tr>\n",
              "      <th>18114</th>\n",
              "      <td>E5 vs GTZ</td>\n",
              "      <td>False</td>\n",
              "      <td>False</td>\n",
              "      <td>1</td>\n",
              "      <td>2021-03-08 22:07:54</td>\n",
              "      <td>2021-03-08 22:44:31</td>\n",
              "      <td>False</td>\n",
              "      <td>https://www.twitch.tv/InygonTV1</td>\n",
              "      <td>4407</td>\n",
              "      <td>3301</td>\n",
              "      <td>5411</td>\n",
              "      <td>GTZ Bulls</td>\n",
              "      <td>EFIVE Esports</td>\n",
              "      <td>1</td>\n",
              "      <td>0</td>\n",
              "    </tr>\n",
              "    <tr>\n",
              "      <th>18115</th>\n",
              "      <td>EGN vs OFF7</td>\n",
              "      <td>False</td>\n",
              "      <td>False</td>\n",
              "      <td>1</td>\n",
              "      <td>2021-03-08 23:11:24</td>\n",
              "      <td>2021-03-08 23:53:22</td>\n",
              "      <td>False</td>\n",
              "      <td>https://www.twitch.tv/InygonTV1</td>\n",
              "      <td>4407</td>\n",
              "      <td>3301</td>\n",
              "      <td>5411</td>\n",
              "      <td>EGN Esports</td>\n",
              "      <td>OFFSET Esports</td>\n",
              "      <td>1</td>\n",
              "      <td>0</td>\n",
              "    </tr>\n",
              "  </tbody>\n",
              "</table>\n",
              "<p>18116 rows × 15 columns</p>\n",
              "</div>"
            ],
            "text/plain": [
              "                       match_name  forfeit  ...  winner_score  loser_score\n",
              "0                            Qf 2    False  ...             2            0\n",
              "1                            Qf 3    False  ...             2            0\n",
              "2                             Sf1    False  ...             2            0\n",
              "3                             Sf2    False  ...             2            1\n",
              "4                         3rd/4th    False  ...             0            0\n",
              "...                           ...      ...  ...           ...          ...\n",
              "18111  Week 7: STR vs x25 Esports    False  ...             1            0\n",
              "18112                   KRM vs WD    False  ...             1            0\n",
              "18113                 MRS vs UCAM    False  ...             1            0\n",
              "18114                   E5 vs GTZ    False  ...             1            0\n",
              "18115                 EGN vs OFF7    False  ...             1            0\n",
              "\n",
              "[18116 rows x 15 columns]"
            ]
          },
          "metadata": {
            "tags": []
          },
          "execution_count": 479
        }
      ]
    },
    {
      "cell_type": "markdown",
      "metadata": {
        "id": "tdMZ06WDyPrb"
      },
      "source": [
        "Finalmente, guardamos el Dataframe:"
      ]
    },
    {
      "cell_type": "code",
      "metadata": {
        "id": "gjVYu3dkyJpM"
      },
      "source": [
        "lol_matches2.to_csv('lol_matches2.csv')"
      ],
      "execution_count": 480,
      "outputs": []
    }
  ]
}