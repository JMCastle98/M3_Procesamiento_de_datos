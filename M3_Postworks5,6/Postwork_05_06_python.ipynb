{
  "nbformat": 4,
  "nbformat_minor": 0,
  "metadata": {
    "colab": {
      "name": "Postwork_05/06_python.ipynb",
      "provenance": [],
      "collapsed_sections": [],
      "authorship_tag": "ABX9TyOMk6h4HkUbCCkSggtNV/fF",
      "include_colab_link": true
    },
    "kernelspec": {
      "name": "python3",
      "display_name": "Python 3"
    }
  },
  "cells": [
    {
      "cell_type": "markdown",
      "metadata": {
        "id": "view-in-github",
        "colab_type": "text"
      },
      "source": [
        "<a href=\"https://colab.research.google.com/github/LKXoro/BEDU-Rstudio-postworks/blob/main/M3_Postworks5%2C6/Postwork_05_06_python.ipynb\" target=\"_parent\"><img src=\"https://colab.research.google.com/assets/colab-badge.svg\" alt=\"Open In Colab\"/></a>"
      ]
    },
    {
      "cell_type": "markdown",
      "metadata": {
        "id": "ldgFHMnD7x-I"
      },
      "source": [
        "# Postworks 05 y 06: Limpieza de datos y agregaciones / Automatización y APIs\r\n",
        "\r\n",
        "En esencia el Postwork 05 busca que limpiemos nuestro Dataset de valores nulos y probemos obtener información mediante agreaciones. Mientras que el Postwork 06 invita a automatizar el proceso de peticiones a una API. En esta entrega cambiaremos un poco el orden, primero realizaremos la automatización de la petición para obtener todos los datos y después los limpiaremos.\r\n",
        "\r\n",
        "<p align=\"center\">\r\n",
        "<img src=\"https://empresas.blogthinkbig.com/wp-content/uploads/2019/03/janitor.png\" height =\"200\" width = \"200\" alt=lego>\r\n",
        "</p>\r\n",
        "\r\n",
        "En postworks anteriores mencionamos que una petición a nuestra API de confianza, PandaScore, puede regresar como máximo 100 registros por petición y que las peticiones responden a parámetros de la URL. Creemos que la mejor forma de automatizar este proceso es con una función que nos devuelva la información que queremos, del juego que queremos de la API:\r\n"
      ]
    },
    {
      "cell_type": "code",
      "metadata": {
        "id": "jQ5tXU3y7rtm"
      },
      "source": [
        "import requests #Importamos los paquete necesarios\r\n",
        "import pandas as pd \r\n",
        "import math as mt\r\n",
        " \r\n",
        "def PandaScore_get(juego,informacion): #Definimos nuestra función\r\n",
        "    if isinstance(juego, str) and isinstance(informacion, str): #Nos aseguramos que los argumentos sean de tipo str\r\n",
        "        registros = 100 #Establecemos el número de registros por página\r\n",
        "        token = 'V3U1fnnWozJi3bbhZfrxdiAmN4-XWnX_4g6i_6iauwwh7w-V8Ns' #Token de acceso\r\n",
        "        url = f\"https://api.pandascore.co/{juego}/{informacion}?page[size]={registros}&token={token}\" #URL con los parámetros deseados\r\n",
        "        response = requests.get(url) #Realizamos la petición\r\n",
        "        if response.status_code == 200: #Si todo salió bien continuamos\r\n",
        "            Iteraciones = mt.ceil(float(response.headers['X-Total'])/registros) #Calculamos el número de páginas en base a todos los registros que hay en la API\r\n",
        "            #Al dividir el número total de registros entre los registros solicitados obtenemos un aproximado, para asegurar que tomaremos todos, redondeamos al entero más alto\r\n",
        "            for i in range(1,Iteraciones+1): #Ciclo for para obtener todos los registros de cada página\r\n",
        "                url = f\"https://api.pandascore.co/{juego}/{informacion}?page[size]={registros}&page[number]={i}&token=V3U1fnnWozJi3bbhZfrxdiAmN4-XWnX_4g6i_6iauwwh7w-V8Ns\"\r\n",
        "                #URL el parámetro de página deseada\r\n",
        "                response = requests.get(url) #Realizamos la petición correspondiente\r\n",
        "                data = response.json() #Transformamos la respuesta \r\n",
        "                if i == 1: #En la primer iteración se crea un Dataframe\r\n",
        "                    df = pd.DataFrame.from_dict(data)\r\n",
        "                else: #En el resto de iteraciones se van añadiendo los nuevos registros\r\n",
        "                    df = df.append(pd.DataFrame.from_dict(data),ignore_index=True) \r\n",
        "            return df # Finalmente se devuelve el Dataframe con todos los registros\r\n",
        "        else: #Si la petición no se ejecutó correctamente mandamos un mensaje con el error devuelto\r\n",
        "            return 'Error de petición: '+str(response.status_code)  \r\n",
        "    else: #Si los argumentos no son de tipo str regresamos un mensaje\r\n",
        "        return 'Por favor coloque un argumento válido en formato string.'\r\n",
        "  "
      ],
      "execution_count": 27,
      "outputs": []
    },
    {
      "cell_type": "markdown",
      "metadata": {
        "id": "67EMgm9mR-IS"
      },
      "source": [
        "Veamos a la función en acción:"
      ]
    },
    {
      "cell_type": "code",
      "metadata": {
        "colab": {
          "base_uri": "https://localhost:8080/",
          "height": 36
        },
        "id": "wDyM0e5AR8w8",
        "outputId": "35fb11de-1def-4d42-afd6-533045ee772e"
      },
      "source": [
        "PandaScore_get('lol',1)"
      ],
      "execution_count": 31,
      "outputs": [
        {
          "output_type": "execute_result",
          "data": {
            "application/vnd.google.colaboratory.intrinsic+json": {
              "type": "string"
            },
            "text/plain": [
              "'Por favor coloque un argumento válido en formato string.'"
            ]
          },
          "metadata": {
            "tags": []
          },
          "execution_count": 31
        }
      ]
    },
    {
      "cell_type": "code",
      "metadata": {
        "colab": {
          "base_uri": "https://localhost:8080/",
          "height": 36
        },
        "id": "UcdN1ZBYSD3S",
        "outputId": "f00f6008-05a8-4b16-f039-0d92c7ffc41e"
      },
      "source": [
        "PandaScore_get('lol','matchs')"
      ],
      "execution_count": 32,
      "outputs": [
        {
          "output_type": "execute_result",
          "data": {
            "application/vnd.google.colaboratory.intrinsic+json": {
              "type": "string"
            },
            "text/plain": [
              "'Error de petición: 404'"
            ]
          },
          "metadata": {
            "tags": []
          },
          "execution_count": 32
        }
      ]
    },
    {
      "cell_type": "markdown",
      "metadata": {
        "id": "0MprJj84SINZ"
      },
      "source": [
        "Si los argumentos son correctos se nos devolverá el Dataframe correspondiente, el tiempo de ejecución varia dependiendo de la información solicitada, en el caso de los enfrentamientos tenemos 18694 registros, por lo que la función tomará un par de minutos al solo poder realizar 100 peticiones, en general consumiriamos 187 de nuestros 1000 intentos por hora:"
      ]
    },
    {
      "cell_type": "code",
      "metadata": {
        "id": "mZL5CKyCO5Sn"
      },
      "source": [
        "df_matches = PandaScore_get('lol','matches')"
      ],
      "execution_count": null,
      "outputs": []
    },
    {
      "cell_type": "markdown",
      "metadata": {
        "id": "-E_ZDCtzSyk3"
      },
      "source": [
        "Observemos el Dataframe que se nos devuelve:"
      ]
    },
    {
      "cell_type": "code",
      "metadata": {
        "colab": {
          "base_uri": "https://localhost:8080/",
          "height": 1000
        },
        "id": "VM_2DD-qQbIl",
        "outputId": "a64f1382-e0d4-475e-cc0f-21c2ccf749a4"
      },
      "source": [
        "df_matches"
      ],
      "execution_count": 42,
      "outputs": [
        {
          "output_type": "execute_result",
          "data": {
            "text/html": [
              "<div>\n",
              "<style scoped>\n",
              "    .dataframe tbody tr th:only-of-type {\n",
              "        vertical-align: middle;\n",
              "    }\n",
              "\n",
              "    .dataframe tbody tr th {\n",
              "        vertical-align: top;\n",
              "    }\n",
              "\n",
              "    .dataframe thead th {\n",
              "        text-align: right;\n",
              "    }\n",
              "</style>\n",
              "<table border=\"1\" class=\"dataframe\">\n",
              "  <thead>\n",
              "    <tr style=\"text-align: right;\">\n",
              "      <th></th>\n",
              "      <th>forfeit</th>\n",
              "      <th>number_of_games</th>\n",
              "      <th>name</th>\n",
              "      <th>slug</th>\n",
              "      <th>videogame</th>\n",
              "      <th>begin_at</th>\n",
              "      <th>tournament</th>\n",
              "      <th>streams</th>\n",
              "      <th>results</th>\n",
              "      <th>winner_id</th>\n",
              "      <th>modified_at</th>\n",
              "      <th>league</th>\n",
              "      <th>official_stream_url</th>\n",
              "      <th>draw</th>\n",
              "      <th>winner</th>\n",
              "      <th>games</th>\n",
              "      <th>league_id</th>\n",
              "      <th>live_embed_url</th>\n",
              "      <th>videogame_version</th>\n",
              "      <th>status</th>\n",
              "      <th>game_advantage</th>\n",
              "      <th>serie_id</th>\n",
              "      <th>tournament_id</th>\n",
              "      <th>scheduled_at</th>\n",
              "      <th>id</th>\n",
              "      <th>serie</th>\n",
              "      <th>match_type</th>\n",
              "      <th>end_at</th>\n",
              "      <th>original_scheduled_at</th>\n",
              "      <th>detailed_stats</th>\n",
              "      <th>rescheduled</th>\n",
              "      <th>opponents</th>\n",
              "      <th>live</th>\n",
              "    </tr>\n",
              "  </thead>\n",
              "  <tbody>\n",
              "    <tr>\n",
              "      <th>0</th>\n",
              "      <td>False</td>\n",
              "      <td>5</td>\n",
              "      <td>Round 3: TBD vs TBD</td>\n",
              "      <td>2021-03-11-c3b8c131-fac1-4b71-b339-f1d0387914a6</td>\n",
              "      <td>{'id': 1, 'name': 'LoL', 'slug': 'league-of-le...</td>\n",
              "      <td>2021-03-11T17:00:00Z</td>\n",
              "      <td>{'begin_at': '2021-03-09T17:00:00Z', 'end_at':...</td>\n",
              "      <td>{'english': {'embed_url': None, 'raw_url': Non...</td>\n",
              "      <td>[]</td>\n",
              "      <td>NaN</td>\n",
              "      <td>2021-03-07T20:20:32Z</td>\n",
              "      <td>{'id': 4302, 'image_url': 'https://cdn.pandasc...</td>\n",
              "      <td>None</td>\n",
              "      <td>False</td>\n",
              "      <td>None</td>\n",
              "      <td>[{'begin_at': None, 'complete': False, 'detail...</td>\n",
              "      <td>4302</td>\n",
              "      <td>None</td>\n",
              "      <td>None</td>\n",
              "      <td>not_started</td>\n",
              "      <td>None</td>\n",
              "      <td>3254</td>\n",
              "      <td>5649</td>\n",
              "      <td>2021-03-11T17:00:00Z</td>\n",
              "      <td>586007</td>\n",
              "      <td>{'begin_at': '2021-01-19T17:00:00Z', 'descript...</td>\n",
              "      <td>best_of</td>\n",
              "      <td>None</td>\n",
              "      <td>2021-03-11T17:00:00Z</td>\n",
              "      <td>True</td>\n",
              "      <td>False</td>\n",
              "      <td>[]</td>\n",
              "      <td>{'opens_at': None, 'supported': False, 'url': ...</td>\n",
              "    </tr>\n",
              "    <tr>\n",
              "      <th>1</th>\n",
              "      <td>False</td>\n",
              "      <td>3</td>\n",
              "      <td>Round 2 Match 2: MOUZ vs BIG</td>\n",
              "      <td>mousesports-vs-berlin-international-gaming-202...</td>\n",
              "      <td>{'id': 1, 'name': 'LoL', 'slug': 'league-of-le...</td>\n",
              "      <td>2021-03-10T20:00:00Z</td>\n",
              "      <td>{'begin_at': '2021-03-09T17:00:00Z', 'end_at':...</td>\n",
              "      <td>{'english': {'embed_url': None, 'raw_url': Non...</td>\n",
              "      <td>[{'score': 0, 'team_id': 16}, {'score': 0, 'te...</td>\n",
              "      <td>NaN</td>\n",
              "      <td>2021-03-07T20:19:53Z</td>\n",
              "      <td>{'id': 4302, 'image_url': 'https://cdn.pandasc...</td>\n",
              "      <td>None</td>\n",
              "      <td>False</td>\n",
              "      <td>None</td>\n",
              "      <td>[{'begin_at': None, 'complete': False, 'detail...</td>\n",
              "      <td>4302</td>\n",
              "      <td>None</td>\n",
              "      <td>None</td>\n",
              "      <td>not_started</td>\n",
              "      <td>None</td>\n",
              "      <td>3254</td>\n",
              "      <td>5649</td>\n",
              "      <td>2021-03-10T20:00:00Z</td>\n",
              "      <td>586006</td>\n",
              "      <td>{'begin_at': '2021-01-19T17:00:00Z', 'descript...</td>\n",
              "      <td>best_of</td>\n",
              "      <td>None</td>\n",
              "      <td>2021-03-10T20:00:00Z</td>\n",
              "      <td>True</td>\n",
              "      <td>False</td>\n",
              "      <td>[{'opponent': {'acronym': 'MOUZ', 'id': 16, 'i...</td>\n",
              "      <td>{'opens_at': None, 'supported': False, 'url': ...</td>\n",
              "    </tr>\n",
              "    <tr>\n",
              "      <th>2</th>\n",
              "      <td>False</td>\n",
              "      <td>3</td>\n",
              "      <td>Round 2 Match 1: TBD vs TBD</td>\n",
              "      <td>2021-03-10-7412caf0-3f45-40e1-b763-80d005a04162</td>\n",
              "      <td>{'id': 1, 'name': 'LoL', 'slug': 'league-of-le...</td>\n",
              "      <td>2021-03-10T17:00:00Z</td>\n",
              "      <td>{'begin_at': '2021-03-09T17:00:00Z', 'end_at':...</td>\n",
              "      <td>{'english': {'embed_url': None, 'raw_url': Non...</td>\n",
              "      <td>[]</td>\n",
              "      <td>NaN</td>\n",
              "      <td>2021-03-07T20:19:33Z</td>\n",
              "      <td>{'id': 4302, 'image_url': 'https://cdn.pandasc...</td>\n",
              "      <td>None</td>\n",
              "      <td>False</td>\n",
              "      <td>None</td>\n",
              "      <td>[{'begin_at': None, 'complete': False, 'detail...</td>\n",
              "      <td>4302</td>\n",
              "      <td>None</td>\n",
              "      <td>None</td>\n",
              "      <td>not_started</td>\n",
              "      <td>None</td>\n",
              "      <td>3254</td>\n",
              "      <td>5649</td>\n",
              "      <td>2021-03-10T17:00:00Z</td>\n",
              "      <td>586005</td>\n",
              "      <td>{'begin_at': '2021-01-19T17:00:00Z', 'descript...</td>\n",
              "      <td>best_of</td>\n",
              "      <td>None</td>\n",
              "      <td>2021-03-10T17:00:00Z</td>\n",
              "      <td>True</td>\n",
              "      <td>False</td>\n",
              "      <td>[]</td>\n",
              "      <td>{'opens_at': None, 'supported': False, 'url': ...</td>\n",
              "    </tr>\n",
              "    <tr>\n",
              "      <th>3</th>\n",
              "      <td>False</td>\n",
              "      <td>3</td>\n",
              "      <td>Round 1 Match 2: SKP vs S04.E</td>\n",
              "      <td>sk-gaming-prime-vs-fc-schalke-04-evolution-202...</td>\n",
              "      <td>{'id': 1, 'name': 'LoL', 'slug': 'league-of-le...</td>\n",
              "      <td>2021-03-09T20:00:00Z</td>\n",
              "      <td>{'begin_at': '2021-03-09T17:00:00Z', 'end_at':...</td>\n",
              "      <td>{'english': {'embed_url': None, 'raw_url': Non...</td>\n",
              "      <td>[{'score': 0, 'team_id': 247}, {'score': 0, 't...</td>\n",
              "      <td>NaN</td>\n",
              "      <td>2021-03-07T20:18:12Z</td>\n",
              "      <td>{'id': 4302, 'image_url': 'https://cdn.pandasc...</td>\n",
              "      <td>None</td>\n",
              "      <td>False</td>\n",
              "      <td>None</td>\n",
              "      <td>[{'begin_at': None, 'complete': False, 'detail...</td>\n",
              "      <td>4302</td>\n",
              "      <td>None</td>\n",
              "      <td>None</td>\n",
              "      <td>not_started</td>\n",
              "      <td>None</td>\n",
              "      <td>3254</td>\n",
              "      <td>5649</td>\n",
              "      <td>2021-03-09T20:00:00Z</td>\n",
              "      <td>586004</td>\n",
              "      <td>{'begin_at': '2021-01-19T17:00:00Z', 'descript...</td>\n",
              "      <td>best_of</td>\n",
              "      <td>None</td>\n",
              "      <td>2021-03-09T20:00:00Z</td>\n",
              "      <td>True</td>\n",
              "      <td>False</td>\n",
              "      <td>[{'opponent': {'acronym': 'SKP', 'id': 247, 'i...</td>\n",
              "      <td>{'opens_at': None, 'supported': False, 'url': ...</td>\n",
              "    </tr>\n",
              "    <tr>\n",
              "      <th>4</th>\n",
              "      <td>False</td>\n",
              "      <td>3</td>\n",
              "      <td>Round 1 Match 1: GL vs USE</td>\n",
              "      <td>team-gamerlegion-vs-unicorns-of-love-sexy-edit...</td>\n",
              "      <td>{'id': 1, 'name': 'LoL', 'slug': 'league-of-le...</td>\n",
              "      <td>2021-03-09T17:00:00Z</td>\n",
              "      <td>{'begin_at': '2021-03-09T17:00:00Z', 'end_at':...</td>\n",
              "      <td>{'english': {'embed_url': None, 'raw_url': Non...</td>\n",
              "      <td>[{'score': 0, 'team_id': 126830}, {'score': 0,...</td>\n",
              "      <td>NaN</td>\n",
              "      <td>2021-03-07T20:17:44Z</td>\n",
              "      <td>{'id': 4302, 'image_url': 'https://cdn.pandasc...</td>\n",
              "      <td>None</td>\n",
              "      <td>False</td>\n",
              "      <td>None</td>\n",
              "      <td>[{'begin_at': None, 'complete': False, 'detail...</td>\n",
              "      <td>4302</td>\n",
              "      <td>None</td>\n",
              "      <td>None</td>\n",
              "      <td>not_started</td>\n",
              "      <td>None</td>\n",
              "      <td>3254</td>\n",
              "      <td>5649</td>\n",
              "      <td>2021-03-09T17:00:00Z</td>\n",
              "      <td>586003</td>\n",
              "      <td>{'begin_at': '2021-01-19T17:00:00Z', 'descript...</td>\n",
              "      <td>best_of</td>\n",
              "      <td>None</td>\n",
              "      <td>2021-03-09T17:00:00Z</td>\n",
              "      <td>True</td>\n",
              "      <td>False</td>\n",
              "      <td>[{'opponent': {'acronym': 'GL', 'id': 126830, ...</td>\n",
              "      <td>{'opens_at': None, 'supported': False, 'url': ...</td>\n",
              "    </tr>\n",
              "    <tr>\n",
              "      <th>...</th>\n",
              "      <td>...</td>\n",
              "      <td>...</td>\n",
              "      <td>...</td>\n",
              "      <td>...</td>\n",
              "      <td>...</td>\n",
              "      <td>...</td>\n",
              "      <td>...</td>\n",
              "      <td>...</td>\n",
              "      <td>...</td>\n",
              "      <td>...</td>\n",
              "      <td>...</td>\n",
              "      <td>...</td>\n",
              "      <td>...</td>\n",
              "      <td>...</td>\n",
              "      <td>...</td>\n",
              "      <td>...</td>\n",
              "      <td>...</td>\n",
              "      <td>...</td>\n",
              "      <td>...</td>\n",
              "      <td>...</td>\n",
              "      <td>...</td>\n",
              "      <td>...</td>\n",
              "      <td>...</td>\n",
              "      <td>...</td>\n",
              "      <td>...</td>\n",
              "      <td>...</td>\n",
              "      <td>...</td>\n",
              "      <td>...</td>\n",
              "      <td>...</td>\n",
              "      <td>...</td>\n",
              "      <td>...</td>\n",
              "      <td>...</td>\n",
              "      <td>...</td>\n",
              "    </tr>\n",
              "    <tr>\n",
              "      <th>18689</th>\n",
              "      <td>False</td>\n",
              "      <td>1</td>\n",
              "      <td>DIG vs C9</td>\n",
              "      <td>dignitas-vs-cloud9-2015-05-31</td>\n",
              "      <td>{'id': 1, 'name': 'LoL', 'slug': 'league-of-le...</td>\n",
              "      <td>2015-05-31T20:09:51Z</td>\n",
              "      <td>{'begin_at': '2015-05-30T19:00:00Z', 'end_at':...</td>\n",
              "      <td>{'english': {'embed_url': None, 'raw_url': Non...</td>\n",
              "      <td>[{'score': 1, 'team_id': 384}, {'score': 0, 't...</td>\n",
              "      <td>384.0</td>\n",
              "      <td>2018-12-09T12:33:21Z</td>\n",
              "      <td>{'id': 289, 'image_url': 'https://cdn.pandasco...</td>\n",
              "      <td>None</td>\n",
              "      <td>False</td>\n",
              "      <td>{'acronym': 'DIG', 'id': 384, 'image_url': 'ht...</td>\n",
              "      <td>[{'begin_at': '2015-05-31T20:09:51Z', 'complet...</td>\n",
              "      <td>289</td>\n",
              "      <td>None</td>\n",
              "      <td>{'current': False, 'name': '5.8.1'}</td>\n",
              "      <td>finished</td>\n",
              "      <td>None</td>\n",
              "      <td>31</td>\n",
              "      <td>1</td>\n",
              "      <td>2015-05-31T20:00:00Z</td>\n",
              "      <td>7</td>\n",
              "      <td>{'begin_at': '2015-04-26T00:00:00Z', 'descript...</td>\n",
              "      <td>best_of</td>\n",
              "      <td>2015-05-31T20:43:55Z</td>\n",
              "      <td>None</td>\n",
              "      <td>True</td>\n",
              "      <td>False</td>\n",
              "      <td>[{'opponent': {'acronym': 'DIG', 'id': 384, 'i...</td>\n",
              "      <td>{'opens_at': None, 'supported': False, 'url': ...</td>\n",
              "    </tr>\n",
              "    <tr>\n",
              "      <th>18690</th>\n",
              "      <td>False</td>\n",
              "      <td>1</td>\n",
              "      <td>T8 vs TL</td>\n",
              "      <td>team-8-vs-team-liquid-2015-05-31</td>\n",
              "      <td>{'id': 1, 'name': 'LoL', 'slug': 'league-of-le...</td>\n",
              "      <td>2015-05-31T18:22:58Z</td>\n",
              "      <td>{'begin_at': '2015-05-30T19:00:00Z', 'end_at':...</td>\n",
              "      <td>{'english': {'embed_url': None, 'raw_url': Non...</td>\n",
              "      <td>[{'score': 0, 'team_id': 6}, {'score': 1, 'tea...</td>\n",
              "      <td>390.0</td>\n",
              "      <td>2018-12-09T12:33:19Z</td>\n",
              "      <td>{'id': 289, 'image_url': 'https://cdn.pandasco...</td>\n",
              "      <td>None</td>\n",
              "      <td>False</td>\n",
              "      <td>{'acronym': 'TL', 'id': 390, 'image_url': 'htt...</td>\n",
              "      <td>[{'begin_at': '2015-05-31T18:22:58Z', 'complet...</td>\n",
              "      <td>289</td>\n",
              "      <td>None</td>\n",
              "      <td>{'current': False, 'name': '5.8.1'}</td>\n",
              "      <td>finished</td>\n",
              "      <td>None</td>\n",
              "      <td>31</td>\n",
              "      <td>1</td>\n",
              "      <td>2015-05-31T18:00:00Z</td>\n",
              "      <td>6</td>\n",
              "      <td>{'begin_at': '2015-04-26T00:00:00Z', 'descript...</td>\n",
              "      <td>best_of</td>\n",
              "      <td>2015-05-31T19:04:18Z</td>\n",
              "      <td>None</td>\n",
              "      <td>True</td>\n",
              "      <td>False</td>\n",
              "      <td>[{'opponent': {'acronym': 'T8', 'id': 6, 'imag...</td>\n",
              "      <td>{'opens_at': None, 'supported': False, 'url': ...</td>\n",
              "    </tr>\n",
              "    <tr>\n",
              "      <th>18691</th>\n",
              "      <td>False</td>\n",
              "      <td>1</td>\n",
              "      <td>GV vs NME</td>\n",
              "      <td>gravity-vs-enemy-2015-05-31</td>\n",
              "      <td>{'id': 1, 'name': 'LoL', 'slug': 'league-of-le...</td>\n",
              "      <td>2015-05-30T23:23:25Z</td>\n",
              "      <td>{'begin_at': '2015-05-30T19:00:00Z', 'end_at':...</td>\n",
              "      <td>{'english': {'embed_url': None, 'raw_url': Non...</td>\n",
              "      <td>[{'score': 0, 'team_id': 9}, {'score': 1, 'tea...</td>\n",
              "      <td>10.0</td>\n",
              "      <td>2018-12-09T12:33:16Z</td>\n",
              "      <td>{'id': 289, 'image_url': 'https://cdn.pandasco...</td>\n",
              "      <td>None</td>\n",
              "      <td>False</td>\n",
              "      <td>{'acronym': 'NME', 'id': 10, 'image_url': 'htt...</td>\n",
              "      <td>[{'begin_at': '2015-05-30T23:23:25Z', 'complet...</td>\n",
              "      <td>289</td>\n",
              "      <td>None</td>\n",
              "      <td>{'current': False, 'name': '5.8.1'}</td>\n",
              "      <td>finished</td>\n",
              "      <td>None</td>\n",
              "      <td>31</td>\n",
              "      <td>1</td>\n",
              "      <td>2015-05-30T23:00:00Z</td>\n",
              "      <td>5</td>\n",
              "      <td>{'begin_at': '2015-04-26T00:00:00Z', 'descript...</td>\n",
              "      <td>best_of</td>\n",
              "      <td>2015-05-31T00:06:10Z</td>\n",
              "      <td>None</td>\n",
              "      <td>True</td>\n",
              "      <td>False</td>\n",
              "      <td>[{'opponent': {'acronym': 'GV', 'id': 9, 'imag...</td>\n",
              "      <td>{'opens_at': None, 'supported': False, 'url': ...</td>\n",
              "    </tr>\n",
              "    <tr>\n",
              "      <th>18692</th>\n",
              "      <td>False</td>\n",
              "      <td>1</td>\n",
              "      <td>T8 vs TIP</td>\n",
              "      <td>team-8-vs-impulse-2015-05-31</td>\n",
              "      <td>{'id': 1, 'name': 'LoL', 'slug': 'league-of-le...</td>\n",
              "      <td>2015-05-30T22:23:32Z</td>\n",
              "      <td>{'begin_at': '2015-05-30T19:00:00Z', 'end_at':...</td>\n",
              "      <td>{'english': {'embed_url': None, 'raw_url': Non...</td>\n",
              "      <td>[{'score': 0, 'team_id': 6}, {'score': 1, 'tea...</td>\n",
              "      <td>385.0</td>\n",
              "      <td>2018-12-09T12:33:14Z</td>\n",
              "      <td>{'id': 289, 'image_url': 'https://cdn.pandasco...</td>\n",
              "      <td>None</td>\n",
              "      <td>False</td>\n",
              "      <td>{'acronym': 'TIP', 'id': 385, 'image_url': 'ht...</td>\n",
              "      <td>[{'begin_at': '2015-05-30T22:23:32Z', 'complet...</td>\n",
              "      <td>289</td>\n",
              "      <td>None</td>\n",
              "      <td>{'current': False, 'name': '5.8.1'}</td>\n",
              "      <td>finished</td>\n",
              "      <td>None</td>\n",
              "      <td>31</td>\n",
              "      <td>1</td>\n",
              "      <td>2015-05-30T22:00:00Z</td>\n",
              "      <td>4</td>\n",
              "      <td>{'begin_at': '2015-04-26T00:00:00Z', 'descript...</td>\n",
              "      <td>best_of</td>\n",
              "      <td>2015-05-30T22:56:32Z</td>\n",
              "      <td>None</td>\n",
              "      <td>True</td>\n",
              "      <td>False</td>\n",
              "      <td>[{'opponent': {'acronym': 'T8', 'id': 6, 'imag...</td>\n",
              "      <td>{'opens_at': None, 'supported': False, 'url': ...</td>\n",
              "    </tr>\n",
              "    <tr>\n",
              "      <th>18693</th>\n",
              "      <td>False</td>\n",
              "      <td>1</td>\n",
              "      <td>TL vs TDK</td>\n",
              "      <td>team-liquid-vs-dragon-knights-2015-05-30</td>\n",
              "      <td>{'id': 1, 'name': 'LoL', 'slug': 'league-of-le...</td>\n",
              "      <td>2015-05-30T20:11:29Z</td>\n",
              "      <td>{'begin_at': '2015-05-30T19:00:00Z', 'end_at':...</td>\n",
              "      <td>{'english': {'embed_url': None, 'raw_url': Non...</td>\n",
              "      <td>[{'score': 1, 'team_id': 390}, {'score': 0, 't...</td>\n",
              "      <td>390.0</td>\n",
              "      <td>2018-12-09T12:33:10Z</td>\n",
              "      <td>{'id': 289, 'image_url': 'https://cdn.pandasco...</td>\n",
              "      <td>None</td>\n",
              "      <td>False</td>\n",
              "      <td>{'acronym': 'TL', 'id': 390, 'image_url': 'htt...</td>\n",
              "      <td>[{'begin_at': '2015-05-30T20:11:29Z', 'complet...</td>\n",
              "      <td>289</td>\n",
              "      <td>None</td>\n",
              "      <td>{'current': False, 'name': '5.9.1'}</td>\n",
              "      <td>finished</td>\n",
              "      <td>None</td>\n",
              "      <td>31</td>\n",
              "      <td>1</td>\n",
              "      <td>2015-05-30T20:00:00Z</td>\n",
              "      <td>2</td>\n",
              "      <td>{'begin_at': '2015-04-26T00:00:00Z', 'descript...</td>\n",
              "      <td>best_of</td>\n",
              "      <td>2015-05-30T20:55:10Z</td>\n",
              "      <td>None</td>\n",
              "      <td>True</td>\n",
              "      <td>False</td>\n",
              "      <td>[{'opponent': {'acronym': 'TL', 'id': 390, 'im...</td>\n",
              "      <td>{'opens_at': None, 'supported': False, 'url': ...</td>\n",
              "    </tr>\n",
              "  </tbody>\n",
              "</table>\n",
              "<p>18694 rows × 33 columns</p>\n",
              "</div>"
            ],
            "text/plain": [
              "       forfeit  ...                                               live\n",
              "0        False  ...  {'opens_at': None, 'supported': False, 'url': ...\n",
              "1        False  ...  {'opens_at': None, 'supported': False, 'url': ...\n",
              "2        False  ...  {'opens_at': None, 'supported': False, 'url': ...\n",
              "3        False  ...  {'opens_at': None, 'supported': False, 'url': ...\n",
              "4        False  ...  {'opens_at': None, 'supported': False, 'url': ...\n",
              "...        ...  ...                                                ...\n",
              "18689    False  ...  {'opens_at': None, 'supported': False, 'url': ...\n",
              "18690    False  ...  {'opens_at': None, 'supported': False, 'url': ...\n",
              "18691    False  ...  {'opens_at': None, 'supported': False, 'url': ...\n",
              "18692    False  ...  {'opens_at': None, 'supported': False, 'url': ...\n",
              "18693    False  ...  {'opens_at': None, 'supported': False, 'url': ...\n",
              "\n",
              "[18694 rows x 33 columns]"
            ]
          },
          "metadata": {
            "tags": []
          },
          "execution_count": 42
        }
      ]
    },
    {
      "cell_type": "markdown",
      "metadata": {
        "id": "WG9OMsXoS8Si"
      },
      "source": [
        "Veamos las columnas y tipos de datos:"
      ]
    },
    {
      "cell_type": "code",
      "metadata": {
        "colab": {
          "base_uri": "https://localhost:8080/"
        },
        "id": "zeb_pSaDS-I4",
        "outputId": "6cb0cf5b-c809-4dd6-89a1-510f2b9ca723"
      },
      "source": [
        "df_matches.info()"
      ],
      "execution_count": 34,
      "outputs": [
        {
          "output_type": "stream",
          "text": [
            "<class 'pandas.core.frame.DataFrame'>\n",
            "RangeIndex: 18694 entries, 0 to 18693\n",
            "Data columns (total 33 columns):\n",
            " #   Column                 Non-Null Count  Dtype  \n",
            "---  ------                 --------------  -----  \n",
            " 0   forfeit                18694 non-null  bool   \n",
            " 1   number_of_games        18694 non-null  int64  \n",
            " 2   name                   18694 non-null  object \n",
            " 3   slug                   18694 non-null  object \n",
            " 4   videogame              18694 non-null  object \n",
            " 5   begin_at               18662 non-null  object \n",
            " 6   tournament             18694 non-null  object \n",
            " 7   streams                18694 non-null  object \n",
            " 8   results                18694 non-null  object \n",
            " 9   winner_id              17758 non-null  float64\n",
            " 10  modified_at            18694 non-null  object \n",
            " 11  league                 18694 non-null  object \n",
            " 12  official_stream_url    10896 non-null  object \n",
            " 13  draw                   18694 non-null  bool   \n",
            " 14  winner                 17758 non-null  object \n",
            " 15  games                  18694 non-null  object \n",
            " 16  league_id              18694 non-null  int64  \n",
            " 17  live_embed_url         9340 non-null   object \n",
            " 18  videogame_version      17813 non-null  object \n",
            " 19  status                 18694 non-null  object \n",
            " 20  game_advantage         11 non-null     object \n",
            " 21  serie_id               18694 non-null  int64  \n",
            " 22  tournament_id          18694 non-null  int64  \n",
            " 23  scheduled_at           18694 non-null  object \n",
            " 24  id                     18694 non-null  int64  \n",
            " 25  serie                  18694 non-null  object \n",
            " 26  match_type             18694 non-null  object \n",
            " 27  end_at                 18123 non-null  object \n",
            " 28  original_scheduled_at  15786 non-null  object \n",
            " 29  detailed_stats         18694 non-null  bool   \n",
            " 30  rescheduled            18694 non-null  bool   \n",
            " 31  opponents              18694 non-null  object \n",
            " 32  live                   18694 non-null  object \n",
            "dtypes: bool(4), float64(1), int64(5), object(23)\n",
            "memory usage: 4.2+ MB\n"
          ],
          "name": "stdout"
        }
      ]
    },
    {
      "cell_type": "markdown",
      "metadata": {
        "id": "zBNXjqIxUL6f"
      },
      "source": [
        "Como podemos ver tenemos 33 columnas, un número considerable, observemos que contienen algunas y si nos son de utilidad. Empecemos por los campos que contienen listas:"
      ]
    },
    {
      "cell_type": "code",
      "metadata": {
        "colab": {
          "base_uri": "https://localhost:8080/"
        },
        "id": "KMiYFDV0UHZ-",
        "outputId": "6d8fdafc-25b6-4e61-cd2f-3f73d9c36113"
      },
      "source": [
        "df_matches['videogame'][0] "
      ],
      "execution_count": 44,
      "outputs": [
        {
          "output_type": "execute_result",
          "data": {
            "text/plain": [
              "{'id': 1, 'name': 'LoL', 'slug': 'league-of-legends'}"
            ]
          },
          "metadata": {
            "tags": []
          },
          "execution_count": 44
        }
      ]
    },
    {
      "cell_type": "markdown",
      "metadata": {
        "id": "P1ONUJEAUgNc"
      },
      "source": [
        "El campo _videogame_ puede que haya sido de utilidad para la API al momento de regresarnos una respuesta, sin embargo, es  redundante para nosotros."
      ]
    },
    {
      "cell_type": "code",
      "metadata": {
        "colab": {
          "base_uri": "https://localhost:8080/"
        },
        "id": "yMPIcBiQgjJ1",
        "outputId": "2e7b1a68-a5d6-4602-c099-665e3ed90639"
      },
      "source": [
        "df_matches['slug']"
      ],
      "execution_count": 145,
      "outputs": [
        {
          "output_type": "execute_result",
          "data": {
            "text/plain": [
              "0          2021-03-11-c3b8c131-fac1-4b71-b339-f1d0387914a6\n",
              "1        mousesports-vs-berlin-international-gaming-202...\n",
              "2          2021-03-10-7412caf0-3f45-40e1-b763-80d005a04162\n",
              "3        sk-gaming-prime-vs-fc-schalke-04-evolution-202...\n",
              "4        team-gamerlegion-vs-unicorns-of-love-sexy-edit...\n",
              "                               ...                        \n",
              "18689                        dignitas-vs-cloud9-2015-05-31\n",
              "18690                     team-8-vs-team-liquid-2015-05-31\n",
              "18691                          gravity-vs-enemy-2015-05-31\n",
              "18692                         team-8-vs-impulse-2015-05-31\n",
              "18693             team-liquid-vs-dragon-knights-2015-05-30\n",
              "Name: slug, Length: 18694, dtype: object"
            ]
          },
          "metadata": {
            "tags": []
          },
          "execution_count": 145
        }
      ]
    },
    {
      "cell_type": "markdown",
      "metadata": {
        "id": "Co61R26VgqEg"
      },
      "source": [
        "Una combinación del campo nombre y la fecha programada. Además de que en algunos casos tenemos valores raros, consideramos que podemos retirar esta columna."
      ]
    },
    {
      "cell_type": "code",
      "metadata": {
        "colab": {
          "base_uri": "https://localhost:8080/"
        },
        "id": "L1Q0BNSXVZiC",
        "outputId": "c1e6a516-53e2-4b0d-bdd8-380c54cbb861"
      },
      "source": [
        "df_matches['streams'][0]"
      ],
      "execution_count": 48,
      "outputs": [
        {
          "output_type": "execute_result",
          "data": {
            "text/plain": [
              "{'english': {'embed_url': None, 'raw_url': None},\n",
              " 'official': {'embed_url': None, 'raw_url': None},\n",
              " 'russian': {'embed_url': None, 'raw_url': None}}"
            ]
          },
          "metadata": {
            "tags": []
          },
          "execution_count": 48
        }
      ]
    },
    {
      "cell_type": "code",
      "metadata": {
        "colab": {
          "base_uri": "https://localhost:8080/"
        },
        "id": "8fsygqkFUrBP",
        "outputId": "2ceaa977-f93c-4f13-a368-eebe7566c161"
      },
      "source": [
        "df_matches['streams'][300]"
      ],
      "execution_count": 47,
      "outputs": [
        {
          "output_type": "execute_result",
          "data": {
            "text/plain": [
              "{'english': {'embed_url': None, 'raw_url': None},\n",
              " 'official': {'embed_url': 'https://player.twitch.tv/?channel=riotgamesru',\n",
              "  'raw_url': 'https://www.twitch.tv/riotgamesru'},\n",
              " 'russian': {'embed_url': 'https://player.twitch.tv/?channel=riotgamesru',\n",
              "  'raw_url': 'https://www.twitch.tv/riotgamesru'}}"
            ]
          },
          "metadata": {
            "tags": []
          },
          "execution_count": 47
        }
      ]
    },
    {
      "cell_type": "code",
      "metadata": {
        "colab": {
          "base_uri": "https://localhost:8080/",
          "height": 36
        },
        "id": "MuVOCYl5Vetd",
        "outputId": "b2059a92-46b1-480f-ae8b-3c1661756969"
      },
      "source": [
        "df_matches.loc[300,'official_stream_url']"
      ],
      "execution_count": 57,
      "outputs": [
        {
          "output_type": "execute_result",
          "data": {
            "application/vnd.google.colaboratory.intrinsic+json": {
              "type": "string"
            },
            "text/plain": [
              "'https://www.twitch.tv/riotgamesru'"
            ]
          },
          "metadata": {
            "tags": []
          },
          "execution_count": 57
        }
      ]
    },
    {
      "cell_type": "code",
      "metadata": {
        "colab": {
          "base_uri": "https://localhost:8080/",
          "height": 36
        },
        "id": "xg8lgv_6pD7_",
        "outputId": "4642d080-fb50-4536-ef5b-1221173e5fd0"
      },
      "source": [
        "df_matches['live_embed_url'][300]"
      ],
      "execution_count": 162,
      "outputs": [
        {
          "output_type": "execute_result",
          "data": {
            "application/vnd.google.colaboratory.intrinsic+json": {
              "type": "string"
            },
            "text/plain": [
              "'https://player.twitch.tv/?channel=riotgamesru'"
            ]
          },
          "metadata": {
            "tags": []
          },
          "execution_count": 162
        }
      ]
    },
    {
      "cell_type": "code",
      "metadata": {
        "colab": {
          "base_uri": "https://localhost:8080/",
          "height": 36
        },
        "id": "U_PZi4W9piFb",
        "outputId": "29cc68e3-a74e-4b9f-a2e7-6fe7d980cebe"
      },
      "source": [
        "df_matches['official_stream_url'][300]"
      ],
      "execution_count": 163,
      "outputs": [
        {
          "output_type": "execute_result",
          "data": {
            "application/vnd.google.colaboratory.intrinsic+json": {
              "type": "string"
            },
            "text/plain": [
              "'https://www.twitch.tv/riotgamesru'"
            ]
          },
          "metadata": {
            "tags": []
          },
          "execution_count": 163
        }
      ]
    },
    {
      "cell_type": "markdown",
      "metadata": {
        "id": "sZt96cYIVdsR"
      },
      "source": [
        "El campo _streams_ nos regresa las direcciones URL de las transmisiones en vivo en diferentes idiomas, mientras que el campo _live embed url_ nos da el enlace en el que se transmitió en vivo y _official stream url_ nos regresa únicamente la URL del canal oficial que realizo el streaming. Creemos es mejor conservar este último campo con la dirección oficial a un campo con una lista  más difícil de manejar y otro con URLs que ya no son accesibles."
      ]
    },
    {
      "cell_type": "code",
      "metadata": {
        "colab": {
          "base_uri": "https://localhost:8080/"
        },
        "id": "XYgUkJV1WfAT",
        "outputId": "1edbac42-aa59-4ab1-de9d-45dd5d610f07"
      },
      "source": [
        "df_matches['tournament'][0]"
      ],
      "execution_count": 60,
      "outputs": [
        {
          "output_type": "execute_result",
          "data": {
            "text/plain": [
              "{'begin_at': '2021-03-09T17:00:00Z',\n",
              " 'end_at': None,\n",
              " 'id': 5649,\n",
              " 'league_id': 4302,\n",
              " 'live_supported': False,\n",
              " 'modified_at': '2021-03-08T14:50:51Z',\n",
              " 'name': 'Playoffs',\n",
              " 'prizepool': None,\n",
              " 'serie_id': 3254,\n",
              " 'slug': 'league-of-legends-prime-league-pro-division-spring-2021-playoffs',\n",
              " 'winner_id': None,\n",
              " 'winner_type': 'Team'}"
            ]
          },
          "metadata": {
            "tags": []
          },
          "execution_count": 60
        }
      ]
    },
    {
      "cell_type": "markdown",
      "metadata": {
        "id": "6opyqffxW_B1"
      },
      "source": [
        "El campo _tournament_ nos devuelve el torneo correspondiente. Sin embargo, contamos con el _tournament id_, y podemos realizar peticiones de torneos si lo deseamos, por lo que de ser necesario podriamos realizar un **join** y observar a que torneo corresponde cada enfrentamiento. "
      ]
    },
    {
      "cell_type": "code",
      "metadata": {
        "colab": {
          "base_uri": "https://localhost:8080/"
        },
        "id": "XOSwO8eZXtjv",
        "outputId": "c12507be-a857-4cd2-8ff1-38b79b18c03d"
      },
      "source": [
        "df_matches['modified_at'].head() "
      ],
      "execution_count": 65,
      "outputs": [
        {
          "output_type": "execute_result",
          "data": {
            "text/plain": [
              "0    2021-03-07T20:20:32Z\n",
              "1    2021-03-07T20:19:53Z\n",
              "2    2021-03-07T20:19:33Z\n",
              "3    2021-03-07T20:18:12Z\n",
              "4    2021-03-07T20:17:44Z\n",
              "Name: modified_at, dtype: object"
            ]
          },
          "metadata": {
            "tags": []
          },
          "execution_count": 65
        }
      ]
    },
    {
      "cell_type": "markdown",
      "metadata": {
        "id": "G8P1tSsQX_A0"
      },
      "source": [
        "La última fecha de modificación respecto a la API no nos resulta útil del todo a nosotros."
      ]
    },
    {
      "cell_type": "code",
      "metadata": {
        "colab": {
          "base_uri": "https://localhost:8080/"
        },
        "id": "3IQ59pfoYM83",
        "outputId": "f259b360-5878-4f16-be4a-c5f7cd0e3a10"
      },
      "source": [
        "df_matches['league'][0]"
      ],
      "execution_count": 66,
      "outputs": [
        {
          "output_type": "execute_result",
          "data": {
            "text/plain": [
              "{'id': 4302,\n",
              " 'image_url': 'https://cdn.pandascore.co/images/league/image/4302/220px-Prime_Leaguelogo_square.png',\n",
              " 'modified_at': '2020-01-20T16:20:40Z',\n",
              " 'name': 'Prime League Pro Division',\n",
              " 'slug': 'league-of-legends-prime-league-pro-division',\n",
              " 'url': 'https://www.primeleague.gg/de/start'}"
            ]
          },
          "metadata": {
            "tags": []
          },
          "execution_count": 66
        }
      ]
    },
    {
      "cell_type": "code",
      "metadata": {
        "colab": {
          "base_uri": "https://localhost:8080/"
        },
        "id": "RqqwqSlAaj9A",
        "outputId": "8dca5c0c-d27a-4e92-b47c-c26e7e143078"
      },
      "source": [
        "df_matches['serie'][0]"
      ],
      "execution_count": 98,
      "outputs": [
        {
          "output_type": "execute_result",
          "data": {
            "text/plain": [
              "{'begin_at': '2021-01-19T17:00:00Z',\n",
              " 'description': None,\n",
              " 'end_at': None,\n",
              " 'full_name': 'Spring 2021',\n",
              " 'id': 3254,\n",
              " 'league_id': 4302,\n",
              " 'modified_at': '2021-01-12T08:59:18Z',\n",
              " 'name': '',\n",
              " 'season': 'Spring',\n",
              " 'slug': 'league-of-legends-prime-league-pro-division-spring-2021',\n",
              " 'tier': 'c',\n",
              " 'winner_id': None,\n",
              " 'winner_type': None,\n",
              " 'year': 2021}"
            ]
          },
          "metadata": {
            "tags": []
          },
          "execution_count": 98
        }
      ]
    },
    {
      "cell_type": "markdown",
      "metadata": {
        "id": "GByRm3r8YXVC"
      },
      "source": [
        "Mismo caso que con los torneos, si conservamos el _league id_ y _serie id_ no deberiamos tener problemas."
      ]
    },
    {
      "cell_type": "code",
      "metadata": {
        "colab": {
          "base_uri": "https://localhost:8080/"
        },
        "id": "bEUhIqisx82O",
        "outputId": "b25c0dbc-fcbc-4d08-fdca-7db8f9c0b710"
      },
      "source": [
        "df_matches['id']"
      ],
      "execution_count": 188,
      "outputs": [
        {
          "output_type": "execute_result",
          "data": {
            "text/plain": [
              "0        586007\n",
              "1        586006\n",
              "2        586005\n",
              "3        586004\n",
              "4        586003\n",
              "          ...  \n",
              "18689         7\n",
              "18690         6\n",
              "18691         5\n",
              "18692         4\n",
              "18693         2\n",
              "Name: id, Length: 18694, dtype: int64"
            ]
          },
          "metadata": {
            "tags": []
          },
          "execution_count": 188
        }
      ]
    },
    {
      "cell_type": "markdown",
      "metadata": {
        "id": "V_K4fJ6HyAf3"
      },
      "source": [
        "Id asignado por la API a cada enfrentamiento, con el observamos que los enfrentamientos en los primeros registros son los más recientes y los últmos son los más antiguos. Para evitar confusiones y por el tratamiento que le daremos a los datos será mejor usar nuestra propia indexación. "
      ]
    },
    {
      "cell_type": "code",
      "metadata": {
        "colab": {
          "base_uri": "https://localhost:8080/"
        },
        "id": "YVR6Fc-dYQKS",
        "outputId": "a75aec69-2dfb-46fe-cbee-034c3605dbf6"
      },
      "source": [
        "df_matches['games'][300]"
      ],
      "execution_count": 70,
      "outputs": [
        {
          "output_type": "execute_result",
          "data": {
            "text/plain": [
              "[{'begin_at': None,\n",
              "  'complete': False,\n",
              "  'detailed_stats': True,\n",
              "  'end_at': None,\n",
              "  'finished': False,\n",
              "  'forfeit': False,\n",
              "  'id': 222685,\n",
              "  'length': None,\n",
              "  'match_id': 583283,\n",
              "  'position': 1,\n",
              "  'status': 'not_started',\n",
              "  'video_url': None,\n",
              "  'winner': {'id': None, 'type': None},\n",
              "  'winner_type': None}]"
            ]
          },
          "metadata": {
            "tags": []
          },
          "execution_count": 70
        }
      ]
    },
    {
      "cell_type": "markdown",
      "metadata": {
        "id": "Gd-9-RBkYmyz"
      },
      "source": [
        "El campo _games_ debería entregar información de cada partida en el enfrentamiento, pero en general esos datos podemos encontrarlos en otros campos que ya tenemos."
      ]
    },
    {
      "cell_type": "code",
      "metadata": {
        "colab": {
          "base_uri": "https://localhost:8080/"
        },
        "id": "hKFwfXtdaL5f",
        "outputId": "68b8cd26-8c1a-44e7-ce5c-6479621ef0c5"
      },
      "source": [
        "df_matches['game_advantage'].unique()"
      ],
      "execution_count": 96,
      "outputs": [
        {
          "output_type": "execute_result",
          "data": {
            "text/plain": [
              "array([None, nan, 2862.0, 318.0, 126059.0, 329.0, 74.0, 1566.0, 249.0,\n",
              "       205.0, 411.0, 65.0, 267.0], dtype=object)"
            ]
          },
          "metadata": {
            "tags": []
          },
          "execution_count": 96
        }
      ]
    },
    {
      "cell_type": "markdown",
      "metadata": {
        "id": "lcgnbdyDhICU"
      },
      "source": [
        "El campo game_advantage es poco claro, en la documentación no se específica el significado de estos valores."
      ]
    },
    {
      "cell_type": "code",
      "metadata": {
        "colab": {
          "base_uri": "https://localhost:8080/"
        },
        "id": "YhAyHIsma09F",
        "outputId": "48bd3e90-7680-436b-b516-5e1d5c37a7c1"
      },
      "source": [
        "df_matches['original_scheduled_at']"
      ],
      "execution_count": 99,
      "outputs": [
        {
          "output_type": "execute_result",
          "data": {
            "text/plain": [
              "0        2021-03-11T17:00:00Z\n",
              "1        2021-03-10T20:00:00Z\n",
              "2        2021-03-10T17:00:00Z\n",
              "3        2021-03-09T20:00:00Z\n",
              "4        2021-03-09T17:00:00Z\n",
              "                 ...         \n",
              "18689                    None\n",
              "18690                    None\n",
              "18691                    None\n",
              "18692                    None\n",
              "18693                    None\n",
              "Name: original_scheduled_at, Length: 18694, dtype: object"
            ]
          },
          "metadata": {
            "tags": []
          },
          "execution_count": 99
        }
      ]
    },
    {
      "cell_type": "code",
      "metadata": {
        "colab": {
          "base_uri": "https://localhost:8080/"
        },
        "id": "awLYQE_xae7a",
        "outputId": "5e741583-12e7-4f3e-def7-5028c18848e2"
      },
      "source": [
        "df_matches['scheduled_at']"
      ],
      "execution_count": 97,
      "outputs": [
        {
          "output_type": "execute_result",
          "data": {
            "text/plain": [
              "0        2021-03-11T17:00:00Z\n",
              "1        2021-03-10T20:00:00Z\n",
              "2        2021-03-10T17:00:00Z\n",
              "3        2021-03-09T20:00:00Z\n",
              "4        2021-03-09T17:00:00Z\n",
              "                 ...         \n",
              "18689    2015-05-31T20:00:00Z\n",
              "18690    2015-05-31T18:00:00Z\n",
              "18691    2015-05-30T23:00:00Z\n",
              "18692    2015-05-30T22:00:00Z\n",
              "18693    2015-05-30T20:00:00Z\n",
              "Name: scheduled_at, Length: 18694, dtype: object"
            ]
          },
          "metadata": {
            "tags": []
          },
          "execution_count": 97
        }
      ]
    },
    {
      "cell_type": "markdown",
      "metadata": {
        "id": "0qAAmwpNa9Ep"
      },
      "source": [
        "Estos campos pueden indicar modificaciones en las fechas de los enfrentamientos, pero el campo _rescheduled_ nos brinda la misma información de forma más concisa."
      ]
    },
    {
      "cell_type": "code",
      "metadata": {
        "colab": {
          "base_uri": "https://localhost:8080/"
        },
        "id": "PvhV8ap9ahYD",
        "outputId": "1b7b3577-1990-4f38-d5e7-e63e3814783b"
      },
      "source": [
        "df_matches['match_type'].unique()"
      ],
      "execution_count": 100,
      "outputs": [
        {
          "output_type": "execute_result",
          "data": {
            "text/plain": [
              "array(['best_of'], dtype=object)"
            ]
          },
          "metadata": {
            "tags": []
          },
          "execution_count": 100
        }
      ]
    },
    {
      "cell_type": "markdown",
      "metadata": {
        "id": "tkzncbkobM7L"
      },
      "source": [
        "En general todos los enfrentamientos son del tipo \"_el mejor de_\", así que este campo también es redundante."
      ]
    },
    {
      "cell_type": "code",
      "metadata": {
        "colab": {
          "base_uri": "https://localhost:8080/"
        },
        "id": "59dQ_7N6dMcX",
        "outputId": "b7950194-1561-4845-d2b6-25af4ffa41f6"
      },
      "source": [
        "df_matches['detailed_stats']"
      ],
      "execution_count": 117,
      "outputs": [
        {
          "output_type": "execute_result",
          "data": {
            "text/plain": [
              "0        True\n",
              "1        True\n",
              "2        True\n",
              "3        True\n",
              "4        True\n",
              "         ... \n",
              "18689    True\n",
              "18690    True\n",
              "18691    True\n",
              "18692    True\n",
              "18693    True\n",
              "Name: detailed_stats, Length: 18694, dtype: bool"
            ]
          },
          "metadata": {
            "tags": []
          },
          "execution_count": 117
        }
      ]
    },
    {
      "cell_type": "markdown",
      "metadata": {
        "id": "GgU8VghSdTHN"
      },
      "source": [
        "Un campo que indica si el campo _games_ contiene detalles, pero ya que no vamos a utilizar _games_ podemos omitirlo."
      ]
    },
    {
      "cell_type": "code",
      "metadata": {
        "colab": {
          "base_uri": "https://localhost:8080/"
        },
        "id": "67skMD8cfgPv",
        "outputId": "9f66ece5-7fe1-4744-b5a2-0ce0ae6524be"
      },
      "source": [
        "df_matches['videogame_version']"
      ],
      "execution_count": 138,
      "outputs": [
        {
          "output_type": "execute_result",
          "data": {
            "text/plain": [
              "0                                       None\n",
              "1                                       None\n",
              "2                                       None\n",
              "3                                       None\n",
              "4                                       None\n",
              "                        ...                 \n",
              "18689    {'current': False, 'name': '5.8.1'}\n",
              "18690    {'current': False, 'name': '5.8.1'}\n",
              "18691    {'current': False, 'name': '5.8.1'}\n",
              "18692    {'current': False, 'name': '5.8.1'}\n",
              "18693    {'current': False, 'name': '5.9.1'}\n",
              "Name: videogame_version, Length: 18694, dtype: object"
            ]
          },
          "metadata": {
            "tags": []
          },
          "execution_count": 138
        }
      ]
    },
    {
      "cell_type": "markdown",
      "metadata": {
        "id": "9JtntRvCfkxs"
      },
      "source": [
        "Un campo que podría ser de interés si analizamos las composiciones de _personajes_ de cada equipo respecto a la versión del juego, lamentablemente no contamos con esa información."
      ]
    },
    {
      "cell_type": "code",
      "metadata": {
        "colab": {
          "base_uri": "https://localhost:8080/"
        },
        "id": "xnLtu3q5bplN",
        "outputId": "008f9895-43a0-4386-9cdd-46a38b91932a"
      },
      "source": [
        "df_matches['live'][0]"
      ],
      "execution_count": 111,
      "outputs": [
        {
          "output_type": "execute_result",
          "data": {
            "text/plain": [
              "{'opens_at': None, 'supported': False, 'url': None}"
            ]
          },
          "metadata": {
            "tags": []
          },
          "execution_count": 111
        }
      ]
    },
    {
      "cell_type": "markdown",
      "metadata": {
        "id": "gTAw6Lzeb9JT"
      },
      "source": [
        "Finalmente el campo _live_ nos brinda la url del stream si el enfrentamiento está en vivo en ese momento, en general si buscaramos un soporte en vivo sería un campo genial, pero como deseamos trabajar con resultados de enfrentamientos que ya han terminado podemos trabajar sin este campo.\r\n",
        "\r\n",
        "Ahora eliminamos los campos que deseamos retirar:"
      ]
    },
    {
      "cell_type": "code",
      "metadata": {
        "colab": {
          "base_uri": "https://localhost:8080/"
        },
        "id": "E_Iac5sGcd5U",
        "outputId": "c5055be3-6c3d-4f86-a8ac-03fd3354d6b2"
      },
      "source": [
        "campos_no_deseados = ['videogame', 'slug', 'tournament', 'league', 'serie', 'streams', 'modified_at', 'games',\r\n",
        "                      'game_advantage', 'scheduled_at', 'original_scheduled_at', 'detailed_stats','live',\r\n",
        "                      'match_type', 'videogame_version', 'live_embed_url', 'id']\r\n",
        "\r\n",
        "df_matches_temp = df_matches.drop(columns=campos_no_deseados)\r\n",
        "df_matches_temp.info()"
      ],
      "execution_count": 189,
      "outputs": [
        {
          "output_type": "stream",
          "text": [
            "<class 'pandas.core.frame.DataFrame'>\n",
            "RangeIndex: 18694 entries, 0 to 18693\n",
            "Data columns (total 16 columns):\n",
            " #   Column               Non-Null Count  Dtype  \n",
            "---  ------               --------------  -----  \n",
            " 0   forfeit              18694 non-null  bool   \n",
            " 1   number_of_games      18694 non-null  int64  \n",
            " 2   name                 18694 non-null  object \n",
            " 3   begin_at             18662 non-null  object \n",
            " 4   results              18694 non-null  object \n",
            " 5   winner_id            17758 non-null  float64\n",
            " 6   official_stream_url  10896 non-null  object \n",
            " 7   draw                 18694 non-null  bool   \n",
            " 8   winner               17758 non-null  object \n",
            " 9   league_id            18694 non-null  int64  \n",
            " 10  status               18694 non-null  object \n",
            " 11  serie_id             18694 non-null  int64  \n",
            " 12  tournament_id        18694 non-null  int64  \n",
            " 13  end_at               18123 non-null  object \n",
            " 14  rescheduled          18694 non-null  bool   \n",
            " 15  opponents            18694 non-null  object \n",
            "dtypes: bool(3), float64(1), int64(4), object(8)\n",
            "memory usage: 1.9+ MB\n"
          ],
          "name": "stdout"
        }
      ]
    },
    {
      "cell_type": "code",
      "metadata": {
        "colab": {
          "base_uri": "https://localhost:8080/",
          "height": 695
        },
        "id": "rOGZzR3Vok-C",
        "outputId": "05b0f6fe-807c-450a-85b6-041842b961e7"
      },
      "source": [
        "df_matches_temp.head()"
      ],
      "execution_count": 190,
      "outputs": [
        {
          "output_type": "execute_result",
          "data": {
            "text/html": [
              "<div>\n",
              "<style scoped>\n",
              "    .dataframe tbody tr th:only-of-type {\n",
              "        vertical-align: middle;\n",
              "    }\n",
              "\n",
              "    .dataframe tbody tr th {\n",
              "        vertical-align: top;\n",
              "    }\n",
              "\n",
              "    .dataframe thead th {\n",
              "        text-align: right;\n",
              "    }\n",
              "</style>\n",
              "<table border=\"1\" class=\"dataframe\">\n",
              "  <thead>\n",
              "    <tr style=\"text-align: right;\">\n",
              "      <th></th>\n",
              "      <th>forfeit</th>\n",
              "      <th>number_of_games</th>\n",
              "      <th>name</th>\n",
              "      <th>begin_at</th>\n",
              "      <th>results</th>\n",
              "      <th>winner_id</th>\n",
              "      <th>official_stream_url</th>\n",
              "      <th>draw</th>\n",
              "      <th>winner</th>\n",
              "      <th>league_id</th>\n",
              "      <th>status</th>\n",
              "      <th>serie_id</th>\n",
              "      <th>tournament_id</th>\n",
              "      <th>end_at</th>\n",
              "      <th>rescheduled</th>\n",
              "      <th>opponents</th>\n",
              "    </tr>\n",
              "  </thead>\n",
              "  <tbody>\n",
              "    <tr>\n",
              "      <th>0</th>\n",
              "      <td>False</td>\n",
              "      <td>5</td>\n",
              "      <td>Round 3: TBD vs TBD</td>\n",
              "      <td>2021-03-11T17:00:00Z</td>\n",
              "      <td>[]</td>\n",
              "      <td>NaN</td>\n",
              "      <td>None</td>\n",
              "      <td>False</td>\n",
              "      <td>None</td>\n",
              "      <td>4302</td>\n",
              "      <td>not_started</td>\n",
              "      <td>3254</td>\n",
              "      <td>5649</td>\n",
              "      <td>None</td>\n",
              "      <td>False</td>\n",
              "      <td>[]</td>\n",
              "    </tr>\n",
              "    <tr>\n",
              "      <th>1</th>\n",
              "      <td>False</td>\n",
              "      <td>3</td>\n",
              "      <td>Round 2 Match 2: MOUZ vs BIG</td>\n",
              "      <td>2021-03-10T20:00:00Z</td>\n",
              "      <td>[{'score': 0, 'team_id': 16}, {'score': 0, 'te...</td>\n",
              "      <td>NaN</td>\n",
              "      <td>None</td>\n",
              "      <td>False</td>\n",
              "      <td>None</td>\n",
              "      <td>4302</td>\n",
              "      <td>not_started</td>\n",
              "      <td>3254</td>\n",
              "      <td>5649</td>\n",
              "      <td>None</td>\n",
              "      <td>False</td>\n",
              "      <td>[{'opponent': {'acronym': 'MOUZ', 'id': 16, 'i...</td>\n",
              "    </tr>\n",
              "    <tr>\n",
              "      <th>2</th>\n",
              "      <td>False</td>\n",
              "      <td>3</td>\n",
              "      <td>Round 2 Match 1: TBD vs TBD</td>\n",
              "      <td>2021-03-10T17:00:00Z</td>\n",
              "      <td>[]</td>\n",
              "      <td>NaN</td>\n",
              "      <td>None</td>\n",
              "      <td>False</td>\n",
              "      <td>None</td>\n",
              "      <td>4302</td>\n",
              "      <td>not_started</td>\n",
              "      <td>3254</td>\n",
              "      <td>5649</td>\n",
              "      <td>None</td>\n",
              "      <td>False</td>\n",
              "      <td>[]</td>\n",
              "    </tr>\n",
              "    <tr>\n",
              "      <th>3</th>\n",
              "      <td>False</td>\n",
              "      <td>3</td>\n",
              "      <td>Round 1 Match 2: SKP vs S04.E</td>\n",
              "      <td>2021-03-09T20:00:00Z</td>\n",
              "      <td>[{'score': 0, 'team_id': 247}, {'score': 0, 't...</td>\n",
              "      <td>NaN</td>\n",
              "      <td>None</td>\n",
              "      <td>False</td>\n",
              "      <td>None</td>\n",
              "      <td>4302</td>\n",
              "      <td>not_started</td>\n",
              "      <td>3254</td>\n",
              "      <td>5649</td>\n",
              "      <td>None</td>\n",
              "      <td>False</td>\n",
              "      <td>[{'opponent': {'acronym': 'SKP', 'id': 247, 'i...</td>\n",
              "    </tr>\n",
              "    <tr>\n",
              "      <th>4</th>\n",
              "      <td>False</td>\n",
              "      <td>3</td>\n",
              "      <td>Round 1 Match 1: GL vs USE</td>\n",
              "      <td>2021-03-09T17:00:00Z</td>\n",
              "      <td>[{'score': 0, 'team_id': 126830}, {'score': 0,...</td>\n",
              "      <td>NaN</td>\n",
              "      <td>None</td>\n",
              "      <td>False</td>\n",
              "      <td>None</td>\n",
              "      <td>4302</td>\n",
              "      <td>not_started</td>\n",
              "      <td>3254</td>\n",
              "      <td>5649</td>\n",
              "      <td>None</td>\n",
              "      <td>False</td>\n",
              "      <td>[{'opponent': {'acronym': 'GL', 'id': 126830, ...</td>\n",
              "    </tr>\n",
              "  </tbody>\n",
              "</table>\n",
              "</div>"
            ],
            "text/plain": [
              "   forfeit  ...                                          opponents\n",
              "0    False  ...                                                 []\n",
              "1    False  ...  [{'opponent': {'acronym': 'MOUZ', 'id': 16, 'i...\n",
              "2    False  ...                                                 []\n",
              "3    False  ...  [{'opponent': {'acronym': 'SKP', 'id': 247, 'i...\n",
              "4    False  ...  [{'opponent': {'acronym': 'GL', 'id': 126830, ...\n",
              "\n",
              "[5 rows x 16 columns]"
            ]
          },
          "metadata": {
            "tags": []
          },
          "execution_count": 190
        }
      ]
    },
    {
      "cell_type": "markdown",
      "metadata": {
        "id": "zSxZzJJqiA1O"
      },
      "source": [
        "¡Genial¡, pudimos reducir el número de campos de 33 a 16, ahora veamos de que forma podemos tratar con los valores _None_. Si inspeccionamos por columna:\r\n",
        "\r\n"
      ]
    },
    {
      "cell_type": "code",
      "metadata": {
        "colab": {
          "base_uri": "https://localhost:8080/"
        },
        "id": "CZpxI1-0l30_",
        "outputId": "ab263394-9b65-4bcb-e340-8183f7714fc0"
      },
      "source": [
        "df_matches_temp.isna().sum(axis=0)"
      ],
      "execution_count": 191,
      "outputs": [
        {
          "output_type": "execute_result",
          "data": {
            "text/plain": [
              "forfeit                   0\n",
              "number_of_games           0\n",
              "name                      0\n",
              "begin_at                 32\n",
              "results                   0\n",
              "winner_id               936\n",
              "official_stream_url    7798\n",
              "draw                      0\n",
              "winner                  936\n",
              "league_id                 0\n",
              "status                    0\n",
              "serie_id                  0\n",
              "tournament_id             0\n",
              "end_at                  571\n",
              "rescheduled               0\n",
              "opponents                 0\n",
              "dtype: int64"
            ]
          },
          "metadata": {
            "tags": []
          },
          "execution_count": 191
        }
      ]
    },
    {
      "cell_type": "markdown",
      "metadata": {
        "id": "6Wes_OR_o9nV"
      },
      "source": [
        "Observamos que la mayor cantidad de valores nulos se da en _official stream url_ esto no es del todo un problema ya que no necesariamente todos los partidos se transmitieron en directo. Entonces nos encontramos con valores nulos en las fechas de inicio y terminó, seguramente por partidos que todavía no se han llevado a cabo, se están llevando a cabo en estos momentos o se cancelaron, por ende también el valor del campo _winner_ tiene un valor también nulo.\r\n",
        "\r\n",
        "Aprovechemos el campo status para limpiar nuestro dataframe:\r\n",
        "\r\n"
      ]
    },
    {
      "cell_type": "code",
      "metadata": {
        "colab": {
          "base_uri": "https://localhost:8080/"
        },
        "id": "f8DgA3PzqyBk",
        "outputId": "99c5c0cf-8099-43cd-858c-e1b76adafcba"
      },
      "source": [
        "df_matches_temp['status'].unique()"
      ],
      "execution_count": 192,
      "outputs": [
        {
          "output_type": "execute_result",
          "data": {
            "text/plain": [
              "array(['not_started', 'finished', 'running', 'canceled'], dtype=object)"
            ]
          },
          "metadata": {
            "tags": []
          },
          "execution_count": 192
        }
      ]
    },
    {
      "cell_type": "markdown",
      "metadata": {
        "id": "zGUrmKORq3i5"
      },
      "source": [
        "Obtengamos solo aquellos registros donde el estado del enfrentamiento sea \"_finished_\":"
      ]
    },
    {
      "cell_type": "code",
      "metadata": {
        "colab": {
          "base_uri": "https://localhost:8080/"
        },
        "id": "rYh_PHsCq2nQ",
        "outputId": "c157c526-34fd-4509-b832-e3858963c7cc"
      },
      "source": [
        "df_matches_finished = df_matches_temp[ df_matches_temp['status'] == 'finished' ]\r\n",
        "df_matches_finished.isna().sum(axis=0)"
      ],
      "execution_count": 193,
      "outputs": [
        {
          "output_type": "execute_result",
          "data": {
            "text/plain": [
              "forfeit                   0\n",
              "number_of_games           0\n",
              "name                      0\n",
              "begin_at                  1\n",
              "results                   0\n",
              "winner_id               398\n",
              "official_stream_url    7772\n",
              "draw                      0\n",
              "winner                  398\n",
              "league_id                 0\n",
              "status                    0\n",
              "serie_id                  0\n",
              "tournament_id             0\n",
              "end_at                   19\n",
              "rescheduled               0\n",
              "opponents                 0\n",
              "dtype: int64"
            ]
          },
          "metadata": {
            "tags": []
          },
          "execution_count": 193
        }
      ]
    },
    {
      "cell_type": "markdown",
      "metadata": {
        "id": "HA-F6dhvtaHJ"
      },
      "source": [
        "Aún conservamos un par de valores _None_ en nuestras fechas, esto puede ser a causa de errores en la recopilación de los datos. Deshagámonos de ellos:"
      ]
    },
    {
      "cell_type": "code",
      "metadata": {
        "colab": {
          "base_uri": "https://localhost:8080/"
        },
        "id": "Ef21Focdtt8K",
        "outputId": "bba2dbe3-1a12-4ece-9f5d-2d95ef78d5ff"
      },
      "source": [
        "df_matches_finished_clean = df_matches_finished.dropna(subset=['begin_at', 'end_at'])\r\n",
        "df_matches_finished_clean.isna().sum(axis=0)"
      ],
      "execution_count": 194,
      "outputs": [
        {
          "output_type": "execute_result",
          "data": {
            "text/plain": [
              "forfeit                   0\n",
              "number_of_games           0\n",
              "name                      0\n",
              "begin_at                  0\n",
              "results                   0\n",
              "winner_id               398\n",
              "official_stream_url    7755\n",
              "draw                      0\n",
              "winner                  398\n",
              "league_id                 0\n",
              "status                    0\n",
              "serie_id                  0\n",
              "tournament_id             0\n",
              "end_at                    0\n",
              "rescheduled               0\n",
              "opponents                 0\n",
              "dtype: int64"
            ]
          },
          "metadata": {
            "tags": []
          },
          "execution_count": 194
        }
      ]
    },
    {
      "cell_type": "markdown",
      "metadata": {
        "id": "fE3cWzTKuZzV"
      },
      "source": [
        "!Enhorabuena¡ tenemos un dataframe solo con las partidas que han sido finalizadas y además tienen una fecha de fin e inicio establecidas. ¿Pero qué pasa con esos 398 valores _None_ en el campo _winner id_ y _winner_? ¿Y los 7735 de _official stream url_? Pues tienen una explicación muy sencilla en realidad. Estos datos quieren decir que 398 enfrentamiento han terminado en empate y 7735 enfrentamientos no se transmitieron en línea.\r\n",
        "\r\n",
        "Para dejar nuestro dataframe un poco más presentable vamos a ordenar los campos de formas más amigable:"
      ]
    },
    {
      "cell_type": "code",
      "metadata": {
        "id": "8a8qwmzavch8"
      },
      "source": [
        "#No incluiremos al campo status por que ya ha cumplido su propósito\r\n",
        "df_matches_ordenado = df_matches_finished_clean[['name','opponents','results','forfeit','draw',\r\n",
        "                                                      'number_of_games','winner','winner_id','begin_at','end_at',\r\n",
        "                                                      'rescheduled','official_stream_url','league_id', 'serie_id', 'tournament_id']]"
      ],
      "execution_count": 204,
      "outputs": []
    },
    {
      "cell_type": "markdown",
      "metadata": {
        "id": "hj4zCrJdyysa"
      },
      "source": [
        "Observemos al nuevo Dataframe:"
      ]
    },
    {
      "cell_type": "code",
      "metadata": {
        "colab": {
          "base_uri": "https://localhost:8080/",
          "height": 660
        },
        "id": "k2yVtmrSy1ub",
        "outputId": "e4e5311d-5437-40cb-86a5-fb93d63e55c6"
      },
      "source": [
        "df_matches_ordenado.head()"
      ],
      "execution_count": 202,
      "outputs": [
        {
          "output_type": "execute_result",
          "data": {
            "text/html": [
              "<div>\n",
              "<style scoped>\n",
              "    .dataframe tbody tr th:only-of-type {\n",
              "        vertical-align: middle;\n",
              "    }\n",
              "\n",
              "    .dataframe tbody tr th {\n",
              "        vertical-align: top;\n",
              "    }\n",
              "\n",
              "    .dataframe thead th {\n",
              "        text-align: right;\n",
              "    }\n",
              "</style>\n",
              "<table border=\"1\" class=\"dataframe\">\n",
              "  <thead>\n",
              "    <tr style=\"text-align: right;\">\n",
              "      <th></th>\n",
              "      <th>name</th>\n",
              "      <th>opponents</th>\n",
              "      <th>results</th>\n",
              "      <th>forfeit</th>\n",
              "      <th>draw</th>\n",
              "      <th>number_of_games</th>\n",
              "      <th>winner</th>\n",
              "      <th>winner_id</th>\n",
              "      <th>begin_at</th>\n",
              "      <th>end_at</th>\n",
              "      <th>rescheduled</th>\n",
              "      <th>official_stream_url</th>\n",
              "      <th>league_id</th>\n",
              "      <th>serie_id</th>\n",
              "      <th>tournament_id</th>\n",
              "    </tr>\n",
              "  </thead>\n",
              "  <tbody>\n",
              "    <tr>\n",
              "      <th>15</th>\n",
              "      <td>ALF vs BJD</td>\n",
              "      <td>[{'opponent': {'acronym': 'ALF', 'id': 124408,...</td>\n",
              "      <td>[{'score': 0, 'team_id': 124408}, {'score': 1,...</td>\n",
              "      <td>False</td>\n",
              "      <td>False</td>\n",
              "      <td>1</td>\n",
              "      <td>{'acronym': 'BJD', 'id': 126861, 'image_url': ...</td>\n",
              "      <td>126861.0</td>\n",
              "      <td>2021-03-06T09:54:42Z</td>\n",
              "      <td>2021-03-06T10:28:54Z</td>\n",
              "      <td>False</td>\n",
              "      <td>https://www.twitch.tv/lolpacific</td>\n",
              "      <td>4288</td>\n",
              "      <td>3337</td>\n",
              "      <td>5483</td>\n",
              "    </tr>\n",
              "    <tr>\n",
              "      <th>37</th>\n",
              "      <td>Winners bracket round 1 match 2: ESB vs SIN</td>\n",
              "      <td>[{'opponent': {'acronym': 'ESB', 'id': 3344, '...</td>\n",
              "      <td>[{'score': 2, 'team_id': 3344}, {'score': 3, '...</td>\n",
              "      <td>False</td>\n",
              "      <td>False</td>\n",
              "      <td>5</td>\n",
              "      <td>{'acronym': 'SIN', 'id': 127586, 'image_url': ...</td>\n",
              "      <td>127586.0</td>\n",
              "      <td>2021-03-07T17:53:43Z</td>\n",
              "      <td>2021-03-07T22:22:51Z</td>\n",
              "      <td>False</td>\n",
              "      <td>https://www.twitch.tv/hitpointcz</td>\n",
              "      <td>4433</td>\n",
              "      <td>3314</td>\n",
              "      <td>5602</td>\n",
              "    </tr>\n",
              "    <tr>\n",
              "      <th>38</th>\n",
              "      <td>Winners bracket round 1 match 1: IG vs VIK</td>\n",
              "      <td>[{'opponent': {'acronym': 'IG', 'id': 127585, ...</td>\n",
              "      <td>[{'score': 3, 'team_id': 127585}, {'score': 1,...</td>\n",
              "      <td>False</td>\n",
              "      <td>False</td>\n",
              "      <td>5</td>\n",
              "      <td>{'acronym': 'IG', 'id': 127585, 'image_url': '...</td>\n",
              "      <td>127585.0</td>\n",
              "      <td>2021-03-07T13:30:41Z</td>\n",
              "      <td>2021-03-07T17:08:57Z</td>\n",
              "      <td>False</td>\n",
              "      <td>https://www.twitch.tv/hitpointcz</td>\n",
              "      <td>4433</td>\n",
              "      <td>3314</td>\n",
              "      <td>5602</td>\n",
              "    </tr>\n",
              "    <tr>\n",
              "      <th>39</th>\n",
              "      <td>Losers bracket round 1 match 1: DTG vs ECT</td>\n",
              "      <td>[{'opponent': {'acronym': 'DTG', 'id': 128442,...</td>\n",
              "      <td>[{'score': 3, 'team_id': 128442}, {'score': 1,...</td>\n",
              "      <td>False</td>\n",
              "      <td>False</td>\n",
              "      <td>5</td>\n",
              "      <td>{'acronym': 'DTG', 'id': 128442, 'image_url': ...</td>\n",
              "      <td>128442.0</td>\n",
              "      <td>2021-03-04T17:29:15Z</td>\n",
              "      <td>2021-03-04T21:22:00Z</td>\n",
              "      <td>False</td>\n",
              "      <td>https://www.twitch.tv/hitpointcz</td>\n",
              "      <td>4433</td>\n",
              "      <td>3314</td>\n",
              "      <td>5602</td>\n",
              "    </tr>\n",
              "    <tr>\n",
              "      <th>40</th>\n",
              "      <td>Tiebreaker: ESB vs SIN</td>\n",
              "      <td>[{'opponent': {'acronym': 'ESB', 'id': 3344, '...</td>\n",
              "      <td>[{'score': 1, 'team_id': 3344}, {'score': 0, '...</td>\n",
              "      <td>False</td>\n",
              "      <td>False</td>\n",
              "      <td>1</td>\n",
              "      <td>{'acronym': 'ESB', 'id': 3344, 'image_url': 'h...</td>\n",
              "      <td>3344.0</td>\n",
              "      <td>2021-02-28T23:08:04Z</td>\n",
              "      <td>2021-02-28T23:57:11Z</td>\n",
              "      <td>False</td>\n",
              "      <td>https://www.twitch.tv/hitpointcz</td>\n",
              "      <td>4433</td>\n",
              "      <td>3314</td>\n",
              "      <td>5436</td>\n",
              "    </tr>\n",
              "  </tbody>\n",
              "</table>\n",
              "</div>"
            ],
            "text/plain": [
              "                                           name  ... tournament_id\n",
              "15                                   ALF vs BJD  ...          5483\n",
              "37  Winners bracket round 1 match 2: ESB vs SIN  ...          5602\n",
              "38   Winners bracket round 1 match 1: IG vs VIK  ...          5602\n",
              "39   Losers bracket round 1 match 1: DTG vs ECT  ...          5602\n",
              "40                       Tiebreaker: ESB vs SIN  ...          5436\n",
              "\n",
              "[5 rows x 15 columns]"
            ]
          },
          "metadata": {
            "tags": []
          },
          "execution_count": 202
        }
      ]
    },
    {
      "cell_type": "markdown",
      "metadata": {
        "id": "BjFainhGy-vt"
      },
      "source": [
        "Reiniciemos el índice y cambiemos algunos nombre de los campos para obtener un Dataframe más limpio:"
      ]
    },
    {
      "cell_type": "code",
      "metadata": {
        "colab": {
          "base_uri": "https://localhost:8080/",
          "height": 660
        },
        "id": "MPF7DH2DzH91",
        "outputId": "08579f2c-a048-49b5-f1bd-3b19d403ef71"
      },
      "source": [
        "df_matches_ordenado = df_matches_ordenado.reset_index(drop=True) \r\n",
        "nombres_nuevos = {\r\n",
        "    'name' : 'match_name',\r\n",
        "    'begin_at' : 'begin_date',\r\n",
        "    'end_at' : 'end_date',\r\n",
        "    'official_stream_url' : 'official_stream_channel_url'\r\n",
        "}\r\n",
        "\r\n",
        "df_matches_ordenado.rename(columns=nombres_nuevos, inplace=True)\r\n",
        "df_matches_ordenado.head()"
      ],
      "execution_count": 218,
      "outputs": [
        {
          "output_type": "execute_result",
          "data": {
            "text/html": [
              "<div>\n",
              "<style scoped>\n",
              "    .dataframe tbody tr th:only-of-type {\n",
              "        vertical-align: middle;\n",
              "    }\n",
              "\n",
              "    .dataframe tbody tr th {\n",
              "        vertical-align: top;\n",
              "    }\n",
              "\n",
              "    .dataframe thead th {\n",
              "        text-align: right;\n",
              "    }\n",
              "</style>\n",
              "<table border=\"1\" class=\"dataframe\">\n",
              "  <thead>\n",
              "    <tr style=\"text-align: right;\">\n",
              "      <th></th>\n",
              "      <th>match_name</th>\n",
              "      <th>opponents</th>\n",
              "      <th>results</th>\n",
              "      <th>forfeit</th>\n",
              "      <th>draw</th>\n",
              "      <th>number_of_games</th>\n",
              "      <th>winner</th>\n",
              "      <th>winner_id</th>\n",
              "      <th>begin_date</th>\n",
              "      <th>end_date</th>\n",
              "      <th>rescheduled</th>\n",
              "      <th>official_stream_channel_url</th>\n",
              "      <th>league_id</th>\n",
              "      <th>serie_id</th>\n",
              "      <th>tournament_id</th>\n",
              "    </tr>\n",
              "  </thead>\n",
              "  <tbody>\n",
              "    <tr>\n",
              "      <th>0</th>\n",
              "      <td>ALF vs BJD</td>\n",
              "      <td>[{'opponent': {'acronym': 'ALF', 'id': 124408,...</td>\n",
              "      <td>[{'score': 0, 'team_id': 124408}, {'score': 1,...</td>\n",
              "      <td>False</td>\n",
              "      <td>False</td>\n",
              "      <td>1</td>\n",
              "      <td>{'acronym': 'BJD', 'id': 126861, 'image_url': ...</td>\n",
              "      <td>126861.0</td>\n",
              "      <td>2021-03-06T09:54:42Z</td>\n",
              "      <td>2021-03-06T10:28:54Z</td>\n",
              "      <td>False</td>\n",
              "      <td>https://www.twitch.tv/lolpacific</td>\n",
              "      <td>4288</td>\n",
              "      <td>3337</td>\n",
              "      <td>5483</td>\n",
              "    </tr>\n",
              "    <tr>\n",
              "      <th>1</th>\n",
              "      <td>Winners bracket round 1 match 2: ESB vs SIN</td>\n",
              "      <td>[{'opponent': {'acronym': 'ESB', 'id': 3344, '...</td>\n",
              "      <td>[{'score': 2, 'team_id': 3344}, {'score': 3, '...</td>\n",
              "      <td>False</td>\n",
              "      <td>False</td>\n",
              "      <td>5</td>\n",
              "      <td>{'acronym': 'SIN', 'id': 127586, 'image_url': ...</td>\n",
              "      <td>127586.0</td>\n",
              "      <td>2021-03-07T17:53:43Z</td>\n",
              "      <td>2021-03-07T22:22:51Z</td>\n",
              "      <td>False</td>\n",
              "      <td>https://www.twitch.tv/hitpointcz</td>\n",
              "      <td>4433</td>\n",
              "      <td>3314</td>\n",
              "      <td>5602</td>\n",
              "    </tr>\n",
              "    <tr>\n",
              "      <th>2</th>\n",
              "      <td>Winners bracket round 1 match 1: IG vs VIK</td>\n",
              "      <td>[{'opponent': {'acronym': 'IG', 'id': 127585, ...</td>\n",
              "      <td>[{'score': 3, 'team_id': 127585}, {'score': 1,...</td>\n",
              "      <td>False</td>\n",
              "      <td>False</td>\n",
              "      <td>5</td>\n",
              "      <td>{'acronym': 'IG', 'id': 127585, 'image_url': '...</td>\n",
              "      <td>127585.0</td>\n",
              "      <td>2021-03-07T13:30:41Z</td>\n",
              "      <td>2021-03-07T17:08:57Z</td>\n",
              "      <td>False</td>\n",
              "      <td>https://www.twitch.tv/hitpointcz</td>\n",
              "      <td>4433</td>\n",
              "      <td>3314</td>\n",
              "      <td>5602</td>\n",
              "    </tr>\n",
              "    <tr>\n",
              "      <th>3</th>\n",
              "      <td>Losers bracket round 1 match 1: DTG vs ECT</td>\n",
              "      <td>[{'opponent': {'acronym': 'DTG', 'id': 128442,...</td>\n",
              "      <td>[{'score': 3, 'team_id': 128442}, {'score': 1,...</td>\n",
              "      <td>False</td>\n",
              "      <td>False</td>\n",
              "      <td>5</td>\n",
              "      <td>{'acronym': 'DTG', 'id': 128442, 'image_url': ...</td>\n",
              "      <td>128442.0</td>\n",
              "      <td>2021-03-04T17:29:15Z</td>\n",
              "      <td>2021-03-04T21:22:00Z</td>\n",
              "      <td>False</td>\n",
              "      <td>https://www.twitch.tv/hitpointcz</td>\n",
              "      <td>4433</td>\n",
              "      <td>3314</td>\n",
              "      <td>5602</td>\n",
              "    </tr>\n",
              "    <tr>\n",
              "      <th>4</th>\n",
              "      <td>Tiebreaker: ESB vs SIN</td>\n",
              "      <td>[{'opponent': {'acronym': 'ESB', 'id': 3344, '...</td>\n",
              "      <td>[{'score': 1, 'team_id': 3344}, {'score': 0, '...</td>\n",
              "      <td>False</td>\n",
              "      <td>False</td>\n",
              "      <td>1</td>\n",
              "      <td>{'acronym': 'ESB', 'id': 3344, 'image_url': 'h...</td>\n",
              "      <td>3344.0</td>\n",
              "      <td>2021-02-28T23:08:04Z</td>\n",
              "      <td>2021-02-28T23:57:11Z</td>\n",
              "      <td>False</td>\n",
              "      <td>https://www.twitch.tv/hitpointcz</td>\n",
              "      <td>4433</td>\n",
              "      <td>3314</td>\n",
              "      <td>5436</td>\n",
              "    </tr>\n",
              "  </tbody>\n",
              "</table>\n",
              "</div>"
            ],
            "text/plain": [
              "                                    match_name  ... tournament_id\n",
              "0                                   ALF vs BJD  ...          5483\n",
              "1  Winners bracket round 1 match 2: ESB vs SIN  ...          5602\n",
              "2   Winners bracket round 1 match 1: IG vs VIK  ...          5602\n",
              "3   Losers bracket round 1 match 1: DTG vs ECT  ...          5602\n",
              "4                       Tiebreaker: ESB vs SIN  ...          5436\n",
              "\n",
              "[5 rows x 15 columns]"
            ]
          },
          "metadata": {
            "tags": []
          },
          "execution_count": 218
        }
      ]
    },
    {
      "cell_type": "markdown",
      "metadata": {
        "id": "aqRLyHCN1hUs"
      },
      "source": [
        "!Bien¡ Tenemos un Dataframe más limpio y ordenado, con ayuda de algunos métodos de agregación, podemos aprovechar los valores _none_ que hemos dejado, por ejemplo, para conocer la proporción de enfrentamientos transmitidos: "
      ]
    },
    {
      "cell_type": "code",
      "metadata": {
        "colab": {
          "base_uri": "https://localhost:8080/"
        },
        "id": "U__nI8xX3H8-",
        "outputId": "8f68b126-3c07-43aa-f24c-d28013a43bae"
      },
      "source": [
        "sin_stream = df_matches_ordenado['official_stream_channel_url'].isna().sum()\r\n",
        "total = len(df_matches_ordenado['official_stream_channel_url'])\r\n",
        "\r\n",
        "proporción = (sin_stream/total)*100\r\n",
        "proporción "
      ],
      "execution_count": 223,
      "outputs": [
        {
          "output_type": "execute_result",
          "data": {
            "text/plain": [
              "42.83583738400353"
            ]
          },
          "metadata": {
            "tags": []
          },
          "execution_count": 223
        }
      ]
    },
    {
      "cell_type": "markdown",
      "metadata": {
        "id": "b-xzXVV125dE"
      },
      "source": [
        "Ahora sabemos que aproximadamente el 42.83% de los enfrentamientos de lol son transmitidos en línea. Finalmente guardemos nuestro Dataframe en un archivo csv:"
      ]
    },
    {
      "cell_type": "code",
      "metadata": {
        "id": "bdFRMBHV1qxD"
      },
      "source": [
        "df_matches_ordenado.to_csv('lol_matches.csv')"
      ],
      "execution_count": 220,
      "outputs": []
    }
  ]
}