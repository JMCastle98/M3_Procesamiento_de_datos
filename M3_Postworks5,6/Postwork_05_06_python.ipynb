{
  "nbformat": 4,
  "nbformat_minor": 0,
  "metadata": {
    "colab": {
      "name": "Postwork_05/06_python.ipynb",
      "provenance": [],
      "collapsed_sections": [],
      "authorship_tag": "ABX9TyOJ0lcl8BlDuHaL66HUVJBK",
      "include_colab_link": true
    },
    "kernelspec": {
      "name": "python3",
      "display_name": "Python 3"
    }
  },
  "cells": [
    {
      "cell_type": "markdown",
      "metadata": {
        "id": "view-in-github",
        "colab_type": "text"
      },
      "source": [
        "<a href=\"https://colab.research.google.com/github/LKXoro/BEDU-Rstudio-postworks/blob/main/M3_Postworks5%2C6/Postwork_05_06_python.ipynb\" target=\"_parent\"><img src=\"https://colab.research.google.com/assets/colab-badge.svg\" alt=\"Open In Colab\"/></a>"
      ]
    },
    {
      "cell_type": "markdown",
      "metadata": {
        "id": "ldgFHMnD7x-I"
      },
      "source": [
        "# Postworks 05 y 06: Limpieza de datos y agregaciones / Automatización y APIs\r\n",
        "\r\n",
        "En esencia el Postwork 05 busca que limpiemos nuestro Dataset de valores nulos y probemos obtener información mediante agreaciones. Mientras que el Postwork 06 invita a automatizar el proceso de peticiones a una API. En esta entrega cambiaremos un poco el orden, primero realizaremos la automatización de la petición para obtener todos los datos y después los limpiaremos.\r\n",
        "\r\n",
        "<p align=\"center\">\r\n",
        "<img src=\"https://empresas.blogthinkbig.com/wp-content/uploads/2019/03/janitor.png\" height =\"200\" width = \"200\" alt=lego>\r\n",
        "</p>\r\n",
        "\r\n",
        "En postworks anteriores mencionamos que una petición a nuestra API de confianza, PandaScore, puede regresar como máximo 100 registros por petición y que las peticiones responden a parámetros de la URL. Creemos que la mejor forma de automatizar este proceso es con una función que nos devuelva la información que queremos, del juego que queremos de la API:\r\n"
      ]
    },
    {
      "cell_type": "code",
      "metadata": {
        "id": "jQ5tXU3y7rtm"
      },
      "source": [
        "import requests #Importamos los paquete necesarios\r\n",
        "import pandas as pd \r\n",
        "import math as mt\r\n",
        " \r\n",
        "def PandaScore_get(juego,informacion): #Definimos nuestra función\r\n",
        "    if isinstance(juego, str) and isinstance(informacion, str): #Nos aseguramos que los argumentos sean de tipo str\r\n",
        "        registros = 100 #Establecemos el número de registros por página\r\n",
        "        token = 'V3U1fnnWozJi3bbhZfrxdiAmN4-XWnX_4g6i_6iauwwh7w-V8Ns' #Token de acceso\r\n",
        "        url = f\"https://api.pandascore.co/{juego}/{informacion}?page[size]={registros}&token={token}\" #URL con los parámetros deseados\r\n",
        "        response = requests.get(url) #Realizamos la petición\r\n",
        "        if response.status_code == 200: #Si todo salió bien continuamos\r\n",
        "            Iteraciones = mt.ceil(float(response.headers['X-Total'])/registros) #Calculamos el número de páginas en base a todos los registros que hay en la API\r\n",
        "            #Al dividir el número total de registros entre los registros solicitados obtenemos un aproximado, para asegurar que tomaremos todos, redondeamos al entero más alto\r\n",
        "            for i in range(1,Iteraciones+1): #Ciclo for para obtener todos los registros de cada página\r\n",
        "                url = f\"https://api.pandascore.co/{juego}/{informacion}?page[size]={registros}&page[number]={i}&token=V3U1fnnWozJi3bbhZfrxdiAmN4-XWnX_4g6i_6iauwwh7w-V8Ns\"\r\n",
        "                #URL el parámetro de página deseada\r\n",
        "                response = requests.get(url) #Realizamos la petición correspondiente\r\n",
        "                data = response.json() #Transformamos la respuesta \r\n",
        "                if i == 1: #En la primer iteración se crea un Dataframe\r\n",
        "                    df = pd.DataFrame.from_dict(data)\r\n",
        "                else: #En el resto de iteraciones se van añadiendo los nuevos registros\r\n",
        "                    df = df.append(pd.DataFrame.from_dict(data),ignore_index=True) \r\n",
        "            return df # Finalmente se devuelve el Dataframe con todos los registros\r\n",
        "        else: #Si la petición no se ejecutó correctamente mandamos un mensaje con el error devuelto\r\n",
        "            return 'Error de petición: '+str(response.status_code)  \r\n",
        "    else: #Si los argumentos no son de tipo str regresamos un mensaje\r\n",
        "        return 'Por favor coloque un argumento válido en formato string.'\r\n",
        "  "
      ],
      "execution_count": 27,
      "outputs": []
    },
    {
      "cell_type": "markdown",
      "metadata": {
        "id": "67EMgm9mR-IS"
      },
      "source": [
        "Veamos a la función en acción:"
      ]
    },
    {
      "cell_type": "code",
      "metadata": {
        "colab": {
          "base_uri": "https://localhost:8080/",
          "height": 36
        },
        "id": "wDyM0e5AR8w8",
        "outputId": "35fb11de-1def-4d42-afd6-533045ee772e"
      },
      "source": [
        "PandaScore_get('lol',1)"
      ],
      "execution_count": 31,
      "outputs": [
        {
          "output_type": "execute_result",
          "data": {
            "application/vnd.google.colaboratory.intrinsic+json": {
              "type": "string"
            },
            "text/plain": [
              "'Por favor coloque un argumento válido en formato string.'"
            ]
          },
          "metadata": {
            "tags": []
          },
          "execution_count": 31
        }
      ]
    },
    {
      "cell_type": "code",
      "metadata": {
        "colab": {
          "base_uri": "https://localhost:8080/",
          "height": 36
        },
        "id": "UcdN1ZBYSD3S",
        "outputId": "f00f6008-05a8-4b16-f039-0d92c7ffc41e"
      },
      "source": [
        "PandaScore_get('lol','matchs')"
      ],
      "execution_count": 32,
      "outputs": [
        {
          "output_type": "execute_result",
          "data": {
            "application/vnd.google.colaboratory.intrinsic+json": {
              "type": "string"
            },
            "text/plain": [
              "'Error de petición: 404'"
            ]
          },
          "metadata": {
            "tags": []
          },
          "execution_count": 32
        }
      ]
    },
    {
      "cell_type": "markdown",
      "metadata": {
        "id": "0MprJj84SINZ"
      },
      "source": [
        "Si los argumentos son correctos se nos devolverá el Dataframe correspondiente, el tiempo de ejecución varia dependiendo de la información solicitada, en el caso de los enfrentamientos tenemos 18694 registros, por lo que la función tomará un par de minutos al solo poder realizar 100 peticiones, en general consumiriamos 187 de nuestros 1000 intentos por hora:"
      ]
    },
    {
      "cell_type": "code",
      "metadata": {
        "id": "mZL5CKyCO5Sn"
      },
      "source": [
        "df_matches = PandaScore_get('lol','matches')"
      ],
      "execution_count": null,
      "outputs": []
    },
    {
      "cell_type": "markdown",
      "metadata": {
        "id": "-E_ZDCtzSyk3"
      },
      "source": [
        "Observemos el Dataframe que se nos devuelve:"
      ]
    },
    {
      "cell_type": "code",
      "metadata": {
        "colab": {
          "base_uri": "https://localhost:8080/",
          "height": 1000
        },
        "id": "VM_2DD-qQbIl",
        "outputId": "a64f1382-e0d4-475e-cc0f-21c2ccf749a4"
      },
      "source": [
        "df_matches"
      ],
      "execution_count": 42,
      "outputs": [
        {
          "output_type": "execute_result",
          "data": {
            "text/html": [
              "<div>\n",
              "<style scoped>\n",
              "    .dataframe tbody tr th:only-of-type {\n",
              "        vertical-align: middle;\n",
              "    }\n",
              "\n",
              "    .dataframe tbody tr th {\n",
              "        vertical-align: top;\n",
              "    }\n",
              "\n",
              "    .dataframe thead th {\n",
              "        text-align: right;\n",
              "    }\n",
              "</style>\n",
              "<table border=\"1\" class=\"dataframe\">\n",
              "  <thead>\n",
              "    <tr style=\"text-align: right;\">\n",
              "      <th></th>\n",
              "      <th>forfeit</th>\n",
              "      <th>number_of_games</th>\n",
              "      <th>name</th>\n",
              "      <th>slug</th>\n",
              "      <th>videogame</th>\n",
              "      <th>begin_at</th>\n",
              "      <th>tournament</th>\n",
              "      <th>streams</th>\n",
              "      <th>results</th>\n",
              "      <th>winner_id</th>\n",
              "      <th>modified_at</th>\n",
              "      <th>league</th>\n",
              "      <th>official_stream_url</th>\n",
              "      <th>draw</th>\n",
              "      <th>winner</th>\n",
              "      <th>games</th>\n",
              "      <th>league_id</th>\n",
              "      <th>live_embed_url</th>\n",
              "      <th>videogame_version</th>\n",
              "      <th>status</th>\n",
              "      <th>game_advantage</th>\n",
              "      <th>serie_id</th>\n",
              "      <th>tournament_id</th>\n",
              "      <th>scheduled_at</th>\n",
              "      <th>id</th>\n",
              "      <th>serie</th>\n",
              "      <th>match_type</th>\n",
              "      <th>end_at</th>\n",
              "      <th>original_scheduled_at</th>\n",
              "      <th>detailed_stats</th>\n",
              "      <th>rescheduled</th>\n",
              "      <th>opponents</th>\n",
              "      <th>live</th>\n",
              "    </tr>\n",
              "  </thead>\n",
              "  <tbody>\n",
              "    <tr>\n",
              "      <th>0</th>\n",
              "      <td>False</td>\n",
              "      <td>5</td>\n",
              "      <td>Round 3: TBD vs TBD</td>\n",
              "      <td>2021-03-11-c3b8c131-fac1-4b71-b339-f1d0387914a6</td>\n",
              "      <td>{'id': 1, 'name': 'LoL', 'slug': 'league-of-le...</td>\n",
              "      <td>2021-03-11T17:00:00Z</td>\n",
              "      <td>{'begin_at': '2021-03-09T17:00:00Z', 'end_at':...</td>\n",
              "      <td>{'english': {'embed_url': None, 'raw_url': Non...</td>\n",
              "      <td>[]</td>\n",
              "      <td>NaN</td>\n",
              "      <td>2021-03-07T20:20:32Z</td>\n",
              "      <td>{'id': 4302, 'image_url': 'https://cdn.pandasc...</td>\n",
              "      <td>None</td>\n",
              "      <td>False</td>\n",
              "      <td>None</td>\n",
              "      <td>[{'begin_at': None, 'complete': False, 'detail...</td>\n",
              "      <td>4302</td>\n",
              "      <td>None</td>\n",
              "      <td>None</td>\n",
              "      <td>not_started</td>\n",
              "      <td>None</td>\n",
              "      <td>3254</td>\n",
              "      <td>5649</td>\n",
              "      <td>2021-03-11T17:00:00Z</td>\n",
              "      <td>586007</td>\n",
              "      <td>{'begin_at': '2021-01-19T17:00:00Z', 'descript...</td>\n",
              "      <td>best_of</td>\n",
              "      <td>None</td>\n",
              "      <td>2021-03-11T17:00:00Z</td>\n",
              "      <td>True</td>\n",
              "      <td>False</td>\n",
              "      <td>[]</td>\n",
              "      <td>{'opens_at': None, 'supported': False, 'url': ...</td>\n",
              "    </tr>\n",
              "    <tr>\n",
              "      <th>1</th>\n",
              "      <td>False</td>\n",
              "      <td>3</td>\n",
              "      <td>Round 2 Match 2: MOUZ vs BIG</td>\n",
              "      <td>mousesports-vs-berlin-international-gaming-202...</td>\n",
              "      <td>{'id': 1, 'name': 'LoL', 'slug': 'league-of-le...</td>\n",
              "      <td>2021-03-10T20:00:00Z</td>\n",
              "      <td>{'begin_at': '2021-03-09T17:00:00Z', 'end_at':...</td>\n",
              "      <td>{'english': {'embed_url': None, 'raw_url': Non...</td>\n",
              "      <td>[{'score': 0, 'team_id': 16}, {'score': 0, 'te...</td>\n",
              "      <td>NaN</td>\n",
              "      <td>2021-03-07T20:19:53Z</td>\n",
              "      <td>{'id': 4302, 'image_url': 'https://cdn.pandasc...</td>\n",
              "      <td>None</td>\n",
              "      <td>False</td>\n",
              "      <td>None</td>\n",
              "      <td>[{'begin_at': None, 'complete': False, 'detail...</td>\n",
              "      <td>4302</td>\n",
              "      <td>None</td>\n",
              "      <td>None</td>\n",
              "      <td>not_started</td>\n",
              "      <td>None</td>\n",
              "      <td>3254</td>\n",
              "      <td>5649</td>\n",
              "      <td>2021-03-10T20:00:00Z</td>\n",
              "      <td>586006</td>\n",
              "      <td>{'begin_at': '2021-01-19T17:00:00Z', 'descript...</td>\n",
              "      <td>best_of</td>\n",
              "      <td>None</td>\n",
              "      <td>2021-03-10T20:00:00Z</td>\n",
              "      <td>True</td>\n",
              "      <td>False</td>\n",
              "      <td>[{'opponent': {'acronym': 'MOUZ', 'id': 16, 'i...</td>\n",
              "      <td>{'opens_at': None, 'supported': False, 'url': ...</td>\n",
              "    </tr>\n",
              "    <tr>\n",
              "      <th>2</th>\n",
              "      <td>False</td>\n",
              "      <td>3</td>\n",
              "      <td>Round 2 Match 1: TBD vs TBD</td>\n",
              "      <td>2021-03-10-7412caf0-3f45-40e1-b763-80d005a04162</td>\n",
              "      <td>{'id': 1, 'name': 'LoL', 'slug': 'league-of-le...</td>\n",
              "      <td>2021-03-10T17:00:00Z</td>\n",
              "      <td>{'begin_at': '2021-03-09T17:00:00Z', 'end_at':...</td>\n",
              "      <td>{'english': {'embed_url': None, 'raw_url': Non...</td>\n",
              "      <td>[]</td>\n",
              "      <td>NaN</td>\n",
              "      <td>2021-03-07T20:19:33Z</td>\n",
              "      <td>{'id': 4302, 'image_url': 'https://cdn.pandasc...</td>\n",
              "      <td>None</td>\n",
              "      <td>False</td>\n",
              "      <td>None</td>\n",
              "      <td>[{'begin_at': None, 'complete': False, 'detail...</td>\n",
              "      <td>4302</td>\n",
              "      <td>None</td>\n",
              "      <td>None</td>\n",
              "      <td>not_started</td>\n",
              "      <td>None</td>\n",
              "      <td>3254</td>\n",
              "      <td>5649</td>\n",
              "      <td>2021-03-10T17:00:00Z</td>\n",
              "      <td>586005</td>\n",
              "      <td>{'begin_at': '2021-01-19T17:00:00Z', 'descript...</td>\n",
              "      <td>best_of</td>\n",
              "      <td>None</td>\n",
              "      <td>2021-03-10T17:00:00Z</td>\n",
              "      <td>True</td>\n",
              "      <td>False</td>\n",
              "      <td>[]</td>\n",
              "      <td>{'opens_at': None, 'supported': False, 'url': ...</td>\n",
              "    </tr>\n",
              "    <tr>\n",
              "      <th>3</th>\n",
              "      <td>False</td>\n",
              "      <td>3</td>\n",
              "      <td>Round 1 Match 2: SKP vs S04.E</td>\n",
              "      <td>sk-gaming-prime-vs-fc-schalke-04-evolution-202...</td>\n",
              "      <td>{'id': 1, 'name': 'LoL', 'slug': 'league-of-le...</td>\n",
              "      <td>2021-03-09T20:00:00Z</td>\n",
              "      <td>{'begin_at': '2021-03-09T17:00:00Z', 'end_at':...</td>\n",
              "      <td>{'english': {'embed_url': None, 'raw_url': Non...</td>\n",
              "      <td>[{'score': 0, 'team_id': 247}, {'score': 0, 't...</td>\n",
              "      <td>NaN</td>\n",
              "      <td>2021-03-07T20:18:12Z</td>\n",
              "      <td>{'id': 4302, 'image_url': 'https://cdn.pandasc...</td>\n",
              "      <td>None</td>\n",
              "      <td>False</td>\n",
              "      <td>None</td>\n",
              "      <td>[{'begin_at': None, 'complete': False, 'detail...</td>\n",
              "      <td>4302</td>\n",
              "      <td>None</td>\n",
              "      <td>None</td>\n",
              "      <td>not_started</td>\n",
              "      <td>None</td>\n",
              "      <td>3254</td>\n",
              "      <td>5649</td>\n",
              "      <td>2021-03-09T20:00:00Z</td>\n",
              "      <td>586004</td>\n",
              "      <td>{'begin_at': '2021-01-19T17:00:00Z', 'descript...</td>\n",
              "      <td>best_of</td>\n",
              "      <td>None</td>\n",
              "      <td>2021-03-09T20:00:00Z</td>\n",
              "      <td>True</td>\n",
              "      <td>False</td>\n",
              "      <td>[{'opponent': {'acronym': 'SKP', 'id': 247, 'i...</td>\n",
              "      <td>{'opens_at': None, 'supported': False, 'url': ...</td>\n",
              "    </tr>\n",
              "    <tr>\n",
              "      <th>4</th>\n",
              "      <td>False</td>\n",
              "      <td>3</td>\n",
              "      <td>Round 1 Match 1: GL vs USE</td>\n",
              "      <td>team-gamerlegion-vs-unicorns-of-love-sexy-edit...</td>\n",
              "      <td>{'id': 1, 'name': 'LoL', 'slug': 'league-of-le...</td>\n",
              "      <td>2021-03-09T17:00:00Z</td>\n",
              "      <td>{'begin_at': '2021-03-09T17:00:00Z', 'end_at':...</td>\n",
              "      <td>{'english': {'embed_url': None, 'raw_url': Non...</td>\n",
              "      <td>[{'score': 0, 'team_id': 126830}, {'score': 0,...</td>\n",
              "      <td>NaN</td>\n",
              "      <td>2021-03-07T20:17:44Z</td>\n",
              "      <td>{'id': 4302, 'image_url': 'https://cdn.pandasc...</td>\n",
              "      <td>None</td>\n",
              "      <td>False</td>\n",
              "      <td>None</td>\n",
              "      <td>[{'begin_at': None, 'complete': False, 'detail...</td>\n",
              "      <td>4302</td>\n",
              "      <td>None</td>\n",
              "      <td>None</td>\n",
              "      <td>not_started</td>\n",
              "      <td>None</td>\n",
              "      <td>3254</td>\n",
              "      <td>5649</td>\n",
              "      <td>2021-03-09T17:00:00Z</td>\n",
              "      <td>586003</td>\n",
              "      <td>{'begin_at': '2021-01-19T17:00:00Z', 'descript...</td>\n",
              "      <td>best_of</td>\n",
              "      <td>None</td>\n",
              "      <td>2021-03-09T17:00:00Z</td>\n",
              "      <td>True</td>\n",
              "      <td>False</td>\n",
              "      <td>[{'opponent': {'acronym': 'GL', 'id': 126830, ...</td>\n",
              "      <td>{'opens_at': None, 'supported': False, 'url': ...</td>\n",
              "    </tr>\n",
              "    <tr>\n",
              "      <th>...</th>\n",
              "      <td>...</td>\n",
              "      <td>...</td>\n",
              "      <td>...</td>\n",
              "      <td>...</td>\n",
              "      <td>...</td>\n",
              "      <td>...</td>\n",
              "      <td>...</td>\n",
              "      <td>...</td>\n",
              "      <td>...</td>\n",
              "      <td>...</td>\n",
              "      <td>...</td>\n",
              "      <td>...</td>\n",
              "      <td>...</td>\n",
              "      <td>...</td>\n",
              "      <td>...</td>\n",
              "      <td>...</td>\n",
              "      <td>...</td>\n",
              "      <td>...</td>\n",
              "      <td>...</td>\n",
              "      <td>...</td>\n",
              "      <td>...</td>\n",
              "      <td>...</td>\n",
              "      <td>...</td>\n",
              "      <td>...</td>\n",
              "      <td>...</td>\n",
              "      <td>...</td>\n",
              "      <td>...</td>\n",
              "      <td>...</td>\n",
              "      <td>...</td>\n",
              "      <td>...</td>\n",
              "      <td>...</td>\n",
              "      <td>...</td>\n",
              "      <td>...</td>\n",
              "    </tr>\n",
              "    <tr>\n",
              "      <th>18689</th>\n",
              "      <td>False</td>\n",
              "      <td>1</td>\n",
              "      <td>DIG vs C9</td>\n",
              "      <td>dignitas-vs-cloud9-2015-05-31</td>\n",
              "      <td>{'id': 1, 'name': 'LoL', 'slug': 'league-of-le...</td>\n",
              "      <td>2015-05-31T20:09:51Z</td>\n",
              "      <td>{'begin_at': '2015-05-30T19:00:00Z', 'end_at':...</td>\n",
              "      <td>{'english': {'embed_url': None, 'raw_url': Non...</td>\n",
              "      <td>[{'score': 1, 'team_id': 384}, {'score': 0, 't...</td>\n",
              "      <td>384.0</td>\n",
              "      <td>2018-12-09T12:33:21Z</td>\n",
              "      <td>{'id': 289, 'image_url': 'https://cdn.pandasco...</td>\n",
              "      <td>None</td>\n",
              "      <td>False</td>\n",
              "      <td>{'acronym': 'DIG', 'id': 384, 'image_url': 'ht...</td>\n",
              "      <td>[{'begin_at': '2015-05-31T20:09:51Z', 'complet...</td>\n",
              "      <td>289</td>\n",
              "      <td>None</td>\n",
              "      <td>{'current': False, 'name': '5.8.1'}</td>\n",
              "      <td>finished</td>\n",
              "      <td>None</td>\n",
              "      <td>31</td>\n",
              "      <td>1</td>\n",
              "      <td>2015-05-31T20:00:00Z</td>\n",
              "      <td>7</td>\n",
              "      <td>{'begin_at': '2015-04-26T00:00:00Z', 'descript...</td>\n",
              "      <td>best_of</td>\n",
              "      <td>2015-05-31T20:43:55Z</td>\n",
              "      <td>None</td>\n",
              "      <td>True</td>\n",
              "      <td>False</td>\n",
              "      <td>[{'opponent': {'acronym': 'DIG', 'id': 384, 'i...</td>\n",
              "      <td>{'opens_at': None, 'supported': False, 'url': ...</td>\n",
              "    </tr>\n",
              "    <tr>\n",
              "      <th>18690</th>\n",
              "      <td>False</td>\n",
              "      <td>1</td>\n",
              "      <td>T8 vs TL</td>\n",
              "      <td>team-8-vs-team-liquid-2015-05-31</td>\n",
              "      <td>{'id': 1, 'name': 'LoL', 'slug': 'league-of-le...</td>\n",
              "      <td>2015-05-31T18:22:58Z</td>\n",
              "      <td>{'begin_at': '2015-05-30T19:00:00Z', 'end_at':...</td>\n",
              "      <td>{'english': {'embed_url': None, 'raw_url': Non...</td>\n",
              "      <td>[{'score': 0, 'team_id': 6}, {'score': 1, 'tea...</td>\n",
              "      <td>390.0</td>\n",
              "      <td>2018-12-09T12:33:19Z</td>\n",
              "      <td>{'id': 289, 'image_url': 'https://cdn.pandasco...</td>\n",
              "      <td>None</td>\n",
              "      <td>False</td>\n",
              "      <td>{'acronym': 'TL', 'id': 390, 'image_url': 'htt...</td>\n",
              "      <td>[{'begin_at': '2015-05-31T18:22:58Z', 'complet...</td>\n",
              "      <td>289</td>\n",
              "      <td>None</td>\n",
              "      <td>{'current': False, 'name': '5.8.1'}</td>\n",
              "      <td>finished</td>\n",
              "      <td>None</td>\n",
              "      <td>31</td>\n",
              "      <td>1</td>\n",
              "      <td>2015-05-31T18:00:00Z</td>\n",
              "      <td>6</td>\n",
              "      <td>{'begin_at': '2015-04-26T00:00:00Z', 'descript...</td>\n",
              "      <td>best_of</td>\n",
              "      <td>2015-05-31T19:04:18Z</td>\n",
              "      <td>None</td>\n",
              "      <td>True</td>\n",
              "      <td>False</td>\n",
              "      <td>[{'opponent': {'acronym': 'T8', 'id': 6, 'imag...</td>\n",
              "      <td>{'opens_at': None, 'supported': False, 'url': ...</td>\n",
              "    </tr>\n",
              "    <tr>\n",
              "      <th>18691</th>\n",
              "      <td>False</td>\n",
              "      <td>1</td>\n",
              "      <td>GV vs NME</td>\n",
              "      <td>gravity-vs-enemy-2015-05-31</td>\n",
              "      <td>{'id': 1, 'name': 'LoL', 'slug': 'league-of-le...</td>\n",
              "      <td>2015-05-30T23:23:25Z</td>\n",
              "      <td>{'begin_at': '2015-05-30T19:00:00Z', 'end_at':...</td>\n",
              "      <td>{'english': {'embed_url': None, 'raw_url': Non...</td>\n",
              "      <td>[{'score': 0, 'team_id': 9}, {'score': 1, 'tea...</td>\n",
              "      <td>10.0</td>\n",
              "      <td>2018-12-09T12:33:16Z</td>\n",
              "      <td>{'id': 289, 'image_url': 'https://cdn.pandasco...</td>\n",
              "      <td>None</td>\n",
              "      <td>False</td>\n",
              "      <td>{'acronym': 'NME', 'id': 10, 'image_url': 'htt...</td>\n",
              "      <td>[{'begin_at': '2015-05-30T23:23:25Z', 'complet...</td>\n",
              "      <td>289</td>\n",
              "      <td>None</td>\n",
              "      <td>{'current': False, 'name': '5.8.1'}</td>\n",
              "      <td>finished</td>\n",
              "      <td>None</td>\n",
              "      <td>31</td>\n",
              "      <td>1</td>\n",
              "      <td>2015-05-30T23:00:00Z</td>\n",
              "      <td>5</td>\n",
              "      <td>{'begin_at': '2015-04-26T00:00:00Z', 'descript...</td>\n",
              "      <td>best_of</td>\n",
              "      <td>2015-05-31T00:06:10Z</td>\n",
              "      <td>None</td>\n",
              "      <td>True</td>\n",
              "      <td>False</td>\n",
              "      <td>[{'opponent': {'acronym': 'GV', 'id': 9, 'imag...</td>\n",
              "      <td>{'opens_at': None, 'supported': False, 'url': ...</td>\n",
              "    </tr>\n",
              "    <tr>\n",
              "      <th>18692</th>\n",
              "      <td>False</td>\n",
              "      <td>1</td>\n",
              "      <td>T8 vs TIP</td>\n",
              "      <td>team-8-vs-impulse-2015-05-31</td>\n",
              "      <td>{'id': 1, 'name': 'LoL', 'slug': 'league-of-le...</td>\n",
              "      <td>2015-05-30T22:23:32Z</td>\n",
              "      <td>{'begin_at': '2015-05-30T19:00:00Z', 'end_at':...</td>\n",
              "      <td>{'english': {'embed_url': None, 'raw_url': Non...</td>\n",
              "      <td>[{'score': 0, 'team_id': 6}, {'score': 1, 'tea...</td>\n",
              "      <td>385.0</td>\n",
              "      <td>2018-12-09T12:33:14Z</td>\n",
              "      <td>{'id': 289, 'image_url': 'https://cdn.pandasco...</td>\n",
              "      <td>None</td>\n",
              "      <td>False</td>\n",
              "      <td>{'acronym': 'TIP', 'id': 385, 'image_url': 'ht...</td>\n",
              "      <td>[{'begin_at': '2015-05-30T22:23:32Z', 'complet...</td>\n",
              "      <td>289</td>\n",
              "      <td>None</td>\n",
              "      <td>{'current': False, 'name': '5.8.1'}</td>\n",
              "      <td>finished</td>\n",
              "      <td>None</td>\n",
              "      <td>31</td>\n",
              "      <td>1</td>\n",
              "      <td>2015-05-30T22:00:00Z</td>\n",
              "      <td>4</td>\n",
              "      <td>{'begin_at': '2015-04-26T00:00:00Z', 'descript...</td>\n",
              "      <td>best_of</td>\n",
              "      <td>2015-05-30T22:56:32Z</td>\n",
              "      <td>None</td>\n",
              "      <td>True</td>\n",
              "      <td>False</td>\n",
              "      <td>[{'opponent': {'acronym': 'T8', 'id': 6, 'imag...</td>\n",
              "      <td>{'opens_at': None, 'supported': False, 'url': ...</td>\n",
              "    </tr>\n",
              "    <tr>\n",
              "      <th>18693</th>\n",
              "      <td>False</td>\n",
              "      <td>1</td>\n",
              "      <td>TL vs TDK</td>\n",
              "      <td>team-liquid-vs-dragon-knights-2015-05-30</td>\n",
              "      <td>{'id': 1, 'name': 'LoL', 'slug': 'league-of-le...</td>\n",
              "      <td>2015-05-30T20:11:29Z</td>\n",
              "      <td>{'begin_at': '2015-05-30T19:00:00Z', 'end_at':...</td>\n",
              "      <td>{'english': {'embed_url': None, 'raw_url': Non...</td>\n",
              "      <td>[{'score': 1, 'team_id': 390}, {'score': 0, 't...</td>\n",
              "      <td>390.0</td>\n",
              "      <td>2018-12-09T12:33:10Z</td>\n",
              "      <td>{'id': 289, 'image_url': 'https://cdn.pandasco...</td>\n",
              "      <td>None</td>\n",
              "      <td>False</td>\n",
              "      <td>{'acronym': 'TL', 'id': 390, 'image_url': 'htt...</td>\n",
              "      <td>[{'begin_at': '2015-05-30T20:11:29Z', 'complet...</td>\n",
              "      <td>289</td>\n",
              "      <td>None</td>\n",
              "      <td>{'current': False, 'name': '5.9.1'}</td>\n",
              "      <td>finished</td>\n",
              "      <td>None</td>\n",
              "      <td>31</td>\n",
              "      <td>1</td>\n",
              "      <td>2015-05-30T20:00:00Z</td>\n",
              "      <td>2</td>\n",
              "      <td>{'begin_at': '2015-04-26T00:00:00Z', 'descript...</td>\n",
              "      <td>best_of</td>\n",
              "      <td>2015-05-30T20:55:10Z</td>\n",
              "      <td>None</td>\n",
              "      <td>True</td>\n",
              "      <td>False</td>\n",
              "      <td>[{'opponent': {'acronym': 'TL', 'id': 390, 'im...</td>\n",
              "      <td>{'opens_at': None, 'supported': False, 'url': ...</td>\n",
              "    </tr>\n",
              "  </tbody>\n",
              "</table>\n",
              "<p>18694 rows × 33 columns</p>\n",
              "</div>"
            ],
            "text/plain": [
              "       forfeit  ...                                               live\n",
              "0        False  ...  {'opens_at': None, 'supported': False, 'url': ...\n",
              "1        False  ...  {'opens_at': None, 'supported': False, 'url': ...\n",
              "2        False  ...  {'opens_at': None, 'supported': False, 'url': ...\n",
              "3        False  ...  {'opens_at': None, 'supported': False, 'url': ...\n",
              "4        False  ...  {'opens_at': None, 'supported': False, 'url': ...\n",
              "...        ...  ...                                                ...\n",
              "18689    False  ...  {'opens_at': None, 'supported': False, 'url': ...\n",
              "18690    False  ...  {'opens_at': None, 'supported': False, 'url': ...\n",
              "18691    False  ...  {'opens_at': None, 'supported': False, 'url': ...\n",
              "18692    False  ...  {'opens_at': None, 'supported': False, 'url': ...\n",
              "18693    False  ...  {'opens_at': None, 'supported': False, 'url': ...\n",
              "\n",
              "[18694 rows x 33 columns]"
            ]
          },
          "metadata": {
            "tags": []
          },
          "execution_count": 42
        }
      ]
    },
    {
      "cell_type": "markdown",
      "metadata": {
        "id": "WG9OMsXoS8Si"
      },
      "source": [
        "Veamos las columnas y tipos de datos:"
      ]
    },
    {
      "cell_type": "code",
      "metadata": {
        "colab": {
          "base_uri": "https://localhost:8080/"
        },
        "id": "zeb_pSaDS-I4",
        "outputId": "6cb0cf5b-c809-4dd6-89a1-510f2b9ca723"
      },
      "source": [
        "df_matches.info()"
      ],
      "execution_count": 34,
      "outputs": [
        {
          "output_type": "stream",
          "text": [
            "<class 'pandas.core.frame.DataFrame'>\n",
            "RangeIndex: 18694 entries, 0 to 18693\n",
            "Data columns (total 33 columns):\n",
            " #   Column                 Non-Null Count  Dtype  \n",
            "---  ------                 --------------  -----  \n",
            " 0   forfeit                18694 non-null  bool   \n",
            " 1   number_of_games        18694 non-null  int64  \n",
            " 2   name                   18694 non-null  object \n",
            " 3   slug                   18694 non-null  object \n",
            " 4   videogame              18694 non-null  object \n",
            " 5   begin_at               18662 non-null  object \n",
            " 6   tournament             18694 non-null  object \n",
            " 7   streams                18694 non-null  object \n",
            " 8   results                18694 non-null  object \n",
            " 9   winner_id              17758 non-null  float64\n",
            " 10  modified_at            18694 non-null  object \n",
            " 11  league                 18694 non-null  object \n",
            " 12  official_stream_url    10896 non-null  object \n",
            " 13  draw                   18694 non-null  bool   \n",
            " 14  winner                 17758 non-null  object \n",
            " 15  games                  18694 non-null  object \n",
            " 16  league_id              18694 non-null  int64  \n",
            " 17  live_embed_url         9340 non-null   object \n",
            " 18  videogame_version      17813 non-null  object \n",
            " 19  status                 18694 non-null  object \n",
            " 20  game_advantage         11 non-null     object \n",
            " 21  serie_id               18694 non-null  int64  \n",
            " 22  tournament_id          18694 non-null  int64  \n",
            " 23  scheduled_at           18694 non-null  object \n",
            " 24  id                     18694 non-null  int64  \n",
            " 25  serie                  18694 non-null  object \n",
            " 26  match_type             18694 non-null  object \n",
            " 27  end_at                 18123 non-null  object \n",
            " 28  original_scheduled_at  15786 non-null  object \n",
            " 29  detailed_stats         18694 non-null  bool   \n",
            " 30  rescheduled            18694 non-null  bool   \n",
            " 31  opponents              18694 non-null  object \n",
            " 32  live                   18694 non-null  object \n",
            "dtypes: bool(4), float64(1), int64(5), object(23)\n",
            "memory usage: 4.2+ MB\n"
          ],
          "name": "stdout"
        }
      ]
    },
    {
      "cell_type": "markdown",
      "metadata": {
        "id": "zBNXjqIxUL6f"
      },
      "source": [
        "Como podemos ver tenemos 33 columnas, un número considerable, observemos que contienen algunas y si nos son de utilidad. Empecemos por los campos que contienen listas:"
      ]
    },
    {
      "cell_type": "code",
      "metadata": {
        "colab": {
          "base_uri": "https://localhost:8080/"
        },
        "id": "KMiYFDV0UHZ-",
        "outputId": "6d8fdafc-25b6-4e61-cd2f-3f73d9c36113"
      },
      "source": [
        "df_matches['videogame'][0] "
      ],
      "execution_count": 44,
      "outputs": [
        {
          "output_type": "execute_result",
          "data": {
            "text/plain": [
              "{'id': 1, 'name': 'LoL', 'slug': 'league-of-legends'}"
            ]
          },
          "metadata": {
            "tags": []
          },
          "execution_count": 44
        }
      ]
    },
    {
      "cell_type": "markdown",
      "metadata": {
        "id": "P1ONUJEAUgNc"
      },
      "source": [
        "El campo _videogame_ puede que haya sido de utilidad para la API al momento de regresarnos una respuesta, sin embargo, es  redundante para nosotros."
      ]
    },
    {
      "cell_type": "code",
      "metadata": {
        "colab": {
          "base_uri": "https://localhost:8080/"
        },
        "id": "L1Q0BNSXVZiC",
        "outputId": "c1e6a516-53e2-4b0d-bdd8-380c54cbb861"
      },
      "source": [
        "df_matches['streams'][0]"
      ],
      "execution_count": 48,
      "outputs": [
        {
          "output_type": "execute_result",
          "data": {
            "text/plain": [
              "{'english': {'embed_url': None, 'raw_url': None},\n",
              " 'official': {'embed_url': None, 'raw_url': None},\n",
              " 'russian': {'embed_url': None, 'raw_url': None}}"
            ]
          },
          "metadata": {
            "tags": []
          },
          "execution_count": 48
        }
      ]
    },
    {
      "cell_type": "code",
      "metadata": {
        "colab": {
          "base_uri": "https://localhost:8080/"
        },
        "id": "8fsygqkFUrBP",
        "outputId": "2ceaa977-f93c-4f13-a368-eebe7566c161"
      },
      "source": [
        "df_matches['streams'][300]"
      ],
      "execution_count": 47,
      "outputs": [
        {
          "output_type": "execute_result",
          "data": {
            "text/plain": [
              "{'english': {'embed_url': None, 'raw_url': None},\n",
              " 'official': {'embed_url': 'https://player.twitch.tv/?channel=riotgamesru',\n",
              "  'raw_url': 'https://www.twitch.tv/riotgamesru'},\n",
              " 'russian': {'embed_url': 'https://player.twitch.tv/?channel=riotgamesru',\n",
              "  'raw_url': 'https://www.twitch.tv/riotgamesru'}}"
            ]
          },
          "metadata": {
            "tags": []
          },
          "execution_count": 47
        }
      ]
    },
    {
      "cell_type": "code",
      "metadata": {
        "colab": {
          "base_uri": "https://localhost:8080/",
          "height": 36
        },
        "id": "MuVOCYl5Vetd",
        "outputId": "b2059a92-46b1-480f-ae8b-3c1661756969"
      },
      "source": [
        "df_matches.loc[300,'official_stream_url']"
      ],
      "execution_count": 57,
      "outputs": [
        {
          "output_type": "execute_result",
          "data": {
            "application/vnd.google.colaboratory.intrinsic+json": {
              "type": "string"
            },
            "text/plain": [
              "'https://www.twitch.tv/riotgamesru'"
            ]
          },
          "metadata": {
            "tags": []
          },
          "execution_count": 57
        }
      ]
    },
    {
      "cell_type": "markdown",
      "metadata": {
        "id": "sZt96cYIVdsR"
      },
      "source": [
        "El campo _streams_ nos regresa las direcciones URL de las transmisiones en vivo en inglés y ruso, mientras que el campo _official stream url_ nos regresa únicamente la URL del stream oficial. Creemos es mejor conservar este último campo con la dirección oficial a un campo con una lista  más difícil de manejar."
      ]
    },
    {
      "cell_type": "code",
      "metadata": {
        "colab": {
          "base_uri": "https://localhost:8080/"
        },
        "id": "XYgUkJV1WfAT",
        "outputId": "1edbac42-aa59-4ab1-de9d-45dd5d610f07"
      },
      "source": [
        "df_matches['tournament'][0]"
      ],
      "execution_count": 60,
      "outputs": [
        {
          "output_type": "execute_result",
          "data": {
            "text/plain": [
              "{'begin_at': '2021-03-09T17:00:00Z',\n",
              " 'end_at': None,\n",
              " 'id': 5649,\n",
              " 'league_id': 4302,\n",
              " 'live_supported': False,\n",
              " 'modified_at': '2021-03-08T14:50:51Z',\n",
              " 'name': 'Playoffs',\n",
              " 'prizepool': None,\n",
              " 'serie_id': 3254,\n",
              " 'slug': 'league-of-legends-prime-league-pro-division-spring-2021-playoffs',\n",
              " 'winner_id': None,\n",
              " 'winner_type': 'Team'}"
            ]
          },
          "metadata": {
            "tags": []
          },
          "execution_count": 60
        }
      ]
    },
    {
      "cell_type": "markdown",
      "metadata": {
        "id": "6opyqffxW_B1"
      },
      "source": [
        "El campo _tournament_ nos devuelve el torneo correspondiente. Sin embargo, contamos con el _tournament id_, y podemos realizar peticiones de torneos si lo deseamos, por lo que de ser necesario podriamos realizar un **join** y observar a que torneo corresponde cada enfrentamiento. "
      ]
    },
    {
      "cell_type": "code",
      "metadata": {
        "colab": {
          "base_uri": "https://localhost:8080/"
        },
        "id": "XOSwO8eZXtjv",
        "outputId": "c12507be-a857-4cd2-8ff1-38b79b18c03d"
      },
      "source": [
        "df_matches['modified_at'].head() "
      ],
      "execution_count": 65,
      "outputs": [
        {
          "output_type": "execute_result",
          "data": {
            "text/plain": [
              "0    2021-03-07T20:20:32Z\n",
              "1    2021-03-07T20:19:53Z\n",
              "2    2021-03-07T20:19:33Z\n",
              "3    2021-03-07T20:18:12Z\n",
              "4    2021-03-07T20:17:44Z\n",
              "Name: modified_at, dtype: object"
            ]
          },
          "metadata": {
            "tags": []
          },
          "execution_count": 65
        }
      ]
    },
    {
      "cell_type": "markdown",
      "metadata": {
        "id": "G8P1tSsQX_A0"
      },
      "source": [
        "La última fecha de modificación respecto a la API no nos resulta útil del todo a nosotros."
      ]
    },
    {
      "cell_type": "code",
      "metadata": {
        "colab": {
          "base_uri": "https://localhost:8080/"
        },
        "id": "3IQ59pfoYM83",
        "outputId": "f259b360-5878-4f16-be4a-c5f7cd0e3a10"
      },
      "source": [
        "df_matches['league'][0]"
      ],
      "execution_count": 66,
      "outputs": [
        {
          "output_type": "execute_result",
          "data": {
            "text/plain": [
              "{'id': 4302,\n",
              " 'image_url': 'https://cdn.pandascore.co/images/league/image/4302/220px-Prime_Leaguelogo_square.png',\n",
              " 'modified_at': '2020-01-20T16:20:40Z',\n",
              " 'name': 'Prime League Pro Division',\n",
              " 'slug': 'league-of-legends-prime-league-pro-division',\n",
              " 'url': 'https://www.primeleague.gg/de/start'}"
            ]
          },
          "metadata": {
            "tags": []
          },
          "execution_count": 66
        }
      ]
    },
    {
      "cell_type": "markdown",
      "metadata": {
        "id": "GByRm3r8YXVC"
      },
      "source": [
        "Mismo caso que con los torneos, si convservamos el _league id_ no deberiamos tener problemas."
      ]
    },
    {
      "cell_type": "code",
      "metadata": {
        "colab": {
          "base_uri": "https://localhost:8080/"
        },
        "id": "YVR6Fc-dYQKS",
        "outputId": "a75aec69-2dfb-46fe-cbee-034c3605dbf6"
      },
      "source": [
        "df_matches['games'][300]"
      ],
      "execution_count": 70,
      "outputs": [
        {
          "output_type": "execute_result",
          "data": {
            "text/plain": [
              "[{'begin_at': None,\n",
              "  'complete': False,\n",
              "  'detailed_stats': True,\n",
              "  'end_at': None,\n",
              "  'finished': False,\n",
              "  'forfeit': False,\n",
              "  'id': 222685,\n",
              "  'length': None,\n",
              "  'match_id': 583283,\n",
              "  'position': 1,\n",
              "  'status': 'not_started',\n",
              "  'video_url': None,\n",
              "  'winner': {'id': None, 'type': None},\n",
              "  'winner_type': None}]"
            ]
          },
          "metadata": {
            "tags": []
          },
          "execution_count": 70
        }
      ]
    },
    {
      "cell_type": "markdown",
      "metadata": {
        "id": "Gd-9-RBkYmyz"
      },
      "source": [
        "El campo _games_ debería entregar información de cada partida en el enfrentamiento, pero en general esos datos podemos encontrarlos en otros campos que ya tenemos."
      ]
    },
    {
      "cell_type": "code",
      "metadata": {
        "id": "EHEFr5jGY1SR"
      },
      "source": [
        "df_matches.loc[300,'videogame_version']"
      ],
      "execution_count": 74,
      "outputs": []
    }
  ]
}